{
 "cells": [
  {
   "cell_type": "code",
   "execution_count": null,
   "id": "f6e88a1d",
   "metadata": {},
   "outputs": [],
   "source": [
    "import xarray as xr"
   ]
  },
  {
   "cell_type": "code",
   "execution_count": null,
   "id": "9433a453",
   "metadata": {},
   "outputs": [],
   "source": [
    "import sharrow as sh"
   ]
  },
  {
   "cell_type": "code",
   "execution_count": null,
   "id": "5fb372cb",
   "metadata": {},
   "outputs": [],
   "source": [
    "import xarray as xr\n",
    "\n",
    "\n",
    "def register_dataset_method(func):\n",
    "    @xr.register_dataset_accessor(func.__name__)\n",
    "    def wrapper(dataset):\n",
    "        def f(*args, **kwargs):\n",
    "            return func(dataset, *args, **kwargs)\n",
    "        return f\n",
    "\n"
   ]
  },
  {
   "cell_type": "code",
   "execution_count": null,
   "id": "9eef74eb",
   "metadata": {},
   "outputs": [],
   "source": [
    "@register_dataset_method\n",
    "def foody(self, n):\n",
    "    print(\"FOODY\")\n",
    "    return self"
   ]
  },
  {
   "cell_type": "code",
   "execution_count": null,
   "id": "7a3c6409",
   "metadata": {},
   "outputs": [],
   "source": [
    "@xr.register_dataset_accessor(\"construct\")\n",
    "class _ConstructAccessor:\n",
    "\n",
    "    _parent_class = xr.Dataset\n",
    "\n",
    "    def __init__(self, xarray_obj):\n",
    "        self._obj = xarray_obj\n",
    "\n",
    "    @classmethod\n",
    "    def from_omx(cls, source, *args):\n",
    "        cls = cls._parent_class\n",
    "        print(cls)\n",
    "        print(type(cls))\n",
    "        print(source)"
   ]
  },
  {
   "cell_type": "code",
   "execution_count": null,
   "id": "8c8117c3",
   "metadata": {},
   "outputs": [],
   "source": [
    "def register_dataarray_staticmethod(func):\n",
    "    return xr.register_dataarray_accessor(func.__name__)(func)\n"
   ]
  },
  {
   "cell_type": "code",
   "execution_count": null,
   "id": "89616c0b",
   "metadata": {},
   "outputs": [],
   "source": [
    "@register_dataarray_staticmethod\n",
    "def doofdd(*args):\n",
    "    for n, i in enumerate(args):\n",
    "        print(n, i)\n",
    "    return 123"
   ]
  },
  {
   "cell_type": "code",
   "execution_count": null,
   "id": "a9db05c5",
   "metadata": {},
   "outputs": [],
   "source": [
    "xr.DataArray.doofdd('a','b')"
   ]
  },
  {
   "cell_type": "code",
   "execution_count": null,
   "id": "dda632ca",
   "metadata": {},
   "outputs": [],
   "source": [
    "xr.Dataset.construct.from_omx(\"arg1\", \"arg2\")"
   ]
  },
  {
   "cell_type": "code",
   "execution_count": null,
   "id": "594f2b92",
   "metadata": {},
   "outputs": [],
   "source": [
    "xr.Dataset.construct"
   ]
  },
  {
   "cell_type": "code",
   "execution_count": null,
   "id": "82789164",
   "metadata": {},
   "outputs": [],
   "source": [
    "skims = sh.example_data.get_skims()\n",
    "skims"
   ]
  },
  {
   "cell_type": "code",
   "execution_count": null,
   "id": "c04f8ea2",
   "metadata": {},
   "outputs": [],
   "source": [
    "skims['DIST'].compute()[:3,:3]"
   ]
  },
  {
   "cell_type": "code",
   "execution_count": null,
   "id": "c37f9cf1",
   "metadata": {},
   "outputs": [],
   "source": [
    "skims.food(100).compute()[:3,:3]"
   ]
  },
  {
   "cell_type": "code",
   "execution_count": null,
   "id": "12bf5da7",
   "metadata": {},
   "outputs": [],
   "source": [
    "skims.rename_or_ignore({'dtaz': 'dfdfdf'})"
   ]
  },
  {
   "cell_type": "code",
   "execution_count": null,
   "id": "da20a5d0",
   "metadata": {},
   "outputs": [],
   "source": [
    "def gggooo():\n",
    "    print(\"hl\")"
   ]
  },
  {
   "cell_type": "code",
   "execution_count": null,
   "id": "7494bb68",
   "metadata": {},
   "outputs": [],
   "source": [
    "gggooo.__name__"
   ]
  },
  {
   "cell_type": "code",
   "execution_count": null,
   "id": "e5847e54",
   "metadata": {},
   "outputs": [],
   "source": [
    "xr.Dataset.rename_dims_and_coords = xr.Dataset.rename"
   ]
  },
  {
   "cell_type": "code",
   "execution_count": null,
   "id": "e91773d4",
   "metadata": {},
   "outputs": [],
   "source": [
    "ds = xr.Dataset(\n",
    "    dict(Aaa=xr.DataArray(np.arange(10))),\n",
    ")"
   ]
  },
  {
   "cell_type": "code",
   "execution_count": null,
   "id": "da1c0279",
   "metadata": {},
   "outputs": [],
   "source": [
    "ds = ds.assign_coords({'dim_0':np.arange(10) + 50})"
   ]
  },
  {
   "cell_type": "code",
   "execution_count": null,
   "id": "2ec5f6b1",
   "metadata": {},
   "outputs": [],
   "source": [
    "ds.shm.is_shared_memory"
   ]
  },
  {
   "cell_type": "code",
   "execution_count": null,
   "id": "6974f621",
   "metadata": {},
   "outputs": [],
   "source": [
    "q1 = ds.shm.to_shared_memory(\"qwertys\")"
   ]
  },
  {
   "cell_type": "code",
   "execution_count": null,
   "id": "502144b0",
   "metadata": {},
   "outputs": [],
   "source": [
    "q2 = xr.Dataset.shm.from_shared_memory(\"qwertys\")"
   ]
  },
  {
   "cell_type": "code",
   "execution_count": null,
   "id": "f1a332d7",
   "metadata": {},
   "outputs": [],
   "source": [
    "q1"
   ]
  },
  {
   "cell_type": "code",
   "execution_count": null,
   "id": "df98861a",
   "metadata": {},
   "outputs": [],
   "source": [
    "q2.Aaa.data[3:6] = 0"
   ]
  },
  {
   "cell_type": "code",
   "execution_count": null,
   "id": "a296cdea",
   "metadata": {},
   "outputs": [],
   "source": [
    "look = pd.DataFrame({'dim_0': [2,4]})\n",
    "look"
   ]
  },
  {
   "cell_type": "code",
   "execution_count": null,
   "id": "7cc302e8",
   "metadata": {},
   "outputs": [],
   "source": [
    "q2.iat?"
   ]
  },
  {
   "cell_type": "code",
   "execution_count": null,
   "id": "a3b2affe",
   "metadata": {},
   "outputs": [],
   "source": [
    "@xr.register_dataset_accessor(\"sh\")\n",
    "class DatasetAccessor:\n",
    "    \"\"\"\n",
    "    A multi-dimensional, in memory, array database.\n",
    "\n",
    "    A dataset consists of variables, coordinates and attributes which\n",
    "    together form a self describing dataset.\n",
    "\n",
    "    Dataset implements the mapping interface with keys given by variable\n",
    "    names and values given by DataArray objects for each variable name.\n",
    "\n",
    "    One dimensional variables with name equal to their dimension are\n",
    "    index coordinates used for label based indexing.\n",
    "\n",
    "    Parameters\n",
    "    ----------\n",
    "    data_vars : dict-like, optional\n",
    "        A mapping from variable names to :py:class:`~xarray.DataArray`\n",
    "        objects, :py:class:`~xarray.Variable` objects or to tuples of\n",
    "        the form ``(dims, data[, attrs])`` which can be used as\n",
    "        arguments to create a new ``Variable``. Each dimension must\n",
    "        have the same length in all variables in which it appears.\n",
    "\n",
    "        The following notations are accepted:\n",
    "\n",
    "        - mapping {var name: DataArray}\n",
    "        - mapping {var name: Variable}\n",
    "        - mapping {var name: (dimension name, array-like)}\n",
    "        - mapping {var name: (tuple of dimension names, array-like)}\n",
    "        - mapping {dimension name: array-like}\n",
    "          (it will be automatically moved to coords, see below)\n",
    "\n",
    "        Each dimension must have the same length in all variables in\n",
    "        which it appears.\n",
    "    coords : dict-like, optional\n",
    "        Another mapping in similar form as the `data_vars` argument,\n",
    "        except the each item is saved on the dataset as a \"coordinate\".\n",
    "        These variables have an associated meaning: they describe\n",
    "        constant/fixed/independent quantities, unlike the\n",
    "        varying/measured/dependent quantities that belong in\n",
    "        `variables`. Coordinates values may be given by 1-dimensional\n",
    "        arrays or scalars, in which case `dims` do not need to be\n",
    "        supplied: 1D arrays will be assumed to give index values along\n",
    "        the dimension with the same name.\n",
    "\n",
    "        The following notations are accepted:\n",
    "\n",
    "        - mapping {coord name: DataArray}\n",
    "        - mapping {coord name: Variable}\n",
    "        - mapping {coord name: (dimension name, array-like)}\n",
    "        - mapping {coord name: (tuple of dimension names, array-like)}\n",
    "        - mapping {dimension name: array-like}\n",
    "          (the dimension name is implicitly set to be the same as the\n",
    "          coord name)\n",
    "\n",
    "        The last notation implies that the coord name is the same as\n",
    "        the dimension name.\n",
    "\n",
    "    attrs : dict-like, optional\n",
    "        Global attributes to save on this dataset.\n",
    "    \"\"\"\n",
    "\n",
    "    # __slots__ = (\n",
    "    #     \"_shared_memory_key_\",\n",
    "    #     \"_shared_memory_objs_\",\n",
    "    #     \"_shared_memory_owned_\",\n",
    "    #     \"__global_shared_memory_pool\",\n",
    "    # )\n",
    "\n",
    "    def __init__(self, xarray_obj):\n",
    "        self._obj = xarray_obj\n",
    "        self._shared_memory_key_ = None\n",
    "        self._shared_memory_objs_ = None\n",
    "        self._shared_memory_owned_ = False\n",
    "\n",
    "    @classmethod\n",
    "    def construct(cls, source):\n",
    "        print(cls, source)\n",
    "        y = xr.Dataset(source).sh\n",
    "        return y\n",
    "\n",
    "    def __getattr__(self, key):\n",
    "        return getattr(self._obj, key)\n",
    "\n",
    "    def __getitem__(self, key):\n",
    "        return self._obj[key]\n"
   ]
  },
  {
   "cell_type": "code",
   "execution_count": null,
   "id": "3091d996",
   "metadata": {},
   "outputs": [],
   "source": [
    "z = xr.Dataset.sh.construct({'yyy':xr.DataArray(np.arange(3), dims=\"xx\")})"
   ]
  },
  {
   "cell_type": "code",
   "execution_count": null,
   "id": "fad3aba0",
   "metadata": {},
   "outputs": [],
   "source": [
    "xr.Dataset().loc"
   ]
  },
  {
   "cell_type": "code",
   "execution_count": null,
   "id": "77cbebaf",
   "metadata": {},
   "outputs": [],
   "source": [
    "z['yyy']"
   ]
  },
  {
   "cell_type": "code",
   "execution_count": null,
   "id": "e5b595ed",
   "metadata": {},
   "outputs": [],
   "source": [
    "z.yyy"
   ]
  },
  {
   "cell_type": "code",
   "execution_count": null,
   "id": "62a6c078",
   "metadata": {},
   "outputs": [],
   "source": []
  }
 ],
 "metadata": {
  "kernelspec": {
   "display_name": "Python 3 (ipykernel)",
   "language": "python",
   "name": "python3"
  },
  "language_info": {
   "codemirror_mode": {
    "name": "ipython",
    "version": 3
   },
   "file_extension": ".py",
   "mimetype": "text/x-python",
   "name": "python",
   "nbconvert_exporter": "python",
   "pygments_lexer": "ipython3",
   "version": "3.9.10"
  },
  "toc": {
   "base_numbering": 1,
   "nav_menu": {},
   "number_sections": false,
   "sideBar": true,
   "skip_h1_title": false,
   "title_cell": "Table of Contents",
   "title_sidebar": "Contents",
   "toc_cell": false,
   "toc_position": {},
   "toc_section_display": true,
   "toc_window_display": false
  }
 },
 "nbformat": 4,
 "nbformat_minor": 5
}
