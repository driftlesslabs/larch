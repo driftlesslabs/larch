{
 "cells": [
  {
   "cell_type": "code",
   "execution_count": 1,
   "id": "2d3f1da9",
   "metadata": {
    "ExecuteTime": {
     "end_time": "2022-03-08T01:14:31.398108Z",
     "start_time": "2022-03-08T01:14:25.191687Z"
    }
   },
   "outputs": [
    {
     "name": "stderr",
     "output_type": "stream",
     "text": [
      "/Users/jeffnewman/LocalGit/larix/larix/model/numbamodel.py:23: UserWarning: \n",
      "\n",
      "##### larix is experimental, and not feature-complete  #####\n",
      "the first time you import on a new system, this package will\n",
      "compile optimized binaries for your machine, which may take \n",
      "a little while, please be patient \n",
      "\n",
      "  warnings.warn( ### EXPERIMENTAL ### )\n",
      "OMP: Info #273: omp_set_nested routine deprecated, please use omp_set_max_active_levels instead.\n"
     ]
    }
   ],
   "source": [
    "from pytest import approx, fixture\n",
    "import larix as lx\n",
    "import jax.numpy as jnp\n",
    "import numpy as np\n",
    "import xarray as xr\n",
    "import jax\n",
    "\n",
    "def mtc7():\n",
    "    d = lx.examples.MTC()\n",
    "    y = d.icase[:7]\n",
    "    y['groupid'] = xr.DataArray([1,1,1,2,2,2,2], dims=d.dc.CASEID)\n",
    "    return y\n",
    "\n",
    "\n",
    "def model7():\n",
    "    d = mtc7()\n",
    "    m = lx.Model(d)\n",
    "    P, X, PX = lx.P, lx.X, lx.PX\n",
    "    m.utility_co[2] = P(\"ASC_SR2\") + P(\"hhinc#2\") * X(\"hhinc\")\n",
    "    m.utility_co[3] = P(\"ASC_SR3P\") + P(\"hhinc#3\") * X(\"hhinc\")\n",
    "    m.utility_co[4] = P(\"ASC_TRAN\") + P(\"hhinc#4\") * X(\"hhinc\")\n",
    "    m.utility_co[5] = P(\"ASC_BIKE\") + P(\"hhinc#5\") * X(\"hhinc\")\n",
    "    m.utility_co[6] = P(\"ASC_WALK\") + P(\"hhinc#6\") * X(\"hhinc\")\n",
    "    m.utility_ca = PX(\"tottime\") + PX(\"totcost\")\n",
    "    m.availability_var = 'avail'\n",
    "    m.choice_ca_var = 'chose'\n",
    "    m.title = \"MTC Example 1 (Simple MNL)\"\n",
    "    m.mix_parameter(\"tottime\", \"tottime_s\")\n",
    "    m.groupid = 'groupid'\n",
    "    m.n_draws = 5000\n",
    "    return m\n",
    "\n",
    "m = model7()"
   ]
  },
  {
   "cell_type": "code",
   "execution_count": 2,
   "id": "230fc63e",
   "metadata": {
    "ExecuteTime": {
     "end_time": "2022-03-08T01:14:32.291878Z",
     "start_time": "2022-03-08T01:14:31.401662Z"
    }
   },
   "outputs": [
    {
     "name": "stderr",
     "output_type": "stream",
     "text": [
      "WARNING:absl:No GPU/TPU found, falling back to CPU. (Set TF_CPP_MIN_LOG_LEVEL=0 and rerun for more info.)\n"
     ]
    }
   ],
   "source": [
    "m._make_random_draws(n_draws=m.n_draws)"
   ]
  },
  {
   "cell_type": "code",
   "execution_count": 3,
   "id": "20c7259f",
   "metadata": {
    "ExecuteTime": {
     "end_time": "2022-03-08T01:14:33.237750Z",
     "start_time": "2022-03-08T01:14:32.293893Z"
    }
   },
   "outputs": [],
   "source": [
    "def _get_jnp_array(dataset, name):\n",
    "    if name not in dataset:\n",
    "        return None\n",
    "    return jnp.asarray(dataset[name])\n",
    "\n",
    "\n",
    "co = _get_jnp_array(m.dataset, 'co')\n",
    "ca = _get_jnp_array(m.dataset, 'ca')\n",
    "av = _get_jnp_array(m.dataset, 'av')\n",
    "ch = _get_jnp_array(m.dataset, 'ch')\n",
    "\n",
    "\n",
    "bund = dict(ca=ca, co=co, ch=ch, av=av)\n",
    "bund0 = dict(ca=ca[0], co=co[0], ch=ch[0], av=av[0])\n",
    "\n",
    "gbund = dict(rk=jax.random.PRNGKey(123))"
   ]
  },
  {
   "cell_type": "code",
   "execution_count": 4,
   "id": "49dfd3a9",
   "metadata": {
    "ExecuteTime": {
     "end_time": "2022-03-08T01:14:35.262202Z",
     "start_time": "2022-03-08T01:14:33.241030Z"
    }
   },
   "outputs": [
    {
     "data": {
      "text/plain": [
       "DeviceArray(-4.604921, dtype=float32)"
      ]
     },
     "execution_count": 4,
     "metadata": {},
     "output_type": "execute_result"
    }
   ],
   "source": [
    "m._jax_loglike(m.pvals, bund0, dict(rk=jax.random.PRNGKey(122)), 1059)"
   ]
  },
  {
   "cell_type": "code",
   "execution_count": 5,
   "id": "3dd6d5a0",
   "metadata": {
    "ExecuteTime": {
     "end_time": "2022-03-08T01:14:37.854305Z",
     "start_time": "2022-03-08T01:14:35.264299Z"
    }
   },
   "outputs": [
    {
     "data": {
      "text/plain": [
       "DeviceArray([-4.60493, -6.17343], dtype=float32)"
      ]
     },
     "execution_count": 5,
     "metadata": {},
     "output_type": "execute_result"
    }
   ],
   "source": [
    "m.jax_loglike(m.pvals)"
   ]
  },
  {
   "cell_type": "code",
   "execution_count": 6,
   "id": "feca4e22",
   "metadata": {
    "ExecuteTime": {
     "end_time": "2022-03-08T01:14:44.322276Z",
     "start_time": "2022-03-08T01:14:37.856139Z"
    }
   },
   "outputs": [
    {
     "data": {
      "text/plain": [
       "DeviceArray([ -1.016548,  -0.516912,  -1.517042,   1.483725,  -0.36627 ,  17.152428, -70.35146 ,  89.67974 ,\n",
       "             -53.453907, -19.563515,  64.6979  , -71.15323 ,   1.194303], dtype=float32)"
      ]
     },
     "execution_count": 6,
     "metadata": {},
     "output_type": "execute_result"
    }
   ],
   "source": [
    "m.jax_d_loglike_total(m.pvals)"
   ]
  },
  {
   "cell_type": "code",
   "execution_count": 10,
   "id": "19bee746",
   "metadata": {
    "ExecuteTime": {
     "end_time": "2022-03-08T01:15:18.017184Z",
     "start_time": "2022-03-08T01:15:16.220449Z"
    }
   },
   "outputs": [
    {
     "name": "stdout",
     "output_type": "stream",
     "text": [
      "21.8 ms ± 520 µs per loop (mean ± std. dev. of 7 runs, 10 loops each)\n"
     ]
    }
   ],
   "source": [
    "%timeit m.jax_d_loglike_total(m.pvals)"
   ]
  },
  {
   "cell_type": "code",
   "execution_count": 7,
   "id": "8b83eee0",
   "metadata": {
    "ExecuteTime": {
     "end_time": "2022-03-08T01:14:52.350699Z",
     "start_time": "2022-03-08T01:14:44.324261Z"
    }
   },
   "outputs": [
    {
     "name": "stdout",
     "output_type": "stream",
     "text": [
      "9.86 ms ± 69.1 µs per loop (mean ± std. dev. of 7 runs, 100 loops each)\n"
     ]
    }
   ],
   "source": [
    "%timeit m.jax_loglike(m.pvals)"
   ]
  },
  {
   "cell_type": "code",
   "execution_count": 8,
   "id": "ee0e5b7b",
   "metadata": {
    "ExecuteTime": {
     "end_time": "2022-03-08T01:14:52.354899Z",
     "start_time": "2022-03-08T01:14:52.352811Z"
    }
   },
   "outputs": [],
   "source": [
    "m.n_draws = 5000"
   ]
  },
  {
   "cell_type": "code",
   "execution_count": 9,
   "id": "67225d9a",
   "metadata": {
    "ExecuteTime": {
     "end_time": "2022-03-08T01:14:52.868118Z",
     "start_time": "2022-03-08T01:14:52.356251Z"
    }
   },
   "outputs": [
    {
     "ename": "NameError",
     "evalue": "name 'stop' is not defined",
     "output_type": "error",
     "traceback": [
      "\u001b[0;31m---------------------------------------------------------------------------\u001b[0m",
      "\u001b[0;31mNameError\u001b[0m                                 Traceback (most recent call last)",
      "Input \u001b[0;32mIn [9]\u001b[0m, in \u001b[0;36m<module>\u001b[0;34m\u001b[0m\n\u001b[0;32m----> 1\u001b[0m \u001b[43mstop\u001b[49m\n",
      "\u001b[0;31mNameError\u001b[0m: name 'stop' is not defined"
     ]
    }
   ],
   "source": [
    "stop"
   ]
  },
  {
   "cell_type": "code",
   "execution_count": null,
   "id": "64a1d159",
   "metadata": {
    "ExecuteTime": {
     "end_time": "2022-03-08T01:14:52.870849Z",
     "start_time": "2022-03-08T01:14:52.870838Z"
    }
   },
   "outputs": [],
   "source": [
    "jax.random.split(jax.random.PRNGKey(123), (5,5))"
   ]
  },
  {
   "cell_type": "code",
   "execution_count": null,
   "id": "e28cc187",
   "metadata": {
    "ExecuteTime": {
     "end_time": "2022-03-08T01:14:52.872476Z",
     "start_time": "2022-03-08T01:14:52.872461Z"
    }
   },
   "outputs": [],
   "source": [
    "xr.DataArray(jax.random.split(jax.random.PRNGKey(123), 5), dims=('c5','two'))"
   ]
  },
  {
   "cell_type": "code",
   "execution_count": null,
   "id": "617ef9f5",
   "metadata": {
    "ExecuteTime": {
     "end_time": "2022-03-08T01:14:52.873713Z",
     "start_time": "2022-03-08T01:14:52.873700Z"
    }
   },
   "outputs": [],
   "source": [
    "jax.vmap(jax.random.split, in_axes=(0, None))(jax.random.PRNGKey(123), 5)"
   ]
  },
  {
   "cell_type": "code",
   "execution_count": null,
   "id": "0fb465b7",
   "metadata": {
    "ExecuteTime": {
     "end_time": "2022-03-08T01:14:52.874787Z",
     "start_time": "2022-03-08T01:14:52.874754Z"
    }
   },
   "outputs": [],
   "source": [
    "jax.vmap(jax.random.split, in_axes=(0, None))(\n",
    "    jax.random.split(jax.random.PRNGKey(123), 3),\n",
    "    5\n",
    ").shape"
   ]
  },
  {
   "cell_type": "code",
   "execution_count": null,
   "id": "b0e23a5b",
   "metadata": {
    "ExecuteTime": {
     "end_time": "2022-03-08T01:14:52.876272Z",
     "start_time": "2022-03-08T01:14:52.876261Z"
    }
   },
   "outputs": [],
   "source": [
    "def onekey(key, n):\n",
    "    return key\n",
    "\n",
    "jax.random.PRNGKey(123).ndim"
   ]
  },
  {
   "cell_type": "code",
   "execution_count": null,
   "id": "6379178b",
   "metadata": {
    "ExecuteTime": {
     "end_time": "2022-03-08T01:14:52.877783Z",
     "start_time": "2022-03-08T01:14:52.877771Z"
    }
   },
   "outputs": [],
   "source": [
    "rk = jax.random.split(jax.random.PRNGKey(123), 1)\n"
   ]
  },
  {
   "cell_type": "code",
   "execution_count": null,
   "id": "b14dc272",
   "metadata": {
    "ExecuteTime": {
     "end_time": "2022-03-08T01:14:52.878967Z",
     "start_time": "2022-03-08T01:14:52.878953Z"
    }
   },
   "outputs": [],
   "source": [
    "vsplit = jax.vmap(jax.random.split, in_axes=(0, None))"
   ]
  },
  {
   "cell_type": "code",
   "execution_count": null,
   "id": "21740455",
   "metadata": {
    "ExecuteTime": {
     "end_time": "2022-03-08T01:14:52.881029Z",
     "start_time": "2022-03-08T01:14:52.881015Z"
    }
   },
   "outputs": [],
   "source": [
    "def ssplit(key, shapes):\n",
    "    if key.ndim == 1:\n",
    "        new_keys = jax.random.split(key, shapes[0])\n",
    "    else:\n",
    "        new_keys = jax.vmap(jax.random.split, in_axes=(0, None))(key, shapes[0])\n",
    "    return new_keys, shapes[1:]\n",
    "\n",
    "k, s = jax.random.PRNGKey(123), [5,3]\n",
    "\n",
    "k, s = ssplit(k, s)\n",
    "k, s = ssplit(k, s)\n",
    "k, s"
   ]
  },
  {
   "cell_type": "code",
   "execution_count": null,
   "id": "2ea2cbee",
   "metadata": {},
   "outputs": [],
   "source": []
  },
  {
   "cell_type": "code",
   "execution_count": null,
   "id": "70eade05",
   "metadata": {
    "ExecuteTime": {
     "end_time": "2022-03-08T01:14:52.882325Z",
     "start_time": "2022-03-08T01:14:52.882313Z"
    }
   },
   "outputs": [],
   "source": [
    "def vsplit(key_array, shapes):\n",
    "    new_keys = jax.vmap(\n",
    "        jax.random.split, in_axes=(0, None)\n",
    "    )(key_array, shapes[0])\n",
    "    return new_keys, shapes[1:]"
   ]
  },
  {
   "cell_type": "code",
   "execution_count": null,
   "id": "72401640",
   "metadata": {
    "ExecuteTime": {
     "end_time": "2022-03-08T01:14:52.883387Z",
     "start_time": "2022-03-08T01:14:52.883375Z"
    }
   },
   "outputs": [],
   "source": [
    "vsplit(jax.random.PRNGKey(123), [5,3])"
   ]
  },
  {
   "cell_type": "code",
   "execution_count": null,
   "id": "e7616068",
   "metadata": {
    "ExecuteTime": {
     "end_time": "2022-03-08T01:14:52.884644Z",
     "start_time": "2022-03-08T01:14:52.884628Z"
    }
   },
   "outputs": [],
   "source": [
    "vsplit = jax.vmap(vsplit, in_axes=(0, None))"
   ]
  },
  {
   "cell_type": "code",
   "execution_count": null,
   "id": "25b5edd7",
   "metadata": {
    "ExecuteTime": {
     "end_time": "2022-03-08T01:14:52.885830Z",
     "start_time": "2022-03-08T01:14:52.885817Z"
    }
   },
   "outputs": [],
   "source": [
    "rk1 = vsplit(rk, 5)\n"
   ]
  },
  {
   "cell_type": "code",
   "execution_count": null,
   "id": "95570a6e",
   "metadata": {
    "ExecuteTime": {
     "end_time": "2022-03-08T01:14:52.887069Z",
     "start_time": "2022-03-08T01:14:52.887055Z"
    }
   },
   "outputs": [],
   "source": [
    "jax.vmap(jax.random.split, in_axes=(0, None))(\n",
    "    jax.random.split(jax.random.PRNGKey(123), 1),\n",
    "    5\n",
    ").shape"
   ]
  },
  {
   "cell_type": "code",
   "execution_count": null,
   "id": "af23cb4d",
   "metadata": {
    "ExecuteTime": {
     "end_time": "2022-03-08T01:14:52.888151Z",
     "start_time": "2022-03-08T01:14:52.888138Z"
    }
   },
   "outputs": [],
   "source": [
    "jax.vmap(m._jax_loglike, in_axes=(None, 0))(m.pvals, bund)"
   ]
  },
  {
   "cell_type": "code",
   "execution_count": null,
   "id": "e3d15b25",
   "metadata": {
    "ExecuteTime": {
     "end_time": "2022-03-08T01:14:52.889056Z",
     "start_time": "2022-03-08T01:14:52.889044Z"
    }
   },
   "outputs": [],
   "source": [
    "m.pvals = 'null'\n",
    "m.pvals = {'tottime': -1}\n",
    "\n",
    "m.jax_loglike(m.pvals)"
   ]
  },
  {
   "cell_type": "code",
   "execution_count": null,
   "id": "5c5e19e7",
   "metadata": {
    "ExecuteTime": {
     "end_time": "2022-03-08T01:14:52.890370Z",
     "start_time": "2022-03-08T01:14:52.890356Z"
    }
   },
   "outputs": [],
   "source": [
    "m.jax_loglike_casewise(m.pvals)"
   ]
  },
  {
   "cell_type": "code",
   "execution_count": null,
   "id": "60a42fd1",
   "metadata": {
    "ExecuteTime": {
     "end_time": "2022-03-08T01:14:52.891467Z",
     "start_time": "2022-03-08T01:14:52.891456Z"
    }
   },
   "outputs": [],
   "source": [
    "lx.examples.MTC().icase[:7]['chose']"
   ]
  },
  {
   "cell_type": "code",
   "execution_count": null,
   "id": "33e11554",
   "metadata": {
    "ExecuteTime": {
     "end_time": "2022-03-08T01:14:52.892719Z",
     "start_time": "2022-03-08T01:14:52.892707Z"
    }
   },
   "outputs": [],
   "source": [
    "m.pvals = 'null'\n",
    "m.pvals = {\"hhinc#5\": -1}"
   ]
  },
  {
   "cell_type": "code",
   "execution_count": null,
   "id": "52d1fbcf",
   "metadata": {
    "ExecuteTime": {
     "end_time": "2022-03-08T01:14:52.894262Z",
     "start_time": "2022-03-08T01:14:52.894247Z"
    }
   },
   "outputs": [],
   "source": [
    "np.asarray(m.jax_utility(m.pvals))"
   ]
  },
  {
   "cell_type": "code",
   "execution_count": null,
   "id": "01a01dba",
   "metadata": {
    "ExecuteTime": {
     "end_time": "2022-03-08T01:14:52.895556Z",
     "start_time": "2022-03-08T01:14:52.895542Z"
    }
   },
   "outputs": [],
   "source": [
    "m.datatree.root_dataset['tottime'].to_numpy()"
   ]
  },
  {
   "cell_type": "code",
   "execution_count": null,
   "id": "b54435e5",
   "metadata": {
    "ExecuteTime": {
     "end_time": "2022-03-08T01:14:52.897003Z",
     "start_time": "2022-03-08T01:14:52.896988Z"
    }
   },
   "outputs": [],
   "source": [
    "inf = np.inf\n",
    "np.array([\n",
    "    [  0.,   0.,   0.,   0.,   0., -inf,   0.],\n",
    "    [  0.,   0.,   0.,   0.,   0., -inf,   0.],\n",
    "    [  0.,   0.,   0.,   0., -inf, -inf,   0.],\n",
    "    [  0.,   0.,   0.,   0., -inf, -inf,   0.],\n",
    "    [-inf,   0.,   0.,   0.,   0., -inf,   0.],\n",
    "], dtype=np.float32)"
   ]
  },
  {
   "cell_type": "code",
   "execution_count": null,
   "id": "d7ec6163",
   "metadata": {},
   "outputs": [],
   "source": []
  }
 ],
 "metadata": {
  "kernelspec": {
   "display_name": "Python 3 (ipykernel)",
   "language": "python",
   "name": "python3"
  },
  "language_info": {
   "codemirror_mode": {
    "name": "ipython",
    "version": 3
   },
   "file_extension": ".py",
   "mimetype": "text/x-python",
   "name": "python",
   "nbconvert_exporter": "python",
   "pygments_lexer": "ipython3",
   "version": "3.9.10"
  },
  "toc": {
   "base_numbering": 1,
   "nav_menu": {},
   "number_sections": false,
   "sideBar": true,
   "skip_h1_title": false,
   "title_cell": "Table of Contents",
   "title_sidebar": "Contents",
   "toc_cell": false,
   "toc_position": {},
   "toc_section_display": true,
   "toc_window_display": false
  }
 },
 "nbformat": 4,
 "nbformat_minor": 5
}
