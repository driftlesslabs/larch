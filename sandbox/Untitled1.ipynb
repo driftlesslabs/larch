{
 "cells": [
  {
   "cell_type": "code",
   "execution_count": null,
   "id": "2d3f1da9",
   "metadata": {},
   "outputs": [],
   "source": [
    "import jax\n",
    "import jax.numpy as jnp\n",
    "import numpy as np\n",
    "import xarray as xr\n",
    "\n",
    "import larch as lx\n",
    "\n",
    "\n",
    "def mtc7():\n",
    "    d = lx.examples.MTC()\n",
    "    y = d.icase[:7]\n",
    "    y['groupid'] = xr.DataArray([1,1,1,2,2,2,2], dims=d.dc.CASEID)\n",
    "    return y\n",
    "\n",
    "\n",
    "def model7():\n",
    "    d = mtc7()\n",
    "    m = lx.Model(d)\n",
    "    P, X, PX = lx.P, lx.X, lx.PX\n",
    "    m.utility_co[2] = P(\"ASC_SR2\") + P(\"hhinc#2\") * X(\"hhinc\")\n",
    "    m.utility_co[3] = P(\"ASC_SR3P\") + P(\"hhinc#3\") * X(\"hhinc\")\n",
    "    m.utility_co[4] = P(\"ASC_TRAN\") + P(\"hhinc#4\") * X(\"hhinc\")\n",
    "    m.utility_co[5] = P(\"ASC_BIKE\") + P(\"hhinc#5\") * X(\"hhinc\")\n",
    "    m.utility_co[6] = P(\"ASC_WALK\") + P(\"hhinc#6\") * X(\"hhinc\")\n",
    "    m.utility_ca = PX(\"tottime\") + PX(\"totcost\")\n",
    "    m.availability_var = 'avail'\n",
    "    m.choice_ca_var = 'chose'\n",
    "    m.title = \"MTC Example 1 (Simple MNL)\"\n",
    "    m.mix_parameter(\"tottime\", \"tottime_s\")\n",
    "    m.groupid = 'groupid'\n",
    "    m.n_draws = 5000\n",
    "    return m\n",
    "\n",
    "m = model7()"
   ]
  },
  {
   "cell_type": "code",
   "execution_count": null,
   "id": "230fc63e",
   "metadata": {},
   "outputs": [],
   "source": [
    "m._make_random_draws(n_draws=m.n_draws)"
   ]
  },
  {
   "cell_type": "code",
   "execution_count": null,
   "id": "20c7259f",
   "metadata": {},
   "outputs": [],
   "source": [
    "def _get_jnp_array(dataset, name):\n",
    "    if name not in dataset:\n",
    "        return None\n",
    "    return jnp.asarray(dataset[name])\n",
    "\n",
    "\n",
    "co = _get_jnp_array(m.dataset, 'co')\n",
    "ca = _get_jnp_array(m.dataset, 'ca')\n",
    "av = _get_jnp_array(m.dataset, 'av')\n",
    "ch = _get_jnp_array(m.dataset, 'ch')\n",
    "\n",
    "\n",
    "bund = dict(ca=ca, co=co, ch=ch, av=av)\n",
    "bund0 = dict(ca=ca[0], co=co[0], ch=ch[0], av=av[0])\n",
    "\n",
    "gbund = dict(rk=jax.random.PRNGKey(123))"
   ]
  },
  {
   "cell_type": "code",
   "execution_count": null,
   "id": "49dfd3a9",
   "metadata": {},
   "outputs": [],
   "source": [
    "m._jax_loglike(m.pvals, bund0, dict(rk=jax.random.PRNGKey(122)), 1059)"
   ]
  },
  {
   "cell_type": "code",
   "execution_count": null,
   "id": "3dd6d5a0",
   "metadata": {},
   "outputs": [],
   "source": [
    "m.jax_loglike(m.pvals)"
   ]
  },
  {
   "cell_type": "code",
   "execution_count": null,
   "id": "feca4e22",
   "metadata": {},
   "outputs": [],
   "source": [
    "m.jax_d_loglike_total(m.pvals)"
   ]
  },
  {
   "cell_type": "code",
   "execution_count": null,
   "id": "19bee746",
   "metadata": {},
   "outputs": [],
   "source": [
    "%timeit m.jax_d_loglike_total(m.pvals)"
   ]
  },
  {
   "cell_type": "code",
   "execution_count": null,
   "id": "8b83eee0",
   "metadata": {},
   "outputs": [],
   "source": [
    "%timeit m.jax_loglike(m.pvals)"
   ]
  },
  {
   "cell_type": "code",
   "execution_count": null,
   "id": "ee0e5b7b",
   "metadata": {},
   "outputs": [],
   "source": [
    "m.n_draws = 5000"
   ]
  },
  {
   "cell_type": "code",
   "execution_count": null,
   "id": "67225d9a",
   "metadata": {},
   "outputs": [],
   "source": [
    "stop"
   ]
  },
  {
   "cell_type": "code",
   "execution_count": null,
   "id": "64a1d159",
   "metadata": {},
   "outputs": [],
   "source": [
    "jax.random.split(jax.random.PRNGKey(123), (5,5))"
   ]
  },
  {
   "cell_type": "code",
   "execution_count": null,
   "id": "e28cc187",
   "metadata": {},
   "outputs": [],
   "source": [
    "xr.DataArray(jax.random.split(jax.random.PRNGKey(123), 5), dims=('c5','two'))"
   ]
  },
  {
   "cell_type": "code",
   "execution_count": null,
   "id": "617ef9f5",
   "metadata": {},
   "outputs": [],
   "source": [
    "jax.vmap(jax.random.split, in_axes=(0, None))(jax.random.PRNGKey(123), 5)"
   ]
  },
  {
   "cell_type": "code",
   "execution_count": null,
   "id": "0fb465b7",
   "metadata": {},
   "outputs": [],
   "source": [
    "jax.vmap(jax.random.split, in_axes=(0, None))(\n",
    "    jax.random.split(jax.random.PRNGKey(123), 3),\n",
    "    5\n",
    ").shape"
   ]
  },
  {
   "cell_type": "code",
   "execution_count": null,
   "id": "b0e23a5b",
   "metadata": {},
   "outputs": [],
   "source": [
    "def onekey(key, n):\n",
    "    return key\n",
    "\n",
    "jax.random.PRNGKey(123).ndim"
   ]
  },
  {
   "cell_type": "code",
   "execution_count": null,
   "id": "6379178b",
   "metadata": {},
   "outputs": [],
   "source": [
    "rk = jax.random.split(jax.random.PRNGKey(123), 1)\n"
   ]
  },
  {
   "cell_type": "code",
   "execution_count": null,
   "id": "b14dc272",
   "metadata": {},
   "outputs": [],
   "source": [
    "vsplit = jax.vmap(jax.random.split, in_axes=(0, None))"
   ]
  },
  {
   "cell_type": "code",
   "execution_count": null,
   "id": "21740455",
   "metadata": {},
   "outputs": [],
   "source": [
    "def ssplit(key, shapes):\n",
    "    if key.ndim == 1:\n",
    "        new_keys = jax.random.split(key, shapes[0])\n",
    "    else:\n",
    "        new_keys = jax.vmap(jax.random.split, in_axes=(0, None))(key, shapes[0])\n",
    "    return new_keys, shapes[1:]\n",
    "\n",
    "k, s = jax.random.PRNGKey(123), [5,3]\n",
    "\n",
    "k, s = ssplit(k, s)\n",
    "k, s = ssplit(k, s)\n",
    "k, s"
   ]
  },
  {
   "cell_type": "code",
   "execution_count": null,
   "id": "2ea2cbee",
   "metadata": {},
   "outputs": [],
   "source": []
  },
  {
   "cell_type": "code",
   "execution_count": null,
   "id": "70eade05",
   "metadata": {},
   "outputs": [],
   "source": [
    "def vsplit(key_array, shapes):\n",
    "    new_keys = jax.vmap(\n",
    "        jax.random.split, in_axes=(0, None)\n",
    "    )(key_array, shapes[0])\n",
    "    return new_keys, shapes[1:]"
   ]
  },
  {
   "cell_type": "code",
   "execution_count": null,
   "id": "72401640",
   "metadata": {},
   "outputs": [],
   "source": [
    "vsplit(jax.random.PRNGKey(123), [5,3])"
   ]
  },
  {
   "cell_type": "code",
   "execution_count": null,
   "id": "e7616068",
   "metadata": {},
   "outputs": [],
   "source": [
    "vsplit = jax.vmap(vsplit, in_axes=(0, None))"
   ]
  },
  {
   "cell_type": "code",
   "execution_count": null,
   "id": "25b5edd7",
   "metadata": {},
   "outputs": [],
   "source": [
    "rk1 = vsplit(rk, 5)\n"
   ]
  },
  {
   "cell_type": "code",
   "execution_count": null,
   "id": "95570a6e",
   "metadata": {},
   "outputs": [],
   "source": [
    "jax.vmap(jax.random.split, in_axes=(0, None))(\n",
    "    jax.random.split(jax.random.PRNGKey(123), 1),\n",
    "    5\n",
    ").shape"
   ]
  },
  {
   "cell_type": "code",
   "execution_count": null,
   "id": "af23cb4d",
   "metadata": {},
   "outputs": [],
   "source": [
    "jax.vmap(m._jax_loglike, in_axes=(None, 0))(m.pvals, bund)"
   ]
  },
  {
   "cell_type": "code",
   "execution_count": null,
   "id": "e3d15b25",
   "metadata": {},
   "outputs": [],
   "source": [
    "m.pvals = 'null'\n",
    "m.pvals = {'tottime': -1}\n",
    "\n",
    "m.jax_loglike(m.pvals)"
   ]
  },
  {
   "cell_type": "code",
   "execution_count": null,
   "id": "5c5e19e7",
   "metadata": {},
   "outputs": [],
   "source": [
    "m.jax_loglike_casewise(m.pvals)"
   ]
  },
  {
   "cell_type": "code",
   "execution_count": null,
   "id": "60a42fd1",
   "metadata": {},
   "outputs": [],
   "source": [
    "lx.examples.MTC().icase[:7]['chose']"
   ]
  },
  {
   "cell_type": "code",
   "execution_count": null,
   "id": "33e11554",
   "metadata": {},
   "outputs": [],
   "source": [
    "m.pvals = 'null'\n",
    "m.pvals = {\"hhinc#5\": -1}"
   ]
  },
  {
   "cell_type": "code",
   "execution_count": null,
   "id": "52d1fbcf",
   "metadata": {},
   "outputs": [],
   "source": [
    "np.asarray(m.jax_utility(m.pvals))"
   ]
  },
  {
   "cell_type": "code",
   "execution_count": null,
   "id": "01a01dba",
   "metadata": {},
   "outputs": [],
   "source": [
    "m.datatree.root_dataset['tottime'].to_numpy()"
   ]
  },
  {
   "cell_type": "code",
   "execution_count": null,
   "id": "b54435e5",
   "metadata": {},
   "outputs": [],
   "source": [
    "inf = np.inf\n",
    "np.array([\n",
    "    [  0.,   0.,   0.,   0.,   0., -inf,   0.],\n",
    "    [  0.,   0.,   0.,   0.,   0., -inf,   0.],\n",
    "    [  0.,   0.,   0.,   0., -inf, -inf,   0.],\n",
    "    [  0.,   0.,   0.,   0., -inf, -inf,   0.],\n",
    "    [-inf,   0.,   0.,   0.,   0., -inf,   0.],\n",
    "], dtype=np.float32)"
   ]
  },
  {
   "cell_type": "code",
   "execution_count": null,
   "id": "d7ec6163",
   "metadata": {},
   "outputs": [],
   "source": []
  }
 ],
 "metadata": {
  "kernelspec": {
   "display_name": "Python 3 (ipykernel)",
   "language": "python",
   "name": "python3"
  },
  "language_info": {
   "codemirror_mode": {
    "name": "ipython",
    "version": 3
   },
   "file_extension": ".py",
   "mimetype": "text/x-python",
   "name": "python",
   "nbconvert_exporter": "python",
   "pygments_lexer": "ipython3",
   "version": "3.9.10"
  },
  "toc": {
   "base_numbering": 1,
   "nav_menu": {},
   "number_sections": false,
   "sideBar": true,
   "skip_h1_title": false,
   "title_cell": "Table of Contents",
   "title_sidebar": "Contents",
   "toc_cell": false,
   "toc_position": {},
   "toc_section_display": true,
   "toc_window_display": false
  }
 },
 "nbformat": 4,
 "nbformat_minor": 5
}
