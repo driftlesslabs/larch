{
 "cells": [
  {
   "cell_type": "code",
   "execution_count": null,
   "id": "5c04683e",
   "metadata": {},
   "outputs": [],
   "source": [
    "import jax.numpy as jnp\n",
    "\n",
    "import larch as lx"
   ]
  },
  {
   "cell_type": "code",
   "execution_count": null,
   "id": "f928bb31",
   "metadata": {},
   "outputs": [],
   "source": [
    "d = lx.examples.MTC(format='dataset')"
   ]
  },
  {
   "cell_type": "code",
   "execution_count": null,
   "id": "27266299",
   "metadata": {},
   "outputs": [],
   "source": [
    "m = lx.Model(d)\n",
    "from larch import PX, P, X\n",
    "\n",
    "m.utility_co[2] = P(\"ASC_SR2\")  + P(\"hhinc#2\") * X(\"hhinc\")\n",
    "m.utility_co[3] = P(\"ASC_SR3P\") + P(\"hhinc#3\") * X(\"hhinc\")\n",
    "m.utility_co[4] = P(\"ASC_TRAN\") + P(\"hhinc#4\") * X(\"hhinc\")\n",
    "m.utility_co[5] = P(\"ASC_BIKE\") + P(\"hhinc#5\") * X(\"hhinc\")\n",
    "m.utility_co[6] = P(\"ASC_WALK\") + P(\"hhinc#6\") * X(\"hhinc\")\n",
    "\n",
    "m.utility_ca = PX(\"tottime\") + PX(\"totcost\")\n",
    "\n",
    "m.availability_var = 'avail'\n",
    "m.choice_ca_var = 'chose'\n",
    "\n",
    "m.title = \"MTC Example 1 (Simple MNL)\"\n",
    "r = m.maximize_loglike(quiet=True)\n"
   ]
  },
  {
   "cell_type": "code",
   "execution_count": null,
   "id": "687fe7ad",
   "metadata": {},
   "outputs": [],
   "source": [
    "groupid = np.repeat(\n",
    "    np.arange(1300),\n",
    "    np.random.default_rng(0).choice([3,5], size=1300)\n",
    ")[:m.dataset.n_cases]\n",
    "\n",
    "m.groupid = groupid"
   ]
  },
  {
   "cell_type": "code",
   "execution_count": null,
   "id": "556921d7",
   "metadata": {},
   "outputs": [],
   "source": [
    "# dataset = m.dataset.assign_coords(groupid=xr.DataArray(groupid, dims='caseid'))\n",
    "# dataset"
   ]
  },
  {
   "cell_type": "code",
   "execution_count": null,
   "id": "b794f9f4",
   "metadata": {},
   "outputs": [],
   "source": []
  },
  {
   "cell_type": "code",
   "execution_count": null,
   "id": "5cdc42c3",
   "metadata": {},
   "outputs": [],
   "source": [
    "# fdataset = fold_dataset(dataset)\n",
    "# fdataset"
   ]
  },
  {
   "cell_type": "code",
   "execution_count": null,
   "id": "8eeb261e",
   "metadata": {},
   "outputs": [],
   "source": [
    "# m.dataset = fdataset"
   ]
  },
  {
   "cell_type": "code",
   "execution_count": null,
   "id": "c1a017e5",
   "metadata": {},
   "outputs": [],
   "source": [
    "m.pf"
   ]
  },
  {
   "cell_type": "code",
   "execution_count": null,
   "id": "8c2b9804",
   "metadata": {},
   "outputs": [],
   "source": [
    "ca = jnp.asarray(m.dataset['ca'])\n",
    "co = jnp.asarray(m.dataset['co'])\n",
    "ch = jnp.asarray(m.dataset['ch'])\n",
    "av = jnp.asarray(m.dataset['av'])\n",
    "\n",
    "params = jnp.asarray(m.pvals)\n"
   ]
  },
  {
   "cell_type": "code",
   "execution_count": null,
   "id": "ec19c4a7",
   "metadata": {},
   "outputs": [],
   "source": [
    "m.dataset"
   ]
  },
  {
   "cell_type": "code",
   "execution_count": null,
   "id": "6030c15b",
   "metadata": {},
   "outputs": [],
   "source": [
    "m.mix_parameter(\"totcost\", \"totcost_s\")"
   ]
  },
  {
   "cell_type": "code",
   "execution_count": null,
   "id": "566f3f7a",
   "metadata": {},
   "outputs": [],
   "source": [
    "m.pf"
   ]
  },
  {
   "cell_type": "code",
   "execution_count": null,
   "id": "e23bbe55",
   "metadata": {},
   "outputs": [],
   "source": [
    "m.unmangle()"
   ]
  },
  {
   "cell_type": "code",
   "execution_count": null,
   "id": "7406b4cb",
   "metadata": {},
   "outputs": [],
   "source": [
    "z = np.asarray(m.pvals).copy()"
   ]
  },
  {
   "cell_type": "code",
   "execution_count": null,
   "id": "37722b5f",
   "metadata": {},
   "outputs": [],
   "source": []
  },
  {
   "cell_type": "code",
   "execution_count": null,
   "id": "b9fe5042",
   "metadata": {},
   "outputs": [],
   "source": [
    "# m.dataset = fdataset"
   ]
  },
  {
   "cell_type": "code",
   "execution_count": null,
   "id": "02c2e9b5",
   "metadata": {},
   "outputs": [],
   "source": [
    "m.jax_loglike(z)"
   ]
  },
  {
   "cell_type": "code",
   "execution_count": null,
   "id": "9c902a64",
   "metadata": {},
   "outputs": [],
   "source": [
    "m.jax_loglike(z)"
   ]
  },
  {
   "cell_type": "code",
   "execution_count": null,
   "id": "5ad7eb4a",
   "metadata": {},
   "outputs": [],
   "source": [
    "m.jax_d_loglike(z) # 3.39s"
   ]
  },
  {
   "cell_type": "code",
   "execution_count": null,
   "id": "7d67d90b",
   "metadata": {},
   "outputs": [],
   "source": [
    "m.jax_d_loglike(z) # 194ms"
   ]
  },
  {
   "cell_type": "code",
   "execution_count": null,
   "id": "c1a21284",
   "metadata": {},
   "outputs": [],
   "source": [
    "m.n_draws = 1000\n",
    "m.unmangle()"
   ]
  },
  {
   "cell_type": "code",
   "execution_count": null,
   "id": "c959cab4",
   "metadata": {},
   "outputs": [],
   "source": [
    "m.jax_d_loglike(z) # 6.39s"
   ]
  },
  {
   "cell_type": "code",
   "execution_count": null,
   "id": "7f7e7842",
   "metadata": {},
   "outputs": [],
   "source": [
    "m.jax_d_loglike(z) # 1.83s"
   ]
  },
  {
   "cell_type": "code",
   "execution_count": null,
   "id": "1dc62e41",
   "metadata": {},
   "outputs": [],
   "source": [
    "m.jax_loglike(z) # 1.44s"
   ]
  },
  {
   "cell_type": "code",
   "execution_count": null,
   "id": "3f41b9bc",
   "metadata": {},
   "outputs": [],
   "source": [
    "m.jax_loglike(z) # 455ms"
   ]
  },
  {
   "cell_type": "code",
   "execution_count": null,
   "id": "fb91e91d",
   "metadata": {},
   "outputs": [],
   "source": []
  },
  {
   "cell_type": "code",
   "execution_count": null,
   "id": "2e9f9945",
   "metadata": {},
   "outputs": [],
   "source": [
    "m.groupid = None"
   ]
  },
  {
   "cell_type": "code",
   "execution_count": null,
   "id": "32a06d47",
   "metadata": {},
   "outputs": [],
   "source": [
    "m.jax_loglike(z) # 2.0s"
   ]
  },
  {
   "cell_type": "code",
   "execution_count": null,
   "id": "595231bd",
   "metadata": {},
   "outputs": [],
   "source": [
    "m.jax_loglike(z) #  482ms"
   ]
  },
  {
   "cell_type": "code",
   "execution_count": null,
   "id": "050eeddb",
   "metadata": {},
   "outputs": [],
   "source": [
    "m.groupid = groupid"
   ]
  },
  {
   "cell_type": "code",
   "execution_count": null,
   "id": "18bd4697",
   "metadata": {},
   "outputs": [],
   "source": [
    "m.jax_loglike(z) #  2.24s"
   ]
  },
  {
   "cell_type": "code",
   "execution_count": null,
   "id": "6f4ed03e",
   "metadata": {},
   "outputs": [],
   "source": [
    "m.dataset"
   ]
  },
  {
   "cell_type": "code",
   "execution_count": null,
   "id": "b2e7786e",
   "metadata": {},
   "outputs": [],
   "source": []
  }
 ],
 "metadata": {
  "kernelspec": {
   "display_name": "Python 3 (ipykernel)",
   "language": "python",
   "name": "python3"
  },
  "language_info": {
   "codemirror_mode": {
    "name": "ipython",
    "version": 3
   },
   "file_extension": ".py",
   "mimetype": "text/x-python",
   "name": "python",
   "nbconvert_exporter": "python",
   "pygments_lexer": "ipython3",
   "version": "3.9.10"
  },
  "toc": {
   "base_numbering": 1,
   "nav_menu": {},
   "number_sections": false,
   "sideBar": true,
   "skip_h1_title": false,
   "title_cell": "Table of Contents",
   "title_sidebar": "Contents",
   "toc_cell": false,
   "toc_position": {},
   "toc_section_display": true,
   "toc_window_display": false
  }
 },
 "nbformat": 4,
 "nbformat_minor": 5
}
