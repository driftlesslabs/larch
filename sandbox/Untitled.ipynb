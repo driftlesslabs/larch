{
 "cells": [
  {
   "cell_type": "code",
   "execution_count": 2,
   "id": "3116ff7d",
   "metadata": {
    "ExecuteTime": {
     "end_time": "2022-02-28T14:17:01.472344Z",
     "start_time": "2022-02-28T14:17:01.470340Z"
    }
   },
   "outputs": [],
   "source": [
    "import jax\n",
    "import jax.numpy as jnp"
   ]
  },
  {
   "cell_type": "code",
   "execution_count": 42,
   "id": "a3964d92",
   "metadata": {
    "ExecuteTime": {
     "end_time": "2022-02-28T14:31:46.109962Z",
     "start_time": "2022-02-28T14:31:46.102346Z"
    }
   },
   "outputs": [
    {
     "name": "stdout",
     "output_type": "stream",
     "text": [
      "__init__ wrapped_method=<function Thing.multy at 0x136755040> self=<__main__.compiledmethod object at 0x1367512b0>\n",
      "set_name owner=<class '__main__.Thing'> name='multy'\n"
     ]
    }
   ],
   "source": [
    "class compiledmethod:\n",
    "\n",
    "    def __init__(self, wrapped_method):\n",
    "        # self : compiledmethod\n",
    "        # wrapped_method : the class method being decorated\n",
    "        print(f\"__init__ {wrapped_method=} {self=}\")\n",
    "        self.wrapped_method = wrapped_method\n",
    "        self.docstring = wrapped_method.__doc__\n",
    "\n",
    "    def __set_name__(self, owner, name):\n",
    "        # self : compiledmethod\n",
    "        # owner : parent class that will have `self` as a member\n",
    "        # name : the name of the attribute that `self` will be\n",
    "        print(f\"set_name {owner=} {name=}\")\n",
    "        self.public_name = name\n",
    "        self.private_name = '_precompiled_' + name\n",
    "        if not hasattr(owner, '_compiledmethods'):\n",
    "            owner._compiledmethods = []\n",
    "        owner._compiledmethods.append(name)\n",
    "\n",
    "    def __get__(self, obj, objtype=None):\n",
    "        # self : compiledmethod\n",
    "        # obj : instance of parent class that has `self` as a member\n",
    "        # objtype : class of `obj`\n",
    "        print(f\"get {self.public_name=} {self=} {obj=}\")\n",
    "        result = getattr(obj, self.private_name, None)\n",
    "        if result is None:\n",
    "\n",
    "            @jax.jit\n",
    "            def func(*args, **kwargs):\n",
    "                return self.wrapped_method(obj, *args, **kwargs)\n",
    "\n",
    "            print(f\"recompile {self.public_name=} {self=} {obj=}\")\n",
    "            result = func\n",
    "            result.__doc__ = self.docstring\n",
    "            setattr(obj, self.private_name, result)\n",
    "        return result\n",
    "\n",
    "    def __set__(self, obj, value):\n",
    "        # self : compiledmethod\n",
    "        # obj : instance of parent class that has `self` as a member\n",
    "        # value : the new value that is trying to be assigned\n",
    "        raise AttributeError(f\"can't set {self.public_name}\")\n",
    "\n",
    "class Thing:\n",
    "\n",
    "    def __init__(self):\n",
    "        self.a = jnp.arange(10)\n",
    "\n",
    "    @compiledmethod\n",
    "    def multy(self, y):\n",
    "        \"\"\"\n",
    "        Do a thing.\n",
    "\n",
    "        Parameters\n",
    "        ----------\n",
    "        y : array-like or scalar\n",
    "        \"\"\"\n",
    "        sa = jnp.array(self.a)\n",
    "        aa = jnp.zeros(12)\n",
    "        aa = aa.at[:10].add(self.a)\n",
    "        return aa * y\n"
   ]
  },
  {
   "cell_type": "code",
   "execution_count": 43,
   "id": "b4f414fe",
   "metadata": {
    "ExecuteTime": {
     "end_time": "2022-02-28T14:31:46.903321Z",
     "start_time": "2022-02-28T14:31:46.900458Z"
    }
   },
   "outputs": [],
   "source": [
    "t = Thing()"
   ]
  },
  {
   "cell_type": "code",
   "execution_count": 44,
   "id": "ce0314c7",
   "metadata": {
    "ExecuteTime": {
     "end_time": "2022-02-28T14:31:47.550815Z",
     "start_time": "2022-02-28T14:31:47.527697Z"
    }
   },
   "outputs": [
    {
     "name": "stdout",
     "output_type": "stream",
     "text": [
      "get self.public_name='multy' self=<__main__.compiledmethod object at 0x1367512b0> obj=<__main__.Thing object at 0x130f93fa0>\n",
      "recompile self.public_name='multy' self=<__main__.compiledmethod object at 0x1367512b0> obj=<__main__.Thing object at 0x130f93fa0>\n"
     ]
    },
    {
     "data": {
      "text/plain": [
       "DeviceArray([   0.,  100.,  200.,  300.,  400.,  500.,  600.,  700.,  800.,  900.,    0.,    0.], dtype=float32)"
      ]
     },
     "execution_count": 44,
     "metadata": {},
     "output_type": "execute_result"
    }
   ],
   "source": [
    "t.multy(100)"
   ]
  },
  {
   "cell_type": "code",
   "execution_count": 45,
   "id": "3a8e47cc",
   "metadata": {
    "ExecuteTime": {
     "end_time": "2022-02-28T14:31:48.380143Z",
     "start_time": "2022-02-28T14:31:48.375619Z"
    }
   },
   "outputs": [
    {
     "name": "stdout",
     "output_type": "stream",
     "text": [
      "get self.public_name='multy' self=<__main__.compiledmethod object at 0x1367512b0> obj=<__main__.Thing object at 0x130f93fa0>\n"
     ]
    },
    {
     "data": {
      "text/plain": [
       "DeviceArray([   0.,  100.,  200.,  300.,  400.,  500.,  600.,  700.,  800.,  900.,    0.,    0.], dtype=float32)"
      ]
     },
     "execution_count": 45,
     "metadata": {},
     "output_type": "execute_result"
    }
   ],
   "source": [
    "t.multy(100)"
   ]
  },
  {
   "cell_type": "code",
   "execution_count": 46,
   "id": "ee4cf1ec",
   "metadata": {
    "ExecuteTime": {
     "end_time": "2022-02-28T14:31:49.765161Z",
     "start_time": "2022-02-28T14:31:49.760675Z"
    }
   },
   "outputs": [
    {
     "name": "stdout",
     "output_type": "stream",
     "text": [
      "get self.public_name='multy' self=<__main__.compiledmethod object at 0x1367512b0> obj=<__main__.Thing object at 0x130f93fa0>\n"
     ]
    },
    {
     "data": {
      "text/plain": [
       "DeviceArray([  0.,  10.,  20.,  30.,  40.,  50.,  60.,  70.,  80.,  90.,   0.,   0.], dtype=float32)"
      ]
     },
     "execution_count": 46,
     "metadata": {},
     "output_type": "execute_result"
    }
   ],
   "source": [
    "t.multy(10)"
   ]
  },
  {
   "cell_type": "code",
   "execution_count": 47,
   "id": "5abec617",
   "metadata": {
    "ExecuteTime": {
     "end_time": "2022-02-28T14:31:50.270511Z",
     "start_time": "2022-02-28T14:31:50.246654Z"
    }
   },
   "outputs": [
    {
     "name": "stdout",
     "output_type": "stream",
     "text": [
      "get self.public_name='multy' self=<__main__.compiledmethod object at 0x1367512b0> obj=<__main__.Thing object at 0x130f93fa0>\n"
     ]
    },
    {
     "data": {
      "text/plain": [
       "DeviceArray([  0.,   2.,   6.,  12.,  20.,  30.,  42.,  56.,  72.,  90.,   0.,   0.], dtype=float32)"
      ]
     },
     "execution_count": 47,
     "metadata": {},
     "output_type": "execute_result"
    }
   ],
   "source": [
    "t.multy(jnp.arange(12)+1)"
   ]
  },
  {
   "cell_type": "code",
   "execution_count": 48,
   "id": "89f4db52",
   "metadata": {
    "ExecuteTime": {
     "end_time": "2022-02-28T14:31:52.271654Z",
     "start_time": "2022-02-28T14:31:52.266985Z"
    }
   },
   "outputs": [
    {
     "name": "stdout",
     "output_type": "stream",
     "text": [
      "get self.public_name='multy' self=<__main__.compiledmethod object at 0x1367512b0> obj=None\n",
      "recompile self.public_name='multy' self=<__main__.compiledmethod object at 0x1367512b0> obj=None\n",
      "get self.public_name='multy' self=<__main__.compiledmethod object at 0x1367512b0> obj=<__main__.Thing object at 0x130f93fa0>\n"
     ]
    }
   ],
   "source": [
    "t.multy?"
   ]
  },
  {
   "cell_type": "code",
   "execution_count": null,
   "id": "bd316b1b",
   "metadata": {},
   "outputs": [],
   "source": []
  }
 ],
 "metadata": {
  "kernelspec": {
   "display_name": "Python 3 (ipykernel)",
   "language": "python",
   "name": "python3"
  },
  "language_info": {
   "codemirror_mode": {
    "name": "ipython",
    "version": 3
   },
   "file_extension": ".py",
   "mimetype": "text/x-python",
   "name": "python",
   "nbconvert_exporter": "python",
   "pygments_lexer": "ipython3",
   "version": "3.9.10"
  },
  "toc": {
   "base_numbering": 1,
   "nav_menu": {},
   "number_sections": false,
   "sideBar": true,
   "skip_h1_title": false,
   "title_cell": "Table of Contents",
   "title_sidebar": "Contents",
   "toc_cell": false,
   "toc_position": {},
   "toc_section_display": true,
   "toc_window_display": false
  }
 },
 "nbformat": 4,
 "nbformat_minor": 5
}
