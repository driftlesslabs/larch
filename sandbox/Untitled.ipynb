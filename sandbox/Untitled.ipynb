{
 "cells": [
  {
   "cell_type": "code",
   "execution_count": null,
   "id": "3116ff7d",
   "metadata": {},
   "outputs": [],
   "source": [
    "import jax\n",
    "import jax.numpy as jnp"
   ]
  },
  {
   "cell_type": "code",
   "execution_count": null,
   "id": "a3964d92",
   "metadata": {},
   "outputs": [],
   "source": [
    "class compiledmethod:\n",
    "\n",
    "    def __init__(self, wrapped_method):\n",
    "        # self : compiledmethod\n",
    "        # wrapped_method : the class method being decorated\n",
    "        print(f\"__init__ {wrapped_method=} {self=}\")\n",
    "        self.wrapped_method = wrapped_method\n",
    "        self.docstring = wrapped_method.__doc__\n",
    "\n",
    "    def __set_name__(self, owner, name):\n",
    "        # self : compiledmethod\n",
    "        # owner : parent class that will have `self` as a member\n",
    "        # name : the name of the attribute that `self` will be\n",
    "        print(f\"set_name {owner=} {name=}\")\n",
    "        self.public_name = name\n",
    "        self.private_name = '_precompiled_' + name\n",
    "        if not hasattr(owner, '_compiledmethods'):\n",
    "            owner._compiledmethods = []\n",
    "        owner._compiledmethods.append(name)\n",
    "\n",
    "    def __get__(self, obj, objtype=None):\n",
    "        # self : compiledmethod\n",
    "        # obj : instance of parent class that has `self` as a member\n",
    "        # objtype : class of `obj`\n",
    "        print(f\"get {self.public_name=} {self=} {obj=}\")\n",
    "        result = getattr(obj, self.private_name, None)\n",
    "        if result is None:\n",
    "\n",
    "            @jax.jit\n",
    "            def func(*args, **kwargs):\n",
    "                return self.wrapped_method(obj, *args, **kwargs)\n",
    "\n",
    "            print(f\"recompile {self.public_name=} {self=} {obj=}\")\n",
    "            result = func\n",
    "            result.__doc__ = self.docstring\n",
    "            setattr(obj, self.private_name, result)\n",
    "        return result\n",
    "\n",
    "    def __set__(self, obj, value):\n",
    "        # self : compiledmethod\n",
    "        # obj : instance of parent class that has `self` as a member\n",
    "        # value : the new value that is trying to be assigned\n",
    "        raise AttributeError(f\"can't set {self.public_name}\")\n",
    "\n",
    "class Thing:\n",
    "\n",
    "    def __init__(self):\n",
    "        self.a = jnp.arange(10)\n",
    "\n",
    "    @compiledmethod\n",
    "    def multy(self, y):\n",
    "        \"\"\"\n",
    "        Do a thing.\n",
    "\n",
    "        Parameters\n",
    "        ----------\n",
    "        y : array-like or scalar\n",
    "        \"\"\"\n",
    "        sa = jnp.array(self.a)\n",
    "        aa = jnp.zeros(12)\n",
    "        aa = aa.at[:10].add(self.a)\n",
    "        return aa * y\n"
   ]
  },
  {
   "cell_type": "code",
   "execution_count": null,
   "id": "b4f414fe",
   "metadata": {},
   "outputs": [],
   "source": [
    "t = Thing()"
   ]
  },
  {
   "cell_type": "code",
   "execution_count": null,
   "id": "ce0314c7",
   "metadata": {},
   "outputs": [],
   "source": [
    "t.multy(100)"
   ]
  },
  {
   "cell_type": "code",
   "execution_count": null,
   "id": "3a8e47cc",
   "metadata": {},
   "outputs": [],
   "source": [
    "t.multy(100)"
   ]
  },
  {
   "cell_type": "code",
   "execution_count": null,
   "id": "ee4cf1ec",
   "metadata": {},
   "outputs": [],
   "source": [
    "t.multy(10)"
   ]
  },
  {
   "cell_type": "code",
   "execution_count": null,
   "id": "5abec617",
   "metadata": {},
   "outputs": [],
   "source": [
    "t.multy(jnp.arange(12)+1)"
   ]
  },
  {
   "cell_type": "code",
   "execution_count": null,
   "id": "89f4db52",
   "metadata": {},
   "outputs": [],
   "source": [
    "t.multy?"
   ]
  },
  {
   "cell_type": "code",
   "execution_count": null,
   "id": "bd316b1b",
   "metadata": {},
   "outputs": [],
   "source": []
  }
 ],
 "metadata": {
  "kernelspec": {
   "display_name": "Python 3 (ipykernel)",
   "language": "python",
   "name": "python3"
  },
  "language_info": {
   "codemirror_mode": {
    "name": "ipython",
    "version": 3
   },
   "file_extension": ".py",
   "mimetype": "text/x-python",
   "name": "python",
   "nbconvert_exporter": "python",
   "pygments_lexer": "ipython3",
   "version": "3.9.10"
  },
  "toc": {
   "base_numbering": 1,
   "nav_menu": {},
   "number_sections": false,
   "sideBar": true,
   "skip_h1_title": false,
   "title_cell": "Table of Contents",
   "title_sidebar": "Contents",
   "toc_cell": false,
   "toc_position": {},
   "toc_section_display": true,
   "toc_window_display": false
  }
 },
 "nbformat": 4,
 "nbformat_minor": 5
}
