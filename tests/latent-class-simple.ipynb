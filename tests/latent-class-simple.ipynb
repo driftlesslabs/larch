{
 "cells": [
  {
   "cell_type": "code",
   "execution_count": 1,
   "id": "38ba13ec",
   "metadata": {
    "ExecuteTime": {
     "end_time": "2022-03-05T19:27:29.183356Z",
     "start_time": "2022-03-05T19:27:24.917543Z"
    }
   },
   "outputs": [
    {
     "name": "stderr",
     "output_type": "stream",
     "text": [
      "/Users/jeffnewman/LocalGit/larch/larch/numba/model.py:23: UserWarning: \n",
      "\n",
      "### larch.numba is experimental, and not feature-complete ###\n",
      " the first time you import on a new system, this package will\n",
      " compile optimized binaries for your machine, which may take \n",
      " a little while, please be patient \n",
      "\n",
      "  warnings.warn( ### EXPERIMENTAL ### )\n",
      "OMP: Info #273: omp_set_nested routine deprecated, please use omp_set_max_active_levels instead.\n"
     ]
    }
   ],
   "source": [
    "import larix as lx\n",
    "import pandas as pd\n",
    "from larch.roles import P,X\n",
    "\n",
    "import numpy as np\n",
    "import xarray as xr\n",
    "from pytest import approx"
   ]
  },
  {
   "cell_type": "code",
   "execution_count": 2,
   "id": "80efb761",
   "metadata": {
    "ExecuteTime": {
     "end_time": "2022-03-05T19:27:29.229502Z",
     "start_time": "2022-03-05T19:27:29.185655Z"
    }
   },
   "outputs": [],
   "source": [
    "raw = pd.read_csv(lx.example_file('swissmetro.csv.gz'))\n",
    "raw['SM_COST'] = raw['SM_CO'] * (raw[\"GA\"]==0) \n",
    "raw['TRAIN_COST'] = raw.eval(\"TRAIN_CO * (GA == 0)\") \n",
    "raw['TRAIN_COST_SCALED'] = raw['TRAIN_COST'] / 100\n",
    "raw['TRAIN_TT_SCALED'] = raw['TRAIN_TT'] / 100\n",
    "\n",
    "raw['SM_COST_SCALED'] = raw.eval('SM_COST / 100')\n",
    "raw['SM_TT_SCALED'] = raw['SM_TT'] / 100\n",
    "\n",
    "raw['CAR_CO_SCALED'] = raw['CAR_CO'] / 100\n",
    "raw['CAR_TT_SCALED'] = raw['CAR_TT'] / 100\n",
    "raw['CAR_AV_SP'] = raw.eval(\"CAR_AV * (SP!=0)\")\n",
    "raw['TRAIN_AV_SP'] = raw.eval(\"TRAIN_AV * (SP!=0)\")\n",
    "\n",
    "raw['keep'] = raw.eval(\"PURPOSE in (1,3) and CHOICE != 0\")"
   ]
  },
  {
   "cell_type": "code",
   "execution_count": 3,
   "id": "655d5263",
   "metadata": {
    "ExecuteTime": {
     "end_time": "2022-03-05T19:27:29.254443Z",
     "start_time": "2022-03-05T19:27:29.231257Z"
    }
   },
   "outputs": [
    {
     "data": {
      "text/html": [
       "<div>\n",
       "<style scoped>\n",
       "    .dataframe tbody tr th:only-of-type {\n",
       "        vertical-align: middle;\n",
       "    }\n",
       "\n",
       "    .dataframe tbody tr th {\n",
       "        vertical-align: top;\n",
       "    }\n",
       "\n",
       "    .dataframe thead th {\n",
       "        text-align: right;\n",
       "    }\n",
       "</style>\n",
       "<table border=\"1\" class=\"dataframe\">\n",
       "  <thead>\n",
       "    <tr style=\"text-align: right;\">\n",
       "      <th></th>\n",
       "      <th>GROUP</th>\n",
       "      <th>SURVEY</th>\n",
       "      <th>SP</th>\n",
       "      <th>ID</th>\n",
       "      <th>PURPOSE</th>\n",
       "      <th>FIRST</th>\n",
       "      <th>TICKET</th>\n",
       "      <th>WHO</th>\n",
       "      <th>LUGGAGE</th>\n",
       "      <th>AGE</th>\n",
       "      <th>...</th>\n",
       "      <th>TRAIN_COST</th>\n",
       "      <th>TRAIN_COST_SCALED</th>\n",
       "      <th>TRAIN_TT_SCALED</th>\n",
       "      <th>SM_COST_SCALED</th>\n",
       "      <th>SM_TT_SCALED</th>\n",
       "      <th>CAR_CO_SCALED</th>\n",
       "      <th>CAR_TT_SCALED</th>\n",
       "      <th>CAR_AV_SP</th>\n",
       "      <th>TRAIN_AV_SP</th>\n",
       "      <th>keep</th>\n",
       "    </tr>\n",
       "  </thead>\n",
       "  <tbody>\n",
       "    <tr>\n",
       "      <th>0</th>\n",
       "      <td>2</td>\n",
       "      <td>0</td>\n",
       "      <td>1</td>\n",
       "      <td>1</td>\n",
       "      <td>1</td>\n",
       "      <td>0</td>\n",
       "      <td>1</td>\n",
       "      <td>1</td>\n",
       "      <td>0</td>\n",
       "      <td>3</td>\n",
       "      <td>...</td>\n",
       "      <td>48</td>\n",
       "      <td>0.48</td>\n",
       "      <td>1.12</td>\n",
       "      <td>0.52</td>\n",
       "      <td>0.63</td>\n",
       "      <td>0.65</td>\n",
       "      <td>1.17</td>\n",
       "      <td>1</td>\n",
       "      <td>1</td>\n",
       "      <td>True</td>\n",
       "    </tr>\n",
       "    <tr>\n",
       "      <th>1</th>\n",
       "      <td>2</td>\n",
       "      <td>0</td>\n",
       "      <td>1</td>\n",
       "      <td>1</td>\n",
       "      <td>1</td>\n",
       "      <td>0</td>\n",
       "      <td>1</td>\n",
       "      <td>1</td>\n",
       "      <td>0</td>\n",
       "      <td>3</td>\n",
       "      <td>...</td>\n",
       "      <td>48</td>\n",
       "      <td>0.48</td>\n",
       "      <td>1.03</td>\n",
       "      <td>0.49</td>\n",
       "      <td>0.60</td>\n",
       "      <td>0.84</td>\n",
       "      <td>1.17</td>\n",
       "      <td>1</td>\n",
       "      <td>1</td>\n",
       "      <td>True</td>\n",
       "    </tr>\n",
       "    <tr>\n",
       "      <th>2</th>\n",
       "      <td>2</td>\n",
       "      <td>0</td>\n",
       "      <td>1</td>\n",
       "      <td>1</td>\n",
       "      <td>1</td>\n",
       "      <td>0</td>\n",
       "      <td>1</td>\n",
       "      <td>1</td>\n",
       "      <td>0</td>\n",
       "      <td>3</td>\n",
       "      <td>...</td>\n",
       "      <td>48</td>\n",
       "      <td>0.48</td>\n",
       "      <td>1.30</td>\n",
       "      <td>0.58</td>\n",
       "      <td>0.67</td>\n",
       "      <td>0.52</td>\n",
       "      <td>1.17</td>\n",
       "      <td>1</td>\n",
       "      <td>1</td>\n",
       "      <td>True</td>\n",
       "    </tr>\n",
       "    <tr>\n",
       "      <th>3</th>\n",
       "      <td>2</td>\n",
       "      <td>0</td>\n",
       "      <td>1</td>\n",
       "      <td>1</td>\n",
       "      <td>1</td>\n",
       "      <td>0</td>\n",
       "      <td>1</td>\n",
       "      <td>1</td>\n",
       "      <td>0</td>\n",
       "      <td>3</td>\n",
       "      <td>...</td>\n",
       "      <td>40</td>\n",
       "      <td>0.40</td>\n",
       "      <td>1.03</td>\n",
       "      <td>0.52</td>\n",
       "      <td>0.63</td>\n",
       "      <td>0.52</td>\n",
       "      <td>0.72</td>\n",
       "      <td>1</td>\n",
       "      <td>1</td>\n",
       "      <td>True</td>\n",
       "    </tr>\n",
       "    <tr>\n",
       "      <th>4</th>\n",
       "      <td>2</td>\n",
       "      <td>0</td>\n",
       "      <td>1</td>\n",
       "      <td>1</td>\n",
       "      <td>1</td>\n",
       "      <td>0</td>\n",
       "      <td>1</td>\n",
       "      <td>1</td>\n",
       "      <td>0</td>\n",
       "      <td>3</td>\n",
       "      <td>...</td>\n",
       "      <td>36</td>\n",
       "      <td>0.36</td>\n",
       "      <td>1.30</td>\n",
       "      <td>0.42</td>\n",
       "      <td>0.63</td>\n",
       "      <td>0.84</td>\n",
       "      <td>0.90</td>\n",
       "      <td>1</td>\n",
       "      <td>1</td>\n",
       "      <td>True</td>\n",
       "    </tr>\n",
       "    <tr>\n",
       "      <th>...</th>\n",
       "      <td>...</td>\n",
       "      <td>...</td>\n",
       "      <td>...</td>\n",
       "      <td>...</td>\n",
       "      <td>...</td>\n",
       "      <td>...</td>\n",
       "      <td>...</td>\n",
       "      <td>...</td>\n",
       "      <td>...</td>\n",
       "      <td>...</td>\n",
       "      <td>...</td>\n",
       "      <td>...</td>\n",
       "      <td>...</td>\n",
       "      <td>...</td>\n",
       "      <td>...</td>\n",
       "      <td>...</td>\n",
       "      <td>...</td>\n",
       "      <td>...</td>\n",
       "      <td>...</td>\n",
       "      <td>...</td>\n",
       "      <td>...</td>\n",
       "    </tr>\n",
       "    <tr>\n",
       "      <th>10723</th>\n",
       "      <td>3</td>\n",
       "      <td>1</td>\n",
       "      <td>1</td>\n",
       "      <td>1192</td>\n",
       "      <td>4</td>\n",
       "      <td>1</td>\n",
       "      <td>7</td>\n",
       "      <td>1</td>\n",
       "      <td>0</td>\n",
       "      <td>5</td>\n",
       "      <td>...</td>\n",
       "      <td>13</td>\n",
       "      <td>0.13</td>\n",
       "      <td>1.48</td>\n",
       "      <td>0.17</td>\n",
       "      <td>0.93</td>\n",
       "      <td>0.56</td>\n",
       "      <td>1.56</td>\n",
       "      <td>1</td>\n",
       "      <td>1</td>\n",
       "      <td>False</td>\n",
       "    </tr>\n",
       "    <tr>\n",
       "      <th>10724</th>\n",
       "      <td>3</td>\n",
       "      <td>1</td>\n",
       "      <td>1</td>\n",
       "      <td>1192</td>\n",
       "      <td>4</td>\n",
       "      <td>1</td>\n",
       "      <td>7</td>\n",
       "      <td>1</td>\n",
       "      <td>0</td>\n",
       "      <td>5</td>\n",
       "      <td>...</td>\n",
       "      <td>12</td>\n",
       "      <td>0.12</td>\n",
       "      <td>1.48</td>\n",
       "      <td>0.16</td>\n",
       "      <td>0.96</td>\n",
       "      <td>0.70</td>\n",
       "      <td>0.96</td>\n",
       "      <td>1</td>\n",
       "      <td>1</td>\n",
       "      <td>False</td>\n",
       "    </tr>\n",
       "    <tr>\n",
       "      <th>10725</th>\n",
       "      <td>3</td>\n",
       "      <td>1</td>\n",
       "      <td>1</td>\n",
       "      <td>1192</td>\n",
       "      <td>4</td>\n",
       "      <td>1</td>\n",
       "      <td>7</td>\n",
       "      <td>1</td>\n",
       "      <td>0</td>\n",
       "      <td>5</td>\n",
       "      <td>...</td>\n",
       "      <td>16</td>\n",
       "      <td>0.16</td>\n",
       "      <td>1.48</td>\n",
       "      <td>0.16</td>\n",
       "      <td>0.93</td>\n",
       "      <td>0.56</td>\n",
       "      <td>0.96</td>\n",
       "      <td>1</td>\n",
       "      <td>1</td>\n",
       "      <td>False</td>\n",
       "    </tr>\n",
       "    <tr>\n",
       "      <th>10726</th>\n",
       "      <td>3</td>\n",
       "      <td>1</td>\n",
       "      <td>1</td>\n",
       "      <td>1192</td>\n",
       "      <td>4</td>\n",
       "      <td>1</td>\n",
       "      <td>7</td>\n",
       "      <td>1</td>\n",
       "      <td>0</td>\n",
       "      <td>5</td>\n",
       "      <td>...</td>\n",
       "      <td>16</td>\n",
       "      <td>0.16</td>\n",
       "      <td>1.78</td>\n",
       "      <td>0.17</td>\n",
       "      <td>0.96</td>\n",
       "      <td>0.91</td>\n",
       "      <td>0.96</td>\n",
       "      <td>1</td>\n",
       "      <td>1</td>\n",
       "      <td>False</td>\n",
       "    </tr>\n",
       "    <tr>\n",
       "      <th>10727</th>\n",
       "      <td>3</td>\n",
       "      <td>1</td>\n",
       "      <td>1</td>\n",
       "      <td>1192</td>\n",
       "      <td>4</td>\n",
       "      <td>1</td>\n",
       "      <td>7</td>\n",
       "      <td>1</td>\n",
       "      <td>0</td>\n",
       "      <td>5</td>\n",
       "      <td>...</td>\n",
       "      <td>13</td>\n",
       "      <td>0.13</td>\n",
       "      <td>1.48</td>\n",
       "      <td>0.21</td>\n",
       "      <td>0.96</td>\n",
       "      <td>0.70</td>\n",
       "      <td>1.20</td>\n",
       "      <td>1</td>\n",
       "      <td>1</td>\n",
       "      <td>False</td>\n",
       "    </tr>\n",
       "  </tbody>\n",
       "</table>\n",
       "<p>10728 rows × 39 columns</p>\n",
       "</div>"
      ],
      "text/plain": [
       "       GROUP  SURVEY  SP    ID  PURPOSE  FIRST  TICKET  WHO  LUGGAGE  AGE  \\\n",
       "0          2       0   1     1        1      0       1    1        0    3   \n",
       "1          2       0   1     1        1      0       1    1        0    3   \n",
       "2          2       0   1     1        1      0       1    1        0    3   \n",
       "3          2       0   1     1        1      0       1    1        0    3   \n",
       "4          2       0   1     1        1      0       1    1        0    3   \n",
       "...      ...     ...  ..   ...      ...    ...     ...  ...      ...  ...   \n",
       "10723      3       1   1  1192        4      1       7    1        0    5   \n",
       "10724      3       1   1  1192        4      1       7    1        0    5   \n",
       "10725      3       1   1  1192        4      1       7    1        0    5   \n",
       "10726      3       1   1  1192        4      1       7    1        0    5   \n",
       "10727      3       1   1  1192        4      1       7    1        0    5   \n",
       "\n",
       "       ...  TRAIN_COST  TRAIN_COST_SCALED  TRAIN_TT_SCALED  SM_COST_SCALED  \\\n",
       "0      ...          48               0.48             1.12            0.52   \n",
       "1      ...          48               0.48             1.03            0.49   \n",
       "2      ...          48               0.48             1.30            0.58   \n",
       "3      ...          40               0.40             1.03            0.52   \n",
       "4      ...          36               0.36             1.30            0.42   \n",
       "...    ...         ...                ...              ...             ...   \n",
       "10723  ...          13               0.13             1.48            0.17   \n",
       "10724  ...          12               0.12             1.48            0.16   \n",
       "10725  ...          16               0.16             1.48            0.16   \n",
       "10726  ...          16               0.16             1.78            0.17   \n",
       "10727  ...          13               0.13             1.48            0.21   \n",
       "\n",
       "       SM_TT_SCALED  CAR_CO_SCALED  CAR_TT_SCALED  CAR_AV_SP  TRAIN_AV_SP  \\\n",
       "0              0.63           0.65           1.17          1            1   \n",
       "1              0.60           0.84           1.17          1            1   \n",
       "2              0.67           0.52           1.17          1            1   \n",
       "3              0.63           0.52           0.72          1            1   \n",
       "4              0.63           0.84           0.90          1            1   \n",
       "...             ...            ...            ...        ...          ...   \n",
       "10723          0.93           0.56           1.56          1            1   \n",
       "10724          0.96           0.70           0.96          1            1   \n",
       "10725          0.93           0.56           0.96          1            1   \n",
       "10726          0.96           0.91           0.96          1            1   \n",
       "10727          0.96           0.70           1.20          1            1   \n",
       "\n",
       "        keep  \n",
       "0       True  \n",
       "1       True  \n",
       "2       True  \n",
       "3       True  \n",
       "4       True  \n",
       "...      ...  \n",
       "10723  False  \n",
       "10724  False  \n",
       "10725  False  \n",
       "10726  False  \n",
       "10727  False  \n",
       "\n",
       "[10728 rows x 39 columns]"
      ]
     },
     "execution_count": 3,
     "metadata": {},
     "output_type": "execute_result"
    }
   ],
   "source": [
    "raw"
   ]
  },
  {
   "cell_type": "code",
   "execution_count": null,
   "id": "1495fd0f",
   "metadata": {},
   "outputs": [],
   "source": []
  },
  {
   "cell_type": "code",
   "execution_count": 4,
   "id": "71cb1319",
   "metadata": {
    "ExecuteTime": {
     "end_time": "2022-03-05T19:27:29.339228Z",
     "start_time": "2022-03-05T19:27:29.256588Z"
    }
   },
   "outputs": [],
   "source": [
    "data = lx.Dataset.construct.from_idco(raw).dc.query_cases('keep')"
   ]
  },
  {
   "cell_type": "code",
   "execution_count": 5,
   "id": "2641df0d",
   "metadata": {
    "ExecuteTime": {
     "end_time": "2022-03-05T19:27:29.346583Z",
     "start_time": "2022-03-05T19:27:29.340623Z"
    }
   },
   "outputs": [],
   "source": [
    "m1 = lx.Model(\n",
    "    data.dc.set_altids([1,2,3])\n",
    ")\n",
    "m1.availability_co_vars = {\n",
    "    1: \"TRAIN_AV_SP\",\n",
    "    2: \"SM_AV\",\n",
    "    3: \"CAR_AV_SP\",\n",
    "}\n",
    "m1.choice_co_code = 'CHOICE'\n",
    "\n",
    "m1.utility_co[1] = P(\"ASC_TRAIN\") + X(\"TRAIN_COST_SCALED\") * P(\"B_COST\")\n",
    "m1.utility_co[2] = X(\"SM_COST_SCALED\") * P(\"B_COST\")\n",
    "m1.utility_co[3] = P(\"ASC_CAR\") + X(\"CAR_CO_SCALED\") * P(\"B_COST\")"
   ]
  },
  {
   "cell_type": "code",
   "execution_count": 6,
   "id": "a23caf6d",
   "metadata": {
    "ExecuteTime": {
     "end_time": "2022-03-05T19:27:29.355122Z",
     "start_time": "2022-03-05T19:27:29.348425Z"
    }
   },
   "outputs": [],
   "source": [
    "m2 = lx.Model(\n",
    "    data.dc.set_altids([1,2,3])\n",
    ")\n",
    "m2.availability_co_vars = {\n",
    "    1: \"TRAIN_AV_SP\",\n",
    "    2: \"SM_AV\",\n",
    "    3: \"CAR_AV_SP\",\n",
    "}\n",
    "m2.choice_co_code = 'CHOICE'\n",
    "\n",
    "m2.utility_co[1] = P(\"ASC_TRAIN\") + X(\"TRAIN_TT_SCALED\") * P(\"B_TIME\") + X(\"TRAIN_COST_SCALED\") * P(\"B_COST\")\n",
    "m2.utility_co[2] = X(\"SM_TT_SCALED\") * P(\"B_TIME\") + X(\"SM_COST_SCALED\") * P(\"B_COST\")\n",
    "m2.utility_co[3] = P(\"ASC_CAR\") + X(\"CAR_TT_SCALED\") * P(\"B_TIME\") + X(\"CAR_CO_SCALED\") * P(\"B_COST\")"
   ]
  },
  {
   "cell_type": "code",
   "execution_count": 7,
   "id": "6e45dfe3",
   "metadata": {
    "ExecuteTime": {
     "end_time": "2022-03-05T19:27:29.361199Z",
     "start_time": "2022-03-05T19:27:29.356401Z"
    }
   },
   "outputs": [],
   "source": [
    "mk = lx.Model(\n",
    "    data.dc.set_altids([101,102])\n",
    ")\n",
    "mk.utility_co[102] = P(\"W_OTHER\")"
   ]
  },
  {
   "cell_type": "code",
   "execution_count": 8,
   "id": "e0a37d65",
   "metadata": {
    "ExecuteTime": {
     "end_time": "2022-03-05T19:27:31.739148Z",
     "start_time": "2022-03-05T19:27:29.362649Z"
    }
   },
   "outputs": [
    {
     "data": {
      "text/html": [
       "<div>\n",
       "<style scoped>\n",
       "    .dataframe tbody tr th:only-of-type {\n",
       "        vertical-align: middle;\n",
       "    }\n",
       "\n",
       "    .dataframe tbody tr th {\n",
       "        vertical-align: top;\n",
       "    }\n",
       "\n",
       "    .dataframe thead th {\n",
       "        text-align: right;\n",
       "    }\n",
       "</style>\n",
       "<table border=\"1\" class=\"dataframe\">\n",
       "  <thead>\n",
       "    <tr style=\"text-align: right;\">\n",
       "      <th></th>\n",
       "      <th>value</th>\n",
       "      <th>initvalue</th>\n",
       "      <th>nullvalue</th>\n",
       "      <th>minimum</th>\n",
       "      <th>maximum</th>\n",
       "      <th>holdfast</th>\n",
       "      <th>note</th>\n",
       "    </tr>\n",
       "  </thead>\n",
       "  <tbody>\n",
       "    <tr>\n",
       "      <th>ASC_CAR</th>\n",
       "      <td>0.0</td>\n",
       "      <td>0.0</td>\n",
       "      <td>0.0</td>\n",
       "      <td>-inf</td>\n",
       "      <td>inf</td>\n",
       "      <td>0</td>\n",
       "      <td></td>\n",
       "    </tr>\n",
       "    <tr>\n",
       "      <th>ASC_TRAIN</th>\n",
       "      <td>0.0</td>\n",
       "      <td>0.0</td>\n",
       "      <td>0.0</td>\n",
       "      <td>-inf</td>\n",
       "      <td>inf</td>\n",
       "      <td>0</td>\n",
       "      <td></td>\n",
       "    </tr>\n",
       "    <tr>\n",
       "      <th>B_COST</th>\n",
       "      <td>0.0</td>\n",
       "      <td>0.0</td>\n",
       "      <td>0.0</td>\n",
       "      <td>-inf</td>\n",
       "      <td>inf</td>\n",
       "      <td>0</td>\n",
       "      <td></td>\n",
       "    </tr>\n",
       "  </tbody>\n",
       "</table>\n",
       "</div>"
      ],
      "text/plain": [
       "           value  initvalue  nullvalue  minimum  maximum  holdfast note\n",
       "ASC_CAR      0.0        0.0        0.0     -inf      inf         0     \n",
       "ASC_TRAIN    0.0        0.0        0.0     -inf      inf         0     \n",
       "B_COST       0.0        0.0        0.0     -inf      inf         0     "
      ]
     },
     "execution_count": 8,
     "metadata": {},
     "output_type": "execute_result"
    }
   ],
   "source": [
    "m1.pf"
   ]
  },
  {
   "cell_type": "code",
   "execution_count": 9,
   "id": "f6397a09",
   "metadata": {
    "ExecuteTime": {
     "end_time": "2022-03-05T19:27:33.971361Z",
     "start_time": "2022-03-05T19:27:31.741147Z"
    }
   },
   "outputs": [],
   "source": [
    "b = lx.LatentClass(\n",
    "    mk, \n",
    "    {101:m1, 102:m2}, \n",
    "    datatree=data.dc.set_altids([1,2,3]),\n",
    ")"
   ]
  },
  {
   "cell_type": "code",
   "execution_count": 10,
   "id": "0bf84b8f",
   "metadata": {
    "ExecuteTime": {
     "end_time": "2022-03-05T19:27:37.908074Z",
     "start_time": "2022-03-05T19:27:33.976413Z"
    }
   },
   "outputs": [],
   "source": [
    "b.reflow_data_arrays()"
   ]
  },
  {
   "cell_type": "code",
   "execution_count": 11,
   "id": "364af6ac",
   "metadata": {
    "ExecuteTime": {
     "end_time": "2022-03-05T19:27:37.912437Z",
     "start_time": "2022-03-05T19:27:37.910055Z"
    }
   },
   "outputs": [],
   "source": [
    "assert b.groupid is None"
   ]
  },
  {
   "cell_type": "code",
   "execution_count": 12,
   "id": "2dd7b605",
   "metadata": {
    "ExecuteTime": {
     "end_time": "2022-03-05T19:27:39.033650Z",
     "start_time": "2022-03-05T19:27:37.914325Z"
    }
   },
   "outputs": [
    {
     "name": "stderr",
     "output_type": "stream",
     "text": [
      "WARNING:absl:No GPU/TPU found, falling back to CPU. (Set TF_CPP_MIN_LOG_LEVEL=0 and rerun for more info.)\n"
     ]
    },
    {
     "data": {
      "text/plain": [
       "DeviceArray(-6964.699, dtype=float32)"
      ]
     },
     "execution_count": 12,
     "metadata": {},
     "output_type": "execute_result"
    }
   ],
   "source": [
    "b.jax_loglike(b.pvals)"
   ]
  },
  {
   "cell_type": "code",
   "execution_count": 13,
   "id": "57bedef4",
   "metadata": {
    "ExecuteTime": {
     "end_time": "2022-03-05T19:27:39.042480Z",
     "start_time": "2022-03-05T19:27:39.036632Z"
    }
   },
   "outputs": [
    {
     "data": {
      "text/plain": [
       "DeviceArray(-6964.699, dtype=float32)"
      ]
     },
     "execution_count": 13,
     "metadata": {},
     "output_type": "execute_result"
    }
   ],
   "source": [
    "b.jax_loglike(b.pvals)"
   ]
  },
  {
   "cell_type": "code",
   "execution_count": 14,
   "id": "dce7dc36",
   "metadata": {
    "ExecuteTime": {
     "end_time": "2022-03-05T19:27:39.049087Z",
     "start_time": "2022-03-05T19:27:39.044389Z"
    }
   },
   "outputs": [],
   "source": [
    "assert b.jax_loglike(b.pvals) == approx(-6964.6445, rel=1e-4)"
   ]
  },
  {
   "cell_type": "code",
   "execution_count": 15,
   "id": "fa775a91",
   "metadata": {
    "ExecuteTime": {
     "end_time": "2022-03-05T19:27:39.055863Z",
     "start_time": "2022-03-05T19:27:39.051040Z"
    }
   },
   "outputs": [
    {
     "data": {
      "text/plain": [
       "DeviceArray(-6964.699, dtype=float32)"
      ]
     },
     "execution_count": 15,
     "metadata": {},
     "output_type": "execute_result"
    }
   ],
   "source": [
    "b.jax_loglike(b.pvals)"
   ]
  },
  {
   "cell_type": "code",
   "execution_count": 16,
   "id": "ad75536c",
   "metadata": {
    "ExecuteTime": {
     "end_time": "2022-03-05T19:27:43.646371Z",
     "start_time": "2022-03-05T19:27:39.057247Z"
    }
   },
   "outputs": [
    {
     "data": {
      "text/plain": [
       "DeviceArray([  -98.999954, -1541.4995  ,  -224.60873 ,  -923.5082  ,     0.      ], dtype=float32)"
      ]
     },
     "execution_count": 16,
     "metadata": {},
     "output_type": "execute_result"
    }
   ],
   "source": [
    "b.jax_d_loglike(b.pvals) # 5.25s"
   ]
  },
  {
   "cell_type": "code",
   "execution_count": 17,
   "id": "e6fb4bf7",
   "metadata": {
    "ExecuteTime": {
     "end_time": "2022-03-05T19:27:43.653816Z",
     "start_time": "2022-03-05T19:27:43.648019Z"
    }
   },
   "outputs": [
    {
     "data": {
      "text/plain": [
       "DeviceArray([  -98.999954, -1541.4995  ,  -224.60873 ,  -923.5082  ,     0.      ], dtype=float32)"
      ]
     },
     "execution_count": 17,
     "metadata": {},
     "output_type": "execute_result"
    }
   ],
   "source": [
    "b.jax_d_loglike(b.pvals) # 5.25s"
   ]
  },
  {
   "cell_type": "code",
   "execution_count": 18,
   "id": "717554ad",
   "metadata": {
    "ExecuteTime": {
     "end_time": "2022-03-05T19:27:43.657207Z",
     "start_time": "2022-03-05T19:27:43.655306Z"
    }
   },
   "outputs": [],
   "source": [
    "#%timeit b.jax_d_loglike(b.pvals) # 15ms"
   ]
  },
  {
   "cell_type": "code",
   "execution_count": 19,
   "id": "17ae26d8",
   "metadata": {
    "ExecuteTime": {
     "end_time": "2022-03-05T19:27:43.732073Z",
     "start_time": "2022-03-05T19:27:43.659055Z"
    }
   },
   "outputs": [],
   "source": [
    "result = b.jax_maximize_loglike()"
   ]
  },
  {
   "cell_type": "code",
   "execution_count": 20,
   "id": "98162a04",
   "metadata": {
    "ExecuteTime": {
     "end_time": "2022-03-05T19:27:43.737527Z",
     "start_time": "2022-03-05T19:27:43.734320Z"
    }
   },
   "outputs": [],
   "source": [
    "assert result.loglike == approx(-5208.49609375, rel=1e-5)"
   ]
  },
  {
   "cell_type": "code",
   "execution_count": 21,
   "id": "1472642f",
   "metadata": {
    "ExecuteTime": {
     "end_time": "2022-03-05T19:27:43.747456Z",
     "start_time": "2022-03-05T19:27:43.739075Z"
    }
   },
   "outputs": [
    {
     "data": {
      "text/html": [
       "<div>\n",
       "<style scoped>\n",
       "    .dataframe tbody tr th:only-of-type {\n",
       "        vertical-align: middle;\n",
       "    }\n",
       "\n",
       "    .dataframe tbody tr th {\n",
       "        vertical-align: top;\n",
       "    }\n",
       "\n",
       "    .dataframe thead th {\n",
       "        text-align: right;\n",
       "    }\n",
       "</style>\n",
       "<table border=\"1\" class=\"dataframe\">\n",
       "  <thead>\n",
       "    <tr style=\"text-align: right;\">\n",
       "      <th></th>\n",
       "      <th>value</th>\n",
       "      <th>initvalue</th>\n",
       "      <th>nullvalue</th>\n",
       "      <th>minimum</th>\n",
       "      <th>maximum</th>\n",
       "      <th>holdfast</th>\n",
       "    </tr>\n",
       "    <tr>\n",
       "      <th>param_name</th>\n",
       "      <th></th>\n",
       "      <th></th>\n",
       "      <th></th>\n",
       "      <th></th>\n",
       "      <th></th>\n",
       "      <th></th>\n",
       "    </tr>\n",
       "  </thead>\n",
       "  <tbody>\n",
       "    <tr>\n",
       "      <th>ASC_CAR</th>\n",
       "      <td>0.124590</td>\n",
       "      <td>0.0</td>\n",
       "      <td>0.0</td>\n",
       "      <td>-inf</td>\n",
       "      <td>inf</td>\n",
       "      <td>0</td>\n",
       "    </tr>\n",
       "    <tr>\n",
       "      <th>ASC_TRAIN</th>\n",
       "      <td>-0.397589</td>\n",
       "      <td>0.0</td>\n",
       "      <td>0.0</td>\n",
       "      <td>-inf</td>\n",
       "      <td>inf</td>\n",
       "      <td>0</td>\n",
       "    </tr>\n",
       "    <tr>\n",
       "      <th>B_COST</th>\n",
       "      <td>-1.264065</td>\n",
       "      <td>0.0</td>\n",
       "      <td>0.0</td>\n",
       "      <td>-inf</td>\n",
       "      <td>inf</td>\n",
       "      <td>0</td>\n",
       "    </tr>\n",
       "    <tr>\n",
       "      <th>B_TIME</th>\n",
       "      <td>-2.797749</td>\n",
       "      <td>0.0</td>\n",
       "      <td>0.0</td>\n",
       "      <td>-inf</td>\n",
       "      <td>inf</td>\n",
       "      <td>0</td>\n",
       "    </tr>\n",
       "    <tr>\n",
       "      <th>W_OTHER</th>\n",
       "      <td>1.094482</td>\n",
       "      <td>0.0</td>\n",
       "      <td>0.0</td>\n",
       "      <td>-inf</td>\n",
       "      <td>inf</td>\n",
       "      <td>0</td>\n",
       "    </tr>\n",
       "  </tbody>\n",
       "</table>\n",
       "</div>"
      ],
      "text/plain": [
       "               value  initvalue  nullvalue  minimum  maximum  holdfast\n",
       "param_name                                                            \n",
       "ASC_CAR     0.124590        0.0        0.0     -inf      inf         0\n",
       "ASC_TRAIN  -0.397589        0.0        0.0     -inf      inf         0\n",
       "B_COST     -1.264065        0.0        0.0     -inf      inf         0\n",
       "B_TIME     -2.797749        0.0        0.0     -inf      inf         0\n",
       "W_OTHER     1.094482        0.0        0.0     -inf      inf         0"
      ]
     },
     "execution_count": 21,
     "metadata": {},
     "output_type": "execute_result"
    }
   ],
   "source": [
    "b.parameters.to_dataframe()"
   ]
  },
  {
   "cell_type": "code",
   "execution_count": 22,
   "id": "19a0a681",
   "metadata": {
    "ExecuteTime": {
     "end_time": "2022-03-05T19:28:05.982315Z",
     "start_time": "2022-03-05T19:27:43.748883Z"
    }
   },
   "outputs": [
    {
     "name": "stderr",
     "output_type": "stream",
     "text": [
      "2022-03-05 13:27:57.085315: E external/org_tensorflow/tensorflow/compiler/xla/service/slow_operation_alarm.cc:55] \n",
      "********************************\n",
      "Slow compile?  XLA was built without compiler optimizations, which can be slow.  Try rebuilding with -c opt.\n",
      "Compiling module jit_func__16.7038\n",
      "********************************\n"
     ]
    }
   ],
   "source": [
    "b.jax_param_cov(b.pvals);"
   ]
  },
  {
   "cell_type": "code",
   "execution_count": 23,
   "id": "49804164",
   "metadata": {
    "ExecuteTime": {
     "end_time": "2022-03-05T19:28:05.995142Z",
     "start_time": "2022-03-05T19:28:05.983699Z"
    }
   },
   "outputs": [
    {
     "data": {
      "text/html": [
       "<div>\n",
       "<style scoped>\n",
       "    .dataframe tbody tr th:only-of-type {\n",
       "        vertical-align: middle;\n",
       "    }\n",
       "\n",
       "    .dataframe tbody tr th {\n",
       "        vertical-align: top;\n",
       "    }\n",
       "\n",
       "    .dataframe thead th {\n",
       "        text-align: right;\n",
       "    }\n",
       "</style>\n",
       "<table border=\"1\" class=\"dataframe\">\n",
       "  <thead>\n",
       "    <tr style=\"text-align: right;\">\n",
       "      <th></th>\n",
       "      <th>value</th>\n",
       "      <th>initvalue</th>\n",
       "      <th>nullvalue</th>\n",
       "      <th>minimum</th>\n",
       "      <th>maximum</th>\n",
       "      <th>holdfast</th>\n",
       "      <th>std_err</th>\n",
       "    </tr>\n",
       "    <tr>\n",
       "      <th>param_name</th>\n",
       "      <th></th>\n",
       "      <th></th>\n",
       "      <th></th>\n",
       "      <th></th>\n",
       "      <th></th>\n",
       "      <th></th>\n",
       "      <th></th>\n",
       "    </tr>\n",
       "  </thead>\n",
       "  <tbody>\n",
       "    <tr>\n",
       "      <th>ASC_CAR</th>\n",
       "      <td>0.124590</td>\n",
       "      <td>0.0</td>\n",
       "      <td>0.0</td>\n",
       "      <td>-inf</td>\n",
       "      <td>inf</td>\n",
       "      <td>0</td>\n",
       "      <td>0.050483</td>\n",
       "    </tr>\n",
       "    <tr>\n",
       "      <th>ASC_TRAIN</th>\n",
       "      <td>-0.397589</td>\n",
       "      <td>0.0</td>\n",
       "      <td>0.0</td>\n",
       "      <td>-inf</td>\n",
       "      <td>inf</td>\n",
       "      <td>0</td>\n",
       "      <td>0.060846</td>\n",
       "    </tr>\n",
       "    <tr>\n",
       "      <th>B_COST</th>\n",
       "      <td>-1.264065</td>\n",
       "      <td>0.0</td>\n",
       "      <td>0.0</td>\n",
       "      <td>-inf</td>\n",
       "      <td>inf</td>\n",
       "      <td>0</td>\n",
       "      <td>0.061178</td>\n",
       "    </tr>\n",
       "    <tr>\n",
       "      <th>B_TIME</th>\n",
       "      <td>-2.797749</td>\n",
       "      <td>0.0</td>\n",
       "      <td>0.0</td>\n",
       "      <td>-inf</td>\n",
       "      <td>inf</td>\n",
       "      <td>0</td>\n",
       "      <td>0.175583</td>\n",
       "    </tr>\n",
       "    <tr>\n",
       "      <th>W_OTHER</th>\n",
       "      <td>1.094482</td>\n",
       "      <td>0.0</td>\n",
       "      <td>0.0</td>\n",
       "      <td>-inf</td>\n",
       "      <td>inf</td>\n",
       "      <td>0</td>\n",
       "      <td>0.116456</td>\n",
       "    </tr>\n",
       "  </tbody>\n",
       "</table>\n",
       "</div>"
      ],
      "text/plain": [
       "               value  initvalue  nullvalue  minimum  maximum  holdfast  \\\n",
       "param_name                                                               \n",
       "ASC_CAR     0.124590        0.0        0.0     -inf      inf         0   \n",
       "ASC_TRAIN  -0.397589        0.0        0.0     -inf      inf         0   \n",
       "B_COST     -1.264065        0.0        0.0     -inf      inf         0   \n",
       "B_TIME     -2.797749        0.0        0.0     -inf      inf         0   \n",
       "W_OTHER     1.094482        0.0        0.0     -inf      inf         0   \n",
       "\n",
       "             std_err  \n",
       "param_name            \n",
       "ASC_CAR     0.050483  \n",
       "ASC_TRAIN   0.060846  \n",
       "B_COST      0.061178  \n",
       "B_TIME      0.175583  \n",
       "W_OTHER     0.116456  "
      ]
     },
     "execution_count": 23,
     "metadata": {},
     "output_type": "execute_result"
    }
   ],
   "source": [
    "b.parameters.to_dataframe()"
   ]
  },
  {
   "cell_type": "code",
   "execution_count": 24,
   "id": "ac2f8e0c",
   "metadata": {
    "ExecuteTime": {
     "end_time": "2022-03-05T19:28:06.000949Z",
     "start_time": "2022-03-05T19:28:05.997018Z"
    }
   },
   "outputs": [],
   "source": [
    "assert b.pstderr == approx(np.array([ \n",
    "    0.050481,  0.060852,  0.061178,  0.17538 ,  0.116116\n",
    "]), rel=5e-3)"
   ]
  },
  {
   "cell_type": "code",
   "execution_count": 25,
   "id": "f4484904",
   "metadata": {
    "ExecuteTime": {
     "end_time": "2022-03-05T19:28:06.006370Z",
     "start_time": "2022-03-05T19:28:06.002643Z"
    }
   },
   "outputs": [
    {
     "data": {
      "text/plain": [
       "array([ 0.050483,  0.060846,  0.061178,  0.175583,  0.116456], dtype=float32)"
      ]
     },
     "execution_count": 25,
     "metadata": {},
     "output_type": "execute_result"
    }
   ],
   "source": [
    "b.pstderr"
   ]
  },
  {
   "cell_type": "code",
   "execution_count": 26,
   "id": "8abb6583",
   "metadata": {
    "ExecuteTime": {
     "end_time": "2022-03-05T19:28:06.011430Z",
     "start_time": "2022-03-05T19:28:06.007866Z"
    }
   },
   "outputs": [],
   "source": [
    "assert b.pvals == approx(np.array([ 0.124529, -0.397936, -1.264057, -2.799115,  1.091897]), rel=5e-3)"
   ]
  },
  {
   "cell_type": "code",
   "execution_count": null,
   "id": "526de33f",
   "metadata": {},
   "outputs": [],
   "source": []
  }
 ],
 "metadata": {
  "kernelspec": {
   "display_name": "Python 3 (ipykernel)",
   "language": "python",
   "name": "python3"
  },
  "language_info": {
   "codemirror_mode": {
    "name": "ipython",
    "version": 3
   },
   "file_extension": ".py",
   "mimetype": "text/x-python",
   "name": "python",
   "nbconvert_exporter": "python",
   "pygments_lexer": "ipython3",
   "version": "3.9.10"
  },
  "toc": {
   "base_numbering": 1,
   "nav_menu": {},
   "number_sections": false,
   "sideBar": true,
   "skip_h1_title": false,
   "title_cell": "Table of Contents",
   "title_sidebar": "Contents",
   "toc_cell": false,
   "toc_position": {},
   "toc_section_display": true,
   "toc_window_display": false
  }
 },
 "nbformat": 4,
 "nbformat_minor": 5
}
