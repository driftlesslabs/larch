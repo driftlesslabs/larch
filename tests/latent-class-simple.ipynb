{
 "cells": [
  {
   "cell_type": "code",
   "execution_count": null,
   "id": "38ba13ec",
   "metadata": {},
   "outputs": [],
   "source": [
    "import larix as lx\n",
    "import pandas as pd\n",
    "from larch.roles import P,X\n",
    "\n",
    "import numpy as np\n",
    "import xarray as xr\n",
    "from pytest import approx"
   ]
  },
  {
   "cell_type": "code",
   "execution_count": null,
   "id": "80efb761",
   "metadata": {},
   "outputs": [],
   "source": [
    "raw = pd.read_csv(lx.example_file('swissmetro.csv.gz'))\n",
    "raw['SM_COST'] = raw['SM_CO'] * (raw[\"GA\"]==0) \n",
    "raw['TRAIN_COST'] = raw.eval(\"TRAIN_CO * (GA == 0)\") \n",
    "raw['TRAIN_COST_SCALED'] = raw['TRAIN_COST'] / 100\n",
    "raw['TRAIN_TT_SCALED'] = raw['TRAIN_TT'] / 100\n",
    "\n",
    "raw['SM_COST_SCALED'] = raw.eval('SM_COST / 100')\n",
    "raw['SM_TT_SCALED'] = raw['SM_TT'] / 100\n",
    "\n",
    "raw['CAR_CO_SCALED'] = raw['CAR_CO'] / 100\n",
    "raw['CAR_TT_SCALED'] = raw['CAR_TT'] / 100\n",
    "raw['CAR_AV_SP'] = raw.eval(\"CAR_AV * (SP!=0)\")\n",
    "raw['TRAIN_AV_SP'] = raw.eval(\"TRAIN_AV * (SP!=0)\")\n",
    "\n",
    "raw['keep'] = raw.eval(\"PURPOSE in (1,3) and CHOICE != 0\")"
   ]
  },
  {
   "cell_type": "code",
   "execution_count": null,
   "id": "655d5263",
   "metadata": {},
   "outputs": [],
   "source": [
    "raw"
   ]
  },
  {
   "cell_type": "code",
   "execution_count": null,
   "id": "1495fd0f",
   "metadata": {},
   "outputs": [],
   "source": []
  },
  {
   "cell_type": "code",
   "execution_count": null,
   "id": "71cb1319",
   "metadata": {},
   "outputs": [],
   "source": [
    "data = lx.Dataset.from_idco(raw).query_cases('keep')"
   ]
  },
  {
   "cell_type": "code",
   "execution_count": null,
   "id": "2641df0d",
   "metadata": {},
   "outputs": [],
   "source": [
    "m1 = lx.Model(\n",
    "    data.set_altids([1,2,3])\n",
    ")\n",
    "m1.availability_co_vars = {\n",
    "    1: \"TRAIN_AV_SP\",\n",
    "    2: \"SM_AV\",\n",
    "    3: \"CAR_AV_SP\",\n",
    "}\n",
    "m1.choice_co_code = 'CHOICE'\n",
    "\n",
    "m1.utility_co[1] = P(\"ASC_TRAIN\") + X(\"TRAIN_COST_SCALED\") * P(\"B_COST\")\n",
    "m1.utility_co[2] = X(\"SM_COST_SCALED\") * P(\"B_COST\")\n",
    "m1.utility_co[3] = P(\"ASC_CAR\") + X(\"CAR_CO_SCALED\") * P(\"B_COST\")"
   ]
  },
  {
   "cell_type": "code",
   "execution_count": null,
   "id": "a23caf6d",
   "metadata": {},
   "outputs": [],
   "source": [
    "m2 = lx.Model(\n",
    "    data.set_altids([1,2,3])\n",
    ")\n",
    "m2.availability_co_vars = {\n",
    "    1: \"TRAIN_AV_SP\",\n",
    "    2: \"SM_AV\",\n",
    "    3: \"CAR_AV_SP\",\n",
    "}\n",
    "m2.choice_co_code = 'CHOICE'\n",
    "\n",
    "m2.utility_co[1] = P(\"ASC_TRAIN\") + X(\"TRAIN_TT_SCALED\") * P(\"B_TIME\") + X(\"TRAIN_COST_SCALED\") * P(\"B_COST\")\n",
    "m2.utility_co[2] = X(\"SM_TT_SCALED\") * P(\"B_TIME\") + X(\"SM_COST_SCALED\") * P(\"B_COST\")\n",
    "m2.utility_co[3] = P(\"ASC_CAR\") + X(\"CAR_TT_SCALED\") * P(\"B_TIME\") + X(\"CAR_CO_SCALED\") * P(\"B_COST\")"
   ]
  },
  {
   "cell_type": "code",
   "execution_count": null,
   "id": "6e45dfe3",
   "metadata": {},
   "outputs": [],
   "source": [
    "mk = lx.Model(\n",
    "    data.set_altids([101,102])\n",
    ")\n",
    "mk.utility_co[102] = P(\"W_OTHER\")"
   ]
  },
  {
   "cell_type": "code",
   "execution_count": null,
   "id": "e0a37d65",
   "metadata": {},
   "outputs": [],
   "source": [
    "m1.pf"
   ]
  },
  {
   "cell_type": "code",
   "execution_count": null,
   "id": "f6397a09",
   "metadata": {},
   "outputs": [],
   "source": [
    "b = lx.LatentClass(\n",
    "    mk, \n",
    "    {101:m1, 102:m2}, \n",
    "    datatree=data.set_altids([1,2,3]),\n",
    ")"
   ]
  },
  {
   "cell_type": "code",
   "execution_count": null,
   "id": "0bf84b8f",
   "metadata": {},
   "outputs": [],
   "source": [
    "b.reflow_data_arrays()"
   ]
  },
  {
   "cell_type": "code",
   "execution_count": null,
   "id": "364af6ac",
   "metadata": {},
   "outputs": [],
   "source": [
    "assert b.groupid is None"
   ]
  },
  {
   "cell_type": "code",
   "execution_count": null,
   "id": "2dd7b605",
   "metadata": {},
   "outputs": [],
   "source": [
    "b.jax_loglike(b.pvals)"
   ]
  },
  {
   "cell_type": "code",
   "execution_count": null,
   "id": "57bedef4",
   "metadata": {},
   "outputs": [],
   "source": [
    "b.jax_loglike(b.pvals)"
   ]
  },
  {
   "cell_type": "code",
   "execution_count": null,
   "id": "dce7dc36",
   "metadata": {},
   "outputs": [],
   "source": [
    "assert b.jax_loglike(b.pvals) == approx(-6964.6445, rel=1e-4)"
   ]
  },
  {
   "cell_type": "code",
   "execution_count": null,
   "id": "fa775a91",
   "metadata": {},
   "outputs": [],
   "source": [
    "b.jax_loglike(b.pvals)"
   ]
  },
  {
   "cell_type": "code",
   "execution_count": null,
   "id": "ad75536c",
   "metadata": {},
   "outputs": [],
   "source": [
    "b.jax_d_loglike(b.pvals) # 5.25s"
   ]
  },
  {
   "cell_type": "code",
   "execution_count": null,
   "id": "e6fb4bf7",
   "metadata": {},
   "outputs": [],
   "source": [
    "b.jax_d_loglike(b.pvals) # 5.25s"
   ]
  },
  {
   "cell_type": "code",
   "execution_count": null,
   "id": "717554ad",
   "metadata": {},
   "outputs": [],
   "source": [
    "#%timeit b.jax_d_loglike(b.pvals) # 15ms"
   ]
  },
  {
   "cell_type": "code",
   "execution_count": null,
   "id": "17ae26d8",
   "metadata": {},
   "outputs": [],
   "source": [
    "result = b.jax_maximize_loglike()"
   ]
  },
  {
   "cell_type": "code",
   "execution_count": null,
   "id": "98162a04",
   "metadata": {},
   "outputs": [],
   "source": [
    "assert result.loglike == approx(-5208.49609375, rel=1e-5)"
   ]
  },
  {
   "cell_type": "code",
   "execution_count": null,
   "id": "1472642f",
   "metadata": {},
   "outputs": [],
   "source": [
    "b.parameters.to_dataframe()"
   ]
  },
  {
   "cell_type": "code",
   "execution_count": null,
   "id": "19a0a681",
   "metadata": {},
   "outputs": [],
   "source": [
    "b.jax_param_cov(b.pvals);"
   ]
  },
  {
   "cell_type": "code",
   "execution_count": null,
   "id": "49804164",
   "metadata": {},
   "outputs": [],
   "source": [
    "b.parameters.to_dataframe()"
   ]
  },
  {
   "cell_type": "code",
   "execution_count": null,
   "id": "ac2f8e0c",
   "metadata": {},
   "outputs": [],
   "source": [
    "assert b.pstderr == approx(np.array([ \n",
    "    0.050481,  0.060852,  0.061178,  0.17538 ,  0.116116\n",
    "]), rel=5e-3)"
   ]
  },
  {
   "cell_type": "code",
   "execution_count": null,
   "id": "f4484904",
   "metadata": {},
   "outputs": [],
   "source": [
    "b.pstderr"
   ]
  },
  {
   "cell_type": "code",
   "execution_count": null,
   "id": "8abb6583",
   "metadata": {},
   "outputs": [],
   "source": [
    "assert b.pvals == approx(np.array([ 0.124529, -0.397936, -1.264057, -2.799115,  1.091897]), rel=5e-3)"
   ]
  },
  {
   "cell_type": "code",
   "execution_count": null,
   "id": "526de33f",
   "metadata": {},
   "outputs": [],
   "source": []
  }
 ],
 "metadata": {
  "kernelspec": {
   "display_name": "Python 3 (ipykernel)",
   "language": "python",
   "name": "python3"
  },
  "language_info": {
   "codemirror_mode": {
    "name": "ipython",
    "version": 3
   },
   "file_extension": ".py",
   "mimetype": "text/x-python",
   "name": "python",
   "nbconvert_exporter": "python",
   "pygments_lexer": "ipython3",
   "version": "3.9.10"
  },
  "toc": {
   "base_numbering": 1,
   "nav_menu": {},
   "number_sections": false,
   "sideBar": true,
   "skip_h1_title": false,
   "title_cell": "Table of Contents",
   "title_sidebar": "Contents",
   "toc_cell": false,
   "toc_position": {},
   "toc_section_display": true,
   "toc_window_display": false
  }
 },
 "nbformat": 4,
 "nbformat_minor": 5
}
