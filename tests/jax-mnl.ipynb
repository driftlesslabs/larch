{
 "cells": [
  {
   "cell_type": "code",
   "execution_count": 1,
   "id": "453992ec",
   "metadata": {
    "ExecuteTime": {
     "end_time": "2022-02-28T14:49:37.397966Z",
     "start_time": "2022-02-28T14:49:32.866568Z"
    }
   },
   "outputs": [
    {
     "name": "stderr",
     "output_type": "stream",
     "text": [
      "/Users/jeffnewman/LocalGit/larch/larch/numba/model.py:23: UserWarning: \n",
      "\n",
      "### larch.numba is experimental, and not feature-complete ###\n",
      " the first time you import on a new system, this package will\n",
      " compile optimized binaries for your machine, which may take \n",
      " a little while, please be patient \n",
      "\n",
      "  warnings.warn( ### EXPERIMENTAL ### )\n",
      "OMP: Info #273: omp_set_nested routine deprecated, please use omp_set_max_active_levels instead.\n"
     ]
    }
   ],
   "source": [
    "import larix as lx\n",
    "import jax\n",
    "import jax.numpy as jnp\n",
    "from pytest import approx"
   ]
  },
  {
   "cell_type": "code",
   "execution_count": 2,
   "id": "471c2f46",
   "metadata": {
    "ExecuteTime": {
     "end_time": "2022-02-28T14:49:37.544802Z",
     "start_time": "2022-02-28T14:49:37.400515Z"
    }
   },
   "outputs": [],
   "source": [
    "d = lx.examples.MTC(format='dataset')"
   ]
  },
  {
   "cell_type": "code",
   "execution_count": 3,
   "id": "7efb33ba",
   "metadata": {
    "ExecuteTime": {
     "end_time": "2022-02-28T14:49:39.953424Z",
     "start_time": "2022-02-28T14:49:37.546138Z"
    }
   },
   "outputs": [],
   "source": [
    "m = lx.Model(d)\n",
    "from larch import P, X, PX\n",
    "m.utility_co[2] = P(\"ASC_SR2\")  + P(\"hhinc#2\") * X(\"hhinc\")\n",
    "m.utility_co[3] = P(\"ASC_SR3P\") + P(\"hhinc#3\") * X(\"hhinc\")\n",
    "m.utility_co[4] = P(\"ASC_TRAN\") + P(\"hhinc#4\") * X(\"hhinc\")\n",
    "m.utility_co[5] = P(\"ASC_BIKE\") + P(\"hhinc#5\") * X(\"hhinc\")\n",
    "m.utility_co[6] = P(\"ASC_WALK\") + P(\"hhinc#6\") * X(\"hhinc\")\n",
    "\n",
    "m.utility_ca = PX(\"tottime\") + PX(\"totcost\")\n",
    "\n",
    "m.availability_var = 'avail'\n",
    "m.choice_ca_var = 'chose'\n",
    "\n",
    "m.title = \"MTC Example 1 (Simple MNL)\"\n",
    "r = m.maximize_loglike(quiet=True)"
   ]
  },
  {
   "cell_type": "code",
   "execution_count": 4,
   "id": "f7faecab",
   "metadata": {
    "ExecuteTime": {
     "end_time": "2022-02-28T14:49:40.578345Z",
     "start_time": "2022-02-28T14:49:39.956683Z"
    }
   },
   "outputs": [
    {
     "name": "stderr",
     "output_type": "stream",
     "text": [
      "WARNING:absl:No GPU/TPU found, falling back to CPU. (Set TF_CPP_MIN_LOG_LEVEL=0 and rerun for more info.)\n"
     ]
    },
    {
     "data": {
      "text/plain": [
       "DeviceArray(-3626.186, dtype=float32)"
      ]
     },
     "execution_count": 4,
     "metadata": {},
     "output_type": "execute_result"
    }
   ],
   "source": [
    "m.jax_loglike(m.pvals)"
   ]
  },
  {
   "cell_type": "code",
   "execution_count": 5,
   "id": "e3e728df",
   "metadata": {
    "ExecuteTime": {
     "end_time": "2022-02-28T14:49:40.584330Z",
     "start_time": "2022-02-28T14:49:40.580380Z"
    }
   },
   "outputs": [],
   "source": [
    "assert m.jax_loglike(m.pvals) == approx(-3626.186)"
   ]
  },
  {
   "cell_type": "code",
   "execution_count": 6,
   "id": "5f734a84",
   "metadata": {
    "ExecuteTime": {
     "end_time": "2022-02-28T14:49:42.275907Z",
     "start_time": "2022-02-28T14:49:40.585781Z"
    }
   },
   "outputs": [
    {
     "data": {
      "text/plain": [
       "DeviceArray([ 8.647442e-04, -4.024506e-04, -1.380444e-03, -1.451683e-02,  3.976822e-03, -4.386186e-02, -9.957599e-02,\n",
       "             -7.297770e-01,  3.342795e-02,  1.698433e-01, -2.316932e+00, -2.219502e-02], dtype=float32)"
      ]
     },
     "execution_count": 6,
     "metadata": {},
     "output_type": "execute_result"
    }
   ],
   "source": [
    "m.jax_d_loglike(m.pvals)"
   ]
  },
  {
   "cell_type": "code",
   "execution_count": 7,
   "id": "077da45d",
   "metadata": {
    "ExecuteTime": {
     "end_time": "2022-02-28T14:49:42.288384Z",
     "start_time": "2022-02-28T14:49:42.277320Z"
    }
   },
   "outputs": [],
   "source": [
    "assert m.d_loglike(r.x/2) == approx([  \n",
    "    -100.668873,     -427.881921,   -346.047421,   \n",
    "    -176.396743,      -69.950285, -25639.434015, \n",
    "    -20581.626877, -10752.088732,  -5810.403543,  \n",
    "    -4360.946795,   54115.923707, -16552.567557,\n",
    "])"
   ]
  },
  {
   "cell_type": "code",
   "execution_count": 8,
   "id": "df84ade0",
   "metadata": {
    "ExecuteTime": {
     "end_time": "2022-02-28T14:49:42.332850Z",
     "start_time": "2022-02-28T14:49:42.290319Z"
    }
   },
   "outputs": [],
   "source": [
    "assert m.jax_d_loglike(np.asarray(r.x/2)) == approx([  \n",
    "    -100.668873,     -427.881921,   -346.047421,   \n",
    "    -176.396743,      -69.950285, -25639.434015, \n",
    "    -20581.626877, -10752.088732,  -5810.403543,  \n",
    "    -4360.946795,   54115.923707, -16552.567557,\n",
    "], rel=1e-5)"
   ]
  },
  {
   "cell_type": "code",
   "execution_count": 9,
   "id": "4fe77095",
   "metadata": {
    "ExecuteTime": {
     "end_time": "2022-02-28T14:49:42.338325Z",
     "start_time": "2022-02-28T14:49:42.334930Z"
    }
   },
   "outputs": [],
   "source": [
    "m.pvals = 'null'"
   ]
  },
  {
   "cell_type": "code",
   "execution_count": 10,
   "id": "091f1673",
   "metadata": {
    "ExecuteTime": {
     "end_time": "2022-02-28T14:49:42.345571Z",
     "start_time": "2022-02-28T14:49:42.342890Z"
    }
   },
   "outputs": [],
   "source": [
    "assert all(m.pf['value'] == 0)"
   ]
  },
  {
   "cell_type": "code",
   "execution_count": 11,
   "id": "c331c583",
   "metadata": {
    "ExecuteTime": {
     "end_time": "2022-02-28T14:49:42.610828Z",
     "start_time": "2022-02-28T14:49:42.347438Z"
    }
   },
   "outputs": [],
   "source": [
    "rj = m.jax_maximize_loglike()"
   ]
  },
  {
   "cell_type": "code",
   "execution_count": 12,
   "id": "d0bc9955",
   "metadata": {
    "ExecuteTime": {
     "end_time": "2022-02-28T14:49:42.616412Z",
     "start_time": "2022-02-28T14:49:42.612587Z"
    }
   },
   "outputs": [
    {
     "data": {
      "text/plain": [
       "     jac: array([ 2.272785e-02, -3.063679e-02, -8.840561e-03,  1.739502e-03, -6.566763e-03, -1.223307e+00, -1.308636e-01,\n",
       "       -7.242671e-01,  1.559882e+00,  9.642785e-01, -5.636771e+00, -6.563418e-01])\n",
       " loglike: -3626.18603515625\n",
       " message: 'Optimization terminated successfully'\n",
       "    nfev: 119\n",
       "     nit: 39\n",
       "    njev: 39\n",
       "  status: 0\n",
       " success: True\n",
       "       x: array([-2.376162e+00, -2.177859e+00, -3.724838e+00, -6.710735e-01, -2.063628e-01, -2.171617e-03,  3.547370e-04,\n",
       "       -5.285348e-03, -1.282182e-02, -9.697886e-03, -4.919956e-03, -5.133474e-02])"
      ]
     },
     "execution_count": 12,
     "metadata": {},
     "output_type": "execute_result"
    }
   ],
   "source": [
    "rj"
   ]
  },
  {
   "cell_type": "code",
   "execution_count": 13,
   "id": "483a2f40",
   "metadata": {
    "ExecuteTime": {
     "end_time": "2022-02-28T14:49:42.620503Z",
     "start_time": "2022-02-28T14:49:42.618109Z"
    }
   },
   "outputs": [],
   "source": [
    "assert rj.loglike == approx(-3626.18603515625)"
   ]
  },
  {
   "cell_type": "code",
   "execution_count": 14,
   "id": "9ea9c305",
   "metadata": {
    "ExecuteTime": {
     "end_time": "2022-02-28T14:49:46.626155Z",
     "start_time": "2022-02-28T14:49:42.622074Z"
    }
   },
   "outputs": [],
   "source": [
    "h = m.jax_d2_loglike(m.pvals)"
   ]
  },
  {
   "cell_type": "code",
   "execution_count": 15,
   "id": "870abdf7",
   "metadata": {
    "ExecuteTime": {
     "end_time": "2022-02-28T14:49:46.633504Z",
     "start_time": "2022-02-28T14:49:46.627683Z"
    }
   },
   "outputs": [
    {
     "data": {
      "text/plain": [
       "array([ 3.045759e-01,  1.046350e-01,  1.776854e-01,  1.325887e-01,  1.941035e-01,  1.553271e-03,  2.537732e-03,\n",
       "        1.828749e-03,  5.326436e-03,  3.033601e-03,  2.388836e-04,  3.099270e-03], dtype=float32)"
      ]
     },
     "execution_count": 15,
     "metadata": {},
     "output_type": "execute_result"
    }
   ],
   "source": [
    "np.sqrt(np.linalg.pinv(h).diagonal())"
   ]
  },
  {
   "cell_type": "code",
   "execution_count": 16,
   "id": "dac80b27",
   "metadata": {
    "ExecuteTime": {
     "end_time": "2022-02-28T14:49:49.284219Z",
     "start_time": "2022-02-28T14:49:46.635678Z"
    }
   },
   "outputs": [],
   "source": [
    "ihess = m.jax_invhess_loglike(m.pvals)"
   ]
  },
  {
   "cell_type": "code",
   "execution_count": 17,
   "id": "1e6d6b68",
   "metadata": {
    "ExecuteTime": {
     "end_time": "2022-02-28T14:49:49.484925Z",
     "start_time": "2022-02-28T14:49:49.285455Z"
    }
   },
   "outputs": [],
   "source": [
    "m.jax_param_cov(m.pvals);"
   ]
  },
  {
   "cell_type": "code",
   "execution_count": 18,
   "id": "d9cdcd00",
   "metadata": {
    "ExecuteTime": {
     "end_time": "2022-02-28T14:49:49.489566Z",
     "start_time": "2022-02-28T14:49:49.486225Z"
    }
   },
   "outputs": [
    {
     "data": {
      "text/plain": [
       "array([ 3.045759e-01,  1.046351e-01,  1.776854e-01,  1.325887e-01,  1.941035e-01,  1.553271e-03,  2.537732e-03,\n",
       "        1.828749e-03,  5.326436e-03,  3.033601e-03,  2.388836e-04,  3.099270e-03], dtype=float32)"
      ]
     },
     "execution_count": 18,
     "metadata": {},
     "output_type": "execute_result"
    }
   ],
   "source": [
    "m.pstderr"
   ]
  },
  {
   "cell_type": "code",
   "execution_count": 19,
   "id": "1e5c3baf",
   "metadata": {
    "ExecuteTime": {
     "end_time": "2022-02-28T14:49:49.503854Z",
     "start_time": "2022-02-28T14:49:49.490979Z"
    }
   },
   "outputs": [
    {
     "data": {
      "text/html": [
       "<div>\n",
       "<style scoped>\n",
       "    .dataframe tbody tr th:only-of-type {\n",
       "        vertical-align: middle;\n",
       "    }\n",
       "\n",
       "    .dataframe tbody tr th {\n",
       "        vertical-align: top;\n",
       "    }\n",
       "\n",
       "    .dataframe thead th {\n",
       "        text-align: right;\n",
       "    }\n",
       "</style>\n",
       "<table border=\"1\" class=\"dataframe\">\n",
       "  <thead>\n",
       "    <tr style=\"text-align: right;\">\n",
       "      <th></th>\n",
       "      <th>value</th>\n",
       "      <th>initvalue</th>\n",
       "      <th>nullvalue</th>\n",
       "      <th>minimum</th>\n",
       "      <th>maximum</th>\n",
       "      <th>holdfast</th>\n",
       "      <th>note</th>\n",
       "      <th>best</th>\n",
       "      <th>std_err</th>\n",
       "    </tr>\n",
       "  </thead>\n",
       "  <tbody>\n",
       "    <tr>\n",
       "      <th>ASC_BIKE</th>\n",
       "      <td>-2.376162</td>\n",
       "      <td>0.0</td>\n",
       "      <td>0.0</td>\n",
       "      <td>-inf</td>\n",
       "      <td>inf</td>\n",
       "      <td>0</td>\n",
       "      <td></td>\n",
       "      <td>-2.376328</td>\n",
       "      <td>0.304576</td>\n",
       "    </tr>\n",
       "    <tr>\n",
       "      <th>ASC_SR2</th>\n",
       "      <td>-2.177859</td>\n",
       "      <td>0.0</td>\n",
       "      <td>0.0</td>\n",
       "      <td>-inf</td>\n",
       "      <td>inf</td>\n",
       "      <td>0</td>\n",
       "      <td></td>\n",
       "      <td>-2.178014</td>\n",
       "      <td>0.104635</td>\n",
       "    </tr>\n",
       "    <tr>\n",
       "      <th>ASC_SR3P</th>\n",
       "      <td>-3.724838</td>\n",
       "      <td>0.0</td>\n",
       "      <td>0.0</td>\n",
       "      <td>-inf</td>\n",
       "      <td>inf</td>\n",
       "      <td>0</td>\n",
       "      <td></td>\n",
       "      <td>-3.725078</td>\n",
       "      <td>0.177685</td>\n",
       "    </tr>\n",
       "    <tr>\n",
       "      <th>ASC_TRAN</th>\n",
       "      <td>-0.671074</td>\n",
       "      <td>0.0</td>\n",
       "      <td>0.0</td>\n",
       "      <td>-inf</td>\n",
       "      <td>inf</td>\n",
       "      <td>0</td>\n",
       "      <td></td>\n",
       "      <td>-0.670861</td>\n",
       "      <td>0.132589</td>\n",
       "    </tr>\n",
       "    <tr>\n",
       "      <th>ASC_WALK</th>\n",
       "      <td>-0.206363</td>\n",
       "      <td>0.0</td>\n",
       "      <td>0.0</td>\n",
       "      <td>-inf</td>\n",
       "      <td>inf</td>\n",
       "      <td>0</td>\n",
       "      <td></td>\n",
       "      <td>-0.206775</td>\n",
       "      <td>0.194104</td>\n",
       "    </tr>\n",
       "    <tr>\n",
       "      <th>hhinc#2</th>\n",
       "      <td>-0.002172</td>\n",
       "      <td>0.0</td>\n",
       "      <td>0.0</td>\n",
       "      <td>-inf</td>\n",
       "      <td>inf</td>\n",
       "      <td>0</td>\n",
       "      <td></td>\n",
       "      <td>-0.002170</td>\n",
       "      <td>0.001553</td>\n",
       "    </tr>\n",
       "    <tr>\n",
       "      <th>hhinc#3</th>\n",
       "      <td>0.000355</td>\n",
       "      <td>0.0</td>\n",
       "      <td>0.0</td>\n",
       "      <td>-inf</td>\n",
       "      <td>inf</td>\n",
       "      <td>0</td>\n",
       "      <td></td>\n",
       "      <td>0.000358</td>\n",
       "      <td>0.002538</td>\n",
       "    </tr>\n",
       "    <tr>\n",
       "      <th>hhinc#4</th>\n",
       "      <td>-0.005285</td>\n",
       "      <td>0.0</td>\n",
       "      <td>0.0</td>\n",
       "      <td>-inf</td>\n",
       "      <td>inf</td>\n",
       "      <td>0</td>\n",
       "      <td></td>\n",
       "      <td>-0.005286</td>\n",
       "      <td>0.001829</td>\n",
       "    </tr>\n",
       "    <tr>\n",
       "      <th>hhinc#5</th>\n",
       "      <td>-0.012822</td>\n",
       "      <td>0.0</td>\n",
       "      <td>0.0</td>\n",
       "      <td>-inf</td>\n",
       "      <td>inf</td>\n",
       "      <td>0</td>\n",
       "      <td></td>\n",
       "      <td>-0.012808</td>\n",
       "      <td>0.005326</td>\n",
       "    </tr>\n",
       "    <tr>\n",
       "      <th>hhinc#6</th>\n",
       "      <td>-0.009698</td>\n",
       "      <td>0.0</td>\n",
       "      <td>0.0</td>\n",
       "      <td>-inf</td>\n",
       "      <td>inf</td>\n",
       "      <td>0</td>\n",
       "      <td></td>\n",
       "      <td>-0.009686</td>\n",
       "      <td>0.003034</td>\n",
       "    </tr>\n",
       "    <tr>\n",
       "      <th>totcost</th>\n",
       "      <td>-0.004920</td>\n",
       "      <td>0.0</td>\n",
       "      <td>0.0</td>\n",
       "      <td>-inf</td>\n",
       "      <td>inf</td>\n",
       "      <td>0</td>\n",
       "      <td></td>\n",
       "      <td>-0.004920</td>\n",
       "      <td>0.000239</td>\n",
       "    </tr>\n",
       "    <tr>\n",
       "      <th>tottime</th>\n",
       "      <td>-0.051335</td>\n",
       "      <td>0.0</td>\n",
       "      <td>0.0</td>\n",
       "      <td>-inf</td>\n",
       "      <td>inf</td>\n",
       "      <td>0</td>\n",
       "      <td></td>\n",
       "      <td>-0.051342</td>\n",
       "      <td>0.003099</td>\n",
       "    </tr>\n",
       "  </tbody>\n",
       "</table>\n",
       "</div>"
      ],
      "text/plain": [
       "             value  initvalue  nullvalue  minimum  maximum  holdfast note  \\\n",
       "ASC_BIKE -2.376162        0.0        0.0     -inf      inf         0        \n",
       "ASC_SR2  -2.177859        0.0        0.0     -inf      inf         0        \n",
       "ASC_SR3P -3.724838        0.0        0.0     -inf      inf         0        \n",
       "ASC_TRAN -0.671074        0.0        0.0     -inf      inf         0        \n",
       "ASC_WALK -0.206363        0.0        0.0     -inf      inf         0        \n",
       "hhinc#2  -0.002172        0.0        0.0     -inf      inf         0        \n",
       "hhinc#3   0.000355        0.0        0.0     -inf      inf         0        \n",
       "hhinc#4  -0.005285        0.0        0.0     -inf      inf         0        \n",
       "hhinc#5  -0.012822        0.0        0.0     -inf      inf         0        \n",
       "hhinc#6  -0.009698        0.0        0.0     -inf      inf         0        \n",
       "totcost  -0.004920        0.0        0.0     -inf      inf         0        \n",
       "tottime  -0.051335        0.0        0.0     -inf      inf         0        \n",
       "\n",
       "              best   std_err  \n",
       "ASC_BIKE -2.376328  0.304576  \n",
       "ASC_SR2  -2.178014  0.104635  \n",
       "ASC_SR3P -3.725078  0.177685  \n",
       "ASC_TRAN -0.670861  0.132589  \n",
       "ASC_WALK -0.206775  0.194104  \n",
       "hhinc#2  -0.002170  0.001553  \n",
       "hhinc#3   0.000358  0.002538  \n",
       "hhinc#4  -0.005286  0.001829  \n",
       "hhinc#5  -0.012808  0.005326  \n",
       "hhinc#6  -0.009686  0.003034  \n",
       "totcost  -0.004920  0.000239  \n",
       "tottime  -0.051342  0.003099  "
      ]
     },
     "execution_count": 19,
     "metadata": {},
     "output_type": "execute_result"
    }
   ],
   "source": [
    "m.pf"
   ]
  },
  {
   "cell_type": "code",
   "execution_count": null,
   "id": "cbf99d3e",
   "metadata": {},
   "outputs": [],
   "source": []
  }
 ],
 "metadata": {
  "kernelspec": {
   "display_name": "Python 3 (ipykernel)",
   "language": "python",
   "name": "python3"
  },
  "language_info": {
   "codemirror_mode": {
    "name": "ipython",
    "version": 3
   },
   "file_extension": ".py",
   "mimetype": "text/x-python",
   "name": "python",
   "nbconvert_exporter": "python",
   "pygments_lexer": "ipython3",
   "version": "3.9.10"
  },
  "toc": {
   "base_numbering": 1,
   "nav_menu": {},
   "number_sections": false,
   "sideBar": true,
   "skip_h1_title": false,
   "title_cell": "Table of Contents",
   "title_sidebar": "Contents",
   "toc_cell": false,
   "toc_position": {},
   "toc_section_display": true,
   "toc_window_display": false
  }
 },
 "nbformat": 4,
 "nbformat_minor": 5
}
