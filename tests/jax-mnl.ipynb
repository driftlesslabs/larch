{
 "cells": [
  {
   "cell_type": "code",
   "execution_count": null,
   "id": "453992ec",
   "metadata": {},
   "outputs": [],
   "source": [
    "import larix as lx\n",
    "import jax\n",
    "import jax.numpy as jnp\n",
    "from pytest import approx"
   ]
  },
  {
   "cell_type": "code",
   "execution_count": null,
   "id": "471c2f46",
   "metadata": {},
   "outputs": [],
   "source": [
    "d = lx.examples.MTC(format='dataset')"
   ]
  },
  {
   "cell_type": "code",
   "execution_count": null,
   "id": "7efb33ba",
   "metadata": {},
   "outputs": [],
   "source": [
    "m = lx.Model(d)\n",
    "from larch import P, X, PX\n",
    "m.utility_co[2] = P(\"ASC_SR2\")  + P(\"hhinc#2\") * X(\"hhinc\")\n",
    "m.utility_co[3] = P(\"ASC_SR3P\") + P(\"hhinc#3\") * X(\"hhinc\")\n",
    "m.utility_co[4] = P(\"ASC_TRAN\") + P(\"hhinc#4\") * X(\"hhinc\")\n",
    "m.utility_co[5] = P(\"ASC_BIKE\") + P(\"hhinc#5\") * X(\"hhinc\")\n",
    "m.utility_co[6] = P(\"ASC_WALK\") + P(\"hhinc#6\") * X(\"hhinc\")\n",
    "\n",
    "m.utility_ca = PX(\"tottime\") + PX(\"totcost\")\n",
    "\n",
    "m.availability_var = 'avail'\n",
    "m.choice_ca_var = 'chose'\n",
    "\n",
    "m.title = \"MTC Example 1 (Simple MNL)\"\n",
    "r = m.maximize_loglike(quiet=True)"
   ]
  },
  {
   "cell_type": "code",
   "execution_count": null,
   "id": "c9949499",
   "metadata": {},
   "outputs": [],
   "source": [
    "m.jax_loglike(m.pvals) # 622ms"
   ]
  },
  {
   "cell_type": "code",
   "execution_count": null,
   "id": "e3e728df",
   "metadata": {},
   "outputs": [],
   "source": [
    "assert m.jax_loglike(m.pvals) == approx(-3626.186)"
   ]
  },
  {
   "cell_type": "code",
   "execution_count": null,
   "id": "5f734a84",
   "metadata": {},
   "outputs": [],
   "source": [
    "m.jax_d_loglike(m.pvals) # 1.69s"
   ]
  },
  {
   "cell_type": "code",
   "execution_count": null,
   "id": "077da45d",
   "metadata": {},
   "outputs": [],
   "source": [
    "assert m.d_loglike(r.x/2) == approx([  \n",
    "    -100.668873,     -427.881921,   -346.047421,   \n",
    "    -176.396743,      -69.950285, -25639.434015, \n",
    "    -20581.626877, -10752.088732,  -5810.403543,  \n",
    "    -4360.946795,   54115.923707, -16552.567557,\n",
    "])"
   ]
  },
  {
   "cell_type": "code",
   "execution_count": null,
   "id": "df84ade0",
   "metadata": {},
   "outputs": [],
   "source": [
    "assert m.jax_d_loglike(np.asarray(r.x/2)) == approx([  \n",
    "    -100.668873,     -427.881921,   -346.047421,   \n",
    "    -176.396743,      -69.950285, -25639.434015, \n",
    "    -20581.626877, -10752.088732,  -5810.403543,  \n",
    "    -4360.946795,   54115.923707, -16552.567557,\n",
    "], rel=1e-5)"
   ]
  },
  {
   "cell_type": "code",
   "execution_count": null,
   "id": "4fe77095",
   "metadata": {},
   "outputs": [],
   "source": [
    "m.pvals = 'null'"
   ]
  },
  {
   "cell_type": "code",
   "execution_count": null,
   "id": "6f87ec6f",
   "metadata": {},
   "outputs": [],
   "source": [
    "assert all(m.pf['value'] == 0)"
   ]
  },
  {
   "cell_type": "code",
   "execution_count": null,
   "id": "1e89dfc7",
   "metadata": {},
   "outputs": [],
   "source": [
    "rj = m.jax_maximize_loglike() # 263ms"
   ]
  },
  {
   "cell_type": "code",
   "execution_count": null,
   "id": "6fb8cd9c",
   "metadata": {},
   "outputs": [],
   "source": [
    "rj"
   ]
  },
  {
   "cell_type": "code",
   "execution_count": null,
   "id": "03071b1b",
   "metadata": {},
   "outputs": [],
   "source": [
    "assert rj.loglike == approx(-3626.18603515625)"
   ]
  },
  {
   "cell_type": "code",
   "execution_count": null,
   "id": "26bc3ebe",
   "metadata": {},
   "outputs": [],
   "source": [
    "h = m.jax_d2_loglike(m.pvals) # 4.00s"
   ]
  },
  {
   "cell_type": "code",
   "execution_count": null,
   "id": "b7ee16b5",
   "metadata": {},
   "outputs": [],
   "source": [
    "np.sqrt(np.linalg.pinv(h).diagonal())"
   ]
  },
  {
   "cell_type": "code",
   "execution_count": null,
   "id": "627af8a6",
   "metadata": {},
   "outputs": [],
   "source": [
    "ihess = m.jax_invhess_loglike(m.pvals) # 2.65s"
   ]
  },
  {
   "cell_type": "code",
   "execution_count": null,
   "id": "1e5165ba",
   "metadata": {},
   "outputs": [],
   "source": [
    "se, hess, ihess = m.jax_param_cov(m.pvals) # 199ms"
   ]
  },
  {
   "cell_type": "code",
   "execution_count": null,
   "id": "2e8ed16d",
   "metadata": {},
   "outputs": [],
   "source": [
    "assert m.pstderr == approx(np.array([ 3.045759e-01,  1.046350e-01,  1.776854e-01,  1.325887e-01,  1.941035e-01,  1.553271e-03,  2.537731e-03,\n",
    "        1.828749e-03,  5.326436e-03,  3.033601e-03,  2.388836e-04,  3.099270e-03], dtype=np.float32))"
   ]
  }
 ],
 "metadata": {
  "kernelspec": {
   "display_name": "Python 3 (ipykernel)",
   "language": "python",
   "name": "python3"
  },
  "language_info": {
   "codemirror_mode": {
    "name": "ipython",
    "version": 3
   },
   "file_extension": ".py",
   "mimetype": "text/x-python",
   "name": "python",
   "nbconvert_exporter": "python",
   "pygments_lexer": "ipython3",
   "version": "3.9.10"
  },
  "toc": {
   "base_numbering": 1,
   "nav_menu": {},
   "number_sections": false,
   "sideBar": true,
   "skip_h1_title": false,
   "title_cell": "Table of Contents",
   "title_sidebar": "Contents",
   "toc_cell": false,
   "toc_position": {},
   "toc_section_display": true,
   "toc_window_display": false
  }
 },
 "nbformat": 4,
 "nbformat_minor": 5
}
