{
 "cells": [
  {
   "cell_type": "code",
   "execution_count": 1,
   "id": "453992ec",
   "metadata": {
    "ExecuteTime": {
     "end_time": "2022-02-28T15:13:51.222791Z",
     "start_time": "2022-02-28T15:13:46.768487Z"
    }
   },
   "outputs": [
    {
     "name": "stderr",
     "output_type": "stream",
     "text": [
      "/Users/jeffnewman/LocalGit/larch/larch/numba/model.py:23: UserWarning: \n",
      "\n",
      "### larch.numba is experimental, and not feature-complete ###\n",
      " the first time you import on a new system, this package will\n",
      " compile optimized binaries for your machine, which may take \n",
      " a little while, please be patient \n",
      "\n",
      "  warnings.warn( ### EXPERIMENTAL ### )\n",
      "OMP: Info #273: omp_set_nested routine deprecated, please use omp_set_max_active_levels instead.\n"
     ]
    }
   ],
   "source": [
    "import larix as lx\n",
    "import jax\n",
    "import jax.numpy as jnp\n",
    "from pytest import approx"
   ]
  },
  {
   "cell_type": "code",
   "execution_count": 2,
   "id": "471c2f46",
   "metadata": {
    "ExecuteTime": {
     "end_time": "2022-02-28T15:13:51.369740Z",
     "start_time": "2022-02-28T15:13:51.225689Z"
    }
   },
   "outputs": [],
   "source": [
    "d = lx.examples.MTC(format='dataset')"
   ]
  },
  {
   "cell_type": "code",
   "execution_count": 3,
   "id": "7efb33ba",
   "metadata": {
    "ExecuteTime": {
     "end_time": "2022-02-28T15:13:53.723151Z",
     "start_time": "2022-02-28T15:13:51.371201Z"
    }
   },
   "outputs": [],
   "source": [
    "m = lx.Model(d)\n",
    "from larch import P, X, PX\n",
    "m.utility_co[2] = P(\"ASC_SR2\")  + P(\"hhinc#2\") * X(\"hhinc\")\n",
    "m.utility_co[3] = P(\"ASC_SR3P\") + P(\"hhinc#3\") * X(\"hhinc\")\n",
    "m.utility_co[4] = P(\"ASC_TRAN\") + P(\"hhinc#4\") * X(\"hhinc\")\n",
    "m.utility_co[5] = P(\"ASC_BIKE\") + P(\"hhinc#5\") * X(\"hhinc\")\n",
    "m.utility_co[6] = P(\"ASC_WALK\") + P(\"hhinc#6\") * X(\"hhinc\")\n",
    "\n",
    "m.utility_ca = PX(\"tottime\") + PX(\"totcost\")\n",
    "\n",
    "m.availability_var = 'avail'\n",
    "m.choice_ca_var = 'chose'\n",
    "\n",
    "m.title = \"MTC Example 1 (Simple MNL)\"\n",
    "r = m.maximize_loglike(quiet=True)"
   ]
  },
  {
   "cell_type": "code",
   "execution_count": 4,
   "id": "dfdb5faf",
   "metadata": {
    "ExecuteTime": {
     "end_time": "2022-02-28T15:13:54.346474Z",
     "start_time": "2022-02-28T15:13:53.726560Z"
    }
   },
   "outputs": [
    {
     "name": "stderr",
     "output_type": "stream",
     "text": [
      "WARNING:absl:No GPU/TPU found, falling back to CPU. (Set TF_CPP_MIN_LOG_LEVEL=0 and rerun for more info.)\n"
     ]
    },
    {
     "data": {
      "text/plain": [
       "DeviceArray(-3626.186, dtype=float32)"
      ]
     },
     "execution_count": 4,
     "metadata": {},
     "output_type": "execute_result"
    }
   ],
   "source": [
    "m.jax_loglike(m.pvals) # 622ms"
   ]
  },
  {
   "cell_type": "code",
   "execution_count": 5,
   "id": "e3e728df",
   "metadata": {
    "ExecuteTime": {
     "end_time": "2022-02-28T15:13:54.352246Z",
     "start_time": "2022-02-28T15:13:54.349004Z"
    }
   },
   "outputs": [],
   "source": [
    "assert m.jax_loglike(m.pvals) == approx(-3626.186)"
   ]
  },
  {
   "cell_type": "code",
   "execution_count": 6,
   "id": "5f734a84",
   "metadata": {
    "ExecuteTime": {
     "end_time": "2022-02-28T15:13:55.989983Z",
     "start_time": "2022-02-28T15:13:54.353633Z"
    }
   },
   "outputs": [
    {
     "data": {
      "text/plain": [
       "DeviceArray([ 8.647442e-04, -4.024506e-04, -1.380444e-03, -1.451683e-02,  3.976822e-03, -4.386186e-02, -9.957599e-02,\n",
       "             -7.297770e-01,  3.342795e-02,  1.698433e-01, -2.316932e+00, -2.219502e-02], dtype=float32)"
      ]
     },
     "execution_count": 6,
     "metadata": {},
     "output_type": "execute_result"
    }
   ],
   "source": [
    "m.jax_d_loglike(m.pvals) # 1.69s"
   ]
  },
  {
   "cell_type": "code",
   "execution_count": 7,
   "id": "077da45d",
   "metadata": {
    "ExecuteTime": {
     "end_time": "2022-02-28T15:13:56.002637Z",
     "start_time": "2022-02-28T15:13:55.991923Z"
    }
   },
   "outputs": [],
   "source": [
    "assert m.d_loglike(r.x/2) == approx([  \n",
    "    -100.668873,     -427.881921,   -346.047421,   \n",
    "    -176.396743,      -69.950285, -25639.434015, \n",
    "    -20581.626877, -10752.088732,  -5810.403543,  \n",
    "    -4360.946795,   54115.923707, -16552.567557,\n",
    "])"
   ]
  },
  {
   "cell_type": "code",
   "execution_count": 8,
   "id": "df84ade0",
   "metadata": {
    "ExecuteTime": {
     "end_time": "2022-02-28T15:13:56.046163Z",
     "start_time": "2022-02-28T15:13:56.005029Z"
    }
   },
   "outputs": [],
   "source": [
    "assert m.jax_d_loglike(np.asarray(r.x/2)) == approx([  \n",
    "    -100.668873,     -427.881921,   -346.047421,   \n",
    "    -176.396743,      -69.950285, -25639.434015, \n",
    "    -20581.626877, -10752.088732,  -5810.403543,  \n",
    "    -4360.946795,   54115.923707, -16552.567557,\n",
    "], rel=1e-5)"
   ]
  },
  {
   "cell_type": "code",
   "execution_count": 9,
   "id": "4fe77095",
   "metadata": {
    "ExecuteTime": {
     "end_time": "2022-02-28T15:13:56.051853Z",
     "start_time": "2022-02-28T15:13:56.048554Z"
    }
   },
   "outputs": [],
   "source": [
    "m.pvals = 'null'"
   ]
  },
  {
   "cell_type": "code",
   "execution_count": 10,
   "id": "c732fd3d",
   "metadata": {
    "ExecuteTime": {
     "end_time": "2022-02-28T15:13:56.059005Z",
     "start_time": "2022-02-28T15:13:56.056346Z"
    }
   },
   "outputs": [],
   "source": [
    "assert all(m.pf['value'] == 0)"
   ]
  },
  {
   "cell_type": "code",
   "execution_count": 11,
   "id": "810903d4",
   "metadata": {
    "ExecuteTime": {
     "end_time": "2022-02-28T15:13:56.308700Z",
     "start_time": "2022-02-28T15:13:56.060555Z"
    }
   },
   "outputs": [],
   "source": [
    "rj = m.jax_maximize_loglike() # 263ms"
   ]
  },
  {
   "cell_type": "code",
   "execution_count": 12,
   "id": "772ccf7b",
   "metadata": {
    "ExecuteTime": {
     "end_time": "2022-02-28T15:13:56.315030Z",
     "start_time": "2022-02-28T15:13:56.310057Z"
    }
   },
   "outputs": [
    {
     "data": {
      "text/plain": [
       "     jac: array([ 2.272785e-02, -3.063679e-02, -8.840561e-03,  1.739502e-03, -6.566763e-03, -1.223307e+00, -1.308636e-01,\n",
       "       -7.242671e-01,  1.559882e+00,  9.642785e-01, -5.636771e+00, -6.563418e-01])\n",
       " loglike: -3626.18603515625\n",
       " message: 'Optimization terminated successfully'\n",
       "    nfev: 119\n",
       "     nit: 39\n",
       "    njev: 39\n",
       "  status: 0\n",
       " success: True\n",
       "       x: array([-2.376162e+00, -2.177859e+00, -3.724838e+00, -6.710735e-01, -2.063628e-01, -2.171617e-03,  3.547370e-04,\n",
       "       -5.285348e-03, -1.282182e-02, -9.697886e-03, -4.919956e-03, -5.133474e-02])"
      ]
     },
     "execution_count": 12,
     "metadata": {},
     "output_type": "execute_result"
    }
   ],
   "source": [
    "rj"
   ]
  },
  {
   "cell_type": "code",
   "execution_count": 13,
   "id": "1f9c2865",
   "metadata": {
    "ExecuteTime": {
     "end_time": "2022-02-28T15:13:56.320336Z",
     "start_time": "2022-02-28T15:13:56.317207Z"
    }
   },
   "outputs": [],
   "source": [
    "assert rj.loglike == approx(-3626.18603515625)"
   ]
  },
  {
   "cell_type": "code",
   "execution_count": 14,
   "id": "0bc60542",
   "metadata": {
    "ExecuteTime": {
     "end_time": "2022-02-28T15:13:58.895360Z",
     "start_time": "2022-02-28T15:13:56.321853Z"
    }
   },
   "outputs": [],
   "source": [
    "h = m.jax_d2_loglike(m.pvals) # 4.00s"
   ]
  },
  {
   "cell_type": "code",
   "execution_count": 15,
   "id": "827403ae",
   "metadata": {
    "ExecuteTime": {
     "end_time": "2022-02-28T15:13:58.902593Z",
     "start_time": "2022-02-28T15:13:58.897238Z"
    }
   },
   "outputs": [
    {
     "data": {
      "text/plain": [
       "array([ 3.045759e-01,  1.046350e-01,  1.776854e-01,  1.325887e-01,  1.941035e-01,  1.553271e-03,  2.537732e-03,\n",
       "        1.828749e-03,  5.326436e-03,  3.033601e-03,  2.388836e-04,  3.099270e-03], dtype=float32)"
      ]
     },
     "execution_count": 15,
     "metadata": {},
     "output_type": "execute_result"
    }
   ],
   "source": [
    "np.sqrt(np.linalg.pinv(h).diagonal())"
   ]
  },
  {
   "cell_type": "code",
   "execution_count": 16,
   "id": "ede7f5ed",
   "metadata": {
    "ExecuteTime": {
     "end_time": "2022-02-28T15:14:01.569379Z",
     "start_time": "2022-02-28T15:13:58.904567Z"
    }
   },
   "outputs": [],
   "source": [
    "ihess = m.jax_invhess_loglike(m.pvals) # 2.65s"
   ]
  },
  {
   "cell_type": "code",
   "execution_count": 17,
   "id": "82c65ad8",
   "metadata": {
    "ExecuteTime": {
     "end_time": "2022-02-28T15:14:01.756657Z",
     "start_time": "2022-02-28T15:14:01.570912Z"
    }
   },
   "outputs": [],
   "source": [
    "se, hess, ihess = m.jax_param_cov(m.pvals) # 199ms"
   ]
  },
  {
   "cell_type": "code",
   "execution_count": 23,
   "id": "c0bcebc2",
   "metadata": {
    "ExecuteTime": {
     "end_time": "2022-02-28T15:14:36.811020Z",
     "start_time": "2022-02-28T15:14:36.807737Z"
    }
   },
   "outputs": [],
   "source": [
    "assert m.pstderr == approx(np.array([ 3.045759e-01,  1.046350e-01,  1.776854e-01,  1.325887e-01,  1.941035e-01,  1.553271e-03,  2.537731e-03,\n",
    "        1.828749e-03,  5.326436e-03,  3.033601e-03,  2.388836e-04,  3.099270e-03], dtype=np.float32))"
   ]
  }
 ],
 "metadata": {
  "kernelspec": {
   "display_name": "Python 3 (ipykernel)",
   "language": "python",
   "name": "python3"
  },
  "language_info": {
   "codemirror_mode": {
    "name": "ipython",
    "version": 3
   },
   "file_extension": ".py",
   "mimetype": "text/x-python",
   "name": "python",
   "nbconvert_exporter": "python",
   "pygments_lexer": "ipython3",
   "version": "3.9.10"
  },
  "toc": {
   "base_numbering": 1,
   "nav_menu": {},
   "number_sections": false,
   "sideBar": true,
   "skip_h1_title": false,
   "title_cell": "Table of Contents",
   "title_sidebar": "Contents",
   "toc_cell": false,
   "toc_position": {},
   "toc_section_display": true,
   "toc_window_display": false
  }
 },
 "nbformat": 4,
 "nbformat_minor": 5
}
