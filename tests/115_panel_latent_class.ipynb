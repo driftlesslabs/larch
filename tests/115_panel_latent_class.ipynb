{
 "cells": [
  {
   "cell_type": "code",
   "execution_count": 1,
   "id": "bb515acf",
   "metadata": {
    "ExecuteTime": {
     "end_time": "2022-03-29T14:14:39.545623Z",
     "start_time": "2022-03-29T14:14:35.840417Z"
    }
   },
   "outputs": [
    {
     "name": "stderr",
     "output_type": "stream",
     "text": [
      "/Users/jeffnewman/LocalGit/larix/larix/model/numbamodel.py:23: UserWarning: \n",
      "\n",
      "##### larix is experimental, and not feature-complete  #####\n",
      "the first time you import on a new system, this package will\n",
      "compile optimized binaries for your machine, which may take \n",
      "a little while, please be patient \n",
      "\n",
      "  warnings.warn( ### EXPERIMENTAL ### )\n",
      "OMP: Info #273: omp_set_nested routine deprecated, please use omp_set_max_active_levels instead.\n"
     ]
    }
   ],
   "source": [
    "import larch as lx\n",
    "import pandas as pd\n",
    "from larch import P,X\n",
    "\n",
    "import numpy as np\n",
    "import xarray as xr\n",
    "from pytest import approx"
   ]
  },
  {
   "cell_type": "code",
   "execution_count": 2,
   "id": "9572102b",
   "metadata": {
    "ExecuteTime": {
     "end_time": "2022-03-29T14:14:39.590884Z",
     "start_time": "2022-03-29T14:14:39.548010Z"
    }
   },
   "outputs": [],
   "source": [
    "raw = pd.read_csv(lx.example_file('swissmetro.csv.gz'))\n",
    "raw['SM_COST'] = raw['SM_CO'] * (raw[\"GA\"]==0) \n",
    "raw['TRAIN_COST'] = raw.eval(\"TRAIN_CO * (GA == 0)\") \n",
    "raw['TRAIN_COST_SCALED'] = raw['TRAIN_COST'] / 100\n",
    "raw['TRAIN_TT_SCALED'] = raw['TRAIN_TT'] / 100\n",
    "\n",
    "raw['SM_COST_SCALED'] = raw.eval('SM_COST / 100')\n",
    "raw['SM_TT_SCALED'] = raw['SM_TT'] / 100\n",
    "\n",
    "raw['CAR_CO_SCALED'] = raw['CAR_CO'] / 100\n",
    "raw['CAR_TT_SCALED'] = raw['CAR_TT'] / 100\n",
    "raw['CAR_AV_SP'] = raw.eval(\"CAR_AV * (SP!=0)\")\n",
    "raw['TRAIN_AV_SP'] = raw.eval(\"TRAIN_AV * (SP!=0)\")\n",
    "\n",
    "raw['keep'] = raw.eval(\"PURPOSE in (1,3) and CHOICE != 0\")"
   ]
  },
  {
   "cell_type": "code",
   "execution_count": 3,
   "id": "4cf2fa49",
   "metadata": {
    "ExecuteTime": {
     "end_time": "2022-03-29T14:14:39.618567Z",
     "start_time": "2022-03-29T14:14:39.592318Z"
    }
   },
   "outputs": [
    {
     "data": {
      "text/html": [
       "<div>\n",
       "<style scoped>\n",
       "    .dataframe tbody tr th:only-of-type {\n",
       "        vertical-align: middle;\n",
       "    }\n",
       "\n",
       "    .dataframe tbody tr th {\n",
       "        vertical-align: top;\n",
       "    }\n",
       "\n",
       "    .dataframe thead th {\n",
       "        text-align: right;\n",
       "    }\n",
       "</style>\n",
       "<table border=\"1\" class=\"dataframe\">\n",
       "  <thead>\n",
       "    <tr style=\"text-align: right;\">\n",
       "      <th></th>\n",
       "      <th>GROUP</th>\n",
       "      <th>SURVEY</th>\n",
       "      <th>SP</th>\n",
       "      <th>ID</th>\n",
       "      <th>PURPOSE</th>\n",
       "      <th>FIRST</th>\n",
       "      <th>TICKET</th>\n",
       "      <th>WHO</th>\n",
       "      <th>LUGGAGE</th>\n",
       "      <th>AGE</th>\n",
       "      <th>...</th>\n",
       "      <th>TRAIN_COST</th>\n",
       "      <th>TRAIN_COST_SCALED</th>\n",
       "      <th>TRAIN_TT_SCALED</th>\n",
       "      <th>SM_COST_SCALED</th>\n",
       "      <th>SM_TT_SCALED</th>\n",
       "      <th>CAR_CO_SCALED</th>\n",
       "      <th>CAR_TT_SCALED</th>\n",
       "      <th>CAR_AV_SP</th>\n",
       "      <th>TRAIN_AV_SP</th>\n",
       "      <th>keep</th>\n",
       "    </tr>\n",
       "  </thead>\n",
       "  <tbody>\n",
       "    <tr>\n",
       "      <th>0</th>\n",
       "      <td>2</td>\n",
       "      <td>0</td>\n",
       "      <td>1</td>\n",
       "      <td>1</td>\n",
       "      <td>1</td>\n",
       "      <td>0</td>\n",
       "      <td>1</td>\n",
       "      <td>1</td>\n",
       "      <td>0</td>\n",
       "      <td>3</td>\n",
       "      <td>...</td>\n",
       "      <td>48</td>\n",
       "      <td>0.48</td>\n",
       "      <td>1.12</td>\n",
       "      <td>0.52</td>\n",
       "      <td>0.63</td>\n",
       "      <td>0.65</td>\n",
       "      <td>1.17</td>\n",
       "      <td>1</td>\n",
       "      <td>1</td>\n",
       "      <td>True</td>\n",
       "    </tr>\n",
       "    <tr>\n",
       "      <th>1</th>\n",
       "      <td>2</td>\n",
       "      <td>0</td>\n",
       "      <td>1</td>\n",
       "      <td>1</td>\n",
       "      <td>1</td>\n",
       "      <td>0</td>\n",
       "      <td>1</td>\n",
       "      <td>1</td>\n",
       "      <td>0</td>\n",
       "      <td>3</td>\n",
       "      <td>...</td>\n",
       "      <td>48</td>\n",
       "      <td>0.48</td>\n",
       "      <td>1.03</td>\n",
       "      <td>0.49</td>\n",
       "      <td>0.60</td>\n",
       "      <td>0.84</td>\n",
       "      <td>1.17</td>\n",
       "      <td>1</td>\n",
       "      <td>1</td>\n",
       "      <td>True</td>\n",
       "    </tr>\n",
       "    <tr>\n",
       "      <th>2</th>\n",
       "      <td>2</td>\n",
       "      <td>0</td>\n",
       "      <td>1</td>\n",
       "      <td>1</td>\n",
       "      <td>1</td>\n",
       "      <td>0</td>\n",
       "      <td>1</td>\n",
       "      <td>1</td>\n",
       "      <td>0</td>\n",
       "      <td>3</td>\n",
       "      <td>...</td>\n",
       "      <td>48</td>\n",
       "      <td>0.48</td>\n",
       "      <td>1.30</td>\n",
       "      <td>0.58</td>\n",
       "      <td>0.67</td>\n",
       "      <td>0.52</td>\n",
       "      <td>1.17</td>\n",
       "      <td>1</td>\n",
       "      <td>1</td>\n",
       "      <td>True</td>\n",
       "    </tr>\n",
       "    <tr>\n",
       "      <th>3</th>\n",
       "      <td>2</td>\n",
       "      <td>0</td>\n",
       "      <td>1</td>\n",
       "      <td>1</td>\n",
       "      <td>1</td>\n",
       "      <td>0</td>\n",
       "      <td>1</td>\n",
       "      <td>1</td>\n",
       "      <td>0</td>\n",
       "      <td>3</td>\n",
       "      <td>...</td>\n",
       "      <td>40</td>\n",
       "      <td>0.40</td>\n",
       "      <td>1.03</td>\n",
       "      <td>0.52</td>\n",
       "      <td>0.63</td>\n",
       "      <td>0.52</td>\n",
       "      <td>0.72</td>\n",
       "      <td>1</td>\n",
       "      <td>1</td>\n",
       "      <td>True</td>\n",
       "    </tr>\n",
       "    <tr>\n",
       "      <th>4</th>\n",
       "      <td>2</td>\n",
       "      <td>0</td>\n",
       "      <td>1</td>\n",
       "      <td>1</td>\n",
       "      <td>1</td>\n",
       "      <td>0</td>\n",
       "      <td>1</td>\n",
       "      <td>1</td>\n",
       "      <td>0</td>\n",
       "      <td>3</td>\n",
       "      <td>...</td>\n",
       "      <td>36</td>\n",
       "      <td>0.36</td>\n",
       "      <td>1.30</td>\n",
       "      <td>0.42</td>\n",
       "      <td>0.63</td>\n",
       "      <td>0.84</td>\n",
       "      <td>0.90</td>\n",
       "      <td>1</td>\n",
       "      <td>1</td>\n",
       "      <td>True</td>\n",
       "    </tr>\n",
       "    <tr>\n",
       "      <th>...</th>\n",
       "      <td>...</td>\n",
       "      <td>...</td>\n",
       "      <td>...</td>\n",
       "      <td>...</td>\n",
       "      <td>...</td>\n",
       "      <td>...</td>\n",
       "      <td>...</td>\n",
       "      <td>...</td>\n",
       "      <td>...</td>\n",
       "      <td>...</td>\n",
       "      <td>...</td>\n",
       "      <td>...</td>\n",
       "      <td>...</td>\n",
       "      <td>...</td>\n",
       "      <td>...</td>\n",
       "      <td>...</td>\n",
       "      <td>...</td>\n",
       "      <td>...</td>\n",
       "      <td>...</td>\n",
       "      <td>...</td>\n",
       "      <td>...</td>\n",
       "    </tr>\n",
       "    <tr>\n",
       "      <th>10723</th>\n",
       "      <td>3</td>\n",
       "      <td>1</td>\n",
       "      <td>1</td>\n",
       "      <td>1192</td>\n",
       "      <td>4</td>\n",
       "      <td>1</td>\n",
       "      <td>7</td>\n",
       "      <td>1</td>\n",
       "      <td>0</td>\n",
       "      <td>5</td>\n",
       "      <td>...</td>\n",
       "      <td>13</td>\n",
       "      <td>0.13</td>\n",
       "      <td>1.48</td>\n",
       "      <td>0.17</td>\n",
       "      <td>0.93</td>\n",
       "      <td>0.56</td>\n",
       "      <td>1.56</td>\n",
       "      <td>1</td>\n",
       "      <td>1</td>\n",
       "      <td>False</td>\n",
       "    </tr>\n",
       "    <tr>\n",
       "      <th>10724</th>\n",
       "      <td>3</td>\n",
       "      <td>1</td>\n",
       "      <td>1</td>\n",
       "      <td>1192</td>\n",
       "      <td>4</td>\n",
       "      <td>1</td>\n",
       "      <td>7</td>\n",
       "      <td>1</td>\n",
       "      <td>0</td>\n",
       "      <td>5</td>\n",
       "      <td>...</td>\n",
       "      <td>12</td>\n",
       "      <td>0.12</td>\n",
       "      <td>1.48</td>\n",
       "      <td>0.16</td>\n",
       "      <td>0.96</td>\n",
       "      <td>0.70</td>\n",
       "      <td>0.96</td>\n",
       "      <td>1</td>\n",
       "      <td>1</td>\n",
       "      <td>False</td>\n",
       "    </tr>\n",
       "    <tr>\n",
       "      <th>10725</th>\n",
       "      <td>3</td>\n",
       "      <td>1</td>\n",
       "      <td>1</td>\n",
       "      <td>1192</td>\n",
       "      <td>4</td>\n",
       "      <td>1</td>\n",
       "      <td>7</td>\n",
       "      <td>1</td>\n",
       "      <td>0</td>\n",
       "      <td>5</td>\n",
       "      <td>...</td>\n",
       "      <td>16</td>\n",
       "      <td>0.16</td>\n",
       "      <td>1.48</td>\n",
       "      <td>0.16</td>\n",
       "      <td>0.93</td>\n",
       "      <td>0.56</td>\n",
       "      <td>0.96</td>\n",
       "      <td>1</td>\n",
       "      <td>1</td>\n",
       "      <td>False</td>\n",
       "    </tr>\n",
       "    <tr>\n",
       "      <th>10726</th>\n",
       "      <td>3</td>\n",
       "      <td>1</td>\n",
       "      <td>1</td>\n",
       "      <td>1192</td>\n",
       "      <td>4</td>\n",
       "      <td>1</td>\n",
       "      <td>7</td>\n",
       "      <td>1</td>\n",
       "      <td>0</td>\n",
       "      <td>5</td>\n",
       "      <td>...</td>\n",
       "      <td>16</td>\n",
       "      <td>0.16</td>\n",
       "      <td>1.78</td>\n",
       "      <td>0.17</td>\n",
       "      <td>0.96</td>\n",
       "      <td>0.91</td>\n",
       "      <td>0.96</td>\n",
       "      <td>1</td>\n",
       "      <td>1</td>\n",
       "      <td>False</td>\n",
       "    </tr>\n",
       "    <tr>\n",
       "      <th>10727</th>\n",
       "      <td>3</td>\n",
       "      <td>1</td>\n",
       "      <td>1</td>\n",
       "      <td>1192</td>\n",
       "      <td>4</td>\n",
       "      <td>1</td>\n",
       "      <td>7</td>\n",
       "      <td>1</td>\n",
       "      <td>0</td>\n",
       "      <td>5</td>\n",
       "      <td>...</td>\n",
       "      <td>13</td>\n",
       "      <td>0.13</td>\n",
       "      <td>1.48</td>\n",
       "      <td>0.21</td>\n",
       "      <td>0.96</td>\n",
       "      <td>0.70</td>\n",
       "      <td>1.20</td>\n",
       "      <td>1</td>\n",
       "      <td>1</td>\n",
       "      <td>False</td>\n",
       "    </tr>\n",
       "  </tbody>\n",
       "</table>\n",
       "<p>10728 rows × 39 columns</p>\n",
       "</div>"
      ],
      "text/plain": [
       "       GROUP  SURVEY  SP    ID  PURPOSE  FIRST  TICKET  WHO  LUGGAGE  AGE  \\\n",
       "0          2       0   1     1        1      0       1    1        0    3   \n",
       "1          2       0   1     1        1      0       1    1        0    3   \n",
       "2          2       0   1     1        1      0       1    1        0    3   \n",
       "3          2       0   1     1        1      0       1    1        0    3   \n",
       "4          2       0   1     1        1      0       1    1        0    3   \n",
       "...      ...     ...  ..   ...      ...    ...     ...  ...      ...  ...   \n",
       "10723      3       1   1  1192        4      1       7    1        0    5   \n",
       "10724      3       1   1  1192        4      1       7    1        0    5   \n",
       "10725      3       1   1  1192        4      1       7    1        0    5   \n",
       "10726      3       1   1  1192        4      1       7    1        0    5   \n",
       "10727      3       1   1  1192        4      1       7    1        0    5   \n",
       "\n",
       "       ...  TRAIN_COST  TRAIN_COST_SCALED  TRAIN_TT_SCALED  SM_COST_SCALED  \\\n",
       "0      ...          48               0.48             1.12            0.52   \n",
       "1      ...          48               0.48             1.03            0.49   \n",
       "2      ...          48               0.48             1.30            0.58   \n",
       "3      ...          40               0.40             1.03            0.52   \n",
       "4      ...          36               0.36             1.30            0.42   \n",
       "...    ...         ...                ...              ...             ...   \n",
       "10723  ...          13               0.13             1.48            0.17   \n",
       "10724  ...          12               0.12             1.48            0.16   \n",
       "10725  ...          16               0.16             1.48            0.16   \n",
       "10726  ...          16               0.16             1.78            0.17   \n",
       "10727  ...          13               0.13             1.48            0.21   \n",
       "\n",
       "       SM_TT_SCALED  CAR_CO_SCALED  CAR_TT_SCALED  CAR_AV_SP  TRAIN_AV_SP  \\\n",
       "0              0.63           0.65           1.17          1            1   \n",
       "1              0.60           0.84           1.17          1            1   \n",
       "2              0.67           0.52           1.17          1            1   \n",
       "3              0.63           0.52           0.72          1            1   \n",
       "4              0.63           0.84           0.90          1            1   \n",
       "...             ...            ...            ...        ...          ...   \n",
       "10723          0.93           0.56           1.56          1            1   \n",
       "10724          0.96           0.70           0.96          1            1   \n",
       "10725          0.93           0.56           0.96          1            1   \n",
       "10726          0.96           0.91           0.96          1            1   \n",
       "10727          0.96           0.70           1.20          1            1   \n",
       "\n",
       "        keep  \n",
       "0       True  \n",
       "1       True  \n",
       "2       True  \n",
       "3       True  \n",
       "4       True  \n",
       "...      ...  \n",
       "10723  False  \n",
       "10724  False  \n",
       "10725  False  \n",
       "10726  False  \n",
       "10727  False  \n",
       "\n",
       "[10728 rows x 39 columns]"
      ]
     },
     "execution_count": 3,
     "metadata": {},
     "output_type": "execute_result"
    }
   ],
   "source": [
    "raw"
   ]
  },
  {
   "cell_type": "code",
   "execution_count": 4,
   "id": "a47136be",
   "metadata": {
    "ExecuteTime": {
     "end_time": "2022-03-29T14:14:39.711214Z",
     "start_time": "2022-03-29T14:14:39.621458Z"
    }
   },
   "outputs": [],
   "source": [
    "data = lx.Dataset.construct.from_idco(raw).dc.query_cases('keep')"
   ]
  },
  {
   "cell_type": "code",
   "execution_count": 5,
   "id": "968faa2b",
   "metadata": {
    "ExecuteTime": {
     "end_time": "2022-03-29T14:14:39.719445Z",
     "start_time": "2022-03-29T14:14:39.712590Z"
    }
   },
   "outputs": [],
   "source": [
    "m1 = lx.Model(\n",
    "    data.dc.set_altids([1,2,3])\n",
    ")\n",
    "m1.availability_co_vars = {\n",
    "    1: \"TRAIN_AV_SP\",\n",
    "    2: \"SM_AV\",\n",
    "    3: \"CAR_AV_SP\",\n",
    "}\n",
    "m1.choice_co_code = 'CHOICE'\n",
    "\n",
    "m1.utility_co[1] = P(\"ASC_TRAIN\") + X(\"TRAIN_COST_SCALED\") * P(\"B_COST\")\n",
    "m1.utility_co[2] = X(\"SM_COST_SCALED\") * P(\"B_COST\")\n",
    "m1.utility_co[3] = P(\"ASC_CAR\") + X(\"CAR_CO_SCALED\") * P(\"B_COST\")"
   ]
  },
  {
   "cell_type": "code",
   "execution_count": 6,
   "id": "124acfd6",
   "metadata": {
    "ExecuteTime": {
     "end_time": "2022-03-29T14:14:42.198220Z",
     "start_time": "2022-03-29T14:14:39.721219Z"
    }
   },
   "outputs": [
    {
     "data": {
      "text/html": [
       "<div><svg style=\"position: absolute; width: 0; height: 0; overflow: hidden\">\n",
       "<defs>\n",
       "<symbol id=\"icon-database\" viewBox=\"0 0 32 32\">\n",
       "<path d=\"M16 0c-8.837 0-16 2.239-16 5v4c0 2.761 7.163 5 16 5s16-2.239 16-5v-4c0-2.761-7.163-5-16-5z\"></path>\n",
       "<path d=\"M16 17c-8.837 0-16-2.239-16-5v6c0 2.761 7.163 5 16 5s16-2.239 16-5v-6c0 2.761-7.163 5-16 5z\"></path>\n",
       "<path d=\"M16 26c-8.837 0-16-2.239-16-5v6c0 2.761 7.163 5 16 5s16-2.239 16-5v-6c0 2.761-7.163 5-16 5z\"></path>\n",
       "</symbol>\n",
       "<symbol id=\"icon-file-text2\" viewBox=\"0 0 32 32\">\n",
       "<path d=\"M28.681 7.159c-0.694-0.947-1.662-2.053-2.724-3.116s-2.169-2.030-3.116-2.724c-1.612-1.182-2.393-1.319-2.841-1.319h-15.5c-1.378 0-2.5 1.121-2.5 2.5v27c0 1.378 1.122 2.5 2.5 2.5h23c1.378 0 2.5-1.122 2.5-2.5v-19.5c0-0.448-0.137-1.23-1.319-2.841zM24.543 5.457c0.959 0.959 1.712 1.825 2.268 2.543h-4.811v-4.811c0.718 0.556 1.584 1.309 2.543 2.268zM28 29.5c0 0.271-0.229 0.5-0.5 0.5h-23c-0.271 0-0.5-0.229-0.5-0.5v-27c0-0.271 0.229-0.5 0.5-0.5 0 0 15.499-0 15.5 0v7c0 0.552 0.448 1 1 1h7v19.5z\"></path>\n",
       "<path d=\"M23 26h-14c-0.552 0-1-0.448-1-1s0.448-1 1-1h14c0.552 0 1 0.448 1 1s-0.448 1-1 1z\"></path>\n",
       "<path d=\"M23 22h-14c-0.552 0-1-0.448-1-1s0.448-1 1-1h14c0.552 0 1 0.448 1 1s-0.448 1-1 1z\"></path>\n",
       "<path d=\"M23 18h-14c-0.552 0-1-0.448-1-1s0.448-1 1-1h14c0.552 0 1 0.448 1 1s-0.448 1-1 1z\"></path>\n",
       "</symbol>\n",
       "</defs>\n",
       "</svg>\n",
       "<style>/* CSS stylesheet for displaying xarray objects in jupyterlab.\n",
       " *\n",
       " */\n",
       "\n",
       ":root {\n",
       "  --xr-font-color0: var(--jp-content-font-color0, rgba(0, 0, 0, 1));\n",
       "  --xr-font-color2: var(--jp-content-font-color2, rgba(0, 0, 0, 0.54));\n",
       "  --xr-font-color3: var(--jp-content-font-color3, rgba(0, 0, 0, 0.38));\n",
       "  --xr-border-color: var(--jp-border-color2, #e0e0e0);\n",
       "  --xr-disabled-color: var(--jp-layout-color3, #bdbdbd);\n",
       "  --xr-background-color: var(--jp-layout-color0, white);\n",
       "  --xr-background-color-row-even: var(--jp-layout-color1, white);\n",
       "  --xr-background-color-row-odd: var(--jp-layout-color2, #eeeeee);\n",
       "}\n",
       "\n",
       "html[theme=dark],\n",
       "body.vscode-dark {\n",
       "  --xr-font-color0: rgba(255, 255, 255, 1);\n",
       "  --xr-font-color2: rgba(255, 255, 255, 0.54);\n",
       "  --xr-font-color3: rgba(255, 255, 255, 0.38);\n",
       "  --xr-border-color: #1F1F1F;\n",
       "  --xr-disabled-color: #515151;\n",
       "  --xr-background-color: #111111;\n",
       "  --xr-background-color-row-even: #111111;\n",
       "  --xr-background-color-row-odd: #313131;\n",
       "}\n",
       "\n",
       ".xr-wrap {\n",
       "  display: block !important;\n",
       "  min-width: 300px;\n",
       "  max-width: 700px;\n",
       "}\n",
       "\n",
       ".xr-text-repr-fallback {\n",
       "  /* fallback to plain text repr when CSS is not injected (untrusted notebook) */\n",
       "  display: none;\n",
       "}\n",
       "\n",
       ".xr-header {\n",
       "  padding-top: 6px;\n",
       "  padding-bottom: 6px;\n",
       "  margin-bottom: 4px;\n",
       "  border-bottom: solid 1px var(--xr-border-color);\n",
       "}\n",
       "\n",
       ".xr-header > div,\n",
       ".xr-header > ul {\n",
       "  display: inline;\n",
       "  margin-top: 0;\n",
       "  margin-bottom: 0;\n",
       "}\n",
       "\n",
       ".xr-obj-type,\n",
       ".xr-array-name {\n",
       "  margin-left: 2px;\n",
       "  margin-right: 10px;\n",
       "}\n",
       "\n",
       ".xr-obj-type {\n",
       "  color: var(--xr-font-color2);\n",
       "}\n",
       "\n",
       ".xr-sections {\n",
       "  padding-left: 0 !important;\n",
       "  display: grid;\n",
       "  grid-template-columns: 150px auto auto 1fr 20px 20px;\n",
       "}\n",
       "\n",
       ".xr-section-item {\n",
       "  display: contents;\n",
       "}\n",
       "\n",
       ".xr-section-item input {\n",
       "  display: none;\n",
       "}\n",
       "\n",
       ".xr-section-item input + label {\n",
       "  color: var(--xr-disabled-color);\n",
       "}\n",
       "\n",
       ".xr-section-item input:enabled + label {\n",
       "  cursor: pointer;\n",
       "  color: var(--xr-font-color2);\n",
       "}\n",
       "\n",
       ".xr-section-item input:enabled + label:hover {\n",
       "  color: var(--xr-font-color0);\n",
       "}\n",
       "\n",
       ".xr-section-summary {\n",
       "  grid-column: 1;\n",
       "  color: var(--xr-font-color2);\n",
       "  font-weight: 500;\n",
       "}\n",
       "\n",
       ".xr-section-summary > span {\n",
       "  display: inline-block;\n",
       "  padding-left: 0.5em;\n",
       "}\n",
       "\n",
       ".xr-section-summary-in:disabled + label {\n",
       "  color: var(--xr-font-color2);\n",
       "}\n",
       "\n",
       ".xr-section-summary-in + label:before {\n",
       "  display: inline-block;\n",
       "  content: '►';\n",
       "  font-size: 11px;\n",
       "  width: 15px;\n",
       "  text-align: center;\n",
       "}\n",
       "\n",
       ".xr-section-summary-in:disabled + label:before {\n",
       "  color: var(--xr-disabled-color);\n",
       "}\n",
       "\n",
       ".xr-section-summary-in:checked + label:before {\n",
       "  content: '▼';\n",
       "}\n",
       "\n",
       ".xr-section-summary-in:checked + label > span {\n",
       "  display: none;\n",
       "}\n",
       "\n",
       ".xr-section-summary,\n",
       ".xr-section-inline-details {\n",
       "  padding-top: 4px;\n",
       "  padding-bottom: 4px;\n",
       "}\n",
       "\n",
       ".xr-section-inline-details {\n",
       "  grid-column: 2 / -1;\n",
       "}\n",
       "\n",
       ".xr-section-details {\n",
       "  display: none;\n",
       "  grid-column: 1 / -1;\n",
       "  margin-bottom: 5px;\n",
       "}\n",
       "\n",
       ".xr-section-summary-in:checked ~ .xr-section-details {\n",
       "  display: contents;\n",
       "}\n",
       "\n",
       ".xr-array-wrap {\n",
       "  grid-column: 1 / -1;\n",
       "  display: grid;\n",
       "  grid-template-columns: 20px auto;\n",
       "}\n",
       "\n",
       ".xr-array-wrap > label {\n",
       "  grid-column: 1;\n",
       "  vertical-align: top;\n",
       "}\n",
       "\n",
       ".xr-preview {\n",
       "  color: var(--xr-font-color3);\n",
       "}\n",
       "\n",
       ".xr-array-preview,\n",
       ".xr-array-data {\n",
       "  padding: 0 5px !important;\n",
       "  grid-column: 2;\n",
       "}\n",
       "\n",
       ".xr-array-data,\n",
       ".xr-array-in:checked ~ .xr-array-preview {\n",
       "  display: none;\n",
       "}\n",
       "\n",
       ".xr-array-in:checked ~ .xr-array-data,\n",
       ".xr-array-preview {\n",
       "  display: inline-block;\n",
       "}\n",
       "\n",
       ".xr-dim-list {\n",
       "  display: inline-block !important;\n",
       "  list-style: none;\n",
       "  padding: 0 !important;\n",
       "  margin: 0;\n",
       "}\n",
       "\n",
       ".xr-dim-list li {\n",
       "  display: inline-block;\n",
       "  padding: 0;\n",
       "  margin: 0;\n",
       "}\n",
       "\n",
       ".xr-dim-list:before {\n",
       "  content: '(';\n",
       "}\n",
       "\n",
       ".xr-dim-list:after {\n",
       "  content: ')';\n",
       "}\n",
       "\n",
       ".xr-dim-list li:not(:last-child):after {\n",
       "  content: ',';\n",
       "  padding-right: 5px;\n",
       "}\n",
       "\n",
       ".xr-has-index {\n",
       "  font-weight: bold;\n",
       "}\n",
       "\n",
       ".xr-var-list,\n",
       ".xr-var-item {\n",
       "  display: contents;\n",
       "}\n",
       "\n",
       ".xr-var-item > div,\n",
       ".xr-var-item label,\n",
       ".xr-var-item > .xr-var-name span {\n",
       "  background-color: var(--xr-background-color-row-even);\n",
       "  margin-bottom: 0;\n",
       "}\n",
       "\n",
       ".xr-var-item > .xr-var-name:hover span {\n",
       "  padding-right: 5px;\n",
       "}\n",
       "\n",
       ".xr-var-list > li:nth-child(odd) > div,\n",
       ".xr-var-list > li:nth-child(odd) > label,\n",
       ".xr-var-list > li:nth-child(odd) > .xr-var-name span {\n",
       "  background-color: var(--xr-background-color-row-odd);\n",
       "}\n",
       "\n",
       ".xr-var-name {\n",
       "  grid-column: 1;\n",
       "}\n",
       "\n",
       ".xr-var-dims {\n",
       "  grid-column: 2;\n",
       "}\n",
       "\n",
       ".xr-var-dtype {\n",
       "  grid-column: 3;\n",
       "  text-align: right;\n",
       "  color: var(--xr-font-color2);\n",
       "}\n",
       "\n",
       ".xr-var-preview {\n",
       "  grid-column: 4;\n",
       "}\n",
       "\n",
       ".xr-var-name,\n",
       ".xr-var-dims,\n",
       ".xr-var-dtype,\n",
       ".xr-preview,\n",
       ".xr-attrs dt {\n",
       "  white-space: nowrap;\n",
       "  overflow: hidden;\n",
       "  text-overflow: ellipsis;\n",
       "  padding-right: 10px;\n",
       "}\n",
       "\n",
       ".xr-var-name:hover,\n",
       ".xr-var-dims:hover,\n",
       ".xr-var-dtype:hover,\n",
       ".xr-attrs dt:hover {\n",
       "  overflow: visible;\n",
       "  width: auto;\n",
       "  z-index: 1;\n",
       "}\n",
       "\n",
       ".xr-var-attrs,\n",
       ".xr-var-data {\n",
       "  display: none;\n",
       "  background-color: var(--xr-background-color) !important;\n",
       "  padding-bottom: 5px !important;\n",
       "}\n",
       "\n",
       ".xr-var-attrs-in:checked ~ .xr-var-attrs,\n",
       ".xr-var-data-in:checked ~ .xr-var-data {\n",
       "  display: block;\n",
       "}\n",
       "\n",
       ".xr-var-data > table {\n",
       "  float: right;\n",
       "}\n",
       "\n",
       ".xr-var-name span,\n",
       ".xr-var-data,\n",
       ".xr-attrs {\n",
       "  padding-left: 25px !important;\n",
       "}\n",
       "\n",
       ".xr-attrs,\n",
       ".xr-var-attrs,\n",
       ".xr-var-data {\n",
       "  grid-column: 1 / -1;\n",
       "}\n",
       "\n",
       "dl.xr-attrs {\n",
       "  padding: 0;\n",
       "  margin: 0;\n",
       "  display: grid;\n",
       "  grid-template-columns: 125px auto;\n",
       "}\n",
       "\n",
       ".xr-attrs dt,\n",
       ".xr-attrs dd {\n",
       "  padding: 0;\n",
       "  margin: 0;\n",
       "  float: left;\n",
       "  padding-right: 10px;\n",
       "  width: auto;\n",
       "}\n",
       "\n",
       ".xr-attrs dt {\n",
       "  font-weight: normal;\n",
       "  grid-column: 1;\n",
       "}\n",
       "\n",
       ".xr-attrs dt:hover span {\n",
       "  display: inline-block;\n",
       "  background: var(--xr-background-color);\n",
       "  padding-right: 10px;\n",
       "}\n",
       "\n",
       ".xr-attrs dd {\n",
       "  grid-column: 2;\n",
       "  white-space: pre-wrap;\n",
       "  word-break: break-all;\n",
       "}\n",
       "\n",
       ".xr-icon-database,\n",
       ".xr-icon-file-text2 {\n",
       "  display: inline-block;\n",
       "  vertical-align: middle;\n",
       "  width: 1em;\n",
       "  height: 1.5em !important;\n",
       "  stroke-width: 0;\n",
       "  stroke: currentColor;\n",
       "  fill: currentColor;\n",
       "}\n",
       "</style><pre class='xr-text-repr-fallback'>&lt;xarray.Dataset&gt;\n",
       "Dimensions:     (param_name: 3)\n",
       "Coordinates:\n",
       "  * param_name  (param_name) &lt;U9 &#x27;ASC_CAR&#x27; &#x27;ASC_TRAIN&#x27; &#x27;B_COST&#x27;\n",
       "Data variables:\n",
       "    value       (param_name) float32 0.0 0.0 0.0\n",
       "    initvalue   (param_name) float32 0.0 0.0 0.0\n",
       "    nullvalue   (param_name) float32 0.0 0.0 0.0\n",
       "    minimum     (param_name) float32 -inf -inf -inf\n",
       "    maximum     (param_name) float32 inf inf inf\n",
       "    holdfast    (param_name) int8 0 0 0</pre><div class='xr-wrap' style='display:none'><div class='xr-header'><div class='xr-obj-type'>xarray.Dataset</div></div><ul class='xr-sections'><li class='xr-section-item'><input id='section-4503b899-9ea5-42b1-9d50-40f26571b0ea' class='xr-section-summary-in' type='checkbox' disabled ><label for='section-4503b899-9ea5-42b1-9d50-40f26571b0ea' class='xr-section-summary'  title='Expand/collapse section'>Dimensions:</label><div class='xr-section-inline-details'><ul class='xr-dim-list'><li><span class='xr-has-index'>param_name</span>: 3</li></ul></div><div class='xr-section-details'></div></li><li class='xr-section-item'><input id='section-9c0b44db-a7c5-449f-83eb-226d8c78ddb2' class='xr-section-summary-in' type='checkbox'  checked><label for='section-9c0b44db-a7c5-449f-83eb-226d8c78ddb2' class='xr-section-summary' >Coordinates: <span>(1)</span></label><div class='xr-section-inline-details'></div><div class='xr-section-details'><ul class='xr-var-list'><li class='xr-var-item'><div class='xr-var-name'><span class='xr-has-index'>param_name</span></div><div class='xr-var-dims'>(param_name)</div><div class='xr-var-dtype'>&lt;U9</div><div class='xr-var-preview xr-preview'>&#x27;ASC_CAR&#x27; &#x27;ASC_TRAIN&#x27; &#x27;B_COST&#x27;</div><input id='attrs-0ebdad57-01f0-48e3-bdca-0e0f976bc33c' class='xr-var-attrs-in' type='checkbox' disabled><label for='attrs-0ebdad57-01f0-48e3-bdca-0e0f976bc33c' title='Show/Hide attributes'><svg class='icon xr-icon-file-text2'><use xlink:href='#icon-file-text2'></use></svg></label><input id='data-eb4cd879-2715-4e3c-b33c-f71e2730a043' class='xr-var-data-in' type='checkbox'><label for='data-eb4cd879-2715-4e3c-b33c-f71e2730a043' title='Show/Hide data repr'><svg class='icon xr-icon-database'><use xlink:href='#icon-database'></use></svg></label><div class='xr-var-attrs'><dl class='xr-attrs'></dl></div><div class='xr-var-data'><pre>array([&#x27;ASC_CAR&#x27;, &#x27;ASC_TRAIN&#x27;, &#x27;B_COST&#x27;], dtype=&#x27;&lt;U9&#x27;)</pre></div></li></ul></div></li><li class='xr-section-item'><input id='section-a54c83e3-8211-4b29-bee3-d8d4f4bc65cd' class='xr-section-summary-in' type='checkbox'  checked><label for='section-a54c83e3-8211-4b29-bee3-d8d4f4bc65cd' class='xr-section-summary' >Data variables: <span>(6)</span></label><div class='xr-section-inline-details'></div><div class='xr-section-details'><ul class='xr-var-list'><li class='xr-var-item'><div class='xr-var-name'><span>value</span></div><div class='xr-var-dims'>(param_name)</div><div class='xr-var-dtype'>float32</div><div class='xr-var-preview xr-preview'>0.0 0.0 0.0</div><input id='attrs-39f7c4b4-3737-48e7-a06e-32f2f25cc4c2' class='xr-var-attrs-in' type='checkbox' disabled><label for='attrs-39f7c4b4-3737-48e7-a06e-32f2f25cc4c2' title='Show/Hide attributes'><svg class='icon xr-icon-file-text2'><use xlink:href='#icon-file-text2'></use></svg></label><input id='data-e75164da-ed98-4862-b970-7cdd9171cd98' class='xr-var-data-in' type='checkbox'><label for='data-e75164da-ed98-4862-b970-7cdd9171cd98' title='Show/Hide data repr'><svg class='icon xr-icon-database'><use xlink:href='#icon-database'></use></svg></label><div class='xr-var-attrs'><dl class='xr-attrs'></dl></div><div class='xr-var-data'><pre>array([ 0.,  0.,  0.], dtype=float32)</pre></div></li><li class='xr-var-item'><div class='xr-var-name'><span>initvalue</span></div><div class='xr-var-dims'>(param_name)</div><div class='xr-var-dtype'>float32</div><div class='xr-var-preview xr-preview'>0.0 0.0 0.0</div><input id='attrs-ea944c18-4f05-484d-ae5e-1d1c30f754e4' class='xr-var-attrs-in' type='checkbox' disabled><label for='attrs-ea944c18-4f05-484d-ae5e-1d1c30f754e4' title='Show/Hide attributes'><svg class='icon xr-icon-file-text2'><use xlink:href='#icon-file-text2'></use></svg></label><input id='data-01c723ff-c586-4957-bdd6-f71c74bc29a3' class='xr-var-data-in' type='checkbox'><label for='data-01c723ff-c586-4957-bdd6-f71c74bc29a3' title='Show/Hide data repr'><svg class='icon xr-icon-database'><use xlink:href='#icon-database'></use></svg></label><div class='xr-var-attrs'><dl class='xr-attrs'></dl></div><div class='xr-var-data'><pre>array([ 0.,  0.,  0.], dtype=float32)</pre></div></li><li class='xr-var-item'><div class='xr-var-name'><span>nullvalue</span></div><div class='xr-var-dims'>(param_name)</div><div class='xr-var-dtype'>float32</div><div class='xr-var-preview xr-preview'>0.0 0.0 0.0</div><input id='attrs-47928385-23c3-435f-8055-652f3133b5f1' class='xr-var-attrs-in' type='checkbox' disabled><label for='attrs-47928385-23c3-435f-8055-652f3133b5f1' title='Show/Hide attributes'><svg class='icon xr-icon-file-text2'><use xlink:href='#icon-file-text2'></use></svg></label><input id='data-a00805be-a2c8-4181-8d65-44aa7b243d26' class='xr-var-data-in' type='checkbox'><label for='data-a00805be-a2c8-4181-8d65-44aa7b243d26' title='Show/Hide data repr'><svg class='icon xr-icon-database'><use xlink:href='#icon-database'></use></svg></label><div class='xr-var-attrs'><dl class='xr-attrs'></dl></div><div class='xr-var-data'><pre>array([ 0.,  0.,  0.], dtype=float32)</pre></div></li><li class='xr-var-item'><div class='xr-var-name'><span>minimum</span></div><div class='xr-var-dims'>(param_name)</div><div class='xr-var-dtype'>float32</div><div class='xr-var-preview xr-preview'>-inf -inf -inf</div><input id='attrs-58f5484e-02b9-4fab-bb60-c93af3c8408f' class='xr-var-attrs-in' type='checkbox' disabled><label for='attrs-58f5484e-02b9-4fab-bb60-c93af3c8408f' title='Show/Hide attributes'><svg class='icon xr-icon-file-text2'><use xlink:href='#icon-file-text2'></use></svg></label><input id='data-f20fe3e9-3d73-464f-a4fc-6911473371f2' class='xr-var-data-in' type='checkbox'><label for='data-f20fe3e9-3d73-464f-a4fc-6911473371f2' title='Show/Hide data repr'><svg class='icon xr-icon-database'><use xlink:href='#icon-database'></use></svg></label><div class='xr-var-attrs'><dl class='xr-attrs'></dl></div><div class='xr-var-data'><pre>array([-inf, -inf, -inf], dtype=float32)</pre></div></li><li class='xr-var-item'><div class='xr-var-name'><span>maximum</span></div><div class='xr-var-dims'>(param_name)</div><div class='xr-var-dtype'>float32</div><div class='xr-var-preview xr-preview'>inf inf inf</div><input id='attrs-79e639cb-a0d9-4db0-aa9b-e9a4a8b396e4' class='xr-var-attrs-in' type='checkbox' disabled><label for='attrs-79e639cb-a0d9-4db0-aa9b-e9a4a8b396e4' title='Show/Hide attributes'><svg class='icon xr-icon-file-text2'><use xlink:href='#icon-file-text2'></use></svg></label><input id='data-29ad7acd-3388-4bd5-93d0-28ec05f59a46' class='xr-var-data-in' type='checkbox'><label for='data-29ad7acd-3388-4bd5-93d0-28ec05f59a46' title='Show/Hide data repr'><svg class='icon xr-icon-database'><use xlink:href='#icon-database'></use></svg></label><div class='xr-var-attrs'><dl class='xr-attrs'></dl></div><div class='xr-var-data'><pre>array([ inf,  inf,  inf], dtype=float32)</pre></div></li><li class='xr-var-item'><div class='xr-var-name'><span>holdfast</span></div><div class='xr-var-dims'>(param_name)</div><div class='xr-var-dtype'>int8</div><div class='xr-var-preview xr-preview'>0 0 0</div><input id='attrs-13c084ce-0c24-4377-950a-02b7934025b5' class='xr-var-attrs-in' type='checkbox' disabled><label for='attrs-13c084ce-0c24-4377-950a-02b7934025b5' title='Show/Hide attributes'><svg class='icon xr-icon-file-text2'><use xlink:href='#icon-file-text2'></use></svg></label><input id='data-11dd113d-59ae-4af8-80f2-c48cfe7ab6e0' class='xr-var-data-in' type='checkbox'><label for='data-11dd113d-59ae-4af8-80f2-c48cfe7ab6e0' title='Show/Hide data repr'><svg class='icon xr-icon-database'><use xlink:href='#icon-database'></use></svg></label><div class='xr-var-attrs'><dl class='xr-attrs'></dl></div><div class='xr-var-data'><pre>array([0, 0, 0], dtype=int8)</pre></div></li></ul></div></li><li class='xr-section-item'><input id='section-711074fb-a387-4482-baa7-8a9c98af528e' class='xr-section-summary-in' type='checkbox' disabled ><label for='section-711074fb-a387-4482-baa7-8a9c98af528e' class='xr-section-summary'  title='Expand/collapse section'>Attributes: <span>(0)</span></label><div class='xr-section-inline-details'></div><div class='xr-section-details'><dl class='xr-attrs'></dl></div></li></ul></div></div>"
      ],
      "text/plain": [
       "<xarray.Dataset>\n",
       "Dimensions:     (param_name: 3)\n",
       "Coordinates:\n",
       "  * param_name  (param_name) <U9 'ASC_CAR' 'ASC_TRAIN' 'B_COST'\n",
       "Data variables:\n",
       "    value       (param_name) float32 0.0 0.0 0.0\n",
       "    initvalue   (param_name) float32 0.0 0.0 0.0\n",
       "    nullvalue   (param_name) float32 0.0 0.0 0.0\n",
       "    minimum     (param_name) float32 -inf -inf -inf\n",
       "    maximum     (param_name) float32 inf inf inf\n",
       "    holdfast    (param_name) int8 0 0 0"
      ]
     },
     "execution_count": 6,
     "metadata": {},
     "output_type": "execute_result"
    }
   ],
   "source": [
    "m1.parameters"
   ]
  },
  {
   "cell_type": "code",
   "execution_count": 7,
   "id": "2041f3c3",
   "metadata": {
    "ExecuteTime": {
     "end_time": "2022-03-29T14:14:42.209015Z",
     "start_time": "2022-03-29T14:14:42.200239Z"
    }
   },
   "outputs": [],
   "source": [
    "m2 = lx.Model(\n",
    "    data.dc.set_altids([1,2,3])\n",
    ")\n",
    "m2.availability_co_vars = {\n",
    "    1: \"TRAIN_AV_SP\",\n",
    "    2: \"SM_AV\",\n",
    "    3: \"CAR_AV_SP\",\n",
    "}\n",
    "m2.choice_co_code = 'CHOICE'\n",
    "\n",
    "m2.utility_co[1] = P(\"ASC_TRAIN\") + X(\"TRAIN_TT_SCALED\") * P(\"B_TIME\") + X(\"TRAIN_COST_SCALED\") * P(\"B_COST\")\n",
    "m2.utility_co[2] = X(\"SM_TT_SCALED\") * P(\"B_TIME\") + X(\"SM_COST_SCALED\") * P(\"B_COST\")\n",
    "m2.utility_co[3] = P(\"ASC_CAR\") + X(\"CAR_TT_SCALED\") * P(\"B_TIME\") + X(\"CAR_CO_SCALED\") * P(\"B_COST\")"
   ]
  },
  {
   "cell_type": "code",
   "execution_count": 8,
   "id": "a7ad7566",
   "metadata": {
    "ExecuteTime": {
     "end_time": "2022-03-29T14:14:42.218650Z",
     "start_time": "2022-03-29T14:14:42.210966Z"
    }
   },
   "outputs": [],
   "source": [
    "m3 = lx.Model(\n",
    "    data.dc.set_altids([1,2,3])\n",
    ")\n",
    "m3.availability_co_vars = {\n",
    "    1: \"TRAIN_AV_SP\",\n",
    "    2: \"SM_AV\",\n",
    "    3: \"CAR_AV_SP\",\n",
    "}\n",
    "m3.choice_co_code = 'CHOICE'\n",
    "\n",
    "m3.utility_co[1] = X(\"TRAIN_COST_SCALED\") * P(\"Z_COST\")\n",
    "m3.utility_co[2] = X(\"SM_COST_SCALED\") * P(\"Z_COST\")\n",
    "m3.utility_co[3] = X(\"CAR_CO_SCALED\") * P(\"Z_COST\")\n",
    "\n",
    "m3.groupid = 'ID'"
   ]
  },
  {
   "cell_type": "code",
   "execution_count": 9,
   "id": "e3edd55f",
   "metadata": {
    "ExecuteTime": {
     "end_time": "2022-03-29T14:14:42.223131Z",
     "start_time": "2022-03-29T14:14:42.220689Z"
    }
   },
   "outputs": [],
   "source": [
    "import jax.numpy as jnp"
   ]
  },
  {
   "cell_type": "code",
   "execution_count": 10,
   "id": "a0463cfd",
   "metadata": {
    "ExecuteTime": {
     "end_time": "2022-03-29T14:14:42.234299Z",
     "start_time": "2022-03-29T14:14:42.228084Z"
    }
   },
   "outputs": [],
   "source": [
    "mk = lx.Model(\n",
    "    data.dc.set_altids([101, 102, 103])\n",
    ")\n",
    "mk.utility_co[102] = P(\"W_OTHER\")\n",
    "mk.utility_co[103] = P(\"W_COST\")"
   ]
  },
  {
   "cell_type": "code",
   "execution_count": 32,
   "id": "23a00b6f",
   "metadata": {
    "ExecuteTime": {
     "end_time": "2022-03-29T14:17:35.802390Z",
     "start_time": "2022-03-29T14:17:35.515888Z"
    }
   },
   "outputs": [],
   "source": [
    "b = lx.LatentClass(\n",
    "    mk, \n",
    "    {101:m1, 102:m2, 103:m3}, \n",
    "    datatree=data.dc.set_altids([1,2,3]),\n",
    "    groupid=\"ID\",\n",
    ")"
   ]
  },
  {
   "cell_type": "code",
   "execution_count": 33,
   "id": "bc8dc560",
   "metadata": {
    "ExecuteTime": {
     "end_time": "2022-03-29T14:17:36.654501Z",
     "start_time": "2022-03-29T14:17:36.650328Z"
    }
   },
   "outputs": [
    {
     "data": {
      "text/plain": [
       "<larix.model.latent_class.LatentClass at 0x131486640>"
      ]
     },
     "execution_count": 33,
     "metadata": {},
     "output_type": "execute_result"
    }
   ],
   "source": [
    "b"
   ]
  },
  {
   "cell_type": "code",
   "execution_count": 34,
   "id": "74837d23",
   "metadata": {
    "ExecuteTime": {
     "end_time": "2022-03-29T14:17:37.241297Z",
     "start_time": "2022-03-29T14:17:37.234035Z"
    }
   },
   "outputs": [],
   "source": [
    "b.lock(Z_COST=-10000)"
   ]
  },
  {
   "cell_type": "code",
   "execution_count": 35,
   "id": "f06171d8",
   "metadata": {
    "ExecuteTime": {
     "end_time": "2022-03-29T14:17:39.007463Z",
     "start_time": "2022-03-29T14:17:38.050211Z"
    }
   },
   "outputs": [],
   "source": [
    "b.reflow_data_arrays()"
   ]
  },
  {
   "cell_type": "code",
   "execution_count": 36,
   "id": "3b872c8b",
   "metadata": {
    "ExecuteTime": {
     "end_time": "2022-03-29T14:17:41.548372Z",
     "start_time": "2022-03-29T14:17:41.544629Z"
    }
   },
   "outputs": [
    {
     "data": {
      "text/plain": [
       "'ID'"
      ]
     },
     "execution_count": 36,
     "metadata": {},
     "output_type": "execute_result"
    }
   ],
   "source": [
    "b.groupid"
   ]
  },
  {
   "cell_type": "code",
   "execution_count": 37,
   "id": "92ddb0c8",
   "metadata": {
    "ExecuteTime": {
     "end_time": "2022-03-29T14:17:44.893839Z",
     "start_time": "2022-03-29T14:17:42.345270Z"
    }
   },
   "outputs": [
    {
     "data": {
      "text/plain": [
       "DeviceArray(-7359.497, dtype=float32)"
      ]
     },
     "execution_count": 37,
     "metadata": {},
     "output_type": "execute_result"
    }
   ],
   "source": [
    "b.jax_loglike(b.pvals)"
   ]
  },
  {
   "cell_type": "code",
   "execution_count": 45,
   "id": "ccdfe4c0",
   "metadata": {
    "ExecuteTime": {
     "end_time": "2022-03-29T14:25:47.000690Z",
     "start_time": "2022-03-29T14:25:46.989092Z"
    }
   },
   "outputs": [
    {
     "data": {
      "text/plain": [
       "DeviceArray([-10.292976, -10.292976, -10.292976, -10.292976, -10.292976, -10.292976, -10.292976, -10.292976,\n",
       "             -10.292976, -10.292976, -10.292976, -10.292976, -10.292976, -10.292976, -10.292976, -10.292976,\n",
       "             -10.292976, -10.292976, -10.292976, -10.292976, -10.292976, -10.292976, -10.292976, -10.292976,\n",
       "             -10.292976, -10.292976, -10.292976, -10.292976, -10.292976, -10.292976, -10.292976, -10.292976,\n",
       "              -9.887511,  -9.887511,  -9.887511,  -9.887511,  -7.286221,  -9.887511,  -9.887511,  -9.887511,\n",
       "              -7.286221,  -7.286221,  -9.887511,  -7.286221,  -7.286221,  -9.887511,  -7.286221,  -7.286221,\n",
       "              -7.286221,  -7.286221,  -7.286221,  -9.887511,  -7.286221,  -9.887511, -10.292976, -10.292976,\n",
       "             -10.292976, -10.292976, -10.292976,  -1.098511, -10.292976, -10.292976, -10.292976, -10.292976,\n",
       "             -10.292976, -10.292976, -10.292976, -10.292976, -10.292976, -10.292976, -10.292976, -10.292976,\n",
       "             -10.292976, -10.292976, -10.292976, -10.292976, -10.292976, -10.292976, -10.292976, -10.292976,\n",
       "             -10.292976, -10.292976, -10.292976, -10.292976,  -1.098511, -10.292976, -10.292976,  -7.286221,\n",
       "              -7.286221,  -9.887511,  -7.286221,  -7.286221,  -7.286221,  -7.286221,  -7.286221,  -7.286221,\n",
       "              -7.286221,  -7.286221,  -7.286221,  -9.887511, -10.292976, -10.292976, -10.292976, -10.292976,\n",
       "             -10.292976, -10.292976, -10.292976, -10.292976, -10.292976, -10.292976, -10.292976, -10.292976,\n",
       "             -10.292976, -10.292976, -10.292976, -10.292976, -10.292976, -10.292976, -10.292976, -10.292976,\n",
       "             -10.292976, -10.292976, -10.292976, -10.292976, -10.292976, -10.292976, -10.292976,  -1.098511,\n",
       "              -1.098511, -10.292976, -10.292976, -10.292976, -10.292976, -10.292976, -10.292976, -10.292976,\n",
       "             -10.292976, -10.292976, -10.292976, -10.292976, -10.292976, -10.292976, -10.292976, -10.292976,\n",
       "             -10.292976, -10.292976, -10.292976, -10.292976, -10.292976, -10.292976, -10.292976,  -1.098511,\n",
       "             -10.292976, -10.292976, -10.292976, -10.292976, -10.292976, -10.292976, -10.292976, -10.292976,\n",
       "             -10.292976, -10.292976, -10.292976, -10.292976, -10.292976, -10.292976, -10.292976, -10.292976,\n",
       "             -10.292976, -10.292976, -10.292976, -10.292976, -10.292976, -10.292976, -10.292976, -10.292976,\n",
       "             -10.292976, -10.292976, -10.292976, -10.292976, -10.292976,  -9.887511,  -9.887511,  -9.887511,\n",
       "             -10.292976,  -9.887511,  -9.887511,  -9.887511,  -9.887511,  -9.887511,  -7.286221,  -9.887511,\n",
       "              -7.286221,  -9.887511,  -9.887511,  -9.887511,  -9.887511,  -7.286221,  -9.887511,  -9.887511,\n",
       "              -9.887511,  -9.887511,  -9.887511, -10.292976,  -7.286221,  -9.887511, -10.292976, -10.292976,\n",
       "              -7.286221,  -7.286221,  -9.887511,  -9.887511,  -7.286221,  -9.887511, -10.292976,  -9.887511,\n",
       "              -9.887511,  -9.887511,  -9.887511,  -9.887511,  -9.887511,  -7.286221,  -9.887511, -10.292976,\n",
       "             -10.292976, -10.292976, -10.292976, -10.292976, -10.292976, -10.292976, -10.292976, -10.292976,\n",
       "             -10.292976, -10.292976, -10.292976, -10.292976, -10.292976, -10.292976, -10.292976, -10.292976,\n",
       "             -10.292976, -10.292976, -10.292976, -10.292976, -10.292976, -10.292976, -10.292976, -10.292976,\n",
       "             -10.292976, -10.292976, -10.292976, -10.292976, -10.292976, -10.292976, -10.292976, -10.292976,\n",
       "              -9.887511,  -9.887511,  -7.286221,  -9.887511,  -9.887511,  -7.286221,  -9.887511,  -7.286221,\n",
       "              -7.286221,  -9.887511,  -9.887511,  -9.887511,  -9.887511,  -9.887511,  -9.887511,  -9.887511,\n",
       "              -9.887511,  -7.286221,  -9.887511, -10.292976,  -7.286221,  -1.098511,  -7.286221, -10.292976,\n",
       "             -10.292976, -10.292976, -10.292976, -10.292976, -10.292976, -10.292976, -10.292976, -10.292976,\n",
       "             -10.292976, -10.292976, -10.292976, -10.292976, -10.292976,  -1.098511, -10.292976, -10.292976,\n",
       "             -10.292976, -10.292976, -10.292976, -10.292976, -10.292976,  -1.791556, -10.292976, -10.292976,\n",
       "             -10.292976, -10.292976, -10.292976, -10.292976, -10.292976, -10.292976, -10.292976, -10.292976,\n",
       "             -10.292976, -10.292976, -10.292976, -10.292976, -10.292976, -10.292976, -10.292976, -10.292976,\n",
       "             -10.292976, -10.292976, -10.292976, -10.292976, -10.292976, -10.292976, -10.292976, -10.292976,\n",
       "             -10.292976, -10.292976, -10.292976, -10.292976, -10.292976, -10.292976, -10.292976, -10.292976,\n",
       "             -10.292976, -10.292976,  -1.098511, -10.292976, -10.292976, -10.292976, -10.292976,  -1.098511,\n",
       "             -10.292976, -10.292976, -10.292976, -10.292976, -10.292976, -10.292976, -10.292976, -10.292976,\n",
       "             -10.292976, -10.292976, -10.292976, -10.292976, -10.292976, -10.292976, -10.292976, -10.292976,\n",
       "             -10.292976, -10.292976, -10.292976, -10.292976, -10.292976, -10.292976, -10.292976, -10.292976,\n",
       "             -10.292976, -10.292976, -10.292976, -10.292976, -10.292976, -10.292976, -10.292976, -10.292976,\n",
       "             -10.292976, -10.292976, -10.292976, -10.292976, -10.292976, -10.292976, -10.292976, -10.292976,\n",
       "             -10.292976, -10.292976, -10.292976, -10.292976, -10.292976, -10.292976, -10.292976, -10.292976,\n",
       "             -10.292976, -10.292976, -10.292976, -10.292976, -10.292976, -10.292976, -10.292976, -10.292976,\n",
       "             -10.292976, -10.292976, -10.292976, -10.292976, -10.292976, -10.292976, -10.292976, -10.292976,\n",
       "             -10.292976, -10.292976, -10.292976, -10.292976, -10.292976, -10.292976, -10.292976,  -1.098511,\n",
       "             -10.292976, -10.292976, -10.292976, -10.292976, -10.292976, -10.292976, -10.292976, -10.292976,\n",
       "             -10.292976, -10.292976, -10.292976, -10.292976, -10.292976, -10.292976, -10.292976, -10.292976,\n",
       "             -10.292976, -10.292976, -10.292976, -10.292976, -10.292976, -10.292976, -10.292976, -10.292976,\n",
       "             -10.292976, -10.292976, -10.292976, -10.292976, -10.292976, -10.292976, -10.292976,  -1.098511,\n",
       "             -10.292976, -10.292976, -10.292976, -10.292976, -10.292976, -10.292976, -10.292976, -10.292976,\n",
       "             -10.292976, -10.292976, -10.292976, -10.292976, -10.292976, -10.292976, -10.292976, -10.292976,\n",
       "             -10.292976, -10.292976, -10.292976, -10.292976, -10.292976, -10.292976, -10.292976, -10.292976,\n",
       "             -10.292976, -10.292976, -10.292976, -10.292976, -10.292976, -10.292976, -10.292976, -10.292976,\n",
       "             -10.292976, -10.292976, -10.292976, -10.292976, -10.292976, -10.292976, -10.292976, -10.292976,\n",
       "             -10.292976, -10.292976, -10.292976, -10.292976, -10.292976, -10.292976, -10.292976, -10.292976,\n",
       "             -10.292976, -10.292976, -10.292976, -10.292976, -10.292976, -10.292976, -10.292976, -10.292976,\n",
       "             -10.292976, -10.292976, -10.292976, -10.292976, -10.292976, -10.292976, -10.292976, -10.292976,\n",
       "             -10.292976, -10.292976, -10.292976, -10.292976, -10.292976, -10.292976, -10.292976, -10.292976,\n",
       "             -10.292976, -10.292976, -10.292976, -10.292976, -10.292976, -10.292976, -10.292976, -10.292976,\n",
       "             -10.292976, -10.292976, -10.292976, -10.292976, -10.292976, -10.292976, -10.292976, -10.292976,\n",
       "             -10.292976, -10.292976, -10.292976, -10.292976, -10.292976, -10.292976, -10.292976, -10.292976,\n",
       "             -10.292976, -10.292976, -10.292976, -10.292976, -10.292976, -10.292976, -10.292976, -10.292976,\n",
       "             -10.292976, -10.292976, -10.292976, -10.292976, -10.292976, -10.292976, -10.292976, -10.292976,\n",
       "             -10.292976, -10.292976, -10.292976, -10.292976, -10.292976, -10.292976, -10.292976, -10.292976,\n",
       "             -10.292976, -10.292976, -10.292976, -10.292976, -10.292976, -10.292976, -10.292976, -10.292976,\n",
       "             -10.292976, -10.292976, -10.292976, -10.292976, -10.292976, -10.292976, -10.292976, -10.292976,\n",
       "             -10.292976, -10.292976, -10.292976, -10.292976, -10.292976, -10.292976, -10.292976, -10.292976,\n",
       "             -10.292976, -10.292976, -10.292976, -10.292976, -10.292976, -10.292976, -10.292976, -10.292976,\n",
       "             -10.292976, -10.292976, -10.292976, -10.292976, -10.292976, -10.292976, -10.292976, -10.292976,\n",
       "             -10.292976, -10.292976, -10.292976, -10.292976, -10.292976, -10.292976, -10.292976, -10.292976,\n",
       "             -10.292976, -10.292976, -10.292976, -10.292976, -10.292976, -10.292976, -10.292976, -10.292976,\n",
       "             -10.292976, -10.292976, -10.292976, -10.292976, -10.292976, -10.292976, -10.292976, -10.292976,\n",
       "             -10.292976, -10.292976, -10.292976, -10.292976, -10.292976, -10.292976, -10.292976, -10.292976,\n",
       "             -10.292976, -10.292976, -10.292976, -10.292976, -10.292976, -10.292976, -10.292976,  -1.098511,\n",
       "              -1.098511, -10.292976, -10.292976, -10.292976, -10.292976, -10.292976, -10.292976, -10.292976,\n",
       "             -10.292976, -10.292976, -10.292976, -10.292976, -10.292976, -10.292976,  -1.098511, -10.292976,\n",
       "             -10.292976, -10.292976, -10.292976, -10.292976, -10.292976, -10.292976, -10.292976,  -1.098511,\n",
       "             -10.292976, -10.292976, -10.292976, -10.292976, -10.292976, -10.292976,  -1.098511, -10.292976,\n",
       "             -10.292976, -10.292976, -10.292976, -10.292976, -10.292976, -10.292976, -10.292976, -10.292976,\n",
       "             -10.292976, -10.292976, -10.292976, -10.292976, -10.292976, -10.292976, -10.292976, -10.292976,\n",
       "              -1.098511, -10.292976, -10.292976, -10.292976, -10.292976, -10.292976, -10.292976, -10.292976,\n",
       "             -10.292976, -10.292976, -10.292976, -10.292976, -10.292976, -10.292976, -10.292976,  -1.098511,\n",
       "             -10.292976, -10.292976, -10.292976,  -1.098511, -10.292976, -10.292976, -10.292976, -10.292976,\n",
       "             -10.292976, -10.292976,  -1.098511,  -1.098511, -10.292976, -10.292976, -10.292976,  -1.098511,\n",
       "              -1.098511, -10.292976, -10.292976, -10.292976, -10.292976, -10.292976, -10.292976,  -1.098511,\n",
       "             -10.292976,  -1.098511, -10.292976, -10.292976, -10.292976, -10.292976, -10.292976, -10.292976,\n",
       "             -10.292976, -10.292976, -10.292976, -10.292976, -10.292976, -10.292976, -10.292976,  -1.791556],            dtype=float32)"
      ]
     },
     "execution_count": 45,
     "metadata": {},
     "output_type": "execute_result"
    }
   ],
   "source": [
    "b.jax_loglike_casewise(b.pvals)"
   ]
  },
  {
   "cell_type": "code",
   "execution_count": 42,
   "id": "8ef91ff3",
   "metadata": {
    "ExecuteTime": {
     "end_time": "2022-03-29T14:19:19.881368Z",
     "start_time": "2022-03-29T14:19:17.555087Z"
    }
   },
   "outputs": [
    {
     "data": {
      "text/plain": [
       "DeviceArray([[[ 0.555556,  0.222222,  0.222222],\n",
       "              [ 0.555556,  0.222222,  0.222222],\n",
       "              [ 0.555556,  0.222222,  0.222222],\n",
       "              [ 0.555556,  0.222222,  0.222222],\n",
       "              [ 0.555556,  0.222222,  0.222222],\n",
       "              [ 0.555556,  0.222222,  0.222222],\n",
       "              [ 0.555556,  0.222222,  0.222222],\n",
       "              [ 0.555556,  0.222222,  0.222222],\n",
       "              [ 0.555556,  0.222222,  0.222222]],\n",
       "\n",
       "             [[ 0.222222,  0.222222,  0.555556],\n",
       "              [ 0.222222,  0.222222,  0.555556],\n",
       "              [ 0.222222,  0.222222,  0.555556],\n",
       "              [ 0.222222,  0.222222,  0.555556],\n",
       "              [ 0.222222,  0.222222,  0.555556],\n",
       "              [ 0.222222,  0.222222,  0.555556],\n",
       "              [ 0.222222,  0.222222,  0.555556],\n",
       "              [ 0.222222,  0.222222,  0.555556],\n",
       "              [ 0.222222,  0.222222,  0.555556]],\n",
       "\n",
       "             [[ 0.555556,  0.222222,  0.222222],\n",
       "              [ 0.555556,  0.222222,  0.222222],\n",
       "              [ 0.555556,  0.222222,  0.222222],\n",
       "              [ 0.555556,  0.222222,  0.222222],\n",
       "              [ 0.555556,  0.222222,  0.222222],\n",
       "              [ 0.555556,  0.222222,  0.222222],\n",
       "              [ 0.555556,  0.222222,  0.222222],\n",
       "              [ 0.555556,  0.222222,  0.222222],\n",
       "              [ 0.555556,  0.222222,  0.222222]],\n",
       "\n",
       "             [[ 0.555556,  0.222222,  0.222222],\n",
       "              [ 0.555556,  0.222222,  0.222222],\n",
       "              [ 0.555556,  0.222222,  0.222222],\n",
       "              [ 0.555556,  0.222222,  0.222222],\n",
       "              [ 0.555556,  0.222222,  0.222222],\n",
       "              [ 0.555556,  0.222222,  0.222222],\n",
       "              [ 0.555556,  0.222222,  0.222222],\n",
       "              [ 0.555556,  0.222222,  0.222222],\n",
       "              [ 0.555556,  0.222222,  0.222222]],\n",
       "\n",
       "             [[ 0.222222,  0.222222,  0.555556],\n",
       "              [ 0.222222,  0.222222,  0.555556],\n",
       "              [ 0.222222,  0.222222,  0.555556],\n",
       "              [ 0.222222,  0.222222,  0.555556],\n",
       "              [ 0.222222,  0.222222,  0.555556],\n",
       "              [ 0.222222,  0.222222,  0.555556],\n",
       "              [ 0.222222,  0.222222,  0.555556],\n",
       "              [ 0.222222,  0.222222,  0.555556],\n",
       "              [ 0.222222,  0.222222,  0.555556]],\n",
       "\n",
       "             ...,\n",
       "\n",
       "             [[ 0.222222,  0.222222,  0.555556],\n",
       "              [ 0.222222,  0.222222,  0.555556],\n",
       "              [ 0.222222,  0.222222,  0.555556],\n",
       "              [ 0.222222,  0.222222,  0.555556],\n",
       "              [ 0.222222,  0.222222,  0.555556],\n",
       "              [ 0.222222,  0.222222,  0.555556],\n",
       "              [ 0.222222,  0.222222,  0.555556],\n",
       "              [ 0.222222,  0.222222,  0.555556],\n",
       "              [ 0.222222,  0.222222,  0.555556]],\n",
       "\n",
       "             [[ 0.222222,  0.222222,  0.555556],\n",
       "              [ 0.222222,  0.222222,  0.555556],\n",
       "              [ 0.222222,  0.222222,  0.555556],\n",
       "              [ 0.222222,  0.222222,  0.555556],\n",
       "              [ 0.222222,  0.222222,  0.555556],\n",
       "              [ 0.222222,  0.222222,  0.555556],\n",
       "              [ 0.222222,  0.222222,  0.555556],\n",
       "              [ 0.222222,  0.222222,  0.555556],\n",
       "              [ 0.222222,  0.222222,  0.555556]],\n",
       "\n",
       "             [[ 0.388889,  0.388889,  0.222222],\n",
       "              [ 0.555556,  0.222222,  0.222222],\n",
       "              [ 0.555556,  0.222222,  0.222222],\n",
       "              [ 0.555556,  0.222222,  0.222222],\n",
       "              [ 0.555556,  0.222222,  0.222222],\n",
       "              [ 0.555556,  0.222222,  0.222222],\n",
       "              [ 0.555556,  0.222222,  0.222222],\n",
       "              [ 0.555556,  0.222222,  0.222222],\n",
       "              [ 0.555556,  0.222222,  0.222222]],\n",
       "\n",
       "             [[ 0.388889,  0.388889,  0.222222],\n",
       "              [ 0.555556,  0.222222,  0.222222],\n",
       "              [ 0.555556,  0.222222,  0.222222],\n",
       "              [ 0.555556,  0.222222,  0.222222],\n",
       "              [ 0.555556,  0.222222,  0.222222],\n",
       "              [ 0.555556,  0.222222,  0.222222],\n",
       "              [ 0.555556,  0.222222,  0.222222],\n",
       "              [ 0.555556,  0.222222,  0.222222],\n",
       "              [ 0.555556,  0.222222,  0.222222]],\n",
       "\n",
       "             [[ 0.555556,  0.222222,  0.222222],\n",
       "              [ 0.555556,  0.222222,  0.222222],\n",
       "              [ 0.555556,  0.222222,  0.222222],\n",
       "              [ 0.555556,  0.222222,  0.222222],\n",
       "              [ 0.555556,  0.222222,  0.222222],\n",
       "              [ 0.555556,  0.222222,  0.222222],\n",
       "              [ 0.388889,  0.388889,  0.222222],\n",
       "              [ 0.555556,  0.222222,  0.222222],\n",
       "              [ 0.555556,  0.222222,  0.222222]]], dtype=float32)"
      ]
     },
     "execution_count": 42,
     "metadata": {},
     "output_type": "execute_result"
    }
   ],
   "source": [
    "b.jax_probability(b.pvals)"
   ]
  },
  {
   "cell_type": "code",
   "execution_count": 38,
   "id": "6969043c",
   "metadata": {
    "ExecuteTime": {
     "end_time": "2022-03-29T14:17:55.333887Z",
     "start_time": "2022-03-29T14:17:55.329404Z"
    }
   },
   "outputs": [
    {
     "data": {
      "text/plain": [
       "array([     0.,      0.,      0.,      0.,      0.,      0., -10000.])"
      ]
     },
     "execution_count": 38,
     "metadata": {},
     "output_type": "execute_result"
    }
   ],
   "source": [
    "b.pvals"
   ]
  },
  {
   "cell_type": "code",
   "execution_count": 39,
   "id": "7df6c972",
   "metadata": {
    "ExecuteTime": {
     "end_time": "2022-03-29T14:17:56.229091Z",
     "start_time": "2022-03-29T14:17:56.212025Z"
    }
   },
   "outputs": [
    {
     "ename": "AssertionError",
     "evalue": "",
     "output_type": "error",
     "traceback": [
      "\u001B[0;31m---------------------------------------------------------------------------\u001B[0m",
      "\u001B[0;31mAssertionError\u001B[0m                            Traceback (most recent call last)",
      "Input \u001B[0;32mIn [39]\u001B[0m, in \u001B[0;36m<module>\u001B[0;34m\u001B[0m\n\u001B[0;32m----> 1\u001B[0m \u001B[38;5;28;01massert\u001B[39;00m b\u001B[38;5;241m.\u001B[39mjax_loglike(b\u001B[38;5;241m.\u001B[39mpvals) \u001B[38;5;241m==\u001B[39m approx(\u001B[38;5;241m-\u001B[39m\u001B[38;5;241m6867.245\u001B[39m, rel\u001B[38;5;241m=\u001B[39m\u001B[38;5;241m1e-4\u001B[39m)\n",
      "\u001B[0;31mAssertionError\u001B[0m: "
     ]
    }
   ],
   "source": [
    "assert b.jax_loglike(b.pvals) == approx(-6867.245, rel=1e-4)"
   ]
  },
  {
   "cell_type": "code",
   "execution_count": 40,
   "id": "13ba116a",
   "metadata": {
    "ExecuteTime": {
     "end_time": "2022-03-29T14:17:57.886086Z",
     "start_time": "2022-03-29T14:17:57.879476Z"
    }
   },
   "outputs": [
    {
     "data": {
      "text/plain": [
       "DeviceArray(-7359.497, dtype=float32)"
      ]
     },
     "execution_count": 40,
     "metadata": {},
     "output_type": "execute_result"
    }
   ],
   "source": [
    "b.jax_loglike(b.pvals)"
   ]
  },
  {
   "cell_type": "code",
   "execution_count": 41,
   "id": "6c5b7912",
   "metadata": {
    "ExecuteTime": {
     "end_time": "2022-03-29T14:18:12.215197Z",
     "start_time": "2022-03-29T14:17:58.477586Z"
    }
   },
   "outputs": [
    {
     "name": "stderr",
     "output_type": "stream",
     "text": [
      "2022-03-29 09:18:11.651995: E external/org_tensorflow/tensorflow/compiler/xla/service/slow_operation_alarm.cc:55] \n",
      "********************************\n",
      "Slow compile?  XLA was built without compiler optimizations, which can be slow.  Try rebuilding with -c opt.\n",
      "Compiling module jit_func__26.7823\n",
      "********************************\n"
     ]
    },
    {
     "data": {
      "text/plain": [
       "DeviceArray([ -441.477  , -1363.4967 ,   135.41975,  -741.098  ,  -169.83261,    84.9163 ,     0.     ], dtype=float32)"
      ]
     },
     "execution_count": 41,
     "metadata": {},
     "output_type": "execute_result"
    }
   ],
   "source": [
    "b.jax_d_loglike(b.pvals) # 5.25s"
   ]
  },
  {
   "cell_type": "code",
   "execution_count": 21,
   "id": "f584bef3",
   "metadata": {
    "ExecuteTime": {
     "end_time": "2022-03-29T14:15:49.766632Z",
     "start_time": "2022-03-29T14:15:49.757320Z"
    }
   },
   "outputs": [
    {
     "data": {
      "text/plain": [
       "DeviceArray([ -441.477  , -1363.4967 ,   135.41975,  -741.098  ,  -169.83261,    84.9163 ,     0.     ], dtype=float32)"
      ]
     },
     "execution_count": 21,
     "metadata": {},
     "output_type": "execute_result"
    }
   ],
   "source": [
    "b.jax_d_loglike(b.pvals) # 5.25s"
   ]
  },
  {
   "cell_type": "code",
   "execution_count": 22,
   "id": "0fbc1962",
   "metadata": {
    "ExecuteTime": {
     "end_time": "2022-03-29T14:15:50.723737Z",
     "start_time": "2022-03-29T14:15:50.596409Z"
    }
   },
   "outputs": [],
   "source": [
    "result = b.jax_maximize_loglike()"
   ]
  },
  {
   "cell_type": "code",
   "execution_count": 23,
   "id": "523f8a06",
   "metadata": {
    "ExecuteTime": {
     "end_time": "2022-03-29T14:15:52.561358Z",
     "start_time": "2022-03-29T14:15:52.556943Z"
    }
   },
   "outputs": [
    {
     "data": {
      "text/plain": [
       "     jac: array([ 0.047318,  0.100569,  0.091484, -0.006104, -0.028164,  0.023941,  0.      ])\n",
       " loglike: -5317.26904296875\n",
       " message: 'Optimization terminated successfully'\n",
       "    nfev: 42\n",
       "     nit: 15\n",
       "    njev: 15\n",
       "  status: 0\n",
       " success: True\n",
       "       x: array([-5.446250e-01, -1.333806e+00, -3.895746e-01, -3.286683e+00, -1.520202e+00, -5.502715e-02, -1.000000e+04])"
      ]
     },
     "execution_count": 23,
     "metadata": {},
     "output_type": "execute_result"
    }
   ],
   "source": [
    "result"
   ]
  },
  {
   "cell_type": "code",
   "execution_count": null,
   "id": "81c1ee8b",
   "metadata": {
    "ExecuteTime": {
     "end_time": "2022-03-29T14:14:53.749882Z",
     "start_time": "2022-03-29T14:14:53.749849Z"
    }
   },
   "outputs": [],
   "source": [
    "assert result.loglike == approx(-4474.478515625, rel=1e-5)"
   ]
  },
  {
   "cell_type": "code",
   "execution_count": null,
   "id": "85d58ad9",
   "metadata": {
    "ExecuteTime": {
     "end_time": "2022-03-29T14:14:53.751477Z",
     "start_time": "2022-03-29T14:14:53.751415Z"
    }
   },
   "outputs": [],
   "source": [
    "result.loglike"
   ]
  },
  {
   "cell_type": "code",
   "execution_count": null,
   "id": "95297809",
   "metadata": {
    "ExecuteTime": {
     "end_time": "2022-03-29T14:14:53.752978Z",
     "start_time": "2022-03-29T14:14:53.752965Z"
    }
   },
   "outputs": [],
   "source": [
    "b.parameters.to_dataframe()"
   ]
  },
  {
   "cell_type": "code",
   "execution_count": null,
   "id": "c51b37bc",
   "metadata": {
    "ExecuteTime": {
     "end_time": "2022-03-29T14:14:53.753982Z",
     "start_time": "2022-03-29T14:14:53.753971Z"
    }
   },
   "outputs": [],
   "source": [
    "se, hess, ihess = b.jax_param_cov(b.pvals)"
   ]
  },
  {
   "cell_type": "code",
   "execution_count": null,
   "id": "40127bef",
   "metadata": {
    "ExecuteTime": {
     "end_time": "2022-03-29T14:14:53.755440Z",
     "start_time": "2022-03-29T14:14:53.755429Z"
    }
   },
   "outputs": [],
   "source": [
    "b.parameters.to_dataframe()"
   ]
  },
  {
   "cell_type": "code",
   "execution_count": null,
   "id": "c3284435",
   "metadata": {},
   "outputs": [],
   "source": []
  },
  {
   "cell_type": "code",
   "execution_count": null,
   "id": "2228be2e",
   "metadata": {
    "ExecuteTime": {
     "end_time": "2022-03-29T14:14:53.756866Z",
     "start_time": "2022-03-29T14:14:53.756855Z"
    }
   },
   "outputs": [],
   "source": [
    "assert b.pstderr == approx(np.array([ \n",
    "    0.048158,  0.069796,  0.069555,  0.106282,  0.161079,  0.11945 ,  0.\n",
    "]), rel=5e-3)"
   ]
  },
  {
   "cell_type": "code",
   "execution_count": null,
   "id": "496a0ffe",
   "metadata": {
    "ExecuteTime": {
     "end_time": "2022-03-29T14:14:53.758213Z",
     "start_time": "2022-03-29T14:14:53.758201Z"
    }
   },
   "outputs": [],
   "source": [
    "b.pstderr"
   ]
  },
  {
   "cell_type": "code",
   "execution_count": null,
   "id": "78d9d9d9",
   "metadata": {
    "ExecuteTime": {
     "end_time": "2022-03-29T14:14:53.759457Z",
     "start_time": "2022-03-29T14:14:53.759429Z"
    }
   },
   "outputs": [],
   "source": [
    "assert b.pvals == approx(np.array([ \n",
    "    6.079781e-02, -9.362056e-01, -1.159657e+00, -3.095285e+00, -7.734768e-01,  1.155985e+00, -1.000000e+04\n",
    "]), rel=5e-3)"
   ]
  },
  {
   "cell_type": "code",
   "execution_count": null,
   "id": "79a560b5",
   "metadata": {
    "ExecuteTime": {
     "end_time": "2022-03-29T14:14:53.761201Z",
     "start_time": "2022-03-29T14:14:53.761186Z"
    }
   },
   "outputs": [],
   "source": [
    "b.pvals"
   ]
  },
  {
   "cell_type": "code",
   "execution_count": null,
   "id": "f430afb2",
   "metadata": {
    "ExecuteTime": {
     "end_time": "2022-03-29T14:14:53.762319Z",
     "start_time": "2022-03-29T14:14:53.762307Z"
    }
   },
   "outputs": [],
   "source": [
    "ds = xr.Dataset()\n",
    "ds = ds.dc.set_altids([1,2,3,4])\n",
    "ds.dc.altids()"
   ]
  },
  {
   "cell_type": "code",
   "execution_count": null,
   "id": "51bdf6e0",
   "metadata": {
    "ExecuteTime": {
     "end_time": "2022-03-29T14:14:53.763462Z",
     "start_time": "2022-03-29T14:14:53.763450Z"
    }
   },
   "outputs": [],
   "source": [
    "ds.dc.n_alts"
   ]
  },
  {
   "cell_type": "code",
   "execution_count": null,
   "id": "d469278f",
   "metadata": {
    "ExecuteTime": {
     "end_time": "2022-03-29T14:14:53.764706Z",
     "start_time": "2022-03-29T14:14:53.764692Z"
    }
   },
   "outputs": [],
   "source": [
    "ds = ds.dc.set_altids([7,8,9], dim_name='A')\n"
   ]
  },
  {
   "cell_type": "code",
   "execution_count": null,
   "id": "a040f918",
   "metadata": {
    "ExecuteTime": {
     "end_time": "2022-03-29T14:14:53.765943Z",
     "start_time": "2022-03-29T14:14:53.765929Z"
    }
   },
   "outputs": [],
   "source": [
    "ds.dc.altids()"
   ]
  },
  {
   "cell_type": "code",
   "execution_count": null,
   "id": "2a942ca3",
   "metadata": {},
   "outputs": [],
   "source": []
  }
 ],
 "metadata": {
  "kernelspec": {
   "display_name": "Python 3 (ipykernel)",
   "language": "python",
   "name": "python3"
  },
  "language_info": {
   "codemirror_mode": {
    "name": "ipython",
    "version": 3
   },
   "file_extension": ".py",
   "mimetype": "text/x-python",
   "name": "python",
   "nbconvert_exporter": "python",
   "pygments_lexer": "ipython3",
   "version": "3.9.10"
  },
  "toc": {
   "base_numbering": 1,
   "nav_menu": {},
   "number_sections": false,
   "sideBar": true,
   "skip_h1_title": false,
   "title_cell": "Table of Contents",
   "title_sidebar": "Contents",
   "toc_cell": false,
   "toc_position": {},
   "toc_section_display": true,
   "toc_window_display": false
  }
 },
 "nbformat": 4,
 "nbformat_minor": 5
}