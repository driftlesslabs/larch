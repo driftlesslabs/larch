{
 "cells": [
  {
   "cell_type": "code",
   "execution_count": null,
   "id": "bb515acf",
   "metadata": {},
   "outputs": [],
   "source": [
    "import larch as lx\n",
    "import pandas as pd\n",
    "from larch import P,X\n",
    "\n",
    "import numpy as np\n",
    "import xarray as xr\n",
    "from pytest import approx"
   ]
  },
  {
   "cell_type": "code",
   "execution_count": null,
   "id": "9572102b",
   "metadata": {},
   "outputs": [],
   "source": [
    "raw = pd.read_csv(lx.example_file('swissmetro.csv.gz'))\n",
    "raw['SM_COST'] = raw['SM_CO'] * (raw[\"GA\"]==0) \n",
    "raw['TRAIN_COST'] = raw.eval(\"TRAIN_CO * (GA == 0)\") \n",
    "raw['TRAIN_COST_SCALED'] = raw['TRAIN_COST'] / 100\n",
    "raw['TRAIN_TT_SCALED'] = raw['TRAIN_TT'] / 100\n",
    "\n",
    "raw['SM_COST_SCALED'] = raw.eval('SM_COST / 100')\n",
    "raw['SM_TT_SCALED'] = raw['SM_TT'] / 100\n",
    "\n",
    "raw['CAR_CO_SCALED'] = raw['CAR_CO'] / 100\n",
    "raw['CAR_TT_SCALED'] = raw['CAR_TT'] / 100\n",
    "raw['CAR_AV_SP'] = raw.eval(\"CAR_AV * (SP!=0)\")\n",
    "raw['TRAIN_AV_SP'] = raw.eval(\"TRAIN_AV * (SP!=0)\")\n",
    "\n",
    "raw['keep'] = raw.eval(\"PURPOSE in (1,3) and CHOICE != 0\")"
   ]
  },
  {
   "cell_type": "code",
   "execution_count": null,
   "id": "4cf2fa49",
   "metadata": {},
   "outputs": [],
   "source": [
    "raw"
   ]
  },
  {
   "cell_type": "code",
   "execution_count": null,
   "id": "a47136be",
   "metadata": {},
   "outputs": [],
   "source": [
    "data = lx.Dataset.construct.from_idco(raw).dc.query_cases('keep')"
   ]
  },
  {
   "cell_type": "code",
   "execution_count": null,
   "id": "968faa2b",
   "metadata": {},
   "outputs": [],
   "source": [
    "m1 = lx.Model(\n",
    "#     data.dc.set_altids([1,2,3])\n",
    ")\n",
    "m1.availability_co_vars = {\n",
    "    1: \"TRAIN_AV_SP\",\n",
    "    2: \"SM_AV\",\n",
    "    3: \"CAR_AV_SP\",\n",
    "}\n",
    "m1.choice_co_code = 'CHOICE'\n",
    "\n",
    "m1.utility_co[1] = P(\"ASC_TRAIN\") + X(\"TRAIN_COST_SCALED\") * P(\"B_COST\")\n",
    "m1.utility_co[2] = X(\"SM_COST_SCALED\") * P(\"B_COST\")\n",
    "m1.utility_co[3] = P(\"ASC_CAR\") + X(\"CAR_CO_SCALED\") * P(\"B_COST\")"
   ]
  },
  {
   "cell_type": "code",
   "execution_count": null,
   "id": "124acfd6",
   "metadata": {},
   "outputs": [],
   "source": [
    "m1.pnames"
   ]
  },
  {
   "cell_type": "code",
   "execution_count": null,
   "id": "2041f3c3",
   "metadata": {},
   "outputs": [],
   "source": [
    "m2 = lx.Model(\n",
    "#     data.dc.set_altids([1,2,3])\n",
    ")\n",
    "m2.availability_co_vars = {\n",
    "    1: \"TRAIN_AV_SP\",\n",
    "    2: \"SM_AV\",\n",
    "    3: \"CAR_AV_SP\",\n",
    "}\n",
    "m2.choice_co_code = 'CHOICE'\n",
    "\n",
    "m2.utility_co[1] = P(\"ASC_TRAIN\") + X(\"TRAIN_TT_SCALED\") * P(\"B_TIME\") + X(\"TRAIN_COST_SCALED\") * P(\"B_COST\")\n",
    "m2.utility_co[2] = X(\"SM_TT_SCALED\") * P(\"B_TIME\") + X(\"SM_COST_SCALED\") * P(\"B_COST\")\n",
    "m2.utility_co[3] = P(\"ASC_CAR\") + X(\"CAR_TT_SCALED\") * P(\"B_TIME\") + X(\"CAR_CO_SCALED\") * P(\"B_COST\")"
   ]
  },
  {
   "cell_type": "code",
   "execution_count": null,
   "id": "a7ad7566",
   "metadata": {},
   "outputs": [],
   "source": [
    "m3 = lx.Model(\n",
    "#     data.dc.set_altids([1,2,3])\n",
    ")\n",
    "m3.availability_co_vars = {\n",
    "    1: \"TRAIN_AV_SP\",\n",
    "    2: \"SM_AV\",\n",
    "    3: \"CAR_AV_SP\",\n",
    "}\n",
    "m3.choice_co_code = 'CHOICE'\n",
    "\n",
    "m3.utility_co[1] = X(\"TRAIN_COST_SCALED\") * P(\"Z_COST\")\n",
    "m3.utility_co[2] = X(\"SM_COST_SCALED\") * P(\"Z_COST\")\n",
    "m3.utility_co[3] = X(\"CAR_CO_SCALED\") * P(\"Z_COST\")\n",
    "\n",
    "# m3.groupid = 'ID'"
   ]
  },
  {
   "cell_type": "code",
   "execution_count": null,
   "id": "e3edd55f",
   "metadata": {},
   "outputs": [],
   "source": [
    "import jax.numpy as jnp"
   ]
  },
  {
   "cell_type": "code",
   "execution_count": null,
   "id": "7df8c8eb",
   "metadata": {},
   "outputs": [],
   "source": [
    "from larch.folding import fold_dataset, _group_breaks, dissolve_zero_variance"
   ]
  },
  {
   "cell_type": "code",
   "execution_count": null,
   "id": "36aaad03",
   "metadata": {},
   "outputs": [],
   "source": [
    "df = data.to_dataframe()\n",
    "df['ingroup'] = df.groupby(\"ID\").cumcount()+1\n",
    "qq = df.set_index(['ID', 'ingroup'], drop=True).to_xarray()\n",
    "qq = dissolve_zero_variance(qq, 'ingroup')\n",
    "classdata = qq.dc.set_altids([101, 102, 103]).drop_dims(\"ingroup\")"
   ]
  },
  {
   "cell_type": "code",
   "execution_count": null,
   "id": "412b1d99",
   "metadata": {},
   "outputs": [],
   "source": [
    "classdata.dc.CASEID = \"ID\""
   ]
  },
  {
   "cell_type": "code",
   "execution_count": null,
   "id": "a0463cfd",
   "metadata": {},
   "outputs": [],
   "source": [
    "mk = lx.Model(\n",
    "    classdata\n",
    ")\n",
    "mk.utility_co[102] = P(\"W_OTHER\")\n",
    "mk.utility_co[103] = P(\"W_COST\")\n",
    "mk.groupid=\"ID\""
   ]
  },
  {
   "cell_type": "code",
   "execution_count": null,
   "id": "23a00b6f",
   "metadata": {},
   "outputs": [],
   "source": [
    "b = lx.LatentClass(\n",
    "    mk, \n",
    "    {101:m1, 102:m2, 103:m3}, \n",
    "    datatree=data.dc.set_altids([1,2,3]),\n",
    "    groupid=\"ID\",\n",
    ")"
   ]
  },
  {
   "cell_type": "code",
   "execution_count": null,
   "id": "74837d23",
   "metadata": {},
   "outputs": [],
   "source": [
    "b.lock(Z_COST=-10000)"
   ]
  },
  {
   "cell_type": "code",
   "execution_count": null,
   "id": "92ddb0c8",
   "metadata": {},
   "outputs": [],
   "source": [
    "b.loglike()"
   ]
  },
  {
   "cell_type": "code",
   "execution_count": null,
   "id": "71d9aaf0",
   "metadata": {},
   "outputs": [],
   "source": [
    "b.d_loglike()"
   ]
  },
  {
   "cell_type": "code",
   "execution_count": null,
   "id": "30c9b5c8",
   "metadata": {},
   "outputs": [],
   "source": [
    "b.loglike()"
   ]
  },
  {
   "cell_type": "code",
   "execution_count": null,
   "id": "44de561c",
   "metadata": {},
   "outputs": [],
   "source": [
    "b.d_loglike()"
   ]
  },
  {
   "cell_type": "code",
   "execution_count": null,
   "id": "41137bdd",
   "metadata": {},
   "outputs": [],
   "source": [
    "b.maximize_loglike(method='slsqp')"
   ]
  },
  {
   "cell_type": "code",
   "execution_count": null,
   "id": "6969043c",
   "metadata": {},
   "outputs": [],
   "source": [
    "b.total_weight()"
   ]
  },
  {
   "cell_type": "code",
   "execution_count": null,
   "id": "28cce01a",
   "metadata": {},
   "outputs": [],
   "source": [
    "b.calculate_parameter_covariance()"
   ]
  },
  {
   "cell_type": "code",
   "execution_count": null,
   "id": "45019feb",
   "metadata": {},
   "outputs": [],
   "source": [
    "b.parameter_summary()"
   ]
  },
  {
   "cell_type": "code",
   "execution_count": null,
   "id": "835849f1",
   "metadata": {},
   "outputs": [],
   "source": [
    "b._models[\"classmodel\"]._data_arrays.wt"
   ]
  },
  {
   "cell_type": "code",
   "execution_count": null,
   "id": "1bb13c29",
   "metadata": {},
   "outputs": [],
   "source": [
    "b._models[101].dataset"
   ]
  },
  {
   "cell_type": "code",
   "execution_count": null,
   "id": "7df6c972",
   "metadata": {},
   "outputs": [],
   "source": [
    "assert b.jax_loglike(b.pvals) == approx(-6867.245, rel=1e-4)"
   ]
  },
  {
   "cell_type": "code",
   "execution_count": null,
   "id": "13ba116a",
   "metadata": {},
   "outputs": [],
   "source": [
    "b.jax_loglike(b.pvals)"
   ]
  },
  {
   "cell_type": "code",
   "execution_count": null,
   "id": "6c5b7912",
   "metadata": {},
   "outputs": [],
   "source": [
    "b.jax_d_loglike(b.pvals) # 5.25s"
   ]
  },
  {
   "cell_type": "code",
   "execution_count": null,
   "id": "f584bef3",
   "metadata": {},
   "outputs": [],
   "source": [
    "b.jax_d_loglike(b.pvals) # 5.25s"
   ]
  },
  {
   "cell_type": "code",
   "execution_count": null,
   "id": "0fbc1962",
   "metadata": {},
   "outputs": [],
   "source": [
    "result = b.jax_maximize_loglike()"
   ]
  },
  {
   "cell_type": "code",
   "execution_count": null,
   "id": "523f8a06",
   "metadata": {},
   "outputs": [],
   "source": [
    "result"
   ]
  },
  {
   "cell_type": "code",
   "execution_count": null,
   "id": "81c1ee8b",
   "metadata": {},
   "outputs": [],
   "source": [
    "assert result.loglike == approx(-4474.478515625, rel=1e-5)"
   ]
  },
  {
   "cell_type": "code",
   "execution_count": null,
   "id": "85d58ad9",
   "metadata": {},
   "outputs": [],
   "source": [
    "result.loglike"
   ]
  },
  {
   "cell_type": "code",
   "execution_count": null,
   "id": "95297809",
   "metadata": {},
   "outputs": [],
   "source": [
    "b.parameters.to_dataframe()"
   ]
  },
  {
   "cell_type": "code",
   "execution_count": null,
   "id": "c51b37bc",
   "metadata": {},
   "outputs": [],
   "source": [
    "se, hess, ihess = b.jax_param_cov(b.pvals)"
   ]
  },
  {
   "cell_type": "code",
   "execution_count": null,
   "id": "447ba4f0",
   "metadata": {},
   "outputs": [],
   "source": [
    "b.jax_d2_loglike(b.pvals)"
   ]
  },
  {
   "cell_type": "code",
   "execution_count": null,
   "id": "41c57cf5",
   "metadata": {},
   "outputs": [],
   "source": [
    "hess"
   ]
  },
  {
   "cell_type": "code",
   "execution_count": null,
   "id": "40127bef",
   "metadata": {},
   "outputs": [],
   "source": [
    "b.parameters.to_dataframe()"
   ]
  },
  {
   "cell_type": "code",
   "execution_count": null,
   "id": "c3284435",
   "metadata": {},
   "outputs": [],
   "source": []
  },
  {
   "cell_type": "code",
   "execution_count": null,
   "id": "2228be2e",
   "metadata": {},
   "outputs": [],
   "source": [
    "assert b.pstderr == approx(np.array([ \n",
    "    0.048158,  0.069796,  0.069555,  0.106282,  0.161079,  0.11945 ,  0.\n",
    "]), rel=5e-3)"
   ]
  },
  {
   "cell_type": "code",
   "execution_count": null,
   "id": "496a0ffe",
   "metadata": {},
   "outputs": [],
   "source": [
    "b.pstderr"
   ]
  },
  {
   "cell_type": "code",
   "execution_count": null,
   "id": "78d9d9d9",
   "metadata": {},
   "outputs": [],
   "source": [
    "assert b.pvals == approx(np.array([ \n",
    "    6.079781e-02, -9.362056e-01, -1.159657e+00, -3.095285e+00, -7.734768e-01,  1.155985e+00, -1.000000e+04\n",
    "]), rel=5e-3)"
   ]
  },
  {
   "cell_type": "code",
   "execution_count": null,
   "id": "79a560b5",
   "metadata": {},
   "outputs": [],
   "source": [
    "b.pvals"
   ]
  },
  {
   "cell_type": "code",
   "execution_count": null,
   "id": "2a942ca3",
   "metadata": {},
   "outputs": [],
   "source": []
  }
 ],
 "metadata": {
  "kernelspec": {
   "display_name": "Python 3 (ipykernel)",
   "language": "python",
   "name": "python3"
  },
  "language_info": {
   "codemirror_mode": {
    "name": "ipython",
    "version": 3
   },
   "file_extension": ".py",
   "mimetype": "text/x-python",
   "name": "python",
   "nbconvert_exporter": "python",
   "pygments_lexer": "ipython3",
   "version": "3.10.6"
  },
  "toc": {
   "base_numbering": 1,
   "nav_menu": {},
   "number_sections": false,
   "sideBar": true,
   "skip_h1_title": false,
   "title_cell": "Table of Contents",
   "title_sidebar": "Contents",
   "toc_cell": false,
   "toc_position": {},
   "toc_section_display": true,
   "toc_window_display": false
  }
 },
 "nbformat": 4,
 "nbformat_minor": 5
}
