{
 "cells": [
  {
   "cell_type": "code",
   "execution_count": 1,
   "id": "453992ec",
   "metadata": {
    "ExecuteTime": {
     "end_time": "2022-03-07T05:21:09.268634Z",
     "start_time": "2022-03-07T05:21:05.531317Z"
    }
   },
   "outputs": [
    {
     "name": "stderr",
     "output_type": "stream",
     "text": [
      "/Users/jeffnewman/LocalGit/larix/larix/model/numbamodel.py:23: UserWarning: \n",
      "\n",
      "##### larix is experimental, and not feature-complete  #####\n",
      "the first time you import on a new system, this package will\n",
      "compile optimized binaries for your machine, which may take \n",
      "a little while, please be patient \n",
      "\n",
      "  warnings.warn( ### EXPERIMENTAL ### )\n",
      "OMP: Info #273: omp_set_nested routine deprecated, please use omp_set_max_active_levels instead.\n"
     ]
    }
   ],
   "source": [
    "import larix as lx\n",
    "# import jax\n",
    "# import jax.numpy as jnp\n",
    "from pytest import approx"
   ]
  },
  {
   "cell_type": "code",
   "execution_count": 2,
   "id": "471c2f46",
   "metadata": {
    "ExecuteTime": {
     "end_time": "2022-03-07T05:21:09.545252Z",
     "start_time": "2022-03-07T05:21:09.271429Z"
    }
   },
   "outputs": [],
   "source": [
    "d = lx.examples.MTC(format='dataset')"
   ]
  },
  {
   "cell_type": "code",
   "execution_count": 3,
   "id": "c2177793",
   "metadata": {
    "ExecuteTime": {
     "end_time": "2022-03-07T05:21:09.563272Z",
     "start_time": "2022-03-07T05:21:09.547002Z"
    }
   },
   "outputs": [
    {
     "data": {
      "text/html": [
       "<div><svg style=\"position: absolute; width: 0; height: 0; overflow: hidden\">\n",
       "<defs>\n",
       "<symbol id=\"icon-database\" viewBox=\"0 0 32 32\">\n",
       "<path d=\"M16 0c-8.837 0-16 2.239-16 5v4c0 2.761 7.163 5 16 5s16-2.239 16-5v-4c0-2.761-7.163-5-16-5z\"></path>\n",
       "<path d=\"M16 17c-8.837 0-16-2.239-16-5v6c0 2.761 7.163 5 16 5s16-2.239 16-5v-6c0 2.761-7.163 5-16 5z\"></path>\n",
       "<path d=\"M16 26c-8.837 0-16-2.239-16-5v6c0 2.761 7.163 5 16 5s16-2.239 16-5v-6c0 2.761-7.163 5-16 5z\"></path>\n",
       "</symbol>\n",
       "<symbol id=\"icon-file-text2\" viewBox=\"0 0 32 32\">\n",
       "<path d=\"M28.681 7.159c-0.694-0.947-1.662-2.053-2.724-3.116s-2.169-2.030-3.116-2.724c-1.612-1.182-2.393-1.319-2.841-1.319h-15.5c-1.378 0-2.5 1.121-2.5 2.5v27c0 1.378 1.122 2.5 2.5 2.5h23c1.378 0 2.5-1.122 2.5-2.5v-19.5c0-0.448-0.137-1.23-1.319-2.841zM24.543 5.457c0.959 0.959 1.712 1.825 2.268 2.543h-4.811v-4.811c0.718 0.556 1.584 1.309 2.543 2.268zM28 29.5c0 0.271-0.229 0.5-0.5 0.5h-23c-0.271 0-0.5-0.229-0.5-0.5v-27c0-0.271 0.229-0.5 0.5-0.5 0 0 15.499-0 15.5 0v7c0 0.552 0.448 1 1 1h7v19.5z\"></path>\n",
       "<path d=\"M23 26h-14c-0.552 0-1-0.448-1-1s0.448-1 1-1h14c0.552 0 1 0.448 1 1s-0.448 1-1 1z\"></path>\n",
       "<path d=\"M23 22h-14c-0.552 0-1-0.448-1-1s0.448-1 1-1h14c0.552 0 1 0.448 1 1s-0.448 1-1 1z\"></path>\n",
       "<path d=\"M23 18h-14c-0.552 0-1-0.448-1-1s0.448-1 1-1h14c0.552 0 1 0.448 1 1s-0.448 1-1 1z\"></path>\n",
       "</symbol>\n",
       "</defs>\n",
       "</svg>\n",
       "<style>/* CSS stylesheet for displaying xarray objects in jupyterlab.\n",
       " *\n",
       " */\n",
       "\n",
       ":root {\n",
       "  --xr-font-color0: var(--jp-content-font-color0, rgba(0, 0, 0, 1));\n",
       "  --xr-font-color2: var(--jp-content-font-color2, rgba(0, 0, 0, 0.54));\n",
       "  --xr-font-color3: var(--jp-content-font-color3, rgba(0, 0, 0, 0.38));\n",
       "  --xr-border-color: var(--jp-border-color2, #e0e0e0);\n",
       "  --xr-disabled-color: var(--jp-layout-color3, #bdbdbd);\n",
       "  --xr-background-color: var(--jp-layout-color0, white);\n",
       "  --xr-background-color-row-even: var(--jp-layout-color1, white);\n",
       "  --xr-background-color-row-odd: var(--jp-layout-color2, #eeeeee);\n",
       "}\n",
       "\n",
       "html[theme=dark],\n",
       "body.vscode-dark {\n",
       "  --xr-font-color0: rgba(255, 255, 255, 1);\n",
       "  --xr-font-color2: rgba(255, 255, 255, 0.54);\n",
       "  --xr-font-color3: rgba(255, 255, 255, 0.38);\n",
       "  --xr-border-color: #1F1F1F;\n",
       "  --xr-disabled-color: #515151;\n",
       "  --xr-background-color: #111111;\n",
       "  --xr-background-color-row-even: #111111;\n",
       "  --xr-background-color-row-odd: #313131;\n",
       "}\n",
       "\n",
       ".xr-wrap {\n",
       "  display: block !important;\n",
       "  min-width: 300px;\n",
       "  max-width: 700px;\n",
       "}\n",
       "\n",
       ".xr-text-repr-fallback {\n",
       "  /* fallback to plain text repr when CSS is not injected (untrusted notebook) */\n",
       "  display: none;\n",
       "}\n",
       "\n",
       ".xr-header {\n",
       "  padding-top: 6px;\n",
       "  padding-bottom: 6px;\n",
       "  margin-bottom: 4px;\n",
       "  border-bottom: solid 1px var(--xr-border-color);\n",
       "}\n",
       "\n",
       ".xr-header > div,\n",
       ".xr-header > ul {\n",
       "  display: inline;\n",
       "  margin-top: 0;\n",
       "  margin-bottom: 0;\n",
       "}\n",
       "\n",
       ".xr-obj-type,\n",
       ".xr-array-name {\n",
       "  margin-left: 2px;\n",
       "  margin-right: 10px;\n",
       "}\n",
       "\n",
       ".xr-obj-type {\n",
       "  color: var(--xr-font-color2);\n",
       "}\n",
       "\n",
       ".xr-sections {\n",
       "  padding-left: 0 !important;\n",
       "  display: grid;\n",
       "  grid-template-columns: 150px auto auto 1fr 20px 20px;\n",
       "}\n",
       "\n",
       ".xr-section-item {\n",
       "  display: contents;\n",
       "}\n",
       "\n",
       ".xr-section-item input {\n",
       "  display: none;\n",
       "}\n",
       "\n",
       ".xr-section-item input + label {\n",
       "  color: var(--xr-disabled-color);\n",
       "}\n",
       "\n",
       ".xr-section-item input:enabled + label {\n",
       "  cursor: pointer;\n",
       "  color: var(--xr-font-color2);\n",
       "}\n",
       "\n",
       ".xr-section-item input:enabled + label:hover {\n",
       "  color: var(--xr-font-color0);\n",
       "}\n",
       "\n",
       ".xr-section-summary {\n",
       "  grid-column: 1;\n",
       "  color: var(--xr-font-color2);\n",
       "  font-weight: 500;\n",
       "}\n",
       "\n",
       ".xr-section-summary > span {\n",
       "  display: inline-block;\n",
       "  padding-left: 0.5em;\n",
       "}\n",
       "\n",
       ".xr-section-summary-in:disabled + label {\n",
       "  color: var(--xr-font-color2);\n",
       "}\n",
       "\n",
       ".xr-section-summary-in + label:before {\n",
       "  display: inline-block;\n",
       "  content: '►';\n",
       "  font-size: 11px;\n",
       "  width: 15px;\n",
       "  text-align: center;\n",
       "}\n",
       "\n",
       ".xr-section-summary-in:disabled + label:before {\n",
       "  color: var(--xr-disabled-color);\n",
       "}\n",
       "\n",
       ".xr-section-summary-in:checked + label:before {\n",
       "  content: '▼';\n",
       "}\n",
       "\n",
       ".xr-section-summary-in:checked + label > span {\n",
       "  display: none;\n",
       "}\n",
       "\n",
       ".xr-section-summary,\n",
       ".xr-section-inline-details {\n",
       "  padding-top: 4px;\n",
       "  padding-bottom: 4px;\n",
       "}\n",
       "\n",
       ".xr-section-inline-details {\n",
       "  grid-column: 2 / -1;\n",
       "}\n",
       "\n",
       ".xr-section-details {\n",
       "  display: none;\n",
       "  grid-column: 1 / -1;\n",
       "  margin-bottom: 5px;\n",
       "}\n",
       "\n",
       ".xr-section-summary-in:checked ~ .xr-section-details {\n",
       "  display: contents;\n",
       "}\n",
       "\n",
       ".xr-array-wrap {\n",
       "  grid-column: 1 / -1;\n",
       "  display: grid;\n",
       "  grid-template-columns: 20px auto;\n",
       "}\n",
       "\n",
       ".xr-array-wrap > label {\n",
       "  grid-column: 1;\n",
       "  vertical-align: top;\n",
       "}\n",
       "\n",
       ".xr-preview {\n",
       "  color: var(--xr-font-color3);\n",
       "}\n",
       "\n",
       ".xr-array-preview,\n",
       ".xr-array-data {\n",
       "  padding: 0 5px !important;\n",
       "  grid-column: 2;\n",
       "}\n",
       "\n",
       ".xr-array-data,\n",
       ".xr-array-in:checked ~ .xr-array-preview {\n",
       "  display: none;\n",
       "}\n",
       "\n",
       ".xr-array-in:checked ~ .xr-array-data,\n",
       ".xr-array-preview {\n",
       "  display: inline-block;\n",
       "}\n",
       "\n",
       ".xr-dim-list {\n",
       "  display: inline-block !important;\n",
       "  list-style: none;\n",
       "  padding: 0 !important;\n",
       "  margin: 0;\n",
       "}\n",
       "\n",
       ".xr-dim-list li {\n",
       "  display: inline-block;\n",
       "  padding: 0;\n",
       "  margin: 0;\n",
       "}\n",
       "\n",
       ".xr-dim-list:before {\n",
       "  content: '(';\n",
       "}\n",
       "\n",
       ".xr-dim-list:after {\n",
       "  content: ')';\n",
       "}\n",
       "\n",
       ".xr-dim-list li:not(:last-child):after {\n",
       "  content: ',';\n",
       "  padding-right: 5px;\n",
       "}\n",
       "\n",
       ".xr-has-index {\n",
       "  font-weight: bold;\n",
       "}\n",
       "\n",
       ".xr-var-list,\n",
       ".xr-var-item {\n",
       "  display: contents;\n",
       "}\n",
       "\n",
       ".xr-var-item > div,\n",
       ".xr-var-item label,\n",
       ".xr-var-item > .xr-var-name span {\n",
       "  background-color: var(--xr-background-color-row-even);\n",
       "  margin-bottom: 0;\n",
       "}\n",
       "\n",
       ".xr-var-item > .xr-var-name:hover span {\n",
       "  padding-right: 5px;\n",
       "}\n",
       "\n",
       ".xr-var-list > li:nth-child(odd) > div,\n",
       ".xr-var-list > li:nth-child(odd) > label,\n",
       ".xr-var-list > li:nth-child(odd) > .xr-var-name span {\n",
       "  background-color: var(--xr-background-color-row-odd);\n",
       "}\n",
       "\n",
       ".xr-var-name {\n",
       "  grid-column: 1;\n",
       "}\n",
       "\n",
       ".xr-var-dims {\n",
       "  grid-column: 2;\n",
       "}\n",
       "\n",
       ".xr-var-dtype {\n",
       "  grid-column: 3;\n",
       "  text-align: right;\n",
       "  color: var(--xr-font-color2);\n",
       "}\n",
       "\n",
       ".xr-var-preview {\n",
       "  grid-column: 4;\n",
       "}\n",
       "\n",
       ".xr-var-name,\n",
       ".xr-var-dims,\n",
       ".xr-var-dtype,\n",
       ".xr-preview,\n",
       ".xr-attrs dt {\n",
       "  white-space: nowrap;\n",
       "  overflow: hidden;\n",
       "  text-overflow: ellipsis;\n",
       "  padding-right: 10px;\n",
       "}\n",
       "\n",
       ".xr-var-name:hover,\n",
       ".xr-var-dims:hover,\n",
       ".xr-var-dtype:hover,\n",
       ".xr-attrs dt:hover {\n",
       "  overflow: visible;\n",
       "  width: auto;\n",
       "  z-index: 1;\n",
       "}\n",
       "\n",
       ".xr-var-attrs,\n",
       ".xr-var-data {\n",
       "  display: none;\n",
       "  background-color: var(--xr-background-color) !important;\n",
       "  padding-bottom: 5px !important;\n",
       "}\n",
       "\n",
       ".xr-var-attrs-in:checked ~ .xr-var-attrs,\n",
       ".xr-var-data-in:checked ~ .xr-var-data {\n",
       "  display: block;\n",
       "}\n",
       "\n",
       ".xr-var-data > table {\n",
       "  float: right;\n",
       "}\n",
       "\n",
       ".xr-var-name span,\n",
       ".xr-var-data,\n",
       ".xr-attrs {\n",
       "  padding-left: 25px !important;\n",
       "}\n",
       "\n",
       ".xr-attrs,\n",
       ".xr-var-attrs,\n",
       ".xr-var-data {\n",
       "  grid-column: 1 / -1;\n",
       "}\n",
       "\n",
       "dl.xr-attrs {\n",
       "  padding: 0;\n",
       "  margin: 0;\n",
       "  display: grid;\n",
       "  grid-template-columns: 125px auto;\n",
       "}\n",
       "\n",
       ".xr-attrs dt,\n",
       ".xr-attrs dd {\n",
       "  padding: 0;\n",
       "  margin: 0;\n",
       "  float: left;\n",
       "  padding-right: 10px;\n",
       "  width: auto;\n",
       "}\n",
       "\n",
       ".xr-attrs dt {\n",
       "  font-weight: normal;\n",
       "  grid-column: 1;\n",
       "}\n",
       "\n",
       ".xr-attrs dt:hover span {\n",
       "  display: inline-block;\n",
       "  background: var(--xr-background-color);\n",
       "  padding-right: 10px;\n",
       "}\n",
       "\n",
       ".xr-attrs dd {\n",
       "  grid-column: 2;\n",
       "  white-space: pre-wrap;\n",
       "  word-break: break-all;\n",
       "}\n",
       "\n",
       ".xr-icon-database,\n",
       ".xr-icon-file-text2 {\n",
       "  display: inline-block;\n",
       "  vertical-align: middle;\n",
       "  width: 1em;\n",
       "  height: 1.5em !important;\n",
       "  stroke-width: 0;\n",
       "  stroke: currentColor;\n",
       "  fill: currentColor;\n",
       "}\n",
       "</style><pre class='xr-text-repr-fallback'>&lt;xarray.DataArray &#x27;chose&#x27; (caseid: 5029, altid: 6)&gt;\n",
       "array([[ 1.,  0.,  0.,  0.,  0.,  0.],\n",
       "       [ 0.,  0.,  0.,  1.,  0.,  0.],\n",
       "       [ 1.,  0.,  0.,  0.,  0.,  0.],\n",
       "       [ 0.,  0.,  0.,  1.,  0.,  0.],\n",
       "       [ 0.,  1.,  0.,  0.,  0.,  0.],\n",
       "       ...,\n",
       "       [ 1.,  0.,  0.,  0.,  0.,  0.],\n",
       "       [ 0.,  1.,  0.,  0.,  0.,  0.],\n",
       "       [ 1.,  0.,  0.,  0.,  0.,  0.],\n",
       "       [ 1.,  0.,  0.,  0.,  0.,  0.],\n",
       "       [ 1.,  0.,  0.,  0.,  0.,  0.]], dtype=float32)\n",
       "Coordinates:\n",
       "  * caseid    (caseid) int64 1 2 3 4 5 6 7 ... 5024 5025 5026 5027 5028 5029\n",
       "  * altid     (altid) int64 1 2 3 4 5 6\n",
       "    altnames  (altid) &lt;U7 &#x27;DA&#x27; &#x27;SR2&#x27; &#x27;SR3+&#x27; &#x27;Transit&#x27; &#x27;Bike&#x27; &#x27;Walk&#x27;</pre><div class='xr-wrap' style='display:none'><div class='xr-header'><div class='xr-obj-type'>xarray.DataArray</div><div class='xr-array-name'>'chose'</div><ul class='xr-dim-list'><li><span class='xr-has-index'>caseid</span>: 5029</li><li><span class='xr-has-index'>altid</span>: 6</li></ul></div><ul class='xr-sections'><li class='xr-section-item'><div class='xr-array-wrap'><input id='section-7fae778e-98af-4aa2-9eb8-715202c33d38' class='xr-array-in' type='checkbox' checked><label for='section-7fae778e-98af-4aa2-9eb8-715202c33d38' title='Show/hide data repr'><svg class='icon xr-icon-database'><use xlink:href='#icon-database'></use></svg></label><div class='xr-array-preview xr-preview'><span>1.0 0.0 0.0 0.0 0.0 0.0 0.0 0.0 ... 0.0 0.0 1.0 0.0 0.0 0.0 0.0 0.0</span></div><div class='xr-array-data'><pre>array([[ 1.,  0.,  0.,  0.,  0.,  0.],\n",
       "       [ 0.,  0.,  0.,  1.,  0.,  0.],\n",
       "       [ 1.,  0.,  0.,  0.,  0.,  0.],\n",
       "       [ 0.,  0.,  0.,  1.,  0.,  0.],\n",
       "       [ 0.,  1.,  0.,  0.,  0.,  0.],\n",
       "       ...,\n",
       "       [ 1.,  0.,  0.,  0.,  0.,  0.],\n",
       "       [ 0.,  1.,  0.,  0.,  0.,  0.],\n",
       "       [ 1.,  0.,  0.,  0.,  0.,  0.],\n",
       "       [ 1.,  0.,  0.,  0.,  0.,  0.],\n",
       "       [ 1.,  0.,  0.,  0.,  0.,  0.]], dtype=float32)</pre></div></div></li><li class='xr-section-item'><input id='section-72b0a93c-e5e9-4ecc-87e6-15f5f48926ea' class='xr-section-summary-in' type='checkbox'  checked><label for='section-72b0a93c-e5e9-4ecc-87e6-15f5f48926ea' class='xr-section-summary' >Coordinates: <span>(3)</span></label><div class='xr-section-inline-details'></div><div class='xr-section-details'><ul class='xr-var-list'><li class='xr-var-item'><div class='xr-var-name'><span class='xr-has-index'>caseid</span></div><div class='xr-var-dims'>(caseid)</div><div class='xr-var-dtype'>int64</div><div class='xr-var-preview xr-preview'>1 2 3 4 5 ... 5026 5027 5028 5029</div><input id='attrs-3c77541e-d860-4fb6-be31-032e56cd2252' class='xr-var-attrs-in' type='checkbox' disabled><label for='attrs-3c77541e-d860-4fb6-be31-032e56cd2252' title='Show/Hide attributes'><svg class='icon xr-icon-file-text2'><use xlink:href='#icon-file-text2'></use></svg></label><input id='data-95179513-1e25-4c61-992b-820f8c293592' class='xr-var-data-in' type='checkbox'><label for='data-95179513-1e25-4c61-992b-820f8c293592' title='Show/Hide data repr'><svg class='icon xr-icon-database'><use xlink:href='#icon-database'></use></svg></label><div class='xr-var-attrs'><dl class='xr-attrs'></dl></div><div class='xr-var-data'><pre>array([   1,    2,    3, ..., 5027, 5028, 5029])</pre></div></li><li class='xr-var-item'><div class='xr-var-name'><span class='xr-has-index'>altid</span></div><div class='xr-var-dims'>(altid)</div><div class='xr-var-dtype'>int64</div><div class='xr-var-preview xr-preview'>1 2 3 4 5 6</div><input id='attrs-75871011-a43e-4067-9941-6d465bcb6d31' class='xr-var-attrs-in' type='checkbox' disabled><label for='attrs-75871011-a43e-4067-9941-6d465bcb6d31' title='Show/Hide attributes'><svg class='icon xr-icon-file-text2'><use xlink:href='#icon-file-text2'></use></svg></label><input id='data-86ca0e51-6afc-4628-8371-94732bcdaf59' class='xr-var-data-in' type='checkbox'><label for='data-86ca0e51-6afc-4628-8371-94732bcdaf59' title='Show/Hide data repr'><svg class='icon xr-icon-database'><use xlink:href='#icon-database'></use></svg></label><div class='xr-var-attrs'><dl class='xr-attrs'></dl></div><div class='xr-var-data'><pre>array([1, 2, 3, 4, 5, 6])</pre></div></li><li class='xr-var-item'><div class='xr-var-name'><span>altnames</span></div><div class='xr-var-dims'>(altid)</div><div class='xr-var-dtype'>&lt;U7</div><div class='xr-var-preview xr-preview'>&#x27;DA&#x27; &#x27;SR2&#x27; &#x27;SR3+&#x27; ... &#x27;Bike&#x27; &#x27;Walk&#x27;</div><input id='attrs-f94a496c-a0f0-4ade-8c63-1e53fac7e02d' class='xr-var-attrs-in' type='checkbox' disabled><label for='attrs-f94a496c-a0f0-4ade-8c63-1e53fac7e02d' title='Show/Hide attributes'><svg class='icon xr-icon-file-text2'><use xlink:href='#icon-file-text2'></use></svg></label><input id='data-80abbe6f-3123-4cce-90af-45ff0c9a273a' class='xr-var-data-in' type='checkbox'><label for='data-80abbe6f-3123-4cce-90af-45ff0c9a273a' title='Show/Hide data repr'><svg class='icon xr-icon-database'><use xlink:href='#icon-database'></use></svg></label><div class='xr-var-attrs'><dl class='xr-attrs'></dl></div><div class='xr-var-data'><pre>array([&#x27;DA&#x27;, &#x27;SR2&#x27;, &#x27;SR3+&#x27;, &#x27;Transit&#x27;, &#x27;Bike&#x27;, &#x27;Walk&#x27;], dtype=&#x27;&lt;U7&#x27;)</pre></div></li></ul></div></li><li class='xr-section-item'><input id='section-883351ff-4df9-4d1c-aa15-9fdd26b4cf16' class='xr-section-summary-in' type='checkbox' disabled ><label for='section-883351ff-4df9-4d1c-aa15-9fdd26b4cf16' class='xr-section-summary'  title='Expand/collapse section'>Attributes: <span>(0)</span></label><div class='xr-section-inline-details'></div><div class='xr-section-details'><dl class='xr-attrs'></dl></div></li></ul></div></div>"
      ],
      "text/plain": [
       "<xarray.DataArray 'chose' (caseid: 5029, altid: 6)>\n",
       "array([[ 1.,  0.,  0.,  0.,  0.,  0.],\n",
       "       [ 0.,  0.,  0.,  1.,  0.,  0.],\n",
       "       [ 1.,  0.,  0.,  0.,  0.,  0.],\n",
       "       [ 0.,  0.,  0.,  1.,  0.,  0.],\n",
       "       [ 0.,  1.,  0.,  0.,  0.,  0.],\n",
       "       ...,\n",
       "       [ 1.,  0.,  0.,  0.,  0.,  0.],\n",
       "       [ 0.,  1.,  0.,  0.,  0.,  0.],\n",
       "       [ 1.,  0.,  0.,  0.,  0.,  0.],\n",
       "       [ 1.,  0.,  0.,  0.,  0.,  0.],\n",
       "       [ 1.,  0.,  0.,  0.,  0.,  0.]], dtype=float32)\n",
       "Coordinates:\n",
       "  * caseid    (caseid) int64 1 2 3 4 5 6 7 ... 5024 5025 5026 5027 5028 5029\n",
       "  * altid     (altid) int64 1 2 3 4 5 6\n",
       "    altnames  (altid) <U7 'DA' 'SR2' 'SR3+' 'Transit' 'Bike' 'Walk'"
      ]
     },
     "execution_count": 3,
     "metadata": {},
     "output_type": "execute_result"
    }
   ],
   "source": [
    "d['chose']"
   ]
  },
  {
   "cell_type": "code",
   "execution_count": 4,
   "id": "f25786f6",
   "metadata": {
    "ExecuteTime": {
     "end_time": "2022-03-07T05:21:09.566530Z",
     "start_time": "2022-03-07T05:21:09.564424Z"
    }
   },
   "outputs": [],
   "source": [
    "from xarray.core.extensions import AccessorRegistrationWarning"
   ]
  },
  {
   "cell_type": "code",
   "execution_count": 5,
   "id": "f1e628fe",
   "metadata": {
    "ExecuteTime": {
     "end_time": "2022-03-07T05:21:09.571775Z",
     "start_time": "2022-03-07T05:21:09.569553Z"
    }
   },
   "outputs": [],
   "source": [
    "import warnings\n",
    "warnings.filterwarnings(\"error\", category=AccessorRegistrationWarning)\n"
   ]
  },
  {
   "cell_type": "code",
   "execution_count": 6,
   "id": "7efb33ba",
   "metadata": {
    "ExecuteTime": {
     "end_time": "2022-03-07T05:21:12.060985Z",
     "start_time": "2022-03-07T05:21:09.573071Z"
    }
   },
   "outputs": [
    {
     "data": {
      "text/html": [
       "<h3>Iteration 010 [Optimization terminated successfully.] </h3>"
      ],
      "text/plain": [
       "<IPython.core.display.HTML object>"
      ]
     },
     "metadata": {},
     "output_type": "display_data"
    },
    {
     "data": {
      "text/html": [
       "<p>Best LL = -3626.1862555129305</p>"
      ],
      "text/plain": [
       "<IPython.core.display.HTML object>"
      ]
     },
     "metadata": {},
     "output_type": "display_data"
    },
    {
     "data": {
      "text/html": [
       "<div>\n",
       "<style scoped>\n",
       "    .dataframe tbody tr th:only-of-type {\n",
       "        vertical-align: middle;\n",
       "    }\n",
       "\n",
       "    .dataframe tbody tr th {\n",
       "        vertical-align: top;\n",
       "    }\n",
       "\n",
       "    .dataframe thead th {\n",
       "        text-align: right;\n",
       "    }\n",
       "</style>\n",
       "<table border=\"1\" class=\"dataframe\">\n",
       "  <thead>\n",
       "    <tr style=\"text-align: right;\">\n",
       "      <th></th>\n",
       "      <th>value</th>\n",
       "      <th>best</th>\n",
       "      <th>initvalue</th>\n",
       "      <th>minimum</th>\n",
       "      <th>maximum</th>\n",
       "      <th>nullvalue</th>\n",
       "    </tr>\n",
       "    <tr>\n",
       "      <th>param_name</th>\n",
       "      <th></th>\n",
       "      <th></th>\n",
       "      <th></th>\n",
       "      <th></th>\n",
       "      <th></th>\n",
       "      <th></th>\n",
       "    </tr>\n",
       "  </thead>\n",
       "  <tbody>\n",
       "    <tr>\n",
       "      <th>ASC_BIKE</th>\n",
       "      <td>-2.376328</td>\n",
       "      <td>-2.376328</td>\n",
       "      <td>0.0</td>\n",
       "      <td>-inf</td>\n",
       "      <td>inf</td>\n",
       "      <td>0.0</td>\n",
       "    </tr>\n",
       "    <tr>\n",
       "      <th>ASC_SR2</th>\n",
       "      <td>-2.178014</td>\n",
       "      <td>-2.178014</td>\n",
       "      <td>0.0</td>\n",
       "      <td>-inf</td>\n",
       "      <td>inf</td>\n",
       "      <td>0.0</td>\n",
       "    </tr>\n",
       "    <tr>\n",
       "      <th>ASC_SR3P</th>\n",
       "      <td>-3.725078</td>\n",
       "      <td>-3.725078</td>\n",
       "      <td>0.0</td>\n",
       "      <td>-inf</td>\n",
       "      <td>inf</td>\n",
       "      <td>0.0</td>\n",
       "    </tr>\n",
       "    <tr>\n",
       "      <th>ASC_TRAN</th>\n",
       "      <td>-0.670861</td>\n",
       "      <td>-0.670861</td>\n",
       "      <td>0.0</td>\n",
       "      <td>-inf</td>\n",
       "      <td>inf</td>\n",
       "      <td>0.0</td>\n",
       "    </tr>\n",
       "    <tr>\n",
       "      <th>ASC_WALK</th>\n",
       "      <td>-0.206775</td>\n",
       "      <td>-0.206775</td>\n",
       "      <td>0.0</td>\n",
       "      <td>-inf</td>\n",
       "      <td>inf</td>\n",
       "      <td>0.0</td>\n",
       "    </tr>\n",
       "    <tr>\n",
       "      <th>hhinc#2</th>\n",
       "      <td>-0.002170</td>\n",
       "      <td>-0.002170</td>\n",
       "      <td>0.0</td>\n",
       "      <td>-inf</td>\n",
       "      <td>inf</td>\n",
       "      <td>0.0</td>\n",
       "    </tr>\n",
       "    <tr>\n",
       "      <th>hhinc#3</th>\n",
       "      <td>0.000358</td>\n",
       "      <td>0.000358</td>\n",
       "      <td>0.0</td>\n",
       "      <td>-inf</td>\n",
       "      <td>inf</td>\n",
       "      <td>0.0</td>\n",
       "    </tr>\n",
       "    <tr>\n",
       "      <th>hhinc#4</th>\n",
       "      <td>-0.005286</td>\n",
       "      <td>-0.005286</td>\n",
       "      <td>0.0</td>\n",
       "      <td>-inf</td>\n",
       "      <td>inf</td>\n",
       "      <td>0.0</td>\n",
       "    </tr>\n",
       "    <tr>\n",
       "      <th>hhinc#5</th>\n",
       "      <td>-0.012808</td>\n",
       "      <td>-0.012808</td>\n",
       "      <td>0.0</td>\n",
       "      <td>-inf</td>\n",
       "      <td>inf</td>\n",
       "      <td>0.0</td>\n",
       "    </tr>\n",
       "    <tr>\n",
       "      <th>hhinc#6</th>\n",
       "      <td>-0.009686</td>\n",
       "      <td>-0.009686</td>\n",
       "      <td>0.0</td>\n",
       "      <td>-inf</td>\n",
       "      <td>inf</td>\n",
       "      <td>0.0</td>\n",
       "    </tr>\n",
       "    <tr>\n",
       "      <th>totcost</th>\n",
       "      <td>-0.004920</td>\n",
       "      <td>-0.004920</td>\n",
       "      <td>0.0</td>\n",
       "      <td>-inf</td>\n",
       "      <td>inf</td>\n",
       "      <td>0.0</td>\n",
       "    </tr>\n",
       "    <tr>\n",
       "      <th>tottime</th>\n",
       "      <td>-0.051342</td>\n",
       "      <td>-0.051342</td>\n",
       "      <td>0.0</td>\n",
       "      <td>-inf</td>\n",
       "      <td>inf</td>\n",
       "      <td>0.0</td>\n",
       "    </tr>\n",
       "  </tbody>\n",
       "</table>\n",
       "</div>"
      ],
      "text/plain": [
       "               value      best  initvalue  minimum  maximum  nullvalue\n",
       "param_name                                                            \n",
       "ASC_BIKE   -2.376328 -2.376328        0.0     -inf      inf        0.0\n",
       "ASC_SR2    -2.178014 -2.178014        0.0     -inf      inf        0.0\n",
       "ASC_SR3P   -3.725078 -3.725078        0.0     -inf      inf        0.0\n",
       "ASC_TRAN   -0.670861 -0.670861        0.0     -inf      inf        0.0\n",
       "ASC_WALK   -0.206775 -0.206775        0.0     -inf      inf        0.0\n",
       "hhinc#2    -0.002170 -0.002170        0.0     -inf      inf        0.0\n",
       "hhinc#3     0.000358  0.000358        0.0     -inf      inf        0.0\n",
       "hhinc#4    -0.005286 -0.005286        0.0     -inf      inf        0.0\n",
       "hhinc#5    -0.012808 -0.012808        0.0     -inf      inf        0.0\n",
       "hhinc#6    -0.009686 -0.009686        0.0     -inf      inf        0.0\n",
       "totcost    -0.004920 -0.004920        0.0     -inf      inf        0.0\n",
       "tottime    -0.051342 -0.051342        0.0     -inf      inf        0.0"
      ]
     },
     "metadata": {},
     "output_type": "display_data"
    }
   ],
   "source": [
    "m = lx.Model(d)\n",
    "P, X, PX = lx.P, lx.X, lx.PX\n",
    "m.utility_co[2] = P(\"ASC_SR2\")  + P(\"hhinc#2\") * X(\"hhinc\")\n",
    "m.utility_co[3] = P(\"ASC_SR3P\") + P(\"hhinc#3\") * X(\"hhinc\")\n",
    "m.utility_co[4] = P(\"ASC_TRAN\") + P(\"hhinc#4\") * X(\"hhinc\")\n",
    "m.utility_co[5] = P(\"ASC_BIKE\") + P(\"hhinc#5\") * X(\"hhinc\")\n",
    "m.utility_co[6] = P(\"ASC_WALK\") + P(\"hhinc#6\") * X(\"hhinc\")\n",
    "\n",
    "m.utility_ca = PX(\"tottime\") + PX(\"totcost\")\n",
    "\n",
    "m.availability_var = 'avail'\n",
    "m.choice_ca_var = 'chose'\n",
    "\n",
    "m.title = \"MTC Example 1 (Simple MNL)\"\n",
    "r = m.maximize_loglike()"
   ]
  },
  {
   "cell_type": "code",
   "execution_count": 7,
   "id": "6c2fc8d0",
   "metadata": {
    "ExecuteTime": {
     "end_time": "2022-03-07T05:21:12.076785Z",
     "start_time": "2022-03-07T05:21:12.063185Z"
    }
   },
   "outputs": [
    {
     "data": {
      "text/html": [
       "<div>\n",
       "<style scoped>\n",
       "    .dataframe tbody tr th:only-of-type {\n",
       "        vertical-align: middle;\n",
       "    }\n",
       "\n",
       "    .dataframe tbody tr th {\n",
       "        vertical-align: top;\n",
       "    }\n",
       "\n",
       "    .dataframe thead th {\n",
       "        text-align: right;\n",
       "    }\n",
       "</style>\n",
       "<table border=\"1\" class=\"dataframe\">\n",
       "  <thead>\n",
       "    <tr style=\"text-align: right;\">\n",
       "      <th></th>\n",
       "      <th>value</th>\n",
       "      <th>best</th>\n",
       "      <th>initvalue</th>\n",
       "      <th>minimum</th>\n",
       "      <th>maximum</th>\n",
       "      <th>nullvalue</th>\n",
       "    </tr>\n",
       "    <tr>\n",
       "      <th>param_name</th>\n",
       "      <th></th>\n",
       "      <th></th>\n",
       "      <th></th>\n",
       "      <th></th>\n",
       "      <th></th>\n",
       "      <th></th>\n",
       "    </tr>\n",
       "  </thead>\n",
       "  <tbody>\n",
       "    <tr>\n",
       "      <th>ASC_BIKE</th>\n",
       "      <td>-2.376328</td>\n",
       "      <td>-2.376328</td>\n",
       "      <td>0.0</td>\n",
       "      <td>-inf</td>\n",
       "      <td>inf</td>\n",
       "      <td>0.0</td>\n",
       "    </tr>\n",
       "    <tr>\n",
       "      <th>ASC_SR2</th>\n",
       "      <td>-2.178014</td>\n",
       "      <td>-2.178014</td>\n",
       "      <td>0.0</td>\n",
       "      <td>-inf</td>\n",
       "      <td>inf</td>\n",
       "      <td>0.0</td>\n",
       "    </tr>\n",
       "    <tr>\n",
       "      <th>ASC_SR3P</th>\n",
       "      <td>-3.725078</td>\n",
       "      <td>-3.725078</td>\n",
       "      <td>0.0</td>\n",
       "      <td>-inf</td>\n",
       "      <td>inf</td>\n",
       "      <td>0.0</td>\n",
       "    </tr>\n",
       "    <tr>\n",
       "      <th>ASC_TRAN</th>\n",
       "      <td>-0.670861</td>\n",
       "      <td>-0.670861</td>\n",
       "      <td>0.0</td>\n",
       "      <td>-inf</td>\n",
       "      <td>inf</td>\n",
       "      <td>0.0</td>\n",
       "    </tr>\n",
       "    <tr>\n",
       "      <th>ASC_WALK</th>\n",
       "      <td>-0.206775</td>\n",
       "      <td>-0.206775</td>\n",
       "      <td>0.0</td>\n",
       "      <td>-inf</td>\n",
       "      <td>inf</td>\n",
       "      <td>0.0</td>\n",
       "    </tr>\n",
       "    <tr>\n",
       "      <th>hhinc#2</th>\n",
       "      <td>-0.002170</td>\n",
       "      <td>-0.002170</td>\n",
       "      <td>0.0</td>\n",
       "      <td>-inf</td>\n",
       "      <td>inf</td>\n",
       "      <td>0.0</td>\n",
       "    </tr>\n",
       "    <tr>\n",
       "      <th>hhinc#3</th>\n",
       "      <td>0.000358</td>\n",
       "      <td>0.000358</td>\n",
       "      <td>0.0</td>\n",
       "      <td>-inf</td>\n",
       "      <td>inf</td>\n",
       "      <td>0.0</td>\n",
       "    </tr>\n",
       "    <tr>\n",
       "      <th>hhinc#4</th>\n",
       "      <td>-0.005286</td>\n",
       "      <td>-0.005286</td>\n",
       "      <td>0.0</td>\n",
       "      <td>-inf</td>\n",
       "      <td>inf</td>\n",
       "      <td>0.0</td>\n",
       "    </tr>\n",
       "    <tr>\n",
       "      <th>hhinc#5</th>\n",
       "      <td>-0.012808</td>\n",
       "      <td>-0.012808</td>\n",
       "      <td>0.0</td>\n",
       "      <td>-inf</td>\n",
       "      <td>inf</td>\n",
       "      <td>0.0</td>\n",
       "    </tr>\n",
       "    <tr>\n",
       "      <th>hhinc#6</th>\n",
       "      <td>-0.009686</td>\n",
       "      <td>-0.009686</td>\n",
       "      <td>0.0</td>\n",
       "      <td>-inf</td>\n",
       "      <td>inf</td>\n",
       "      <td>0.0</td>\n",
       "    </tr>\n",
       "    <tr>\n",
       "      <th>totcost</th>\n",
       "      <td>-0.004920</td>\n",
       "      <td>-0.004920</td>\n",
       "      <td>0.0</td>\n",
       "      <td>-inf</td>\n",
       "      <td>inf</td>\n",
       "      <td>0.0</td>\n",
       "    </tr>\n",
       "    <tr>\n",
       "      <th>tottime</th>\n",
       "      <td>-0.051342</td>\n",
       "      <td>-0.051342</td>\n",
       "      <td>0.0</td>\n",
       "      <td>-inf</td>\n",
       "      <td>inf</td>\n",
       "      <td>0.0</td>\n",
       "    </tr>\n",
       "  </tbody>\n",
       "</table>\n",
       "</div>"
      ],
      "text/plain": [
       "               value      best  initvalue  minimum  maximum  nullvalue\n",
       "param_name                                                            \n",
       "ASC_BIKE   -2.376328 -2.376328        0.0     -inf      inf        0.0\n",
       "ASC_SR2    -2.178014 -2.178014        0.0     -inf      inf        0.0\n",
       "ASC_SR3P   -3.725078 -3.725078        0.0     -inf      inf        0.0\n",
       "ASC_TRAN   -0.670861 -0.670861        0.0     -inf      inf        0.0\n",
       "ASC_WALK   -0.206775 -0.206775        0.0     -inf      inf        0.0\n",
       "hhinc#2    -0.002170 -0.002170        0.0     -inf      inf        0.0\n",
       "hhinc#3     0.000358  0.000358        0.0     -inf      inf        0.0\n",
       "hhinc#4    -0.005286 -0.005286        0.0     -inf      inf        0.0\n",
       "hhinc#5    -0.012808 -0.012808        0.0     -inf      inf        0.0\n",
       "hhinc#6    -0.009686 -0.009686        0.0     -inf      inf        0.0\n",
       "totcost    -0.004920 -0.004920        0.0     -inf      inf        0.0\n",
       "tottime    -0.051342 -0.051342        0.0     -inf      inf        0.0"
      ]
     },
     "execution_count": 7,
     "metadata": {},
     "output_type": "execute_result"
    }
   ],
   "source": [
    "m.pf"
   ]
  },
  {
   "cell_type": "code",
   "execution_count": 8,
   "id": "3b951125",
   "metadata": {
    "ExecuteTime": {
     "end_time": "2022-03-07T05:21:12.088198Z",
     "start_time": "2022-03-07T05:21:12.078802Z"
    }
   },
   "outputs": [
    {
     "data": {
      "text/plain": [
       "-3626.1862555129305"
      ]
     },
     "execution_count": 8,
     "metadata": {},
     "output_type": "execute_result"
    }
   ],
   "source": [
    "m.loglike(m.pvals)"
   ]
  },
  {
   "cell_type": "code",
   "execution_count": 9,
   "id": "34907252",
   "metadata": {
    "ExecuteTime": {
     "end_time": "2022-03-07T05:21:12.103849Z",
     "start_time": "2022-03-07T05:21:12.090526Z"
    }
   },
   "outputs": [
    {
     "data": {
      "text/plain": [
       "array([ 8.630664e-04, -3.820780e-04, -1.382992e-03, -1.452203e-02,  3.967864e-03, -4.204360e-02, -9.950474e-02,\n",
       "       -7.322533e-01,  3.308188e-02,  1.695009e-01, -2.320521e+00, -2.725375e-02])"
      ]
     },
     "execution_count": 9,
     "metadata": {},
     "output_type": "execute_result"
    }
   ],
   "source": [
    "m.d_loglike()"
   ]
  },
  {
   "cell_type": "code",
   "execution_count": 10,
   "id": "d52ecd87",
   "metadata": {
    "ExecuteTime": {
     "end_time": "2022-03-07T05:21:12.113654Z",
     "start_time": "2022-03-07T05:21:12.105706Z"
    }
   },
   "outputs": [
    {
     "data": {
      "text/html": [
       "<div><table style=\"margin-top:1px;\"><tr><th>key</th><th style=\"text-align:left;\">value</th></tr><tr><td>ca</td><td style=\"text-align:left;\">['totcost', 'tottime']</td></tr><tr><td>co</td><td style=\"text-align:left;\">['hhinc']</td></tr><tr><td>choice_ca</td><td style=\"text-align:left;\">'chose'</td></tr><tr><td>avail_ca</td><td style=\"text-align:left;\">'avail'</td></tr></table></div>"
      ],
      "text/plain": [
       "┣        ca: ['totcost', 'tottime']\n",
       "┣        co: ['hhinc']\n",
       "┣ choice_ca: 'chose'\n",
       "┣  avail_ca: 'avail'"
      ]
     },
     "execution_count": 10,
     "metadata": {},
     "output_type": "execute_result"
    }
   ],
   "source": [
    "m.required_data()"
   ]
  },
  {
   "cell_type": "code",
   "execution_count": 21,
   "id": "11008178",
   "metadata": {
    "ExecuteTime": {
     "end_time": "2022-03-07T05:27:34.495180Z",
     "start_time": "2022-03-07T05:27:34.489029Z"
    }
   },
   "outputs": [],
   "source": [
    "import jax.numpy as jnp\n",
    "\n",
    "def _get_jnp_array(dataset, name):\n",
    "    if name not in dataset:\n",
    "        return None\n",
    "    return jnp.asarray(dataset[name])\n",
    "\n",
    "\n",
    "data_bundle = (\n",
    "    _get_jnp_array(m.dataset, \"ca\"),\n",
    "    _get_jnp_array(m.dataset, \"co\"),\n",
    "    _get_jnp_array(m.dataset, \"ch\"),\n",
    "    _get_jnp_array(m.dataset, \"av\"),\n",
    "    _get_jnp_array(m.dataset, \"wt\"),\n",
    ")\n",
    "\n",
    "#m._jax_utility_bundle(m.pvals, data_bundle )"
   ]
  },
  {
   "cell_type": "code",
   "execution_count": 22,
   "id": "c8732f42",
   "metadata": {
    "ExecuteTime": {
     "end_time": "2022-03-07T05:27:35.453257Z",
     "start_time": "2022-03-07T05:27:35.240931Z"
    }
   },
   "outputs": [
    {
     "ename": "ValueError",
     "evalue": "too many values to unpack (expected 4)",
     "output_type": "error",
     "traceback": [
      "\u001b[0;31m---------------------------------------------------------------------------\u001b[0m",
      "\u001b[0;31mValueError\u001b[0m                                Traceback (most recent call last)",
      "Input \u001b[0;32mIn [22]\u001b[0m, in \u001b[0;36m<module>\u001b[0;34m\u001b[0m\n\u001b[1;32m      1\u001b[0m \u001b[38;5;28;01mimport\u001b[39;00m \u001b[38;5;21;01mjax\u001b[39;00m\n\u001b[0;32m----> 2\u001b[0m \u001b[43mjax\u001b[49m\u001b[38;5;241;43m.\u001b[39;49m\u001b[43mvmap\u001b[49m\u001b[43m(\u001b[49m\u001b[43mm\u001b[49m\u001b[38;5;241;43m.\u001b[39;49m\u001b[43m_jax_utility_bundle\u001b[49m\u001b[43m,\u001b[49m\u001b[43m \u001b[49m\u001b[43min_axes\u001b[49m\u001b[38;5;241;43m=\u001b[39;49m\u001b[43m(\u001b[49m\u001b[38;5;28;43;01mNone\u001b[39;49;00m\u001b[43m,\u001b[49m\u001b[43m \u001b[49m\u001b[38;5;241;43m0\u001b[39;49m\u001b[43m)\u001b[49m\u001b[43m)\u001b[49m\u001b[43m(\u001b[49m\u001b[43mm\u001b[49m\u001b[38;5;241;43m.\u001b[39;49m\u001b[43mpvals\u001b[49m\u001b[43m,\u001b[49m\u001b[43m \u001b[49m\u001b[43mdata_bundle\u001b[49m\u001b[43m \u001b[49m\u001b[43m)\u001b[49m\n",
      "    \u001b[0;31m[... skipping hidden 20 frame]\u001b[0m\n",
      "File \u001b[0;32m~/LocalGit/larix/larix/compiled.py:105\u001b[0m, in \u001b[0;36mjitmethod.__get__.<locals>.func\u001b[0;34m(*args, **kwargs)\u001b[0m\n\u001b[1;32m    103\u001b[0m \u001b[38;5;129m@jax\u001b[39m\u001b[38;5;241m.\u001b[39mjit\n\u001b[1;32m    104\u001b[0m \u001b[38;5;28;01mdef\u001b[39;00m \u001b[38;5;21mfunc\u001b[39m(\u001b[38;5;241m*\u001b[39margs, \u001b[38;5;241m*\u001b[39m\u001b[38;5;241m*\u001b[39mkwargs):\n\u001b[0;32m--> 105\u001b[0m     \u001b[38;5;28;01mreturn\u001b[39;00m \u001b[38;5;28;43mself\u001b[39;49m\u001b[38;5;241;43m.\u001b[39;49m\u001b[43mwrapped_method\u001b[49m\u001b[43m(\u001b[49m\u001b[43mobj\u001b[49m\u001b[43m,\u001b[49m\u001b[43m \u001b[49m\u001b[38;5;241;43m*\u001b[39;49m\u001b[43margs\u001b[49m\u001b[43m,\u001b[49m\u001b[43m \u001b[49m\u001b[38;5;241;43m*\u001b[39;49m\u001b[38;5;241;43m*\u001b[39;49m\u001b[43mkwargs\u001b[49m\u001b[43m)\u001b[49m\n",
      "File \u001b[0;32m~/LocalGit/larix/larix/model/jaxmodel.py:244\u001b[0m, in \u001b[0;36mModel._jax_utility_bundle\u001b[0;34m(self, params, data)\u001b[0m\n\u001b[1;32m    242\u001b[0m \u001b[38;5;129m@jitmethod\u001b[39m\n\u001b[1;32m    243\u001b[0m \u001b[38;5;28;01mdef\u001b[39;00m \u001b[38;5;21m_jax_utility_bundle\u001b[39m(\u001b[38;5;28mself\u001b[39m, params, data):\n\u001b[0;32m--> 244\u001b[0m     ca, co, ch, av \u001b[38;5;241m=\u001b[39m data\n\u001b[1;32m    245\u001b[0m     \u001b[38;5;28;01mreturn\u001b[39;00m \u001b[38;5;28mself\u001b[39m\u001b[38;5;241m.\u001b[39m_jax_utility(params, ca, co, av)\n",
      "\u001b[0;31mValueError\u001b[0m: too many values to unpack (expected 4)"
     ]
    }
   ],
   "source": [
    "import jax\n",
    "jax.vmap(m._jax_utility_bundle, in_axes=(None, 0))(m.pvals, data_bundle )"
   ]
  },
  {
   "cell_type": "code",
   "execution_count": 11,
   "id": "1fe386fa",
   "metadata": {
    "ExecuteTime": {
     "end_time": "2022-03-07T05:21:12.728315Z",
     "start_time": "2022-03-07T05:21:12.115697Z"
    }
   },
   "outputs": [
    {
     "name": "stderr",
     "output_type": "stream",
     "text": [
      "WARNING:absl:No GPU/TPU found, falling back to CPU. (Set TF_CPP_MIN_LOG_LEVEL=0 and rerun for more info.)\n"
     ]
    },
    {
     "data": {
      "text/plain": [
       "DeviceArray(-3626.186, dtype=float32)"
      ]
     },
     "execution_count": 11,
     "metadata": {},
     "output_type": "execute_result"
    }
   ],
   "source": [
    "m.jax_loglike(m.pvals)"
   ]
  },
  {
   "cell_type": "code",
   "execution_count": 24,
   "id": "c9949499",
   "metadata": {
    "ExecuteTime": {
     "end_time": "2022-03-06T20:21:11.660945Z",
     "start_time": "2022-03-06T20:21:11.656074Z"
    }
   },
   "outputs": [
    {
     "data": {
      "text/plain": [
       "DeviceArray(-3626.186, dtype=float32)"
      ]
     },
     "execution_count": 24,
     "metadata": {},
     "output_type": "execute_result"
    }
   ],
   "source": [
    "m.jax_loglike(m.pvals) # 622ms"
   ]
  },
  {
   "cell_type": "code",
   "execution_count": 25,
   "id": "051a41bd",
   "metadata": {
    "ExecuteTime": {
     "end_time": "2022-03-06T20:21:13.647938Z",
     "start_time": "2022-03-06T20:21:13.642791Z"
    }
   },
   "outputs": [
    {
     "data": {
      "text/plain": [
       "DeviceArray(-3626.186, dtype=float32)"
      ]
     },
     "execution_count": 25,
     "metadata": {},
     "output_type": "execute_result"
    }
   ],
   "source": [
    "m.jax_loglike(m.pvals) # 622ms"
   ]
  },
  {
   "cell_type": "code",
   "execution_count": 26,
   "id": "427504ca",
   "metadata": {
    "ExecuteTime": {
     "end_time": "2022-03-06T20:21:18.179661Z",
     "start_time": "2022-03-06T20:21:16.383810Z"
    }
   },
   "outputs": [],
   "source": [
    "r = m.jax_maximize_loglike()"
   ]
  },
  {
   "cell_type": "code",
   "execution_count": 27,
   "id": "e3e728df",
   "metadata": {
    "ExecuteTime": {
     "end_time": "2022-03-06T20:21:21.282728Z",
     "start_time": "2022-03-06T20:21:21.278745Z"
    }
   },
   "outputs": [],
   "source": [
    "assert m.jax_loglike(m.pvals) == approx(-3626.186)"
   ]
  },
  {
   "cell_type": "code",
   "execution_count": 28,
   "id": "5f734a84",
   "metadata": {
    "ExecuteTime": {
     "end_time": "2022-03-06T20:21:22.460161Z",
     "start_time": "2022-03-06T20:21:22.449518Z"
    }
   },
   "outputs": [
    {
     "data": {
      "text/plain": [
       "DeviceArray([ 8.428097e-04, -5.550385e-04, -1.508236e-03, -1.456070e-02,  3.928900e-03, -5.284785e-02, -1.080932e-01,\n",
       "             -7.334058e-01,  3.241288e-02,  1.675611e-01, -2.169489e+00, -2.884785e-02], dtype=float32)"
      ]
     },
     "execution_count": 28,
     "metadata": {},
     "output_type": "execute_result"
    }
   ],
   "source": [
    "m.jax_d_loglike(m.pvals) # 1.69s"
   ]
  },
  {
   "cell_type": "code",
   "execution_count": 31,
   "id": "f20178ba",
   "metadata": {
    "ExecuteTime": {
     "end_time": "2022-03-06T20:22:18.630018Z",
     "start_time": "2022-03-06T20:22:18.627183Z"
    }
   },
   "outputs": [],
   "source": [
    "pocket = np.asarray([\n",
    "    -1.188164e+00, -1.089007e+00, -1.862539e+00, -3.354305e-01, -1.033876e-01, -1.084969e-03,  1.788532e-04,\n",
    "       -2.643163e-03, -6.403988e-03, -4.843151e-03, -2.460121e-03, -2.567105e-02])"
   ]
  },
  {
   "cell_type": "code",
   "execution_count": 36,
   "id": "077da45d",
   "metadata": {
    "ExecuteTime": {
     "end_time": "2022-03-06T20:22:52.675241Z",
     "start_time": "2022-03-06T20:22:52.662914Z"
    }
   },
   "outputs": [],
   "source": [
    "assert m.d_loglike(pocket) == approx([  \n",
    "    -100.668873,     -427.881921,   -346.047421,   \n",
    "    -176.396743,      -69.950285, -25639.434015, \n",
    "    -20581.626877, -10752.088732,  -5810.403543,  \n",
    "    -4360.946795,   54115.923707, -16552.567557,\n",
    "], rel=1e-5)"
   ]
  },
  {
   "cell_type": "code",
   "execution_count": 37,
   "id": "df84ade0",
   "metadata": {
    "ExecuteTime": {
     "end_time": "2022-03-06T20:23:06.373203Z",
     "start_time": "2022-03-06T20:23:06.342497Z"
    }
   },
   "outputs": [],
   "source": [
    "assert m.jax_d_loglike(pocket) == approx([  \n",
    "    -100.668873,     -427.881921,   -346.047421,   \n",
    "    -176.396743,      -69.950285, -25639.434015, \n",
    "    -20581.626877, -10752.088732,  -5810.403543,  \n",
    "    -4360.946795,   54115.923707, -16552.567557,\n",
    "], rel=1e-5)"
   ]
  },
  {
   "cell_type": "code",
   "execution_count": 38,
   "id": "b53e0a86",
   "metadata": {
    "ExecuteTime": {
     "end_time": "2022-03-06T20:23:21.683847Z",
     "start_time": "2022-03-06T20:23:21.667023Z"
    }
   },
   "outputs": [
    {
     "data": {
      "text/html": [
       "<div><svg style=\"position: absolute; width: 0; height: 0; overflow: hidden\">\n",
       "<defs>\n",
       "<symbol id=\"icon-database\" viewBox=\"0 0 32 32\">\n",
       "<path d=\"M16 0c-8.837 0-16 2.239-16 5v4c0 2.761 7.163 5 16 5s16-2.239 16-5v-4c0-2.761-7.163-5-16-5z\"></path>\n",
       "<path d=\"M16 17c-8.837 0-16-2.239-16-5v6c0 2.761 7.163 5 16 5s16-2.239 16-5v-6c0 2.761-7.163 5-16 5z\"></path>\n",
       "<path d=\"M16 26c-8.837 0-16-2.239-16-5v6c0 2.761 7.163 5 16 5s16-2.239 16-5v-6c0 2.761-7.163 5-16 5z\"></path>\n",
       "</symbol>\n",
       "<symbol id=\"icon-file-text2\" viewBox=\"0 0 32 32\">\n",
       "<path d=\"M28.681 7.159c-0.694-0.947-1.662-2.053-2.724-3.116s-2.169-2.030-3.116-2.724c-1.612-1.182-2.393-1.319-2.841-1.319h-15.5c-1.378 0-2.5 1.121-2.5 2.5v27c0 1.378 1.122 2.5 2.5 2.5h23c1.378 0 2.5-1.122 2.5-2.5v-19.5c0-0.448-0.137-1.23-1.319-2.841zM24.543 5.457c0.959 0.959 1.712 1.825 2.268 2.543h-4.811v-4.811c0.718 0.556 1.584 1.309 2.543 2.268zM28 29.5c0 0.271-0.229 0.5-0.5 0.5h-23c-0.271 0-0.5-0.229-0.5-0.5v-27c0-0.271 0.229-0.5 0.5-0.5 0 0 15.499-0 15.5 0v7c0 0.552 0.448 1 1 1h7v19.5z\"></path>\n",
       "<path d=\"M23 26h-14c-0.552 0-1-0.448-1-1s0.448-1 1-1h14c0.552 0 1 0.448 1 1s-0.448 1-1 1z\"></path>\n",
       "<path d=\"M23 22h-14c-0.552 0-1-0.448-1-1s0.448-1 1-1h14c0.552 0 1 0.448 1 1s-0.448 1-1 1z\"></path>\n",
       "<path d=\"M23 18h-14c-0.552 0-1-0.448-1-1s0.448-1 1-1h14c0.552 0 1 0.448 1 1s-0.448 1-1 1z\"></path>\n",
       "</symbol>\n",
       "</defs>\n",
       "</svg>\n",
       "<style>/* CSS stylesheet for displaying xarray objects in jupyterlab.\n",
       " *\n",
       " */\n",
       "\n",
       ":root {\n",
       "  --xr-font-color0: var(--jp-content-font-color0, rgba(0, 0, 0, 1));\n",
       "  --xr-font-color2: var(--jp-content-font-color2, rgba(0, 0, 0, 0.54));\n",
       "  --xr-font-color3: var(--jp-content-font-color3, rgba(0, 0, 0, 0.38));\n",
       "  --xr-border-color: var(--jp-border-color2, #e0e0e0);\n",
       "  --xr-disabled-color: var(--jp-layout-color3, #bdbdbd);\n",
       "  --xr-background-color: var(--jp-layout-color0, white);\n",
       "  --xr-background-color-row-even: var(--jp-layout-color1, white);\n",
       "  --xr-background-color-row-odd: var(--jp-layout-color2, #eeeeee);\n",
       "}\n",
       "\n",
       "html[theme=dark],\n",
       "body.vscode-dark {\n",
       "  --xr-font-color0: rgba(255, 255, 255, 1);\n",
       "  --xr-font-color2: rgba(255, 255, 255, 0.54);\n",
       "  --xr-font-color3: rgba(255, 255, 255, 0.38);\n",
       "  --xr-border-color: #1F1F1F;\n",
       "  --xr-disabled-color: #515151;\n",
       "  --xr-background-color: #111111;\n",
       "  --xr-background-color-row-even: #111111;\n",
       "  --xr-background-color-row-odd: #313131;\n",
       "}\n",
       "\n",
       ".xr-wrap {\n",
       "  display: block !important;\n",
       "  min-width: 300px;\n",
       "  max-width: 700px;\n",
       "}\n",
       "\n",
       ".xr-text-repr-fallback {\n",
       "  /* fallback to plain text repr when CSS is not injected (untrusted notebook) */\n",
       "  display: none;\n",
       "}\n",
       "\n",
       ".xr-header {\n",
       "  padding-top: 6px;\n",
       "  padding-bottom: 6px;\n",
       "  margin-bottom: 4px;\n",
       "  border-bottom: solid 1px var(--xr-border-color);\n",
       "}\n",
       "\n",
       ".xr-header > div,\n",
       ".xr-header > ul {\n",
       "  display: inline;\n",
       "  margin-top: 0;\n",
       "  margin-bottom: 0;\n",
       "}\n",
       "\n",
       ".xr-obj-type,\n",
       ".xr-array-name {\n",
       "  margin-left: 2px;\n",
       "  margin-right: 10px;\n",
       "}\n",
       "\n",
       ".xr-obj-type {\n",
       "  color: var(--xr-font-color2);\n",
       "}\n",
       "\n",
       ".xr-sections {\n",
       "  padding-left: 0 !important;\n",
       "  display: grid;\n",
       "  grid-template-columns: 150px auto auto 1fr 20px 20px;\n",
       "}\n",
       "\n",
       ".xr-section-item {\n",
       "  display: contents;\n",
       "}\n",
       "\n",
       ".xr-section-item input {\n",
       "  display: none;\n",
       "}\n",
       "\n",
       ".xr-section-item input + label {\n",
       "  color: var(--xr-disabled-color);\n",
       "}\n",
       "\n",
       ".xr-section-item input:enabled + label {\n",
       "  cursor: pointer;\n",
       "  color: var(--xr-font-color2);\n",
       "}\n",
       "\n",
       ".xr-section-item input:enabled + label:hover {\n",
       "  color: var(--xr-font-color0);\n",
       "}\n",
       "\n",
       ".xr-section-summary {\n",
       "  grid-column: 1;\n",
       "  color: var(--xr-font-color2);\n",
       "  font-weight: 500;\n",
       "}\n",
       "\n",
       ".xr-section-summary > span {\n",
       "  display: inline-block;\n",
       "  padding-left: 0.5em;\n",
       "}\n",
       "\n",
       ".xr-section-summary-in:disabled + label {\n",
       "  color: var(--xr-font-color2);\n",
       "}\n",
       "\n",
       ".xr-section-summary-in + label:before {\n",
       "  display: inline-block;\n",
       "  content: '►';\n",
       "  font-size: 11px;\n",
       "  width: 15px;\n",
       "  text-align: center;\n",
       "}\n",
       "\n",
       ".xr-section-summary-in:disabled + label:before {\n",
       "  color: var(--xr-disabled-color);\n",
       "}\n",
       "\n",
       ".xr-section-summary-in:checked + label:before {\n",
       "  content: '▼';\n",
       "}\n",
       "\n",
       ".xr-section-summary-in:checked + label > span {\n",
       "  display: none;\n",
       "}\n",
       "\n",
       ".xr-section-summary,\n",
       ".xr-section-inline-details {\n",
       "  padding-top: 4px;\n",
       "  padding-bottom: 4px;\n",
       "}\n",
       "\n",
       ".xr-section-inline-details {\n",
       "  grid-column: 2 / -1;\n",
       "}\n",
       "\n",
       ".xr-section-details {\n",
       "  display: none;\n",
       "  grid-column: 1 / -1;\n",
       "  margin-bottom: 5px;\n",
       "}\n",
       "\n",
       ".xr-section-summary-in:checked ~ .xr-section-details {\n",
       "  display: contents;\n",
       "}\n",
       "\n",
       ".xr-array-wrap {\n",
       "  grid-column: 1 / -1;\n",
       "  display: grid;\n",
       "  grid-template-columns: 20px auto;\n",
       "}\n",
       "\n",
       ".xr-array-wrap > label {\n",
       "  grid-column: 1;\n",
       "  vertical-align: top;\n",
       "}\n",
       "\n",
       ".xr-preview {\n",
       "  color: var(--xr-font-color3);\n",
       "}\n",
       "\n",
       ".xr-array-preview,\n",
       ".xr-array-data {\n",
       "  padding: 0 5px !important;\n",
       "  grid-column: 2;\n",
       "}\n",
       "\n",
       ".xr-array-data,\n",
       ".xr-array-in:checked ~ .xr-array-preview {\n",
       "  display: none;\n",
       "}\n",
       "\n",
       ".xr-array-in:checked ~ .xr-array-data,\n",
       ".xr-array-preview {\n",
       "  display: inline-block;\n",
       "}\n",
       "\n",
       ".xr-dim-list {\n",
       "  display: inline-block !important;\n",
       "  list-style: none;\n",
       "  padding: 0 !important;\n",
       "  margin: 0;\n",
       "}\n",
       "\n",
       ".xr-dim-list li {\n",
       "  display: inline-block;\n",
       "  padding: 0;\n",
       "  margin: 0;\n",
       "}\n",
       "\n",
       ".xr-dim-list:before {\n",
       "  content: '(';\n",
       "}\n",
       "\n",
       ".xr-dim-list:after {\n",
       "  content: ')';\n",
       "}\n",
       "\n",
       ".xr-dim-list li:not(:last-child):after {\n",
       "  content: ',';\n",
       "  padding-right: 5px;\n",
       "}\n",
       "\n",
       ".xr-has-index {\n",
       "  font-weight: bold;\n",
       "}\n",
       "\n",
       ".xr-var-list,\n",
       ".xr-var-item {\n",
       "  display: contents;\n",
       "}\n",
       "\n",
       ".xr-var-item > div,\n",
       ".xr-var-item label,\n",
       ".xr-var-item > .xr-var-name span {\n",
       "  background-color: var(--xr-background-color-row-even);\n",
       "  margin-bottom: 0;\n",
       "}\n",
       "\n",
       ".xr-var-item > .xr-var-name:hover span {\n",
       "  padding-right: 5px;\n",
       "}\n",
       "\n",
       ".xr-var-list > li:nth-child(odd) > div,\n",
       ".xr-var-list > li:nth-child(odd) > label,\n",
       ".xr-var-list > li:nth-child(odd) > .xr-var-name span {\n",
       "  background-color: var(--xr-background-color-row-odd);\n",
       "}\n",
       "\n",
       ".xr-var-name {\n",
       "  grid-column: 1;\n",
       "}\n",
       "\n",
       ".xr-var-dims {\n",
       "  grid-column: 2;\n",
       "}\n",
       "\n",
       ".xr-var-dtype {\n",
       "  grid-column: 3;\n",
       "  text-align: right;\n",
       "  color: var(--xr-font-color2);\n",
       "}\n",
       "\n",
       ".xr-var-preview {\n",
       "  grid-column: 4;\n",
       "}\n",
       "\n",
       ".xr-var-name,\n",
       ".xr-var-dims,\n",
       ".xr-var-dtype,\n",
       ".xr-preview,\n",
       ".xr-attrs dt {\n",
       "  white-space: nowrap;\n",
       "  overflow: hidden;\n",
       "  text-overflow: ellipsis;\n",
       "  padding-right: 10px;\n",
       "}\n",
       "\n",
       ".xr-var-name:hover,\n",
       ".xr-var-dims:hover,\n",
       ".xr-var-dtype:hover,\n",
       ".xr-attrs dt:hover {\n",
       "  overflow: visible;\n",
       "  width: auto;\n",
       "  z-index: 1;\n",
       "}\n",
       "\n",
       ".xr-var-attrs,\n",
       ".xr-var-data {\n",
       "  display: none;\n",
       "  background-color: var(--xr-background-color) !important;\n",
       "  padding-bottom: 5px !important;\n",
       "}\n",
       "\n",
       ".xr-var-attrs-in:checked ~ .xr-var-attrs,\n",
       ".xr-var-data-in:checked ~ .xr-var-data {\n",
       "  display: block;\n",
       "}\n",
       "\n",
       ".xr-var-data > table {\n",
       "  float: right;\n",
       "}\n",
       "\n",
       ".xr-var-name span,\n",
       ".xr-var-data,\n",
       ".xr-attrs {\n",
       "  padding-left: 25px !important;\n",
       "}\n",
       "\n",
       ".xr-attrs,\n",
       ".xr-var-attrs,\n",
       ".xr-var-data {\n",
       "  grid-column: 1 / -1;\n",
       "}\n",
       "\n",
       "dl.xr-attrs {\n",
       "  padding: 0;\n",
       "  margin: 0;\n",
       "  display: grid;\n",
       "  grid-template-columns: 125px auto;\n",
       "}\n",
       "\n",
       ".xr-attrs dt,\n",
       ".xr-attrs dd {\n",
       "  padding: 0;\n",
       "  margin: 0;\n",
       "  float: left;\n",
       "  padding-right: 10px;\n",
       "  width: auto;\n",
       "}\n",
       "\n",
       ".xr-attrs dt {\n",
       "  font-weight: normal;\n",
       "  grid-column: 1;\n",
       "}\n",
       "\n",
       ".xr-attrs dt:hover span {\n",
       "  display: inline-block;\n",
       "  background: var(--xr-background-color);\n",
       "  padding-right: 10px;\n",
       "}\n",
       "\n",
       ".xr-attrs dd {\n",
       "  grid-column: 2;\n",
       "  white-space: pre-wrap;\n",
       "  word-break: break-all;\n",
       "}\n",
       "\n",
       ".xr-icon-database,\n",
       ".xr-icon-file-text2 {\n",
       "  display: inline-block;\n",
       "  vertical-align: middle;\n",
       "  width: 1em;\n",
       "  height: 1.5em !important;\n",
       "  stroke-width: 0;\n",
       "  stroke: currentColor;\n",
       "  fill: currentColor;\n",
       "}\n",
       "</style><pre class='xr-text-repr-fallback'>&lt;xarray.Dataset&gt;\n",
       "Dimensions:     (param_name: 12)\n",
       "Coordinates:\n",
       "  * param_name  (param_name) &lt;U8 &#x27;ASC_BIKE&#x27; &#x27;ASC_SR2&#x27; ... &#x27;totcost&#x27; &#x27;tottime&#x27;\n",
       "Data variables:\n",
       "    value       (param_name) float64 -1.188 -1.089 -1.863 ... -0.00246 -0.02567\n",
       "    initvalue   (param_name) float32 0.0 0.0 0.0 0.0 0.0 ... 0.0 0.0 0.0 0.0 0.0\n",
       "    nullvalue   (param_name) float32 0.0 0.0 0.0 0.0 0.0 ... 0.0 0.0 0.0 0.0 0.0\n",
       "    minimum     (param_name) float32 -inf -inf -inf -inf ... -inf -inf -inf -inf\n",
       "    maximum     (param_name) float32 inf inf inf inf inf ... inf inf inf inf inf\n",
       "    holdfast    (param_name) int8 0 0 0 0 0 0 0 0 0 0 0 0\n",
       "    best        (param_name) float64 -2.376 -2.178 -3.725 ... -0.00492 -0.05134</pre><div class='xr-wrap' style='display:none'><div class='xr-header'><div class='xr-obj-type'>xarray.Dataset</div></div><ul class='xr-sections'><li class='xr-section-item'><input id='section-b304c06d-3678-4a1b-b084-5e2d0467ee73' class='xr-section-summary-in' type='checkbox' disabled ><label for='section-b304c06d-3678-4a1b-b084-5e2d0467ee73' class='xr-section-summary'  title='Expand/collapse section'>Dimensions:</label><div class='xr-section-inline-details'><ul class='xr-dim-list'><li><span class='xr-has-index'>param_name</span>: 12</li></ul></div><div class='xr-section-details'></div></li><li class='xr-section-item'><input id='section-9e2b4b39-2ada-4126-91dc-24b716ed0495' class='xr-section-summary-in' type='checkbox'  checked><label for='section-9e2b4b39-2ada-4126-91dc-24b716ed0495' class='xr-section-summary' >Coordinates: <span>(1)</span></label><div class='xr-section-inline-details'></div><div class='xr-section-details'><ul class='xr-var-list'><li class='xr-var-item'><div class='xr-var-name'><span class='xr-has-index'>param_name</span></div><div class='xr-var-dims'>(param_name)</div><div class='xr-var-dtype'>&lt;U8</div><div class='xr-var-preview xr-preview'>&#x27;ASC_BIKE&#x27; &#x27;ASC_SR2&#x27; ... &#x27;tottime&#x27;</div><input id='attrs-37bdeadb-2db0-495d-84e0-fdfe83f04e99' class='xr-var-attrs-in' type='checkbox' disabled><label for='attrs-37bdeadb-2db0-495d-84e0-fdfe83f04e99' title='Show/Hide attributes'><svg class='icon xr-icon-file-text2'><use xlink:href='#icon-file-text2'></use></svg></label><input id='data-b3512a27-1827-4a4d-b100-4801bcfe9c58' class='xr-var-data-in' type='checkbox'><label for='data-b3512a27-1827-4a4d-b100-4801bcfe9c58' title='Show/Hide data repr'><svg class='icon xr-icon-database'><use xlink:href='#icon-database'></use></svg></label><div class='xr-var-attrs'><dl class='xr-attrs'></dl></div><div class='xr-var-data'><pre>array([&#x27;ASC_BIKE&#x27;, &#x27;ASC_SR2&#x27;, &#x27;ASC_SR3P&#x27;, &#x27;ASC_TRAN&#x27;, &#x27;ASC_WALK&#x27;, &#x27;hhinc#2&#x27;,\n",
       "       &#x27;hhinc#3&#x27;, &#x27;hhinc#4&#x27;, &#x27;hhinc#5&#x27;, &#x27;hhinc#6&#x27;, &#x27;totcost&#x27;, &#x27;tottime&#x27;],\n",
       "      dtype=&#x27;&lt;U8&#x27;)</pre></div></li></ul></div></li><li class='xr-section-item'><input id='section-666a01c3-2574-40cb-b6e9-ece4f80f1e29' class='xr-section-summary-in' type='checkbox'  checked><label for='section-666a01c3-2574-40cb-b6e9-ece4f80f1e29' class='xr-section-summary' >Data variables: <span>(7)</span></label><div class='xr-section-inline-details'></div><div class='xr-section-details'><ul class='xr-var-list'><li class='xr-var-item'><div class='xr-var-name'><span>value</span></div><div class='xr-var-dims'>(param_name)</div><div class='xr-var-dtype'>float64</div><div class='xr-var-preview xr-preview'>-1.188 -1.089 ... -0.00246 -0.02567</div><input id='attrs-c36d782d-6e83-4c69-98e8-49eff3feb8a5' class='xr-var-attrs-in' type='checkbox' disabled><label for='attrs-c36d782d-6e83-4c69-98e8-49eff3feb8a5' title='Show/Hide attributes'><svg class='icon xr-icon-file-text2'><use xlink:href='#icon-file-text2'></use></svg></label><input id='data-6b23cff2-13ac-47bd-bf56-8f3e860e2dd7' class='xr-var-data-in' type='checkbox'><label for='data-6b23cff2-13ac-47bd-bf56-8f3e860e2dd7' title='Show/Hide data repr'><svg class='icon xr-icon-database'><use xlink:href='#icon-database'></use></svg></label><div class='xr-var-attrs'><dl class='xr-attrs'></dl></div><div class='xr-var-data'><pre>array([-1.188164e+00, -1.089007e+00, -1.862539e+00, -3.354305e-01, -1.033876e-01, -1.084969e-03,  1.788532e-04,\n",
       "       -2.643163e-03, -6.403988e-03, -4.843151e-03, -2.460121e-03, -2.567105e-02])</pre></div></li><li class='xr-var-item'><div class='xr-var-name'><span>initvalue</span></div><div class='xr-var-dims'>(param_name)</div><div class='xr-var-dtype'>float32</div><div class='xr-var-preview xr-preview'>0.0 0.0 0.0 0.0 ... 0.0 0.0 0.0 0.0</div><input id='attrs-490d6093-22e8-469b-bfa5-1f8d5493bec0' class='xr-var-attrs-in' type='checkbox' disabled><label for='attrs-490d6093-22e8-469b-bfa5-1f8d5493bec0' title='Show/Hide attributes'><svg class='icon xr-icon-file-text2'><use xlink:href='#icon-file-text2'></use></svg></label><input id='data-79ed0847-6ca9-4041-bcda-509c0cef67c2' class='xr-var-data-in' type='checkbox'><label for='data-79ed0847-6ca9-4041-bcda-509c0cef67c2' title='Show/Hide data repr'><svg class='icon xr-icon-database'><use xlink:href='#icon-database'></use></svg></label><div class='xr-var-attrs'><dl class='xr-attrs'></dl></div><div class='xr-var-data'><pre>array([ 0.,  0.,  0.,  0.,  0.,  0.,  0.,  0.,  0.,  0.,  0.,  0.], dtype=float32)</pre></div></li><li class='xr-var-item'><div class='xr-var-name'><span>nullvalue</span></div><div class='xr-var-dims'>(param_name)</div><div class='xr-var-dtype'>float32</div><div class='xr-var-preview xr-preview'>0.0 0.0 0.0 0.0 ... 0.0 0.0 0.0 0.0</div><input id='attrs-b266e4d0-cb98-492d-b399-c42b4872ca8e' class='xr-var-attrs-in' type='checkbox' disabled><label for='attrs-b266e4d0-cb98-492d-b399-c42b4872ca8e' title='Show/Hide attributes'><svg class='icon xr-icon-file-text2'><use xlink:href='#icon-file-text2'></use></svg></label><input id='data-72406b0d-1312-4b31-969b-8972cb07a22b' class='xr-var-data-in' type='checkbox'><label for='data-72406b0d-1312-4b31-969b-8972cb07a22b' title='Show/Hide data repr'><svg class='icon xr-icon-database'><use xlink:href='#icon-database'></use></svg></label><div class='xr-var-attrs'><dl class='xr-attrs'></dl></div><div class='xr-var-data'><pre>array([ 0.,  0.,  0.,  0.,  0.,  0.,  0.,  0.,  0.,  0.,  0.,  0.], dtype=float32)</pre></div></li><li class='xr-var-item'><div class='xr-var-name'><span>minimum</span></div><div class='xr-var-dims'>(param_name)</div><div class='xr-var-dtype'>float32</div><div class='xr-var-preview xr-preview'>-inf -inf -inf ... -inf -inf -inf</div><input id='attrs-a703d9f5-aa58-4dba-a6c6-f2bf923aca5b' class='xr-var-attrs-in' type='checkbox' disabled><label for='attrs-a703d9f5-aa58-4dba-a6c6-f2bf923aca5b' title='Show/Hide attributes'><svg class='icon xr-icon-file-text2'><use xlink:href='#icon-file-text2'></use></svg></label><input id='data-1cf8dea4-aceb-45b1-b265-c408205a7b78' class='xr-var-data-in' type='checkbox'><label for='data-1cf8dea4-aceb-45b1-b265-c408205a7b78' title='Show/Hide data repr'><svg class='icon xr-icon-database'><use xlink:href='#icon-database'></use></svg></label><div class='xr-var-attrs'><dl class='xr-attrs'></dl></div><div class='xr-var-data'><pre>array([-inf, -inf, -inf, -inf, -inf, -inf, -inf, -inf, -inf, -inf, -inf, -inf], dtype=float32)</pre></div></li><li class='xr-var-item'><div class='xr-var-name'><span>maximum</span></div><div class='xr-var-dims'>(param_name)</div><div class='xr-var-dtype'>float32</div><div class='xr-var-preview xr-preview'>inf inf inf inf ... inf inf inf inf</div><input id='attrs-b12c3124-6079-4ba1-9c88-344e3265b0c3' class='xr-var-attrs-in' type='checkbox' disabled><label for='attrs-b12c3124-6079-4ba1-9c88-344e3265b0c3' title='Show/Hide attributes'><svg class='icon xr-icon-file-text2'><use xlink:href='#icon-file-text2'></use></svg></label><input id='data-80d92daa-eb86-44a3-b205-540fe33f6723' class='xr-var-data-in' type='checkbox'><label for='data-80d92daa-eb86-44a3-b205-540fe33f6723' title='Show/Hide data repr'><svg class='icon xr-icon-database'><use xlink:href='#icon-database'></use></svg></label><div class='xr-var-attrs'><dl class='xr-attrs'></dl></div><div class='xr-var-data'><pre>array([ inf,  inf,  inf,  inf,  inf,  inf,  inf,  inf,  inf,  inf,  inf,  inf], dtype=float32)</pre></div></li><li class='xr-var-item'><div class='xr-var-name'><span>holdfast</span></div><div class='xr-var-dims'>(param_name)</div><div class='xr-var-dtype'>int8</div><div class='xr-var-preview xr-preview'>0 0 0 0 0 0 0 0 0 0 0 0</div><input id='attrs-13b019d9-6ced-47cb-8f78-ef37b33bca42' class='xr-var-attrs-in' type='checkbox' disabled><label for='attrs-13b019d9-6ced-47cb-8f78-ef37b33bca42' title='Show/Hide attributes'><svg class='icon xr-icon-file-text2'><use xlink:href='#icon-file-text2'></use></svg></label><input id='data-4e6e6c9f-9266-4536-a885-a908d242b316' class='xr-var-data-in' type='checkbox'><label for='data-4e6e6c9f-9266-4536-a885-a908d242b316' title='Show/Hide data repr'><svg class='icon xr-icon-database'><use xlink:href='#icon-database'></use></svg></label><div class='xr-var-attrs'><dl class='xr-attrs'></dl></div><div class='xr-var-data'><pre>array([0, 0, 0, 0, 0, 0, 0, 0, 0, 0, 0, 0], dtype=int8)</pre></div></li><li class='xr-var-item'><div class='xr-var-name'><span>best</span></div><div class='xr-var-dims'>(param_name)</div><div class='xr-var-dtype'>float64</div><div class='xr-var-preview xr-preview'>-2.376 -2.178 ... -0.00492 -0.05134</div><input id='attrs-c81b384a-99d7-4d3b-8909-43337f7bac41' class='xr-var-attrs-in' type='checkbox' disabled><label for='attrs-c81b384a-99d7-4d3b-8909-43337f7bac41' title='Show/Hide attributes'><svg class='icon xr-icon-file-text2'><use xlink:href='#icon-file-text2'></use></svg></label><input id='data-6f607e33-7b4e-4ef8-9756-2c5879d4284e' class='xr-var-data-in' type='checkbox'><label for='data-6f607e33-7b4e-4ef8-9756-2c5879d4284e' title='Show/Hide data repr'><svg class='icon xr-icon-database'><use xlink:href='#icon-database'></use></svg></label><div class='xr-var-attrs'><dl class='xr-attrs'></dl></div><div class='xr-var-data'><pre>array([-2.376328e+00, -2.178014e+00, -3.725078e+00, -6.708610e-01, -2.067752e-01, -2.169938e-03,  3.577067e-04,\n",
       "       -5.286324e-03, -1.280798e-02, -9.686303e-03, -4.920235e-03, -5.134209e-02])</pre></div></li></ul></div></li><li class='xr-section-item'><input id='section-d5ad6ea8-dd07-47e3-81fa-380150d5391a' class='xr-section-summary-in' type='checkbox' disabled ><label for='section-d5ad6ea8-dd07-47e3-81fa-380150d5391a' class='xr-section-summary'  title='Expand/collapse section'>Attributes: <span>(0)</span></label><div class='xr-section-inline-details'></div><div class='xr-section-details'><dl class='xr-attrs'></dl></div></li></ul></div></div>"
      ],
      "text/plain": [
       "<xarray.Dataset>\n",
       "Dimensions:     (param_name: 12)\n",
       "Coordinates:\n",
       "  * param_name  (param_name) <U8 'ASC_BIKE' 'ASC_SR2' ... 'totcost' 'tottime'\n",
       "Data variables:\n",
       "    value       (param_name) float64 -1.188 -1.089 -1.863 ... -0.00246 -0.02567\n",
       "    initvalue   (param_name) float32 0.0 0.0 0.0 0.0 0.0 ... 0.0 0.0 0.0 0.0 0.0\n",
       "    nullvalue   (param_name) float32 0.0 0.0 0.0 0.0 0.0 ... 0.0 0.0 0.0 0.0 0.0\n",
       "    minimum     (param_name) float32 -inf -inf -inf -inf ... -inf -inf -inf -inf\n",
       "    maximum     (param_name) float32 inf inf inf inf inf ... inf inf inf inf inf\n",
       "    holdfast    (param_name) int8 0 0 0 0 0 0 0 0 0 0 0 0\n",
       "    best        (param_name) float64 -2.376 -2.178 -3.725 ... -0.00492 -0.05134"
      ]
     },
     "execution_count": 38,
     "metadata": {},
     "output_type": "execute_result"
    }
   ],
   "source": [
    "m.parameters"
   ]
  },
  {
   "cell_type": "code",
   "execution_count": 39,
   "id": "4fe77095",
   "metadata": {
    "ExecuteTime": {
     "end_time": "2022-03-06T20:23:33.732362Z",
     "start_time": "2022-03-06T20:23:33.726322Z"
    }
   },
   "outputs": [],
   "source": [
    "m.pvals = 0"
   ]
  },
  {
   "cell_type": "code",
   "execution_count": 41,
   "id": "1e89dfc7",
   "metadata": {
    "ExecuteTime": {
     "end_time": "2022-03-06T20:23:42.614272Z",
     "start_time": "2022-03-06T20:23:42.427409Z"
    }
   },
   "outputs": [],
   "source": [
    "rj = m.jax_maximize_loglike() # 263ms"
   ]
  },
  {
   "cell_type": "code",
   "execution_count": 42,
   "id": "6fb8cd9c",
   "metadata": {
    "ExecuteTime": {
     "end_time": "2022-03-06T20:23:43.587687Z",
     "start_time": "2022-03-06T20:23:43.583626Z"
    }
   },
   "outputs": [
    {
     "data": {
      "text/plain": [
       "     jac: array([ 2.272785e-02, -3.063679e-02, -8.840561e-03,  1.739502e-03, -6.566763e-03, -1.223307e+00, -1.308636e-01,\n",
       "       -7.242671e-01,  1.559882e+00,  9.642785e-01, -5.636771e+00, -6.563418e-01])\n",
       " loglike: -3626.18603515625\n",
       " message: 'Optimization terminated successfully'\n",
       "    nfev: 119\n",
       "     nit: 39\n",
       "    njev: 39\n",
       "  status: 0\n",
       " success: True\n",
       "       x: array([-2.376162e+00, -2.177859e+00, -3.724838e+00, -6.710735e-01, -2.063628e-01, -2.171617e-03,  3.547370e-04,\n",
       "       -5.285348e-03, -1.282182e-02, -9.697886e-03, -4.919956e-03, -5.133474e-02])"
      ]
     },
     "execution_count": 42,
     "metadata": {},
     "output_type": "execute_result"
    }
   ],
   "source": [
    "rj"
   ]
  },
  {
   "cell_type": "code",
   "execution_count": 43,
   "id": "03071b1b",
   "metadata": {
    "ExecuteTime": {
     "end_time": "2022-03-06T20:23:55.801777Z",
     "start_time": "2022-03-06T20:23:55.799017Z"
    }
   },
   "outputs": [],
   "source": [
    "assert rj.loglike == approx(-3626.18603515625)"
   ]
  },
  {
   "cell_type": "code",
   "execution_count": 44,
   "id": "26bc3ebe",
   "metadata": {
    "ExecuteTime": {
     "end_time": "2022-03-06T20:23:59.061958Z",
     "start_time": "2022-03-06T20:23:56.666404Z"
    }
   },
   "outputs": [],
   "source": [
    "h = m.jax_d2_loglike(m.pvals) # 4.00s"
   ]
  },
  {
   "cell_type": "code",
   "execution_count": 45,
   "id": "b7ee16b5",
   "metadata": {
    "ExecuteTime": {
     "end_time": "2022-03-06T20:23:59.819595Z",
     "start_time": "2022-03-06T20:23:59.814941Z"
    }
   },
   "outputs": [
    {
     "data": {
      "text/plain": [
       "array([ 3.045759e-01,  1.046350e-01,  1.776854e-01,  1.325887e-01,  1.941035e-01,  1.553271e-03,  2.537732e-03,\n",
       "        1.828749e-03,  5.326436e-03,  3.033601e-03,  2.388836e-04,  3.099270e-03], dtype=float32)"
      ]
     },
     "execution_count": 45,
     "metadata": {},
     "output_type": "execute_result"
    }
   ],
   "source": [
    "np.sqrt(np.linalg.pinv(h).diagonal())"
   ]
  },
  {
   "cell_type": "code",
   "execution_count": 46,
   "id": "627af8a6",
   "metadata": {
    "ExecuteTime": {
     "end_time": "2022-03-06T20:24:03.384275Z",
     "start_time": "2022-03-06T20:24:00.819648Z"
    }
   },
   "outputs": [],
   "source": [
    "ihess = m.jax_invhess_loglike(m.pvals) # 2.65s"
   ]
  },
  {
   "cell_type": "code",
   "execution_count": 47,
   "id": "1e5165ba",
   "metadata": {
    "ExecuteTime": {
     "end_time": "2022-03-06T20:24:05.051087Z",
     "start_time": "2022-03-06T20:24:04.872991Z"
    }
   },
   "outputs": [],
   "source": [
    "se, hess, ihess = m.jax_param_cov(m.pvals) # 199ms"
   ]
  },
  {
   "cell_type": "code",
   "execution_count": 48,
   "id": "2e8ed16d",
   "metadata": {
    "ExecuteTime": {
     "end_time": "2022-03-06T20:24:10.057323Z",
     "start_time": "2022-03-06T20:24:10.052892Z"
    }
   },
   "outputs": [],
   "source": [
    "assert m.pstderr == approx(np.array([ 3.045759e-01,  1.046350e-01,  1.776854e-01,  1.325887e-01,  1.941035e-01,  1.553271e-03,  2.537731e-03,\n",
    "        1.828749e-03,  5.326436e-03,  3.033601e-03,  2.388836e-04,  3.099270e-03], dtype=np.float32))"
   ]
  },
  {
   "cell_type": "code",
   "execution_count": null,
   "id": "26d121c4",
   "metadata": {},
   "outputs": [],
   "source": []
  }
 ],
 "metadata": {
  "kernelspec": {
   "display_name": "Python 3 (ipykernel)",
   "language": "python",
   "name": "python3"
  },
  "language_info": {
   "codemirror_mode": {
    "name": "ipython",
    "version": 3
   },
   "file_extension": ".py",
   "mimetype": "text/x-python",
   "name": "python",
   "nbconvert_exporter": "python",
   "pygments_lexer": "ipython3",
   "version": "3.9.10"
  },
  "toc": {
   "base_numbering": 1,
   "nav_menu": {},
   "number_sections": false,
   "sideBar": true,
   "skip_h1_title": false,
   "title_cell": "Table of Contents",
   "title_sidebar": "Contents",
   "toc_cell": false,
   "toc_position": {},
   "toc_section_display": true,
   "toc_window_display": false
  }
 },
 "nbformat": 4,
 "nbformat_minor": 5
}
