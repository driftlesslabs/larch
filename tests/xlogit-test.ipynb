{
 "cells": [
  {
   "cell_type": "code",
   "execution_count": 1,
   "id": "3c7ed57b",
   "metadata": {
    "ExecuteTime": {
     "end_time": "2022-03-08T19:26:29.767078Z",
     "start_time": "2022-03-08T19:26:25.875970Z"
    }
   },
   "outputs": [
    {
     "name": "stderr",
     "output_type": "stream",
     "text": [
      "/Users/jeffnewman/LocalGit/larix/larix/model/numbamodel.py:23: UserWarning: \n",
      "\n",
      "##### larix is experimental, and not feature-complete  #####\n",
      "the first time you import on a new system, this package will\n",
      "compile optimized binaries for your machine, which may take \n",
      "a little while, please be patient \n",
      "\n",
      "  warnings.warn( ### EXPERIMENTAL ### )\n",
      "OMP: Info #273: omp_set_nested routine deprecated, please use omp_set_max_active_levels instead.\n"
     ]
    }
   ],
   "source": [
    "import pandas as pd\n",
    "import numpy as np\n",
    "from time import time\n",
    "import sys, io\n",
    "import larix as lx"
   ]
  },
  {
   "cell_type": "code",
   "execution_count": 2,
   "id": "7cdf18da",
   "metadata": {
    "ExecuteTime": {
     "end_time": "2022-03-08T19:26:29.833312Z",
     "start_time": "2022-03-08T19:26:29.770274Z"
    }
   },
   "outputs": [],
   "source": [
    "varnames = [\n",
    "    'price', 'time', 'conven', 'comfort', 'meals', 'petfr',\n",
    "    'emipp', 'nonsig1', 'nonsig2', 'nonsig3',\n",
    "]\n",
    "d = lx.examples.ARTIFICIAL()\n",
    "m = lx.Model(d)\n",
    "m.utility_ca = sum(lx.PX(i) for i in varnames)\n",
    "m.choice_ca_var = 'choice'\n",
    "randvars = {'meals': 'n', 'petfr': 'n', 'emipp': 'n'}\n",
    "# for k in randvars:\n",
    "#     m.mix_parameter(k, f\"{k}_s\")"
   ]
  },
  {
   "cell_type": "code",
   "execution_count": 3,
   "id": "b3ae29c9",
   "metadata": {
    "ExecuteTime": {
     "end_time": "2022-03-08T19:26:29.837125Z",
     "start_time": "2022-03-08T19:26:29.834590Z"
    }
   },
   "outputs": [],
   "source": [
    "m.mixtures = [lx.mixtures.Normal(k, f\"{k}_s\") for k in randvars]"
   ]
  },
  {
   "cell_type": "code",
   "execution_count": 4,
   "id": "936741d7",
   "metadata": {
    "ExecuteTime": {
     "end_time": "2022-03-08T19:26:29.847438Z",
     "start_time": "2022-03-08T19:26:29.839627Z"
    }
   },
   "outputs": [
    {
     "data": {
      "text/plain": [
       "[Normal('meals', 'meals_s'), Normal('petfr', 'petfr_s'), Normal('emipp', 'emipp_s')]"
      ]
     },
     "execution_count": 4,
     "metadata": {},
     "output_type": "execute_result"
    }
   ],
   "source": [
    "m.mixtures "
   ]
  },
  {
   "cell_type": "code",
   "execution_count": 5,
   "id": "f0350706",
   "metadata": {
    "ExecuteTime": {
     "end_time": "2022-03-08T19:26:29.850776Z",
     "start_time": "2022-03-08T19:26:29.848967Z"
    }
   },
   "outputs": [],
   "source": [
    "#m.groupid = 'panel'"
   ]
  },
  {
   "cell_type": "code",
   "execution_count": 6,
   "id": "b8894fdf",
   "metadata": {
    "ExecuteTime": {
     "end_time": "2022-03-08T19:26:29.854925Z",
     "start_time": "2022-03-08T19:26:29.852386Z"
    }
   },
   "outputs": [],
   "source": [
    "m.n_draws = 1000\n",
    "m.seed = 42\n",
    "m.prerolled = True\n",
    "m.common_draws = True"
   ]
  },
  {
   "cell_type": "code",
   "execution_count": 7,
   "id": "d418af42",
   "metadata": {
    "ExecuteTime": {
     "end_time": "2022-03-08T19:26:29.868840Z",
     "start_time": "2022-03-08T19:26:29.856649Z"
    }
   },
   "outputs": [],
   "source": [
    "import pyinstrument"
   ]
  },
  {
   "cell_type": "code",
   "execution_count": 8,
   "id": "d9a20612",
   "metadata": {
    "ExecuteTime": {
     "end_time": "2022-03-08T19:26:29.960985Z",
     "start_time": "2022-03-08T19:26:29.870654Z"
    }
   },
   "outputs": [],
   "source": [
    "%load_ext pyinstrument"
   ]
  },
  {
   "cell_type": "code",
   "execution_count": 9,
   "id": "72b7c4b1",
   "metadata": {
    "ExecuteTime": {
     "end_time": "2022-03-08T19:26:33.224981Z",
     "start_time": "2022-03-08T19:26:29.963075Z"
    }
   },
   "outputs": [],
   "source": [
    "#%%pyinstrument\n",
    "m.unmangle()"
   ]
  },
  {
   "cell_type": "code",
   "execution_count": 10,
   "id": "cb1498b4",
   "metadata": {
    "ExecuteTime": {
     "end_time": "2022-03-08T19:26:33.235075Z",
     "start_time": "2022-03-08T19:26:33.230076Z"
    }
   },
   "outputs": [
    {
     "data": {
      "text/plain": [
       "(1000, 3)"
      ]
     },
     "execution_count": 10,
     "metadata": {},
     "output_type": "execute_result"
    }
   ],
   "source": [
    "m._draws = None\n",
    "m.make_random_draws().shape"
   ]
  },
  {
   "cell_type": "code",
   "execution_count": 11,
   "id": "7cedbe52",
   "metadata": {
    "ExecuteTime": {
     "end_time": "2022-03-08T19:26:33.239774Z",
     "start_time": "2022-03-08T19:26:33.237363Z"
    }
   },
   "outputs": [],
   "source": [
    "import jax"
   ]
  },
  {
   "cell_type": "code",
   "execution_count": 12,
   "id": "a7aef853",
   "metadata": {
    "ExecuteTime": {
     "end_time": "2022-03-08T19:26:33.246489Z",
     "start_time": "2022-03-08T19:26:33.242190Z"
    }
   },
   "outputs": [
    {
     "data": {
      "text/plain": [
       "9"
      ]
     },
     "execution_count": 12,
     "metadata": {},
     "output_type": "execute_result"
    }
   ],
   "source": [
    "#m.mixtures[0].prep(m._parameter_bucket)\n",
    "m.mixtures[1].imean"
   ]
  },
  {
   "cell_type": "code",
   "execution_count": 13,
   "id": "ed2a134e",
   "metadata": {
    "ExecuteTime": {
     "end_time": "2022-03-08T19:26:34.824599Z",
     "start_time": "2022-03-08T19:26:33.248798Z"
    }
   },
   "outputs": [
    {
     "name": "stderr",
     "output_type": "stream",
     "text": [
      "WARNING:absl:No GPU/TPU found, falling back to CPU. (Set TF_CPP_MIN_LOG_LEVEL=0 and rerun for more info.)\n"
     ]
    },
    {
     "data": {
      "text/plain": [
       "-4394.4521484375"
      ]
     },
     "execution_count": 13,
     "metadata": {},
     "output_type": "execute_result"
    }
   ],
   "source": [
    "m.loglike() # 1.36s"
   ]
  },
  {
   "cell_type": "code",
   "execution_count": 14,
   "id": "d1e59cfc",
   "metadata": {
    "ExecuteTime": {
     "end_time": "2022-03-08T19:26:38.266346Z",
     "start_time": "2022-03-08T19:26:34.826535Z"
    }
   },
   "outputs": [
    {
     "name": "stdout",
     "output_type": "stream",
     "text": [
      "converge?= 5535.0244\n"
     ]
    },
    {
     "data": {
      "text/plain": [
       "DeviceArray([ 2.085447e+03, -1.130579e+03, -5.535024e+03,  1.104929e+00,  1.998577e+02, -3.372936e+00, -3.927789e+03,\n",
       "              3.330135e+03, -4.460613e+03, -1.380877e+03, -2.016517e+00, -1.267590e+03, -2.561688e+03], dtype=float32)"
      ]
     },
     "execution_count": 14,
     "metadata": {},
     "output_type": "execute_result"
    }
   ],
   "source": [
    "m.d_loglike() # 5.03s"
   ]
  },
  {
   "cell_type": "code",
   "execution_count": 15,
   "id": "34ea68b4",
   "metadata": {
    "ExecuteTime": {
     "end_time": "2022-03-08T19:26:38.816914Z",
     "start_time": "2022-03-08T19:26:38.268222Z"
    }
   },
   "outputs": [
    {
     "name": "stdout",
     "output_type": "stream",
     "text": [
      "converge?= 5535.0244\n"
     ]
    },
    {
     "data": {
      "text/plain": [
       "DeviceArray([ 2.085447e+03, -1.130579e+03, -5.535024e+03,  1.104929e+00,  1.998577e+02, -3.372936e+00, -3.927789e+03,\n",
       "              3.330135e+03, -4.460613e+03, -1.380877e+03, -2.016517e+00, -1.267590e+03, -2.561688e+03], dtype=float32)"
      ]
     },
     "execution_count": 15,
     "metadata": {},
     "output_type": "execute_result"
    }
   ],
   "source": [
    "m.d_loglike()"
   ]
  },
  {
   "cell_type": "code",
   "execution_count": 16,
   "id": "55478371",
   "metadata": {
    "ExecuteTime": {
     "end_time": "2022-03-08T19:27:13.851912Z",
     "start_time": "2022-03-08T19:26:38.818946Z"
    }
   },
   "outputs": [
    {
     "data": {
      "text/html": [
       "<h3>Iteration 046 [Optimization terminated successfully] </h3>"
      ],
      "text/plain": [
       "<IPython.core.display.HTML object>"
      ]
     },
     "metadata": {},
     "output_type": "display_data"
    },
    {
     "data": {
      "text/html": [
       "<p>Best LL = -2278.4873046875</p>"
      ],
      "text/plain": [
       "<IPython.core.display.HTML object>"
      ]
     },
     "metadata": {},
     "output_type": "display_data"
    },
    {
     "data": {
      "text/html": [
       "<div>\n",
       "<style scoped>\n",
       "    .dataframe tbody tr th:only-of-type {\n",
       "        vertical-align: middle;\n",
       "    }\n",
       "\n",
       "    .dataframe tbody tr th {\n",
       "        vertical-align: top;\n",
       "    }\n",
       "\n",
       "    .dataframe thead th {\n",
       "        text-align: right;\n",
       "    }\n",
       "</style>\n",
       "<table border=\"1\" class=\"dataframe\">\n",
       "  <thead>\n",
       "    <tr style=\"text-align: right;\">\n",
       "      <th></th>\n",
       "      <th>value</th>\n",
       "      <th>best</th>\n",
       "      <th>initvalue</th>\n",
       "      <th>minimum</th>\n",
       "      <th>maximum</th>\n",
       "      <th>nullvalue</th>\n",
       "    </tr>\n",
       "    <tr>\n",
       "      <th>param_name</th>\n",
       "      <th></th>\n",
       "      <th></th>\n",
       "      <th></th>\n",
       "      <th></th>\n",
       "      <th></th>\n",
       "      <th></th>\n",
       "    </tr>\n",
       "  </thead>\n",
       "  <tbody>\n",
       "    <tr>\n",
       "      <th>comfort</th>\n",
       "      <td>1.069855</td>\n",
       "      <td>1.069855</td>\n",
       "      <td>0.000</td>\n",
       "      <td>-inf</td>\n",
       "      <td>inf</td>\n",
       "      <td>0.0</td>\n",
       "    </tr>\n",
       "    <tr>\n",
       "      <th>conven</th>\n",
       "      <td>0.886033</td>\n",
       "      <td>0.886033</td>\n",
       "      <td>0.000</td>\n",
       "      <td>-inf</td>\n",
       "      <td>inf</td>\n",
       "      <td>0.0</td>\n",
       "    </tr>\n",
       "    <tr>\n",
       "      <th>emipp</th>\n",
       "      <td>-2.041210</td>\n",
       "      <td>-2.041210</td>\n",
       "      <td>0.000</td>\n",
       "      <td>-inf</td>\n",
       "      <td>inf</td>\n",
       "      <td>0.0</td>\n",
       "    </tr>\n",
       "    <tr>\n",
       "      <th>emipp_s</th>\n",
       "      <td>1.035556</td>\n",
       "      <td>1.035557</td>\n",
       "      <td>0.001</td>\n",
       "      <td>-inf</td>\n",
       "      <td>inf</td>\n",
       "      <td>0.0</td>\n",
       "    </tr>\n",
       "    <tr>\n",
       "      <th>meals</th>\n",
       "      <td>1.718071</td>\n",
       "      <td>1.718071</td>\n",
       "      <td>0.000</td>\n",
       "      <td>-inf</td>\n",
       "      <td>inf</td>\n",
       "      <td>0.0</td>\n",
       "    </tr>\n",
       "    <tr>\n",
       "      <th>meals_s</th>\n",
       "      <td>-0.727746</td>\n",
       "      <td>-0.727746</td>\n",
       "      <td>0.001</td>\n",
       "      <td>-inf</td>\n",
       "      <td>inf</td>\n",
       "      <td>0.0</td>\n",
       "    </tr>\n",
       "    <tr>\n",
       "      <th>nonsig1</th>\n",
       "      <td>0.061802</td>\n",
       "      <td>0.061802</td>\n",
       "      <td>0.000</td>\n",
       "      <td>-inf</td>\n",
       "      <td>inf</td>\n",
       "      <td>0.0</td>\n",
       "    </tr>\n",
       "    <tr>\n",
       "      <th>nonsig2</th>\n",
       "      <td>0.015839</td>\n",
       "      <td>0.015839</td>\n",
       "      <td>0.000</td>\n",
       "      <td>-inf</td>\n",
       "      <td>inf</td>\n",
       "      <td>0.0</td>\n",
       "    </tr>\n",
       "    <tr>\n",
       "      <th>nonsig3</th>\n",
       "      <td>0.019914</td>\n",
       "      <td>0.019914</td>\n",
       "      <td>0.000</td>\n",
       "      <td>-inf</td>\n",
       "      <td>inf</td>\n",
       "      <td>0.0</td>\n",
       "    </tr>\n",
       "    <tr>\n",
       "      <th>petfr</th>\n",
       "      <td>3.875330</td>\n",
       "      <td>3.875332</td>\n",
       "      <td>0.000</td>\n",
       "      <td>-inf</td>\n",
       "      <td>inf</td>\n",
       "      <td>0.0</td>\n",
       "    </tr>\n",
       "    <tr>\n",
       "      <th>petfr_s</th>\n",
       "      <td>-1.306204</td>\n",
       "      <td>-1.306205</td>\n",
       "      <td>0.001</td>\n",
       "      <td>-inf</td>\n",
       "      <td>inf</td>\n",
       "      <td>0.0</td>\n",
       "    </tr>\n",
       "    <tr>\n",
       "      <th>price</th>\n",
       "      <td>-1.049720</td>\n",
       "      <td>-1.049721</td>\n",
       "      <td>0.000</td>\n",
       "      <td>-inf</td>\n",
       "      <td>inf</td>\n",
       "      <td>0.0</td>\n",
       "    </tr>\n",
       "    <tr>\n",
       "      <th>time</th>\n",
       "      <td>-1.469175</td>\n",
       "      <td>-1.469176</td>\n",
       "      <td>0.000</td>\n",
       "      <td>-inf</td>\n",
       "      <td>inf</td>\n",
       "      <td>0.0</td>\n",
       "    </tr>\n",
       "  </tbody>\n",
       "</table>\n",
       "</div>"
      ],
      "text/plain": [
       "               value      best  initvalue  minimum  maximum  nullvalue\n",
       "param_name                                                            \n",
       "comfort     1.069855  1.069855      0.000     -inf      inf        0.0\n",
       "conven      0.886033  0.886033      0.000     -inf      inf        0.0\n",
       "emipp      -2.041210 -2.041210      0.000     -inf      inf        0.0\n",
       "emipp_s     1.035556  1.035557      0.001     -inf      inf        0.0\n",
       "meals       1.718071  1.718071      0.000     -inf      inf        0.0\n",
       "meals_s    -0.727746 -0.727746      0.001     -inf      inf        0.0\n",
       "nonsig1     0.061802  0.061802      0.000     -inf      inf        0.0\n",
       "nonsig2     0.015839  0.015839      0.000     -inf      inf        0.0\n",
       "nonsig3     0.019914  0.019914      0.000     -inf      inf        0.0\n",
       "petfr       3.875330  3.875332      0.000     -inf      inf        0.0\n",
       "petfr_s    -1.306204 -1.306205      0.001     -inf      inf        0.0\n",
       "price      -1.049720 -1.049721      0.000     -inf      inf        0.0\n",
       "time       -1.469175 -1.469176      0.000     -inf      inf        0.0"
      ]
     },
     "metadata": {},
     "output_type": "display_data"
    },
    {
     "name": "stderr",
     "output_type": "stream",
     "text": [
      "/Users/jeffnewman/LocalGit/larix/larix/model/optimization.py:306: UserWarning: slsqp may not play nicely with unbounded parameters\n",
      "if you get poor results, consider setting global bounds with model.set_cap()\n",
      "  warnings.warn( # infinite bounds # )\n"
     ]
    },
    {
     "name": "stdout",
     "output_type": "stream",
     "text": [
      "converge?= 5535.0244\n",
      "converge?= 3267.086\n",
      "converge?= 1705.1604\n",
      "converge?= 2422.7358\n",
      "converge?= 2315.1965\n",
      "converge?= 1955.7424\n",
      "converge?= 1905.413\n",
      "converge?= 1570.3875\n",
      "converge?= 1421.7448\n",
      "converge?= 757.5225\n",
      "converge?= 750.4247\n",
      "converge?= 660.51855\n",
      "converge?= 215.89658\n",
      "converge?= 205.62276\n",
      "converge?= 357.14462\n",
      "converge?= 352.31885\n",
      "converge?= 431.12488\n",
      "converge?= 443.03278\n",
      "converge?= 222.88284\n",
      "converge?= 171.15358\n",
      "converge?= 108.51544\n",
      "converge?= 57.124428\n",
      "converge?= 37.521885\n",
      "converge?= 29.775236\n",
      "converge?= 25.778566\n",
      "converge?= 22.521921\n",
      "converge?= 22.977322\n",
      "converge?= 20.339533\n",
      "converge?= 13.874362\n",
      "converge?= 27.006002\n",
      "converge?= 21.28844\n",
      "converge?= 29.753202\n",
      "converge?= 13.360026\n",
      "converge?= 6.873844\n",
      "converge?= 5.493321\n",
      "converge?= 3.9381015\n",
      "converge?= 2.259784\n",
      "converge?= 0.8003681\n",
      "converge?= 1.1083829\n",
      "converge?= 1.5365171\n",
      "converge?= 1.7377226\n",
      "converge?= 1.5824252\n",
      "converge?= 0.9540925\n",
      "converge?= 0.3564618\n",
      "converge?= 0.19263755\n",
      "converge?= 0.08131254\n"
     ]
    }
   ],
   "source": [
    "#%%pyinstrument\n",
    "r = m.maximize_loglike(method='slsqp')"
   ]
  },
  {
   "cell_type": "code",
   "execution_count": 17,
   "id": "c5fea911",
   "metadata": {
    "ExecuteTime": {
     "end_time": "2022-03-08T19:27:14.384482Z",
     "start_time": "2022-03-08T19:27:13.854056Z"
    }
   },
   "outputs": [
    {
     "ename": "NameError",
     "evalue": "name 'stop' is not defined",
     "output_type": "error",
     "traceback": [
      "\u001b[0;31m---------------------------------------------------------------------------\u001b[0m",
      "\u001b[0;31mNameError\u001b[0m                                 Traceback (most recent call last)",
      "Input \u001b[0;32mIn [17]\u001b[0m, in \u001b[0;36m<module>\u001b[0;34m\u001b[0m\n\u001b[0;32m----> 1\u001b[0m \u001b[43mstop\u001b[49m\n",
      "\u001b[0;31mNameError\u001b[0m: name 'stop' is not defined"
     ]
    }
   ],
   "source": [
    "stop"
   ]
  },
  {
   "cell_type": "code",
   "execution_count": null,
   "id": "c2b85271",
   "metadata": {
    "ExecuteTime": {
     "end_time": "2022-03-08T19:27:14.388281Z",
     "start_time": "2022-03-08T19:27:14.388268Z"
    }
   },
   "outputs": [],
   "source": [
    "dict(r)"
   ]
  },
  {
   "cell_type": "code",
   "execution_count": null,
   "id": "bf48d612",
   "metadata": {
    "ExecuteTime": {
     "end_time": "2022-03-08T19:27:14.389453Z",
     "start_time": "2022-03-08T19:27:14.389440Z"
    }
   },
   "outputs": [],
   "source": [
    "103 * 33, 49*88"
   ]
  },
  {
   "cell_type": "code",
   "execution_count": null,
   "id": "0962a1f8",
   "metadata": {
    "ExecuteTime": {
     "end_time": "2022-03-08T19:27:14.390546Z",
     "start_time": "2022-03-08T19:27:14.390534Z"
    }
   },
   "outputs": [],
   "source": [
    "assert r.loglike == approx(-2281.3876953125)"
   ]
  },
  {
   "cell_type": "code",
   "execution_count": null,
   "id": "69beec39",
   "metadata": {
    "ExecuteTime": {
     "end_time": "2022-03-08T19:27:14.391828Z",
     "start_time": "2022-03-08T19:27:14.391816Z"
    }
   },
   "outputs": [],
   "source": [
    "m._draws.shape == (4000, 100, 3)"
   ]
  },
  {
   "cell_type": "code",
   "execution_count": null,
   "id": "081e212a",
   "metadata": {
    "ExecuteTime": {
     "end_time": "2022-03-08T19:27:14.393042Z",
     "start_time": "2022-03-08T19:27:14.393029Z"
    }
   },
   "outputs": [],
   "source": [
    "from pytest import approx"
   ]
  },
  {
   "cell_type": "code",
   "execution_count": null,
   "id": "deeb74fc",
   "metadata": {
    "ExecuteTime": {
     "end_time": "2022-03-08T19:27:14.394100Z",
     "start_time": "2022-03-08T19:27:14.394084Z"
    }
   },
   "outputs": [],
   "source": [
    "expected = {\n",
    "    'x': np.array([ 0.974191,  0.803419, -1.882733,  0.910499,  1.623802, -0.555167,  0.033868,  0.035736,  0.012158,  3.591912,\n",
    "         1.148798, -0.977542, -1.362563]),\n",
    " 'jac': np.array([ 0.036815, -0.065251, -0.076691, -0.044403,  0.008265, -0.004813, -0.048743,  0.011079, -0.022234, -0.058469,\n",
    "        -0.012695, -0.017211, -0.008998]),\n",
    " 'nit': 48,\n",
    " 'nfev': 103,\n",
    " 'njev': 48,\n",
    " 'status': 0,\n",
    " 'message': 'Optimization terminated successfully',\n",
    " 'success': True,\n",
    "    \n",
    " 'loglike': -2281.3876953125}\n",
    "\n",
    "\n",
    "for k, v in expected.items():\n",
    "    assert r[k] == approx(v, rel=1e-4), k"
   ]
  },
  {
   "cell_type": "code",
   "execution_count": null,
   "id": "b600a86e",
   "metadata": {
    "ExecuteTime": {
     "end_time": "2022-03-08T19:27:14.395185Z",
     "start_time": "2022-03-08T19:27:14.395173Z"
    }
   },
   "outputs": [],
   "source": [
    "r == approx({'x': np.array([ 0.974191,  0.803419, -1.882733,  0.910499,  1.623802, -0.555167,  0.033868,  0.035736,  0.012158,  3.591912,\n",
    "         1.148798, -0.977542, -1.362563]),\n",
    " 'jac': np.array([ 0.036815, -0.065251, -0.076691, -0.044403,  0.008265, -0.004813, -0.048743,  0.011079, -0.022234, -0.058469,\n",
    "        -0.012695, -0.017211, -0.008998]),\n",
    " 'nit': 48,\n",
    " 'nfev': 103,\n",
    " 'njev': 48,\n",
    " 'status': 0,\n",
    " 'message': 'Optimization terminated successfully',\n",
    " 'success': True,\n",
    " 'loglike': -2281.3876953125})"
   ]
  },
  {
   "cell_type": "code",
   "execution_count": null,
   "id": "fbf25073",
   "metadata": {},
   "outputs": [],
   "source": []
  },
  {
   "cell_type": "code",
   "execution_count": null,
   "id": "7f8029af",
   "metadata": {
    "ExecuteTime": {
     "end_time": "2022-03-08T19:27:14.396473Z",
     "start_time": "2022-03-08T19:27:14.396461Z"
    }
   },
   "outputs": [],
   "source": [
    "data_folder = \"https://raw.githubusercontent.com/arteagac/xlogit/master/examples/data\""
   ]
  },
  {
   "cell_type": "code",
   "execution_count": null,
   "id": "1e79d7bb",
   "metadata": {
    "ExecuteTime": {
     "end_time": "2022-03-08T19:27:14.397741Z",
     "start_time": "2022-03-08T19:27:14.397714Z"
    }
   },
   "outputs": [],
   "source": [
    "df = pd.read_csv(data_folder+\"/artificial_long.csv\")  \n",
    "df['panel'] = np.ceil(df['id'] / 10).astype(int)"
   ]
  },
  {
   "cell_type": "code",
   "execution_count": null,
   "id": "3be0a70d",
   "metadata": {
    "ExecuteTime": {
     "end_time": "2022-03-08T19:27:14.398996Z",
     "start_time": "2022-03-08T19:27:14.398982Z"
    }
   },
   "outputs": [],
   "source": [
    "rdf = pd.DataFrame(columns=[\"library\", \"draws\", \"time\"])  # Dataframe to save results"
   ]
  },
  {
   "cell_type": "code",
   "execution_count": null,
   "id": "7deed40e",
   "metadata": {
    "ExecuteTime": {
     "end_time": "2022-03-08T19:27:14.400080Z",
     "start_time": "2022-03-08T19:27:14.400068Z"
    }
   },
   "outputs": [],
   "source": [
    "varnames = ['price', 'time', 'conven', 'comfort', 'meals', 'petfr',\n",
    "            'emipp', 'nonsig1', 'nonsig2', 'nonsig3']\n"
   ]
  },
  {
   "cell_type": "code",
   "execution_count": null,
   "id": "e3b8a407",
   "metadata": {
    "ExecuteTime": {
     "end_time": "2022-03-08T19:27:14.401164Z",
     "start_time": "2022-03-08T19:27:14.401151Z"
    }
   },
   "outputs": [],
   "source": [
    "d = lx.Dataset.construct.from_idca(df.set_index(['id', 'alt']))"
   ]
  },
  {
   "cell_type": "code",
   "execution_count": null,
   "id": "77d64199",
   "metadata": {
    "ExecuteTime": {
     "end_time": "2022-03-08T19:27:14.402160Z",
     "start_time": "2022-03-08T19:27:14.402145Z"
    }
   },
   "outputs": [],
   "source": [
    "d"
   ]
  },
  {
   "cell_type": "code",
   "execution_count": null,
   "id": "b34b7919",
   "metadata": {},
   "outputs": [],
   "source": []
  },
  {
   "cell_type": "code",
   "execution_count": null,
   "id": "5f6f1e9e",
   "metadata": {
    "ExecuteTime": {
     "end_time": "2022-03-08T19:27:14.403548Z",
     "start_time": "2022-03-08T19:27:14.403533Z"
    }
   },
   "outputs": [],
   "source": [
    "m = lx.Model(d)\n",
    "m.utility_ca = sum(lx.PX(i) for i in varnames)\n",
    "m.choice_ca_var = 'choice'\n",
    "randvars = {'meals': 'n', 'petfr': 'n', 'emipp': 'n'}\n",
    "for k in randvars:\n",
    "    m.mix_parameter(k, f\"{k}_s\")\n",
    "m.prerolled = True\n",
    "m.common_draws = False\n",
    "\n",
    "m.groupid = panels"
   ]
  },
  {
   "cell_type": "code",
   "execution_count": null,
   "id": "946ece00",
   "metadata": {
    "ExecuteTime": {
     "end_time": "2022-03-08T19:27:14.404968Z",
     "start_time": "2022-03-08T19:27:14.404953Z"
    }
   },
   "outputs": [],
   "source": [
    "# m.jax_d_loglike(m.pvals)"
   ]
  },
  {
   "cell_type": "code",
   "execution_count": null,
   "id": "65cc3e8d",
   "metadata": {
    "ExecuteTime": {
     "end_time": "2022-03-08T19:27:14.406200Z",
     "start_time": "2022-03-08T19:27:14.406187Z"
    }
   },
   "outputs": [],
   "source": [
    "import jax.random\n",
    "import jax"
   ]
  },
  {
   "cell_type": "code",
   "execution_count": null,
   "id": "e6bdfffb",
   "metadata": {
    "ExecuteTime": {
     "end_time": "2022-03-08T19:27:14.407494Z",
     "start_time": "2022-03-08T19:27:14.407481Z"
    }
   },
   "outputs": [],
   "source": [
    "m._make_random_draws()"
   ]
  },
  {
   "cell_type": "code",
   "execution_count": null,
   "id": "317a6bb1",
   "metadata": {
    "ExecuteTime": {
     "end_time": "2022-03-08T19:27:14.408760Z",
     "start_time": "2022-03-08T19:27:14.408746Z"
    }
   },
   "outputs": [],
   "source": [
    "m.jax_loglike(m.pvals)"
   ]
  },
  {
   "cell_type": "code",
   "execution_count": null,
   "id": "918f7d91",
   "metadata": {
    "ExecuteTime": {
     "end_time": "2022-03-08T19:27:14.409896Z",
     "start_time": "2022-03-08T19:27:14.409883Z"
    }
   },
   "outputs": [],
   "source": [
    "stop"
   ]
  },
  {
   "cell_type": "code",
   "execution_count": null,
   "id": "991c9751",
   "metadata": {
    "ExecuteTime": {
     "end_time": "2022-03-08T19:27:14.411226Z",
     "start_time": "2022-03-08T19:27:14.411213Z"
    }
   },
   "outputs": [],
   "source": [
    "m.jax_d_loglike(m.pvals)"
   ]
  },
  {
   "cell_type": "code",
   "execution_count": null,
   "id": "773c1fa1",
   "metadata": {
    "ExecuteTime": {
     "end_time": "2022-03-08T19:27:14.412410Z",
     "start_time": "2022-03-08T19:27:14.412397Z"
    }
   },
   "outputs": [],
   "source": [
    "m.jax_maximize_loglike() # -2707.55322265625"
   ]
  },
  {
   "cell_type": "code",
   "execution_count": null,
   "id": "206b5e74",
   "metadata": {
    "ExecuteTime": {
     "end_time": "2022-03-08T19:27:14.413775Z",
     "start_time": "2022-03-08T19:27:14.413759Z"
    }
   },
   "outputs": [],
   "source": [
    "m.pf"
   ]
  },
  {
   "cell_type": "code",
   "execution_count": null,
   "id": "9818e9ba",
   "metadata": {
    "ExecuteTime": {
     "end_time": "2022-03-08T19:27:14.414754Z",
     "start_time": "2022-03-08T19:27:14.414743Z"
    }
   },
   "outputs": [],
   "source": [
    "m.dataset['ca'][0]"
   ]
  },
  {
   "cell_type": "code",
   "execution_count": null,
   "id": "8bb7068d",
   "metadata": {
    "ExecuteTime": {
     "end_time": "2022-03-08T19:27:14.415809Z",
     "start_time": "2022-03-08T19:27:14.415797Z"
    }
   },
   "outputs": [],
   "source": [
    "m.pvals = 'null'\n",
    "m.pvals = {'conven': -1}\n",
    "m.jax_loglike_casewise(m.pvals)"
   ]
  },
  {
   "cell_type": "code",
   "execution_count": null,
   "id": "cac8c9c2",
   "metadata": {
    "ExecuteTime": {
     "end_time": "2022-03-08T19:27:14.417168Z",
     "start_time": "2022-03-08T19:27:14.417152Z"
    }
   },
   "outputs": [],
   "source": [
    "print(\"Ndraws Time(s) Log-Likeli.\")\n",
    "for n_draws in [100, 200, 300, 500, 1000]:\n",
    "    np.random.seed(0)\n",
    "    start_time = time()\n",
    "    m = lx.Model(d)\n",
    "    m.utility_ca = sum(lx.PX(i) for i in varnames)\n",
    "    m.choice_ca_var = 'choice'\n",
    "    randvars = {'meals': 'n', 'petfr': 'n', 'emipp': 'n'}\n",
    "    for k in randvars:\n",
    "        m.mix_parameter(k, f\"{k}_s\")\n",
    "    m.n_draws = n_draws\n",
    "    m.prerolled = False\n",
    "    r = m.jax_maximize_loglike()\n",
    "    ellapsed = time() - start_time\n",
    "    print(\"{:6} {:7.2f} {:11.2f}\".format(n_draws, ellapsed, r.loglike))\n",
    "    rdf.loc[len(rdf)] = ['larix_cpu', n_draws, ellapsed]"
   ]
  },
  {
   "cell_type": "code",
   "execution_count": null,
   "id": "f889fca3",
   "metadata": {
    "ExecuteTime": {
     "end_time": "2022-03-08T19:27:14.418455Z",
     "start_time": "2022-03-08T19:27:14.418440Z"
    }
   },
   "outputs": [],
   "source": [
    "m.n_draws = 5000"
   ]
  },
  {
   "cell_type": "code",
   "execution_count": null,
   "id": "c22d3259",
   "metadata": {},
   "outputs": [],
   "source": []
  },
  {
   "cell_type": "code",
   "execution_count": null,
   "id": "73ec0e55",
   "metadata": {
    "ExecuteTime": {
     "end_time": "2022-03-08T19:27:14.419556Z",
     "start_time": "2022-03-08T19:27:14.419544Z"
    }
   },
   "outputs": [],
   "source": [
    "m._draws.shape"
   ]
  },
  {
   "cell_type": "code",
   "execution_count": null,
   "id": "ab900aea",
   "metadata": {
    "ExecuteTime": {
     "end_time": "2022-03-08T19:27:14.420777Z",
     "start_time": "2022-03-08T19:27:14.420765Z"
    }
   },
   "outputs": [],
   "source": [
    "from xlogit import MixedLogit\n",
    "MixedLogit.check_if_gpu_available()"
   ]
  },
  {
   "cell_type": "code",
   "execution_count": null,
   "id": "5a077df0",
   "metadata": {
    "ExecuteTime": {
     "end_time": "2022-03-08T19:27:14.422028Z",
     "start_time": "2022-03-08T19:27:14.422014Z"
    }
   },
   "outputs": [],
   "source": [
    "# Prepare input data\n",
    "varnames = ['price', 'time', 'conven', 'comfort', 'meals', 'petfr',\n",
    "            'emipp', 'nonsig1', 'nonsig2', 'nonsig3']\n",
    "X = df[varnames]\n",
    "y = df['choice']\n",
    "randvars = {'meals': 'n', 'petfr': 'n', 'emipp': 'n'}\n",
    "alts = df['alt']\n",
    "ids = df['id']\n",
    "panel = df['panel']"
   ]
  },
  {
   "cell_type": "code",
   "execution_count": null,
   "id": "eff34064",
   "metadata": {
    "ExecuteTime": {
     "end_time": "2022-03-08T19:27:14.423075Z",
     "start_time": "2022-03-08T19:27:14.423062Z"
    }
   },
   "outputs": [],
   "source": [
    "print(\"Ndraws Time(s) Log-Likeli.\")\n",
    "for n_draws in [100, ]:\n",
    "    np.random.seed(0)\n",
    "    start_time = time()\n",
    "    model = MixedLogit()\n",
    "    model.fit(X, y, varnames, ids=ids, alts=alts, n_draws=n_draws, verbose=0, randvars=randvars, panels=panel)\n",
    "    ellapsed = time() - start_time\n",
    "    print(\"{:6} {:7.2f} {:11.2f}\".format(n_draws, ellapsed, model.loglikelihood))\n",
    "    rdf.loc[len(rdf)] = ['xlogit_cpu', n_draws, ellapsed]"
   ]
  },
  {
   "cell_type": "code",
   "execution_count": null,
   "id": "e8177afe",
   "metadata": {
    "ExecuteTime": {
     "end_time": "2022-03-08T19:27:14.424203Z",
     "start_time": "2022-03-08T19:27:14.424190Z"
    }
   },
   "outputs": [],
   "source": [
    "m.pf"
   ]
  },
  {
   "cell_type": "code",
   "execution_count": null,
   "id": "16fd06b1",
   "metadata": {
    "ExecuteTime": {
     "end_time": "2022-03-08T19:27:14.425430Z",
     "start_time": "2022-03-08T19:27:14.425417Z"
    }
   },
   "outputs": [],
   "source": [
    "pd.Series(model.coeff_, index=model.coeff_names).to_dict()\n"
   ]
  },
  {
   "cell_type": "code",
   "execution_count": null,
   "id": "3fb82396",
   "metadata": {
    "ExecuteTime": {
     "end_time": "2022-03-08T19:27:14.426438Z",
     "start_time": "2022-03-08T19:27:14.426421Z"
    }
   },
   "outputs": [],
   "source": [
    "m.pvals = pd.Series(model.coeff_, index=model.coeff_names).to_dict()\n",
    "m.jax_loglike(m.pvals)"
   ]
  },
  {
   "cell_type": "code",
   "execution_count": null,
   "id": "effeb83e",
   "metadata": {
    "ExecuteTime": {
     "end_time": "2022-03-08T19:27:14.427689Z",
     "start_time": "2022-03-08T19:27:14.427674Z"
    }
   },
   "outputs": [],
   "source": [
    "m._draws.shape"
   ]
  },
  {
   "cell_type": "code",
   "execution_count": null,
   "id": "47ef30aa",
   "metadata": {
    "ExecuteTime": {
     "end_time": "2022-03-08T19:27:14.428702Z",
     "start_time": "2022-03-08T19:27:14.428690Z"
    }
   },
   "outputs": [],
   "source": [
    "from jax import random\n",
    "\n",
    "key = random.PRNGKey(42)\n",
    "subkeys = random.split(key, 3)\n",
    "sequence = np.stack([random.normal(subkey) for subkey in subkeys])\n",
    "print(\"individually:\", sequence)\n",
    "\n",
    "key = random.PRNGKey(42)\n",
    "print(\"all at once: \", random.normal(key, shape=(3,)))"
   ]
  },
  {
   "cell_type": "code",
   "execution_count": null,
   "id": "a2d0741f",
   "metadata": {
    "ExecuteTime": {
     "end_time": "2022-03-08T19:27:14.429885Z",
     "start_time": "2022-03-08T19:27:14.429873Z"
    }
   },
   "outputs": [],
   "source": [
    "%timeit j = random.uniform(key, shape=(1000,))"
   ]
  },
  {
   "cell_type": "code",
   "execution_count": null,
   "id": "eb034dfd",
   "metadata": {
    "ExecuteTime": {
     "end_time": "2022-03-08T19:27:14.431313Z",
     "start_time": "2022-03-08T19:27:14.431298Z"
    }
   },
   "outputs": [],
   "source": [
    "%timeit jj = np.random.uniform(size=(1000,))"
   ]
  },
  {
   "cell_type": "code",
   "execution_count": null,
   "id": "b19beda3",
   "metadata": {
    "ExecuteTime": {
     "end_time": "2022-03-08T19:27:14.432220Z",
     "start_time": "2022-03-08T19:27:14.432207Z"
    }
   },
   "outputs": [],
   "source": [
    "random.shuffle(key)"
   ]
  },
  {
   "cell_type": "code",
   "execution_count": null,
   "id": "9909e90d",
   "metadata": {
    "ExecuteTime": {
     "end_time": "2022-03-08T19:27:14.433504Z",
     "start_time": "2022-03-08T19:27:14.433491Z"
    }
   },
   "outputs": [],
   "source": [
    "key, subkey = random.split(key)\n",
    "key"
   ]
  },
  {
   "cell_type": "code",
   "execution_count": null,
   "id": "ba2e0de2",
   "metadata": {
    "ExecuteTime": {
     "end_time": "2022-03-08T19:27:14.434734Z",
     "start_time": "2022-03-08T19:27:14.434722Z"
    }
   },
   "outputs": [],
   "source": [
    "import jax.numpy as jnp"
   ]
  },
  {
   "cell_type": "code",
   "execution_count": null,
   "id": "7bb74bcf",
   "metadata": {
    "ExecuteTime": {
     "end_time": "2022-03-08T19:27:14.436005Z",
     "start_time": "2022-03-08T19:27:14.435993Z"
    }
   },
   "outputs": [],
   "source": [
    "(jnp.arange(100)+random.uniform(key, shape=(100,)))/100"
   ]
  },
  {
   "cell_type": "code",
   "execution_count": null,
   "id": "d854e88c",
   "metadata": {},
   "outputs": [],
   "source": []
  }
 ],
 "metadata": {
  "kernelspec": {
   "display_name": "Python 3 (ipykernel)",
   "language": "python",
   "name": "python3"
  },
  "language_info": {
   "codemirror_mode": {
    "name": "ipython",
    "version": 3
   },
   "file_extension": ".py",
   "mimetype": "text/x-python",
   "name": "python",
   "nbconvert_exporter": "python",
   "pygments_lexer": "ipython3",
   "version": "3.9.10"
  },
  "toc": {
   "base_numbering": 1,
   "nav_menu": {},
   "number_sections": false,
   "sideBar": true,
   "skip_h1_title": false,
   "title_cell": "Table of Contents",
   "title_sidebar": "Contents",
   "toc_cell": false,
   "toc_position": {},
   "toc_section_display": true,
   "toc_window_display": false
  }
 },
 "nbformat": 4,
 "nbformat_minor": 5
}
