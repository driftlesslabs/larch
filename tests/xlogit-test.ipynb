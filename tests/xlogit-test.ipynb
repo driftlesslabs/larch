{
 "cells": [
  {
   "cell_type": "code",
   "execution_count": null,
   "id": "3c7ed57b",
   "metadata": {
    "pycharm": {
     "name": "#%%\n"
    }
   },
   "outputs": [],
   "source": [
    "import pandas as pd\n",
    "import numpy as np\n",
    "from time import time\n",
    "import sys, io\n",
    "import larch as lx"
   ]
  },
  {
   "cell_type": "code",
   "execution_count": null,
   "id": "7cdf18da",
   "metadata": {
    "pycharm": {
     "name": "#%%\n"
    }
   },
   "outputs": [],
   "source": [
    "varnames = [\n",
    "    'price', 'time', 'conven', 'comfort', 'meals', 'petfr',\n",
    "    'emipp', 'nonsig1', 'nonsig2', 'nonsig3',\n",
    "]\n",
    "d = lx.examples.ARTIFICIAL()\n",
    "m = lx.Model(d)\n",
    "m.utility_ca = sum(lx.PX(i) for i in varnames)\n",
    "m.choice_ca_var = 'choice'\n",
    "randvars = {'meals': 'n', 'petfr': 'n', 'emipp': 'n'}\n",
    "# for k in randvars:\n",
    "#     m.mix_parameter(k, f\"{k}_s\")"
   ]
  },
  {
   "cell_type": "code",
   "execution_count": null,
   "id": "b3ae29c9",
   "metadata": {
    "pycharm": {
     "name": "#%%\n"
    }
   },
   "outputs": [],
   "source": [
    "m.mixtures = [lx.mixtures.Normal(k, f\"{k}_s\") for k in randvars]"
   ]
  },
  {
   "cell_type": "code",
   "execution_count": null,
   "id": "936741d7",
   "metadata": {
    "pycharm": {
     "name": "#%%\n"
    }
   },
   "outputs": [],
   "source": [
    "m.mixtures "
   ]
  },
  {
   "cell_type": "code",
   "execution_count": null,
   "id": "f0350706",
   "metadata": {
    "pycharm": {
     "name": "#%%\n"
    }
   },
   "outputs": [],
   "source": [
    "#m.groupid = 'panel'"
   ]
  },
  {
   "cell_type": "code",
   "execution_count": null,
   "id": "b8894fdf",
   "metadata": {
    "pycharm": {
     "name": "#%%\n"
    }
   },
   "outputs": [],
   "source": [
    "m.n_draws = 1000\n",
    "m.seed = 42\n",
    "m.prerolled = True\n",
    "m.common_draws = True"
   ]
  },
  {
   "cell_type": "code",
   "execution_count": null,
   "id": "d418af42",
   "metadata": {
    "pycharm": {
     "name": "#%%\n"
    }
   },
   "outputs": [],
   "source": [
    "import pyinstrument"
   ]
  },
  {
   "cell_type": "code",
   "execution_count": null,
   "id": "d9a20612",
   "metadata": {
    "pycharm": {
     "name": "#%%\n"
    }
   },
   "outputs": [],
   "source": [
    "%load_ext pyinstrument"
   ]
  },
  {
   "cell_type": "code",
   "execution_count": null,
   "id": "9b6fe13f",
   "metadata": {
    "pycharm": {
     "name": "#%%\n"
    }
   },
   "outputs": [],
   "source": []
  },
  {
   "cell_type": "code",
   "execution_count": null,
   "id": "8ec80421",
   "metadata": {
    "pycharm": {
     "name": "#%%pyinstrument\n"
    }
   },
   "outputs": [],
   "source": [
    "m.unmangle()"
   ]
  },
  {
   "cell_type": "code",
   "execution_count": null,
   "id": "233bd6a4",
   "metadata": {
    "pycharm": {
     "name": "#%%\n"
    }
   },
   "outputs": [],
   "source": [
    "m._draws = None\n",
    "m.make_random_draws().shape"
   ]
  },
  {
   "cell_type": "code",
   "execution_count": null,
   "id": "adcfa81e",
   "metadata": {
    "pycharm": {
     "name": "#%%\n"
    }
   },
   "outputs": [],
   "source": [
    "import jax"
   ]
  },
  {
   "cell_type": "code",
   "execution_count": null,
   "id": "945b238a",
   "metadata": {
    "pycharm": {
     "name": "#%%\n"
    }
   },
   "outputs": [],
   "source": [
    "#m.mixtures[0].prep(m._parameter_bucket)\n",
    "m.mixtures[1].imean"
   ]
  },
  {
   "cell_type": "code",
   "execution_count": null,
   "id": "0b21fd3e",
   "metadata": {
    "pycharm": {
     "name": "#%%\n"
    }
   },
   "outputs": [],
   "source": [
    "m.loglike() # 1.36s"
   ]
  },
  {
   "cell_type": "code",
   "execution_count": null,
   "id": "d4d00b06",
   "metadata": {
    "pycharm": {
     "name": "#%%\n"
    }
   },
   "outputs": [],
   "source": [
    "m.d_loglike() # 5.03s"
   ]
  },
  {
   "cell_type": "code",
   "execution_count": null,
   "id": "7afd5036",
   "metadata": {
    "pycharm": {
     "name": "#%%\n"
    }
   },
   "outputs": [],
   "source": [
    "m.d_loglike()"
   ]
  },
  {
   "cell_type": "code",
   "execution_count": null,
   "id": "1b787b82",
   "metadata": {
    "pycharm": {
     "name": "#%%\n"
    }
   },
   "outputs": [],
   "source": []
  },
  {
   "cell_type": "code",
   "execution_count": null,
   "id": "c2b85271",
   "metadata": {
    "pycharm": {
     "name": "#%%pyinstrument\n"
    }
   },
   "outputs": [],
   "source": [
    "r = m.maximize_loglike(method='slsqp')"
   ]
  },
  {
   "cell_type": "code",
   "execution_count": null,
   "id": "bf48d612",
   "metadata": {
    "pycharm": {
     "name": "#%%\n"
    }
   },
   "outputs": [],
   "source": [
    "stop"
   ]
  },
  {
   "cell_type": "code",
   "execution_count": null,
   "id": "0962a1f8",
   "metadata": {
    "pycharm": {
     "name": "#%%\n"
    }
   },
   "outputs": [],
   "source": [
    "dict(r)"
   ]
  },
  {
   "cell_type": "code",
   "execution_count": null,
   "id": "69beec39",
   "metadata": {
    "pycharm": {
     "name": "#%%\n"
    }
   },
   "outputs": [],
   "source": [
    "103 * 33, 49*88"
   ]
  },
  {
   "cell_type": "code",
   "execution_count": null,
   "id": "081e212a",
   "metadata": {
    "pycharm": {
     "name": "#%%\n"
    }
   },
   "outputs": [],
   "source": [
    "assert r.loglike == approx(-2281.3876953125)"
   ]
  },
  {
   "cell_type": "code",
   "execution_count": null,
   "id": "deeb74fc",
   "metadata": {
    "pycharm": {
     "name": "#%%\n"
    }
   },
   "outputs": [],
   "source": [
    "m._draws.shape == (4000, 100, 3)"
   ]
  },
  {
   "cell_type": "code",
   "execution_count": null,
   "id": "b600a86e",
   "metadata": {
    "pycharm": {
     "name": "#%%\n"
    }
   },
   "outputs": [],
   "source": [
    "from pytest import approx"
   ]
  },
  {
   "cell_type": "code",
   "execution_count": null,
   "id": "fbf25073",
   "metadata": {
    "pycharm": {
     "name": "#%%\n"
    }
   },
   "outputs": [],
   "source": [
    "expected = {\n",
    "    'x': np.array([ 0.974191,  0.803419, -1.882733,  0.910499,  1.623802, -0.555167,  0.033868,  0.035736,  0.012158,  3.591912,\n",
    "         1.148798, -0.977542, -1.362563]),\n",
    " 'jac': np.array([ 0.036815, -0.065251, -0.076691, -0.044403,  0.008265, -0.004813, -0.048743,  0.011079, -0.022234, -0.058469,\n",
    "        -0.012695, -0.017211, -0.008998]),\n",
    " 'nit': 48,\n",
    " 'nfev': 103,\n",
    " 'njev': 48,\n",
    " 'status': 0,\n",
    " 'message': 'Optimization terminated successfully',\n",
    " 'success': True,\n",
    "    \n",
    " 'loglike': -2281.3876953125}\n",
    "\n",
    "\n",
    "for k, v in expected.items():\n",
    "    assert r[k] == approx(v, rel=1e-4), k"
   ]
  },
  {
   "cell_type": "code",
   "execution_count": null,
   "id": "7f8029af",
   "metadata": {
    "pycharm": {
     "name": "#%%\n"
    }
   },
   "outputs": [],
   "source": [
    "r == approx({'x': np.array([ 0.974191,  0.803419, -1.882733,  0.910499,  1.623802, -0.555167,  0.033868,  0.035736,  0.012158,  3.591912,\n",
    "         1.148798, -0.977542, -1.362563]),\n",
    " 'jac': np.array([ 0.036815, -0.065251, -0.076691, -0.044403,  0.008265, -0.004813, -0.048743,  0.011079, -0.022234, -0.058469,\n",
    "        -0.012695, -0.017211, -0.008998]),\n",
    " 'nit': 48,\n",
    " 'nfev': 103,\n",
    " 'njev': 48,\n",
    " 'status': 0,\n",
    " 'message': 'Optimization terminated successfully',\n",
    " 'success': True,\n",
    " 'loglike': -2281.3876953125})"
   ]
  },
  {
   "cell_type": "code",
   "execution_count": null,
   "id": "1e79d7bb",
   "metadata": {
    "pycharm": {
     "name": "#%%\n"
    }
   },
   "outputs": [],
   "source": []
  },
  {
   "cell_type": "code",
   "execution_count": null,
   "id": "3be0a70d",
   "metadata": {
    "pycharm": {
     "name": "#%%\n"
    }
   },
   "outputs": [],
   "source": [
    "data_folder = \"https://raw.githubusercontent.com/arteagac/xlogit/master/examples/data\""
   ]
  },
  {
   "cell_type": "code",
   "execution_count": null,
   "id": "7deed40e",
   "metadata": {
    "pycharm": {
     "name": "#%%\n"
    }
   },
   "outputs": [],
   "source": [
    "df = pd.read_csv(data_folder+\"/artificial_long.csv\")  \n",
    "df['panel'] = np.ceil(df['id'] / 10).astype(int)"
   ]
  },
  {
   "cell_type": "code",
   "execution_count": null,
   "id": "e3b8a407",
   "metadata": {
    "pycharm": {
     "name": "#%%\n"
    }
   },
   "outputs": [],
   "source": [
    "rdf = pd.DataFrame(columns=[\"library\", \"draws\", \"time\"])  # Dataframe to save results"
   ]
  },
  {
   "cell_type": "code",
   "execution_count": null,
   "id": "77d64199",
   "metadata": {
    "pycharm": {
     "name": "#%%\n"
    }
   },
   "outputs": [],
   "source": [
    "varnames = ['price', 'time', 'conven', 'comfort', 'meals', 'petfr',\n",
    "            'emipp', 'nonsig1', 'nonsig2', 'nonsig3']\n"
   ]
  },
  {
   "cell_type": "code",
   "execution_count": null,
   "id": "b34b7919",
   "metadata": {
    "pycharm": {
     "name": "#%%\n"
    }
   },
   "outputs": [],
   "source": [
    "d = lx.Dataset.construct.from_idca(df.set_index(['id', 'alt']))"
   ]
  },
  {
   "cell_type": "code",
   "execution_count": null,
   "id": "5f6f1e9e",
   "metadata": {
    "pycharm": {
     "name": "#%%\n"
    }
   },
   "outputs": [],
   "source": [
    "d"
   ]
  },
  {
   "cell_type": "code",
   "execution_count": null,
   "id": "946ece00",
   "metadata": {
    "pycharm": {
     "name": "#%%\n"
    }
   },
   "outputs": [],
   "source": []
  },
  {
   "cell_type": "code",
   "execution_count": null,
   "id": "65cc3e8d",
   "metadata": {
    "pycharm": {
     "name": "#%%\n"
    }
   },
   "outputs": [],
   "source": [
    "m = lx.Model(d)\n",
    "m.utility_ca = sum(lx.PX(i) for i in varnames)\n",
    "m.choice_ca_var = 'choice'\n",
    "randvars = {'meals': 'n', 'petfr': 'n', 'emipp': 'n'}\n",
    "for k in randvars:\n",
    "    m.mix_parameter(k, f\"{k}_s\")\n",
    "m.prerolled = True\n",
    "m.common_draws = False\n",
    "\n",
    "m.groupid = panels"
   ]
  },
  {
   "cell_type": "code",
   "execution_count": null,
   "id": "e6bdfffb",
   "metadata": {
    "pycharm": {
     "name": "#%%\n"
    }
   },
   "outputs": [],
   "source": [
    "# m.jax_d_loglike(m.pvals)"
   ]
  },
  {
   "cell_type": "code",
   "execution_count": null,
   "id": "317a6bb1",
   "metadata": {
    "pycharm": {
     "name": "#%%\n"
    }
   },
   "outputs": [],
   "source": [
    "import jax.random\n",
    "import jax"
   ]
  },
  {
   "cell_type": "code",
   "execution_count": null,
   "id": "918f7d91",
   "metadata": {
    "pycharm": {
     "name": "#%%\n"
    }
   },
   "outputs": [],
   "source": [
    "m._make_random_draws()"
   ]
  },
  {
   "cell_type": "code",
   "execution_count": null,
   "id": "991c9751",
   "metadata": {
    "pycharm": {
     "name": "#%%\n"
    }
   },
   "outputs": [],
   "source": [
    "m.jax_loglike(m.pvals)"
   ]
  },
  {
   "cell_type": "code",
   "execution_count": null,
   "id": "773c1fa1",
   "metadata": {
    "pycharm": {
     "name": "#%%\n"
    }
   },
   "outputs": [],
   "source": [
    "stop"
   ]
  },
  {
   "cell_type": "code",
   "execution_count": null,
   "id": "206b5e74",
   "metadata": {
    "pycharm": {
     "name": "#%%\n"
    }
   },
   "outputs": [],
   "source": [
    "m.jax_d_loglike(m.pvals)"
   ]
  },
  {
   "cell_type": "code",
   "execution_count": null,
   "id": "9818e9ba",
   "metadata": {
    "pycharm": {
     "name": "#%%\n"
    }
   },
   "outputs": [],
   "source": [
    "m.jax_maximize_loglike() # -2707.55322265625"
   ]
  },
  {
   "cell_type": "code",
   "execution_count": null,
   "id": "8bb7068d",
   "metadata": {
    "pycharm": {
     "name": "#%%\n"
    }
   },
   "outputs": [],
   "source": [
    "m.pf"
   ]
  },
  {
   "cell_type": "code",
   "execution_count": null,
   "id": "cac8c9c2",
   "metadata": {
    "pycharm": {
     "name": "#%%\n"
    }
   },
   "outputs": [],
   "source": [
    "m.dataset['ca'][0]"
   ]
  },
  {
   "cell_type": "code",
   "execution_count": null,
   "id": "f889fca3",
   "metadata": {
    "pycharm": {
     "name": "#%%\n"
    }
   },
   "outputs": [],
   "source": [
    "m.pvals = 'null'\n",
    "m.pvals = {'conven': -1}\n",
    "m.jax_loglike_casewise(m.pvals)"
   ]
  },
  {
   "cell_type": "code",
   "execution_count": null,
   "id": "c22d3259",
   "metadata": {
    "pycharm": {
     "name": "#%%\n"
    }
   },
   "outputs": [],
   "source": [
    "print(\"Ndraws Time(s) Log-Likeli.\")\n",
    "for n_draws in [100, 200, 300, 500, 1000]:\n",
    "    np.random.seed(0)\n",
    "    start_time = time()\n",
    "    m = lx.Model(d)\n",
    "    m.utility_ca = sum(lx.PX(i) for i in varnames)\n",
    "    m.choice_ca_var = 'choice'\n",
    "    randvars = {'meals': 'n', 'petfr': 'n', 'emipp': 'n'}\n",
    "    for k in randvars:\n",
    "        m.mix_parameter(k, f\"{k}_s\")\n",
    "    m.n_draws = n_draws\n",
    "    m.prerolled = False\n",
    "    r = m.jax_maximize_loglike()\n",
    "    ellapsed = time() - start_time\n",
    "    print(\"{:6} {:7.2f} {:11.2f}\".format(n_draws, ellapsed, r.loglike))\n",
    "    rdf.loc[len(rdf)] = ['larix_cpu', n_draws, ellapsed]"
   ]
  },
  {
   "cell_type": "code",
   "execution_count": null,
   "id": "73ec0e55",
   "metadata": {
    "pycharm": {
     "name": "#%%\n"
    }
   },
   "outputs": [],
   "source": [
    "m.n_draws = 5000"
   ]
  },
  {
   "cell_type": "code",
   "execution_count": null,
   "id": "ab900aea",
   "metadata": {
    "pycharm": {
     "name": "#%%\n"
    }
   },
   "outputs": [],
   "source": []
  },
  {
   "cell_type": "code",
   "execution_count": null,
   "id": "5a077df0",
   "metadata": {
    "pycharm": {
     "name": "#%%\n"
    }
   },
   "outputs": [],
   "source": [
    "m._draws.shape"
   ]
  },
  {
   "cell_type": "code",
   "execution_count": null,
   "id": "eff34064",
   "metadata": {
    "pycharm": {
     "name": "#%%\n"
    }
   },
   "outputs": [],
   "source": [
    "from xlogit import MixedLogit\n",
    "MixedLogit.check_if_gpu_available()"
   ]
  },
  {
   "cell_type": "code",
   "execution_count": null,
   "id": "e8177afe",
   "metadata": {
    "pycharm": {
     "name": "#%%\n"
    }
   },
   "outputs": [],
   "source": [
    "# Prepare input data\n",
    "varnames = ['price', 'time', 'conven', 'comfort', 'meals', 'petfr',\n",
    "            'emipp', 'nonsig1', 'nonsig2', 'nonsig3']\n",
    "X = df[varnames]\n",
    "y = df['choice']\n",
    "randvars = {'meals': 'n', 'petfr': 'n', 'emipp': 'n'}\n",
    "alts = df['alt']\n",
    "ids = df['id']\n",
    "panel = df['panel']"
   ]
  },
  {
   "cell_type": "code",
   "execution_count": null,
   "id": "16fd06b1",
   "metadata": {
    "pycharm": {
     "name": "#%%\n"
    }
   },
   "outputs": [],
   "source": [
    "print(\"Ndraws Time(s) Log-Likeli.\")\n",
    "for n_draws in [100, ]:\n",
    "    np.random.seed(0)\n",
    "    start_time = time()\n",
    "    model = MixedLogit()\n",
    "    model.fit(X, y, varnames, ids=ids, alts=alts, n_draws=n_draws, verbose=0, randvars=randvars, panels=panel)\n",
    "    ellapsed = time() - start_time\n",
    "    print(\"{:6} {:7.2f} {:11.2f}\".format(n_draws, ellapsed, model.loglikelihood))\n",
    "    rdf.loc[len(rdf)] = ['xlogit_cpu', n_draws, ellapsed]"
   ]
  },
  {
   "cell_type": "code",
   "execution_count": null,
   "id": "3fb82396",
   "metadata": {
    "pycharm": {
     "name": "#%%\n"
    }
   },
   "outputs": [],
   "source": [
    "m.pf"
   ]
  },
  {
   "cell_type": "code",
   "execution_count": null,
   "id": "effeb83e",
   "metadata": {
    "pycharm": {
     "name": "#%%\n"
    }
   },
   "outputs": [],
   "source": [
    "pd.Series(model.coeff_, index=model.coeff_names).to_dict()\n"
   ]
  },
  {
   "cell_type": "code",
   "execution_count": null,
   "id": "47ef30aa",
   "metadata": {
    "pycharm": {
     "name": "#%%\n"
    }
   },
   "outputs": [],
   "source": [
    "m.pvals = pd.Series(model.coeff_, index=model.coeff_names).to_dict()\n",
    "m.jax_loglike(m.pvals)"
   ]
  },
  {
   "cell_type": "code",
   "execution_count": null,
   "id": "a2d0741f",
   "metadata": {
    "pycharm": {
     "name": "#%%\n"
    }
   },
   "outputs": [],
   "source": [
    "m._draws.shape"
   ]
  },
  {
   "cell_type": "code",
   "execution_count": null,
   "id": "eb034dfd",
   "metadata": {
    "pycharm": {
     "name": "#%%\n"
    }
   },
   "outputs": [],
   "source": [
    "from jax import random\n",
    "\n",
    "key = random.PRNGKey(42)\n",
    "subkeys = random.split(key, 3)\n",
    "sequence = np.stack([random.normal(subkey) for subkey in subkeys])\n",
    "print(\"individually:\", sequence)\n",
    "\n",
    "key = random.PRNGKey(42)\n",
    "print(\"all at once: \", random.normal(key, shape=(3,)))"
   ]
  },
  {
   "cell_type": "code",
   "execution_count": null,
   "id": "b19beda3",
   "metadata": {
    "pycharm": {
     "name": "#%%\n"
    }
   },
   "outputs": [],
   "source": [
    "%timeit j = random.uniform(key, shape=(1000,))"
   ]
  },
  {
   "cell_type": "code",
   "execution_count": null,
   "id": "9909e90d",
   "metadata": {
    "pycharm": {
     "name": "#%%\n"
    }
   },
   "outputs": [],
   "source": [
    "%timeit jj = np.random.uniform(size=(1000,))"
   ]
  },
  {
   "cell_type": "code",
   "execution_count": null,
   "id": "ba2e0de2",
   "metadata": {
    "pycharm": {
     "name": "#%%\n"
    }
   },
   "outputs": [],
   "source": [
    "random.shuffle(key)"
   ]
  },
  {
   "cell_type": "code",
   "execution_count": null,
   "id": "7bb74bcf",
   "metadata": {
    "pycharm": {
     "name": "#%%\n"
    }
   },
   "outputs": [],
   "source": [
    "key, subkey = random.split(key)\n",
    "key"
   ]
  },
  {
   "cell_type": "code",
   "execution_count": null,
   "id": "d854e88c",
   "metadata": {
    "pycharm": {
     "name": "#%%\n"
    }
   },
   "outputs": [],
   "source": [
    "import jax.numpy as jnp"
   ]
  },
  {
   "cell_type": "code",
   "execution_count": null,
   "id": "9b149b52",
   "metadata": {
    "pycharm": {
     "name": "#%%\n"
    }
   },
   "outputs": [],
   "source": [
    "(jnp.arange(100)+random.uniform(key, shape=(100,)))/100"
   ]
  },
  {
   "cell_type": "code",
   "execution_count": null,
   "id": "406152ca",
   "metadata": {
    "pycharm": {
     "name": "#%%\n"
    }
   },
   "outputs": [],
   "source": []
  }
 ],
 "metadata": {
  "kernelspec": {
   "display_name": "Python 3 (ipykernel)",
   "language": "python",
   "name": "python3"
  },
  "language_info": {
   "codemirror_mode": {
    "name": "ipython",
    "version": 3
   },
   "file_extension": ".py",
   "mimetype": "text/x-python",
   "name": "python",
   "nbconvert_exporter": "python",
   "pygments_lexer": "ipython3",
   "version": "3.9.10"
  },
  "toc": {
   "base_numbering": 1,
   "nav_menu": {},
   "number_sections": false,
   "sideBar": true,
   "skip_h1_title": false,
   "title_cell": "Table of Contents",
   "title_sidebar": "Contents",
   "toc_cell": false,
   "toc_position": {},
   "toc_section_display": true,
   "toc_window_display": false
  }
 },
 "nbformat": 4,
 "nbformat_minor": 5
}
