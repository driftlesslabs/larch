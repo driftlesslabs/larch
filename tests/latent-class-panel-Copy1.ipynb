{
 "cells": [
  {
   "cell_type": "code",
   "execution_count": 1,
   "id": "bb515acf",
   "metadata": {
    "ExecuteTime": {
     "end_time": "2022-03-05T19:32:50.403451Z",
     "start_time": "2022-03-05T19:32:46.276914Z"
    }
   },
   "outputs": [
    {
     "name": "stderr",
     "output_type": "stream",
     "text": [
      "/Users/jeffnewman/LocalGit/larch/larch/numba/model.py:23: UserWarning: \n",
      "\n",
      "### larch.numba is experimental, and not feature-complete ###\n",
      " the first time you import on a new system, this package will\n",
      " compile optimized binaries for your machine, which may take \n",
      " a little while, please be patient \n",
      "\n",
      "  warnings.warn( ### EXPERIMENTAL ### )\n",
      "OMP: Info #273: omp_set_nested routine deprecated, please use omp_set_max_active_levels instead.\n"
     ]
    }
   ],
   "source": [
    "import larix as lx\n",
    "import pandas as pd\n",
    "from larch.roles import P,X\n",
    "\n",
    "import numpy as np\n",
    "import xarray as xr\n",
    "from pytest import approx"
   ]
  },
  {
   "cell_type": "code",
   "execution_count": 2,
   "id": "9572102b",
   "metadata": {
    "ExecuteTime": {
     "end_time": "2022-03-05T19:32:50.449705Z",
     "start_time": "2022-03-05T19:32:50.405708Z"
    }
   },
   "outputs": [],
   "source": [
    "raw = pd.read_csv(lx.example_file('swissmetro.csv.gz'))\n",
    "raw['SM_COST'] = raw['SM_CO'] * (raw[\"GA\"]==0) \n",
    "raw['TRAIN_COST'] = raw.eval(\"TRAIN_CO * (GA == 0)\") \n",
    "raw['TRAIN_COST_SCALED'] = raw['TRAIN_COST'] / 100\n",
    "raw['TRAIN_TT_SCALED'] = raw['TRAIN_TT'] / 100\n",
    "\n",
    "raw['SM_COST_SCALED'] = raw.eval('SM_COST / 100')\n",
    "raw['SM_TT_SCALED'] = raw['SM_TT'] / 100\n",
    "\n",
    "raw['CAR_CO_SCALED'] = raw['CAR_CO'] / 100\n",
    "raw['CAR_TT_SCALED'] = raw['CAR_TT'] / 100\n",
    "raw['CAR_AV_SP'] = raw.eval(\"CAR_AV * (SP!=0)\")\n",
    "raw['TRAIN_AV_SP'] = raw.eval(\"TRAIN_AV * (SP!=0)\")\n",
    "\n",
    "raw['keep'] = raw.eval(\"PURPOSE in (1,3) and CHOICE != 0\")"
   ]
  },
  {
   "cell_type": "code",
   "execution_count": 3,
   "id": "4cf2fa49",
   "metadata": {
    "ExecuteTime": {
     "end_time": "2022-03-05T19:32:50.474965Z",
     "start_time": "2022-03-05T19:32:50.451240Z"
    }
   },
   "outputs": [
    {
     "data": {
      "text/html": [
       "<div>\n",
       "<style scoped>\n",
       "    .dataframe tbody tr th:only-of-type {\n",
       "        vertical-align: middle;\n",
       "    }\n",
       "\n",
       "    .dataframe tbody tr th {\n",
       "        vertical-align: top;\n",
       "    }\n",
       "\n",
       "    .dataframe thead th {\n",
       "        text-align: right;\n",
       "    }\n",
       "</style>\n",
       "<table border=\"1\" class=\"dataframe\">\n",
       "  <thead>\n",
       "    <tr style=\"text-align: right;\">\n",
       "      <th></th>\n",
       "      <th>GROUP</th>\n",
       "      <th>SURVEY</th>\n",
       "      <th>SP</th>\n",
       "      <th>ID</th>\n",
       "      <th>PURPOSE</th>\n",
       "      <th>FIRST</th>\n",
       "      <th>TICKET</th>\n",
       "      <th>WHO</th>\n",
       "      <th>LUGGAGE</th>\n",
       "      <th>AGE</th>\n",
       "      <th>...</th>\n",
       "      <th>TRAIN_COST</th>\n",
       "      <th>TRAIN_COST_SCALED</th>\n",
       "      <th>TRAIN_TT_SCALED</th>\n",
       "      <th>SM_COST_SCALED</th>\n",
       "      <th>SM_TT_SCALED</th>\n",
       "      <th>CAR_CO_SCALED</th>\n",
       "      <th>CAR_TT_SCALED</th>\n",
       "      <th>CAR_AV_SP</th>\n",
       "      <th>TRAIN_AV_SP</th>\n",
       "      <th>keep</th>\n",
       "    </tr>\n",
       "  </thead>\n",
       "  <tbody>\n",
       "    <tr>\n",
       "      <th>0</th>\n",
       "      <td>2</td>\n",
       "      <td>0</td>\n",
       "      <td>1</td>\n",
       "      <td>1</td>\n",
       "      <td>1</td>\n",
       "      <td>0</td>\n",
       "      <td>1</td>\n",
       "      <td>1</td>\n",
       "      <td>0</td>\n",
       "      <td>3</td>\n",
       "      <td>...</td>\n",
       "      <td>48</td>\n",
       "      <td>0.48</td>\n",
       "      <td>1.12</td>\n",
       "      <td>0.52</td>\n",
       "      <td>0.63</td>\n",
       "      <td>0.65</td>\n",
       "      <td>1.17</td>\n",
       "      <td>1</td>\n",
       "      <td>1</td>\n",
       "      <td>True</td>\n",
       "    </tr>\n",
       "    <tr>\n",
       "      <th>1</th>\n",
       "      <td>2</td>\n",
       "      <td>0</td>\n",
       "      <td>1</td>\n",
       "      <td>1</td>\n",
       "      <td>1</td>\n",
       "      <td>0</td>\n",
       "      <td>1</td>\n",
       "      <td>1</td>\n",
       "      <td>0</td>\n",
       "      <td>3</td>\n",
       "      <td>...</td>\n",
       "      <td>48</td>\n",
       "      <td>0.48</td>\n",
       "      <td>1.03</td>\n",
       "      <td>0.49</td>\n",
       "      <td>0.60</td>\n",
       "      <td>0.84</td>\n",
       "      <td>1.17</td>\n",
       "      <td>1</td>\n",
       "      <td>1</td>\n",
       "      <td>True</td>\n",
       "    </tr>\n",
       "    <tr>\n",
       "      <th>2</th>\n",
       "      <td>2</td>\n",
       "      <td>0</td>\n",
       "      <td>1</td>\n",
       "      <td>1</td>\n",
       "      <td>1</td>\n",
       "      <td>0</td>\n",
       "      <td>1</td>\n",
       "      <td>1</td>\n",
       "      <td>0</td>\n",
       "      <td>3</td>\n",
       "      <td>...</td>\n",
       "      <td>48</td>\n",
       "      <td>0.48</td>\n",
       "      <td>1.30</td>\n",
       "      <td>0.58</td>\n",
       "      <td>0.67</td>\n",
       "      <td>0.52</td>\n",
       "      <td>1.17</td>\n",
       "      <td>1</td>\n",
       "      <td>1</td>\n",
       "      <td>True</td>\n",
       "    </tr>\n",
       "    <tr>\n",
       "      <th>3</th>\n",
       "      <td>2</td>\n",
       "      <td>0</td>\n",
       "      <td>1</td>\n",
       "      <td>1</td>\n",
       "      <td>1</td>\n",
       "      <td>0</td>\n",
       "      <td>1</td>\n",
       "      <td>1</td>\n",
       "      <td>0</td>\n",
       "      <td>3</td>\n",
       "      <td>...</td>\n",
       "      <td>40</td>\n",
       "      <td>0.40</td>\n",
       "      <td>1.03</td>\n",
       "      <td>0.52</td>\n",
       "      <td>0.63</td>\n",
       "      <td>0.52</td>\n",
       "      <td>0.72</td>\n",
       "      <td>1</td>\n",
       "      <td>1</td>\n",
       "      <td>True</td>\n",
       "    </tr>\n",
       "    <tr>\n",
       "      <th>4</th>\n",
       "      <td>2</td>\n",
       "      <td>0</td>\n",
       "      <td>1</td>\n",
       "      <td>1</td>\n",
       "      <td>1</td>\n",
       "      <td>0</td>\n",
       "      <td>1</td>\n",
       "      <td>1</td>\n",
       "      <td>0</td>\n",
       "      <td>3</td>\n",
       "      <td>...</td>\n",
       "      <td>36</td>\n",
       "      <td>0.36</td>\n",
       "      <td>1.30</td>\n",
       "      <td>0.42</td>\n",
       "      <td>0.63</td>\n",
       "      <td>0.84</td>\n",
       "      <td>0.90</td>\n",
       "      <td>1</td>\n",
       "      <td>1</td>\n",
       "      <td>True</td>\n",
       "    </tr>\n",
       "    <tr>\n",
       "      <th>...</th>\n",
       "      <td>...</td>\n",
       "      <td>...</td>\n",
       "      <td>...</td>\n",
       "      <td>...</td>\n",
       "      <td>...</td>\n",
       "      <td>...</td>\n",
       "      <td>...</td>\n",
       "      <td>...</td>\n",
       "      <td>...</td>\n",
       "      <td>...</td>\n",
       "      <td>...</td>\n",
       "      <td>...</td>\n",
       "      <td>...</td>\n",
       "      <td>...</td>\n",
       "      <td>...</td>\n",
       "      <td>...</td>\n",
       "      <td>...</td>\n",
       "      <td>...</td>\n",
       "      <td>...</td>\n",
       "      <td>...</td>\n",
       "      <td>...</td>\n",
       "    </tr>\n",
       "    <tr>\n",
       "      <th>10723</th>\n",
       "      <td>3</td>\n",
       "      <td>1</td>\n",
       "      <td>1</td>\n",
       "      <td>1192</td>\n",
       "      <td>4</td>\n",
       "      <td>1</td>\n",
       "      <td>7</td>\n",
       "      <td>1</td>\n",
       "      <td>0</td>\n",
       "      <td>5</td>\n",
       "      <td>...</td>\n",
       "      <td>13</td>\n",
       "      <td>0.13</td>\n",
       "      <td>1.48</td>\n",
       "      <td>0.17</td>\n",
       "      <td>0.93</td>\n",
       "      <td>0.56</td>\n",
       "      <td>1.56</td>\n",
       "      <td>1</td>\n",
       "      <td>1</td>\n",
       "      <td>False</td>\n",
       "    </tr>\n",
       "    <tr>\n",
       "      <th>10724</th>\n",
       "      <td>3</td>\n",
       "      <td>1</td>\n",
       "      <td>1</td>\n",
       "      <td>1192</td>\n",
       "      <td>4</td>\n",
       "      <td>1</td>\n",
       "      <td>7</td>\n",
       "      <td>1</td>\n",
       "      <td>0</td>\n",
       "      <td>5</td>\n",
       "      <td>...</td>\n",
       "      <td>12</td>\n",
       "      <td>0.12</td>\n",
       "      <td>1.48</td>\n",
       "      <td>0.16</td>\n",
       "      <td>0.96</td>\n",
       "      <td>0.70</td>\n",
       "      <td>0.96</td>\n",
       "      <td>1</td>\n",
       "      <td>1</td>\n",
       "      <td>False</td>\n",
       "    </tr>\n",
       "    <tr>\n",
       "      <th>10725</th>\n",
       "      <td>3</td>\n",
       "      <td>1</td>\n",
       "      <td>1</td>\n",
       "      <td>1192</td>\n",
       "      <td>4</td>\n",
       "      <td>1</td>\n",
       "      <td>7</td>\n",
       "      <td>1</td>\n",
       "      <td>0</td>\n",
       "      <td>5</td>\n",
       "      <td>...</td>\n",
       "      <td>16</td>\n",
       "      <td>0.16</td>\n",
       "      <td>1.48</td>\n",
       "      <td>0.16</td>\n",
       "      <td>0.93</td>\n",
       "      <td>0.56</td>\n",
       "      <td>0.96</td>\n",
       "      <td>1</td>\n",
       "      <td>1</td>\n",
       "      <td>False</td>\n",
       "    </tr>\n",
       "    <tr>\n",
       "      <th>10726</th>\n",
       "      <td>3</td>\n",
       "      <td>1</td>\n",
       "      <td>1</td>\n",
       "      <td>1192</td>\n",
       "      <td>4</td>\n",
       "      <td>1</td>\n",
       "      <td>7</td>\n",
       "      <td>1</td>\n",
       "      <td>0</td>\n",
       "      <td>5</td>\n",
       "      <td>...</td>\n",
       "      <td>16</td>\n",
       "      <td>0.16</td>\n",
       "      <td>1.78</td>\n",
       "      <td>0.17</td>\n",
       "      <td>0.96</td>\n",
       "      <td>0.91</td>\n",
       "      <td>0.96</td>\n",
       "      <td>1</td>\n",
       "      <td>1</td>\n",
       "      <td>False</td>\n",
       "    </tr>\n",
       "    <tr>\n",
       "      <th>10727</th>\n",
       "      <td>3</td>\n",
       "      <td>1</td>\n",
       "      <td>1</td>\n",
       "      <td>1192</td>\n",
       "      <td>4</td>\n",
       "      <td>1</td>\n",
       "      <td>7</td>\n",
       "      <td>1</td>\n",
       "      <td>0</td>\n",
       "      <td>5</td>\n",
       "      <td>...</td>\n",
       "      <td>13</td>\n",
       "      <td>0.13</td>\n",
       "      <td>1.48</td>\n",
       "      <td>0.21</td>\n",
       "      <td>0.96</td>\n",
       "      <td>0.70</td>\n",
       "      <td>1.20</td>\n",
       "      <td>1</td>\n",
       "      <td>1</td>\n",
       "      <td>False</td>\n",
       "    </tr>\n",
       "  </tbody>\n",
       "</table>\n",
       "<p>10728 rows × 39 columns</p>\n",
       "</div>"
      ],
      "text/plain": [
       "       GROUP  SURVEY  SP    ID  PURPOSE  FIRST  TICKET  WHO  LUGGAGE  AGE  \\\n",
       "0          2       0   1     1        1      0       1    1        0    3   \n",
       "1          2       0   1     1        1      0       1    1        0    3   \n",
       "2          2       0   1     1        1      0       1    1        0    3   \n",
       "3          2       0   1     1        1      0       1    1        0    3   \n",
       "4          2       0   1     1        1      0       1    1        0    3   \n",
       "...      ...     ...  ..   ...      ...    ...     ...  ...      ...  ...   \n",
       "10723      3       1   1  1192        4      1       7    1        0    5   \n",
       "10724      3       1   1  1192        4      1       7    1        0    5   \n",
       "10725      3       1   1  1192        4      1       7    1        0    5   \n",
       "10726      3       1   1  1192        4      1       7    1        0    5   \n",
       "10727      3       1   1  1192        4      1       7    1        0    5   \n",
       "\n",
       "       ...  TRAIN_COST  TRAIN_COST_SCALED  TRAIN_TT_SCALED  SM_COST_SCALED  \\\n",
       "0      ...          48               0.48             1.12            0.52   \n",
       "1      ...          48               0.48             1.03            0.49   \n",
       "2      ...          48               0.48             1.30            0.58   \n",
       "3      ...          40               0.40             1.03            0.52   \n",
       "4      ...          36               0.36             1.30            0.42   \n",
       "...    ...         ...                ...              ...             ...   \n",
       "10723  ...          13               0.13             1.48            0.17   \n",
       "10724  ...          12               0.12             1.48            0.16   \n",
       "10725  ...          16               0.16             1.48            0.16   \n",
       "10726  ...          16               0.16             1.78            0.17   \n",
       "10727  ...          13               0.13             1.48            0.21   \n",
       "\n",
       "       SM_TT_SCALED  CAR_CO_SCALED  CAR_TT_SCALED  CAR_AV_SP  TRAIN_AV_SP  \\\n",
       "0              0.63           0.65           1.17          1            1   \n",
       "1              0.60           0.84           1.17          1            1   \n",
       "2              0.67           0.52           1.17          1            1   \n",
       "3              0.63           0.52           0.72          1            1   \n",
       "4              0.63           0.84           0.90          1            1   \n",
       "...             ...            ...            ...        ...          ...   \n",
       "10723          0.93           0.56           1.56          1            1   \n",
       "10724          0.96           0.70           0.96          1            1   \n",
       "10725          0.93           0.56           0.96          1            1   \n",
       "10726          0.96           0.91           0.96          1            1   \n",
       "10727          0.96           0.70           1.20          1            1   \n",
       "\n",
       "        keep  \n",
       "0       True  \n",
       "1       True  \n",
       "2       True  \n",
       "3       True  \n",
       "4       True  \n",
       "...      ...  \n",
       "10723  False  \n",
       "10724  False  \n",
       "10725  False  \n",
       "10726  False  \n",
       "10727  False  \n",
       "\n",
       "[10728 rows x 39 columns]"
      ]
     },
     "execution_count": 3,
     "metadata": {},
     "output_type": "execute_result"
    }
   ],
   "source": [
    "raw"
   ]
  },
  {
   "cell_type": "code",
   "execution_count": 4,
   "id": "a47136be",
   "metadata": {
    "ExecuteTime": {
     "end_time": "2022-03-05T19:32:50.558491Z",
     "start_time": "2022-03-05T19:32:50.477378Z"
    }
   },
   "outputs": [],
   "source": [
    "data = lx.Dataset.construct.from_idco(raw).dc.query_cases('keep')"
   ]
  },
  {
   "cell_type": "code",
   "execution_count": 5,
   "id": "968faa2b",
   "metadata": {
    "ExecuteTime": {
     "end_time": "2022-03-05T19:32:50.566383Z",
     "start_time": "2022-03-05T19:32:50.560007Z"
    }
   },
   "outputs": [],
   "source": [
    "m1 = lx.Model(\n",
    "    data.dc.set_altids([1,2,3])\n",
    ")\n",
    "m1.availability_co_vars = {\n",
    "    1: \"TRAIN_AV_SP\",\n",
    "    2: \"SM_AV\",\n",
    "    3: \"CAR_AV_SP\",\n",
    "}\n",
    "m1.choice_co_code = 'CHOICE'\n",
    "\n",
    "m1.utility_co[1] = P(\"ASC_TRAIN\") + X(\"TRAIN_COST_SCALED\") * P(\"B_COST\")\n",
    "m1.utility_co[2] = X(\"SM_COST_SCALED\") * P(\"B_COST\")\n",
    "m1.utility_co[3] = P(\"ASC_CAR\") + X(\"CAR_CO_SCALED\") * P(\"B_COST\")"
   ]
  },
  {
   "cell_type": "code",
   "execution_count": 6,
   "id": "124acfd6",
   "metadata": {
    "ExecuteTime": {
     "end_time": "2022-03-05T19:32:52.893534Z",
     "start_time": "2022-03-05T19:32:50.567853Z"
    }
   },
   "outputs": [
    {
     "data": {
      "text/html": [
       "<div><svg style=\"position: absolute; width: 0; height: 0; overflow: hidden\">\n",
       "<defs>\n",
       "<symbol id=\"icon-database\" viewBox=\"0 0 32 32\">\n",
       "<path d=\"M16 0c-8.837 0-16 2.239-16 5v4c0 2.761 7.163 5 16 5s16-2.239 16-5v-4c0-2.761-7.163-5-16-5z\"></path>\n",
       "<path d=\"M16 17c-8.837 0-16-2.239-16-5v6c0 2.761 7.163 5 16 5s16-2.239 16-5v-6c0 2.761-7.163 5-16 5z\"></path>\n",
       "<path d=\"M16 26c-8.837 0-16-2.239-16-5v6c0 2.761 7.163 5 16 5s16-2.239 16-5v-6c0 2.761-7.163 5-16 5z\"></path>\n",
       "</symbol>\n",
       "<symbol id=\"icon-file-text2\" viewBox=\"0 0 32 32\">\n",
       "<path d=\"M28.681 7.159c-0.694-0.947-1.662-2.053-2.724-3.116s-2.169-2.030-3.116-2.724c-1.612-1.182-2.393-1.319-2.841-1.319h-15.5c-1.378 0-2.5 1.121-2.5 2.5v27c0 1.378 1.122 2.5 2.5 2.5h23c1.378 0 2.5-1.122 2.5-2.5v-19.5c0-0.448-0.137-1.23-1.319-2.841zM24.543 5.457c0.959 0.959 1.712 1.825 2.268 2.543h-4.811v-4.811c0.718 0.556 1.584 1.309 2.543 2.268zM28 29.5c0 0.271-0.229 0.5-0.5 0.5h-23c-0.271 0-0.5-0.229-0.5-0.5v-27c0-0.271 0.229-0.5 0.5-0.5 0 0 15.499-0 15.5 0v7c0 0.552 0.448 1 1 1h7v19.5z\"></path>\n",
       "<path d=\"M23 26h-14c-0.552 0-1-0.448-1-1s0.448-1 1-1h14c0.552 0 1 0.448 1 1s-0.448 1-1 1z\"></path>\n",
       "<path d=\"M23 22h-14c-0.552 0-1-0.448-1-1s0.448-1 1-1h14c0.552 0 1 0.448 1 1s-0.448 1-1 1z\"></path>\n",
       "<path d=\"M23 18h-14c-0.552 0-1-0.448-1-1s0.448-1 1-1h14c0.552 0 1 0.448 1 1s-0.448 1-1 1z\"></path>\n",
       "</symbol>\n",
       "</defs>\n",
       "</svg>\n",
       "<style>/* CSS stylesheet for displaying xarray objects in jupyterlab.\n",
       " *\n",
       " */\n",
       "\n",
       ":root {\n",
       "  --xr-font-color0: var(--jp-content-font-color0, rgba(0, 0, 0, 1));\n",
       "  --xr-font-color2: var(--jp-content-font-color2, rgba(0, 0, 0, 0.54));\n",
       "  --xr-font-color3: var(--jp-content-font-color3, rgba(0, 0, 0, 0.38));\n",
       "  --xr-border-color: var(--jp-border-color2, #e0e0e0);\n",
       "  --xr-disabled-color: var(--jp-layout-color3, #bdbdbd);\n",
       "  --xr-background-color: var(--jp-layout-color0, white);\n",
       "  --xr-background-color-row-even: var(--jp-layout-color1, white);\n",
       "  --xr-background-color-row-odd: var(--jp-layout-color2, #eeeeee);\n",
       "}\n",
       "\n",
       "html[theme=dark],\n",
       "body.vscode-dark {\n",
       "  --xr-font-color0: rgba(255, 255, 255, 1);\n",
       "  --xr-font-color2: rgba(255, 255, 255, 0.54);\n",
       "  --xr-font-color3: rgba(255, 255, 255, 0.38);\n",
       "  --xr-border-color: #1F1F1F;\n",
       "  --xr-disabled-color: #515151;\n",
       "  --xr-background-color: #111111;\n",
       "  --xr-background-color-row-even: #111111;\n",
       "  --xr-background-color-row-odd: #313131;\n",
       "}\n",
       "\n",
       ".xr-wrap {\n",
       "  display: block !important;\n",
       "  min-width: 300px;\n",
       "  max-width: 700px;\n",
       "}\n",
       "\n",
       ".xr-text-repr-fallback {\n",
       "  /* fallback to plain text repr when CSS is not injected (untrusted notebook) */\n",
       "  display: none;\n",
       "}\n",
       "\n",
       ".xr-header {\n",
       "  padding-top: 6px;\n",
       "  padding-bottom: 6px;\n",
       "  margin-bottom: 4px;\n",
       "  border-bottom: solid 1px var(--xr-border-color);\n",
       "}\n",
       "\n",
       ".xr-header > div,\n",
       ".xr-header > ul {\n",
       "  display: inline;\n",
       "  margin-top: 0;\n",
       "  margin-bottom: 0;\n",
       "}\n",
       "\n",
       ".xr-obj-type,\n",
       ".xr-array-name {\n",
       "  margin-left: 2px;\n",
       "  margin-right: 10px;\n",
       "}\n",
       "\n",
       ".xr-obj-type {\n",
       "  color: var(--xr-font-color2);\n",
       "}\n",
       "\n",
       ".xr-sections {\n",
       "  padding-left: 0 !important;\n",
       "  display: grid;\n",
       "  grid-template-columns: 150px auto auto 1fr 20px 20px;\n",
       "}\n",
       "\n",
       ".xr-section-item {\n",
       "  display: contents;\n",
       "}\n",
       "\n",
       ".xr-section-item input {\n",
       "  display: none;\n",
       "}\n",
       "\n",
       ".xr-section-item input + label {\n",
       "  color: var(--xr-disabled-color);\n",
       "}\n",
       "\n",
       ".xr-section-item input:enabled + label {\n",
       "  cursor: pointer;\n",
       "  color: var(--xr-font-color2);\n",
       "}\n",
       "\n",
       ".xr-section-item input:enabled + label:hover {\n",
       "  color: var(--xr-font-color0);\n",
       "}\n",
       "\n",
       ".xr-section-summary {\n",
       "  grid-column: 1;\n",
       "  color: var(--xr-font-color2);\n",
       "  font-weight: 500;\n",
       "}\n",
       "\n",
       ".xr-section-summary > span {\n",
       "  display: inline-block;\n",
       "  padding-left: 0.5em;\n",
       "}\n",
       "\n",
       ".xr-section-summary-in:disabled + label {\n",
       "  color: var(--xr-font-color2);\n",
       "}\n",
       "\n",
       ".xr-section-summary-in + label:before {\n",
       "  display: inline-block;\n",
       "  content: '►';\n",
       "  font-size: 11px;\n",
       "  width: 15px;\n",
       "  text-align: center;\n",
       "}\n",
       "\n",
       ".xr-section-summary-in:disabled + label:before {\n",
       "  color: var(--xr-disabled-color);\n",
       "}\n",
       "\n",
       ".xr-section-summary-in:checked + label:before {\n",
       "  content: '▼';\n",
       "}\n",
       "\n",
       ".xr-section-summary-in:checked + label > span {\n",
       "  display: none;\n",
       "}\n",
       "\n",
       ".xr-section-summary,\n",
       ".xr-section-inline-details {\n",
       "  padding-top: 4px;\n",
       "  padding-bottom: 4px;\n",
       "}\n",
       "\n",
       ".xr-section-inline-details {\n",
       "  grid-column: 2 / -1;\n",
       "}\n",
       "\n",
       ".xr-section-details {\n",
       "  display: none;\n",
       "  grid-column: 1 / -1;\n",
       "  margin-bottom: 5px;\n",
       "}\n",
       "\n",
       ".xr-section-summary-in:checked ~ .xr-section-details {\n",
       "  display: contents;\n",
       "}\n",
       "\n",
       ".xr-array-wrap {\n",
       "  grid-column: 1 / -1;\n",
       "  display: grid;\n",
       "  grid-template-columns: 20px auto;\n",
       "}\n",
       "\n",
       ".xr-array-wrap > label {\n",
       "  grid-column: 1;\n",
       "  vertical-align: top;\n",
       "}\n",
       "\n",
       ".xr-preview {\n",
       "  color: var(--xr-font-color3);\n",
       "}\n",
       "\n",
       ".xr-array-preview,\n",
       ".xr-array-data {\n",
       "  padding: 0 5px !important;\n",
       "  grid-column: 2;\n",
       "}\n",
       "\n",
       ".xr-array-data,\n",
       ".xr-array-in:checked ~ .xr-array-preview {\n",
       "  display: none;\n",
       "}\n",
       "\n",
       ".xr-array-in:checked ~ .xr-array-data,\n",
       ".xr-array-preview {\n",
       "  display: inline-block;\n",
       "}\n",
       "\n",
       ".xr-dim-list {\n",
       "  display: inline-block !important;\n",
       "  list-style: none;\n",
       "  padding: 0 !important;\n",
       "  margin: 0;\n",
       "}\n",
       "\n",
       ".xr-dim-list li {\n",
       "  display: inline-block;\n",
       "  padding: 0;\n",
       "  margin: 0;\n",
       "}\n",
       "\n",
       ".xr-dim-list:before {\n",
       "  content: '(';\n",
       "}\n",
       "\n",
       ".xr-dim-list:after {\n",
       "  content: ')';\n",
       "}\n",
       "\n",
       ".xr-dim-list li:not(:last-child):after {\n",
       "  content: ',';\n",
       "  padding-right: 5px;\n",
       "}\n",
       "\n",
       ".xr-has-index {\n",
       "  font-weight: bold;\n",
       "}\n",
       "\n",
       ".xr-var-list,\n",
       ".xr-var-item {\n",
       "  display: contents;\n",
       "}\n",
       "\n",
       ".xr-var-item > div,\n",
       ".xr-var-item label,\n",
       ".xr-var-item > .xr-var-name span {\n",
       "  background-color: var(--xr-background-color-row-even);\n",
       "  margin-bottom: 0;\n",
       "}\n",
       "\n",
       ".xr-var-item > .xr-var-name:hover span {\n",
       "  padding-right: 5px;\n",
       "}\n",
       "\n",
       ".xr-var-list > li:nth-child(odd) > div,\n",
       ".xr-var-list > li:nth-child(odd) > label,\n",
       ".xr-var-list > li:nth-child(odd) > .xr-var-name span {\n",
       "  background-color: var(--xr-background-color-row-odd);\n",
       "}\n",
       "\n",
       ".xr-var-name {\n",
       "  grid-column: 1;\n",
       "}\n",
       "\n",
       ".xr-var-dims {\n",
       "  grid-column: 2;\n",
       "}\n",
       "\n",
       ".xr-var-dtype {\n",
       "  grid-column: 3;\n",
       "  text-align: right;\n",
       "  color: var(--xr-font-color2);\n",
       "}\n",
       "\n",
       ".xr-var-preview {\n",
       "  grid-column: 4;\n",
       "}\n",
       "\n",
       ".xr-var-name,\n",
       ".xr-var-dims,\n",
       ".xr-var-dtype,\n",
       ".xr-preview,\n",
       ".xr-attrs dt {\n",
       "  white-space: nowrap;\n",
       "  overflow: hidden;\n",
       "  text-overflow: ellipsis;\n",
       "  padding-right: 10px;\n",
       "}\n",
       "\n",
       ".xr-var-name:hover,\n",
       ".xr-var-dims:hover,\n",
       ".xr-var-dtype:hover,\n",
       ".xr-attrs dt:hover {\n",
       "  overflow: visible;\n",
       "  width: auto;\n",
       "  z-index: 1;\n",
       "}\n",
       "\n",
       ".xr-var-attrs,\n",
       ".xr-var-data {\n",
       "  display: none;\n",
       "  background-color: var(--xr-background-color) !important;\n",
       "  padding-bottom: 5px !important;\n",
       "}\n",
       "\n",
       ".xr-var-attrs-in:checked ~ .xr-var-attrs,\n",
       ".xr-var-data-in:checked ~ .xr-var-data {\n",
       "  display: block;\n",
       "}\n",
       "\n",
       ".xr-var-data > table {\n",
       "  float: right;\n",
       "}\n",
       "\n",
       ".xr-var-name span,\n",
       ".xr-var-data,\n",
       ".xr-attrs {\n",
       "  padding-left: 25px !important;\n",
       "}\n",
       "\n",
       ".xr-attrs,\n",
       ".xr-var-attrs,\n",
       ".xr-var-data {\n",
       "  grid-column: 1 / -1;\n",
       "}\n",
       "\n",
       "dl.xr-attrs {\n",
       "  padding: 0;\n",
       "  margin: 0;\n",
       "  display: grid;\n",
       "  grid-template-columns: 125px auto;\n",
       "}\n",
       "\n",
       ".xr-attrs dt,\n",
       ".xr-attrs dd {\n",
       "  padding: 0;\n",
       "  margin: 0;\n",
       "  float: left;\n",
       "  padding-right: 10px;\n",
       "  width: auto;\n",
       "}\n",
       "\n",
       ".xr-attrs dt {\n",
       "  font-weight: normal;\n",
       "  grid-column: 1;\n",
       "}\n",
       "\n",
       ".xr-attrs dt:hover span {\n",
       "  display: inline-block;\n",
       "  background: var(--xr-background-color);\n",
       "  padding-right: 10px;\n",
       "}\n",
       "\n",
       ".xr-attrs dd {\n",
       "  grid-column: 2;\n",
       "  white-space: pre-wrap;\n",
       "  word-break: break-all;\n",
       "}\n",
       "\n",
       ".xr-icon-database,\n",
       ".xr-icon-file-text2 {\n",
       "  display: inline-block;\n",
       "  vertical-align: middle;\n",
       "  width: 1em;\n",
       "  height: 1.5em !important;\n",
       "  stroke-width: 0;\n",
       "  stroke: currentColor;\n",
       "  fill: currentColor;\n",
       "}\n",
       "</style><pre class='xr-text-repr-fallback'>&lt;xarray.Dataset&gt;\n",
       "Dimensions:     (param_name: 3)\n",
       "Coordinates:\n",
       "  * param_name  (param_name) object &#x27;ASC_CAR&#x27; &#x27;ASC_TRAIN&#x27; &#x27;B_COST&#x27;\n",
       "Data variables:\n",
       "    value       (param_name) float64 0.0 0.0 0.0\n",
       "    initvalue   (param_name) float64 0.0 0.0 0.0\n",
       "    nullvalue   (param_name) float64 0.0 0.0 0.0\n",
       "    minimum     (param_name) float64 -inf -inf -inf\n",
       "    maximum     (param_name) float64 inf inf inf\n",
       "    holdfast    (param_name) int8 0 0 0\n",
       "    note        (param_name) object &#x27;&#x27; &#x27;&#x27; &#x27;&#x27;</pre><div class='xr-wrap' style='display:none'><div class='xr-header'><div class='xr-obj-type'>xarray.Dataset</div></div><ul class='xr-sections'><li class='xr-section-item'><input id='section-275e3ae6-c65c-43c3-b4ed-4e22fbc9103d' class='xr-section-summary-in' type='checkbox' disabled ><label for='section-275e3ae6-c65c-43c3-b4ed-4e22fbc9103d' class='xr-section-summary'  title='Expand/collapse section'>Dimensions:</label><div class='xr-section-inline-details'><ul class='xr-dim-list'><li><span class='xr-has-index'>param_name</span>: 3</li></ul></div><div class='xr-section-details'></div></li><li class='xr-section-item'><input id='section-ed64bb50-774d-4427-830c-bf514509959a' class='xr-section-summary-in' type='checkbox'  checked><label for='section-ed64bb50-774d-4427-830c-bf514509959a' class='xr-section-summary' >Coordinates: <span>(1)</span></label><div class='xr-section-inline-details'></div><div class='xr-section-details'><ul class='xr-var-list'><li class='xr-var-item'><div class='xr-var-name'><span class='xr-has-index'>param_name</span></div><div class='xr-var-dims'>(param_name)</div><div class='xr-var-dtype'>object</div><div class='xr-var-preview xr-preview'>&#x27;ASC_CAR&#x27; &#x27;ASC_TRAIN&#x27; &#x27;B_COST&#x27;</div><input id='attrs-f7a704aa-1be5-4fc6-bd27-02d9ad96af8f' class='xr-var-attrs-in' type='checkbox' disabled><label for='attrs-f7a704aa-1be5-4fc6-bd27-02d9ad96af8f' title='Show/Hide attributes'><svg class='icon xr-icon-file-text2'><use xlink:href='#icon-file-text2'></use></svg></label><input id='data-800d85ea-0056-4868-8a16-6b28e7a6e938' class='xr-var-data-in' type='checkbox'><label for='data-800d85ea-0056-4868-8a16-6b28e7a6e938' title='Show/Hide data repr'><svg class='icon xr-icon-database'><use xlink:href='#icon-database'></use></svg></label><div class='xr-var-attrs'><dl class='xr-attrs'></dl></div><div class='xr-var-data'><pre>array([&#x27;ASC_CAR&#x27;, &#x27;ASC_TRAIN&#x27;, &#x27;B_COST&#x27;], dtype=object)</pre></div></li></ul></div></li><li class='xr-section-item'><input id='section-ef42740f-ea23-4b9d-80d3-f858199f63c6' class='xr-section-summary-in' type='checkbox'  checked><label for='section-ef42740f-ea23-4b9d-80d3-f858199f63c6' class='xr-section-summary' >Data variables: <span>(7)</span></label><div class='xr-section-inline-details'></div><div class='xr-section-details'><ul class='xr-var-list'><li class='xr-var-item'><div class='xr-var-name'><span>value</span></div><div class='xr-var-dims'>(param_name)</div><div class='xr-var-dtype'>float64</div><div class='xr-var-preview xr-preview'>0.0 0.0 0.0</div><input id='attrs-3296e168-cdde-4ed7-bbb4-18514e048422' class='xr-var-attrs-in' type='checkbox' disabled><label for='attrs-3296e168-cdde-4ed7-bbb4-18514e048422' title='Show/Hide attributes'><svg class='icon xr-icon-file-text2'><use xlink:href='#icon-file-text2'></use></svg></label><input id='data-7abad160-70d6-47b1-8165-220b40518459' class='xr-var-data-in' type='checkbox'><label for='data-7abad160-70d6-47b1-8165-220b40518459' title='Show/Hide data repr'><svg class='icon xr-icon-database'><use xlink:href='#icon-database'></use></svg></label><div class='xr-var-attrs'><dl class='xr-attrs'></dl></div><div class='xr-var-data'><pre>array([ 0.,  0.,  0.])</pre></div></li><li class='xr-var-item'><div class='xr-var-name'><span>initvalue</span></div><div class='xr-var-dims'>(param_name)</div><div class='xr-var-dtype'>float64</div><div class='xr-var-preview xr-preview'>0.0 0.0 0.0</div><input id='attrs-5a328f36-07de-4063-b2ec-70cbe05c552c' class='xr-var-attrs-in' type='checkbox' disabled><label for='attrs-5a328f36-07de-4063-b2ec-70cbe05c552c' title='Show/Hide attributes'><svg class='icon xr-icon-file-text2'><use xlink:href='#icon-file-text2'></use></svg></label><input id='data-e2ac83e3-602e-432a-839f-efbfdfe3000b' class='xr-var-data-in' type='checkbox'><label for='data-e2ac83e3-602e-432a-839f-efbfdfe3000b' title='Show/Hide data repr'><svg class='icon xr-icon-database'><use xlink:href='#icon-database'></use></svg></label><div class='xr-var-attrs'><dl class='xr-attrs'></dl></div><div class='xr-var-data'><pre>array([ 0.,  0.,  0.])</pre></div></li><li class='xr-var-item'><div class='xr-var-name'><span>nullvalue</span></div><div class='xr-var-dims'>(param_name)</div><div class='xr-var-dtype'>float64</div><div class='xr-var-preview xr-preview'>0.0 0.0 0.0</div><input id='attrs-9c2724b7-c354-487a-9a97-8b9879f82edb' class='xr-var-attrs-in' type='checkbox' disabled><label for='attrs-9c2724b7-c354-487a-9a97-8b9879f82edb' title='Show/Hide attributes'><svg class='icon xr-icon-file-text2'><use xlink:href='#icon-file-text2'></use></svg></label><input id='data-58519a1c-47d5-4281-b0c2-ee2f4b44b50f' class='xr-var-data-in' type='checkbox'><label for='data-58519a1c-47d5-4281-b0c2-ee2f4b44b50f' title='Show/Hide data repr'><svg class='icon xr-icon-database'><use xlink:href='#icon-database'></use></svg></label><div class='xr-var-attrs'><dl class='xr-attrs'></dl></div><div class='xr-var-data'><pre>array([ 0.,  0.,  0.])</pre></div></li><li class='xr-var-item'><div class='xr-var-name'><span>minimum</span></div><div class='xr-var-dims'>(param_name)</div><div class='xr-var-dtype'>float64</div><div class='xr-var-preview xr-preview'>-inf -inf -inf</div><input id='attrs-f144c9c0-5188-4944-bfb1-51afa753f0f8' class='xr-var-attrs-in' type='checkbox' disabled><label for='attrs-f144c9c0-5188-4944-bfb1-51afa753f0f8' title='Show/Hide attributes'><svg class='icon xr-icon-file-text2'><use xlink:href='#icon-file-text2'></use></svg></label><input id='data-33146267-8503-4f45-8f59-3124c7f50437' class='xr-var-data-in' type='checkbox'><label for='data-33146267-8503-4f45-8f59-3124c7f50437' title='Show/Hide data repr'><svg class='icon xr-icon-database'><use xlink:href='#icon-database'></use></svg></label><div class='xr-var-attrs'><dl class='xr-attrs'></dl></div><div class='xr-var-data'><pre>array([-inf, -inf, -inf])</pre></div></li><li class='xr-var-item'><div class='xr-var-name'><span>maximum</span></div><div class='xr-var-dims'>(param_name)</div><div class='xr-var-dtype'>float64</div><div class='xr-var-preview xr-preview'>inf inf inf</div><input id='attrs-6bee4350-0dcc-4196-bc60-42624c0866b5' class='xr-var-attrs-in' type='checkbox' disabled><label for='attrs-6bee4350-0dcc-4196-bc60-42624c0866b5' title='Show/Hide attributes'><svg class='icon xr-icon-file-text2'><use xlink:href='#icon-file-text2'></use></svg></label><input id='data-4edd8ba1-9bb7-4a8f-bc95-b1dedf2e9459' class='xr-var-data-in' type='checkbox'><label for='data-4edd8ba1-9bb7-4a8f-bc95-b1dedf2e9459' title='Show/Hide data repr'><svg class='icon xr-icon-database'><use xlink:href='#icon-database'></use></svg></label><div class='xr-var-attrs'><dl class='xr-attrs'></dl></div><div class='xr-var-data'><pre>array([ inf,  inf,  inf])</pre></div></li><li class='xr-var-item'><div class='xr-var-name'><span>holdfast</span></div><div class='xr-var-dims'>(param_name)</div><div class='xr-var-dtype'>int8</div><div class='xr-var-preview xr-preview'>0 0 0</div><input id='attrs-be06a807-15a7-42b4-af74-5f9c8cadff1a' class='xr-var-attrs-in' type='checkbox' disabled><label for='attrs-be06a807-15a7-42b4-af74-5f9c8cadff1a' title='Show/Hide attributes'><svg class='icon xr-icon-file-text2'><use xlink:href='#icon-file-text2'></use></svg></label><input id='data-67c6faf0-4f31-440b-820e-90d17094dfa1' class='xr-var-data-in' type='checkbox'><label for='data-67c6faf0-4f31-440b-820e-90d17094dfa1' title='Show/Hide data repr'><svg class='icon xr-icon-database'><use xlink:href='#icon-database'></use></svg></label><div class='xr-var-attrs'><dl class='xr-attrs'></dl></div><div class='xr-var-data'><pre>array([0, 0, 0], dtype=int8)</pre></div></li><li class='xr-var-item'><div class='xr-var-name'><span>note</span></div><div class='xr-var-dims'>(param_name)</div><div class='xr-var-dtype'>object</div><div class='xr-var-preview xr-preview'>&#x27;&#x27; &#x27;&#x27; &#x27;&#x27;</div><input id='attrs-832604ef-6774-4211-a928-35e0b301c341' class='xr-var-attrs-in' type='checkbox' disabled><label for='attrs-832604ef-6774-4211-a928-35e0b301c341' title='Show/Hide attributes'><svg class='icon xr-icon-file-text2'><use xlink:href='#icon-file-text2'></use></svg></label><input id='data-2c05e1ec-7e99-42fa-b0d0-d163f834bcb9' class='xr-var-data-in' type='checkbox'><label for='data-2c05e1ec-7e99-42fa-b0d0-d163f834bcb9' title='Show/Hide data repr'><svg class='icon xr-icon-database'><use xlink:href='#icon-database'></use></svg></label><div class='xr-var-attrs'><dl class='xr-attrs'></dl></div><div class='xr-var-data'><pre>array([&#x27;&#x27;, &#x27;&#x27;, &#x27;&#x27;], dtype=object)</pre></div></li></ul></div></li><li class='xr-section-item'><input id='section-d2005359-07bd-43cc-9998-2a6aa850b2ed' class='xr-section-summary-in' type='checkbox' disabled ><label for='section-d2005359-07bd-43cc-9998-2a6aa850b2ed' class='xr-section-summary'  title='Expand/collapse section'>Attributes: <span>(0)</span></label><div class='xr-section-inline-details'></div><div class='xr-section-details'><dl class='xr-attrs'></dl></div></li></ul></div></div>"
      ],
      "text/plain": [
       "<xarray.Dataset>\n",
       "Dimensions:     (param_name: 3)\n",
       "Coordinates:\n",
       "  * param_name  (param_name) object 'ASC_CAR' 'ASC_TRAIN' 'B_COST'\n",
       "Data variables:\n",
       "    value       (param_name) float64 0.0 0.0 0.0\n",
       "    initvalue   (param_name) float64 0.0 0.0 0.0\n",
       "    nullvalue   (param_name) float64 0.0 0.0 0.0\n",
       "    minimum     (param_name) float64 -inf -inf -inf\n",
       "    maximum     (param_name) float64 inf inf inf\n",
       "    holdfast    (param_name) int8 0 0 0\n",
       "    note        (param_name) object '' '' ''"
      ]
     },
     "execution_count": 6,
     "metadata": {},
     "output_type": "execute_result"
    }
   ],
   "source": [
    "m1.parameters"
   ]
  },
  {
   "cell_type": "code",
   "execution_count": 7,
   "id": "2041f3c3",
   "metadata": {
    "ExecuteTime": {
     "end_time": "2022-03-05T19:32:52.903814Z",
     "start_time": "2022-03-05T19:32:52.895693Z"
    }
   },
   "outputs": [],
   "source": [
    "m2 = lx.Model(\n",
    "    data.dc.set_altids([1,2,3])\n",
    ")\n",
    "m2.availability_co_vars = {\n",
    "    1: \"TRAIN_AV_SP\",\n",
    "    2: \"SM_AV\",\n",
    "    3: \"CAR_AV_SP\",\n",
    "}\n",
    "m2.choice_co_code = 'CHOICE'\n",
    "\n",
    "m2.utility_co[1] = P(\"ASC_TRAIN\") + X(\"TRAIN_TT_SCALED\") * P(\"B_TIME\") + X(\"TRAIN_COST_SCALED\") * P(\"B_COST\")\n",
    "m2.utility_co[2] = X(\"SM_TT_SCALED\") * P(\"B_TIME\") + X(\"SM_COST_SCALED\") * P(\"B_COST\")\n",
    "m2.utility_co[3] = P(\"ASC_CAR\") + X(\"CAR_TT_SCALED\") * P(\"B_TIME\") + X(\"CAR_CO_SCALED\") * P(\"B_COST\")"
   ]
  },
  {
   "cell_type": "code",
   "execution_count": 8,
   "id": "a7ad7566",
   "metadata": {
    "ExecuteTime": {
     "end_time": "2022-03-05T19:32:52.913252Z",
     "start_time": "2022-03-05T19:32:52.905751Z"
    }
   },
   "outputs": [],
   "source": [
    "m3 = lx.Model(\n",
    "    data.dc.set_altids([1,2,3])\n",
    ")\n",
    "m3.availability_co_vars = {\n",
    "    1: \"TRAIN_AV_SP\",\n",
    "    2: \"SM_AV\",\n",
    "    3: \"CAR_AV_SP\",\n",
    "}\n",
    "m3.choice_co_code = 'CHOICE'\n",
    "\n",
    "m3.utility_co[1] = X(\"TRAIN_COST_SCALED\") * P(\"Z_COST\")\n",
    "m3.utility_co[2] = X(\"SM_COST_SCALED\") * P(\"Z_COST\")\n",
    "m3.utility_co[3] = X(\"CAR_CO_SCALED\") * P(\"Z_COST\")\n",
    "\n",
    "m3.groupid = 'ID'"
   ]
  },
  {
   "cell_type": "code",
   "execution_count": 9,
   "id": "e3edd55f",
   "metadata": {
    "ExecuteTime": {
     "end_time": "2022-03-05T19:32:52.917366Z",
     "start_time": "2022-03-05T19:32:52.915171Z"
    }
   },
   "outputs": [],
   "source": [
    "import jax.numpy as jnp"
   ]
  },
  {
   "cell_type": "code",
   "execution_count": 10,
   "id": "c090670c",
   "metadata": {
    "ExecuteTime": {
     "end_time": "2022-03-05T19:32:52.924446Z",
     "start_time": "2022-03-05T19:32:52.922349Z"
    }
   },
   "outputs": [],
   "source": [
    "# m3.unmangle()\n",
    "# m3.pvals = [-10000]"
   ]
  },
  {
   "cell_type": "code",
   "execution_count": 11,
   "id": "65a9cfb9",
   "metadata": {
    "ExecuteTime": {
     "end_time": "2022-03-05T19:32:52.928343Z",
     "start_time": "2022-03-05T19:32:52.925957Z"
    }
   },
   "outputs": [],
   "source": [
    "# from larix.folding import fold_dataset\n",
    "# m3.dataset = fold_dataset(m3.dataset, data['ID'])\n",
    "# m3.reflow_data_arrays"
   ]
  },
  {
   "cell_type": "code",
   "execution_count": 12,
   "id": "a0463cfd",
   "metadata": {
    "ExecuteTime": {
     "end_time": "2022-03-05T19:32:52.936242Z",
     "start_time": "2022-03-05T19:32:52.930100Z"
    }
   },
   "outputs": [],
   "source": [
    "mk = lx.Model(\n",
    "    data.dc.set_altids([101, 102, 103])\n",
    ")\n",
    "mk.utility_co[102] = P(\"W_OTHER\")\n",
    "mk.utility_co[103] = P(\"W_COST\")"
   ]
  },
  {
   "cell_type": "code",
   "execution_count": 13,
   "id": "23a00b6f",
   "metadata": {
    "ExecuteTime": {
     "end_time": "2022-03-05T19:32:56.285803Z",
     "start_time": "2022-03-05T19:32:52.938073Z"
    }
   },
   "outputs": [],
   "source": [
    "b = lx.LatentClass(\n",
    "    mk, \n",
    "    {101:m1, 102:m2, 103:m3}, \n",
    "    datatree=data.dc.set_altids([1,2,3]),\n",
    "    groupid=\"ID\",\n",
    ")"
   ]
  },
  {
   "cell_type": "code",
   "execution_count": 14,
   "id": "bc8dc560",
   "metadata": {
    "ExecuteTime": {
     "end_time": "2022-03-05T19:32:56.291184Z",
     "start_time": "2022-03-05T19:32:56.287844Z"
    }
   },
   "outputs": [
    {
     "data": {
      "text/plain": [
       "<larix.latent_class.LatentClass at 0x14317f760>"
      ]
     },
     "execution_count": 14,
     "metadata": {},
     "output_type": "execute_result"
    }
   ],
   "source": [
    "b"
   ]
  },
  {
   "cell_type": "code",
   "execution_count": 15,
   "id": "74837d23",
   "metadata": {
    "ExecuteTime": {
     "end_time": "2022-03-05T19:32:56.301019Z",
     "start_time": "2022-03-05T19:32:56.293442Z"
    }
   },
   "outputs": [],
   "source": [
    "b.lock(Z_COST=-10000)"
   ]
  },
  {
   "cell_type": "code",
   "execution_count": 16,
   "id": "f06171d8",
   "metadata": {
    "ExecuteTime": {
     "end_time": "2022-03-05T19:33:00.671219Z",
     "start_time": "2022-03-05T19:32:56.303138Z"
    }
   },
   "outputs": [],
   "source": [
    "b.reflow_data_arrays()"
   ]
  },
  {
   "cell_type": "code",
   "execution_count": 17,
   "id": "3b872c8b",
   "metadata": {
    "ExecuteTime": {
     "end_time": "2022-03-05T19:33:00.676994Z",
     "start_time": "2022-03-05T19:33:00.673303Z"
    }
   },
   "outputs": [
    {
     "data": {
      "text/plain": [
       "'ID'"
      ]
     },
     "execution_count": 17,
     "metadata": {},
     "output_type": "execute_result"
    }
   ],
   "source": [
    "b.groupid"
   ]
  },
  {
   "cell_type": "code",
   "execution_count": 18,
   "id": "92ddb0c8",
   "metadata": {
    "ExecuteTime": {
     "end_time": "2022-03-05T19:33:03.321101Z",
     "start_time": "2022-03-05T19:33:00.679142Z"
    }
   },
   "outputs": [
    {
     "name": "stderr",
     "output_type": "stream",
     "text": [
      "WARNING:absl:No GPU/TPU found, falling back to CPU. (Set TF_CPP_MIN_LOG_LEVEL=0 and rerun for more info.)\n"
     ]
    },
    {
     "data": {
      "text/plain": [
       "DeviceArray(-6867.245, dtype=float32)"
      ]
     },
     "execution_count": 18,
     "metadata": {},
     "output_type": "execute_result"
    }
   ],
   "source": [
    "b.jax_loglike(b.pvals)"
   ]
  },
  {
   "cell_type": "code",
   "execution_count": 19,
   "id": "3cbb8488",
   "metadata": {
    "ExecuteTime": {
     "end_time": "2022-03-05T19:33:03.329767Z",
     "start_time": "2022-03-05T19:33:03.322391Z"
    }
   },
   "outputs": [
    {
     "data": {
      "text/plain": [
       "DeviceArray(-6964.664, dtype=float32)"
      ]
     },
     "execution_count": 19,
     "metadata": {},
     "output_type": "execute_result"
    }
   ],
   "source": [
    "b.jax_loglike(np.zeros_like(b.pvals))"
   ]
  },
  {
   "cell_type": "code",
   "execution_count": 20,
   "id": "7df6c972",
   "metadata": {
    "ExecuteTime": {
     "end_time": "2022-03-05T19:33:03.337013Z",
     "start_time": "2022-03-05T19:33:03.331806Z"
    }
   },
   "outputs": [],
   "source": [
    "assert b.jax_loglike(b.pvals) == approx(-6867.245, rel=1e-4)"
   ]
  },
  {
   "cell_type": "code",
   "execution_count": 21,
   "id": "13ba116a",
   "metadata": {
    "ExecuteTime": {
     "end_time": "2022-03-05T19:33:03.344630Z",
     "start_time": "2022-03-05T19:33:03.338628Z"
    }
   },
   "outputs": [
    {
     "data": {
      "text/plain": [
       "DeviceArray(-6867.245, dtype=float32)"
      ]
     },
     "execution_count": 21,
     "metadata": {},
     "output_type": "execute_result"
    }
   ],
   "source": [
    "b.jax_loglike(b.pvals)"
   ]
  },
  {
   "cell_type": "code",
   "execution_count": 22,
   "id": "6c5b7912",
   "metadata": {
    "ExecuteTime": {
     "end_time": "2022-03-05T19:33:19.105660Z",
     "start_time": "2022-03-05T19:33:03.346060Z"
    }
   },
   "outputs": [
    {
     "name": "stderr",
     "output_type": "stream",
     "text": [
      "2022-03-05 13:33:17.076944: E external/org_tensorflow/tensorflow/compiler/xla/service/slow_operation_alarm.cc:55] \n",
      "********************************\n",
      "Slow compile?  XLA was built without compiler optimizations, which can be slow.  Try rebuilding with -c opt.\n",
      "Compiling module jit_func__20.7357\n",
      "********************************\n"
     ]
    },
    {
     "data": {
      "text/plain": [
       "DeviceArray([-1.104774e+02, -1.545956e+03, -2.189165e+01, -9.183448e+02, -1.658510e+02,  8.292550e+01, -1.490116e-08],            dtype=float32)"
      ]
     },
     "execution_count": 22,
     "metadata": {},
     "output_type": "execute_result"
    }
   ],
   "source": [
    "b.jax_d_loglike(b.pvals) # 5.25s"
   ]
  },
  {
   "cell_type": "code",
   "execution_count": 23,
   "id": "f584bef3",
   "metadata": {
    "ExecuteTime": {
     "end_time": "2022-03-05T19:33:19.115448Z",
     "start_time": "2022-03-05T19:33:19.107490Z"
    }
   },
   "outputs": [
    {
     "data": {
      "text/plain": [
       "DeviceArray([-1.104774e+02, -1.545956e+03, -2.189165e+01, -9.183448e+02, -1.658510e+02,  8.292550e+01, -1.490116e-08],            dtype=float32)"
      ]
     },
     "execution_count": 23,
     "metadata": {},
     "output_type": "execute_result"
    }
   ],
   "source": [
    "b.jax_d_loglike(b.pvals) # 5.25s"
   ]
  },
  {
   "cell_type": "code",
   "execution_count": 24,
   "id": "0fbc1962",
   "metadata": {
    "ExecuteTime": {
     "end_time": "2022-03-05T19:33:19.251660Z",
     "start_time": "2022-03-05T19:33:19.116826Z"
    }
   },
   "outputs": [],
   "source": [
    "result = b.jax_maximize_loglike()"
   ]
  },
  {
   "cell_type": "code",
   "execution_count": 25,
   "id": "523f8a06",
   "metadata": {
    "ExecuteTime": {
     "end_time": "2022-03-05T19:33:19.258236Z",
     "start_time": "2022-03-05T19:33:19.253460Z"
    }
   },
   "outputs": [
    {
     "data": {
      "text/plain": [
       "     jac: array([ 1.723166e-01, -3.695679e-02, -7.270813e-02,  7.333374e-02, -1.975441e-02,  2.137756e-02, -2.607703e-08])\n",
       " loglike: -4474.47900390625\n",
       " message: 'Optimization terminated successfully'\n",
       "    nfev: 44\n",
       "     nit: 15\n",
       "    njev: 15\n",
       "  status: 0\n",
       " success: True\n",
       "       x: array([ 6.079767e-02, -9.362056e-01, -1.159657e+00, -3.095285e+00, -7.734761e-01,  1.155985e+00, -1.000000e+04])"
      ]
     },
     "execution_count": 25,
     "metadata": {},
     "output_type": "execute_result"
    }
   ],
   "source": [
    "result"
   ]
  },
  {
   "cell_type": "code",
   "execution_count": 26,
   "id": "81c1ee8b",
   "metadata": {
    "ExecuteTime": {
     "end_time": "2022-03-05T19:33:19.262361Z",
     "start_time": "2022-03-05T19:33:19.260151Z"
    }
   },
   "outputs": [],
   "source": [
    "assert result.loglike == approx(-4474.478515625, rel=1e-5)"
   ]
  },
  {
   "cell_type": "code",
   "execution_count": 27,
   "id": "85d58ad9",
   "metadata": {
    "ExecuteTime": {
     "end_time": "2022-03-05T19:33:19.266369Z",
     "start_time": "2022-03-05T19:33:19.263674Z"
    }
   },
   "outputs": [
    {
     "data": {
      "text/plain": [
       "-4474.47900390625"
      ]
     },
     "execution_count": 27,
     "metadata": {},
     "output_type": "execute_result"
    }
   ],
   "source": [
    "result.loglike"
   ]
  },
  {
   "cell_type": "code",
   "execution_count": 28,
   "id": "95297809",
   "metadata": {
    "ExecuteTime": {
     "end_time": "2022-03-05T19:33:19.280460Z",
     "start_time": "2022-03-05T19:33:19.271551Z"
    }
   },
   "outputs": [
    {
     "data": {
      "text/html": [
       "<div>\n",
       "<style scoped>\n",
       "    .dataframe tbody tr th:only-of-type {\n",
       "        vertical-align: middle;\n",
       "    }\n",
       "\n",
       "    .dataframe tbody tr th {\n",
       "        vertical-align: top;\n",
       "    }\n",
       "\n",
       "    .dataframe thead th {\n",
       "        text-align: right;\n",
       "    }\n",
       "</style>\n",
       "<table border=\"1\" class=\"dataframe\">\n",
       "  <thead>\n",
       "    <tr style=\"text-align: right;\">\n",
       "      <th></th>\n",
       "      <th>value</th>\n",
       "      <th>initvalue</th>\n",
       "      <th>nullvalue</th>\n",
       "      <th>minimum</th>\n",
       "      <th>maximum</th>\n",
       "      <th>holdfast</th>\n",
       "    </tr>\n",
       "    <tr>\n",
       "      <th>param_name</th>\n",
       "      <th></th>\n",
       "      <th></th>\n",
       "      <th></th>\n",
       "      <th></th>\n",
       "      <th></th>\n",
       "      <th></th>\n",
       "    </tr>\n",
       "  </thead>\n",
       "  <tbody>\n",
       "    <tr>\n",
       "      <th>ASC_CAR</th>\n",
       "      <td>0.060798</td>\n",
       "      <td>0.0</td>\n",
       "      <td>0.0</td>\n",
       "      <td>-inf</td>\n",
       "      <td>inf</td>\n",
       "      <td>0</td>\n",
       "    </tr>\n",
       "    <tr>\n",
       "      <th>ASC_TRAIN</th>\n",
       "      <td>-0.936206</td>\n",
       "      <td>0.0</td>\n",
       "      <td>0.0</td>\n",
       "      <td>-inf</td>\n",
       "      <td>inf</td>\n",
       "      <td>0</td>\n",
       "    </tr>\n",
       "    <tr>\n",
       "      <th>B_COST</th>\n",
       "      <td>-1.159657</td>\n",
       "      <td>0.0</td>\n",
       "      <td>0.0</td>\n",
       "      <td>-inf</td>\n",
       "      <td>inf</td>\n",
       "      <td>0</td>\n",
       "    </tr>\n",
       "    <tr>\n",
       "      <th>B_TIME</th>\n",
       "      <td>-3.095285</td>\n",
       "      <td>0.0</td>\n",
       "      <td>0.0</td>\n",
       "      <td>-inf</td>\n",
       "      <td>inf</td>\n",
       "      <td>0</td>\n",
       "    </tr>\n",
       "    <tr>\n",
       "      <th>W_COST</th>\n",
       "      <td>-0.773476</td>\n",
       "      <td>0.0</td>\n",
       "      <td>0.0</td>\n",
       "      <td>-inf</td>\n",
       "      <td>inf</td>\n",
       "      <td>0</td>\n",
       "    </tr>\n",
       "    <tr>\n",
       "      <th>W_OTHER</th>\n",
       "      <td>1.155985</td>\n",
       "      <td>0.0</td>\n",
       "      <td>0.0</td>\n",
       "      <td>-inf</td>\n",
       "      <td>inf</td>\n",
       "      <td>0</td>\n",
       "    </tr>\n",
       "    <tr>\n",
       "      <th>Z_COST</th>\n",
       "      <td>-10000.000000</td>\n",
       "      <td>-10000.0</td>\n",
       "      <td>0.0</td>\n",
       "      <td>-inf</td>\n",
       "      <td>inf</td>\n",
       "      <td>1</td>\n",
       "    </tr>\n",
       "  </tbody>\n",
       "</table>\n",
       "</div>"
      ],
      "text/plain": [
       "                   value  initvalue  nullvalue  minimum  maximum  holdfast\n",
       "param_name                                                                \n",
       "ASC_CAR         0.060798        0.0        0.0     -inf      inf         0\n",
       "ASC_TRAIN      -0.936206        0.0        0.0     -inf      inf         0\n",
       "B_COST         -1.159657        0.0        0.0     -inf      inf         0\n",
       "B_TIME         -3.095285        0.0        0.0     -inf      inf         0\n",
       "W_COST         -0.773476        0.0        0.0     -inf      inf         0\n",
       "W_OTHER         1.155985        0.0        0.0     -inf      inf         0\n",
       "Z_COST     -10000.000000   -10000.0        0.0     -inf      inf         1"
      ]
     },
     "execution_count": 28,
     "metadata": {},
     "output_type": "execute_result"
    }
   ],
   "source": [
    "b.parameters.to_dataframe()"
   ]
  },
  {
   "cell_type": "code",
   "execution_count": 29,
   "id": "c51b37bc",
   "metadata": {
    "ExecuteTime": {
     "end_time": "2022-03-05T19:34:00.005199Z",
     "start_time": "2022-03-05T19:33:19.281993Z"
    }
   },
   "outputs": [
    {
     "name": "stderr",
     "output_type": "stream",
     "text": [
      "2022-03-05 13:33:35.991804: E external/org_tensorflow/tensorflow/compiler/xla/service/slow_operation_alarm.cc:55] \n",
      "********************************\n",
      "Slow compile?  XLA was built without compiler optimizations, which can be slow.  Try rebuilding with -c opt.\n",
      "Compiling module jit_func__21.11151\n",
      "********************************\n"
     ]
    }
   ],
   "source": [
    "se, hess, ihess = b.jax_param_cov(b.pvals)"
   ]
  },
  {
   "cell_type": "code",
   "execution_count": 30,
   "id": "40127bef",
   "metadata": {
    "ExecuteTime": {
     "end_time": "2022-03-05T19:34:00.016990Z",
     "start_time": "2022-03-05T19:34:00.007313Z"
    }
   },
   "outputs": [
    {
     "data": {
      "text/html": [
       "<div>\n",
       "<style scoped>\n",
       "    .dataframe tbody tr th:only-of-type {\n",
       "        vertical-align: middle;\n",
       "    }\n",
       "\n",
       "    .dataframe tbody tr th {\n",
       "        vertical-align: top;\n",
       "    }\n",
       "\n",
       "    .dataframe thead th {\n",
       "        text-align: right;\n",
       "    }\n",
       "</style>\n",
       "<table border=\"1\" class=\"dataframe\">\n",
       "  <thead>\n",
       "    <tr style=\"text-align: right;\">\n",
       "      <th></th>\n",
       "      <th>value</th>\n",
       "      <th>initvalue</th>\n",
       "      <th>nullvalue</th>\n",
       "      <th>minimum</th>\n",
       "      <th>maximum</th>\n",
       "      <th>holdfast</th>\n",
       "      <th>std_err</th>\n",
       "    </tr>\n",
       "    <tr>\n",
       "      <th>param_name</th>\n",
       "      <th></th>\n",
       "      <th></th>\n",
       "      <th></th>\n",
       "      <th></th>\n",
       "      <th></th>\n",
       "      <th></th>\n",
       "      <th></th>\n",
       "    </tr>\n",
       "  </thead>\n",
       "  <tbody>\n",
       "    <tr>\n",
       "      <th>ASC_CAR</th>\n",
       "      <td>0.060798</td>\n",
       "      <td>0.0</td>\n",
       "      <td>0.0</td>\n",
       "      <td>-inf</td>\n",
       "      <td>inf</td>\n",
       "      <td>0</td>\n",
       "      <td>0.048158</td>\n",
       "    </tr>\n",
       "    <tr>\n",
       "      <th>ASC_TRAIN</th>\n",
       "      <td>-0.936206</td>\n",
       "      <td>0.0</td>\n",
       "      <td>0.0</td>\n",
       "      <td>-inf</td>\n",
       "      <td>inf</td>\n",
       "      <td>0</td>\n",
       "      <td>0.069796</td>\n",
       "    </tr>\n",
       "    <tr>\n",
       "      <th>B_COST</th>\n",
       "      <td>-1.159657</td>\n",
       "      <td>0.0</td>\n",
       "      <td>0.0</td>\n",
       "      <td>-inf</td>\n",
       "      <td>inf</td>\n",
       "      <td>0</td>\n",
       "      <td>0.069555</td>\n",
       "    </tr>\n",
       "    <tr>\n",
       "      <th>B_TIME</th>\n",
       "      <td>-3.095285</td>\n",
       "      <td>0.0</td>\n",
       "      <td>0.0</td>\n",
       "      <td>-inf</td>\n",
       "      <td>inf</td>\n",
       "      <td>0</td>\n",
       "      <td>0.106282</td>\n",
       "    </tr>\n",
       "    <tr>\n",
       "      <th>W_COST</th>\n",
       "      <td>-0.773476</td>\n",
       "      <td>0.0</td>\n",
       "      <td>0.0</td>\n",
       "      <td>-inf</td>\n",
       "      <td>inf</td>\n",
       "      <td>0</td>\n",
       "      <td>0.161079</td>\n",
       "    </tr>\n",
       "    <tr>\n",
       "      <th>W_OTHER</th>\n",
       "      <td>1.155985</td>\n",
       "      <td>0.0</td>\n",
       "      <td>0.0</td>\n",
       "      <td>-inf</td>\n",
       "      <td>inf</td>\n",
       "      <td>0</td>\n",
       "      <td>0.119450</td>\n",
       "    </tr>\n",
       "    <tr>\n",
       "      <th>Z_COST</th>\n",
       "      <td>-10000.000000</td>\n",
       "      <td>-10000.0</td>\n",
       "      <td>0.0</td>\n",
       "      <td>-inf</td>\n",
       "      <td>inf</td>\n",
       "      <td>1</td>\n",
       "      <td>0.000000</td>\n",
       "    </tr>\n",
       "  </tbody>\n",
       "</table>\n",
       "</div>"
      ],
      "text/plain": [
       "                   value  initvalue  nullvalue  minimum  maximum  holdfast  \\\n",
       "param_name                                                                   \n",
       "ASC_CAR         0.060798        0.0        0.0     -inf      inf         0   \n",
       "ASC_TRAIN      -0.936206        0.0        0.0     -inf      inf         0   \n",
       "B_COST         -1.159657        0.0        0.0     -inf      inf         0   \n",
       "B_TIME         -3.095285        0.0        0.0     -inf      inf         0   \n",
       "W_COST         -0.773476        0.0        0.0     -inf      inf         0   \n",
       "W_OTHER         1.155985        0.0        0.0     -inf      inf         0   \n",
       "Z_COST     -10000.000000   -10000.0        0.0     -inf      inf         1   \n",
       "\n",
       "             std_err  \n",
       "param_name            \n",
       "ASC_CAR     0.048158  \n",
       "ASC_TRAIN   0.069796  \n",
       "B_COST      0.069555  \n",
       "B_TIME      0.106282  \n",
       "W_COST      0.161079  \n",
       "W_OTHER     0.119450  \n",
       "Z_COST      0.000000  "
      ]
     },
     "execution_count": 30,
     "metadata": {},
     "output_type": "execute_result"
    }
   ],
   "source": [
    "b.parameters.to_dataframe()"
   ]
  },
  {
   "cell_type": "code",
   "execution_count": null,
   "id": "c3284435",
   "metadata": {},
   "outputs": [],
   "source": []
  },
  {
   "cell_type": "code",
   "execution_count": 31,
   "id": "2228be2e",
   "metadata": {
    "ExecuteTime": {
     "end_time": "2022-03-05T19:34:00.022278Z",
     "start_time": "2022-03-05T19:34:00.018451Z"
    }
   },
   "outputs": [],
   "source": [
    "assert b.pstderr == approx(np.array([ \n",
    "    0.048158,  0.069796,  0.069555,  0.106282,  0.161079,  0.11945 ,  0.\n",
    "]), rel=5e-3)"
   ]
  },
  {
   "cell_type": "code",
   "execution_count": 32,
   "id": "496a0ffe",
   "metadata": {
    "ExecuteTime": {
     "end_time": "2022-03-05T19:34:00.027719Z",
     "start_time": "2022-03-05T19:34:00.023861Z"
    }
   },
   "outputs": [
    {
     "data": {
      "text/plain": [
       "array([ 0.048158,  0.069796,  0.069555,  0.106282,  0.161079,  0.11945 ,  0.      ], dtype=float32)"
      ]
     },
     "execution_count": 32,
     "metadata": {},
     "output_type": "execute_result"
    }
   ],
   "source": [
    "b.pstderr"
   ]
  },
  {
   "cell_type": "code",
   "execution_count": 33,
   "id": "78d9d9d9",
   "metadata": {
    "ExecuteTime": {
     "end_time": "2022-03-05T19:34:00.032463Z",
     "start_time": "2022-03-05T19:34:00.029166Z"
    }
   },
   "outputs": [],
   "source": [
    "assert b.pvals == approx(np.array([ \n",
    "    6.079781e-02, -9.362056e-01, -1.159657e+00, -3.095285e+00, -7.734768e-01,  1.155985e+00, -1.000000e+04\n",
    "]), rel=5e-3)"
   ]
  },
  {
   "cell_type": "code",
   "execution_count": 34,
   "id": "79a560b5",
   "metadata": {
    "ExecuteTime": {
     "end_time": "2022-03-05T19:34:00.037559Z",
     "start_time": "2022-03-05T19:34:00.033905Z"
    }
   },
   "outputs": [
    {
     "data": {
      "text/plain": [
       "array([ 6.079767e-02, -9.362056e-01, -1.159657e+00, -3.095285e+00, -7.734761e-01,  1.155985e+00, -1.000000e+04])"
      ]
     },
     "execution_count": 34,
     "metadata": {},
     "output_type": "execute_result"
    }
   ],
   "source": [
    "b.pvals"
   ]
  },
  {
   "cell_type": "code",
   "execution_count": null,
   "id": "90df5670",
   "metadata": {},
   "outputs": [],
   "source": []
  }
 ],
 "metadata": {
  "kernelspec": {
   "display_name": "Python 3 (ipykernel)",
   "language": "python",
   "name": "python3"
  },
  "language_info": {
   "codemirror_mode": {
    "name": "ipython",
    "version": 3
   },
   "file_extension": ".py",
   "mimetype": "text/x-python",
   "name": "python",
   "nbconvert_exporter": "python",
   "pygments_lexer": "ipython3",
   "version": "3.9.10"
  },
  "toc": {
   "base_numbering": 1,
   "nav_menu": {},
   "number_sections": false,
   "sideBar": true,
   "skip_h1_title": false,
   "title_cell": "Table of Contents",
   "title_sidebar": "Contents",
   "toc_cell": false,
   "toc_position": {},
   "toc_section_display": true,
   "toc_window_display": false
  }
 },
 "nbformat": 4,
 "nbformat_minor": 5
}
