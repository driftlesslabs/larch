{
 "cells": [
  {
   "cell_type": "markdown",
   "metadata": {
    "pycharm": {
     "name": "#%% md\n"
    }
   },
   "source": [
    "# 201: Exampville Mode Choice\n",
    "\n",
    "Welcome to Exampville, the best simulated town in this here part of the internet!\n",
    "\n",
    "Exampville is a demonstration provided with Larch that walks through some of the \n",
    "data and tools that a transportation planner might use when building a travel model. "
   ]
  },
  {
   "cell_type": "code",
   "execution_count": null,
   "metadata": {
    "pycharm": {
     "name": "#%%\n"
    },
    "tags": [
     "remove_cell",
     "hide_cell"
    ]
   },
   "outputs": [],
   "source": [
    "# HIDDEN\n",
    "from pytest import approx\n",
    "\n",
    "import larch as lx"
   ]
  },
  {
   "cell_type": "code",
   "execution_count": null,
   "metadata": {
    "pycharm": {
     "name": "#%%\n"
    }
   },
   "outputs": [],
   "source": [
    "import numpy as np\n",
    "\n",
    "import larch as lx\n",
    "from larch import P, X"
   ]
  },
  {
   "cell_type": "markdown",
   "metadata": {
    "pycharm": {
     "name": "#%% md\n"
    }
   },
   "source": [
    "In this example notebook, we will walk through the creation of a tour mode choice model."
   ]
  },
  {
   "cell_type": "markdown",
   "metadata": {
    "pycharm": {
     "name": "#%% md\n"
    }
   },
   "source": [
    "To begin, we'll re-load the tours and skims data from the \n",
    "data setup example."
   ]
  },
  {
   "cell_type": "code",
   "execution_count": null,
   "metadata": {
    "pycharm": {
     "name": "#%%\n"
    }
   },
   "outputs": [],
   "source": [
    "hh, pp, tour, skims = lx.example(200, [\"hh\", \"pp\", \"tour\", \"skims\"])"
   ]
  },
  {
   "cell_type": "markdown",
   "metadata": {
    "pycharm": {
     "name": "#%% md\n"
    }
   },
   "source": [
    "## Preprocessing"
   ]
  },
  {
   "cell_type": "markdown",
   "metadata": {
    "pycharm": {
     "name": "#%% md\n"
    }
   },
   "source": [
    "The Exampville data output contains a set of files similar to what we might\n",
    "find for a real travel survey: network skims, and tables of households, persons,\n",
    "and tours.  We'll need to connect these tables together to create a composite dataset\n",
    "for mode choice model estimation, using the DataTree structure."
   ]
  },
  {
   "cell_type": "code",
   "execution_count": null,
   "metadata": {
    "pycharm": {
     "name": "#%%\n"
    }
   },
   "outputs": [],
   "source": [
    "from addicty import Dict\n",
    "\n",
    "Mode = Dict(\n",
    "    DA=1,\n",
    "    SR=2,\n",
    "    Walk=3,\n",
    "    Bike=4,\n",
    "    Transit=5,\n",
    ").freeze()"
   ]
  },
  {
   "cell_type": "code",
   "execution_count": null,
   "metadata": {
    "pycharm": {
     "name": "#%%\n"
    }
   },
   "outputs": [],
   "source": [
    "tour_dataset = lx.Dataset.construct.from_idco(tour.set_index(\"TOURID\"), alts=Mode)"
   ]
  },
  {
   "cell_type": "code",
   "execution_count": null,
   "metadata": {
    "pycharm": {
     "name": "#%%\n"
    }
   },
   "outputs": [],
   "source": [
    "od_skims = lx.Dataset.construct.from_omx(skims)"
   ]
  },
  {
   "cell_type": "code",
   "execution_count": null,
   "metadata": {
    "pycharm": {
     "name": "#%%\n"
    }
   },
   "outputs": [],
   "source": [
    "dt = lx.DataTree(\n",
    "    tour=tour_dataset,\n",
    "    hh=hh.set_index(\"HHID\"),\n",
    "    person=pp.set_index(\"PERSONID\"),\n",
    "    od=od_skims,\n",
    "    do=od_skims,\n",
    "    relationships=(\n",
    "        \"tours.HHID @ hh.HHID\",\n",
    "        \"tours.PERSONID @ person.PERSONID\",\n",
    "        \"hh.HOMETAZ @ od.otaz\",\n",
    "        \"tours.DTAZ @ od.dtaz\",\n",
    "        \"hh.HOMETAZ @ do.dtaz\",\n",
    "        \"tours.DTAZ @ do.otaz\",\n",
    "    ),\n",
    ")"
   ]
  },
  {
   "cell_type": "markdown",
   "metadata": {
    "pycharm": {
     "name": "#%% md\n"
    }
   },
   "source": [
    "In Exampville, there are only two kinds of trips: \n",
    "\n",
    "- work (purpose=1) and \n",
    "- non-work (purpose=2). \n",
    "\n",
    "We want to estimate a mode choice model for work trips, \n",
    "so we’ll begin by excluding all the other trips:"
   ]
  },
  {
   "cell_type": "code",
   "execution_count": null,
   "metadata": {
    "pycharm": {
     "name": "#%%\n"
    }
   },
   "outputs": [],
   "source": [
    "dt_work = dt.query_cases(\"TOURPURP == 1\")"
   ]
  },
  {
   "cell_type": "markdown",
   "metadata": {
    "pycharm": {
     "name": "#%% md\n"
    }
   },
   "source": [
    "## Model Definition"
   ]
  },
  {
   "cell_type": "markdown",
   "metadata": {
    "pycharm": {
     "name": "#%% md\n"
    }
   },
   "source": [
    "And then we are ready to create our model."
   ]
  },
  {
   "cell_type": "code",
   "execution_count": null,
   "metadata": {
    "pycharm": {
     "name": "#%%\n"
    }
   },
   "outputs": [],
   "source": [
    "m = lx.Model(datatree=dt_work)\n",
    "m.title = \"Exampville Work Tour Mode Choice v1\""
   ]
  },
  {
   "cell_type": "markdown",
   "metadata": {
    "pycharm": {
     "name": "#%% md\n"
    }
   },
   "source": [
    "We will explicitly define the set of utility functions \n",
    "we want to use.  Because the DataFrames we are using to \n",
    "serve data to this model contains exclusively `idco` format\n",
    "data, we'll use only the `utility_co` mapping to define\n",
    "a unique utility function for each alternative."
   ]
  },
  {
   "cell_type": "code",
   "execution_count": null,
   "metadata": {
    "pycharm": {
     "name": "#%%\n"
    }
   },
   "outputs": [],
   "source": [
    "m.utility_co[Mode.DA] = (\n",
    "    +P.InVehTime * X.AUTO_TIME + P.Cost * X.AUTO_COST  # dollars per mile\n",
    ")\n",
    "\n",
    "m.utility_co[Mode.SR] = (\n",
    "    +P.ASC_SR\n",
    "    + P.InVehTime * X.AUTO_TIME\n",
    "    + P.Cost * (X.AUTO_COST * 0.5)  # dollars per mile, half share\n",
    "    + P(\"LogIncome:SR\") * X(\"log(INCOME)\")\n",
    ")\n",
    "\n",
    "m.utility_co[Mode.Walk] = (\n",
    "    +P.ASC_Walk + P.NonMotorTime * X.WALK_TIME + P(\"LogIncome:Walk\") * X(\"log(INCOME)\")\n",
    ")\n",
    "\n",
    "m.utility_co[Mode.Bike] = (\n",
    "    +P.ASC_Bike + P.NonMotorTime * X.BIKE_TIME + P(\"LogIncome:Bike\") * X(\"log(INCOME)\")\n",
    ")\n",
    "\n",
    "m.utility_co[Mode.Transit] = (\n",
    "    +P.ASC_Transit\n",
    "    + P.InVehTime * X.TRANSIT_IVTT\n",
    "    + P.OutVehTime * X.TRANSIT_OVTT\n",
    "    + P.Cost * X.TRANSIT_FARE\n",
    "    + P(\"LogIncome:Transit\") * X(\"log(INCOME)\")\n",
    ")"
   ]
  },
  {
   "cell_type": "markdown",
   "metadata": {
    "pycharm": {
     "name": "#%% md\n"
    }
   },
   "source": [
    "To write a nested logit mode, we'll attach some nesting nodes to the \n",
    "model's `graph`.  Each `new_node` allows us to define the set of \n",
    "codes for the child nodes (elemental alternatives, or lower level nests)\n",
    "as well as giving the new nest a name and assigning a logsum parameter.\n",
    "The return value of this method is the node code for the newly created \n",
    "nest, which then can potenially be used as a child code when creating\n",
    "a higher level nest.  We do this below, adding the 'Car' nest into the \n",
    "'Motor' nest."
   ]
  },
  {
   "cell_type": "code",
   "execution_count": null,
   "metadata": {
    "pycharm": {
     "name": "#%%\n"
    }
   },
   "outputs": [],
   "source": [
    "Car = m.graph.new_node(parameter=\"Mu:Car\", children=[Mode.DA, Mode.SR], name=\"Car\")\n",
    "NonMotor = m.graph.new_node(\n",
    "    parameter=\"Mu:NonMotor\", children=[Mode.Walk, Mode.Bike], name=\"NonMotor\"\n",
    ")\n",
    "Motor = m.graph.new_node(\n",
    "    parameter=\"Mu:Motor\", children=[Car, Mode.Transit], name=\"Motor\"\n",
    ")"
   ]
  },
  {
   "cell_type": "markdown",
   "metadata": {
    "pycharm": {
     "name": "#%% md\n"
    }
   },
   "source": [
    "Let's visually check on the nesting structure."
   ]
  },
  {
   "cell_type": "code",
   "execution_count": null,
   "metadata": {
    "pycharm": {
     "name": "#%%\n"
    }
   },
   "outputs": [],
   "source": [
    "m.graph"
   ]
  },
  {
   "cell_type": "markdown",
   "metadata": {
    "pycharm": {
     "name": "#%% md\n"
    }
   },
   "source": [
    "The tour mode choice model's choice variable is indicated by \n",
    "the code value in 'TOURMODE', and this can be \n",
    "defined for the model using `choice_co_code`."
   ]
  },
  {
   "cell_type": "code",
   "execution_count": null,
   "metadata": {
    "pycharm": {
     "name": "#%%\n"
    }
   },
   "outputs": [],
   "source": [
    "m.choice_co_code = \"TOURMODE\""
   ]
  },
  {
   "cell_type": "markdown",
   "metadata": {
    "pycharm": {
     "name": "#%% md\n"
    }
   },
   "source": [
    "We can also give a dictionary of availability conditions based \n",
    "on values in the `idco` data, using the `availability_co_vars`\n",
    "attribute.  Alternatives that are always available can be indicated\n",
    "by setting the criterion to 1."
   ]
  },
  {
   "cell_type": "code",
   "execution_count": null,
   "metadata": {
    "pycharm": {
     "name": "#%%\n"
    }
   },
   "outputs": [],
   "source": [
    "m.availability_co_vars = {\n",
    "    Mode.DA: \"AGE >= 16\",\n",
    "    Mode.SR: 1,\n",
    "    Mode.Walk: \"WALK_TIME < 60\",\n",
    "    Mode.Bike: \"BIKE_TIME < 60\",\n",
    "    Mode.Transit: \"TRANSIT_FARE>0\",\n",
    "}"
   ]
  },
  {
   "cell_type": "markdown",
   "metadata": {
    "pycharm": {
     "name": "#%% md\n"
    }
   },
   "source": [
    "Then let's prepare this data for estimation.  Even though the\n",
    "data is already in memory, the `load_data` method is used to \n",
    "pre-process the data, extracting the required values, pre-computing \n",
    "the values of fixed expressions, and assembling the results into\n",
    "contiguous arrays suitable for computing the log likelihood values\n",
    "efficiently."
   ]
  },
  {
   "cell_type": "markdown",
   "metadata": {
    "pycharm": {
     "name": "#%% md\n"
    }
   },
   "source": [
    "## Model Estimation"
   ]
  },
  {
   "cell_type": "markdown",
   "metadata": {
    "pycharm": {
     "name": "#%% md\n"
    }
   },
   "source": [
    "We can check on some important statistics of this loaded data even\n",
    "before we estimate the model."
   ]
  },
  {
   "cell_type": "code",
   "execution_count": null,
   "metadata": {
    "pycharm": {
     "name": "#%%\n"
    }
   },
   "outputs": [],
   "source": [
    "m.choice_avail_summary()"
   ]
  },
  {
   "cell_type": "code",
   "execution_count": null,
   "metadata": {
    "pycharm": {
     "name": "#%%\n"
    },
    "tags": [
     "remove_cell"
    ]
   },
   "outputs": [],
   "source": [
    "# TEST\n",
    "summary = m.choice_avail_summary()\n",
    "assert (\n",
    "    (summary.to_markdown())\n",
    "    == \"\"\"\n",
    "|                            | name     |   chosen | available   | availability condition   |\n",
    "|:---------------------------|:---------|---------:|:------------|:-------------------------|\n",
    "| 1                          | DA       |     6052 | 7564        | AGE >= 16                |\n",
    "| 2                          | SR       |      810 | 7564        | 1                        |\n",
    "| 3                          | Walk     |      196 | 4179        | WALK_TIME < 60           |\n",
    "| 4                          | Bike     |       72 | 7564        | BIKE_TIME < 60           |\n",
    "| 5                          | Transit  |      434 | 4199        | TRANSIT_FARE>0           |\n",
    "| 6                          | Car      |     6862 | 7564        |                          |\n",
    "| 7                          | NonMotor |      268 | 7564        |                          |\n",
    "| 8                          | Motor    |     7296 | 7564        |                          |\n",
    "| < Total All Alternatives > |          |     7564 |             |                          |\n",
    "\"\"\"[1:-1]\n",
    ")"
   ]
  },
  {
   "cell_type": "markdown",
   "metadata": {
    "pycharm": {
     "name": "#%% md\n"
    }
   },
   "source": [
    "If we are satisfied with the statistics we see above, we\n",
    "can go ahead and estimate the model."
   ]
  },
  {
   "cell_type": "code",
   "execution_count": null,
   "metadata": {
    "pycharm": {
     "name": "#%%\n"
    }
   },
   "outputs": [],
   "source": [
    "m.compute_engine = \"numba\""
   ]
  },
  {
   "cell_type": "code",
   "execution_count": null,
   "metadata": {
    "pycharm": {
     "name": "#%%\n"
    }
   },
   "outputs": [],
   "source": [
    "mj = m.copy()\n",
    "mj.compute_engine = \"jax\""
   ]
  },
  {
   "cell_type": "code",
   "execution_count": null,
   "metadata": {
    "pycharm": {
     "name": "#%%\n"
    }
   },
   "outputs": [],
   "source": [
    "result = m.maximize_loglike(method=\"bhhh\")"
   ]
  },
  {
   "cell_type": "code",
   "execution_count": null,
   "metadata": {
    "pycharm": {
     "name": "#%%\n"
    },
    "tags": [
     "remove_cell"
    ]
   },
   "outputs": [],
   "source": [
    "# TEST\n",
    "assert result.loglike == approx(-3493.0397298749467)"
   ]
  },
  {
   "cell_type": "markdown",
   "metadata": {
    "pycharm": {
     "name": "#%% md\n"
    }
   },
   "source": [
    "After we find the best fitting parameters, we can compute\n",
    "some variance-covariance statistics, incuding standard errors of\n",
    "the estimates and t statistics, using `calculate_parameter_covariance`."
   ]
  },
  {
   "cell_type": "code",
   "execution_count": null,
   "metadata": {
    "pycharm": {
     "name": "#%%\n"
    }
   },
   "outputs": [],
   "source": [
    "m.calculate_parameter_covariance();"
   ]
  },
  {
   "cell_type": "markdown",
   "metadata": {
    "pycharm": {
     "name": "#%% md\n"
    }
   },
   "source": [
    "Then we can review the results in a variety of report tables."
   ]
  },
  {
   "cell_type": "code",
   "execution_count": null,
   "metadata": {
    "pycharm": {
     "name": "#%%\n"
    }
   },
   "outputs": [],
   "source": [
    "m.parameter_summary()"
   ]
  },
  {
   "cell_type": "code",
   "execution_count": null,
   "metadata": {
    "pycharm": {
     "name": "#%%\n"
    },
    "tags": [
     "remove_cell"
    ]
   },
   "outputs": [],
   "source": [
    "# TEST\n",
    "assert m.loglike(\n",
    "    {\n",
    "        \"ASC_Bike\": -0.258,\n",
    "        \"ASC_SR\": 1.42,\n",
    "        \"ASC_Transit\": 6.75,\n",
    "        \"ASC_Walk\": 8.62,\n",
    "        \"Cost\": -0.175,\n",
    "        \"InVehTime\": -0.123,\n",
    "        \"LogIncome:Bike\": -0.196,\n",
    "        \"LogIncome:SR\": -0.193,\n",
    "        \"LogIncome:Transit\": -0.557,\n",
    "        \"LogIncome:Walk\": -0.522,\n",
    "        \"Mu:Car\": 0.259,\n",
    "        \"Mu:Motor\": 0.801,\n",
    "        \"Mu:NonMotor\": 0.853,\n",
    "        \"NonMotorTime\": -0.265,\n",
    "        \"OutVehTime\": -0.254,\n",
    "    }\n",
    ") == approx(-3493.1651598166823)\n",
    "assert m.d_loglike() == approx(\n",
    "    np.array(\n",
    "        [\n",
    "            -5.923349e-01,\n",
    "            -4.578097e01,\n",
    "            6.587518e-01,\n",
    "            -2.008887e00,\n",
    "            3.204704e01,\n",
    "            4.917038e00,\n",
    "            -6.412804e00,\n",
    "            -4.797529e02,\n",
    "            7.073657e00,\n",
    "            -2.129807e01,\n",
    "            -8.594817e01,\n",
    "            -1.037919e00,\n",
    "            -7.935426e-01,\n",
    "            -4.520675e01,\n",
    "            5.006008e-02,\n",
    "        ]\n",
    "    )\n",
    ")\n",
    "assert m.bhhh() == approx(\n",
    "    np.asarray(\n",
    "        [\n",
    "            [\n",
    "                8.075759e01,\n",
    "                -6.429084e00,\n",
    "                -9.146018e-01,\n",
    "                -1.393596e01,\n",
    "                -4.421948e01,\n",
    "                -3.935382e02,\n",
    "                8.602698e02,\n",
    "                -6.723960e01,\n",
    "                -9.535575e00,\n",
    "                -1.492397e02,\n",
    "                -2.146034e01,\n",
    "                -1.493242e00,\n",
    "                6.045004e01,\n",
    "                3.948673e02,\n",
    "                -4.710155e00,\n",
    "            ],\n",
    "            [\n",
    "                -6.429084e00,\n",
    "                1.018920e04,\n",
    "                -2.546029e01,\n",
    "                -6.871663e00,\n",
    "                -6.805603e03,\n",
    "                1.943158e02,\n",
    "                -6.723960e01,\n",
    "                1.055976e05,\n",
    "                -2.541149e02,\n",
    "                -8.057482e01,\n",
    "                1.825392e04,\n",
    "                7.838297e00,\n",
    "                -4.304127e00,\n",
    "                -1.932471e02,\n",
    "                -1.419322e02,\n",
    "            ],\n",
    "            [\n",
    "                -9.146018e-01,\n",
    "                -2.546029e01,\n",
    "                1.672353e02,\n",
    "                -3.990500e00,\n",
    "                2.372922e02,\n",
    "                -9.974702e02,\n",
    "                -9.535575e00,\n",
    "                -2.541149e02,\n",
    "                1.779416e03,\n",
    "                -4.201672e01,\n",
    "                -6.399661e01,\n",
    "                -6.428867e01,\n",
    "                -1.050907e00,\n",
    "                -8.546463e01,\n",
    "                6.388929e02,\n",
    "            ],\n",
    "            [\n",
    "                -1.393596e01,\n",
    "                -6.871663e00,\n",
    "                -3.990500e00,\n",
    "                1.433439e02,\n",
    "                -4.968905e01,\n",
    "                -3.955136e02,\n",
    "                -1.492397e02,\n",
    "                -8.057482e01,\n",
    "                -4.201672e01,\n",
    "                1.519186e03,\n",
    "                -3.567450e01,\n",
    "                -4.654976e00,\n",
    "                1.229872e01,\n",
    "                2.638594e03,\n",
    "                -4.559200e00,\n",
    "            ],\n",
    "            [\n",
    "                -4.421948e01,\n",
    "                -6.805603e03,\n",
    "                2.372922e02,\n",
    "                -4.968905e01,\n",
    "                6.561081e03,\n",
    "                -8.477408e02,\n",
    "                -4.698072e02,\n",
    "                -7.058237e04,\n",
    "                2.486329e03,\n",
    "                -5.228979e02,\n",
    "                -1.119508e04,\n",
    "                -6.949258e01,\n",
    "                -3.032948e01,\n",
    "                -1.506044e03,\n",
    "                9.141991e02,\n",
    "            ],\n",
    "            [\n",
    "                -3.935382e02,\n",
    "                1.943158e02,\n",
    "                -9.974702e02,\n",
    "                -3.955136e02,\n",
    "                -8.477408e02,\n",
    "                1.319753e04,\n",
    "                -4.168034e03,\n",
    "                1.947043e03,\n",
    "                -1.063983e04,\n",
    "                -4.143149e03,\n",
    "                5.665783e02,\n",
    "                6.851572e02,\n",
    "                -2.827231e02,\n",
    "                -1.244020e04,\n",
    "                -4.186515e03,\n",
    "            ],\n",
    "            [\n",
    "                8.602698e02,\n",
    "                -6.723960e01,\n",
    "                -9.535575e00,\n",
    "                -1.492397e02,\n",
    "                -4.698072e02,\n",
    "                -4.168034e03,\n",
    "                9.230747e03,\n",
    "                -7.055590e02,\n",
    "                -9.940447e01,\n",
    "                -1.607689e03,\n",
    "                -2.232192e02,\n",
    "                -1.584709e01,\n",
    "                6.506544e02,\n",
    "                4.176751e03,\n",
    "                -5.105354e01,\n",
    "            ],\n",
    "            [\n",
    "                -6.723960e01,\n",
    "                1.055976e05,\n",
    "                -2.541149e02,\n",
    "                -8.057482e01,\n",
    "                -7.058237e04,\n",
    "                1.947043e03,\n",
    "                -7.055590e02,\n",
    "                1.099888e06,\n",
    "                -2.533960e03,\n",
    "                -9.330855e02,\n",
    "                1.932402e05,\n",
    "                6.734681e01,\n",
    "                -4.840060e01,\n",
    "                -2.146091e03,\n",
    "                -1.431983e03,\n",
    "            ],\n",
    "            [\n",
    "                -9.535575e00,\n",
    "                -2.541149e02,\n",
    "                1.779416e03,\n",
    "                -4.201672e01,\n",
    "                2.486329e03,\n",
    "                -1.063983e04,\n",
    "                -9.940447e01,\n",
    "                -2.533960e03,\n",
    "                1.904483e04,\n",
    "                -4.467831e02,\n",
    "                -6.474706e02,\n",
    "                -6.487259e02,\n",
    "                -1.189795e01,\n",
    "                -9.018875e02,\n",
    "                6.709564e03,\n",
    "            ],\n",
    "            [\n",
    "                -1.492397e02,\n",
    "                -8.057482e01,\n",
    "                -4.201672e01,\n",
    "                1.519186e03,\n",
    "                -5.228979e02,\n",
    "                -4.143149e03,\n",
    "                -1.607689e03,\n",
    "                -9.330855e02,\n",
    "                -4.467831e02,\n",
    "                1.620863e04,\n",
    "                -3.878460e02,\n",
    "                -5.077262e01,\n",
    "                1.308380e02,\n",
    "                2.785630e04,\n",
    "                -4.844429e01,\n",
    "            ],\n",
    "            [\n",
    "                -2.146034e01,\n",
    "                1.825392e04,\n",
    "                -6.399661e01,\n",
    "                -3.567450e01,\n",
    "                -1.119508e04,\n",
    "                5.665783e02,\n",
    "                -2.232192e02,\n",
    "                1.932402e05,\n",
    "                -6.474706e02,\n",
    "                -3.878460e02,\n",
    "                3.641852e04,\n",
    "                1.680026e01,\n",
    "                -1.929609e01,\n",
    "                -8.572419e02,\n",
    "                -3.366271e02,\n",
    "            ],\n",
    "            [\n",
    "                -1.493242e00,\n",
    "                7.838297e00,\n",
    "                -6.428867e01,\n",
    "                -4.654976e00,\n",
    "                -6.949258e01,\n",
    "                6.851572e02,\n",
    "                -1.584709e01,\n",
    "                6.734681e01,\n",
    "                -6.487259e02,\n",
    "                -5.077262e01,\n",
    "                1.680026e01,\n",
    "                4.883765e02,\n",
    "                -1.511243e00,\n",
    "                -1.040714e02,\n",
    "                9.782830e02,\n",
    "            ],\n",
    "            [\n",
    "                6.045004e01,\n",
    "                -4.304127e00,\n",
    "                -1.050907e00,\n",
    "                1.229872e01,\n",
    "                -3.032948e01,\n",
    "                -2.827231e02,\n",
    "                6.506544e02,\n",
    "                -4.840060e01,\n",
    "                -1.189795e01,\n",
    "                1.308380e02,\n",
    "                -1.929609e01,\n",
    "                -1.511243e00,\n",
    "                1.274382e02,\n",
    "                7.420690e02,\n",
    "                -1.648080e00,\n",
    "            ],\n",
    "            [\n",
    "                3.948673e02,\n",
    "                -1.932471e02,\n",
    "                -8.546463e01,\n",
    "                2.638594e03,\n",
    "                -1.506044e03,\n",
    "                -1.244020e04,\n",
    "                4.176751e03,\n",
    "                -2.146091e03,\n",
    "                -9.018875e02,\n",
    "                2.785630e04,\n",
    "                -8.572419e02,\n",
    "                -1.040714e02,\n",
    "                7.420690e02,\n",
    "                5.998454e04,\n",
    "                -1.462547e02,\n",
    "            ],\n",
    "            [\n",
    "                -4.710155e00,\n",
    "                -1.419322e02,\n",
    "                6.388929e02,\n",
    "                -4.559200e00,\n",
    "                9.141991e02,\n",
    "                -4.186515e03,\n",
    "                -5.105354e01,\n",
    "                -1.431983e03,\n",
    "                6.709564e03,\n",
    "                -4.844429e01,\n",
    "                -3.366271e02,\n",
    "                9.782830e02,\n",
    "                -1.648080e00,\n",
    "                -1.462547e02,\n",
    "                6.705056e03,\n",
    "            ],\n",
    "        ]\n",
    "    )\n",
    ")"
   ]
  },
  {
   "cell_type": "code",
   "execution_count": null,
   "metadata": {
    "pycharm": {
     "name": "#%%\n"
    },
    "tags": [
     "remove_cell"
    ]
   },
   "outputs": [],
   "source": [
    "# TEST\n",
    "assert m.loglike(\n",
    "    {\n",
    "        \"ASC_Bike\": 0,\n",
    "        \"ASC_SR\": 0,\n",
    "        \"ASC_Transit\": 0,\n",
    "        \"ASC_Walk\": 0,\n",
    "        \"Cost\": -0.175,\n",
    "        \"InVehTime\": 0,\n",
    "        \"LogIncome:Bike\": 0,\n",
    "        \"LogIncome:SR\": 0,\n",
    "        \"LogIncome:Transit\": 0,\n",
    "        \"LogIncome:Walk\": 0,\n",
    "        \"Mu:Car\": 0.259,\n",
    "        \"Mu:Motor\": 0.801,\n",
    "        \"Mu:NonMotor\": 0.853,\n",
    "        \"NonMotorTime\": 0,\n",
    "        \"OutVehTime\": 0,\n",
    "    }\n",
    ") == approx(-13998.675244346756)\n",
    "assert m.d_loglike() == approx(\n",
    "    [\n",
    "        -2635.23326,\n",
    "        -10134.810415,\n",
    "        -705.264876,\n",
    "        -1043.736457,\n",
    "        10341.511798,\n",
    "        32697.264187,\n",
    "        -28621.538072,\n",
    "        -111952.485356,\n",
    "        -7921.881902,\n",
    "        -11292.174797,\n",
    "        8475.077026,\n",
    "        547.118835,\n",
    "        -1553.37647,\n",
    "        -88469.408946,\n",
    "        -50705.443209,\n",
    "    ]\n",
    ")"
   ]
  },
  {
   "cell_type": "code",
   "execution_count": null,
   "metadata": {
    "pycharm": {
     "name": "#%%\n"
    },
    "tags": [
     "remove_cell"
    ]
   },
   "outputs": [],
   "source": [
    "# TEST\n",
    "assert m.loglike(\n",
    "    {\n",
    "        \"ASC_Bike\": 0,\n",
    "        \"ASC_SR\": 0,\n",
    "        \"ASC_Transit\": 0,\n",
    "        \"ASC_Walk\": 0,\n",
    "        \"Cost\": -0.175,\n",
    "        \"InVehTime\": 0,\n",
    "        \"LogIncome:Bike\": 0,\n",
    "        \"LogIncome:SR\": 0,\n",
    "        \"LogIncome:Transit\": 0,\n",
    "        \"LogIncome:Walk\": 0,\n",
    "        \"Mu:Car\": 0.259,\n",
    "        \"Mu:Motor\": 1.0,\n",
    "        \"Mu:NonMotor\": 0.853,\n",
    "        \"NonMotorTime\": 0,\n",
    "        \"OutVehTime\": 0,\n",
    "    }\n",
    ") == approx(-13874.599159933234)\n",
    "assert m.d_loglike() == approx(\n",
    "    [\n",
    "        -2519.134354,\n",
    "        -10332.08641,\n",
    "        -535.431417,\n",
    "        -1024.805223,\n",
    "        10396.304454,\n",
    "        30467.260085,\n",
    "        -27354.84768,\n",
    "        -114131.694692,\n",
    "        -6024.215889,\n",
    "        -11088.974147,\n",
    "        8278.911004,\n",
    "        680.534926,\n",
    "        -1527.132206,\n",
    "        -85008.121443,\n",
    "        -39466.996726,\n",
    "    ]\n",
    ")"
   ]
  },
  {
   "cell_type": "code",
   "execution_count": null,
   "metadata": {
    "pycharm": {
     "name": "#%%\n"
    },
    "tags": [
     "remove_cell"
    ]
   },
   "outputs": [],
   "source": [
    "# TEST\n",
    "assert m.loglike(\n",
    "    {\n",
    "        \"ASC_Bike\": 0,\n",
    "        \"ASC_SR\": 0,\n",
    "        \"ASC_Transit\": 0,\n",
    "        \"ASC_Walk\": 0,\n",
    "        \"Cost\": -0.175,\n",
    "        \"InVehTime\": 0,\n",
    "        \"LogIncome:Bike\": 0,\n",
    "        \"LogIncome:SR\": 0,\n",
    "        \"LogIncome:Transit\": 0,\n",
    "        \"LogIncome:Walk\": 0,\n",
    "        \"Mu:Car\": 1.0,\n",
    "        \"Mu:Motor\": 1.0,\n",
    "        \"Mu:NonMotor\": 0.853,\n",
    "        \"NonMotorTime\": 0,\n",
    "        \"OutVehTime\": 0,\n",
    "    }\n",
    ") == approx(-11070.479718500861)\n",
    "assert m.d_loglike() == approx(\n",
    "    [\n",
    "        -2010.425803,\n",
    "        -1143.121097,\n",
    "        -354.09085,\n",
    "        -784.933422,\n",
    "        3768.268759,\n",
    "        23780.554672,\n",
    "        -21833.896314,\n",
    "        -12810.449485,\n",
    "        -4047.774585,\n",
    "        -8505.711496,\n",
    "        2476.484342,\n",
    "        171.162676,\n",
    "        -1194.599282,\n",
    "        -67783.778892,\n",
    "        -31832.259099,\n",
    "    ]\n",
    ")"
   ]
  },
  {
   "cell_type": "code",
   "execution_count": null,
   "metadata": {
    "pycharm": {
     "name": "#%%\n"
    },
    "tags": [
     "remove_cell"
    ]
   },
   "outputs": [],
   "source": [
    "# TEST\n",
    "assert m.loglike(\n",
    "    {\n",
    "        \"ASC_Bike\": 0,\n",
    "        \"ASC_SR\": 0,\n",
    "        \"ASC_Transit\": 0,\n",
    "        \"ASC_Walk\": 0,\n",
    "        \"Cost\": -0.175,\n",
    "        \"InVehTime\": 0,\n",
    "        \"LogIncome:Bike\": 0,\n",
    "        \"LogIncome:SR\": 0,\n",
    "        \"LogIncome:Transit\": 0,\n",
    "        \"LogIncome:Walk\": 0,\n",
    "        \"Mu:Car\": 1.0,\n",
    "        \"Mu:Motor\": 1.0,\n",
    "        \"Mu:NonMotor\": 1.0,\n",
    "        \"NonMotorTime\": 0,\n",
    "        \"OutVehTime\": 0,\n",
    "    }\n",
    ") == approx(-11251.479763710428)\n",
    "assert m.d_loglike() == approx(\n",
    "    [\n",
    "        -2052.097618,\n",
    "        -1092.631079,\n",
    "        -346.361534,\n",
    "        -849.180852,\n",
    "        3834.917306,\n",
    "        24339.366944,\n",
    "        -22286.249505,\n",
    "        -12266.75887,\n",
    "        -3964.809683,\n",
    "        -9193.707237,\n",
    "        2544.498541,\n",
    "        188.063682,\n",
    "        -1268.016907,\n",
    "        -70294.694308,\n",
    "        -31671.372503,\n",
    "    ]\n",
    ")"
   ]
  },
  {
   "cell_type": "code",
   "execution_count": null,
   "metadata": {
    "pycharm": {
     "name": "#%%\n"
    },
    "tags": [
     "remove_cell"
    ]
   },
   "outputs": [],
   "source": [
    "# TEST\n",
    "m.pvals = result.x.values\n",
    "assert result.x.values == approx(\n",
    "    np.array(\n",
    "        [\n",
    "            -0.258487,\n",
    "            1.422852,\n",
    "            6.754264,\n",
    "            8.621445,\n",
    "            -0.175691,\n",
    "            -0.123711,\n",
    "            -0.196929,\n",
    "            -0.193804,\n",
    "            -0.557133,\n",
    "            -0.522779,\n",
    "            0.259289,\n",
    "            0.801594,\n",
    "            0.853706,\n",
    "            -0.265583,\n",
    "            -0.254791,\n",
    "        ]\n",
    "    ),\n",
    "    rel=1e-2,\n",
    ")"
   ]
  },
  {
   "cell_type": "code",
   "execution_count": null,
   "metadata": {
    "pycharm": {
     "name": "#%%\n"
    },
    "tags": [
     "remove_cell"
    ]
   },
   "outputs": [],
   "source": [
    "# TEST\n",
    "assert m.pstderr == approx(\n",
    "    np.array(\n",
    "        [\n",
    "            1.339537,\n",
    "            1.001639,\n",
    "            2.064447,\n",
    "            1.138892,\n",
    "            0.119573,\n",
    "            0.029206,\n",
    "            0.123539,\n",
    "            0.135447,\n",
    "            0.169267,\n",
    "            0.100378,\n",
    "            0.18073,\n",
    "            0.20086,\n",
    "            0.112139,\n",
    "            0.016306,\n",
    "            0.064567,\n",
    "        ]\n",
    "    ),\n",
    "    rel=1e-2,\n",
    ")"
   ]
  },
  {
   "cell_type": "code",
   "execution_count": null,
   "metadata": {
    "pycharm": {
     "name": "#%%\n"
    },
    "tags": [
     "remove_cell"
    ]
   },
   "outputs": [],
   "source": [
    "# TEST\n",
    "assert m.parameter_summary().data[\"Signif\"].to_dict() == {\n",
    "    \"ASC_Bike\": \"\",\n",
    "    \"ASC_SR\": \"\",\n",
    "    \"ASC_Transit\": \"**\",\n",
    "    \"ASC_Walk\": \"***\",\n",
    "    \"Cost\": \"\",\n",
    "    \"InVehTime\": \"***\",\n",
    "    \"LogIncome:Bike\": \"\",\n",
    "    \"LogIncome:SR\": \"\",\n",
    "    \"LogIncome:Transit\": \"***\",\n",
    "    \"LogIncome:Walk\": \"***\",\n",
    "    \"Mu:Car\": \"***\",\n",
    "    \"Mu:Motor\": \"\",\n",
    "    \"Mu:NonMotor\": \"\",\n",
    "    \"NonMotorTime\": \"***\",\n",
    "    \"OutVehTime\": \"***\",\n",
    "}"
   ]
  },
  {
   "cell_type": "code",
   "execution_count": null,
   "metadata": {
    "pycharm": {
     "name": "#%%\n"
    }
   },
   "outputs": [],
   "source": [
    "m.estimation_statistics()"
   ]
  },
  {
   "cell_type": "code",
   "execution_count": null,
   "metadata": {
    "pycharm": {
     "name": "#%%\n"
    }
   },
   "outputs": [],
   "source": [
    "mj.set_cap(20)"
   ]
  },
  {
   "cell_type": "code",
   "execution_count": null,
   "metadata": {
    "pycharm": {
     "name": "#%%\n"
    }
   },
   "outputs": [],
   "source": [
    "resultj = mj.maximize_loglike(stderr=False)"
   ]
  },
  {
   "cell_type": "code",
   "execution_count": null,
   "metadata": {
    "pycharm": {
     "name": "#%%\n"
    },
    "tags": [
     "remove_cell"
    ]
   },
   "outputs": [],
   "source": [
    "# TEST\n",
    "assert resultj.loglike == approx(-3493.0397298749467)"
   ]
  },
  {
   "cell_type": "code",
   "execution_count": null,
   "metadata": {
    "pycharm": {
     "name": "#%%\n"
    },
    "tags": [
     "remove_cell"
    ]
   },
   "outputs": [],
   "source": [
    "# TEST\n",
    "assert resultj.x == approx(result.x, rel=1e-2)"
   ]
  },
  {
   "cell_type": "markdown",
   "metadata": {
    "pycharm": {
     "name": "#%% md\n"
    }
   },
   "source": [
    "## Save and Report Model"
   ]
  },
  {
   "cell_type": "code",
   "execution_count": null,
   "metadata": {
    "pycharm": {
     "name": "#%%\n"
    }
   },
   "outputs": [],
   "source": [
    "report = lx.Reporter(title=m.title)"
   ]
  },
  {
   "cell_type": "code",
   "execution_count": null,
   "metadata": {
    "pycharm": {
     "name": "#%%\n"
    }
   },
   "outputs": [],
   "source": [
    "report.append(\"# Parameter Summary\")\n",
    "report.append(m.parameter_summary())\n",
    "report"
   ]
  },
  {
   "cell_type": "code",
   "execution_count": null,
   "metadata": {
    "pycharm": {
     "name": "#%%\n"
    }
   },
   "outputs": [],
   "source": [
    "report << \"# Estimation Statistics\" << m.estimation_statistics()"
   ]
  },
  {
   "cell_type": "code",
   "execution_count": null,
   "metadata": {
    "pycharm": {
     "name": "#%%\n"
    }
   },
   "outputs": [],
   "source": [
    "report << \"# Utility Functions\" << m.utility_functions()"
   ]
  },
  {
   "cell_type": "code",
   "execution_count": null,
   "metadata": {
    "pycharm": {
     "name": "#%%\n"
    }
   },
   "outputs": [],
   "source": [
    "report.save(\n",
    "    \"exampville_mode_choice.html\",\n",
    "    overwrite=True,\n",
    "    metadata=m.dumps(),\n",
    ")"
   ]
  }
 ],
 "metadata": {
  "kernelspec": {
   "display_name": "Python 3 (ipykernel)",
   "language": "python",
   "name": "python3"
  },
  "language_info": {
   "codemirror_mode": {
    "name": "ipython",
    "version": 3
   },
   "file_extension": ".py",
   "mimetype": "text/x-python",
   "name": "python",
   "nbconvert_exporter": "python",
   "pygments_lexer": "ipython3",
   "version": "3.10.6"
  },
  "toc": {
   "base_numbering": 1,
   "nav_menu": {},
   "number_sections": true,
   "sideBar": true,
   "skip_h1_title": false,
   "title_cell": "Table of Contents",
   "title_sidebar": "Contents",
   "toc_cell": false,
   "toc_position": {},
   "toc_section_display": true,
   "toc_window_display": false
  }
 },
 "nbformat": 4,
 "nbformat_minor": 4
}
