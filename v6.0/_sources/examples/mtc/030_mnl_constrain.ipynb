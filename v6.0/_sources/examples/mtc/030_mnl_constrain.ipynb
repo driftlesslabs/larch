{
 "cells": [
  {
   "cell_type": "markdown",
   "id": "0",
   "metadata": {
    "pycharm": {
     "name": "#%% md\n"
    }
   },
   "source": [
    "# 30: MTC MNL Constrained Mode Choice"
   ]
  },
  {
   "cell_type": "code",
   "execution_count": null,
   "id": "1",
   "metadata": {
    "pycharm": {
     "name": "#%%\n"
    },
    "tags": [
     "remove-output"
    ]
   },
   "outputs": [],
   "source": [
    "import pandas as pd\n",
    "\n",
    "import larch as lx\n",
    "from larch import P, X"
   ]
  },
  {
   "cell_type": "code",
   "execution_count": null,
   "id": "2",
   "metadata": {
    "pycharm": {
     "name": "#%%\n"
    },
    "tags": [
     "remove-cell"
    ]
   },
   "outputs": [],
   "source": [
    "# TEST\n",
    "pd.set_option(\"display.max_columns\", 999)\n",
    "pd.set_option(\"expand_frame_repr\", False)\n",
    "pd.set_option(\"display.precision\", 3)\n",
    "from pytest import approx"
   ]
  },
  {
   "cell_type": "markdown",
   "id": "3",
   "metadata": {
    "pycharm": {
     "name": "#%% md\n"
    }
   },
   "source": [
    "This example is a mode choice model built using the MTC example dataset.\n",
    "First we create the Dataset and Model objects:"
   ]
  },
  {
   "cell_type": "code",
   "execution_count": null,
   "id": "4",
   "metadata": {
    "pycharm": {
     "name": "#%%\n"
    }
   },
   "outputs": [],
   "source": [
    "m = lx.example(1)\n",
    "m.title = \"MTC Example 30 (Constrained Simple MNL)\"\n",
    "m.compute_engine = \"numba\""
   ]
  },
  {
   "cell_type": "markdown",
   "id": "5",
   "metadata": {},
   "source": [
    "Suppose we want to ensure that the implied value of time must be at least $5 per hour.\n",
    "Our data expresses cost in cents and time in minutes. Given our simple utility formulation,\n",
    "the target value of time is achieved if the ratio of the cost parameter to the time\n",
    "parameter exceeds 3.0.\n",
    "\n",
    "We could explicitly set the ratio at exactly 3.0 by writing the model with only one parameter."
   ]
  },
  {
   "cell_type": "code",
   "execution_count": null,
   "id": "6",
   "metadata": {},
   "outputs": [],
   "source": [
    "m_explicit = m.copy()"
   ]
  },
  {
   "cell_type": "code",
   "execution_count": null,
   "id": "7",
   "metadata": {},
   "outputs": [],
   "source": [
    "m_explicit.utility_ca = P.tottime * X.tottime + P.tottime * 3 * X.totcost\n",
    "m_explicit.remove_unused_parameters()"
   ]
  },
  {
   "cell_type": "code",
   "execution_count": null,
   "id": "8",
   "metadata": {},
   "outputs": [],
   "source": [
    "result_explicit = m_explicit.maximize_loglike(stderr=True)"
   ]
  },
  {
   "cell_type": "code",
   "execution_count": null,
   "id": "9",
   "metadata": {
    "tags": [
     "remove-cell"
    ]
   },
   "outputs": [],
   "source": [
    "# TEST\n",
    "assert dict(result_explicit.x) == approx(\n",
    "    {\n",
    "        \"ASC_BIKE\": -3.160341033282137,\n",
    "        \"ASC_SR2\": -2.455346066177878,\n",
    "        \"ASC_SR3P\": -4.07978282935071,\n",
    "        \"ASC_TRAN\": -1.893119496181938,\n",
    "        \"ASC_WALK\": -1.9872045506898044,\n",
    "        \"hhinc#2\": -0.001987067161990932,\n",
    "        \"hhinc#3\": 0.0004572703656089083,\n",
    "        \"hhinc#4\": -0.0061615116904621394,\n",
    "        \"hhinc#5\": -0.014090413152090066,\n",
    "        \"hhinc#6\": -0.009378906115232344,\n",
    "        \"tottime\": -0.001738655408619947,\n",
    "    },\n",
    "    rel=1e-3,\n",
    ")\n",
    "assert result_explicit.logloss == approx(0.7533452255366115)\n",
    "assert result_explicit.loglike == approx(-3788.5731392236194)\n",
    "assert result_explicit.message == \"Optimization terminated successfully\""
   ]
  },
  {
   "cell_type": "code",
   "execution_count": null,
   "id": "10",
   "metadata": {
    "pycharm": {
     "name": "#%%\n"
    }
   },
   "outputs": [],
   "source": [
    "from larch.model.constraints import RatioBound\n",
    "\n",
    "m.pmaximum = {\"totcost\": 0, \"tottime\": 0}\n",
    "\n",
    "m.constraints = [\n",
    "    RatioBound(\"totcost\", \"tottime\", min_ratio=3.0, max_ratio=999.0, scale=100),\n",
    "]"
   ]
  },
  {
   "cell_type": "markdown",
   "id": "11",
   "metadata": {
    "pycharm": {
     "name": "#%% md\n"
    }
   },
   "source": [
    "Having created this model, we can then estimate it:"
   ]
  },
  {
   "cell_type": "code",
   "execution_count": null,
   "id": "12",
   "metadata": {
    "pycharm": {
     "name": "#%%\n"
    },
    "tags": [
     "remove-cell"
    ]
   },
   "outputs": [],
   "source": [
    "# TEST\n",
    "assert dict(m.required_data()) == {\n",
    "    \"ca\": [\"totcost\", \"tottime\"],\n",
    "    \"co\": [\"hhinc\"],\n",
    "    \"choice_ca\": \"chose\",\n",
    "    \"avail_ca\": \"avail\",\n",
    "}\n",
    "assert m.loglike() == approx(-7309.600971749634)"
   ]
  },
  {
   "cell_type": "code",
   "execution_count": null,
   "id": "13",
   "metadata": {
    "pycharm": {
     "name": "#%%\n"
    }
   },
   "outputs": [],
   "source": [
    "result = m.maximize_loglike(stderr=True)"
   ]
  },
  {
   "cell_type": "code",
   "execution_count": null,
   "id": "14",
   "metadata": {},
   "outputs": [],
   "source": [
    "result"
   ]
  },
  {
   "cell_type": "code",
   "execution_count": null,
   "id": "15",
   "metadata": {
    "pycharm": {
     "name": "#%%\n"
    },
    "tags": [
     "remove-cell"
    ]
   },
   "outputs": [],
   "source": [
    "# TEST\n",
    "assert result.loglike == approx(-3788.573358)\n",
    "assert result.logloss == approx(0.753345269140234)\n",
    "assert result.message == \"Optimization terminated successfully\"\n",
    "assert m.total_weight() == 5029.0"
   ]
  },
  {
   "cell_type": "code",
   "execution_count": null,
   "id": "16",
   "metadata": {
    "pycharm": {
     "name": "#%%\n"
    }
   },
   "outputs": [],
   "source": [
    "m.parameter_summary()"
   ]
  },
  {
   "cell_type": "code",
   "execution_count": null,
   "id": "17",
   "metadata": {
    "pycharm": {
     "name": "#%%\n"
    },
    "tags": [
     "remove-cell"
    ]
   },
   "outputs": [],
   "source": [
    "# TEST\n",
    "summary = m.parameter_summary()\n",
    "# assert_same_text(\n",
    "#     summary.data.to_markdown(),\n",
    "#     '''\n",
    "# | Parameter   |     Value |   Std Err |   t Stat | Signif   |   Null Value | Constrained             |\n",
    "# |:------------|----------:|----------:|---------:|:---------|-------------:|:------------------------|\n",
    "# | ASC_BIKE    | -3.16     |  0.309    |   -10.23 | ***      |            0 |                         |\n",
    "# | ASC_SR2     | -2.46     |  0.103    |   -23.94 | ***      |            0 |                         |\n",
    "# | ASC_SR3P    | -4.08     |  0.175    |   -23.26 | ***      |            0 |                         |\n",
    "# | ASC_TRAN    | -1.89     |  0.112    |   -16.87 | ***      |            0 |                         |\n",
    "# | ASC_WALK    | -1.99     |  0.169    |   -11.77 | ***      |            0 |                         |\n",
    "# | hhinc#2     | -0.00199  |  0.00154  |    -1.3  |          |            0 |                         |\n",
    "# | hhinc#3     |  0.000462 |  0.00252  |     0.18 |          |            0 |                         |\n",
    "# | hhinc#4     | -0.00616  |  0.0018   |    -3.42 | ***      |            0 |                         |\n",
    "# | hhinc#5     | -0.0141   |  0.0055   |    -2.57 | *        |            0 |                         |\n",
    "# | hhinc#6     | -0.00941  |  0.00306  |    -3.08 | **       |            0 |                         |\n",
    "# | totcost     | -0.00522  |  0.000243 |   -21.5  | ***      |            0 | totcost / tottime ≥ 3.0 |\n",
    "# | tottime     | -0.00174  |  8.09e-05 |   -21.5  | ***      |            0 | totcost / tottime ≥ 3.0 |\n",
    "#     '''\n",
    "# )"
   ]
  },
  {
   "cell_type": "markdown",
   "id": "18",
   "metadata": {
    "pycharm": {
     "name": "#%% md\n"
    }
   },
   "source": [
    "It is a little tough to read this report because the parameters can show up \n",
    "in pretty much any order, as they are not sorted\n",
    "when they are automatically discovered by Larch.\n",
    "We can use the reorder method to fix this:"
   ]
  },
  {
   "cell_type": "code",
   "execution_count": null,
   "id": "19",
   "metadata": {
    "pycharm": {
     "name": "#%%\n"
    }
   },
   "outputs": [],
   "source": [
    "m.ordering = (\n",
    "    (\n",
    "        \"LOS\",\n",
    "        \"totcost\",\n",
    "        \"tottime\",\n",
    "    ),\n",
    "    (\n",
    "        \"ASCs\",\n",
    "        \"ASC.*\",\n",
    "    ),\n",
    "    (\n",
    "        \"Income\",\n",
    "        \"hhinc.*\",\n",
    "    ),\n",
    ")"
   ]
  },
  {
   "cell_type": "code",
   "execution_count": null,
   "id": "20",
   "metadata": {
    "pycharm": {
     "name": "#%%\n"
    }
   },
   "outputs": [],
   "source": [
    "m.parameter_summary()"
   ]
  },
  {
   "cell_type": "code",
   "execution_count": null,
   "id": "21",
   "metadata": {
    "pycharm": {
     "name": "#%%\n"
    },
    "tags": [
     "remove-cell"
    ]
   },
   "outputs": [],
   "source": [
    "# TEST\n",
    "summary2 = m.parameter_summary()\n",
    "# assert_same_text(\n",
    "#     summary2.data.to_markdown(),\n",
    "#     '''\n",
    "# |                       |     Value |   Std Err |   t Stat | Signif   |   Null Value | Constrained             |\n",
    "# |:----------------------|----------:|----------:|---------:|:---------|-------------:|:------------------------|\n",
    "# | ('LOS', 'totcost')    | -0.00522  |  0.000243 |   -21.5  | ***      |            0 | totcost / tottime ≥ 3.0 |\n",
    "# | ('LOS', 'tottime')    | -0.00174  |  8.09e-05 |   -21.5  | ***      |            0 | totcost / tottime ≥ 3.0 |\n",
    "# | ('ASCs', 'ASC_BIKE')  | -3.16     |  0.309    |   -10.23 | ***      |            0 |                         |\n",
    "# | ('ASCs', 'ASC_SR2')   | -2.46     |  0.103    |   -23.94 | ***      |            0 |                         |\n",
    "# | ('ASCs', 'ASC_SR3P')  | -4.08     |  0.175    |   -23.26 | ***      |            0 |                         |\n",
    "# | ('ASCs', 'ASC_TRAN')  | -1.89     |  0.112    |   -16.87 | ***      |            0 |                         |\n",
    "# | ('ASCs', 'ASC_WALK')  | -1.99     |  0.169    |   -11.77 | ***      |            0 |                         |\n",
    "# | ('Income', 'hhinc#2') | -0.00199  |  0.00154  |    -1.3  |          |            0 |                         |\n",
    "# | ('Income', 'hhinc#3') |  0.000462 |  0.00252  |     0.18 |          |            0 |                         |\n",
    "# | ('Income', 'hhinc#4') | -0.00616  |  0.0018   |    -3.42 | ***      |            0 |                         |\n",
    "# | ('Income', 'hhinc#5') | -0.0141   |  0.0055   |    -2.57 | *        |            0 |                         |\n",
    "# | ('Income', 'hhinc#6') | -0.00941  |  0.00306  |    -3.08 | **       |            0 |                         |\n",
    "#     '''\n",
    "# )"
   ]
  }
 ],
 "metadata": {
  "kernelspec": {
   "display_name": "Python 3 (ipykernel)",
   "language": "python",
   "name": "python3"
  },
  "language_info": {
   "codemirror_mode": {
    "name": "ipython",
    "version": 3
   },
   "file_extension": ".py",
   "mimetype": "text/x-python",
   "name": "python",
   "nbconvert_exporter": "python",
   "pygments_lexer": "ipython3",
   "version": "3.10.14"
  },
  "toc": {
   "base_numbering": 1,
   "nav_menu": {},
   "number_sections": false,
   "sideBar": true,
   "skip_h1_title": false,
   "title_cell": "Table of Contents",
   "title_sidebar": "Contents",
   "toc_cell": false,
   "toc_position": {},
   "toc_section_display": true,
   "toc_window_display": false
  }
 },
 "nbformat": 4,
 "nbformat_minor": 5
}
