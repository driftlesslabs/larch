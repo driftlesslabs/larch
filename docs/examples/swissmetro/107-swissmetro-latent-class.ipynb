{
 "cells": [
  {
   "cell_type": "markdown",
   "id": "1e520587-3d44-4d9d-8dd5-9156fc9d6882",
   "metadata": {},
   "source": [
    "# 107: Swissmetro Latent Class"
   ]
  },
  {
   "cell_type": "code",
   "execution_count": null,
   "id": "2fa84412-2563-4964-9fbd-0decf118e91a",
   "metadata": {},
   "outputs": [],
   "source": [
    "# TEST\n",
    "import numpy as np\n",
    "import pandas as pd\n",
    "\n",
    "pd.set_option(\"display.max_columns\", 999)\n",
    "pd.set_option(\"expand_frame_repr\", False)\n",
    "pd.set_option(\"display.precision\", 3)\n",
    "np.set_printoptions(precision=12)\n",
    "from pytest import approx\n",
    "\n",
    "import larch as lx"
   ]
  },
  {
   "cell_type": "code",
   "execution_count": null,
   "id": "0",
   "metadata": {},
   "outputs": [],
   "source": [
    "import numpy as np\n",
    "import pandas as pd\n",
    "import larch as lx\n",
    "from larch import P, X\n",
    "\n",
    "print(lx.versions())"
   ]
  },
  {
   "cell_type": "markdown",
   "id": "82fcb2d7-acbd-4f80-8714-98f54c06262b",
   "metadata": {},
   "source": [
    "This example is a latent class mode choice model (also known as a discrete mixture model) built using the Swissmetro example dataset.\n",
    "We will follow the formulation of this model from the Biogeme documentation on the\n",
    "[equivalent model](https://biogeme.epfl.ch/sphinx/auto_examples/swissmetro/plot_b07discrete_mixture.html).\n",
    "\n",
    "The first step is to load the data and do some pre-processing, so that the format and scale of the \n",
    "data matches that from the Biogeme example."
   ]
  },
  {
   "cell_type": "code",
   "execution_count": null,
   "id": "1",
   "metadata": {},
   "outputs": [],
   "source": [
    "raw = pd.read_csv(lx.example_file(\"swissmetro.csv.gz\"))\n",
    "raw[\"SM_COST\"] = raw[\"SM_CO\"] * (raw[\"GA\"] == 0)\n",
    "raw[\"TRAIN_COST\"] = raw.eval(\"TRAIN_CO * (GA == 0)\")\n",
    "raw[\"TRAIN_COST_SCALED\"] = raw[\"TRAIN_COST\"] / 100\n",
    "raw[\"TRAIN_TT_SCALED\"] = raw[\"TRAIN_TT\"] / 100\n",
    "raw[\"SM_COST_SCALED\"] = raw.eval(\"SM_COST / 100\")\n",
    "raw[\"SM_TT_SCALED\"] = raw[\"SM_TT\"] / 100\n",
    "raw[\"CAR_CO_SCALED\"] = raw[\"CAR_CO\"] / 100\n",
    "raw[\"CAR_TT_SCALED\"] = raw[\"CAR_TT\"] / 100\n",
    "raw[\"CAR_AV_SP\"] = raw.eval(\"CAR_AV * (SP!=0)\")\n",
    "raw[\"TRAIN_AV_SP\"] = raw.eval(\"TRAIN_AV * (SP!=0)\")"
   ]
  },
  {
   "cell_type": "markdown",
   "id": "f910918a-d002-4c66-80c6-ae6da11b0e0a",
   "metadata": {},
   "source": [
    "We now have a pandas DataFrame in \"wide\" or [idco](idco) format, with one row per choice observation."
   ]
  },
  {
   "cell_type": "code",
   "execution_count": null,
   "id": "2",
   "metadata": {},
   "outputs": [],
   "source": [
    "raw"
   ]
  },
  {
   "cell_type": "markdown",
   "id": "390d769e-6d73-4a21-8849-2ccbe78225ba",
   "metadata": {},
   "source": [
    "We can convert this to a Larch Dataset, filtering to include only the cases of interest,\n",
    "following the same filter applied in the Biogeme example."
   ]
  },
  {
   "cell_type": "code",
   "execution_count": null,
   "id": "3",
   "metadata": {},
   "outputs": [],
   "source": [
    "data = lx.Dataset.construct.from_idco(raw).dc.query_cases(\"PURPOSE in (1,3) and CHOICE != 0\")"
   ]
  },
  {
   "cell_type": "markdown",
   "id": "a4bb45a6-5efd-4cd5-bb68-e86eedca94b0",
   "metadata": {},
   "source": [
    "The result is a Dataset with 6,768 cases."
   ]
  },
  {
   "cell_type": "code",
   "execution_count": null,
   "id": "af3f8874-1119-4db8-a43a-4deea936f46c",
   "metadata": {},
   "outputs": [],
   "source": [
    "data"
   ]
  },
  {
   "cell_type": "markdown",
   "id": "1437d199-02d5-4878-ab0f-1e956e8354c5",
   "metadata": {},
   "source": [
    "For convenience, we can collect the names of the variables that define alternative availability\n",
    "into a dictionary, keyed on the codes we will use to represent each alternative."
   ]
  },
  {
   "cell_type": "code",
   "execution_count": null,
   "id": "4",
   "metadata": {},
   "outputs": [],
   "source": [
    "availability_co_vars = {\n",
    "    1: \"TRAIN_AV_SP\",\n",
    "    2: \"SM_AV\",\n",
    "    3: \"CAR_AV_SP\",\n",
    "}"
   ]
  },
  {
   "cell_type": "markdown",
   "id": "5",
   "metadata": {},
   "source": [
    "Then we can contruct choice models for each of the classes.  This is done in the\n",
    "usual manner for Larch choice models, assigning utility functions, alternative \n",
    "availability conditions, and choice markers in the usual manner.\n",
    "\n",
    "In this example, Class 1 chooses based on cost, and the utility functions include\n",
    "a set of alternative specific constants."
   ]
  },
  {
   "cell_type": "code",
   "execution_count": null,
   "id": "6",
   "metadata": {},
   "outputs": [],
   "source": [
    "m1 = lx.Model(title=\"Model1\")\n",
    "m1.utility_co[1] = P(\"ASC_TRAIN\") + X(\"TRAIN_COST_SCALED\") * P(\"B_COST\")\n",
    "m1.utility_co[2] = X(\"SM_COST_SCALED\") * P(\"B_COST\")\n",
    "m1.utility_co[3] = P(\"ASC_CAR\") + X(\"CAR_CO_SCALED\") * P(\"B_COST\")\n",
    "m1.availability_co_vars = availability_co_vars\n",
    "m1.choice_co_code = \"CHOICE\"\n"
   ]
  },
  {
   "cell_type": "markdown",
   "id": "7",
   "metadata": {},
   "source": [
    "Class 2 is the nearly same model, defined completely seperately but in a similar manner. \n",
    "The only difference is in the utility functions, which adds travel time to the utility."
   ]
  },
  {
   "cell_type": "code",
   "execution_count": null,
   "id": "8",
   "metadata": {},
   "outputs": [],
   "source": [
    "m2 = lx.Model(title=\"Model2\")\n",
    "m2.utility_co[1] = (\n",
    "    P(\"ASC_TRAIN\")\n",
    "    + X(\"TRAIN_TT_SCALED\") * P(\"B_TIME\")\n",
    "    + X(\"TRAIN_COST_SCALED\") * P(\"B_COST\")\n",
    ")\n",
    "m2.utility_co[2] = X(\"SM_TT_SCALED\") * P(\"B_TIME\") + X(\"SM_COST_SCALED\") * P(\"B_COST\")\n",
    "m2.utility_co[3] = (\n",
    "    P(\"ASC_CAR\") + X(\"CAR_TT_SCALED\") * P(\"B_TIME\") + X(\"CAR_CO_SCALED\") * P(\"B_COST\")\n",
    ")\n",
    "m2.availability_co_vars = availability_co_vars\n",
    "m2.choice_co_code = \"CHOICE\""
   ]
  },
  {
   "cell_type": "markdown",
   "id": "11",
   "metadata": {},
   "source": [
    "The class membership model is another Larch choice model.  This model is \n",
    "quite simple, as it does not need alternative availability conditions\n",
    "nor choice indicators.  The \"alternatives\" in this model are the \n",
    "class choice models we defined above, and we can assign them unique\n",
    "identifyong codes for clarity.\n",
    "\n",
    "For this latent class model, the definition is quite simple, just constants \n",
    "for each class.  As typical for logit models, one \"alternative\" (here, a class)\n",
    "is omitted to be the reference point.  It is possible to use chooser attributes\n",
    "to inform the relative likelihood of class membership, but that is not what\n",
    "we will do here."
   ]
  },
  {
   "cell_type": "code",
   "execution_count": null,
   "id": "12",
   "metadata": {},
   "outputs": [],
   "source": [
    "mk = lx.Model()\n",
    "mk.utility_co[102] = P(\"W\")"
   ]
  },
  {
   "cell_type": "markdown",
   "id": "13",
   "metadata": {},
   "source": [
    "Finally, we assemble all the component models into one `LatentClass` structure."
   ]
  },
  {
   "cell_type": "code",
   "execution_count": null,
   "id": "14",
   "metadata": {},
   "outputs": [],
   "source": [
    "b = lx.LatentClass(\n",
    "    mk,\n",
    "    {101: m1, 102: m2},\n",
    "    datatree=data.dc.set_altids([1, 2, 3]),\n",
    ")"
   ]
  },
  {
   "cell_type": "markdown",
   "id": "8c48ea45-c72b-48a1-9741-2f2b8c396cd1",
   "metadata": {},
   "source": [
    "Similar to other models, we can set a parameter cap to improve estimation stability."
   ]
  },
  {
   "cell_type": "code",
   "execution_count": null,
   "id": "16",
   "metadata": {},
   "outputs": [],
   "source": [
    "b.set_cap(25)"
   ]
  },
  {
   "cell_type": "code",
   "execution_count": null,
   "id": "17",
   "metadata": {
    "tags": [
     "remove-cell"
    ]
   },
   "outputs": [],
   "source": [
    "# TEST\n",
    "assert b.loglike() == approx(-6964.6640625, rel=1e-4)"
   ]
  },
  {
   "cell_type": "code",
   "execution_count": null,
   "id": "18",
   "metadata": {
    "tags": [
     "remove-cell"
    ]
   },
   "outputs": [],
   "source": [
    "# TEST\n",
    "assert b.d_loglike() == approx(\n",
    "    [\n",
    "        -99.00003, -1541.5    ,  -224.60551,  -923.5081 ,     0.\n",
    "    ],\n",
    "    rel=1e-5,\n",
    ")"
   ]
  },
  {
   "cell_type": "code",
   "execution_count": null,
   "id": "72afd893-3f07-49cd-938b-93681b7c1c52",
   "metadata": {},
   "outputs": [],
   "source": [
    "b.d_loglike()"
   ]
  },
  {
   "cell_type": "code",
   "execution_count": null,
   "id": "19",
   "metadata": {},
   "outputs": [],
   "source": [
    "result = b.maximize_loglike(method=\"slsqp\")"
   ]
  },
  {
   "cell_type": "code",
   "execution_count": null,
   "id": "20",
   "metadata": {},
   "outputs": [],
   "source": [
    "b.calculate_parameter_covariance();"
   ]
  },
  {
   "cell_type": "code",
   "execution_count": null,
   "id": "21",
   "metadata": {},
   "outputs": [],
   "source": [
    "b.parameter_summary()"
   ]
  },
  {
   "cell_type": "code",
   "execution_count": null,
   "id": "22",
   "metadata": {
    "tags": [
     "remove-cell"
    ]
   },
   "outputs": [],
   "source": [
    "# TEST\n",
    "assert result.loglike == approx(-5208.498, rel=1e-5)\n",
    "assert b.pstderr == approx(\n",
    "    np.array([0.05049792, 0.06086081, 0.06121413, 0.17560391, 0.11610422]), rel=5e-3\n",
    ")\n",
    "assert b.pvals == approx(\n",
    "    np.array(\n",
    "        [\n",
    "            0.12573555, -0.39753284, -1.26550162, -2.80171093,  1.09212252,\n",
    "        ]\n",
    "    ),\n",
    "    rel=5e-3,\n",
    ")"
   ]
  }
 ],
 "metadata": {
  "kernelspec": {
   "display_name": "Python 3 (ipykernel)",
   "language": "python",
   "name": "python3"
  },
  "language_info": {
   "codemirror_mode": {
    "name": "ipython",
    "version": 3
   },
   "file_extension": ".py",
   "mimetype": "text/x-python",
   "name": "python",
   "nbconvert_exporter": "python",
   "pygments_lexer": "ipython3",
   "version": "3.10.0"
  },
  "toc": {
   "base_numbering": 1,
   "nav_menu": {},
   "number_sections": false,
   "sideBar": true,
   "skip_h1_title": false,
   "title_cell": "Table of Contents",
   "title_sidebar": "Contents",
   "toc_cell": false,
   "toc_position": {},
   "toc_section_display": true,
   "toc_window_display": false
  }
 },
 "nbformat": 4,
 "nbformat_minor": 5
}
