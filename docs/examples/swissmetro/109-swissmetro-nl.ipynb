{
 "cells": [
  {
   "cell_type": "markdown",
   "id": "85e2b068",
   "metadata": {},
   "source": [
    "# 109: Swissmetro Nested Logit Mode Choice"
   ]
  },
  {
   "cell_type": "code",
   "execution_count": null,
   "id": "2c734ca6",
   "metadata": {
    "tags": [
     "remove_cell"
    ]
   },
   "outputs": [],
   "source": [
    "# TEST\n",
    "\n",
    "import numpy as np\n",
    "import pandas as pd\n",
    "\n",
    "import larch\n",
    "\n",
    "pd.set_option(\"display.max_columns\", 999)\n",
    "pd.set_option(\"expand_frame_repr\", False)\n",
    "pd.set_option(\"display.precision\", 3)\n",
    "np.set_printoptions(precision=12)\n",
    "larch._doctest_mode_ = True\n",
    "import larch as lx"
   ]
  },
  {
   "cell_type": "code",
   "execution_count": null,
   "id": "2d1bdce3",
   "metadata": {},
   "outputs": [],
   "source": [
    "import pandas as pd\n",
    "\n",
    "import larch as lx"
   ]
  },
  {
   "cell_type": "markdown",
   "id": "aade76fb",
   "metadata": {},
   "source": [
    "This example is a mode choice model built using the Swissmetro example dataset.\n",
    "First we create the Dataset and Model objects. "
   ]
  },
  {
   "cell_type": "code",
   "execution_count": null,
   "id": "7f4eda8a",
   "metadata": {},
   "outputs": [],
   "source": [
    "raw_data = pd.read_csv(lx.example_file(\"swissmetro.csv.gz\")).rename_axis(index=\"CASEID\")\n",
    "data = lx.Dataset.construct.from_idco(raw_data, alts={1: \"Train\", 2: \"SM\", 3: \"Car\"})\n",
    "m = lx.Model(data.dc.query_cases(\"PURPOSE in (1,3) and CHOICE != 0\"))"
   ]
  },
  {
   "cell_type": "markdown",
   "id": "944ae5d5",
   "metadata": {},
   "source": [
    "We can attach a title to the model. The title does not affect the calculations\n",
    "as all; it is merely used in various output report styles."
   ]
  },
  {
   "cell_type": "code",
   "execution_count": null,
   "id": "62fc7588",
   "metadata": {},
   "outputs": [],
   "source": [
    "m.title = \"swissmetro example 09 (nested logit)\""
   ]
  },
  {
   "cell_type": "markdown",
   "id": "363fa45f",
   "metadata": {},
   "source": [
    "We need to identify the availability and choice variables."
   ]
  },
  {
   "cell_type": "code",
   "execution_count": null,
   "id": "4cbeb27e",
   "metadata": {},
   "outputs": [],
   "source": [
    "m.availability_co_vars = {\n",
    "    1: \"TRAIN_AV * (SP!=0)\",\n",
    "    2: \"SM_AV\",\n",
    "    3: \"CAR_AV * (SP!=0)\",\n",
    "}\n",
    "m.choice_co_code = \"CHOICE\""
   ]
  },
  {
   "cell_type": "markdown",
   "id": "923f77b4",
   "metadata": {},
   "source": [
    "The swissmetro dataset, as with all Biogeme data, is only in `co` format."
   ]
  },
  {
   "cell_type": "code",
   "execution_count": null,
   "id": "87c02a16",
   "metadata": {},
   "outputs": [],
   "source": [
    "from larch import P, X\n",
    "\n",
    "m.utility_co[1] = P.ASC_TRAIN + P.B_TIME * X.TRAIN_TT + P.B_COST * X(\"TRAIN_CO*(GA==0)\")\n",
    "m.utility_co[2] = P.B_TIME * X.SM_TT + P.B_COST * X(\"SM_CO*(GA==0)\")\n",
    "m.utility_co[3] = P.ASC_CAR + P.B_TIME * X.CAR_TT + P.B_COST * X(\"CAR_CO\")"
   ]
  },
  {
   "cell_type": "markdown",
   "id": "a08162f6",
   "metadata": {},
   "source": [
    "To create a new nest, we can use the `graph.new_node` command.\n",
    "For this example, we want to nest together the Train and Car modes into a \"existing\" modes nest.\n",
    "Those are modes 1 and 3, so we can use the `graph.new_node` command like this:"
   ]
  },
  {
   "cell_type": "code",
   "execution_count": null,
   "id": "67305cef",
   "metadata": {},
   "outputs": [],
   "source": [
    "m.graph.new_node(parameter=\"existing\", children=[1, 3], name=\"Existing\")"
   ]
  },
  {
   "cell_type": "markdown",
   "id": "56fa6578",
   "metadata": {},
   "source": [
    "In a Jupyter notebook, we can verify the nesting structure visually if we like."
   ]
  },
  {
   "cell_type": "code",
   "execution_count": null,
   "id": "0fb8d36f",
   "metadata": {},
   "outputs": [],
   "source": [
    "m.graph"
   ]
  },
  {
   "cell_type": "markdown",
   "id": "5d1562fb",
   "metadata": {},
   "source": [
    "Larch will find all the parameters in the model, but we'd like to output them in\n",
    "a rational order.  We can use the ordering method to do this:"
   ]
  },
  {
   "cell_type": "code",
   "execution_count": null,
   "id": "ddfbbec0",
   "metadata": {},
   "outputs": [],
   "source": [
    "m.ordering = [\n",
    "    (\n",
    "        \"ASCs\",\n",
    "        \"ASC.*\",\n",
    "    ),\n",
    "    (\n",
    "        \"LOS\",\n",
    "        \"B_.*\",\n",
    "    ),\n",
    "    (\"LogSums\", \"existing\"),\n",
    "]"
   ]
  },
  {
   "cell_type": "code",
   "execution_count": null,
   "id": "7e8649b5",
   "metadata": {
    "tags": [
     "remove_cell"
    ]
   },
   "outputs": [],
   "source": [
    "# TEST\n",
    "from pytest import approx\n",
    "\n",
    "assert m.loglike() == approx(-6964.662979192185)"
   ]
  },
  {
   "cell_type": "markdown",
   "id": "a37f5b85",
   "metadata": {},
   "source": [
    "We can estimate the models and check the results match up with those given by Biogeme:"
   ]
  },
  {
   "cell_type": "code",
   "execution_count": null,
   "id": "d98ddb05",
   "metadata": {},
   "outputs": [],
   "source": [
    "m.set_cap(15)\n",
    "result = m.maximize_loglike()\n",
    "result"
   ]
  },
  {
   "cell_type": "code",
   "execution_count": null,
   "id": "025ba5f9",
   "metadata": {
    "tags": [
     "remove_cell"
    ]
   },
   "outputs": [],
   "source": [
    "# TEST\n",
    "assert result.loglike == approx(-5236.900013608126)\n",
    "assert result.logloss == approx(0.7737736426725954)\n",
    "assert result.x == approx(\n",
    "    [\n",
    "        -0.167120809449,\n",
    "        -0.512054631478,\n",
    "        -0.008569762572,\n",
    "        -0.008988398761,\n",
    "        0.486972985782,\n",
    "    ],\n",
    "    rel=1e-2,\n",
    ")"
   ]
  },
  {
   "cell_type": "code",
   "execution_count": null,
   "id": "8b96f0dd",
   "metadata": {},
   "outputs": [],
   "source": [
    "m.calculate_parameter_covariance(robust=True)\n",
    "m.parameter_summary()"
   ]
  },
  {
   "cell_type": "code",
   "execution_count": null,
   "id": "e7024c39",
   "metadata": {},
   "outputs": [],
   "source": [
    "# TEST\n",
    "assert m.pstderr == approx(\n",
    "    [0.037138242, 0.045185346, 0.00046280216, 0.00056991476, 0.027901005], rel=1e-2\n",
    ")\n",
    "assert m.parameter_summary().data[\"t Stat\"].values.astype(float) == approx(\n",
    "    [-4.5, -11.33, -18.52, -15.77, -18.39], rel=1e-2\n",
    ")\n",
    "assert m.parameter_summary().data[\"Signif\"].values == approx(\n",
    "    [\"***\", \"***\", \"***\", \"***\", \"***\"]\n",
    ")\n",
    "assert m.parameter_summary().data[\"Robust t Stat\"].values.astype(float) == approx(\n",
    "    [-3.06, -6.47, -14.27, -8.39, -13.18], rel=1e-2\n",
    ")\n",
    "assert m.parameter_summary().data[\"Robust Signif\"].values == approx(\n",
    "    [\"**\", \"***\", \"***\", \"***\", \"***\"]\n",
    ")"
   ]
  }
 ],
 "metadata": {
  "kernelspec": {
   "display_name": "Python 3 (ipykernel)",
   "language": "python",
   "name": "python3"
  },
  "language_info": {
   "codemirror_mode": {
    "name": "ipython",
    "version": 3
   },
   "file_extension": ".py",
   "mimetype": "text/x-python",
   "name": "python",
   "nbconvert_exporter": "python",
   "pygments_lexer": "ipython3",
   "version": "3.10.6"
  },
  "toc": {
   "base_numbering": 1,
   "nav_menu": {},
   "number_sections": false,
   "sideBar": true,
   "skip_h1_title": false,
   "title_cell": "Table of Contents",
   "title_sidebar": "Contents",
   "toc_cell": false,
   "toc_position": {},
   "toc_section_display": true,
   "toc_window_display": false
  }
 },
 "nbformat": 4,
 "nbformat_minor": 5
}
