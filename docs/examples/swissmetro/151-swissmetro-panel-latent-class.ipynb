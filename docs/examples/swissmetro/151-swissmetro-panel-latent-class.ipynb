{
 "cells": [
  {
   "cell_type": "markdown",
   "id": "a6f22212-9fc1-47eb-b044-f3f4fefbb4a2",
   "metadata": {},
   "source": [
    "# 151: Swissmetro Panel Latent Class"
   ]
  },
  {
   "cell_type": "code",
   "execution_count": null,
   "id": "7032f0c2-db7d-4a0b-b3b9-fa6b2e20bb3b",
   "metadata": {},
   "outputs": [],
   "source": [
    "# TEST\n",
    "import numpy as np\n",
    "import pandas as pd\n",
    "\n",
    "pd.set_option(\"display.max_columns\", 999)\n",
    "pd.set_option(\"expand_frame_repr\", False)\n",
    "pd.set_option(\"display.precision\", 3)\n",
    "np.set_printoptions(precision=12)\n",
    "\n",
    "import larch as lx\n",
    "\n",
    "from pytest import approx"
   ]
  },
  {
   "cell_type": "code",
   "execution_count": null,
   "id": "0",
   "metadata": {},
   "outputs": [],
   "source": [
    "import numpy as np\n",
    "import pandas as pd\n",
    "\n",
    "import larch as lx\n",
    "from larch import P, X\n",
    "\n",
    "print(lx.versions())"
   ]
  },
  {
   "cell_type": "markdown",
   "id": "ae7a5e24-983b-47bc-adc6-2fe4039837e6",
   "metadata": {},
   "source": [
    "This example is a latent class mode choice model (also known as a discrete mixture model) built using the Swissmetro example dataset.\n",
    "This model is similar to the simple latent class model shown in [Example 107](./107-swissmetro-latent-class). The key difference is\n",
    "that the class membership is determined per-respondent instead of per-observation. The underlying data is from a stated preference\n",
    "survey, where respondents made repeated choices with various different alternative attributes.\n",
    "\n",
    "As before, the first step is to load the data and do some pre-processing, so that the format and scale of the \n",
    "data matches that from the Biogeme example."
   ]
  },
  {
   "cell_type": "code",
   "execution_count": null,
   "id": "1",
   "metadata": {},
   "outputs": [],
   "source": [
    "raw = pd.read_csv(lx.example_file(\"swissmetro.csv.gz\"))\n",
    "raw[\"SM_COST\"] = raw[\"SM_CO\"] * (raw[\"GA\"] == 0)\n",
    "raw[\"TRAIN_COST\"] = raw.eval(\"TRAIN_CO * (GA == 0)\")\n",
    "raw[\"TRAIN_COST_SCALED\"] = raw[\"TRAIN_COST\"] / 100\n",
    "raw[\"TRAIN_TT_SCALED\"] = raw[\"TRAIN_TT\"] / 100\n",
    "raw[\"SM_COST_SCALED\"] = raw.eval(\"SM_COST / 100\")\n",
    "raw[\"SM_TT_SCALED\"] = raw[\"SM_TT\"] / 100\n",
    "raw[\"CAR_CO_SCALED\"] = raw[\"CAR_CO\"] / 100\n",
    "raw[\"CAR_TT_SCALED\"] = raw[\"CAR_TT\"] / 100\n",
    "raw[\"CAR_AV_SP\"] = raw.eval(\"CAR_AV * (SP!=0)\")\n",
    "raw[\"TRAIN_AV_SP\"] = raw.eval(\"TRAIN_AV * (SP!=0)\")"
   ]
  },
  {
   "cell_type": "code",
   "execution_count": null,
   "id": "2",
   "metadata": {},
   "outputs": [],
   "source": [
    "raw"
   ]
  },
  {
   "cell_type": "markdown",
   "id": "863fc9f7-f77b-441a-b248-f8856bc5f9f5",
   "metadata": {},
   "source": [
    "We now have a pandas DataFrame in \"wide\" or [idco](idco) format, with one row per choice observation.\n",
    "For this example, it is relevant to note there is more than one row per respondent, and the various\n",
    "respondents can be identified by the \"ID\" column.\n",
    "\n",
    "We can convert this to a Larch Dataset, filtering to include only the cases of interest,\n",
    "following the same filter applied in the Biogeme example."
   ]
  },
  {
   "cell_type": "code",
   "execution_count": null,
   "id": "3",
   "metadata": {},
   "outputs": [],
   "source": [
    "data = lx.Dataset.construct.from_idco(raw).dc.query_cases(\"PURPOSE in (1,3) and CHOICE != 0\")"
   ]
  },
  {
   "cell_type": "markdown",
   "id": "2b09dbd1-3b63-42d2-853a-73d0c4ff187b",
   "metadata": {},
   "source": [
    "The result is a Dataset with 6,768 cases."
   ]
  },
  {
   "cell_type": "code",
   "execution_count": null,
   "id": "a5673d69-c364-4d97-9d94-da8266533941",
   "metadata": {},
   "outputs": [],
   "source": [
    "data"
   ]
  },
  {
   "cell_type": "markdown",
   "id": "a657c845-9e7e-4555-a17d-297c0fb1386d",
   "metadata": {},
   "source": [
    "For convenience, we can collect the names of the variables that define alternative availability\n",
    "into a dictionary, keyed on the codes we will use to represent each alternative."
   ]
  },
  {
   "cell_type": "code",
   "execution_count": null,
   "id": "4",
   "metadata": {},
   "outputs": [],
   "source": [
    "availability_co_vars = {\n",
    "    1: \"TRAIN_AV_SP\",\n",
    "    2: \"SM_AV\",\n",
    "    3: \"CAR_AV_SP\",\n",
    "}"
   ]
  },
  {
   "cell_type": "markdown",
   "id": "5",
   "metadata": {},
   "source": [
    "Then we can contruct choice models for each of the classes.  This is done in the\n",
    "usual manner for Larch choice models, assigning utility functions, alternative \n",
    "availability conditions, and choice markers in the usual manner.\n",
    "\n",
    "In this example, Class 1 chooses based on cost, and the utility functions include\n",
    "a set of alternative specific constants."
   ]
  },
  {
   "cell_type": "code",
   "execution_count": null,
   "id": "6",
   "metadata": {},
   "outputs": [],
   "source": [
    "m1 = lx.Model(title=\"Model1\")\n",
    "m1.availability_co_vars = availability_co_vars\n",
    "m1.choice_co_code = \"CHOICE\"\n",
    "m1.utility_co[1] = P(\"ASC_TRAIN\") + X(\"TRAIN_COST_SCALED\") * P(\"B_COST\")\n",
    "m1.utility_co[2] = X(\"SM_COST_SCALED\") * P(\"B_COST\")\n",
    "m1.utility_co[3] = P(\"ASC_CAR\") + X(\"CAR_CO_SCALED\") * P(\"B_COST\")"
   ]
  },
  {
   "cell_type": "markdown",
   "id": "7",
   "metadata": {},
   "source": [
    "Class 2 is the nearly same model, defined completely seperately but in a similar manner. \n",
    "The only difference is in the utility functions, which adds travel time to the utility."
   ]
  },
  {
   "cell_type": "code",
   "execution_count": null,
   "id": "8",
   "metadata": {},
   "outputs": [],
   "source": [
    "m2 = lx.Model(title=\"Model2\")\n",
    "m2.availability_co_vars = availability_co_vars\n",
    "m2.choice_co_code = \"CHOICE\"\n",
    "m2.utility_co[1] = (\n",
    "    P(\"ASC_TRAIN\")\n",
    "    + X(\"TRAIN_TT_SCALED\") * P(\"B_TIME\")\n",
    "    + X(\"TRAIN_COST_SCALED\") * P(\"B_COST\")\n",
    ")\n",
    "m2.utility_co[2] = X(\"SM_TT_SCALED\") * P(\"B_TIME\") + X(\"SM_COST_SCALED\") * P(\"B_COST\")\n",
    "m2.utility_co[3] = (\n",
    "    P(\"ASC_CAR\") + X(\"CAR_TT_SCALED\") * P(\"B_TIME\") + X(\"CAR_CO_SCALED\") * P(\"B_COST\")\n",
    ")"
   ]
  },
  {
   "cell_type": "markdown",
   "id": "9",
   "metadata": {},
   "source": [
    "For this example, we will also add a third choice class.\n",
    "Class 3 represents a lexicographic or non-compensatory choice system, where \n",
    "the choice of mode is based exclusively on cost, without regard to any other\n",
    "choice attribute. When two modes have the same cost, they are considered to be\n",
    "equally likely.  This lexicographic is still represented in the same mathematical \n",
    "manner as the other classes that employ typical multinomial logit models, except \n",
    "we will constrain the `Z_COST` parameter to enforce the desired choice rule for this\n",
    "class.\n",
    "\n",
    "The use of this kind of choice model in a latent class structure can be challenging \n",
    "with cross-sectional data, as it is very easy to create over-specified models, i.e.\n",
    "it is hard to tell from one choice observation whether a decision maker is choosing\n",
    "based on a simple choice rule or considering trade-offs between various attributes.\n",
    "In a panel data study as shown in this example, it is much easier to mathematically \n",
    "disambiguate between compensatory and non-compensatory choice processes."
   ]
  },
  {
   "cell_type": "code",
   "execution_count": null,
   "id": "10",
   "metadata": {},
   "outputs": [],
   "source": [
    "m3 = lx.Model(title=\"Model3\")\n",
    "m3.availability_co_vars = availability_co_vars\n",
    "m3.choice_co_code = \"CHOICE\"\n",
    "m3.utility_co[1] = X(\"TRAIN_COST_SCALED\") * P(\"Z_COST\")\n",
    "m3.utility_co[2] = X(\"SM_COST_SCALED\") * P(\"Z_COST\")\n",
    "m3.utility_co[3] = X(\"CAR_CO_SCALED\") * P(\"Z_COST\")"
   ]
  },
  {
   "cell_type": "markdown",
   "id": "11",
   "metadata": {},
   "source": [
    "The class membership model for this latent class model is relatively simple, just constants for each class.\n",
    "One class (the first one, which we label as model 101) is a reference point, and the other classes are \n",
    "evaluated as more or less likely than the reference, similar to a typical MNL model."
   ]
  },
  {
   "cell_type": "code",
   "execution_count": null,
   "id": "12",
   "metadata": {},
   "outputs": [],
   "source": [
    "mk = lx.Model()\n",
    "mk.utility_co[102] = P(\"W_OTHER\")\n",
    "mk.utility_co[103] = P(\"W_COST\")"
   ]
  },
  {
   "cell_type": "markdown",
   "id": "13",
   "metadata": {},
   "source": [
    "Finally, we assembled all the component models into one LatentClass structure.  We add the `groupid` \n",
    "argument to indicate how our panel data is structured."
   ]
  },
  {
   "cell_type": "code",
   "execution_count": null,
   "id": "14",
   "metadata": {},
   "outputs": [],
   "source": [
    "b = lx.LatentClass(\n",
    "    mk,\n",
    "    {101: m1, 102: m2, 103: m3},\n",
    "    datatree=data.dc.set_altids([1, 2, 3]),\n",
    "    groupid=\"ID\",\n",
    ")"
   ]
  },
  {
   "cell_type": "markdown",
   "id": "f8a0dd58-a3c7-47de-b70d-25cfd6fbc541",
   "metadata": {},
   "source": [
    "After creating the `LatentClass` structure, we can add contraints on parameters, such as that\n",
    "needed for the lexicographic choice class."
   ]
  },
  {
   "cell_type": "code",
   "execution_count": null,
   "id": "15",
   "metadata": {},
   "outputs": [],
   "source": [
    "b.lock_value(Z_COST=-10000)"
   ]
  },
  {
   "cell_type": "code",
   "execution_count": null,
   "id": "16",
   "metadata": {},
   "outputs": [],
   "source": [
    "b.set_cap(25)"
   ]
  },
  {
   "cell_type": "code",
   "execution_count": null,
   "id": "17",
   "metadata": {
    "tags": [
     "remove-cell"
    ]
   },
   "outputs": [],
   "source": [
    "# TEST\n",
    "assert b.loglike() == approx(-6867.245, rel=1e-4)"
   ]
  },
  {
   "cell_type": "code",
   "execution_count": null,
   "id": "18",
   "metadata": {
    "tags": [
     "remove-cell"
    ]
   },
   "outputs": [],
   "source": [
    "# TEST\n",
    "assert b.d_loglike() == approx(\n",
    "    [\n",
    "        -1.104770e02,\n",
    "        -1.545916e03,\n",
    "        -2.188546e01,\n",
    "        -9.183448e02,\n",
    "        -1.658521e02,\n",
    "        8.292606e01,\n",
    "        4.470348e-08,\n",
    "    ],\n",
    "    rel=1e-5,\n",
    ")"
   ]
  },
  {
   "cell_type": "code",
   "execution_count": null,
   "id": "19",
   "metadata": {},
   "outputs": [],
   "source": [
    "result = b.maximize_loglike(method=\"slsqp\")"
   ]
  },
  {
   "cell_type": "code",
   "execution_count": null,
   "id": "20",
   "metadata": {},
   "outputs": [],
   "source": [
    "b.calculate_parameter_covariance();"
   ]
  },
  {
   "cell_type": "code",
   "execution_count": null,
   "id": "21",
   "metadata": {},
   "outputs": [],
   "source": [
    "b.parameter_summary()"
   ]
  },
  {
   "cell_type": "code",
   "execution_count": null,
   "id": "22",
   "metadata": {
    "tags": [
     "remove-cell"
    ]
   },
   "outputs": [],
   "source": [
    "# TEST\n",
    "assert result.loglike == approx(-4474.478515625, rel=1e-5)\n",
    "assert b.pstderr == approx(\n",
    "    np.array([0.048158, 0.069796, 0.069555, 0.106282, 0.161079, 0.11945, 0.0]), rel=5e-3\n",
    ")\n",
    "assert b.pvals == approx(\n",
    "    np.array(\n",
    "        [\n",
    "            6.079781e-02,\n",
    "            -9.362056e-01,\n",
    "            -1.159657e00,\n",
    "            -3.095285e00,\n",
    "            -7.734768e-01,\n",
    "            1.155985e00,\n",
    "            -1.000000e04,\n",
    "        ]\n",
    "    ),\n",
    "    rel=5e-3,\n",
    ")"
   ]
  }
 ],
 "metadata": {
  "kernelspec": {
   "display_name": "Python 3 (ipykernel)",
   "language": "python",
   "name": "python3"
  },
  "language_info": {
   "codemirror_mode": {
    "name": "ipython",
    "version": 3
   },
   "file_extension": ".py",
   "mimetype": "text/x-python",
   "name": "python",
   "nbconvert_exporter": "python",
   "pygments_lexer": "ipython3",
   "version": "3.10.0"
  },
  "toc": {
   "base_numbering": 1,
   "nav_menu": {},
   "number_sections": false,
   "sideBar": true,
   "skip_h1_title": false,
   "title_cell": "Table of Contents",
   "title_sidebar": "Contents",
   "toc_cell": false,
   "toc_position": {},
   "toc_section_display": true,
   "toc_window_display": false
  }
 },
 "nbformat": 4,
 "nbformat_minor": 5
}
