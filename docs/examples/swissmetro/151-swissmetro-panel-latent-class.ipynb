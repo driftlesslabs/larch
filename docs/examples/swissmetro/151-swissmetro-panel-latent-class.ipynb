{
 "cells": [
  {
   "cell_type": "code",
   "execution_count": null,
   "id": "bb515acf",
   "metadata": {},
   "outputs": [],
   "source": [
    "import numpy as np\n",
    "import pandas as pd\n",
    "from pytest import approx\n",
    "\n",
    "import larch as lx\n",
    "from larch import P, X"
   ]
  },
  {
   "cell_type": "code",
   "execution_count": null,
   "id": "9572102b",
   "metadata": {},
   "outputs": [],
   "source": [
    "raw = pd.read_csv(lx.example_file(\"swissmetro.csv.gz\"))\n",
    "raw[\"SM_COST\"] = raw[\"SM_CO\"] * (raw[\"GA\"] == 0)\n",
    "raw[\"TRAIN_COST\"] = raw.eval(\"TRAIN_CO * (GA == 0)\")\n",
    "raw[\"TRAIN_COST_SCALED\"] = raw[\"TRAIN_COST\"] / 100\n",
    "raw[\"TRAIN_TT_SCALED\"] = raw[\"TRAIN_TT\"] / 100\n",
    "\n",
    "raw[\"SM_COST_SCALED\"] = raw.eval(\"SM_COST / 100\")\n",
    "raw[\"SM_TT_SCALED\"] = raw[\"SM_TT\"] / 100\n",
    "\n",
    "raw[\"CAR_CO_SCALED\"] = raw[\"CAR_CO\"] / 100\n",
    "raw[\"CAR_TT_SCALED\"] = raw[\"CAR_TT\"] / 100\n",
    "raw[\"CAR_AV_SP\"] = raw.eval(\"CAR_AV * (SP!=0)\")\n",
    "raw[\"TRAIN_AV_SP\"] = raw.eval(\"TRAIN_AV * (SP!=0)\")\n",
    "\n",
    "raw[\"keep\"] = raw.eval(\"PURPOSE in (1,3) and CHOICE != 0\")"
   ]
  },
  {
   "cell_type": "code",
   "execution_count": null,
   "id": "4cf2fa49",
   "metadata": {},
   "outputs": [],
   "source": [
    "raw"
   ]
  },
  {
   "cell_type": "code",
   "execution_count": null,
   "id": "a47136be",
   "metadata": {},
   "outputs": [],
   "source": [
    "data = lx.Dataset.construct.from_idco(raw).dc.query_cases(\"keep\")"
   ]
  },
  {
   "cell_type": "code",
   "execution_count": null,
   "id": "7f1a9e12",
   "metadata": {},
   "outputs": [],
   "source": [
    "availability_co_vars = {\n",
    "    1: \"TRAIN_AV_SP\",\n",
    "    2: \"SM_AV\",\n",
    "    3: \"CAR_AV_SP\",\n",
    "}"
   ]
  },
  {
   "cell_type": "markdown",
   "id": "75797092",
   "metadata": {},
   "source": [
    "Class 1 chooses based on cost, and includes a set of alternative specific constants."
   ]
  },
  {
   "cell_type": "code",
   "execution_count": null,
   "id": "968faa2b",
   "metadata": {},
   "outputs": [],
   "source": [
    "m1 = lx.Model(title=\"Model1\")\n",
    "m1.availability_co_vars = availability_co_vars\n",
    "m1.choice_co_code = \"CHOICE\"\n",
    "m1.utility_co[1] = P(\"ASC_TRAIN\") + X(\"TRAIN_COST_SCALED\") * P(\"B_COST\")\n",
    "m1.utility_co[2] = X(\"SM_COST_SCALED\") * P(\"B_COST\")\n",
    "m1.utility_co[3] = P(\"ASC_CAR\") + X(\"CAR_CO_SCALED\") * P(\"B_COST\")"
   ]
  },
  {
   "cell_type": "markdown",
   "id": "bb3724d4",
   "metadata": {},
   "source": [
    "Class 2 is the same model, but adds travel time to the utility."
   ]
  },
  {
   "cell_type": "code",
   "execution_count": null,
   "id": "2041f3c3",
   "metadata": {},
   "outputs": [],
   "source": [
    "m2 = lx.Model(title=\"Model2\")\n",
    "m2.availability_co_vars = availability_co_vars\n",
    "m2.choice_co_code = \"CHOICE\"\n",
    "m2.utility_co[1] = (\n",
    "    P(\"ASC_TRAIN\")\n",
    "    + X(\"TRAIN_TT_SCALED\") * P(\"B_TIME\")\n",
    "    + X(\"TRAIN_COST_SCALED\") * P(\"B_COST\")\n",
    ")\n",
    "m2.utility_co[2] = X(\"SM_TT_SCALED\") * P(\"B_TIME\") + X(\"SM_COST_SCALED\") * P(\"B_COST\")\n",
    "m2.utility_co[3] = (\n",
    "    P(\"ASC_CAR\") + X(\"CAR_TT_SCALED\") * P(\"B_TIME\") + X(\"CAR_CO_SCALED\") * P(\"B_COST\")\n",
    ")"
   ]
  },
  {
   "cell_type": "markdown",
   "id": "80981197",
   "metadata": {},
   "source": [
    "Class 3 represents a lexicographic or non-compensatory choice system, where \n",
    "the choice of mode is based exclusively on cost, without regard to any other\n",
    "choice attribute."
   ]
  },
  {
   "cell_type": "code",
   "execution_count": null,
   "id": "a7ad7566",
   "metadata": {},
   "outputs": [],
   "source": [
    "m3 = lx.Model(title=\"Model3\")\n",
    "m3.availability_co_vars = availability_co_vars\n",
    "m3.choice_co_code = \"CHOICE\"\n",
    "m3.utility_co[1] = X(\"TRAIN_COST_SCALED\") * P(\"Z_COST\")\n",
    "m3.utility_co[2] = X(\"SM_COST_SCALED\") * P(\"Z_COST\")\n",
    "m3.utility_co[3] = X(\"CAR_CO_SCALED\") * P(\"Z_COST\")"
   ]
  },
  {
   "cell_type": "code",
   "execution_count": null,
   "id": "e3edd55f",
   "metadata": {},
   "outputs": [],
   "source": [
    "# import jax.numpy as jnp"
   ]
  },
  {
   "cell_type": "code",
   "execution_count": null,
   "id": "42d970ce",
   "metadata": {},
   "outputs": [],
   "source": [
    "# from larch.folding import fold_dataset, _group_breaks, dissolve_zero_variance"
   ]
  },
  {
   "cell_type": "markdown",
   "id": "380923e8",
   "metadata": {},
   "source": [
    "The class membership model for this latent class model is relatively simple, just constants for each class."
   ]
  },
  {
   "cell_type": "code",
   "execution_count": null,
   "id": "a0463cfd",
   "metadata": {},
   "outputs": [],
   "source": [
    "mk = lx.Model()\n",
    "mk.utility_co[102] = P(\"W_OTHER\")\n",
    "mk.utility_co[103] = P(\"W_COST\")"
   ]
  },
  {
   "cell_type": "markdown",
   "id": "d81da1d6",
   "metadata": {},
   "source": [
    "Finally, we assembled all the component models into one LatentClass structure."
   ]
  },
  {
   "cell_type": "code",
   "execution_count": null,
   "id": "23a00b6f",
   "metadata": {},
   "outputs": [],
   "source": [
    "b = lx.LatentClass(\n",
    "    mk,\n",
    "    {101: m1, 102: m2, 103: m3},\n",
    "    datatree=data.dc.set_altids([1, 2, 3]),\n",
    "    groupid=\"ID\",\n",
    ")"
   ]
  },
  {
   "cell_type": "code",
   "execution_count": null,
   "id": "b155411a",
   "metadata": {},
   "outputs": [],
   "source": [
    "b.lock_value(Z_COST=-10000)  # set the lexicographic parameter"
   ]
  },
  {
   "cell_type": "code",
   "execution_count": null,
   "id": "6aef1054",
   "metadata": {},
   "outputs": [],
   "source": [
    "b.set_cap(25)"
   ]
  },
  {
   "cell_type": "code",
   "execution_count": null,
   "id": "04125570",
   "metadata": {},
   "outputs": [],
   "source": [
    "# TEST\n",
    "assert b.loglike() == approx(-6867.245, rel=1e-4)"
   ]
  },
  {
   "cell_type": "code",
   "execution_count": null,
   "id": "289413f5",
   "metadata": {},
   "outputs": [],
   "source": [
    "# TEST\n",
    "assert b.d_loglike() == approx(\n",
    "    [\n",
    "        -1.104770e02,\n",
    "        -1.545916e03,\n",
    "        -2.188546e01,\n",
    "        -9.183448e02,\n",
    "        -1.658521e02,\n",
    "        8.292606e01,\n",
    "        4.470348e-08,\n",
    "    ],\n",
    "    rel=1e-5,\n",
    ")"
   ]
  },
  {
   "cell_type": "code",
   "execution_count": null,
   "id": "489a93be",
   "metadata": {},
   "outputs": [],
   "source": [
    "result = b.maximize_loglike(method=\"slsqp\")"
   ]
  },
  {
   "cell_type": "code",
   "execution_count": null,
   "id": "4baef5c2",
   "metadata": {},
   "outputs": [],
   "source": [
    "b.calculate_parameter_covariance();"
   ]
  },
  {
   "cell_type": "code",
   "execution_count": null,
   "id": "bcbbb51b",
   "metadata": {},
   "outputs": [],
   "source": [
    "b.parameter_summary()"
   ]
  },
  {
   "cell_type": "code",
   "execution_count": null,
   "id": "81c1ee8b",
   "metadata": {},
   "outputs": [],
   "source": [
    "# TEST\n",
    "assert result.loglike == approx(-4474.478515625, rel=1e-5)\n",
    "assert b.pstderr == approx(\n",
    "    np.array([0.048158, 0.069796, 0.069555, 0.106282, 0.161079, 0.11945, 0.0]), rel=5e-3\n",
    ")\n",
    "assert b.pvals == approx(\n",
    "    np.array(\n",
    "        [\n",
    "            6.079781e-02,\n",
    "            -9.362056e-01,\n",
    "            -1.159657e00,\n",
    "            -3.095285e00,\n",
    "            -7.734768e-01,\n",
    "            1.155985e00,\n",
    "            -1.000000e04,\n",
    "        ]\n",
    "    ),\n",
    "    rel=5e-3,\n",
    ")"
   ]
  }
 ],
 "metadata": {
  "kernelspec": {
   "display_name": "Python 3 (ipykernel)",
   "language": "python",
   "name": "python3"
  },
  "language_info": {
   "codemirror_mode": {
    "name": "ipython",
    "version": 3
   },
   "file_extension": ".py",
   "mimetype": "text/x-python",
   "name": "python",
   "nbconvert_exporter": "python",
   "pygments_lexer": "ipython3",
   "version": "3.10.6"
  },
  "toc": {
   "base_numbering": 1,
   "nav_menu": {},
   "number_sections": false,
   "sideBar": true,
   "skip_h1_title": false,
   "title_cell": "Table of Contents",
   "title_sidebar": "Contents",
   "toc_cell": false,
   "toc_position": {},
   "toc_section_display": true,
   "toc_window_display": false
  }
 },
 "nbformat": 4,
 "nbformat_minor": 5
}
