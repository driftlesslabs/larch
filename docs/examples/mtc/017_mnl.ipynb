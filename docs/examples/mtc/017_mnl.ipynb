{
 "cells": [
  {
   "cell_type": "markdown",
   "id": "5852f0e3",
   "metadata": {},
   "source": [
    "# 17: MTC Expanded MNL Mode Choice"
   ]
  },
  {
   "cell_type": "code",
   "execution_count": 1,
   "id": "f9fa7932",
   "metadata": {
    "ExecuteTime": {
     "end_time": "2022-05-24T03:52:29.332249Z",
     "start_time": "2022-05-24T03:52:25.709391Z"
    },
    "tags": [
     "remove_cell"
    ]
   },
   "outputs": [
    {
     "name": "stderr",
     "output_type": "stream",
     "text": [
      "/Users/jeffnewman/LocalGit/larix/larix/model/numbamodel.py:24: UserWarning: \n",
      "\n",
      "##### larix is experimental, and not feature-complete  #####\n",
      "the first time you import on a new system, this package will\n",
      "compile optimized binaries for your machine, which may take \n",
      "a little while, please be patient \n",
      "\n",
      "  warnings.warn( ### EXPERIMENTAL ### )\n",
      "OMP: Info #273: omp_set_nested routine deprecated, please use omp_set_max_active_levels instead.\n"
     ]
    }
   ],
   "source": [
    "# TEST\n",
    "import larix as lx\n",
    "import pandas as pd\n",
    "pd.set_option(\"display.max_columns\", 999)\n",
    "pd.set_option('expand_frame_repr', False)\n",
    "pd.set_option('display.precision', 3)"
   ]
  },
  {
   "cell_type": "code",
   "execution_count": 2,
   "id": "4d6ecf4c",
   "metadata": {
    "ExecuteTime": {
     "end_time": "2022-05-24T03:52:29.337821Z",
     "start_time": "2022-05-24T03:52:29.334363Z"
    }
   },
   "outputs": [],
   "source": [
    "#import sharrow.logging"
   ]
  },
  {
   "cell_type": "code",
   "execution_count": 3,
   "id": "647c641a",
   "metadata": {
    "ExecuteTime": {
     "end_time": "2022-05-24T03:52:29.343486Z",
     "start_time": "2022-05-24T03:52:29.341271Z"
    }
   },
   "outputs": [],
   "source": [
    "#sharrow.logging.log_to_console(25)"
   ]
  },
  {
   "cell_type": "markdown",
   "id": "7d382537",
   "metadata": {},
   "source": [
    "For this example, we're going to re-create model 17 from the\n",
    "[Self Instructing Manual](http://www.caee.utexas.edu/prof/Bhat/COURSES/LM_Draft_060131Final-060630.pdf). (pp. 128)"
   ]
  },
  {
   "cell_type": "code",
   "execution_count": 4,
   "id": "91e1a946",
   "metadata": {
    "ExecuteTime": {
     "end_time": "2022-05-24T03:52:29.609535Z",
     "start_time": "2022-05-24T03:52:29.346372Z"
    }
   },
   "outputs": [],
   "source": [
    "import larix as lx\n",
    "d = lx.examples.MTC()\n",
    "m = lx.Model(d)"
   ]
  },
  {
   "cell_type": "markdown",
   "id": "3eb1164f",
   "metadata": {},
   "source": [
    "We will use the usual choice and availability variables."
   ]
  },
  {
   "cell_type": "code",
   "execution_count": 5,
   "id": "5bd6ddb2",
   "metadata": {
    "ExecuteTime": {
     "end_time": "2022-05-24T03:52:29.613778Z",
     "start_time": "2022-05-24T03:52:29.610994Z"
    }
   },
   "outputs": [],
   "source": [
    "m.availability_var = 'avail'\n",
    "m.choice_ca_var = 'chose'"
   ]
  },
  {
   "cell_type": "code",
   "execution_count": 6,
   "id": "1c030da6",
   "metadata": {
    "ExecuteTime": {
     "end_time": "2022-05-24T03:52:29.618934Z",
     "start_time": "2022-05-24T03:52:29.616027Z"
    }
   },
   "outputs": [],
   "source": [
    "from larix import P, X\n",
    "\n",
    "m.utility_ca = (\n",
    "    + X(\"totcost/hhinc\") * P(\"costbyincome\")\n",
    "    + X(\"tottime * (altid <= 4)\") * P(\"motorized_time\")\n",
    "    + X(\"tottime * (altid >= 5)\") * P(\"nonmotorized_time\")\n",
    "    + X(\"ovtt/dist * (altid <= 4)\") * P(\"motorized_ovtbydist\")\n",
    ")"
   ]
  },
  {
   "cell_type": "markdown",
   "id": "730662d1",
   "metadata": {},
   "source": [
    "The \"totcost/hhinc\" data is computed once as a new variable when loading the model data.\n",
    "The same applies for tottime filtered by motorized modes (we harness the convenient fact\n",
    "that all the motorized modes have identifying numbers 4 or less), and \"ovtt/dist\"."
   ]
  },
  {
   "cell_type": "code",
   "execution_count": 7,
   "id": "e125ebeb",
   "metadata": {
    "ExecuteTime": {
     "end_time": "2022-05-24T03:52:29.623750Z",
     "start_time": "2022-05-24T03:52:29.620569Z"
    }
   },
   "outputs": [],
   "source": [
    "for a in [4,5,6]:\n",
    "    m.utility_co[a] += X(\"hhinc\") * P(\"hhinc#{}\".format(a))"
   ]
  },
  {
   "cell_type": "markdown",
   "id": "4c5eb8b2",
   "metadata": {},
   "source": [
    "Since the model we want to create groups together DA, SR2 and SR3+ jointly as\n",
    "reference alternatives with respect to income, we can simply omit all of these alternatives\n",
    "from the block that applies to **hhinc**.\n",
    "\n",
    "For vehicles per worker, the preferred model include a joint parameter on SR2 and SR3+,\n",
    "but not including DA and not fixed at zero.  Here we might use a shadow_parameter (also\n",
    "called an alias in some places), which allows\n",
    "us to specify one or more parameters that are simply a fixed proportion of another parameter.\n",
    "For example, we can say that vehbywrk_SR2 will be equal to vehbywrk_SR."
   ]
  },
  {
   "cell_type": "code",
   "execution_count": 8,
   "id": "393b801b",
   "metadata": {
    "ExecuteTime": {
     "end_time": "2022-05-24T03:52:29.631337Z",
     "start_time": "2022-05-24T03:52:29.625329Z"
    }
   },
   "outputs": [],
   "source": [
    "for i in d['altnames'][1:3]:\n",
    "    name = str(i.values)\n",
    "    a = int(i.altid)\n",
    "    m.utility_co[a] += (\n",
    "        + X(\"vehbywrk\") * P(\"vehbywrk_SR\")\n",
    "        + X(\"wkccbd+wknccbd\") * P(\"wkcbd_\"+name)\n",
    "        + X(\"wkempden\") * P(\"wkempden_\"+name)\n",
    "        + P(\"ASC_\"+name)\n",
    "    )\n",
    "\n",
    "for i in d['altnames'][3:]:\n",
    "    name = str(i.values)\n",
    "    a = int(i.altid)\n",
    "    m.utility_co[a] += (\n",
    "        + X(\"vehbywrk\") * P(\"vehbywrk_\"+name)\n",
    "        + X(\"wkccbd+wknccbd\") * P(\"wkcbd_\"+name)\n",
    "        + X(\"wkempden\") * P(\"wkempden_\"+name)\n",
    "        + P(\"ASC_\"+name)\n",
    "    )"
   ]
  },
  {
   "cell_type": "markdown",
   "id": "4cd9a4d4",
   "metadata": {},
   "source": [
    "We didn't explicitly define our parameters first, which is fine; Larch will\n",
    "find them in the utility functions (or elsewhere in more complex models).\n",
    "But they may be found in a weird order that is hard to read in reports.\n",
    "We can define an ordering scheme by assigning to the parameter_groups attribute,\n",
    "like this:"
   ]
  },
  {
   "cell_type": "code",
   "execution_count": 9,
   "id": "3a2b26b9",
   "metadata": {
    "ExecuteTime": {
     "end_time": "2022-05-24T03:52:33.000868Z",
     "start_time": "2022-05-24T03:52:29.632876Z"
    }
   },
   "outputs": [],
   "source": [
    "m.ordering = (\n",
    "    ('LOS', \".*cost.*\", \".*time.*\", \".*dist.*\",),\n",
    "    ('Zonal', \"wkcbd.*\", \"wkempden.*\",),\n",
    "    ('Household', \"hhinc.*\", \"vehbywrk.*\",),\n",
    "    ('ASCs', \"ASC.*\",),\n",
    ")\n",
    "m.set_cap(25)"
   ]
  },
  {
   "cell_type": "markdown",
   "id": "1bec5f2a",
   "metadata": {},
   "source": [
    "Each item in parameter_ordering is a tuple, with a label and one or more regular expressions,\n",
    "which will be compared against\n",
    "all the parameter names.  Any names that match will be pulled out and put into the\n",
    "reporting order sequentially.  Thus if a parameter name would match more than one\n",
    "regex, it will appear in the ordering only for the first match.\n",
    "\n",
    "\n",
    "Having created this model, we can then estimate it:"
   ]
  },
  {
   "cell_type": "code",
   "execution_count": 10,
   "id": "6d54f34c",
   "metadata": {
    "ExecuteTime": {
     "end_time": "2022-05-24T03:52:43.593242Z",
     "start_time": "2022-05-24T03:52:33.005685Z"
    },
    "scrolled": false
   },
   "outputs": [
    {
     "data": {
      "text/html": [
       "<pre style=\"white-space:pre;overflow-x:auto;line-height:normal;font-family:Menlo,'DejaVu Sans Mono',consolas,'Courier New',monospace\">┏━━━━━━━━━━━━━━━━━━━━━━━━━━━━━━━━━━━━━━━━━━━━━━━━━━━━━━━━━━━━━━━━━━━━━━━━━━━━━━━━━━━━━━━━━━━┓\n",
       "┃<span style=\"font-weight: bold\"> </span><span style=\"color: #000080; text-decoration-color: #000080; font-weight: bold\">Larch Model Dashboard</span><span style=\"font-weight: bold\">                                                                     </span>┃\n",
       "┡━━━━━━━━━━━━━━━━━━━━━━━━━━━━━━━━━━━━━━━━━━━━━━━━━━━━━━━━━━━━━━━━━━━━━━━━━━━━━━━━━━━━━━━━━━━┩\n",
       "│ <span style=\"color: #008000; text-decoration-color: #008000\">optimization complete</span>                                                                     │\n",
       "│ Log Likelihood <span style=\"color: #808000; text-decoration-color: #808000\">Current =      -3444.185059 </span><span style=\"color: #008000; text-decoration-color: #008000\">Best =      -3444.185059</span>                       │\n",
       "│ ┏━━━━━━━━━━━━━━━━━━━━━━━━━━━━━━━┳━━━━━━━━━━━━━━━━┳━━━━━━━━━━━━━━━┳━━━━━━━━━━━━┳━━━━━━━━━┓ │\n",
       "│ ┃<span style=\"font-weight: bold\">                               </span>┃<span style=\"font-weight: bold\">                </span>┃<span style=\"font-weight: bold\">               </span>┃<span style=\"font-weight: bold\">            </span>┃<span style=\"font-weight: bold\"> Null    </span>┃ │\n",
       "│ ┃<span style=\"font-weight: bold\"> Parameter                     </span>┃<span style=\"font-weight: bold\"> Estimate       </span>┃<span style=\"font-weight: bold\"> Std. Error    </span>┃<span style=\"font-weight: bold\"> t-Stat     </span>┃<span style=\"font-weight: bold\"> Val     </span>┃ │\n",
       "│ ┡━━━━━━━━━━━━━━━━━━━━━━━━━━━━━━━╇━━━━━━━━━━━━━━━━╇━━━━━━━━━━━━━━━╇━━━━━━━━━━━━╇━━━━━━━━━┩ │\n",
       "│ │ ASC_Bike                      │ -1.6287138     │  0.4274419    │ -3.81      │  0      │ │\n",
       "│ │ ASC_SR2                       │ -1.8076754     │  0.10612901   │ -17.03     │  0      │ │\n",
       "│ │ ASC_SR3+                      │ -3.4337739     │  0.15187916   │ -22.61     │  0      │ │\n",
       "│ │ ASC_Transit                   │ -0.68518247    │  0.24779683   │ -2.765     │  0      │ │\n",
       "│ │ ASC_Walk                      │  0.069445899   │  0.34801513   │  0.1995    │  0      │ │\n",
       "│ │ costbyincome                  │ -0.052404614   │  0.010404362  │ -5.037     │  0      │ │\n",
       "│ │ hhinc#4                       │ -0.0053241481  │  0.001977009  │ -2.693     │  0      │ │\n",
       "│ │ hhinc#5                       │ -0.0086347327  │  0.0051542935 │ -1.675     │  0      │ │\n",
       "│ │ hhinc#6                       │ -0.0059967426  │  0.0031488179 │ -1.904     │  0      │ │\n",
       "│ │ motorized_ovtbydist           │ -0.13269663    │  0.019634474  │ -6.758     │  0      │ │\n",
       "│ │ motorized_time                │ -0.020198723   │  0.0038145634 │ -5.295     │  0      │ │\n",
       "│ │ nonmotorized_time             │ -0.045460512   │  0.0057690404 │ -7.88      │  0      │ │\n",
       "│ │ vehbywrk_Bike                 │ -0.70273389    │  0.25837421   │ -2.72      │  0      │ │\n",
       "│ │ vehbywrk_SR                   │ -0.31676515    │  0.066640146  │ -4.753     │  0      │ │\n",
       "│ │ vehbywrk_Transit              │ -0.94611812    │  0.11828256   │ -7.999     │  0      │ │\n",
       "│ │ vehbywrk_Walk                 │ -0.72238378    │  0.16942607   │ -4.264     │  0      │ │\n",
       "│ │ wkcbd_Bike                    │  0.48876356    │  0.36118519   │  1.353     │  0      │ │\n",
       "│ │ wkcbd_SR2                     │  0.25973914    │  0.12335605   │  2.106     │  0      │ │\n",
       "│ │ wkcbd_SR3+                    │  1.0693081     │  0.19129156   │  5.59      │  0      │ │\n",
       "│ │ wkcbd_Transit                 │  1.3089882     │  0.16568337   │  7.901     │  0      │ │\n",
       "│ │ wkcbd_Walk                    │  0.10212882    │  0.25211287   │  0.4051    │  0      │ │\n",
       "│ │ wkempden_Bike                 │  0.0019360529  │  0.0012142073 │  1.594     │  0      │ │\n",
       "│ │ wkempden_SR2                  │  0.0015795061  │  0.000390367… │  4.046     │  0      │ │\n",
       "│ │ wkempden_SR3+                 │  0.0022587619  │  0.000451989… │  4.997     │  0      │ │\n",
       "│ │ wkempden_Transit              │  0.0031341311  │  0.000360776… │  8.687     │  0      │ │\n",
       "│ │ wkempden_Walk                 │  0.0028903625  │  0.0007422276 │  3.894     │  0      │ │\n",
       "│ └───────────────────────────────┴────────────────┴───────────────┴────────────┴─────────┘ │\n",
       "└───────────────────────────────────────────────────────────────────────────────────────────┘\n",
       "</pre>\n"
      ],
      "text/plain": [
       "┏━━━━━━━━━━━━━━━━━━━━━━━━━━━━━━━━━━━━━━━━━━━━━━━━━━━━━━━━━━━━━━━━━━━━━━━━━━━━━━━━━━━━━━━━━━━┓\n",
       "┃\u001b[1m \u001b[0m\u001b[1;34mLarch Model Dashboard\u001b[0m\u001b[1m                                                                    \u001b[0m\u001b[1m \u001b[0m┃\n",
       "┡━━━━━━━━━━━━━━━━━━━━━━━━━━━━━━━━━━━━━━━━━━━━━━━━━━━━━━━━━━━━━━━━━━━━━━━━━━━━━━━━━━━━━━━━━━━┩\n",
       "│ \u001b[32moptimization complete\u001b[0m                                                                     │\n",
       "│ Log Likelihood \u001b[33mCurrent =      -3444.185059 \u001b[0m\u001b[32mBest =      -3444.185059\u001b[0m                       │\n",
       "│ ┏━━━━━━━━━━━━━━━━━━━━━━━━━━━━━━━┳━━━━━━━━━━━━━━━━┳━━━━━━━━━━━━━━━┳━━━━━━━━━━━━┳━━━━━━━━━┓ │\n",
       "│ ┃\u001b[1m                               \u001b[0m┃\u001b[1m                \u001b[0m┃\u001b[1m               \u001b[0m┃\u001b[1m            \u001b[0m┃\u001b[1m \u001b[0m\u001b[1mNull   \u001b[0m\u001b[1m \u001b[0m┃ │\n",
       "│ ┃\u001b[1m \u001b[0m\u001b[1mParameter                    \u001b[0m\u001b[1m \u001b[0m┃\u001b[1m \u001b[0m\u001b[1mEstimate      \u001b[0m\u001b[1m \u001b[0m┃\u001b[1m \u001b[0m\u001b[1mStd. Error   \u001b[0m\u001b[1m \u001b[0m┃\u001b[1m \u001b[0m\u001b[1mt-Stat    \u001b[0m\u001b[1m \u001b[0m┃\u001b[1m \u001b[0m\u001b[1mVal    \u001b[0m\u001b[1m \u001b[0m┃ │\n",
       "│ ┡━━━━━━━━━━━━━━━━━━━━━━━━━━━━━━━╇━━━━━━━━━━━━━━━━╇━━━━━━━━━━━━━━━╇━━━━━━━━━━━━╇━━━━━━━━━┩ │\n",
       "│ │ ASC_Bike                      │ -1.6287138     │  0.4274419    │ -3.81      │  0      │ │\n",
       "│ │ ASC_SR2                       │ -1.8076754     │  0.10612901   │ -17.03     │  0      │ │\n",
       "│ │ ASC_SR3+                      │ -3.4337739     │  0.15187916   │ -22.61     │  0      │ │\n",
       "│ │ ASC_Transit                   │ -0.68518247    │  0.24779683   │ -2.765     │  0      │ │\n",
       "│ │ ASC_Walk                      │  0.069445899   │  0.34801513   │  0.1995    │  0      │ │\n",
       "│ │ costbyincome                  │ -0.052404614   │  0.010404362  │ -5.037     │  0      │ │\n",
       "│ │ hhinc#4                       │ -0.0053241481  │  0.001977009  │ -2.693     │  0      │ │\n",
       "│ │ hhinc#5                       │ -0.0086347327  │  0.0051542935 │ -1.675     │  0      │ │\n",
       "│ │ hhinc#6                       │ -0.0059967426  │  0.0031488179 │ -1.904     │  0      │ │\n",
       "│ │ motorized_ovtbydist           │ -0.13269663    │  0.019634474  │ -6.758     │  0      │ │\n",
       "│ │ motorized_time                │ -0.020198723   │  0.0038145634 │ -5.295     │  0      │ │\n",
       "│ │ nonmotorized_time             │ -0.045460512   │  0.0057690404 │ -7.88      │  0      │ │\n",
       "│ │ vehbywrk_Bike                 │ -0.70273389    │  0.25837421   │ -2.72      │  0      │ │\n",
       "│ │ vehbywrk_SR                   │ -0.31676515    │  0.066640146  │ -4.753     │  0      │ │\n",
       "│ │ vehbywrk_Transit              │ -0.94611812    │  0.11828256   │ -7.999     │  0      │ │\n",
       "│ │ vehbywrk_Walk                 │ -0.72238378    │  0.16942607   │ -4.264     │  0      │ │\n",
       "│ │ wkcbd_Bike                    │  0.48876356    │  0.36118519   │  1.353     │  0      │ │\n",
       "│ │ wkcbd_SR2                     │  0.25973914    │  0.12335605   │  2.106     │  0      │ │\n",
       "│ │ wkcbd_SR3+                    │  1.0693081     │  0.19129156   │  5.59      │  0      │ │\n",
       "│ │ wkcbd_Transit                 │  1.3089882     │  0.16568337   │  7.901     │  0      │ │\n",
       "│ │ wkcbd_Walk                    │  0.10212882    │  0.25211287   │  0.4051    │  0      │ │\n",
       "│ │ wkempden_Bike                 │  0.0019360529  │  0.0012142073 │  1.594     │  0      │ │\n",
       "│ │ wkempden_SR2                  │  0.0015795061  │  0.000390367… │  4.046     │  0      │ │\n",
       "│ │ wkempden_SR3+                 │  0.0022587619  │  0.000451989… │  4.997     │  0      │ │\n",
       "│ │ wkempden_Transit              │  0.0031341311  │  0.000360776… │  8.687     │  0      │ │\n",
       "│ │ wkempden_Walk                 │  0.0028903625  │  0.0007422276 │  3.894     │  0      │ │\n",
       "│ └───────────────────────────────┴────────────────┴───────────────┴────────────┴─────────┘ │\n",
       "└───────────────────────────────────────────────────────────────────────────────────────────┘\n"
      ]
     },
     "metadata": {},
     "output_type": "display_data"
    },
    {
     "name": "stderr",
     "output_type": "stream",
     "text": [
      "WARNING:absl:No GPU/TPU found, falling back to CPU. (Set TF_CPP_MIN_LOG_LEVEL=0 and rerun for more info.)\n"
     ]
    }
   ],
   "source": [
    "result = m.maximize_loglike(stderr=True)"
   ]
  },
  {
   "cell_type": "code",
   "execution_count": 11,
   "id": "1b943352",
   "metadata": {
    "ExecuteTime": {
     "end_time": "2022-05-24T03:52:43.654346Z",
     "start_time": "2022-05-24T03:52:43.594851Z"
    },
    "tags": [
     "remove_cell"
    ]
   },
   "outputs": [],
   "source": [
    "# TEST\n",
    "r = result\n",
    "from pytest import approx\n",
    "assert r.loglike == approx(-3444.185105027836)\n",
    "assert r.n_cases == 5029\n",
    "assert 'success' in r.message.lower()\n",
    "assert dict(zip(m.pnames, r.x)) == approx({\n",
    "    'ASC_Bike': -1.6287137598928783,\n",
    "    'ASC_SR2': -1.8076753640695755,\n",
    "    'ASC_SR3+': -3.4337739234532756,\n",
    "    'ASC_Transit': -0.6851824718405783,\n",
    "    'ASC_Walk': 0.06944589897084852,\n",
    "    'costbyincome': -0.05240461370499937,\n",
    "    'hhinc#4': -0.0053241481308512004,\n",
    "    'hhinc#5': -0.008634732662554195,\n",
    "    'hhinc#6': -0.005996742608087729,\n",
    "    'motorized_ovtbydist': -0.1326966328086029,\n",
    "    'motorized_time': -0.02019872321825129,\n",
    "    'nonmotorized_time': -0.04546051181623673,\n",
    "    'vehbywrk_Bike': -0.7027338887881739,\n",
    "    'vehbywrk_SR': -0.3167651458729014,\n",
    "    'vehbywrk_Transit': -0.946118123994283,\n",
    "    'vehbywrk_Walk': -0.7223837768020874,\n",
    "    'wkcbd_Bike': 0.4887635620321093,\n",
    "    'wkcbd_SR2': 0.25973913680020616,\n",
    "    'wkcbd_SR3+': 1.0693080706303768,\n",
    "    'wkcbd_Transit': 1.3089881907595406,\n",
    "    'wkcbd_Walk': 0.10212881871476903,\n",
    "    'wkempden_Bike': 0.001936052921612131,\n",
    "    'wkempden_SR2': 0.001579506064082312,\n",
    "    'wkempden_SR3+': 0.002258761866013131,\n",
    "    'wkempden_Transit': 0.0031341311451905467,\n",
    "    'wkempden_Walk': 0.002890362519991945,\n",
    "})"
   ]
  },
  {
   "cell_type": "code",
   "execution_count": 12,
   "id": "395f02e1",
   "metadata": {
    "ExecuteTime": {
     "end_time": "2022-05-24T03:52:44.337630Z",
     "start_time": "2022-05-24T03:52:43.655727Z"
    }
   },
   "outputs": [
    {
     "data": {
      "text/html": [
       "<style type=\"text/css\">\n",
       "#T_bd1af th {\n",
       "  vertical-align: top;\n",
       "  text-align: left;\n",
       "}\n",
       "#T_bd1af td {\n",
       "  vertical-align: top;\n",
       "  text-align: left;\n",
       "}\n",
       "#T_bd1af_row0_col0, #T_bd1af_row0_col1, #T_bd1af_row0_col2, #T_bd1af_row0_col3, #T_bd1af_row0_col4, #T_bd1af_row1_col0, #T_bd1af_row1_col1, #T_bd1af_row1_col2, #T_bd1af_row1_col3, #T_bd1af_row1_col4, #T_bd1af_row2_col0, #T_bd1af_row2_col1, #T_bd1af_row2_col2, #T_bd1af_row2_col3, #T_bd1af_row2_col4, #T_bd1af_row3_col0, #T_bd1af_row3_col1, #T_bd1af_row3_col2, #T_bd1af_row3_col3, #T_bd1af_row3_col4, #T_bd1af_row4_col0, #T_bd1af_row4_col1, #T_bd1af_row4_col2, #T_bd1af_row4_col3, #T_bd1af_row4_col4, #T_bd1af_row5_col0, #T_bd1af_row5_col1, #T_bd1af_row5_col2, #T_bd1af_row5_col3, #T_bd1af_row5_col4, #T_bd1af_row6_col0, #T_bd1af_row6_col1, #T_bd1af_row6_col2, #T_bd1af_row6_col3, #T_bd1af_row6_col4, #T_bd1af_row7_col0, #T_bd1af_row7_col1, #T_bd1af_row7_col2, #T_bd1af_row7_col3, #T_bd1af_row7_col4, #T_bd1af_row8_col0, #T_bd1af_row8_col1, #T_bd1af_row8_col2, #T_bd1af_row8_col3, #T_bd1af_row8_col4, #T_bd1af_row9_col0, #T_bd1af_row9_col1, #T_bd1af_row9_col2, #T_bd1af_row9_col3, #T_bd1af_row9_col4, #T_bd1af_row10_col0, #T_bd1af_row10_col1, #T_bd1af_row10_col2, #T_bd1af_row10_col3, #T_bd1af_row10_col4, #T_bd1af_row11_col0, #T_bd1af_row11_col1, #T_bd1af_row11_col2, #T_bd1af_row11_col3, #T_bd1af_row11_col4, #T_bd1af_row12_col0, #T_bd1af_row12_col1, #T_bd1af_row12_col2, #T_bd1af_row12_col3, #T_bd1af_row12_col4, #T_bd1af_row13_col0, #T_bd1af_row13_col1, #T_bd1af_row13_col2, #T_bd1af_row13_col3, #T_bd1af_row13_col4, #T_bd1af_row14_col0, #T_bd1af_row14_col1, #T_bd1af_row14_col2, #T_bd1af_row14_col3, #T_bd1af_row14_col4, #T_bd1af_row15_col0, #T_bd1af_row15_col1, #T_bd1af_row15_col2, #T_bd1af_row15_col3, #T_bd1af_row15_col4, #T_bd1af_row16_col0, #T_bd1af_row16_col1, #T_bd1af_row16_col2, #T_bd1af_row16_col3, #T_bd1af_row16_col4, #T_bd1af_row17_col0, #T_bd1af_row17_col1, #T_bd1af_row17_col2, #T_bd1af_row17_col3, #T_bd1af_row17_col4, #T_bd1af_row18_col0, #T_bd1af_row18_col1, #T_bd1af_row18_col2, #T_bd1af_row18_col3, #T_bd1af_row18_col4, #T_bd1af_row19_col0, #T_bd1af_row19_col1, #T_bd1af_row19_col2, #T_bd1af_row19_col3, #T_bd1af_row19_col4, #T_bd1af_row20_col0, #T_bd1af_row20_col1, #T_bd1af_row20_col2, #T_bd1af_row20_col3, #T_bd1af_row20_col4, #T_bd1af_row21_col0, #T_bd1af_row21_col1, #T_bd1af_row21_col2, #T_bd1af_row21_col3, #T_bd1af_row21_col4, #T_bd1af_row22_col0, #T_bd1af_row22_col1, #T_bd1af_row22_col2, #T_bd1af_row22_col3, #T_bd1af_row22_col4, #T_bd1af_row23_col0, #T_bd1af_row23_col1, #T_bd1af_row23_col2, #T_bd1af_row23_col3, #T_bd1af_row23_col4, #T_bd1af_row24_col0, #T_bd1af_row24_col1, #T_bd1af_row24_col2, #T_bd1af_row24_col3, #T_bd1af_row24_col4, #T_bd1af_row25_col0, #T_bd1af_row25_col1, #T_bd1af_row25_col2, #T_bd1af_row25_col3, #T_bd1af_row25_col4 {\n",
       "  font-family: monospace;\n",
       "}\n",
       "</style>\n",
       "<table id=\"T_bd1af\">\n",
       "  <thead>\n",
       "    <tr>\n",
       "      <th class=\"blank\" >&nbsp;</th>\n",
       "      <th class=\"blank level0\" >&nbsp;</th>\n",
       "      <th id=\"T_bd1af_level0_col0\" class=\"col_heading level0 col0\" >Value</th>\n",
       "      <th id=\"T_bd1af_level0_col1\" class=\"col_heading level0 col1\" >Std Err</th>\n",
       "      <th id=\"T_bd1af_level0_col2\" class=\"col_heading level0 col2\" >t Stat</th>\n",
       "      <th id=\"T_bd1af_level0_col3\" class=\"col_heading level0 col3\" >Signif</th>\n",
       "      <th id=\"T_bd1af_level0_col4\" class=\"col_heading level0 col4\" >Null Value</th>\n",
       "    </tr>\n",
       "    <tr>\n",
       "      <th class=\"index_name level0\" >Category</th>\n",
       "      <th class=\"index_name level1\" >Parameter</th>\n",
       "      <th class=\"blank col0\" >&nbsp;</th>\n",
       "      <th class=\"blank col1\" >&nbsp;</th>\n",
       "      <th class=\"blank col2\" >&nbsp;</th>\n",
       "      <th class=\"blank col3\" >&nbsp;</th>\n",
       "      <th class=\"blank col4\" >&nbsp;</th>\n",
       "    </tr>\n",
       "  </thead>\n",
       "  <tbody>\n",
       "    <tr>\n",
       "      <th id=\"T_bd1af_level0_row0\" class=\"row_heading level0 row0\" rowspan=\"4\">LOS</th>\n",
       "      <th id=\"T_bd1af_level1_row0\" class=\"row_heading level1 row0\" >costbyincome</th>\n",
       "      <td id=\"T_bd1af_row0_col0\" class=\"data row0 col0\" >-0.0524</td>\n",
       "      <td id=\"T_bd1af_row0_col1\" class=\"data row0 col1\" > 0.0104</td>\n",
       "      <td id=\"T_bd1af_row0_col2\" class=\"data row0 col2\" >-5.04</td>\n",
       "      <td id=\"T_bd1af_row0_col3\" class=\"data row0 col3\" >***</td>\n",
       "      <td id=\"T_bd1af_row0_col4\" class=\"data row0 col4\" > 0.00</td>\n",
       "    </tr>\n",
       "    <tr>\n",
       "      <th id=\"T_bd1af_level1_row1\" class=\"row_heading level1 row1\" >motorized_time</th>\n",
       "      <td id=\"T_bd1af_row1_col0\" class=\"data row1 col0\" >-0.0202</td>\n",
       "      <td id=\"T_bd1af_row1_col1\" class=\"data row1 col1\" > 0.00381</td>\n",
       "      <td id=\"T_bd1af_row1_col2\" class=\"data row1 col2\" >-5.30</td>\n",
       "      <td id=\"T_bd1af_row1_col3\" class=\"data row1 col3\" >***</td>\n",
       "      <td id=\"T_bd1af_row1_col4\" class=\"data row1 col4\" > 0.00</td>\n",
       "    </tr>\n",
       "    <tr>\n",
       "      <th id=\"T_bd1af_level1_row2\" class=\"row_heading level1 row2\" >nonmotorized_time</th>\n",
       "      <td id=\"T_bd1af_row2_col0\" class=\"data row2 col0\" >-0.0455</td>\n",
       "      <td id=\"T_bd1af_row2_col1\" class=\"data row2 col1\" > 0.00577</td>\n",
       "      <td id=\"T_bd1af_row2_col2\" class=\"data row2 col2\" >-7.88</td>\n",
       "      <td id=\"T_bd1af_row2_col3\" class=\"data row2 col3\" >***</td>\n",
       "      <td id=\"T_bd1af_row2_col4\" class=\"data row2 col4\" > 0.00</td>\n",
       "    </tr>\n",
       "    <tr>\n",
       "      <th id=\"T_bd1af_level1_row3\" class=\"row_heading level1 row3\" >motorized_ovtbydist</th>\n",
       "      <td id=\"T_bd1af_row3_col0\" class=\"data row3 col0\" >-0.133</td>\n",
       "      <td id=\"T_bd1af_row3_col1\" class=\"data row3 col1\" > 0.0196</td>\n",
       "      <td id=\"T_bd1af_row3_col2\" class=\"data row3 col2\" >-6.76</td>\n",
       "      <td id=\"T_bd1af_row3_col3\" class=\"data row3 col3\" >***</td>\n",
       "      <td id=\"T_bd1af_row3_col4\" class=\"data row3 col4\" > 0.00</td>\n",
       "    </tr>\n",
       "    <tr>\n",
       "      <th id=\"T_bd1af_level0_row4\" class=\"row_heading level0 row4\" rowspan=\"10\">Zonal</th>\n",
       "      <th id=\"T_bd1af_level1_row4\" class=\"row_heading level1 row4\" >wkcbd_Bike</th>\n",
       "      <td id=\"T_bd1af_row4_col0\" class=\"data row4 col0\" > 0.489</td>\n",
       "      <td id=\"T_bd1af_row4_col1\" class=\"data row4 col1\" > 0.361</td>\n",
       "      <td id=\"T_bd1af_row4_col2\" class=\"data row4 col2\" > 1.35</td>\n",
       "      <td id=\"T_bd1af_row4_col3\" class=\"data row4 col3\" ></td>\n",
       "      <td id=\"T_bd1af_row4_col4\" class=\"data row4 col4\" > 0.00</td>\n",
       "    </tr>\n",
       "    <tr>\n",
       "      <th id=\"T_bd1af_level1_row5\" class=\"row_heading level1 row5\" >wkcbd_SR2</th>\n",
       "      <td id=\"T_bd1af_row5_col0\" class=\"data row5 col0\" > 0.260</td>\n",
       "      <td id=\"T_bd1af_row5_col1\" class=\"data row5 col1\" > 0.123</td>\n",
       "      <td id=\"T_bd1af_row5_col2\" class=\"data row5 col2\" > 2.11</td>\n",
       "      <td id=\"T_bd1af_row5_col3\" class=\"data row5 col3\" >*</td>\n",
       "      <td id=\"T_bd1af_row5_col4\" class=\"data row5 col4\" > 0.00</td>\n",
       "    </tr>\n",
       "    <tr>\n",
       "      <th id=\"T_bd1af_level1_row6\" class=\"row_heading level1 row6\" >wkcbd_SR3+</th>\n",
       "      <td id=\"T_bd1af_row6_col0\" class=\"data row6 col0\" > 1.07</td>\n",
       "      <td id=\"T_bd1af_row6_col1\" class=\"data row6 col1\" > 0.191</td>\n",
       "      <td id=\"T_bd1af_row6_col2\" class=\"data row6 col2\" > 5.59</td>\n",
       "      <td id=\"T_bd1af_row6_col3\" class=\"data row6 col3\" >***</td>\n",
       "      <td id=\"T_bd1af_row6_col4\" class=\"data row6 col4\" > 0.00</td>\n",
       "    </tr>\n",
       "    <tr>\n",
       "      <th id=\"T_bd1af_level1_row7\" class=\"row_heading level1 row7\" >wkcbd_Transit</th>\n",
       "      <td id=\"T_bd1af_row7_col0\" class=\"data row7 col0\" > 1.31</td>\n",
       "      <td id=\"T_bd1af_row7_col1\" class=\"data row7 col1\" > 0.166</td>\n",
       "      <td id=\"T_bd1af_row7_col2\" class=\"data row7 col2\" > 7.90</td>\n",
       "      <td id=\"T_bd1af_row7_col3\" class=\"data row7 col3\" >***</td>\n",
       "      <td id=\"T_bd1af_row7_col4\" class=\"data row7 col4\" > 0.00</td>\n",
       "    </tr>\n",
       "    <tr>\n",
       "      <th id=\"T_bd1af_level1_row8\" class=\"row_heading level1 row8\" >wkcbd_Walk</th>\n",
       "      <td id=\"T_bd1af_row8_col0\" class=\"data row8 col0\" > 0.102</td>\n",
       "      <td id=\"T_bd1af_row8_col1\" class=\"data row8 col1\" > 0.252</td>\n",
       "      <td id=\"T_bd1af_row8_col2\" class=\"data row8 col2\" > 0.41</td>\n",
       "      <td id=\"T_bd1af_row8_col3\" class=\"data row8 col3\" ></td>\n",
       "      <td id=\"T_bd1af_row8_col4\" class=\"data row8 col4\" > 0.00</td>\n",
       "    </tr>\n",
       "    <tr>\n",
       "      <th id=\"T_bd1af_level1_row9\" class=\"row_heading level1 row9\" >wkempden_Bike</th>\n",
       "      <td id=\"T_bd1af_row9_col0\" class=\"data row9 col0\" > 0.00194</td>\n",
       "      <td id=\"T_bd1af_row9_col1\" class=\"data row9 col1\" > 0.00121</td>\n",
       "      <td id=\"T_bd1af_row9_col2\" class=\"data row9 col2\" > 1.59</td>\n",
       "      <td id=\"T_bd1af_row9_col3\" class=\"data row9 col3\" ></td>\n",
       "      <td id=\"T_bd1af_row9_col4\" class=\"data row9 col4\" > 0.00</td>\n",
       "    </tr>\n",
       "    <tr>\n",
       "      <th id=\"T_bd1af_level1_row10\" class=\"row_heading level1 row10\" >wkempden_SR2</th>\n",
       "      <td id=\"T_bd1af_row10_col0\" class=\"data row10 col0\" > 0.00158</td>\n",
       "      <td id=\"T_bd1af_row10_col1\" class=\"data row10 col1\" > 0.000390</td>\n",
       "      <td id=\"T_bd1af_row10_col2\" class=\"data row10 col2\" > 4.05</td>\n",
       "      <td id=\"T_bd1af_row10_col3\" class=\"data row10 col3\" >***</td>\n",
       "      <td id=\"T_bd1af_row10_col4\" class=\"data row10 col4\" > 0.00</td>\n",
       "    </tr>\n",
       "    <tr>\n",
       "      <th id=\"T_bd1af_level1_row11\" class=\"row_heading level1 row11\" >wkempden_SR3+</th>\n",
       "      <td id=\"T_bd1af_row11_col0\" class=\"data row11 col0\" > 0.00226</td>\n",
       "      <td id=\"T_bd1af_row11_col1\" class=\"data row11 col1\" > 0.000452</td>\n",
       "      <td id=\"T_bd1af_row11_col2\" class=\"data row11 col2\" > 5.00</td>\n",
       "      <td id=\"T_bd1af_row11_col3\" class=\"data row11 col3\" >***</td>\n",
       "      <td id=\"T_bd1af_row11_col4\" class=\"data row11 col4\" > 0.00</td>\n",
       "    </tr>\n",
       "    <tr>\n",
       "      <th id=\"T_bd1af_level1_row12\" class=\"row_heading level1 row12\" >wkempden_Transit</th>\n",
       "      <td id=\"T_bd1af_row12_col0\" class=\"data row12 col0\" > 0.00313</td>\n",
       "      <td id=\"T_bd1af_row12_col1\" class=\"data row12 col1\" > 0.000361</td>\n",
       "      <td id=\"T_bd1af_row12_col2\" class=\"data row12 col2\" > 8.69</td>\n",
       "      <td id=\"T_bd1af_row12_col3\" class=\"data row12 col3\" >***</td>\n",
       "      <td id=\"T_bd1af_row12_col4\" class=\"data row12 col4\" > 0.00</td>\n",
       "    </tr>\n",
       "    <tr>\n",
       "      <th id=\"T_bd1af_level1_row13\" class=\"row_heading level1 row13\" >wkempden_Walk</th>\n",
       "      <td id=\"T_bd1af_row13_col0\" class=\"data row13 col0\" > 0.00289</td>\n",
       "      <td id=\"T_bd1af_row13_col1\" class=\"data row13 col1\" > 0.000742</td>\n",
       "      <td id=\"T_bd1af_row13_col2\" class=\"data row13 col2\" > 3.89</td>\n",
       "      <td id=\"T_bd1af_row13_col3\" class=\"data row13 col3\" >***</td>\n",
       "      <td id=\"T_bd1af_row13_col4\" class=\"data row13 col4\" > 0.00</td>\n",
       "    </tr>\n",
       "    <tr>\n",
       "      <th id=\"T_bd1af_level0_row14\" class=\"row_heading level0 row14\" rowspan=\"7\">Household</th>\n",
       "      <th id=\"T_bd1af_level1_row14\" class=\"row_heading level1 row14\" >hhinc#4</th>\n",
       "      <td id=\"T_bd1af_row14_col0\" class=\"data row14 col0\" >-0.00532</td>\n",
       "      <td id=\"T_bd1af_row14_col1\" class=\"data row14 col1\" > 0.00198</td>\n",
       "      <td id=\"T_bd1af_row14_col2\" class=\"data row14 col2\" >-2.69</td>\n",
       "      <td id=\"T_bd1af_row14_col3\" class=\"data row14 col3\" >**</td>\n",
       "      <td id=\"T_bd1af_row14_col4\" class=\"data row14 col4\" > 0.00</td>\n",
       "    </tr>\n",
       "    <tr>\n",
       "      <th id=\"T_bd1af_level1_row15\" class=\"row_heading level1 row15\" >hhinc#5</th>\n",
       "      <td id=\"T_bd1af_row15_col0\" class=\"data row15 col0\" >-0.00863</td>\n",
       "      <td id=\"T_bd1af_row15_col1\" class=\"data row15 col1\" > 0.00515</td>\n",
       "      <td id=\"T_bd1af_row15_col2\" class=\"data row15 col2\" >-1.68</td>\n",
       "      <td id=\"T_bd1af_row15_col3\" class=\"data row15 col3\" ></td>\n",
       "      <td id=\"T_bd1af_row15_col4\" class=\"data row15 col4\" > 0.00</td>\n",
       "    </tr>\n",
       "    <tr>\n",
       "      <th id=\"T_bd1af_level1_row16\" class=\"row_heading level1 row16\" >hhinc#6</th>\n",
       "      <td id=\"T_bd1af_row16_col0\" class=\"data row16 col0\" >-0.00600</td>\n",
       "      <td id=\"T_bd1af_row16_col1\" class=\"data row16 col1\" > 0.00315</td>\n",
       "      <td id=\"T_bd1af_row16_col2\" class=\"data row16 col2\" >-1.90</td>\n",
       "      <td id=\"T_bd1af_row16_col3\" class=\"data row16 col3\" ></td>\n",
       "      <td id=\"T_bd1af_row16_col4\" class=\"data row16 col4\" > 0.00</td>\n",
       "    </tr>\n",
       "    <tr>\n",
       "      <th id=\"T_bd1af_level1_row17\" class=\"row_heading level1 row17\" >vehbywrk_Bike</th>\n",
       "      <td id=\"T_bd1af_row17_col0\" class=\"data row17 col0\" >-0.703</td>\n",
       "      <td id=\"T_bd1af_row17_col1\" class=\"data row17 col1\" > 0.258</td>\n",
       "      <td id=\"T_bd1af_row17_col2\" class=\"data row17 col2\" >-2.72</td>\n",
       "      <td id=\"T_bd1af_row17_col3\" class=\"data row17 col3\" >**</td>\n",
       "      <td id=\"T_bd1af_row17_col4\" class=\"data row17 col4\" > 0.00</td>\n",
       "    </tr>\n",
       "    <tr>\n",
       "      <th id=\"T_bd1af_level1_row18\" class=\"row_heading level1 row18\" >vehbywrk_SR</th>\n",
       "      <td id=\"T_bd1af_row18_col0\" class=\"data row18 col0\" >-0.317</td>\n",
       "      <td id=\"T_bd1af_row18_col1\" class=\"data row18 col1\" > 0.0666</td>\n",
       "      <td id=\"T_bd1af_row18_col2\" class=\"data row18 col2\" >-4.75</td>\n",
       "      <td id=\"T_bd1af_row18_col3\" class=\"data row18 col3\" >***</td>\n",
       "      <td id=\"T_bd1af_row18_col4\" class=\"data row18 col4\" > 0.00</td>\n",
       "    </tr>\n",
       "    <tr>\n",
       "      <th id=\"T_bd1af_level1_row19\" class=\"row_heading level1 row19\" >vehbywrk_Transit</th>\n",
       "      <td id=\"T_bd1af_row19_col0\" class=\"data row19 col0\" >-0.946</td>\n",
       "      <td id=\"T_bd1af_row19_col1\" class=\"data row19 col1\" > 0.118</td>\n",
       "      <td id=\"T_bd1af_row19_col2\" class=\"data row19 col2\" >-8.00</td>\n",
       "      <td id=\"T_bd1af_row19_col3\" class=\"data row19 col3\" >***</td>\n",
       "      <td id=\"T_bd1af_row19_col4\" class=\"data row19 col4\" > 0.00</td>\n",
       "    </tr>\n",
       "    <tr>\n",
       "      <th id=\"T_bd1af_level1_row20\" class=\"row_heading level1 row20\" >vehbywrk_Walk</th>\n",
       "      <td id=\"T_bd1af_row20_col0\" class=\"data row20 col0\" >-0.722</td>\n",
       "      <td id=\"T_bd1af_row20_col1\" class=\"data row20 col1\" > 0.169</td>\n",
       "      <td id=\"T_bd1af_row20_col2\" class=\"data row20 col2\" >-4.26</td>\n",
       "      <td id=\"T_bd1af_row20_col3\" class=\"data row20 col3\" >***</td>\n",
       "      <td id=\"T_bd1af_row20_col4\" class=\"data row20 col4\" > 0.00</td>\n",
       "    </tr>\n",
       "    <tr>\n",
       "      <th id=\"T_bd1af_level0_row21\" class=\"row_heading level0 row21\" rowspan=\"5\">ASCs</th>\n",
       "      <th id=\"T_bd1af_level1_row21\" class=\"row_heading level1 row21\" >ASC_Bike</th>\n",
       "      <td id=\"T_bd1af_row21_col0\" class=\"data row21 col0\" >-1.63</td>\n",
       "      <td id=\"T_bd1af_row21_col1\" class=\"data row21 col1\" > 0.427</td>\n",
       "      <td id=\"T_bd1af_row21_col2\" class=\"data row21 col2\" >-3.81</td>\n",
       "      <td id=\"T_bd1af_row21_col3\" class=\"data row21 col3\" >***</td>\n",
       "      <td id=\"T_bd1af_row21_col4\" class=\"data row21 col4\" > 0.00</td>\n",
       "    </tr>\n",
       "    <tr>\n",
       "      <th id=\"T_bd1af_level1_row22\" class=\"row_heading level1 row22\" >ASC_SR2</th>\n",
       "      <td id=\"T_bd1af_row22_col0\" class=\"data row22 col0\" >-1.81</td>\n",
       "      <td id=\"T_bd1af_row22_col1\" class=\"data row22 col1\" > 0.106</td>\n",
       "      <td id=\"T_bd1af_row22_col2\" class=\"data row22 col2\" >-17.03</td>\n",
       "      <td id=\"T_bd1af_row22_col3\" class=\"data row22 col3\" >***</td>\n",
       "      <td id=\"T_bd1af_row22_col4\" class=\"data row22 col4\" > 0.00</td>\n",
       "    </tr>\n",
       "    <tr>\n",
       "      <th id=\"T_bd1af_level1_row23\" class=\"row_heading level1 row23\" >ASC_SR3+</th>\n",
       "      <td id=\"T_bd1af_row23_col0\" class=\"data row23 col0\" >-3.43</td>\n",
       "      <td id=\"T_bd1af_row23_col1\" class=\"data row23 col1\" > 0.152</td>\n",
       "      <td id=\"T_bd1af_row23_col2\" class=\"data row23 col2\" >-22.61</td>\n",
       "      <td id=\"T_bd1af_row23_col3\" class=\"data row23 col3\" >***</td>\n",
       "      <td id=\"T_bd1af_row23_col4\" class=\"data row23 col4\" > 0.00</td>\n",
       "    </tr>\n",
       "    <tr>\n",
       "      <th id=\"T_bd1af_level1_row24\" class=\"row_heading level1 row24\" >ASC_Transit</th>\n",
       "      <td id=\"T_bd1af_row24_col0\" class=\"data row24 col0\" >-0.685</td>\n",
       "      <td id=\"T_bd1af_row24_col1\" class=\"data row24 col1\" > 0.248</td>\n",
       "      <td id=\"T_bd1af_row24_col2\" class=\"data row24 col2\" >-2.77</td>\n",
       "      <td id=\"T_bd1af_row24_col3\" class=\"data row24 col3\" >**</td>\n",
       "      <td id=\"T_bd1af_row24_col4\" class=\"data row24 col4\" > 0.00</td>\n",
       "    </tr>\n",
       "    <tr>\n",
       "      <th id=\"T_bd1af_level1_row25\" class=\"row_heading level1 row25\" >ASC_Walk</th>\n",
       "      <td id=\"T_bd1af_row25_col0\" class=\"data row25 col0\" > 0.0694</td>\n",
       "      <td id=\"T_bd1af_row25_col1\" class=\"data row25 col1\" > 0.348</td>\n",
       "      <td id=\"T_bd1af_row25_col2\" class=\"data row25 col2\" > 0.20</td>\n",
       "      <td id=\"T_bd1af_row25_col3\" class=\"data row25 col3\" ></td>\n",
       "      <td id=\"T_bd1af_row25_col4\" class=\"data row25 col4\" > 0.00</td>\n",
       "    </tr>\n",
       "  </tbody>\n",
       "</table>\n"
      ],
      "text/plain": [
       "<pandas.io.formats.style.Styler at 0x135cdedf0>"
      ]
     },
     "execution_count": 12,
     "metadata": {},
     "output_type": "execute_result"
    }
   ],
   "source": [
    "m.parameter_summary()"
   ]
  },
  {
   "cell_type": "code",
   "execution_count": 13,
   "id": "0fb65e53",
   "metadata": {
    "ExecuteTime": {
     "end_time": "2022-05-24T03:52:44.360654Z",
     "start_time": "2022-05-24T03:52:44.340565Z"
    }
   },
   "outputs": [],
   "source": [
    "# TEST\n",
    "from larix.util.testing import assert_same_text\n",
    "assert_same_text(\n",
    "    m.parameter_summary().data.to_markdown(),\n",
    "    \"\"\"\n",
    "    |                                   |    Value |   Std Err |   t Stat | Signif   |   Null Value |\n",
    "    |:----------------------------------|---------:|----------:|---------:|:---------|-------------:|\n",
    "    | ('LOS', 'costbyincome')           | -0.0524  |  0.0104   |    -5.04 | ***      |            0 |\n",
    "    | ('LOS', 'motorized_time')         | -0.0202  |  0.00381  |    -5.3  | ***      |            0 |\n",
    "    | ('LOS', 'nonmotorized_time')      | -0.0455  |  0.00577  |    -7.88 | ***      |            0 |\n",
    "    | ('LOS', 'motorized_ovtbydist')    | -0.133   |  0.0196   |    -6.76 | ***      |            0 |\n",
    "    | ('Zonal', 'wkcbd_Bike')           |  0.489   |  0.361    |     1.35 |          |            0 |\n",
    "    | ('Zonal', 'wkcbd_SR2')            |  0.26    |  0.123    |     2.11 | *        |            0 |\n",
    "    | ('Zonal', 'wkcbd_SR3+')           |  1.07    |  0.191    |     5.59 | ***      |            0 |\n",
    "    | ('Zonal', 'wkcbd_Transit')        |  1.31    |  0.166    |     7.9  | ***      |            0 |\n",
    "    | ('Zonal', 'wkcbd_Walk')           |  0.102   |  0.252    |     0.41 |          |            0 |\n",
    "    | ('Zonal', 'wkempden_Bike')        |  0.00194 |  0.00121  |     1.59 |          |            0 |\n",
    "    | ('Zonal', 'wkempden_SR2')         |  0.00158 |  0.00039  |     4.05 | ***      |            0 |\n",
    "    | ('Zonal', 'wkempden_SR3+')        |  0.00226 |  0.000452 |     5    | ***      |            0 |\n",
    "    | ('Zonal', 'wkempden_Transit')     |  0.00313 |  0.000361 |     8.69 | ***      |            0 |\n",
    "    | ('Zonal', 'wkempden_Walk')        |  0.00289 |  0.000742 |     3.89 | ***      |            0 |\n",
    "    | ('Household', 'hhinc#4')          | -0.00532 |  0.00198  |    -2.69 | **       |            0 |\n",
    "    | ('Household', 'hhinc#5')          | -0.00863 |  0.00515  |    -1.68 |          |            0 |\n",
    "    | ('Household', 'hhinc#6')          | -0.006   |  0.00315  |    -1.9  |          |            0 |\n",
    "    | ('Household', 'vehbywrk_Bike')    | -0.703   |  0.258    |    -2.72 | **       |            0 |\n",
    "    | ('Household', 'vehbywrk_SR')      | -0.317   |  0.0666   |    -4.75 | ***      |            0 |\n",
    "    | ('Household', 'vehbywrk_Transit') | -0.946   |  0.118    |    -8    | ***      |            0 |\n",
    "    | ('Household', 'vehbywrk_Walk')    | -0.722   |  0.169    |    -4.26 | ***      |            0 |\n",
    "    | ('ASCs', 'ASC_Bike')              | -1.63    |  0.427    |    -3.81 | ***      |            0 |\n",
    "    | ('ASCs', 'ASC_SR2')               | -1.81    |  0.106    |   -17.03 | ***      |            0 |\n",
    "    | ('ASCs', 'ASC_SR3+')              | -3.43    |  0.152    |   -22.61 | ***      |            0 |\n",
    "    | ('ASCs', 'ASC_Transit')           | -0.685   |  0.248    |    -2.77 | **       |            0 |\n",
    "    | ('ASCs', 'ASC_Walk')              |  0.0694  |  0.348    |     0.2  |          |            0 |\n",
    "    \"\"\"\n",
    ")"
   ]
  }
 ],
 "metadata": {
  "kernelspec": {
   "display_name": "Python 3 (ipykernel)",
   "language": "python",
   "name": "python3"
  },
  "language_info": {
   "codemirror_mode": {
    "name": "ipython",
    "version": 3
   },
   "file_extension": ".py",
   "mimetype": "text/x-python",
   "name": "python",
   "nbconvert_exporter": "python",
   "pygments_lexer": "ipython3",
   "version": "3.9.10"
  },
  "toc": {
   "base_numbering": 1,
   "nav_menu": {},
   "number_sections": false,
   "sideBar": true,
   "skip_h1_title": false,
   "title_cell": "Table of Contents",
   "title_sidebar": "Contents",
   "toc_cell": false,
   "toc_position": {},
   "toc_section_display": true,
   "toc_window_display": false
  }
 },
 "nbformat": 4,
 "nbformat_minor": 5
}
