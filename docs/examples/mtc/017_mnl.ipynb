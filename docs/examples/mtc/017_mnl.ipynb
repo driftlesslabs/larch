{
 "cells": [
  {
   "cell_type": "markdown",
   "id": "5852f0e3",
   "metadata": {},
   "source": [
    "# 17: MTC Expanded MNL Mode Choice"
   ]
  },
  {
   "cell_type": "code",
   "execution_count": null,
   "id": "f9fa7932",
   "metadata": {
    "tags": [
     "remove_cell"
    ]
   },
   "outputs": [],
   "source": [
    "# TEST\n",
    "import larix as lx\n",
    "import pandas as pd\n",
    "pd.set_option(\"display.max_columns\", 999)\n",
    "pd.set_option('expand_frame_repr', False)\n",
    "pd.set_option('display.precision', 3)"
   ]
  },
  {
   "cell_type": "markdown",
   "id": "7d382537",
   "metadata": {},
   "source": [
    "For this example, we're going to re-create model 17 from the\n",
    "[Self Instructing Manual](http://www.caee.utexas.edu/prof/Bhat/COURSES/LM_Draft_060131Final-060630.pdf). (pp. 128)"
   ]
  },
  {
   "cell_type": "code",
   "execution_count": null,
   "id": "417a821c",
   "metadata": {},
   "outputs": [],
   "source": [
    "import larix as lx\n",
    "lx.__version__"
   ]
  },
  {
   "cell_type": "code",
   "execution_count": null,
   "id": "91e1a946",
   "metadata": {},
   "outputs": [],
   "source": [
    "d = lx.examples.MTC()\n",
    "m = lx.Model(d)"
   ]
  },
  {
   "cell_type": "markdown",
   "id": "3eb1164f",
   "metadata": {},
   "source": [
    "We will use the usual choice and availability variables."
   ]
  },
  {
   "cell_type": "code",
   "execution_count": null,
   "id": "5bd6ddb2",
   "metadata": {},
   "outputs": [],
   "source": [
    "m.availability_var = 'avail'\n",
    "m.choice_ca_var = 'chose'"
   ]
  },
  {
   "cell_type": "code",
   "execution_count": null,
   "id": "1c030da6",
   "metadata": {},
   "outputs": [],
   "source": [
    "from larix import P, X\n",
    "\n",
    "m.utility_ca = (\n",
    "    + X(\"totcost/hhinc\") * P(\"costbyincome\")\n",
    "    + X(\"tottime * (altid <= 4)\") * P(\"motorized_time\")\n",
    "    + X(\"tottime * (altid >= 5)\") * P(\"nonmotorized_time\")\n",
    "    + X(\"ovtt/dist * (altid <= 4)\") * P(\"motorized_ovtbydist\")\n",
    ")"
   ]
  },
  {
   "cell_type": "markdown",
   "id": "730662d1",
   "metadata": {},
   "source": [
    "The \"totcost/hhinc\" data is computed once as a new variable when loading the model data.\n",
    "The same applies for tottime filtered by motorized modes (we harness the convenient fact\n",
    "that all the motorized modes have identifying numbers 4 or less), and \"ovtt/dist\"."
   ]
  },
  {
   "cell_type": "code",
   "execution_count": null,
   "id": "e125ebeb",
   "metadata": {},
   "outputs": [],
   "source": [
    "for a in [4,5,6]:\n",
    "    m.utility_co[a] += X(\"hhinc\") * P(\"hhinc#{}\".format(a))"
   ]
  },
  {
   "cell_type": "markdown",
   "id": "4c5eb8b2",
   "metadata": {},
   "source": [
    "Since the model we want to create groups together DA, SR2 and SR3+ jointly as\n",
    "reference alternatives with respect to income, we can simply omit all of these alternatives\n",
    "from the block that applies to **hhinc**.\n",
    "\n",
    "For vehicles per worker, the preferred model include a joint parameter on SR2 and SR3+,\n",
    "but not including DA and not fixed at zero.  Here we might use a shadow_parameter (also\n",
    "called an alias in some places), which allows\n",
    "us to specify one or more parameters that are simply a fixed proportion of another parameter.\n",
    "For example, we can say that vehbywrk_SR2 will be equal to vehbywrk_SR."
   ]
  },
  {
   "cell_type": "code",
   "execution_count": null,
   "id": "393b801b",
   "metadata": {},
   "outputs": [],
   "source": [
    "for i in d['altnames'][1:3]:\n",
    "    name = str(i.values)\n",
    "    a = int(i.altid)\n",
    "    m.utility_co[a] += (\n",
    "        + X(\"vehbywrk\") * P(\"vehbywrk_SR\")\n",
    "        + X(\"wkccbd+wknccbd\") * P(\"wkcbd_\"+name)\n",
    "        + X(\"wkempden\") * P(\"wkempden_\"+name)\n",
    "        + P(\"ASC_\"+name)\n",
    "    )\n",
    "\n",
    "for i in d['altnames'][3:]:\n",
    "    name = str(i.values)\n",
    "    a = int(i.altid)\n",
    "    m.utility_co[a] += (\n",
    "        + X(\"vehbywrk\") * P(\"vehbywrk_\"+name)\n",
    "        + X(\"wkccbd+wknccbd\") * P(\"wkcbd_\"+name)\n",
    "        + X(\"wkempden\") * P(\"wkempden_\"+name)\n",
    "        + P(\"ASC_\"+name)\n",
    "    )"
   ]
  },
  {
   "cell_type": "markdown",
   "id": "4cd9a4d4",
   "metadata": {},
   "source": [
    "We didn't explicitly define our parameters first, which is fine; Larch will\n",
    "find them in the utility functions (or elsewhere in more complex models).\n",
    "But they may be found in a weird order that is hard to read in reports.\n",
    "We can define an ordering scheme by assigning to the parameter_groups attribute,\n",
    "like this:"
   ]
  },
  {
   "cell_type": "code",
   "execution_count": null,
   "id": "3a2b26b9",
   "metadata": {},
   "outputs": [],
   "source": [
    "m.ordering = (\n",
    "    ('LOS', \".*cost.*\", \".*time.*\", \".*dist.*\",),\n",
    "    ('Zonal', \"wkcbd.*\", \"wkempden.*\",),\n",
    "    ('Household', \"hhinc.*\", \"vehbywrk.*\",),\n",
    "    ('ASCs', \"ASC.*\",),\n",
    ")\n",
    "m.set_cap(25)"
   ]
  },
  {
   "cell_type": "markdown",
   "id": "1bec5f2a",
   "metadata": {},
   "source": [
    "Each item in parameter_ordering is a tuple, with a label and one or more regular expressions,\n",
    "which will be compared against\n",
    "all the parameter names.  Any names that match will be pulled out and put into the\n",
    "reporting order sequentially.  Thus if a parameter name would match more than one\n",
    "regex, it will appear in the ordering only for the first match.\n",
    "\n",
    "\n",
    "Having created this model, we can then estimate it:"
   ]
  },
  {
   "cell_type": "code",
   "execution_count": null,
   "id": "6d54f34c",
   "metadata": {},
   "outputs": [],
   "source": [
    "result = m.maximize_loglike(stderr=True)"
   ]
  },
  {
   "cell_type": "code",
   "execution_count": null,
   "id": "1b943352",
   "metadata": {
    "tags": [
     "remove_cell"
    ]
   },
   "outputs": [],
   "source": [
    "# TEST\n",
    "r = result\n",
    "from pytest import approx\n",
    "assert r.loglike == approx(-3444.185105027836)\n",
    "assert r.n_cases == 5029\n",
    "assert 'success' in r.message.lower()\n",
    "assert dict(zip(m.pnames, r.x)) == approx({\n",
    "    'ASC_Bike': -1.6287137598928783,\n",
    "    'ASC_SR2': -1.8076753640695755,\n",
    "    'ASC_SR3+': -3.4337739234532756,\n",
    "    'ASC_Transit': -0.6851824718405783,\n",
    "    'ASC_Walk': 0.06944589897084852,\n",
    "    'costbyincome': -0.05240461370499937,\n",
    "    'hhinc#4': -0.0053241481308512004,\n",
    "    'hhinc#5': -0.008634732662554195,\n",
    "    'hhinc#6': -0.005996742608087729,\n",
    "    'motorized_ovtbydist': -0.1326966328086029,\n",
    "    'motorized_time': -0.02019872321825129,\n",
    "    'nonmotorized_time': -0.04546051181623673,\n",
    "    'vehbywrk_Bike': -0.7027338887881739,\n",
    "    'vehbywrk_SR': -0.3167651458729014,\n",
    "    'vehbywrk_Transit': -0.946118123994283,\n",
    "    'vehbywrk_Walk': -0.7223837768020874,\n",
    "    'wkcbd_Bike': 0.4887635620321093,\n",
    "    'wkcbd_SR2': 0.25973913680020616,\n",
    "    'wkcbd_SR3+': 1.0693080706303768,\n",
    "    'wkcbd_Transit': 1.3089881907595406,\n",
    "    'wkcbd_Walk': 0.10212881871476903,\n",
    "    'wkempden_Bike': 0.001936052921612131,\n",
    "    'wkempden_SR2': 0.001579506064082312,\n",
    "    'wkempden_SR3+': 0.002258761866013131,\n",
    "    'wkempden_Transit': 0.0031341311451905467,\n",
    "    'wkempden_Walk': 0.002890362519991945,\n",
    "})"
   ]
  },
  {
   "cell_type": "code",
   "execution_count": null,
   "id": "395f02e1",
   "metadata": {},
   "outputs": [],
   "source": [
    "m.parameter_summary()"
   ]
  },
  {
   "cell_type": "code",
   "execution_count": null,
   "id": "022b537d",
   "metadata": {},
   "outputs": [],
   "source": [
    "# TEST\n",
    "from larix.util.testing import assert_same_text\n",
    "assert_same_text(\n",
    "    m.parameter_summary().data.to_markdown(),\n",
    "    \"\"\"\n",
    "    |                                   |    Value |   Std Err |   t Stat | Signif   |   Null Value |\n",
    "    |:----------------------------------|---------:|----------:|---------:|:---------|-------------:|\n",
    "    | ('LOS', 'costbyincome')           | -0.0524  |  0.0104   |    -5.04 | ***      |            0 |\n",
    "    | ('LOS', 'motorized_time')         | -0.0202  |  0.00381  |    -5.3  | ***      |            0 |\n",
    "    | ('LOS', 'nonmotorized_time')      | -0.0455  |  0.00577  |    -7.88 | ***      |            0 |\n",
    "    | ('LOS', 'motorized_ovtbydist')    | -0.133   |  0.0196   |    -6.76 | ***      |            0 |\n",
    "    | ('Zonal', 'wkcbd_Bike')           |  0.489   |  0.361    |     1.35 |          |            0 |\n",
    "    | ('Zonal', 'wkcbd_SR2')            |  0.26    |  0.123    |     2.11 | *        |            0 |\n",
    "    | ('Zonal', 'wkcbd_SR3+')           |  1.07    |  0.191    |     5.59 | ***      |            0 |\n",
    "    | ('Zonal', 'wkcbd_Transit')        |  1.31    |  0.166    |     7.9  | ***      |            0 |\n",
    "    | ('Zonal', 'wkcbd_Walk')           |  0.102   |  0.252    |     0.41 |          |            0 |\n",
    "    | ('Zonal', 'wkempden_Bike')        |  0.00194 |  0.00121  |     1.59 |          |            0 |\n",
    "    | ('Zonal', 'wkempden_SR2')         |  0.00158 |  0.00039  |     4.05 | ***      |            0 |\n",
    "    | ('Zonal', 'wkempden_SR3+')        |  0.00226 |  0.000452 |     5    | ***      |            0 |\n",
    "    | ('Zonal', 'wkempden_Transit')     |  0.00313 |  0.000361 |     8.69 | ***      |            0 |\n",
    "    | ('Zonal', 'wkempden_Walk')        |  0.00289 |  0.000742 |     3.89 | ***      |            0 |\n",
    "    | ('Household', 'hhinc#4')          | -0.00532 |  0.00198  |    -2.69 | **       |            0 |\n",
    "    | ('Household', 'hhinc#5')          | -0.00863 |  0.00515  |    -1.68 |          |            0 |\n",
    "    | ('Household', 'hhinc#6')          | -0.006   |  0.00315  |    -1.9  |          |            0 |\n",
    "    | ('Household', 'vehbywrk_Bike')    | -0.703   |  0.258    |    -2.72 | **       |            0 |\n",
    "    | ('Household', 'vehbywrk_SR')      | -0.317   |  0.0666   |    -4.75 | ***      |            0 |\n",
    "    | ('Household', 'vehbywrk_Transit') | -0.946   |  0.118    |    -8    | ***      |            0 |\n",
    "    | ('Household', 'vehbywrk_Walk')    | -0.722   |  0.169    |    -4.26 | ***      |            0 |\n",
    "    | ('ASCs', 'ASC_Bike')              | -1.63    |  0.427    |    -3.81 | ***      |            0 |\n",
    "    | ('ASCs', 'ASC_SR2')               | -1.81    |  0.106    |   -17.03 | ***      |            0 |\n",
    "    | ('ASCs', 'ASC_SR3+')              | -3.43    |  0.152    |   -22.61 | ***      |            0 |\n",
    "    | ('ASCs', 'ASC_Transit')           | -0.685   |  0.248    |    -2.77 | **       |            0 |\n",
    "    | ('ASCs', 'ASC_Walk')              |  0.0694  |  0.348    |     0.2  |          |            0 |\n",
    "    \"\"\"\n",
    ")"
   ]
  }
 ],
 "metadata": {
  "kernelspec": {
   "display_name": "Python 3 (ipykernel)",
   "language": "python",
   "name": "python3"
  },
  "language_info": {
   "codemirror_mode": {
    "name": "ipython",
    "version": 3
   },
   "file_extension": ".py",
   "mimetype": "text/x-python",
   "name": "python",
   "nbconvert_exporter": "python",
   "pygments_lexer": "ipython3",
   "version": "3.9.10"
  },
  "toc": {
   "base_numbering": 1,
   "nav_menu": {},
   "number_sections": false,
   "sideBar": true,
   "skip_h1_title": false,
   "title_cell": "Table of Contents",
   "title_sidebar": "Contents",
   "toc_cell": false,
   "toc_position": {},
   "toc_section_display": true,
   "toc_window_display": false
  }
 },
 "nbformat": 4,
 "nbformat_minor": 5
}
