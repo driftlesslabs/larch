{
 "cells": [
  {
   "cell_type": "markdown",
   "id": "0",
   "metadata": {},
   "source": [
    "# 17C: Gender Segmentation (Male)\n",
    "\n",
    "Model 17C segments the market by gender for males. (pp. 135)"
   ]
  },
  {
   "cell_type": "markdown",
   "id": "1",
   "metadata": {},
   "source": [
    "Import larch and verify that the version number is correct (as of 1/30/2024 should be 6.0.17)"
   ]
  },
  {
   "cell_type": "code",
   "execution_count": null,
   "id": "2",
   "metadata": {},
   "outputs": [],
   "source": [
    "import larch"
   ]
  },
  {
   "cell_type": "code",
   "execution_count": null,
   "id": "3",
   "metadata": {},
   "outputs": [],
   "source": [
    "larch.__version__"
   ]
  },
  {
   "cell_type": "markdown",
   "id": "4",
   "metadata": {},
   "source": [
    "This example is a mode choice model built using the MTC example dataset. First we create the DB and Model objects:"
   ]
  },
  {
   "cell_type": "code",
   "execution_count": null,
   "id": "5",
   "metadata": {},
   "outputs": [],
   "source": [
    "d = larch.examples.MTC(format=\"dataset\")\n",
    "d"
   ]
  },
  {
   "cell_type": "raw",
   "id": "6",
   "metadata": {},
   "source": [
    "Include only the cases where gender is males (femdum = 0)"
   ]
  },
  {
   "cell_type": "code",
   "execution_count": null,
   "id": "7",
   "metadata": {},
   "outputs": [],
   "source": [
    "d = d.sel(caseid=d.femdum == 0)"
   ]
  },
  {
   "cell_type": "code",
   "execution_count": null,
   "id": "8",
   "metadata": {},
   "outputs": [],
   "source": [
    "m = larch.Model(d, compute_engine=\"numba\")"
   ]
  },
  {
   "cell_type": "markdown",
   "id": "9",
   "metadata": {},
   "source": [
    "Then we can build up the utility function. We’ll use some :ref:idco data first, using the Model.utility.co attribute. This attribute is a dict-like object, to which we can assign :class:LinearFunction objects for each alternative code."
   ]
  },
  {
   "cell_type": "code",
   "execution_count": null,
   "id": "10",
   "metadata": {},
   "outputs": [],
   "source": [
    "from larch import P, X\n",
    "\n",
    "for a in [4, 5, 6]:\n",
    "    m.utility_co[a] += X(\"hhinc\") * P(f\"hhinc#{a}\")"
   ]
  },
  {
   "cell_type": "markdown",
   "id": "11",
   "metadata": {},
   "source": [
    "Since the model we want to create groups together DA, SR2 and SR3+ jointly as reference alternatives with respect to income, we can simply omit all of these alternatives from the block that applies to hhinc."
   ]
  },
  {
   "cell_type": "markdown",
   "id": "12",
   "metadata": {},
   "source": [
    "For vehicles per worker, the preferred model include a joint parameter on SR2 and SR3+, but not including DA and not fixed at zero. Here we might use a shadow_parameter (also called an alias in some places), which allows us to specify one or more parameters that are simply a fixed proportion of another parameter. For example, we can say that vehbywrk_SR2 will be equal to vehbywrk_SR."
   ]
  },
  {
   "cell_type": "code",
   "execution_count": null,
   "id": "13",
   "metadata": {},
   "outputs": [],
   "source": [
    "for i in d[\"alt_names\"][1:3]:\n",
    "    name = str(i.values)\n",
    "    a = int(i.altid)\n",
    "    m.utility_co[a] += (\n",
    "        +X(\"vehbywrk\") * P(\"vehbywrk_SR\")\n",
    "        + X(\"wkccbd+wknccbd\") * P(\"wkcbd_\" + name)\n",
    "        + X(\"wkempden\") * P(\"wkempden_\" + name)\n",
    "        + P(\"ASC_\" + name)\n",
    "    )\n",
    "\n",
    "for i in d[\"alt_names\"][3:]:\n",
    "    name = str(i.values)\n",
    "    a = int(i.altid)\n",
    "    m.utility_co[a] += (\n",
    "        +X(\"vehbywrk\") * P(\"vehbywrk_\" + name)\n",
    "        + X(\"wkccbd+wknccbd\") * P(\"wkcbd_\" + name)\n",
    "        + X(\"wkempden\") * P(\"wkempden_\" + name)\n",
    "        + P(\"ASC_\" + name)\n",
    "    )"
   ]
  },
  {
   "cell_type": "markdown",
   "id": "14",
   "metadata": {},
   "source": [
    "Next we’ll use some idca data, with the utility_ca attribute. This attribute is only a single :class:LinearFunction that is applied across all alternatives using :ref:idca data. Because the data is structured to vary across alternatives, the parameters (and thus the structure of the :class:LinearFunction) does not need to vary across alternatives."
   ]
  },
  {
   "cell_type": "code",
   "execution_count": null,
   "id": "15",
   "metadata": {},
   "outputs": [],
   "source": [
    "m.utility_ca = (\n",
    "    +X(\"totcost/hhinc\") * P(\"costbyincome\")\n",
    "    + X(\"tottime * (altid <= 4)\") * P(\"motorized_time\")\n",
    "    + X(\"tottime * (altid >= 5)\") * P(\"nonmotorized_time\")\n",
    "    + X(\"ovtt/dist * (altid <= 4)\") * P(\"motorized_ovtbydist\")\n",
    ")"
   ]
  },
  {
   "cell_type": "markdown",
   "id": "16",
   "metadata": {},
   "source": [
    "The “totcost/hhinc” data is computed once as a new variable when loading the model data. The same applies for tottime filtered by motorized modes (we harness the convenient fact that all the motorized modes have identifying numbers 4 or less), and “ovtt/dist”."
   ]
  },
  {
   "cell_type": "markdown",
   "id": "17",
   "metadata": {},
   "source": [
    "Lastly, we need to identify idca Format data that gives the availability for each alternative, as well as the number of times each alternative is chosen. (In traditional discrete choice analysis, this is often 0 or 1, but it need not be binary, or even integral.)\n"
   ]
  },
  {
   "cell_type": "code",
   "execution_count": null,
   "id": "18",
   "metadata": {},
   "outputs": [],
   "source": [
    "m.availability_ca_var = \"avail\"\n",
    "m.choice_ca_var = \"chose\""
   ]
  },
  {
   "cell_type": "markdown",
   "id": "19",
   "metadata": {},
   "source": [
    "And let’s give our model a descriptive title."
   ]
  },
  {
   "cell_type": "code",
   "execution_count": null,
   "id": "20",
   "metadata": {},
   "outputs": [],
   "source": [
    "m.title = \"MTC Example 17C, Segmented for males\""
   ]
  },
  {
   "cell_type": "markdown",
   "id": "21",
   "metadata": {},
   "source": [
    "We can view a summary of the choices and alternative availabilities to make sure the model is set up correctly."
   ]
  },
  {
   "cell_type": "code",
   "execution_count": null,
   "id": "22",
   "metadata": {},
   "outputs": [],
   "source": [
    "m.choice_avail_summary()"
   ]
  },
  {
   "cell_type": "markdown",
   "id": "23",
   "metadata": {},
   "source": [
    "We’ll set a parameter cap (bound) at +/- 25, which helps improve the numerical stability of the optimization algorithm used in estimation."
   ]
  },
  {
   "cell_type": "code",
   "execution_count": null,
   "id": "24",
   "metadata": {},
   "outputs": [],
   "source": [
    "m.set_cap(25)"
   ]
  },
  {
   "cell_type": "markdown",
   "id": "25",
   "metadata": {},
   "source": [
    "Having created this model, we can then estimate it:"
   ]
  },
  {
   "cell_type": "code",
   "execution_count": null,
   "id": "26",
   "metadata": {},
   "outputs": [],
   "source": [
    "assert m.compute_engine == \"numba\""
   ]
  },
  {
   "cell_type": "code",
   "execution_count": null,
   "id": "27",
   "metadata": {},
   "outputs": [],
   "source": [
    "result = m.maximize_loglike(stderr=True, options={\"maxiter\": 1000, \"ftol\": 1e-10})\n",
    "m.calculate_parameter_covariance()\n",
    "m.loglike()"
   ]
  },
  {
   "cell_type": "code",
   "execution_count": null,
   "id": "28",
   "metadata": {},
   "outputs": [],
   "source": [
    "m.parameter_summary()"
   ]
  },
  {
   "cell_type": "markdown",
   "id": "29",
   "metadata": {},
   "source": [
    "It is a little tough to read this report because the parameters show up in alphabetical order. We can use the reorder method to fix this and group them systematically:"
   ]
  },
  {
   "cell_type": "code",
   "execution_count": null,
   "id": "30",
   "metadata": {},
   "outputs": [],
   "source": [
    "m.ordering = (\n",
    "    (\n",
    "        \"LOS\",\n",
    "        \".*cost.*\",\n",
    "        \".*time.*\",\n",
    "        \".*dist.*\",\n",
    "    ),\n",
    "    (\n",
    "        \"Zonal\",\n",
    "        \"wkcbd.*\",\n",
    "        \"wkempden.*\",\n",
    "    ),\n",
    "    (\n",
    "        \"Household\",\n",
    "        \"hhinc.*\",\n",
    "        \"vehbywrk.*\",\n",
    "    ),\n",
    "    (\n",
    "        \"ASCs\",\n",
    "        \"ASC.*\",\n",
    "    ),\n",
    ")"
   ]
  },
  {
   "cell_type": "code",
   "execution_count": null,
   "id": "31",
   "metadata": {},
   "outputs": [],
   "source": [
    "m.parameter_summary()"
   ]
  },
  {
   "cell_type": "markdown",
   "id": "32",
   "metadata": {},
   "source": [
    "Finally, let's print model statistics.  Note that if you want LL at constants you need to run a separate model."
   ]
  },
  {
   "cell_type": "code",
   "execution_count": null,
   "id": "33",
   "metadata": {},
   "outputs": [],
   "source": [
    "m.estimation_statistics()"
   ]
  },
  {
   "cell_type": "code",
   "execution_count": null,
   "id": "34",
   "metadata": {},
   "outputs": [],
   "source": [
    "# TEST\n",
    "revealed_x = dict(zip(m.pnames, result.x))"
   ]
  },
  {
   "cell_type": "code",
   "execution_count": null,
   "id": "35",
   "metadata": {},
   "outputs": [],
   "source": [
    "# TEST\n",
    "from pytest import approx\n",
    "\n",
    "expected_x = {\n",
    "    \"ASC_Bike\": -1.928007825476385,\n",
    "    \"ASC_SR2\": -1.912455790177904,\n",
    "    \"ASC_SR3+\": -3.5514203840398006,\n",
    "    \"ASC_Transit\": -0.8658094170164065,\n",
    "    \"ASC_Walk\": -1.2203008866494844,\n",
    "    \"costbyincome\": -0.06390233682221723,\n",
    "    \"hhinc#4\": -0.0020804355665526397,\n",
    "    \"hhinc#5\": -0.0013784543619515673,\n",
    "    \"hhinc#6\": -0.00501951838450115,\n",
    "    \"motorized_ovtbydist\": -0.18639734021256957,\n",
    "    \"motorized_time\": -0.01951022691589421,\n",
    "    \"nonmotorized_time\": -0.024446076816243063,\n",
    "    \"vehbywrk_Bike\": -0.9930978890574966,\n",
    "    \"vehbywrk_SR\": -0.20981196496890442,\n",
    "    \"vehbywrk_Transit\": -0.8322463141471179,\n",
    "    \"vehbywrk_Walk\": -0.6105805888289391,\n",
    "    \"wkcbd_Bike\": 0.3204533731833982,\n",
    "    \"wkcbd_SR2\": 0.027661592161988033,\n",
    "    \"wkcbd_SR3+\": 1.423466120894847,\n",
    "    \"wkcbd_Transit\": 1.196921606447681,\n",
    "    \"wkcbd_Walk\": 0.22281387280820592,\n",
    "    \"wkempden_Bike\": 0.0004958705725495997,\n",
    "    \"wkempden_SR2\": 0.0009305263934769419,\n",
    "    \"wkempden_SR3+\": 0.0005787415453590467,\n",
    "    \"wkempden_Transit\": 0.002487830750207477,\n",
    "    \"wkempden_Walk\": 0.0012923574145590863,\n",
    "}\n",
    "for k in expected_x:\n",
    "    assert revealed_x[k] == approx(\n",
    "        expected_x[k], 2e-2\n",
    "    ), f\"{k}, {revealed_x[k]/expected_x[k]}\""
   ]
  }
 ],
 "metadata": {
  "kernelspec": {
   "display_name": "Python 3 (ipykernel)",
   "language": "python",
   "name": "python3"
  },
  "language_info": {
   "codemirror_mode": {
    "name": "ipython",
    "version": 3
   },
   "file_extension": ".py",
   "mimetype": "text/x-python",
   "name": "python",
   "nbconvert_exporter": "python",
   "pygments_lexer": "ipython3",
   "version": "3.10.14"
  }
 },
 "nbformat": 4,
 "nbformat_minor": 5
}
