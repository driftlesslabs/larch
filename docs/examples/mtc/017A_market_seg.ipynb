{
 "cells": [
  {
   "cell_type": "markdown",
   "id": "0",
   "metadata": {},
   "source": [
    "# 17A: Market Segmentation\n",
    "\n",
    "Market segmentation can be used to determine whether the impact of other variables is different among population groups. The most common approach to market segmentation is for the analyst to consider sample segments which are mutually exclusive and collectively exhaustive (that is, each case is included in one and only one segment). Models are estimated for the sample associated with each segment and compared to the pooled model (all segments represented by a single model) to determine if there are statistically significant and important differences among the market segments.\r\n",
    "\r\n",
    "Model 17A segments the market by automobile ownership for households that have one or fewer cars. It is appealing to include a distinct segment for households with no cars since the mode choice behavior of this segment is very different from the rest of the population due to their dependence on non-automobile modes. However, the size of this segment in the dataset is too small, so it is joined with the one car group. (pp. 129-133)5)"
   ]
  },
  {
   "cell_type": "code",
   "execution_count": null,
   "id": "1",
   "metadata": {},
   "outputs": [],
   "source": [
    "# TEST\n",
    "import larch"
   ]
  },
  {
   "cell_type": "code",
   "execution_count": null,
   "id": "2",
   "metadata": {},
   "outputs": [],
   "source": [
    "import larch\n",
    "\n",
    "larch.__version__"
   ]
  },
  {
   "cell_type": "markdown",
   "id": "3",
   "metadata": {},
   "source": [
    "This example is a mode choice model built using the MTC example dataset. First we create the DB and Model objects:"
   ]
  },
  {
   "cell_type": "code",
   "execution_count": null,
   "id": "4",
   "metadata": {},
   "outputs": [],
   "source": [
    "d = larch.examples.MTC(format=\"dataset\")\n",
    "d"
   ]
  },
  {
   "cell_type": "markdown",
   "id": "5",
   "metadata": {},
   "source": [
    "Include only the cases where number of vehicles is 1 or less"
   ]
  },
  {
   "cell_type": "code",
   "execution_count": null,
   "id": "6",
   "metadata": {},
   "outputs": [],
   "source": [
    "d = d.sel(caseid=d.numveh <= 1)"
   ]
  },
  {
   "cell_type": "code",
   "execution_count": null,
   "id": "7",
   "metadata": {},
   "outputs": [],
   "source": [
    "m = larch.Model(d, compute_engine=\"numba\")"
   ]
  },
  {
   "cell_type": "markdown",
   "id": "8",
   "metadata": {},
   "source": [
    "Then we can build up the utility function. We’ll use some :ref:idco data first, using the Model.utility.co attribute. This attribute is a dict-like object, to which we can assign :class:LinearFunction objects for each alternative code."
   ]
  },
  {
   "cell_type": "code",
   "execution_count": null,
   "id": "9",
   "metadata": {},
   "outputs": [],
   "source": [
    "from larch import P, X\n",
    "\n",
    "for a in [4, 5, 6]:\n",
    "    m.utility_co[a] += X(\"hhinc\") * P(f\"hhinc#{a}\")"
   ]
  },
  {
   "cell_type": "markdown",
   "id": "10",
   "metadata": {},
   "source": [
    "Since the model we want to create groups together DA, SR2 and SR3+ jointly as reference alternatives with respect to income, we can simply omit all of these alternatives from the block that applies to hhinc."
   ]
  },
  {
   "cell_type": "markdown",
   "id": "11",
   "metadata": {},
   "source": [
    "For vehicles per worker, the preferred model include a joint parameter on SR2 and SR3+, but not including DA and not fixed at zero. Here we might use a shadow_parameter (also called an alias in some places), which allows us to specify one or more parameters that are simply a fixed proportion of another parameter. For example, we can say that vehbywrk_SR2 will be equal to vehbywrk_SR."
   ]
  },
  {
   "cell_type": "code",
   "execution_count": null,
   "id": "12",
   "metadata": {},
   "outputs": [],
   "source": [
    "for i in d[\"alt_names\"][1:3]:\n",
    "    name = str(i.values)\n",
    "    a = int(i.altid)\n",
    "    m.utility_co[a] += (\n",
    "        +X(\"vehbywrk\") * P(\"vehbywrk_SR\")\n",
    "        + X(\"wkccbd+wknccbd\") * P(\"wkcbd_\" + name)\n",
    "        + X(\"wkempden\") * P(\"wkempden_\" + name)\n",
    "        + P(\"ASC_\" + name)\n",
    "    )\n",
    "\n",
    "for i in d[\"alt_names\"][3:]:\n",
    "    name = str(i.values)\n",
    "    a = int(i.altid)\n",
    "    m.utility_co[a] += (\n",
    "        +X(\"vehbywrk\") * P(\"vehbywrk_\" + name)\n",
    "        + X(\"wkccbd+wknccbd\") * P(\"wkcbd_\" + name)\n",
    "        + X(\"wkempden\") * P(\"wkempden_\" + name)\n",
    "        + P(\"ASC_\" + name)\n",
    "    )"
   ]
  },
  {
   "cell_type": "markdown",
   "id": "13",
   "metadata": {},
   "source": [
    "Next we’ll use some idca data, with the utility_ca attribute. This attribute is only a single :class:LinearFunction that is applied across all alternatives using :ref:idca data. Because the data is structured to vary across alternatives, the parameters (and thus the structure of the :class:LinearFunction) does not need to vary across alternatives."
   ]
  },
  {
   "cell_type": "code",
   "execution_count": null,
   "id": "14",
   "metadata": {},
   "outputs": [],
   "source": [
    "m.utility_ca = (\n",
    "    +X(\"totcost/hhinc\") * P(\"costbyincome\")\n",
    "    + X(\"tottime * (altid <= 4)\") * P(\"motorized_time\")\n",
    "    + X(\"tottime * (altid >= 5)\") * P(\"nonmotorized_time\")\n",
    "    + X(\"ovtt/dist * (altid <= 4)\") * P(\"motorized_ovtbydist\")\n",
    ")"
   ]
  },
  {
   "cell_type": "markdown",
   "id": "15",
   "metadata": {},
   "source": [
    "The “totcost/hhinc” data is computed once as a new variable when loading the model data. The same applies for tottime filtered by motorized modes (we harness the convenient fact that all the motorized modes have identifying numbers 4 or less), and “ovtt/dist”."
   ]
  },
  {
   "cell_type": "markdown",
   "id": "16",
   "metadata": {},
   "source": [
    "Lastly, we need to identify idca Format data that gives the availability for each alternative, as well as the number of times each alternative is chosen. (In traditional discrete choice analysis, this is often 0 or 1, but it need not be binary, or even integral.)\n"
   ]
  },
  {
   "cell_type": "code",
   "execution_count": null,
   "id": "17",
   "metadata": {},
   "outputs": [],
   "source": [
    "m.availability_ca_var = \"avail\"\n",
    "m.choice_ca_var = \"chose\""
   ]
  },
  {
   "cell_type": "markdown",
   "id": "18",
   "metadata": {},
   "source": [
    "And let’s give our model a descriptive title."
   ]
  },
  {
   "cell_type": "code",
   "execution_count": null,
   "id": "19",
   "metadata": {},
   "outputs": [],
   "source": [
    "m.title = \"MTC Example 17A, Segmented for 1 or fewer cars\""
   ]
  },
  {
   "cell_type": "markdown",
   "id": "20",
   "metadata": {},
   "source": [
    "We can view a summary of the choices and alternative availabilities to make sure the model is set up correctly."
   ]
  },
  {
   "cell_type": "code",
   "execution_count": null,
   "id": "21",
   "metadata": {},
   "outputs": [],
   "source": [
    "m.choice_avail_summary()"
   ]
  },
  {
   "cell_type": "markdown",
   "id": "22",
   "metadata": {},
   "source": [
    "We’ll set a parameter cap (bound) at +/- 25, which helps improve the numerical stability of the optimization algorithm used in estimation."
   ]
  },
  {
   "cell_type": "code",
   "execution_count": null,
   "id": "23",
   "metadata": {},
   "outputs": [],
   "source": [
    "m.set_cap(25)"
   ]
  },
  {
   "cell_type": "markdown",
   "id": "24",
   "metadata": {},
   "source": [
    "Having created this model, we can then estimate it:"
   ]
  },
  {
   "cell_type": "code",
   "execution_count": null,
   "id": "25",
   "metadata": {},
   "outputs": [],
   "source": [
    "assert m.compute_engine == \"numba\""
   ]
  },
  {
   "cell_type": "code",
   "execution_count": null,
   "id": "26",
   "metadata": {},
   "outputs": [],
   "source": [
    "result = m.maximize_loglike(stderr=True, options={\"maxiter\": 1000, \"ftol\": 1e-10})\n",
    "m.calculate_parameter_covariance()\n",
    "m.loglike()"
   ]
  },
  {
   "cell_type": "code",
   "execution_count": null,
   "id": "27",
   "metadata": {},
   "outputs": [],
   "source": [
    "m.parameter_summary()"
   ]
  },
  {
   "cell_type": "markdown",
   "id": "28",
   "metadata": {},
   "source": [
    "It is a little tough to read this report because the parameters show up in alphabetical order. We can use the reorder method to fix this and group them systematically:"
   ]
  },
  {
   "cell_type": "code",
   "execution_count": null,
   "id": "29",
   "metadata": {},
   "outputs": [],
   "source": [
    "m.ordering = (\n",
    "    (\n",
    "        \"LOS\",\n",
    "        \".*cost.*\",\n",
    "        \".*time.*\",\n",
    "        \".*dist.*\",\n",
    "    ),\n",
    "    (\n",
    "        \"Zonal\",\n",
    "        \"wkcbd.*\",\n",
    "        \"wkempden.*\",\n",
    "    ),\n",
    "    (\n",
    "        \"Household\",\n",
    "        \"hhinc.*\",\n",
    "        \"vehbywrk.*\",\n",
    "    ),\n",
    "    (\n",
    "        \"ASCs\",\n",
    "        \"ASC.*\",\n",
    "    ),\n",
    ")"
   ]
  },
  {
   "cell_type": "code",
   "execution_count": null,
   "id": "30",
   "metadata": {},
   "outputs": [],
   "source": [
    "m.parameter_summary()"
   ]
  },
  {
   "cell_type": "markdown",
   "id": "31",
   "metadata": {},
   "source": [
    "Finally, let's print model statistics.  Note that if you want LL at constants you need to run a separate model."
   ]
  },
  {
   "cell_type": "code",
   "execution_count": null,
   "id": "32",
   "metadata": {},
   "outputs": [],
   "source": [
    "m.estimation_statistics()"
   ]
  },
  {
   "cell_type": "code",
   "execution_count": null,
   "id": "33",
   "metadata": {},
   "outputs": [],
   "source": [
    "# TEST\n",
    "revealed_x = dict(zip(m.pnames, result.x))"
   ]
  },
  {
   "cell_type": "code",
   "execution_count": null,
   "id": "34",
   "metadata": {},
   "outputs": [],
   "source": [
    "# TEST\n",
    "from pytest import approx\n",
    "\n",
    "expected_x = {\n",
    "    \"ASC_Bike\": 0.9742143708899291,\n",
    "    \"ASC_SR2\": 0.5953670936985695,\n",
    "    \"ASC_SR3+\": -0.7824827134037493,\n",
    "    \"ASC_Transit\": 2.2585074587816134,\n",
    "    \"ASC_Walk\": 2.9039591287055986,\n",
    "    \"costbyincome\": -0.02264018916095553,\n",
    "    \"hhinc#4\": -0.006444094209484317,\n",
    "    \"hhinc#5\": -0.011725009048022181,\n",
    "    \"hhinc#6\": -0.01198956540981421,\n",
    "    \"motorized_ovtbydist\": -0.11308926104452616,\n",
    "    \"motorized_time\": -0.021067655041764506,\n",
    "    \"nonmotorized_time\": -0.04394234551517281,\n",
    "    \"vehbywrk_Bike\": -2.644433522672152,\n",
    "    \"vehbywrk_SR\": -3.0157086560458417,\n",
    "    \"vehbywrk_Transit\": -3.9631693279363467,\n",
    "    \"vehbywrk_Walk\": -3.3398299003269862,\n",
    "    \"wkcbd_Bike\": 0.371887416799123,\n",
    "    \"wkcbd_SR2\": 0.37071617423118847,\n",
    "    \"wkcbd_SR3+\": 0.22893265840284804,\n",
    "    \"wkcbd_Transit\": 1.1056371095671524,\n",
    "    \"wkcbd_Walk\": 0.030612758978009455,\n",
    "    \"wkempden_Bike\": 0.001542900697956932,\n",
    "    \"wkempden_SR2\": 0.00204432338331191,\n",
    "    \"wkempden_SR3+\": 0.0035300285386588638,\n",
    "    \"wkempden_Transit\": 0.00316015805069698,\n",
    "    \"wkempden_Walk\": 0.0037858816800672803,\n",
    "}\n",
    "for k in expected_x:\n",
    "    assert revealed_x[k] == approx(\n",
    "        expected_x[k], 2e-2\n",
    "    ), f\"{k}, {revealed_x[k]/expected_x[k]}\""
   ]
  }
 ],
 "metadata": {
  "kernelspec": {
   "display_name": "Python 3 (ipykernel)",
   "language": "python",
   "name": "python3"
  },
  "language_info": {
   "codemirror_mode": {
    "name": "ipython",
    "version": 3
   },
   "file_extension": ".py",
   "mimetype": "text/x-python",
   "name": "python",
   "nbconvert_exporter": "python",
   "pygments_lexer": "ipython3",
   "version": "3.10.14"
  }
 },
 "nbformat": 4,
 "nbformat_minor": 5
}
