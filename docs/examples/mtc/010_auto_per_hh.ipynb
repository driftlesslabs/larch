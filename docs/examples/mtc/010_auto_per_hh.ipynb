{
 "cells": [
  {
   "cell_type": "markdown",
   "id": "a7f38a25-78eb-45ea-848b-8a6900598188",
   "metadata": {},
   "source": [
    "# 10: Number of Automobiles\n",
    "\n",
    "There are strong theoretical and empirical reasons to expect that a variety of decision maker related variables such as income, car availability, residential location, number of workers in the household and others, influence workers’ choice of travel mode.\n",
    "\n",
    "Model 10 considers the number of automobiles in the household. (pp. 120)"
   ]
  },
  {
   "cell_type": "markdown",
   "id": "8473e070",
   "metadata": {},
   "source": [
    "Import larch and verify that the version number is correct (as of 1/30/2024 should be 6.0.17)"
   ]
  },
  {
   "cell_type": "code",
   "execution_count": null,
   "id": "b1ab7365",
   "metadata": {},
   "outputs": [],
   "source": [
    "import larch as lx"
   ]
  },
  {
   "cell_type": "code",
   "execution_count": null,
   "id": "9d1a6c24",
   "metadata": {},
   "outputs": [],
   "source": [
    "lx.__version__"
   ]
  },
  {
   "cell_type": "markdown",
   "id": "df5f1396",
   "metadata": {},
   "source": [
    "This example is a mode choice model built using the MTC example dataset. First we create the DB and Model objects:"
   ]
  },
  {
   "cell_type": "code",
   "execution_count": null,
   "id": "a51c6af8",
   "metadata": {},
   "outputs": [],
   "source": [
    "d = lx.examples.MTC(format=\"dataset\")\n",
    "d"
   ]
  },
  {
   "cell_type": "code",
   "execution_count": null,
   "id": "75a8377f",
   "metadata": {},
   "outputs": [],
   "source": [
    "m = lx.Model(d, compute_engine=\"numba\")"
   ]
  },
  {
   "cell_type": "markdown",
   "id": "32cc630f",
   "metadata": {},
   "source": [
    "Then we can build up the utility function. We’ll use some :ref:`idco` data first, using the Model.utility.co attribute. This attribute is a dict-like object, to which we can assign :class:`LinearFunction` objects for each alternative code."
   ]
  },
  {
   "cell_type": "code",
   "execution_count": null,
   "id": "a11697bd-0b13-4afa-8c66-3871d691c979",
   "metadata": {},
   "outputs": [],
   "source": [
    "from larch import PX, P, X\n",
    "\n",
    "for a in [2, 3]:\n",
    "    m.utility_co[a] = +P(\"hhinc#2,3\") * X(\"hhinc\") + P(f\"numveh#{a}\") * X(\"numveh\")\n",
    "\n",
    "for a in [4, 5, 6]:\n",
    "    m.utility_co[a] = +P(f\"hhinc#{a}\") * X(\"hhinc\") + P(f\"numveh#{a}\") * X(\"numveh\")"
   ]
  },
  {
   "cell_type": "markdown",
   "id": "a6a67b2d-1c36-4902-911c-3a3d8f13b45b",
   "metadata": {},
   "source": [
    "Sometimes we may want to define a part of the utility function that is common across all (or almost all)\n",
    "of the alternatives.  We can access a dictionary (more generically called a \"mapping\") of alternative\n",
    "codes to alternative names, which can be found via the `Dataset.dc.alts_mapping` attribute:"
   ]
  },
  {
   "cell_type": "code",
   "execution_count": null,
   "id": "26cb9052-509b-4301-aeab-837175f5f3c6",
   "metadata": {},
   "outputs": [],
   "source": [
    "d.dc.alts_mapping"
   ]
  },
  {
   "cell_type": "markdown",
   "id": "475b8e85-68e8-4854-8cb4-4946eca0d115",
   "metadata": {},
   "source": [
    "Using this like a standard Python dictionary, we can iterate over all the alternatives, skipping 1, and\n",
    "setting alternative specific constants (ASC's) for the rest."
   ]
  },
  {
   "cell_type": "code",
   "execution_count": null,
   "id": "533d7bec-9741-4428-b4a1-3c2fb8cbd11d",
   "metadata": {},
   "outputs": [],
   "source": [
    "for a, name in d.dc.alts_mapping.items():\n",
    "    if a == 1:\n",
    "        continue\n",
    "    m.utility_co[a] += P(\"ASC_\" + name)"
   ]
  },
  {
   "cell_type": "markdown",
   "id": "856c9f13",
   "metadata": {},
   "source": [
    "Next we’ll use some idca data, with the utility_ca attribute. This attribute is only a single :class:LinearFunction that is applied across all alternatives using :ref:idca data. Because the data is structured to vary across alternatives, the parameters (and thus the structure of the :class:LinearFunction) does not need to vary across alternatives."
   ]
  },
  {
   "cell_type": "code",
   "execution_count": null,
   "id": "1d118dc8",
   "metadata": {},
   "outputs": [],
   "source": [
    "m.utility_ca = (\n",
    "    +PX(\"totcost\")\n",
    "    + P(\"motorized_time\") * X(\"(altid <= 4) * tottime\")\n",
    "    + P(\"nonmotorized_time\") * X(\"(altid > 4) * tottime\")\n",
    "    + P(\"motorized_ovtbydist\") * X(\"(altid <= 4) * ovtt/dist\")\n",
    ")"
   ]
  },
  {
   "cell_type": "markdown",
   "id": "abf23075",
   "metadata": {},
   "source": [
    "Lastly, we need to identify idca Format data that gives the availability for each alternative, as well as the number of times each alternative is chosen. (In traditional discrete choice analysis, this is often 0 or 1, but it need not be binary, or even integral.)\n"
   ]
  },
  {
   "cell_type": "code",
   "execution_count": null,
   "id": "7702f8b0",
   "metadata": {},
   "outputs": [],
   "source": [
    "m.availability_ca_var = \"avail\"\n",
    "m.choice_ca_var = \"chose\""
   ]
  },
  {
   "cell_type": "markdown",
   "id": "332b63b8",
   "metadata": {},
   "source": [
    "And let’s give our model a descriptive title."
   ]
  },
  {
   "cell_type": "code",
   "execution_count": null,
   "id": "bb7607d9",
   "metadata": {},
   "outputs": [],
   "source": [
    "m.title = \"MTC Example 10, Autos per Household\""
   ]
  },
  {
   "cell_type": "markdown",
   "id": "30312e81",
   "metadata": {},
   "source": [
    "We can view a summary of the choices and alternative availabilities to make sure the model is set up correctly."
   ]
  },
  {
   "cell_type": "code",
   "execution_count": null,
   "id": "373795bb",
   "metadata": {},
   "outputs": [],
   "source": [
    "m.choice_avail_summary()"
   ]
  },
  {
   "cell_type": "markdown",
   "id": "13e641db",
   "metadata": {},
   "source": [
    "We’ll set a parameter cap (bound) at +/- 20, which helps improve the numerical stability of the optimization algorithm used in estimation."
   ]
  },
  {
   "cell_type": "code",
   "execution_count": null,
   "id": "a1ad6ee1",
   "metadata": {},
   "outputs": [],
   "source": [
    "m.set_cap(20)"
   ]
  },
  {
   "cell_type": "markdown",
   "id": "93f683c5",
   "metadata": {},
   "source": [
    "Having created this model, we can then estimate it:"
   ]
  },
  {
   "cell_type": "code",
   "execution_count": null,
   "id": "8722c021",
   "metadata": {},
   "outputs": [],
   "source": [
    "# TEST\n",
    "assert m.compute_engine == \"numba\""
   ]
  },
  {
   "cell_type": "code",
   "execution_count": null,
   "id": "43b175cb",
   "metadata": {},
   "outputs": [],
   "source": [
    "result = m.maximize_loglike(stderr=True, method=\"bhhh\")"
   ]
  },
  {
   "cell_type": "code",
   "execution_count": null,
   "id": "977fca56",
   "metadata": {},
   "outputs": [],
   "source": [
    "m.parameter_summary()"
   ]
  },
  {
   "cell_type": "markdown",
   "id": "bd7eb1d8",
   "metadata": {},
   "source": [
    "It is a little tough to read this report because the parameters show up in alphabetical order. We can use the reorder method to fix this and group them systematically:"
   ]
  },
  {
   "cell_type": "code",
   "execution_count": null,
   "id": "a673c73e",
   "metadata": {},
   "outputs": [],
   "source": [
    "m.ordering = (\n",
    "    (\n",
    "        \"LOS\",\n",
    "        \".*cost.*\",\n",
    "        \".*time.*\",\n",
    "        \".*dist.*\",\n",
    "    ),\n",
    "    (\n",
    "        \"Income\",\n",
    "        \"hhinc.*\",\n",
    "    ),\n",
    "    (\"Ownership\", \"numveh.*\"),\n",
    "    (\n",
    "        \"ASCs\",\n",
    "        \"ASC.*\",\n",
    "    ),\n",
    ")"
   ]
  },
  {
   "cell_type": "code",
   "execution_count": null,
   "id": "0ccc81d6",
   "metadata": {},
   "outputs": [],
   "source": [
    "m.parameter_summary()"
   ]
  },
  {
   "cell_type": "markdown",
   "id": "86a1e401",
   "metadata": {},
   "source": [
    "Finally, let's print model statistics.  Note that if you want LL at constants you need to run a separate model."
   ]
  },
  {
   "cell_type": "code",
   "execution_count": null,
   "id": "fe3fb276",
   "metadata": {},
   "outputs": [],
   "source": [
    "m.estimation_statistics()"
   ]
  },
  {
   "cell_type": "code",
   "execution_count": null,
   "id": "5addba22",
   "metadata": {},
   "outputs": [],
   "source": [
    "# TEST\n",
    "from pytest import approx\n",
    "\n",
    "assert result.loglike == approx(-3501.6427674451616)\n",
    "revealed_x = dict(zip(m.pnames, result.x))\n",
    "expected_x = {\n",
    "    \"ASC_Bike\": -2.220318494507017,\n",
    "    \"ASC_SR2\": -2.0539566005386884,\n",
    "    \"ASC_SR3+\": -3.643068905518874,\n",
    "    \"ASC_Transit\": 0.5738157734892145,\n",
    "    \"ASC_Walk\": -0.4403348747865274,\n",
    "    \"hhinc#2,3\": -0.001955401039169736,\n",
    "    \"hhinc#4\": -0.0013233467107319043,\n",
    "    \"hhinc#5\": -0.009513056978703192,\n",
    "    \"hhinc#6\": -0.004156633998143166,\n",
    "    \"motorized_ovtbydist\": -0.17850538190676227,\n",
    "    \"motorized_time\": -0.03782098120360213,\n",
    "    \"nonmotorized_time\": -0.047506740267090244,\n",
    "    \"numveh#2\": -0.035252140629887845,\n",
    "    \"numveh#3\": 0.07226723634772537,\n",
    "    \"numveh#4\": -0.5544590047253285,\n",
    "    \"numveh#5\": -0.22920682058782335,\n",
    "    \"numveh#6\": -0.36557711952920985,\n",
    "    \"totcost\": -0.004059016748597727,\n",
    "}\n",
    "for k in expected_x:\n",
    "    assert revealed_x[k] == approx(\n",
    "        expected_x[k], 2e-2\n",
    "    ), f\"{k}, {revealed_x[k]/expected_x[k]}\""
   ]
  }
 ],
 "metadata": {
  "kernelspec": {
   "display_name": "Python 3 (ipykernel)",
   "language": "python",
   "name": "python3"
  },
  "language_info": {
   "codemirror_mode": {
    "name": "ipython",
    "version": 3
   },
   "file_extension": ".py",
   "mimetype": "text/x-python",
   "name": "python",
   "nbconvert_exporter": "python",
   "pygments_lexer": "ipython3",
   "version": "3.10.13"
  }
 },
 "nbformat": 4,
 "nbformat_minor": 5
}
