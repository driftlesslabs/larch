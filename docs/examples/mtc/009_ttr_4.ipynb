{
 "cells": [
  {
   "cell_type": "markdown",
   "id": "0",
   "metadata": {},
   "source": [
    "# 9: Travel Time Ratio of 4.0\n",
    "\n",
    "Model 9 is formulated the same way as Model 8, only with the TTR set to 4. (pp. 114)4)"
   ]
  },
  {
   "cell_type": "markdown",
   "id": "1",
   "metadata": {},
   "source": [
    "Import larch and verify that the version number is correct (as of 1/30/2024 should be 6.0.17)"
   ]
  },
  {
   "cell_type": "code",
   "execution_count": null,
   "id": "2",
   "metadata": {},
   "outputs": [],
   "source": [
    "import larch as lx"
   ]
  },
  {
   "cell_type": "code",
   "execution_count": null,
   "id": "3",
   "metadata": {},
   "outputs": [],
   "source": [
    "lx.__version__"
   ]
  },
  {
   "cell_type": "markdown",
   "id": "4",
   "metadata": {},
   "source": [
    "Import pandas, numpy"
   ]
  },
  {
   "cell_type": "markdown",
   "id": "5",
   "metadata": {},
   "source": [
    "This example is a mode choice model built using the MTC example dataset. First we create the DB and Model objects:"
   ]
  },
  {
   "cell_type": "code",
   "execution_count": null,
   "id": "6",
   "metadata": {},
   "outputs": [],
   "source": [
    "d = lx.examples.MTC(format=\"dataset\")\n",
    "d"
   ]
  },
  {
   "cell_type": "code",
   "execution_count": null,
   "id": "7",
   "metadata": {},
   "outputs": [],
   "source": [
    "m = lx.Model(d, compute_engine=\"numba\")"
   ]
  },
  {
   "cell_type": "markdown",
   "id": "8",
   "metadata": {},
   "source": [
    "Then we can build up the utility function. We’ll use some :ref:idco data first, using the Model.utility.co attribute. This attribute is a dict-like object, to which we can assign :class:LinearFunction objects for each alternative code."
   ]
  },
  {
   "cell_type": "code",
   "execution_count": null,
   "id": "9",
   "metadata": {},
   "outputs": [],
   "source": [
    "from larch import PX, P, X\n",
    "\n",
    "m.utility_co[2] = P(\"ASC_SR2\") + P(\"hhinc#2,3\") * X(\"hhinc\")\n",
    "m.utility_co[3] = P(\"ASC_SR3P\") + P(\"hhinc#2,3\") * X(\"hhinc\")\n",
    "m.utility_co[4] = P(\"ASC_TRAN\") + P(\"hhinc#4\") * X(\"hhinc\")\n",
    "m.utility_co[5] = P(\"ASC_BIKE\") + P(\"hhinc#5\") * X(\"hhinc\")\n",
    "m.utility_co[6] = P(\"ASC_WALK\") + P(\"hhinc#6\") * X(\"hhinc\")"
   ]
  },
  {
   "cell_type": "markdown",
   "id": "10",
   "metadata": {},
   "source": [
    "Next we’ll use some idca data, with the utility_ca attribute. This attribute is only a single :class:LinearFunction that is applied across all alternatives using :ref:idca data. Because the data is structured to vary across alternatives, the parameters (and thus the structure of the :class:LinearFunction) does not need to vary across alternatives."
   ]
  },
  {
   "cell_type": "code",
   "execution_count": null,
   "id": "11",
   "metadata": {},
   "outputs": [],
   "source": [
    "m.utility_ca = (\n",
    "    +P(\"nonmotorized_time\") * X(\"(altid>4) * tottime\")\n",
    "    + P(\"motorized_time\") * (X(\"(altid <= 4) * ivtt\") + 4 * X(\"(altid <= 4) * ovtt\"))\n",
    "    + PX(\"totcost\")\n",
    ")"
   ]
  },
  {
   "cell_type": "markdown",
   "id": "12",
   "metadata": {},
   "source": [
    "Lastly, we need to identify idca Format data that gives the availability for each alternative, as well as the number of times each alternative is chosen. (In traditional discrete choice analysis, this is often 0 or 1, but it need not be binary, or even integral.)\n"
   ]
  },
  {
   "cell_type": "code",
   "execution_count": null,
   "id": "13",
   "metadata": {},
   "outputs": [],
   "source": [
    "m.availability_ca_var = \"avail\"\n",
    "m.choice_ca_var = \"chose\""
   ]
  },
  {
   "cell_type": "markdown",
   "id": "14",
   "metadata": {},
   "source": [
    "And let’s give our model a descriptive title."
   ]
  },
  {
   "cell_type": "code",
   "execution_count": null,
   "id": "15",
   "metadata": {},
   "outputs": [],
   "source": [
    "m.title = \"MTC Example 9, TTR = 4.0\""
   ]
  },
  {
   "cell_type": "markdown",
   "id": "16",
   "metadata": {},
   "source": [
    "We can view a summary of the choices and alternative availabilities to make sure the model is set up correctly."
   ]
  },
  {
   "cell_type": "code",
   "execution_count": null,
   "id": "17",
   "metadata": {},
   "outputs": [],
   "source": [
    "m.choice_avail_summary()"
   ]
  },
  {
   "cell_type": "markdown",
   "id": "18",
   "metadata": {},
   "source": [
    "We’ll set a parameter cap (bound) at +/- 20, which helps improve the numerical stability of the optimization algorithm used in estimation."
   ]
  },
  {
   "cell_type": "code",
   "execution_count": null,
   "id": "19",
   "metadata": {},
   "outputs": [],
   "source": [
    "m.set_cap(20)"
   ]
  },
  {
   "cell_type": "markdown",
   "id": "20",
   "metadata": {},
   "source": [
    "Having created this model, we can then estimate it:"
   ]
  },
  {
   "cell_type": "code",
   "execution_count": null,
   "id": "21",
   "metadata": {},
   "outputs": [],
   "source": [
    "assert m.compute_engine == \"numba\""
   ]
  },
  {
   "cell_type": "code",
   "execution_count": null,
   "id": "22",
   "metadata": {},
   "outputs": [],
   "source": [
    "result = m.maximize_loglike(stderr=True)\n",
    "m.calculate_parameter_covariance()\n",
    "m.loglike()"
   ]
  },
  {
   "cell_type": "code",
   "execution_count": null,
   "id": "23",
   "metadata": {},
   "outputs": [],
   "source": [
    "m.parameter_summary()"
   ]
  },
  {
   "cell_type": "markdown",
   "id": "24",
   "metadata": {},
   "source": [
    "It is a little tough to read this report because the parameters show up in alphabetical order. We can use the reorder method to fix this and group them systematically:"
   ]
  },
  {
   "cell_type": "code",
   "execution_count": null,
   "id": "25",
   "metadata": {},
   "outputs": [],
   "source": [
    "m.ordering = (\n",
    "    (\n",
    "        \"LOS\",\n",
    "        \".*cost.*\",\n",
    "        \".*time.*\",\n",
    "        \".*ivtt.*\",\n",
    "    ),\n",
    "    (\n",
    "        \"Income\",\n",
    "        \"hhinc.*\",\n",
    "    ),\n",
    "    (\n",
    "        \"ASCs\",\n",
    "        \"ASC.*\",\n",
    "    ),\n",
    ")"
   ]
  },
  {
   "cell_type": "code",
   "execution_count": null,
   "id": "26",
   "metadata": {},
   "outputs": [],
   "source": [
    "m.parameter_summary()"
   ]
  },
  {
   "cell_type": "markdown",
   "id": "27",
   "metadata": {},
   "source": [
    "Finally, let's print model statistics.  Note that if you want LL at constants you need to run a separate model."
   ]
  },
  {
   "cell_type": "code",
   "execution_count": null,
   "id": "28",
   "metadata": {},
   "outputs": [],
   "source": [
    "m.estimation_statistics()"
   ]
  },
  {
   "cell_type": "code",
   "execution_count": null,
   "id": "29",
   "metadata": {},
   "outputs": [],
   "source": [
    "# TEST\n",
    "from pytest import approx\n",
    "\n",
    "revealed_x = dict(zip(m.pnames, result.x))\n",
    "expected_x = {\n",
    "    \"ASC_BIKE\": -1.7736251954990991,\n",
    "    \"ASC_SR2\": -2.3653672641251093,\n",
    "    \"ASC_SR3P\": -3.801079706917033,\n",
    "    \"ASC_TRAN\": -0.5312099316342354,\n",
    "    \"ASC_WALK\": 0.42030620117952483,\n",
    "    \"hhinc#2,3\": -0.0015594442515770833,\n",
    "    \"hhinc#4\": -0.005540182661169404,\n",
    "    \"hhinc#5\": -0.012343382441532672,\n",
    "    \"hhinc#6\": -0.00934628232973145,\n",
    "    \"motorized_time\": -0.017246556285183012,\n",
    "    \"nonmotorized_time\": -0.06513081655018897,\n",
    "    \"totcost\": -0.004836839766686574,\n",
    "}\n",
    "for k in expected_x:\n",
    "    assert revealed_x[k] == approx(\n",
    "        expected_x[k], 2e-2\n",
    "    ), f\"{k}, {revealed_x[k]/expected_x[k]}\""
   ]
  }
 ],
 "metadata": {
  "kernelspec": {
   "display_name": "Python 3 (ipykernel)",
   "language": "python",
   "name": "python3"
  },
  "language_info": {
   "codemirror_mode": {
    "name": "ipython",
    "version": 3
   },
   "file_extension": ".py",
   "mimetype": "text/x-python",
   "name": "python",
   "nbconvert_exporter": "python",
   "pygments_lexer": "ipython3",
   "version": "3.10.13"
  }
 },
 "nbformat": 4,
 "nbformat_minor": 5
}
