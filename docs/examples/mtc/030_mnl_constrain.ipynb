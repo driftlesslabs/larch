{
 "cells": [
  {
   "cell_type": "markdown",
   "id": "ea9ded49",
   "metadata": {
    "pycharm": {
     "name": "#%% md\n"
    }
   },
   "source": [
    "# 1: MTC MNL Constrained Mode Choice"
   ]
  },
  {
   "cell_type": "code",
   "execution_count": null,
   "id": "722a4341",
   "metadata": {
    "pycharm": {
     "name": "#%%\n"
    },
    "tags": [
     "remove-output"
    ]
   },
   "outputs": [],
   "source": [
    "import pandas as pd\n",
    "\n",
    "import larch as lx\n",
    "from larch import P, X"
   ]
  },
  {
   "cell_type": "code",
   "execution_count": null,
   "id": "c68b88c4",
   "metadata": {
    "pycharm": {
     "name": "#%%\n"
    },
    "tags": [
     "remove_cell"
    ]
   },
   "outputs": [],
   "source": [
    "# TEST\n",
    "pd.set_option(\"display.max_columns\", 999)\n",
    "pd.set_option(\"expand_frame_repr\", False)\n",
    "pd.set_option(\"display.precision\", 3)\n",
    "from pytest import approx"
   ]
  },
  {
   "cell_type": "markdown",
   "id": "21cc8ee7",
   "metadata": {
    "pycharm": {
     "name": "#%% md\n"
    }
   },
   "source": [
    "This example is a mode choice model built using the MTC example dataset.\n",
    "First we create the Dataset and Model objects:"
   ]
  },
  {
   "cell_type": "code",
   "execution_count": null,
   "id": "a15bae76",
   "metadata": {
    "pycharm": {
     "name": "#%%\n"
    }
   },
   "outputs": [],
   "source": [
    "m = lx.example(1)\n",
    "m.title = \"MTC Example 30 (Constrained Simple MNL)\"\n",
    "m.compute_engine = \"numba\""
   ]
  },
  {
   "cell_type": "markdown",
   "id": "79acc3b8",
   "metadata": {},
   "source": [
    "Suppose we want to ensure that the implied value of time must be at least $5 per hour.\n",
    "Our data expresses cost in cents and time in minutes. Given our simple utility formulation,\n",
    "the target value of time is achieved if the ratio of the cost parameter to the time\n",
    "parameter exceeds 3.0.\n",
    "\n",
    "We could explicitly set the ratio at exactly 3.0 by writing the model with only one parameter."
   ]
  },
  {
   "cell_type": "code",
   "execution_count": null,
   "id": "824999cc",
   "metadata": {},
   "outputs": [],
   "source": [
    "m_explicit = m.copy()"
   ]
  },
  {
   "cell_type": "code",
   "execution_count": null,
   "id": "f96df2f8",
   "metadata": {},
   "outputs": [],
   "source": [
    "m_explicit.utility_ca = P.tottime * X.tottime + P.tottime * 3 * X.totcost\n",
    "m_explicit.remove_unused_parameters()"
   ]
  },
  {
   "cell_type": "code",
   "execution_count": null,
   "id": "99928454",
   "metadata": {},
   "outputs": [],
   "source": [
    "result_explicit = m_explicit.maximize_loglike(stderr=True)"
   ]
  },
  {
   "cell_type": "code",
   "execution_count": null,
   "id": "51da38cd",
   "metadata": {
    "tags": [
     "remove_cell"
    ]
   },
   "outputs": [],
   "source": [
    "# TEST\n",
    "assert dict(result_explicit.x) == approx(\n",
    "    {\n",
    "        \"ASC_BIKE\": -3.160940102309336,\n",
    "        \"ASC_SR2\": -2.455774449621098,\n",
    "        \"ASC_SR3P\": -4.080513763962432,\n",
    "        \"ASC_TRAN\": -1.893503726851137,\n",
    "        \"ASC_WALK\": -1.9875386692858579,\n",
    "        \"hhinc#2\": -0.0019850591646016313,\n",
    "        \"hhinc#3\": 0.0004627579363727124,\n",
    "        \"hhinc#4\": -0.00616068731356304,\n",
    "        \"hhinc#5\": -0.014087710498599073,\n",
    "        \"hhinc#6\": -0.00938519135930957,\n",
    "        \"tottime\": -0.001739013257543946,\n",
    "    }\n",
    ")\n",
    "assert result_explicit.logloss == approx(0.7533452255366115)\n",
    "assert result_explicit.loglike == approx(-3788.5731392236194)\n",
    "assert result_explicit.message == \"Optimization terminated successfully\""
   ]
  },
  {
   "cell_type": "code",
   "execution_count": null,
   "id": "21f6c8a1",
   "metadata": {
    "pycharm": {
     "name": "#%%\n"
    }
   },
   "outputs": [],
   "source": [
    "from larch.model.constraints import RatioBound\n",
    "\n",
    "m.pmaximum = {\"totcost\": 0, \"tottime\": 0}\n",
    "\n",
    "m.constraints = [\n",
    "    RatioBound(\"totcost\", \"tottime\", min_ratio=3.0, max_ratio=999.0, scale=100),\n",
    "]"
   ]
  },
  {
   "cell_type": "markdown",
   "id": "6b4fcb4d",
   "metadata": {
    "pycharm": {
     "name": "#%% md\n"
    }
   },
   "source": [
    "Having created this model, we can then estimate it:"
   ]
  },
  {
   "cell_type": "code",
   "execution_count": null,
   "id": "9a50243d",
   "metadata": {
    "pycharm": {
     "name": "#%%\n"
    },
    "tags": [
     "remove_cell"
    ]
   },
   "outputs": [],
   "source": [
    "# TEST\n",
    "assert dict(m.required_data()) == {\n",
    "    \"ca\": [\"totcost\", \"tottime\"],\n",
    "    \"co\": [\"hhinc\"],\n",
    "    \"choice_ca\": \"chose\",\n",
    "    \"avail_ca\": \"avail\",\n",
    "}\n",
    "assert m.loglike() == approx(-7309.600971749634)"
   ]
  },
  {
   "cell_type": "code",
   "execution_count": null,
   "id": "ab8d5c83",
   "metadata": {
    "pycharm": {
     "name": "#%%\n"
    }
   },
   "outputs": [],
   "source": [
    "result = m.maximize_loglike(stderr=True)"
   ]
  },
  {
   "cell_type": "code",
   "execution_count": null,
   "id": "f89352ea",
   "metadata": {},
   "outputs": [],
   "source": [
    "result"
   ]
  },
  {
   "cell_type": "code",
   "execution_count": null,
   "id": "cc11d9a8",
   "metadata": {
    "pycharm": {
     "name": "#%%\n"
    },
    "tags": [
     "remove_cell"
    ]
   },
   "outputs": [],
   "source": [
    "# TEST\n",
    "assert result.loglike == approx(-3788.573358)\n",
    "assert result.logloss == approx(0.753345269140234)\n",
    "assert result.message == \"Optimization terminated successfully\"\n",
    "assert m.total_weight() == 5029.0"
   ]
  },
  {
   "cell_type": "code",
   "execution_count": null,
   "id": "a01f9ba6",
   "metadata": {
    "pycharm": {
     "name": "#%%\n"
    }
   },
   "outputs": [],
   "source": [
    "m.parameter_summary()"
   ]
  },
  {
   "cell_type": "code",
   "execution_count": null,
   "id": "081cca2f",
   "metadata": {
    "pycharm": {
     "name": "#%%\n"
    },
    "tags": [
     "remove_cell"
    ]
   },
   "outputs": [],
   "source": [
    "# TEST\n",
    "summary = m.parameter_summary()\n",
    "# assert_same_text(\n",
    "#     summary.data.to_markdown(),\n",
    "#     '''\n",
    "# | Parameter   |     Value |   Std Err |   t Stat | Signif   |   Null Value | Constrained             |\n",
    "# |:------------|----------:|----------:|---------:|:---------|-------------:|:------------------------|\n",
    "# | ASC_BIKE    | -3.16     |  0.309    |   -10.23 | ***      |            0 |                         |\n",
    "# | ASC_SR2     | -2.46     |  0.103    |   -23.94 | ***      |            0 |                         |\n",
    "# | ASC_SR3P    | -4.08     |  0.175    |   -23.26 | ***      |            0 |                         |\n",
    "# | ASC_TRAN    | -1.89     |  0.112    |   -16.87 | ***      |            0 |                         |\n",
    "# | ASC_WALK    | -1.99     |  0.169    |   -11.77 | ***      |            0 |                         |\n",
    "# | hhinc#2     | -0.00199  |  0.00154  |    -1.3  |          |            0 |                         |\n",
    "# | hhinc#3     |  0.000462 |  0.00252  |     0.18 |          |            0 |                         |\n",
    "# | hhinc#4     | -0.00616  |  0.0018   |    -3.42 | ***      |            0 |                         |\n",
    "# | hhinc#5     | -0.0141   |  0.0055   |    -2.57 | *        |            0 |                         |\n",
    "# | hhinc#6     | -0.00941  |  0.00306  |    -3.08 | **       |            0 |                         |\n",
    "# | totcost     | -0.00522  |  0.000243 |   -21.5  | ***      |            0 | totcost / tottime ≥ 3.0 |\n",
    "# | tottime     | -0.00174  |  8.09e-05 |   -21.5  | ***      |            0 | totcost / tottime ≥ 3.0 |\n",
    "#     '''\n",
    "# )"
   ]
  },
  {
   "cell_type": "markdown",
   "id": "c1ef0518",
   "metadata": {
    "pycharm": {
     "name": "#%% md\n"
    }
   },
   "source": [
    "It is a little tough to read this report because the parameters can show up \n",
    "in pretty much any order, as they are not sorted\n",
    "when they are automatically discovered by Larch.\n",
    "We can use the reorder method to fix this:"
   ]
  },
  {
   "cell_type": "code",
   "execution_count": null,
   "id": "faf99972",
   "metadata": {
    "pycharm": {
     "name": "#%%\n"
    }
   },
   "outputs": [],
   "source": [
    "m.ordering = (\n",
    "    (\n",
    "        \"LOS\",\n",
    "        \"totcost\",\n",
    "        \"tottime\",\n",
    "    ),\n",
    "    (\n",
    "        \"ASCs\",\n",
    "        \"ASC.*\",\n",
    "    ),\n",
    "    (\n",
    "        \"Income\",\n",
    "        \"hhinc.*\",\n",
    "    ),\n",
    ")"
   ]
  },
  {
   "cell_type": "code",
   "execution_count": null,
   "id": "633b84e0",
   "metadata": {
    "pycharm": {
     "name": "#%%\n"
    }
   },
   "outputs": [],
   "source": [
    "m.parameter_summary()"
   ]
  },
  {
   "cell_type": "code",
   "execution_count": null,
   "id": "e229c9aa",
   "metadata": {
    "pycharm": {
     "name": "#%%\n"
    },
    "tags": [
     "remove_cell"
    ]
   },
   "outputs": [],
   "source": [
    "# TEST\n",
    "summary2 = m.parameter_summary()\n",
    "# assert_same_text(\n",
    "#     summary2.data.to_markdown(),\n",
    "#     '''\n",
    "# |                       |     Value |   Std Err |   t Stat | Signif   |   Null Value | Constrained             |\n",
    "# |:----------------------|----------:|----------:|---------:|:---------|-------------:|:------------------------|\n",
    "# | ('LOS', 'totcost')    | -0.00522  |  0.000243 |   -21.5  | ***      |            0 | totcost / tottime ≥ 3.0 |\n",
    "# | ('LOS', 'tottime')    | -0.00174  |  8.09e-05 |   -21.5  | ***      |            0 | totcost / tottime ≥ 3.0 |\n",
    "# | ('ASCs', 'ASC_BIKE')  | -3.16     |  0.309    |   -10.23 | ***      |            0 |                         |\n",
    "# | ('ASCs', 'ASC_SR2')   | -2.46     |  0.103    |   -23.94 | ***      |            0 |                         |\n",
    "# | ('ASCs', 'ASC_SR3P')  | -4.08     |  0.175    |   -23.26 | ***      |            0 |                         |\n",
    "# | ('ASCs', 'ASC_TRAN')  | -1.89     |  0.112    |   -16.87 | ***      |            0 |                         |\n",
    "# | ('ASCs', 'ASC_WALK')  | -1.99     |  0.169    |   -11.77 | ***      |            0 |                         |\n",
    "# | ('Income', 'hhinc#2') | -0.00199  |  0.00154  |    -1.3  |          |            0 |                         |\n",
    "# | ('Income', 'hhinc#3') |  0.000462 |  0.00252  |     0.18 |          |            0 |                         |\n",
    "# | ('Income', 'hhinc#4') | -0.00616  |  0.0018   |    -3.42 | ***      |            0 |                         |\n",
    "# | ('Income', 'hhinc#5') | -0.0141   |  0.0055   |    -2.57 | *        |            0 |                         |\n",
    "# | ('Income', 'hhinc#6') | -0.00941  |  0.00306  |    -3.08 | **       |            0 |                         |\n",
    "#     '''\n",
    "# )"
   ]
  }
 ],
 "metadata": {
  "kernelspec": {
   "display_name": "Python 3 (ipykernel)",
   "language": "python",
   "name": "python3"
  },
  "language_info": {
   "codemirror_mode": {
    "name": "ipython",
    "version": 3
   },
   "file_extension": ".py",
   "mimetype": "text/x-python",
   "name": "python",
   "nbconvert_exporter": "python",
   "pygments_lexer": "ipython3",
   "version": "3.9.10"
  },
  "toc": {
   "base_numbering": 1,
   "nav_menu": {},
   "number_sections": false,
   "sideBar": true,
   "skip_h1_title": false,
   "title_cell": "Table of Contents",
   "title_sidebar": "Contents",
   "toc_cell": false,
   "toc_position": {},
   "toc_section_display": true,
   "toc_window_display": false
  }
 },
 "nbformat": 4,
 "nbformat_minor": 5
}
