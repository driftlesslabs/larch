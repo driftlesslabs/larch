{
 "cells": [
  {
   "cell_type": "markdown",
   "id": "ea9ded49",
   "metadata": {
    "pycharm": {
     "name": "#%% md\n"
    }
   },
   "source": [
    "# 1: MTC MNL Mode Choice"
   ]
  },
  {
   "cell_type": "code",
   "execution_count": null,
   "id": "722a4341",
   "metadata": {
    "pycharm": {
     "name": "#%%\n"
    },
    "tags": [
     "remove-output"
    ]
   },
   "outputs": [],
   "source": [
    "import pandas as pd\n",
    "import larix as lx"
   ]
  },
  {
   "cell_type": "code",
   "execution_count": null,
   "id": "c68b88c4",
   "metadata": {
    "pycharm": {
     "name": "#%%\n"
    },
    "tags": [
     "remove_cell"
    ]
   },
   "outputs": [],
   "source": [
    "# TEST\n",
    "pd.set_option(\"display.max_columns\", 999)\n",
    "pd.set_option('expand_frame_repr', False)\n",
    "pd.set_option('display.precision', 3)\n",
    "from pytest import approx\n",
    "from larix.util.testing import assert_same_text"
   ]
  },
  {
   "cell_type": "markdown",
   "id": "21cc8ee7",
   "metadata": {
    "pycharm": {
     "name": "#%% md\n"
    }
   },
   "source": [
    "This example is a mode choice model built using the MTC example dataset.\n",
    "First we create the Dataset and Model objects:"
   ]
  },
  {
   "cell_type": "code",
   "execution_count": null,
   "id": "05ef5d7b",
   "metadata": {
    "pycharm": {
     "name": "#%%\n"
    }
   },
   "outputs": [],
   "source": [
    "d = lx.examples.MTC(format='dataset')\n",
    "d"
   ]
  },
  {
   "cell_type": "code",
   "execution_count": null,
   "id": "a15bae76",
   "metadata": {
    "pycharm": {
     "name": "#%%\n"
    }
   },
   "outputs": [],
   "source": [
    "m = lx.Model(d)"
   ]
  },
  {
   "cell_type": "markdown",
   "id": "5f5f24f0",
   "metadata": {
    "pycharm": {
     "name": "#%% md\n"
    }
   },
   "source": [
    "Then we can build up the utility function.  We'll use some :ref:`idco` data first, using\n",
    "the `Model.utility.co` attribute.  This attribute is a dict-like object, to which\n",
    "we can assign :class:`LinearFunction` objects for each alternative code."
   ]
  },
  {
   "cell_type": "code",
   "execution_count": null,
   "id": "bf98d805",
   "metadata": {
    "pycharm": {
     "name": "#%%\n"
    }
   },
   "outputs": [],
   "source": [
    "from larix import P, X, PX\n",
    "m.utility_co[2] = P(\"ASC_SR2\")  + P(\"hhinc#2\") * X(\"hhinc\")\n",
    "m.utility_co[3] = P(\"ASC_SR3P\") + P(\"hhinc#3\") * X(\"hhinc\")\n",
    "m.utility_co[4] = P(\"ASC_TRAN\") + P(\"hhinc#4\") * X(\"hhinc\")\n",
    "m.utility_co[5] = P(\"ASC_BIKE\") + P(\"hhinc#5\") * X(\"hhinc\")\n",
    "m.utility_co[6] = P(\"ASC_WALK\") + P(\"hhinc#6\") * X(\"hhinc\")"
   ]
  },
  {
   "cell_type": "markdown",
   "id": "354b33d7",
   "metadata": {
    "pycharm": {
     "name": "#%% md\n"
    }
   },
   "source": [
    "Next we'll use some idca data, with the `utility_ca` attribute. This attribute\n",
    "is only a single :class:`LinearFunction` that is applied across all alternatives\n",
    "using :ref:`idca` data.  Because the data is structured to vary across alternatives,\n",
    "the parameters (and thus the structure of the :class:`LinearFunction`) does not need\n",
    "to vary across alternatives."
   ]
  },
  {
   "cell_type": "code",
   "execution_count": null,
   "id": "16bc270c",
   "metadata": {
    "pycharm": {
     "name": "#%%\n"
    }
   },
   "outputs": [],
   "source": [
    "m.utility_ca = PX(\"tottime\") + PX(\"totcost\")"
   ]
  },
  {
   "cell_type": "markdown",
   "id": "fd6217b1",
   "metadata": {
    "pycharm": {
     "name": "#%% md\n"
    }
   },
   "source": [
    "Lastly, we need to identify :ref:`idca` data that gives the availability for each\n",
    "alternative, as well as the number of times each alternative is chosen. (In traditional\n",
    "discrete choice analysis, this is often 0 or 1, but it need not be binary, or even integral.)"
   ]
  },
  {
   "cell_type": "code",
   "execution_count": null,
   "id": "8dd1acf8",
   "metadata": {
    "pycharm": {
     "name": "#%%\n"
    }
   },
   "outputs": [],
   "source": [
    "m.availability_ca_var = 'avail'\n",
    "m.choice_ca_var = 'chose'"
   ]
  },
  {
   "cell_type": "markdown",
   "id": "a79a74aa",
   "metadata": {
    "pycharm": {
     "name": "#%% md\n"
    }
   },
   "source": [
    "And let's give our model a descriptive title."
   ]
  },
  {
   "cell_type": "code",
   "execution_count": null,
   "id": "7e3547f2",
   "metadata": {
    "pycharm": {
     "name": "#%%\n"
    }
   },
   "outputs": [],
   "source": [
    "m.title = \"MTC Example 1 (Simple MNL)\""
   ]
  },
  {
   "cell_type": "markdown",
   "id": "9ef2ac19",
   "metadata": {
    "pycharm": {
     "name": "#%% md\n"
    }
   },
   "source": [
    "We can view a summary of the choices and alternative \n",
    "availabilities to make sure the model is set up \n",
    "correctly."
   ]
  },
  {
   "cell_type": "code",
   "execution_count": null,
   "id": "f4d4daed",
   "metadata": {
    "pycharm": {
     "name": "#%%\n"
    }
   },
   "outputs": [],
   "source": [
    "m.choice_avail_summary()"
   ]
  },
  {
   "cell_type": "code",
   "execution_count": null,
   "id": "19915b41",
   "metadata": {
    "pycharm": {
     "name": "#%%\n"
    },
    "tags": [
     "remove_cell"
    ]
   },
   "outputs": [],
   "source": [
    "# TEST\n",
    "s = '''            name  chosen available\n",
    "altid                                    \n",
    "1                    DA    3637      4755\n",
    "2                   SR2     517      5029\n",
    "3                  SR3+     161      5029\n",
    "4               Transit     498      4003\n",
    "5                  Bike      50      1738\n",
    "6                  Walk     166      1479\n",
    "< Total All Alternatives > 5029          \n",
    "'''\n",
    "import re\n",
    "mash = lambda x: re.sub('\\s+', ' ', x).strip()\n",
    "assert mash(s) == mash(str(m.choice_avail_summary()))"
   ]
  },
  {
   "cell_type": "markdown",
   "id": "275f877e",
   "metadata": {
    "pycharm": {
     "name": "#%% md\n"
    }
   },
   "source": [
    "We'll set a parameter cap (bound) at +/- 20, which helps improve the \n",
    "numerical stability of the optimization algorithm used in estimation."
   ]
  },
  {
   "cell_type": "code",
   "execution_count": null,
   "id": "21f6c8a1",
   "metadata": {
    "pycharm": {
     "name": "#%%\n"
    }
   },
   "outputs": [],
   "source": [
    "m.set_cap(20)"
   ]
  },
  {
   "cell_type": "markdown",
   "id": "6b4fcb4d",
   "metadata": {
    "pycharm": {
     "name": "#%% md\n"
    }
   },
   "source": [
    "Having created this model, we can then estimate it:"
   ]
  },
  {
   "cell_type": "code",
   "execution_count": null,
   "id": "9a50243d",
   "metadata": {
    "pycharm": {
     "name": "#%%\n"
    },
    "tags": [
     "remove_cell"
    ]
   },
   "outputs": [],
   "source": [
    "# TEST\n",
    "assert dict(m.required_data()) == {\n",
    "    'ca': ['totcost', 'tottime'],\n",
    "    'co': ['hhinc'],\n",
    "    'choice_ca': 'chose',\n",
    "    'avail_ca': 'avail',\n",
    "}\n",
    "assert m.loglike() == approx(-7309.600971749634)"
   ]
  },
  {
   "cell_type": "code",
   "execution_count": null,
   "id": "15f73884",
   "metadata": {
    "pycharm": {
     "name": "#%%\n"
    }
   },
   "outputs": [],
   "source": [
    "assert m.compute_engine == 'jax'"
   ]
  },
  {
   "cell_type": "code",
   "execution_count": null,
   "id": "ab8d5c83",
   "metadata": {
    "pycharm": {
     "name": "#%%\n"
    }
   },
   "outputs": [],
   "source": [
    "result = m.maximize_loglike(stderr=True)"
   ]
  },
  {
   "cell_type": "code",
   "execution_count": null,
   "id": "cc11d9a8",
   "metadata": {
    "pycharm": {
     "name": "#%%\n"
    },
    "tags": [
     "remove_cell"
    ]
   },
   "outputs": [],
   "source": [
    "# TEST\n",
    "assert result.loglike == approx(-3626.18625551293)\n",
    "assert result.logloss == approx(0.7210551313408093)\n",
    "assert result.message == 'Optimization terminated successfully'\n",
    "\n",
    "assert m.total_weight() == 5029.0"
   ]
  },
  {
   "cell_type": "code",
   "execution_count": null,
   "id": "a01f9ba6",
   "metadata": {
    "pycharm": {
     "name": "#%%\n"
    }
   },
   "outputs": [],
   "source": [
    "m.parameter_summary()"
   ]
  },
  {
   "cell_type": "code",
   "execution_count": null,
   "id": "081cca2f",
   "metadata": {
    "pycharm": {
     "name": "#%%\n"
    },
    "tags": [
     "remove_cell"
    ]
   },
   "outputs": [],
   "source": [
    "# TEST\n",
    "summary = _\n",
    "assert_same_text(\n",
    "    summary.data.to_markdown(),\n",
    "    '''\n",
    "    | Parameter   |     Value |   Std Err |   t Stat | Signif   |   Null Value |\n",
    "    |:------------|----------:|----------:|---------:|:---------|-------------:|\n",
    "    | ASC_BIKE    | -2.38     |  0.304    |    -7.81 | ***      |            0 |\n",
    "    | ASC_SR2     | -2.18     |  0.105    |   -20.82 | ***      |            0 |\n",
    "    | ASC_SR3P    | -3.73     |  0.178    |   -20.97 | ***      |            0 |\n",
    "    | ASC_TRAN    | -0.672    |  0.133    |    -5.07 | ***      |            0 |\n",
    "    | ASC_WALK    | -0.207    |  0.194    |    -1.07 |          |            0 |\n",
    "    | hhinc#2     | -0.00217  |  0.00155  |    -1.39 |          |            0 |\n",
    "    | hhinc#3     |  0.000375 |  0.00254  |     0.15 |          |            0 |\n",
    "    | hhinc#4     | -0.00527  |  0.00183  |    -2.88 | **       |            0 |\n",
    "    | hhinc#5     | -0.0128   |  0.00532  |    -2.4  | *        |            0 |\n",
    "    | hhinc#6     | -0.00968  |  0.00303  |    -3.19 | **       |            0 |\n",
    "    | totcost     | -0.00492  |  0.000239 |   -20.59 | ***      |            0 |\n",
    "    | tottime     | -0.0513   |  0.0031   |   -16.56 | ***      |            0 |\n",
    "    '''\n",
    ")"
   ]
  },
  {
   "cell_type": "code",
   "execution_count": null,
   "id": "d4427b10",
   "metadata": {
    "pycharm": {
     "name": "#%%\n"
    }
   },
   "outputs": [],
   "source": [
    "print(summary.data.to_markdown())"
   ]
  },
  {
   "cell_type": "markdown",
   "id": "c1ef0518",
   "metadata": {
    "pycharm": {
     "name": "#%% md\n"
    }
   },
   "source": [
    "It is a little tough to read this report because the parameters can show up \n",
    "in pretty much any order, as they are not sorted\n",
    "when they are automatically discovered by Larch.\n",
    "We can use the reorder method to fix this:"
   ]
  },
  {
   "cell_type": "code",
   "execution_count": null,
   "id": "faf99972",
   "metadata": {
    "pycharm": {
     "name": "#%%\n"
    }
   },
   "outputs": [],
   "source": [
    "m.ordering = (\n",
    "    (\"LOS\", \"totcost\", \"tottime\", ),\n",
    "    (\"ASCs\", \"ASC.*\", ),\n",
    "    (\"Income\", \"hhinc.*\", ),\n",
    ")"
   ]
  },
  {
   "cell_type": "code",
   "execution_count": null,
   "id": "633b84e0",
   "metadata": {
    "pycharm": {
     "name": "#%%\n"
    }
   },
   "outputs": [],
   "source": [
    "m.parameter_summary()"
   ]
  },
  {
   "cell_type": "code",
   "execution_count": null,
   "id": "e229c9aa",
   "metadata": {
    "pycharm": {
     "name": "#%%\n"
    },
    "tags": [
     "remove_cell"
    ]
   },
   "outputs": [],
   "source": [
    "# TEST\n",
    "summary2 = _\n",
    "assert_same_text(\n",
    "    summary2.data.to_markdown(),\n",
    "    '''\n",
    "    |                       |     Value |   Std Err |   t Stat | Signif   |   Null Value |\n",
    "    |:----------------------|----------:|----------:|---------:|:---------|-------------:|\n",
    "    | ('LOS', 'totcost')    | -0.00492  |  0.000239 |   -20.59 | ***      |            0 |\n",
    "    | ('LOS', 'tottime')    | -0.0513   |  0.0031   |   -16.56 | ***      |            0 |\n",
    "    | ('ASCs', 'ASC_BIKE')  | -2.38     |  0.304    |    -7.81 | ***      |            0 |\n",
    "    | ('ASCs', 'ASC_SR2')   | -2.18     |  0.105    |   -20.82 | ***      |            0 |\n",
    "    | ('ASCs', 'ASC_SR3P')  | -3.73     |  0.178    |   -20.97 | ***      |            0 |\n",
    "    | ('ASCs', 'ASC_TRAN')  | -0.672    |  0.133    |    -5.07 | ***      |            0 |\n",
    "    | ('ASCs', 'ASC_WALK')  | -0.207    |  0.194    |    -1.07 |          |            0 |\n",
    "    | ('Income', 'hhinc#2') | -0.00217  |  0.00155  |    -1.39 |          |            0 |\n",
    "    | ('Income', 'hhinc#3') |  0.000375 |  0.00254  |     0.15 |          |            0 |\n",
    "    | ('Income', 'hhinc#4') | -0.00527  |  0.00183  |    -2.88 | **       |            0 |\n",
    "    | ('Income', 'hhinc#5') | -0.0128   |  0.00532  |    -2.4  | *        |            0 |\n",
    "    | ('Income', 'hhinc#6') | -0.00968  |  0.00303  |    -3.19 | **       |            0 |\n",
    "    '''\n",
    ")\n"
   ]
  },
  {
   "cell_type": "code",
   "execution_count": null,
   "id": "52b9df7d",
   "metadata": {
    "pycharm": {
     "name": "#%%\n"
    }
   },
   "outputs": [],
   "source": [
    "m.loglike_null()"
   ]
  }
 ],
 "metadata": {
  "kernelspec": {
   "display_name": "Python 3 (ipykernel)",
   "language": "python",
   "name": "python3"
  },
  "language_info": {
   "codemirror_mode": {
    "name": "ipython",
    "version": 3
   },
   "file_extension": ".py",
   "mimetype": "text/x-python",
   "name": "python",
   "nbconvert_exporter": "python",
   "pygments_lexer": "ipython3",
   "version": "3.9.10"
  },
  "toc": {
   "base_numbering": 1,
   "nav_menu": {},
   "number_sections": false,
   "sideBar": true,
   "skip_h1_title": false,
   "title_cell": "Table of Contents",
   "title_sidebar": "Contents",
   "toc_cell": false,
   "toc_position": {},
   "toc_section_display": true,
   "toc_window_display": false
  }
 },
 "nbformat": 4,
 "nbformat_minor": 5
}
