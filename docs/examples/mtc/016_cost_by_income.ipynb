{
 "cells": [
  {
   "cell_type": "markdown",
   "id": "0",
   "metadata": {},
   "source": [
    "# 16: Cost by Income\n",
    "\n",
    "Another approach to the inclusion of trip maker or context characteristics is through interactions with mode attributes. The most common example of this approach is to take account of the expectation that low-income travelers will be more sensitive to travel cost than high-income travelers by using cost divided by income in place of cost as an explanatory variable. Such a specification implies that the importance of cost in mode choice diminishes with increasing household income.\r\n",
    "\r\n",
    "Model 16 drops travel cost to include travel cost divided by income. (pp. 125)"
   ]
  },
  {
   "cell_type": "code",
   "execution_count": null,
   "id": "1",
   "metadata": {},
   "outputs": [],
   "source": [
    "import larch"
   ]
  },
  {
   "cell_type": "code",
   "execution_count": null,
   "id": "2",
   "metadata": {},
   "outputs": [],
   "source": [
    "larch.__version__"
   ]
  },
  {
   "cell_type": "markdown",
   "id": "3",
   "metadata": {},
   "source": [
    "This example is a mode choice model built using the MTC example dataset. First we create the DB and Model objects:"
   ]
  },
  {
   "cell_type": "code",
   "execution_count": null,
   "id": "4",
   "metadata": {},
   "outputs": [],
   "source": [
    "d = larch.examples.MTC(format=\"dataset\")\n",
    "d"
   ]
  },
  {
   "cell_type": "code",
   "execution_count": null,
   "id": "5",
   "metadata": {},
   "outputs": [],
   "source": [
    "m = larch.Model(d, compute_engine=\"numba\")"
   ]
  },
  {
   "cell_type": "markdown",
   "id": "6",
   "metadata": {},
   "source": [
    "Then we can build up the utility function. We’ll use some :ref:idco data first, using the Model.utility.co attribute. This attribute is a dict-like object, to which we can assign :class:LinearFunction objects for each alternative code."
   ]
  },
  {
   "cell_type": "code",
   "execution_count": null,
   "id": "7",
   "metadata": {},
   "outputs": [],
   "source": [
    "from larch import P, X\n",
    "\n",
    "for a in [2, 3]:\n",
    "    m.utility_co[a] = +P(\"hhinc#2,3\") * X(\"hhinc\")\n",
    "for a in [4, 5, 6]:\n",
    "    m.utility_co[a] = +P(f\"hhinc#{a}\") * X(\"hhinc\")"
   ]
  },
  {
   "cell_type": "markdown",
   "id": "8",
   "metadata": {},
   "source": [
    "Sometimes we may want to define a part of the utility function that is common across all (or almost all) of the alternatives. We can access a dictionary (more generically called a “mapping”) of alternative codes to alternative names, which can be found via the Dataset.dc.alts_mapping attribute:"
   ]
  },
  {
   "cell_type": "code",
   "execution_count": null,
   "id": "9",
   "metadata": {},
   "outputs": [],
   "source": [
    "d.dc.alts_mapping"
   ]
  },
  {
   "cell_type": "markdown",
   "id": "10",
   "metadata": {},
   "source": [
    "Using this like a standard Python dictionary, we can iterate over all the alternatives, skipping 1, and setting alternative specific constants (ASC’s) for the rest."
   ]
  },
  {
   "cell_type": "code",
   "execution_count": null,
   "id": "11",
   "metadata": {},
   "outputs": [],
   "source": [
    "for a, name in d.dc.alts_mapping.items():\n",
    "    if a == 1:\n",
    "        continue\n",
    "    m.utility_co[a] += (\n",
    "        +P(\"ASC_\" + name)\n",
    "        + P(\"vehbywrk_\" + name) * X(\"vehbywrk\")\n",
    "        + P(\"wkcbd_\" + name) * X(\"wkccbd + wknccbd\")\n",
    "        + P(\"wkempden_\" + name) * X(\"wkempden\")\n",
    "    )"
   ]
  },
  {
   "cell_type": "markdown",
   "id": "12",
   "metadata": {},
   "source": [
    "Next we’ll use some idca data, with the utility_ca attribute. This attribute is only a single :class:LinearFunction that is applied across all alternatives using :ref:idca data. Because the data is structured to vary across alternatives, the parameters (and thus the structure of the :class:LinearFunction) does not need to vary across alternatives."
   ]
  },
  {
   "cell_type": "code",
   "execution_count": null,
   "id": "13",
   "metadata": {},
   "outputs": [],
   "source": [
    "m.utility_ca = (\n",
    "    +P(\"nonmotorized_time\") * X(\"(altid> 4) * tottime\")\n",
    "    + P(\"motorized_time\") * X(\"(altid <= 4) * ivtt\")\n",
    "    + (P(\"motorized_time\") + (P(\"motorized_ovtbydist\") / X(\"dist\")))\n",
    "    * X(\"(altid <= 4) * ovtt\")\n",
    "    + P(\"costbyinc\") * X(\"totcost/hhinc\")\n",
    ")"
   ]
  },
  {
   "cell_type": "markdown",
   "id": "14",
   "metadata": {},
   "source": [
    "Lastly, we need to identify idca Format data that gives the availability for each alternative, as well as the number of times each alternative is chosen. (In traditional discrete choice analysis, this is often 0 or 1, but it need not be binary, or even integral.)\n"
   ]
  },
  {
   "cell_type": "code",
   "execution_count": null,
   "id": "15",
   "metadata": {},
   "outputs": [],
   "source": [
    "m.availability_ca_var = \"avail\"\n",
    "m.choice_ca_var = \"chose\""
   ]
  },
  {
   "cell_type": "markdown",
   "id": "16",
   "metadata": {},
   "source": [
    "And let’s give our model a descriptive title."
   ]
  },
  {
   "cell_type": "code",
   "execution_count": null,
   "id": "17",
   "metadata": {},
   "outputs": [],
   "source": [
    "m.title = \"MTC Example 16, Cost by Income\""
   ]
  },
  {
   "cell_type": "markdown",
   "id": "18",
   "metadata": {},
   "source": [
    "We can view a summary of the choices and alternative availabilities to make sure the model is set up correctly."
   ]
  },
  {
   "cell_type": "code",
   "execution_count": null,
   "id": "19",
   "metadata": {},
   "outputs": [],
   "source": [
    "m.choice_avail_summary()"
   ]
  },
  {
   "cell_type": "markdown",
   "id": "20",
   "metadata": {},
   "source": [
    "We’ll set a parameter cap (bound) at +/- 20, which helps improve the numerical stability of the optimization algorithm used in estimation."
   ]
  },
  {
   "cell_type": "code",
   "execution_count": null,
   "id": "21",
   "metadata": {},
   "outputs": [],
   "source": [
    "m.set_cap(20)"
   ]
  },
  {
   "cell_type": "markdown",
   "id": "22",
   "metadata": {},
   "source": [
    "Having created this model, we can then estimate it:"
   ]
  },
  {
   "cell_type": "code",
   "execution_count": null,
   "id": "23",
   "metadata": {},
   "outputs": [],
   "source": [
    "assert m.compute_engine == \"numba\""
   ]
  },
  {
   "cell_type": "code",
   "execution_count": null,
   "id": "24",
   "metadata": {},
   "outputs": [],
   "source": [
    "result = m.maximize_loglike(stderr=True, method=\"bhhh\")\n",
    "m.calculate_parameter_covariance()\n",
    "m.loglike()"
   ]
  },
  {
   "cell_type": "code",
   "execution_count": null,
   "id": "25",
   "metadata": {},
   "outputs": [],
   "source": [
    "m.parameter_summary()"
   ]
  },
  {
   "cell_type": "markdown",
   "id": "26",
   "metadata": {},
   "source": [
    "It is a little tough to read this report because the parameters show up in alphabetical order. We can use the reorder method to fix this and group them systematically:"
   ]
  },
  {
   "cell_type": "code",
   "execution_count": null,
   "id": "27",
   "metadata": {},
   "outputs": [],
   "source": [
    "m.ordering = (\n",
    "    (\n",
    "        \"LOS\",\n",
    "        \".*cost.*\",\n",
    "        \".*time.*\",\n",
    "        \".*dist.*\",\n",
    "    ),\n",
    "    (\n",
    "        \"Income\",\n",
    "        \"hhinc.*\",\n",
    "    ),\n",
    "    (\n",
    "        \"Ownership\",\n",
    "        \"vehbywrk.*\",\n",
    "    ),\n",
    "    (\n",
    "        \"Zonal\",\n",
    "        \"wkcbd.*\",\n",
    "        \"wkempden.*\",\n",
    "    ),\n",
    "    (\n",
    "        \"ASCs\",\n",
    "        \"ASC.*\",\n",
    "    ),\n",
    ")"
   ]
  },
  {
   "cell_type": "code",
   "execution_count": null,
   "id": "28",
   "metadata": {},
   "outputs": [],
   "source": [
    "m.parameter_summary()"
   ]
  },
  {
   "cell_type": "markdown",
   "id": "29",
   "metadata": {},
   "source": [
    "Finally, let's print model statistics.  Note that if you want LL at constants you need to run a separate model."
   ]
  },
  {
   "cell_type": "code",
   "execution_count": null,
   "id": "30",
   "metadata": {},
   "outputs": [],
   "source": [
    "m.estimation_statistics()"
   ]
  },
  {
   "cell_type": "code",
   "execution_count": null,
   "id": "31",
   "metadata": {},
   "outputs": [],
   "source": [
    "# TEST\n",
    "revealed_x = dict(zip(m.pnames, result.x))"
   ]
  },
  {
   "cell_type": "code",
   "execution_count": null,
   "id": "32",
   "metadata": {},
   "outputs": [],
   "source": [
    "# TEST\n",
    "from pytest import approx\n",
    "\n",
    "expected_x = {\n",
    "    \"ASC_Bike\": -1.6217774612007492,\n",
    "    \"ASC_SR2\": -1.7297986582095874,\n",
    "    \"ASC_SR3+\": -3.6562561506975255,\n",
    "    \"ASC_Transit\": -0.6917042404795228,\n",
    "    \"ASC_Walk\": 0.07521549340170937,\n",
    "    \"costbyinc\": -0.05177365897066612,\n",
    "    \"hhinc#2,3\": 3.691866127922073e-05,\n",
    "    \"hhinc#4\": -0.005335573957018,\n",
    "    \"hhinc#5\": -0.008671987053899464,\n",
    "    \"hhinc#6\": -0.006017166395409271,\n",
    "    \"motorized_ovtbydist\": -0.13272166895031992,\n",
    "    \"motorized_time\": -0.0201578217327816,\n",
    "    \"nonmotorized_time\": -0.045438649548417406,\n",
    "    \"vehbywrk_Bike\": -0.7040646431527947,\n",
    "    \"vehbywrk_SR2\": -0.38161738059345535,\n",
    "    \"vehbywrk_SR3+\": -0.13880487622153995,\n",
    "    \"vehbywrk_Transit\": -0.937505306213354,\n",
    "    \"vehbywrk_Walk\": -0.72385335687274,\n",
    "    \"wkcbd_Bike\": 0.4863239419169535,\n",
    "    \"wkcbd_SR2\": 0.24714212608546096,\n",
    "    \"wkcbd_SR3+\": 1.0943587942374322,\n",
    "    \"wkcbd_Transit\": 1.3056155684640574,\n",
    "    \"wkcbd_Walk\": 0.09724802958992065,\n",
    "    \"wkempden_Bike\": 0.0019224683185795574,\n",
    "    \"wkempden_SR2\": 0.0015964358018843575,\n",
    "    \"wkempden_SR3+\": 0.0022037880176673103,\n",
    "    \"wkempden_Transit\": 0.0031316557035939658,\n",
    "    \"wkempden_Walk\": 0.002881429335761498,\n",
    "}\n",
    "for k in expected_x:\n",
    "    assert revealed_x[k] == approx(\n",
    "        expected_x[k], 2e-2\n",
    "    ), f\"{k}, {revealed_x[k]/expected_x[k]}\""
   ]
  }
 ],
 "metadata": {
  "kernelspec": {
   "display_name": "Python 3 (ipykernel)",
   "language": "python",
   "name": "python3"
  },
  "language_info": {
   "codemirror_mode": {
    "name": "ipython",
    "version": 3
   },
   "file_extension": ".py",
   "mimetype": "text/x-python",
   "name": "python",
   "nbconvert_exporter": "python",
   "pygments_lexer": "ipython3",
   "version": "3.10.14"
  }
 },
 "nbformat": 4,
 "nbformat_minor": 5
}
