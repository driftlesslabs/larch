{
 "cells": [
  {
   "cell_type": "markdown",
   "id": "0",
   "metadata": {},
   "source": [
    "# Vehicle Choice Mixed Logit"
   ]
  },
  {
   "cell_type": "code",
   "execution_count": null,
   "id": "1",
   "metadata": {
    "is_executing": true
   },
   "outputs": [],
   "source": [
    "import pandas as pd\n",
    "\n",
    "import larch as lx\n",
    "from larch import PX"
   ]
  },
  {
   "cell_type": "markdown",
   "id": "2",
   "metadata": {},
   "source": [
    "In this example, we will demonstrate the estimatation of parameters for\n",
    "mixed logit models.  The examples are based on a problem set originally published by Ken Train.\n",
    "\n",
    "To ensure good preformance and ease of use, estimating parameters for a mixed logit model in Larch requires the `jax` library as the compute engine.  Importing it here allows us to confirm that it is available."
   ]
  },
  {
   "cell_type": "code",
   "execution_count": null,
   "id": "3",
   "metadata": {},
   "outputs": [],
   "source": [
    "import jax  # noqa: F401"
   ]
  },
  {
   "cell_type": "markdown",
   "id": "4",
   "metadata": {},
   "source": [
    "The data represent consumers' choices among vehicles in stated preference experiments. The data are from a study that he did for Toyota and GM to assist them in their analysis of the potential marketability of electric and hybrid vehicles, back before hybrids were introduced.   \n",
    "\n",
    "In each choice experiment, the respondent was presented with three vehicles, with the price and other attributes of each vehicle described. The respondent was asked to state which of the three vehicles he/she would buy if the these vehicles were the only ones available in the market. There are 100 respondents in our dataset (which, to reduce estimation time, is a subset of the full dataset which contains 500 respondents.) Each respondent was presented with 15 choice experiments, and most respondents answered all 15. The attributes of the vehicles were varied over experiments, both for a given respondent and over respondents. The attributes are: price, operating cost in dollars per month, engine type (gas, electric, or hybrid), range if electric (in hundreds of miles between recharging), and the performance level of the vehicle (high, medium, or low). The performance level was described in terms of top speed and acceleration, and these descriptions did not vary for each level; for example, \"High\" performance was described as having a top speed of 100 mpg and 12 seconds to reach 60 mpg, and this description was the same for all \"high\" performance vehicles. "
   ]
  },
  {
   "cell_type": "code",
   "execution_count": null,
   "id": "5",
   "metadata": {},
   "outputs": [],
   "source": [
    "raw_data = pd.read_csv(\n",
    "    \"data.txt\",\n",
    "    names=[\n",
    "        \"person_id\",\n",
    "        \"case_id\",\n",
    "        \"chosen\",\n",
    "        \"price\",  # dollars\n",
    "        \"opcost\",  # dollars per month\n",
    "        \"max_range\",  # hundreds of miles (0 if not electric)\n",
    "        \"ev\",  # bool\n",
    "        \"gas\",  # bool\n",
    "        \"hybrid\",  # bool\n",
    "        \"hiperf\",  # High performance (bool)\n",
    "        \"medhiperf\",  # Medium or high performance (bool)\n",
    "    ],\n",
    "    sep=r\"\\s+\",\n",
    ")"
   ]
  },
  {
   "cell_type": "code",
   "execution_count": null,
   "id": "6",
   "metadata": {},
   "outputs": [],
   "source": [
    "raw_data"
   ]
  },
  {
   "cell_type": "markdown",
   "id": "7",
   "metadata": {},
   "source": [
    "Create `alt_id` values for each row within each group, and set\n",
    "the index on case and alternative id's."
   ]
  },
  {
   "cell_type": "code",
   "execution_count": null,
   "id": "8",
   "metadata": {},
   "outputs": [],
   "source": [
    "raw_data[\"alt_id\"] = raw_data.groupby(\"case_id\").cumcount() + 1\n",
    "raw_data = raw_data.set_index([\"case_id\", \"alt_id\"])"
   ]
  },
  {
   "cell_type": "code",
   "execution_count": null,
   "id": "9",
   "metadata": {},
   "outputs": [],
   "source": [
    "data = lx.Dataset.construct.from_idca(raw_data)"
   ]
  },
  {
   "cell_type": "code",
   "execution_count": null,
   "id": "10",
   "metadata": {},
   "outputs": [],
   "source": [
    "data"
   ]
  },
  {
   "cell_type": "markdown",
   "id": "11",
   "metadata": {},
   "source": [
    "## Simple MNL\n",
    "\n",
    "Start with a simple MNL model."
   ]
  },
  {
   "cell_type": "code",
   "execution_count": null,
   "id": "12",
   "metadata": {},
   "outputs": [],
   "source": [
    "simple = lx.Model(data)"
   ]
  },
  {
   "cell_type": "code",
   "execution_count": null,
   "id": "13",
   "metadata": {},
   "outputs": [],
   "source": [
    "simple.utility_ca = (\n",
    "    PX(\"price\")\n",
    "    + PX(\"opcost\")\n",
    "    + PX(\"max_range\")\n",
    "    + PX(\"ev\")\n",
    "    + PX(\"hybrid\")\n",
    "    + PX(\"hiperf\")\n",
    "    + PX(\"medhiperf\")\n",
    ")"
   ]
  },
  {
   "cell_type": "code",
   "execution_count": null,
   "id": "14",
   "metadata": {},
   "outputs": [],
   "source": [
    "simple.choice_ca_var = \"chosen\""
   ]
  },
  {
   "cell_type": "code",
   "execution_count": null,
   "id": "15",
   "metadata": {},
   "outputs": [],
   "source": [
    "simple.maximize_loglike(stderr=True, options={\"ftol\": 1e-9});"
   ]
  },
  {
   "cell_type": "code",
   "execution_count": null,
   "id": "16",
   "metadata": {},
   "outputs": [],
   "source": [
    "# TEST\n",
    "from pytest import approx\n",
    "\n",
    "assert simple.most_recent_estimation_result[\"loglike\"] == approx(-1399.1932)\n",
    "\n",
    "expected_value = {\n",
    "    \"price\": -0.4167 / 10000,\n",
    "    \"opcost\": -0.1288 / 10,\n",
    "    \"max_range\": 0.4770,\n",
    "    \"ev\": -1.3924,\n",
    "    \"hybrid\": 0.3555,\n",
    "    \"hiperf\": 0.1099,\n",
    "    \"medhiperf\": 0.3841,\n",
    "}\n",
    "assert simple.parameters[\"value\"].to_series().to_dict() == approx(\n",
    "    expected_value, rel=1e-3\n",
    ")\n",
    "\n",
    "expected_stderr = {\n",
    "    \"price\": 0.0332 / 10000,\n",
    "    \"opcost\": 0.0353 / 10,\n",
    "    \"max_range\": 0.1765,\n",
    "    \"ev\": 0.2766,\n",
    "    \"hybrid\": 0.1218,\n",
    "    \"hiperf\": 0.0838,\n",
    "    \"medhiperf\": 0.0855,\n",
    "}\n",
    "assert simple.parameters[\"std_err\"].to_series().to_dict() == approx(\n",
    "    expected_stderr, rel=2e-3\n",
    ")"
   ]
  },
  {
   "cell_type": "markdown",
   "id": "17",
   "metadata": {},
   "source": [
    "## Mixture Model\n",
    "\n",
    "To create a mixed logit model, we can start with a copy of the simple model."
   ]
  },
  {
   "cell_type": "code",
   "execution_count": null,
   "id": "18",
   "metadata": {},
   "outputs": [],
   "source": [
    "mixed = simple.copy()"
   ]
  },
  {
   "cell_type": "markdown",
   "id": "19",
   "metadata": {},
   "source": [
    "We assign mixtures to various parameters by providing a list of `Mixture` definitions."
   ]
  },
  {
   "cell_type": "code",
   "execution_count": null,
   "id": "20",
   "metadata": {},
   "outputs": [],
   "source": [
    "mixed.mixtures = [\n",
    "    lx.mixtures.Normal(k, f\"s_{k}\")\n",
    "    for k in [\"opcost\", \"max_range\", \"ev\", \"hybrid\", \"hiperf\", \"medhiperf\"]\n",
    "]"
   ]
  },
  {
   "cell_type": "markdown",
   "id": "21",
   "metadata": {},
   "source": [
    "The estimation of the mixed logit parameters sometimes performs\n",
    "poorly (i.e. may prematurely call itself converged) if you start\n",
    "from the MNL solution, so it can be advantageous to start from \n",
    "the null parameters instead."
   ]
  },
  {
   "cell_type": "code",
   "execution_count": null,
   "id": "22",
   "metadata": {},
   "outputs": [],
   "source": [
    "mixed.pvals = \"null\""
   ]
  },
  {
   "cell_type": "markdown",
   "id": "23",
   "metadata": {},
   "source": [
    "There are several extra settings that can be manipulated on the\n",
    "mixed logit model, including the number of draws and a random seed\n",
    "for generating draws."
   ]
  },
  {
   "cell_type": "code",
   "execution_count": null,
   "id": "24",
   "metadata": {},
   "outputs": [],
   "source": [
    "mixed.n_draws = 200\n",
    "mixed.seed = 42"
   ]
  },
  {
   "cell_type": "code",
   "execution_count": null,
   "id": "25",
   "metadata": {},
   "outputs": [],
   "source": [
    "mixed.maximize_loglike(stderr=True, options={\"ftol\": 1e-9});"
   ]
  },
  {
   "cell_type": "code",
   "execution_count": null,
   "id": "26",
   "metadata": {},
   "outputs": [],
   "source": [
    "mixed.parameters[\"std_err\"].to_series().to_dict()"
   ]
  },
  {
   "cell_type": "code",
   "execution_count": null,
   "id": "27",
   "metadata": {},
   "outputs": [],
   "source": [
    "# TEST\n",
    "assert mixed.most_recent_estimation_result[\"loglike\"] == approx(-1385.4436)\n",
    "\n",
    "expected_value = {\n",
    "    \"ev\": -3.116113749980346,\n",
    "    \"hiperf\": 0.16526011648413752,\n",
    "    \"hybrid\": 0.5468359000231515,\n",
    "    \"max_range\": 0.893907686323169,\n",
    "    \"medhiperf\": 0.7444412811439853,\n",
    "    \"opcost\": -0.022305055541141636,\n",
    "    \"price\": -6.53728508122224e-05,\n",
    "    \"s_ev\": 2.8852968025136363,\n",
    "    \"s_hiperf\": 0.7816346849525359,\n",
    "    \"s_hybrid\": -1.2110724172285334,\n",
    "    \"s_max_range\": -0.10080141887433067,\n",
    "    \"s_medhiperf\": -1.5364071517526834,\n",
    "    \"s_opcost\": 0.04830038015701635,\n",
    "}\n",
    "assert mixed.parameters[\"value\"].to_series().to_dict() == approx(\n",
    "    expected_value, rel=1e-3\n",
    ")\n",
    "\n",
    "expected_stderr = {\n",
    "    \"ev\": 0.8305132389068604,\n",
    "    \"hiperf\": 0.12845700979232788,\n",
    "    \"hybrid\": 0.20117034018039703,\n",
    "    \"max_range\": 0.33233582973480225,\n",
    "    \"medhiperf\": 0.21790540218353271,\n",
    "    \"opcost\": 0.007205564994364977,\n",
    "    \"price\": 1.0975929399137385e-05,\n",
    "    \"s_ev\": 0.7865121364593506,\n",
    "    \"s_hiperf\": 0.8348018527030945,\n",
    "    \"s_hybrid\": 0.6305373907089233,\n",
    "    \"s_max_range\": 0.9989855885505676,\n",
    "    \"s_medhiperf\": 0.6614137887954712,\n",
    "    \"s_opcost\": 0.0211756881326437,\n",
    "}\n",
    "assert mixed.parameters[\"std_err\"].to_series().to_dict() == approx(\n",
    "    expected_stderr, rel=2e-3\n",
    ")"
   ]
  },
  {
   "cell_type": "markdown",
   "id": "28",
   "metadata": {},
   "source": [
    "## Panel Data\n",
    "\n",
    "In the mixed logit model above, we have ignored the fact that \n",
    "we have \"panel data\", where multiple observations are made by the\n",
    "same decision maker who (presumably) has stable preferences with\n",
    "respect to the choice attributes.  We can tell Larch which data\n",
    "column represents the panel identifiers (`person_id`) and then\n",
    "use that information to build a significantly better model."
   ]
  },
  {
   "cell_type": "code",
   "execution_count": null,
   "id": "29",
   "metadata": {},
   "outputs": [],
   "source": [
    "panel = mixed.copy()"
   ]
  },
  {
   "cell_type": "code",
   "execution_count": null,
   "id": "30",
   "metadata": {},
   "outputs": [],
   "source": [
    "panel.groupid = \"person_id\""
   ]
  },
  {
   "cell_type": "code",
   "execution_count": null,
   "id": "31",
   "metadata": {},
   "outputs": [],
   "source": [
    "panel.seed = 42"
   ]
  },
  {
   "cell_type": "code",
   "execution_count": null,
   "id": "32",
   "metadata": {},
   "outputs": [],
   "source": [
    "panel.maximize_loglike(stderr=True, options={\"ftol\": 1e-9});"
   ]
  },
  {
   "cell_type": "code",
   "execution_count": null,
   "id": "33",
   "metadata": {},
   "outputs": [],
   "source": [
    "panel.parameters[\"std_err\"].to_series().to_dict()"
   ]
  },
  {
   "cell_type": "code",
   "execution_count": null,
   "id": "34",
   "metadata": {},
   "outputs": [],
   "source": [
    "# TEST\n",
    "assert panel.most_recent_estimation_result[\"loglike\"] == approx(-1334.9873046875)\n",
    "\n",
    "expected_value = {\n",
    "    \"ev\": -1.7534512916797778,\n",
    "    \"hiperf\": 0.1058554151399541,\n",
    "    \"hybrid\": 0.4557416859213061,\n",
    "    \"max_range\": 0.5651797656380667,\n",
    "    \"medhiperf\": 0.5342572130829607,\n",
    "    \"opcost\": -0.014340199116707007,\n",
    "    \"price\": -4.905225237322768e-05,\n",
    "    \"s_ev\": -1.066473079936292,\n",
    "    \"s_hiperf\": 0.35845535684013297,\n",
    "    \"s_hybrid\": -0.8534250562601524,\n",
    "    \"s_max_range\": 0.4090876192252884,\n",
    "    \"s_medhiperf\": -0.5090464136312128,\n",
    "    \"s_opcost\": 0.03259632742913284,\n",
    "}\n",
    "assert panel.parameters[\"value\"].to_series().to_dict() == approx(\n",
    "    expected_value, rel=1e-3\n",
    ")\n",
    "\n",
    "expected_stderr = {\n",
    "    \"ev\": 0.3464612364768982,\n",
    "    \"hiperf\": 0.10119915008544922,\n",
    "    \"hybrid\": 0.1610344499349594,\n",
    "    \"max_range\": 0.21604567766189575,\n",
    "    \"medhiperf\": 0.11232057213783264,\n",
    "    \"opcost\": 0.00524064339697361,\n",
    "    \"price\": 3.8892262637091335e-06,\n",
    "    \"s_ev\": 0.22575485706329346,\n",
    "    \"s_hiperf\": 0.18787971138954163,\n",
    "    \"s_hybrid\": 0.15704098343849182,\n",
    "    \"s_max_range\": 0.22642944753170013,\n",
    "    \"s_medhiperf\": 0.16932818293571472,\n",
    "    \"s_opcost\": 0.005151339806616306,\n",
    "}\n",
    "assert panel.parameters[\"std_err\"].to_series().to_dict() == approx(\n",
    "    expected_stderr, rel=2e-3\n",
    ")"
   ]
  }
 ],
 "metadata": {
  "kernelspec": {
   "display_name": "LARIX",
   "language": "python",
   "name": "larix"
  },
  "language_info": {
   "codemirror_mode": {
    "name": "ipython",
    "version": 3
   },
   "file_extension": ".py",
   "mimetype": "text/x-python",
   "name": "python",
   "nbconvert_exporter": "python",
   "pygments_lexer": "ipython3",
   "version": "3.10.13"
  }
 },
 "nbformat": 4,
 "nbformat_minor": 5
}
