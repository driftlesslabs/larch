{
 "cells": [
  {
   "cell_type": "code",
   "execution_count": null,
   "id": "3c7ed57b",
   "metadata": {
    "pycharm": {
     "name": "#%%\n"
    }
   },
   "outputs": [],
   "source": [
    "import pandas as pd\n",
    "import numpy as np\n",
    "from time import time\n",
    "import sys, io\n",
    "import larch as lx\n",
    "from pytest import approx"
   ]
  },
  {
   "cell_type": "code",
   "execution_count": null,
   "id": "7cdf18da",
   "metadata": {
    "pycharm": {
     "name": "#%%\n"
    }
   },
   "outputs": [],
   "source": [
    "varnames = [\n",
    "    'price', 'time', 'conven', 'comfort', 'meals', 'petfr',\n",
    "    'emipp', 'nonsig1', 'nonsig2', 'nonsig3',\n",
    "]\n",
    "d = lx.examples.ARTIFICIAL()\n",
    "m = lx.Model(d)\n",
    "m.utility_ca = sum(lx.PX(i) for i in varnames)\n",
    "m.choice_ca_var = 'choice'\n",
    "randvars_normal = ['meals', 'petfr', 'emipp']"
   ]
  },
  {
   "cell_type": "code",
   "execution_count": null,
   "id": "b3ae29c9",
   "metadata": {
    "pycharm": {
     "name": "#%%\n"
    }
   },
   "outputs": [],
   "source": [
    "m.mixtures = [lx.mixtures.Normal(k, f\"sd.{k}\") for k in randvars_normal]"
   ]
  },
  {
   "cell_type": "code",
   "execution_count": null,
   "id": "b8894fdf",
   "metadata": {
    "pycharm": {
     "name": "#%%\n"
    }
   },
   "outputs": [],
   "source": [
    "m.n_draws = 300\n",
    "m.seed = 42\n",
    "m.prerolled = True\n",
    "m.common_draws = True"
   ]
  },
  {
   "cell_type": "code",
   "execution_count": null,
   "id": "884d4605",
   "metadata": {
    "tags": [
     "remove_cell"
    ]
   },
   "outputs": [],
   "source": [
    "# TEST\n",
    "assert m.loglike() == approx(-4394.45556640625)"
   ]
  },
  {
   "cell_type": "code",
   "execution_count": null,
   "id": "2d72d541",
   "metadata": {
    "tags": [
     "remove_cell"
    ]
   },
   "outputs": [],
   "source": [
    "# TEST\n",
    "assert m._draws[0:2] == approx(np.array([[ 0.328483,  0.256732,  0.388444],\n",
    "       [ 0.170979,  0.871594,  0.298636]], dtype=np.float32), rel=1e-5)\n",
    "assert m._draws[-2:] == approx(np.array([[ 0.300983,  0.328402,  0.055866],\n",
    "       [ 0.363251,  0.119268,  0.45048 ]], dtype=np.float32), rel=1e-5)"
   ]
  },
  {
   "cell_type": "code",
   "execution_count": null,
   "id": "55478371",
   "metadata": {
    "pycharm": {
     "name": "#%%\n"
    }
   },
   "outputs": [],
   "source": [
    "result = m.maximize_loglike(stderr=True)"
   ]
  },
  {
   "cell_type": "code",
   "execution_count": null,
   "id": "081e212a",
   "metadata": {
    "pycharm": {
     "name": "#%%\n"
    },
    "tags": [
     "remove_cell"
    ]
   },
   "outputs": [],
   "source": [
    "# TEST\n",
    "assert m.n_draws == 300\n",
    "assert m._draws.shape == (300, 3) # common draws\n",
    "assert result.loglike == approx(-2278.119873)\n",
    "assert result.x == approx(np.array([ \n",
    "    1.084783,  0.878294, -2.071825,  1.709024,  0.064876,  0.0095  ,  0.01686 ,  3.960227, -1.050591,  1.042768,\n",
    "       -0.703356, -1.549873, -1.467843]), rel=1e-4)\n",
    "assert result.stderr == approx(np.array([ \n",
    "    0.198335,  0.155281,  0.232656,  0.209664,  0.147426,  0.152424,  0.134502,  0.399234,  0.179498,  0.14787 ,\n",
    "        0.220511,  0.3684  ,  0.177694], ), rel=1e-4)"
   ]
  },
  {
   "cell_type": "code",
   "execution_count": null,
   "id": "05ef52d9",
   "metadata": {
    "tags": [
     "remove_cell"
    ]
   },
   "outputs": [],
   "source": [
    "# TEST\n",
    "# from io import StringIO\n",
    "# xlogit_ref_results = pd.read_csv(StringIO('''\n",
    "# Coefficient,   Estimate ,  Std.Err. ,      z-val ,    P>|z|\n",
    "# price      , -1.0320343 , 0.1553819 , -6.6419223 , 2.36e-10\n",
    "# time       , -1.4595725 , 0.1690836 , -8.6322536 , 7.34e-17\n",
    "# conven     ,  0.8895740 , 0.1413429 ,  6.2937284 , 2.19e-09\n",
    "# comfort    ,  1.0633392 , 0.1825744 ,  5.8241414 , 3.68e-08\n",
    "# meals      ,  1.7115916 , 0.1966436 ,  8.7040298 , 3.99e-17\n",
    "# petfr      ,  3.8752937 , 0.3735491 , 10.3742563 , 6.83e-24\n",
    "# emipp      , -2.0163539 , 0.2139036 , -9.4264592 ,  6.5e-20\n",
    "# nonsig1    ,  0.0725413 , 0.1268775 ,  0.5717423 ,    0.678\n",
    "# nonsig2    ,  0.0160257 , 0.1339144 ,  0.1196709 ,    0.792\n",
    "# nonsig3    ,  0.0189635 , 0.1130936 ,  0.1676797 ,    0.787\n",
    "# sd.meals   , -0.6844918 , 0.2367959 , -2.8906402 ,   0.0123\n",
    "# sd.petfr   , -1.3225227 , 0.3194845 , -4.1395524 , 0.000154\n",
    "# sd.emipp   ,  1.0039927 , 0.1420153 ,  7.0696075 ,  1.3e-11\n",
    "# '''), skipinitialspace=True, index_col=0)\n",
    "# xlogit_ref_results.index = xlogit_ref_results.index.str.strip()\n",
    "\n",
    "# pd.testing.assert_series_equal(\n",
    "#     xlogit_ref_results['Estimate '].sort_index(),\n",
    "#     pd.Series(dict(zip(m.pnames, m.pvals))).sort_index(),\n",
    "#     check_names=False,\n",
    "#     rtol=0.4,\n",
    "# )"
   ]
  },
  {
   "cell_type": "code",
   "execution_count": null,
   "id": "5ca9d43c",
   "metadata": {},
   "outputs": [],
   "source": [
    "m2 = m.copy()\n",
    "m2.pvals = 'init'\n",
    "m2.common_draws = False"
   ]
  },
  {
   "cell_type": "code",
   "execution_count": null,
   "id": "429e6f00",
   "metadata": {},
   "outputs": [],
   "source": [
    "result2 = m2.maximize_loglike(stderr=True)"
   ]
  },
  {
   "cell_type": "code",
   "execution_count": null,
   "id": "a312bb3d",
   "metadata": {
    "tags": [
     "remove_cell"
    ]
   },
   "outputs": [],
   "source": [
    "# TEST\n",
    "# changing seeds\n",
    "m.seed = 45\n",
    "assert m.loglike() == approx(-2279.95263671875)\n",
    "m.seed = 46\n",
    "assert m.loglike() == approx(-2282.3642578125)"
   ]
  }
 ],
 "metadata": {
  "kernelspec": {
   "display_name": "Python 3 (ipykernel)",
   "language": "python",
   "name": "python3"
  },
  "language_info": {
   "codemirror_mode": {
    "name": "ipython",
    "version": 3
   },
   "file_extension": ".py",
   "mimetype": "text/x-python",
   "name": "python",
   "nbconvert_exporter": "python",
   "pygments_lexer": "ipython3",
   "version": "3.9.10"
  },
  "toc": {
   "base_numbering": 1,
   "nav_menu": {},
   "number_sections": false,
   "sideBar": true,
   "skip_h1_title": false,
   "title_cell": "Table of Contents",
   "title_sidebar": "Contents",
   "toc_cell": false,
   "toc_position": {},
   "toc_section_display": true,
   "toc_window_display": false
  }
 },
 "nbformat": 4,
 "nbformat_minor": 5
}
