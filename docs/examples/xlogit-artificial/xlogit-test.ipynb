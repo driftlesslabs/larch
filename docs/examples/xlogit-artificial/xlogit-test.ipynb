{
 "cells": [
  {
   "cell_type": "code",
   "execution_count": null,
   "id": "3c7ed57b",
   "metadata": {
    "pycharm": {
     "name": "#%%\n"
    }
   },
   "outputs": [],
   "source": [
    "import numpy as np\n",
    "from pytest import approx\n",
    "\n",
    "import larch as lx"
   ]
  },
  {
   "cell_type": "code",
   "execution_count": null,
   "id": "27ecbe65",
   "metadata": {},
   "outputs": [],
   "source": [
    "import larch as lx"
   ]
  },
  {
   "cell_type": "code",
   "execution_count": null,
   "id": "7cdf18da",
   "metadata": {
    "pycharm": {
     "name": "#%%\n"
    }
   },
   "outputs": [],
   "source": [
    "varnames = [\n",
    "    \"price\",\n",
    "    \"time\",\n",
    "    \"conven\",\n",
    "    \"comfort\",\n",
    "    \"meals\",\n",
    "    \"petfr\",\n",
    "    \"emipp\",\n",
    "    \"nonsig1\",\n",
    "    \"nonsig2\",\n",
    "    \"nonsig3\",\n",
    "]\n",
    "d = lx.examples.ARTIFICIAL()\n",
    "m = lx.Model(d)\n",
    "m.utility_ca = sum(lx.PX(i) for i in varnames)\n",
    "m.choice_ca_var = \"choice\"\n",
    "randvars_normal = [\"meals\", \"petfr\", \"emipp\"]"
   ]
  },
  {
   "cell_type": "code",
   "execution_count": null,
   "id": "b3ae29c9",
   "metadata": {
    "pycharm": {
     "name": "#%%\n"
    }
   },
   "outputs": [],
   "source": [
    "m.mixtures = [lx.mixtures.Normal(k, f\"sd.{k}\") for k in randvars_normal]"
   ]
  },
  {
   "cell_type": "code",
   "execution_count": null,
   "id": "b8894fdf",
   "metadata": {
    "pycharm": {
     "name": "#%%\n"
    }
   },
   "outputs": [],
   "source": [
    "m.n_draws = 300\n",
    "m.seed = 42\n",
    "m.prerolled = True\n",
    "m.common_draws = True"
   ]
  },
  {
   "cell_type": "code",
   "execution_count": null,
   "id": "884d4605",
   "metadata": {
    "pycharm": {
     "name": "#%%\n"
    },
    "tags": [
     "remove_cell"
    ]
   },
   "outputs": [],
   "source": [
    "# TEST\n",
    "assert m.loglike() == approx(-4394.45556640625)"
   ]
  },
  {
   "cell_type": "code",
   "execution_count": null,
   "id": "dd58ed70",
   "metadata": {},
   "outputs": [],
   "source": [
    "# TEST\n",
    "assert m.d_loglike() == approx(\n",
    "    [\n",
    "        2.085461e03,\n",
    "        -1.130608e03,\n",
    "        -5.535062e03,\n",
    "        1.998748e02,\n",
    "        -3.927801e03,\n",
    "        3.330141e03,\n",
    "        -4.460615e03,\n",
    "        -1.380896e03,\n",
    "        -1.267620e03,\n",
    "        -3.135025e00,\n",
    "        -3.900630e00,\n",
    "        -1.376858e00,\n",
    "        -2.561676e03,\n",
    "    ],\n",
    "    rel=1e-4,\n",
    ")"
   ]
  },
  {
   "cell_type": "code",
   "execution_count": null,
   "id": "d1b5c104",
   "metadata": {},
   "outputs": [],
   "source": [
    "# TEST\n",
    "se, hess, ihess = m.jax_param_cov(m.pvals)\n",
    "assert hess == approx(\n",
    "    np.array(\n",
    "        [\n",
    "            [\n",
    "                5.214861e03,\n",
    "                -8.737501e03,\n",
    "                -1.207186e04,\n",
    "                4.689243e03,\n",
    "                -4.701574e03,\n",
    "                2.698417e03,\n",
    "                -2.037047e03,\n",
    "                -6.022355e03,\n",
    "                -8.715623e03,\n",
    "                4.149471e00,\n",
    "                -1.291960e01,\n",
    "                -1.636162e-01,\n",
    "                2.693130e03,\n",
    "            ],\n",
    "            [\n",
    "                -8.737502e03,\n",
    "                1.918251e04,\n",
    "                2.199170e04,\n",
    "                -1.065871e04,\n",
    "                6.688360e03,\n",
    "                -2.722472e03,\n",
    "                4.219213e01,\n",
    "                1.198888e04,\n",
    "                1.867886e04,\n",
    "                5.044937e00,\n",
    "                2.636754e01,\n",
    "                8.628845e-01,\n",
    "                -8.679251e03,\n",
    "            ],\n",
    "            [\n",
    "                -1.207186e04,\n",
    "                2.199169e04,\n",
    "                3.128377e04,\n",
    "                -1.174997e04,\n",
    "                1.223288e04,\n",
    "                -7.146222e03,\n",
    "                5.618984e03,\n",
    "                1.528325e04,\n",
    "                2.193285e04,\n",
    "                -1.277624e01,\n",
    "                3.275142e01,\n",
    "                6.413689e-01,\n",
    "                -6.471689e03,\n",
    "            ],\n",
    "            [\n",
    "                4.689244e03,\n",
    "                -1.065871e04,\n",
    "                -1.174997e04,\n",
    "                6.683431e03,\n",
    "                -3.098420e03,\n",
    "                9.166903e02,\n",
    "                8.549390e02,\n",
    "                -6.647478e03,\n",
    "                -1.064853e04,\n",
    "                -4.171021e00,\n",
    "                -1.501747e01,\n",
    "                -1.888428e-01,\n",
    "                5.545634e03,\n",
    "            ],\n",
    "            [\n",
    "                -4.701574e03,\n",
    "                6.688361e03,\n",
    "                1.223288e04,\n",
    "                -3.098420e03,\n",
    "                6.745899e03,\n",
    "                -4.474388e03,\n",
    "                4.947241e03,\n",
    "                5.334855e03,\n",
    "                6.653889e03,\n",
    "                -1.206940e01,\n",
    "                1.123395e01,\n",
    "                3.519630e-01,\n",
    "                2.137472e02,\n",
    "            ],\n",
    "            [\n",
    "                2.698417e03,\n",
    "                -2.722472e03,\n",
    "                -7.146222e03,\n",
    "                9.166902e02,\n",
    "                -4.474388e03,\n",
    "                4.030793e03,\n",
    "                -4.448886e03,\n",
    "                -2.682003e03,\n",
    "                -2.698321e03,\n",
    "                1.166885e01,\n",
    "                -5.420895e00,\n",
    "                -1.787338e-01,\n",
    "                -1.729178e03,\n",
    "            ],\n",
    "            [\n",
    "                -2.037046e03,\n",
    "                4.219213e01,\n",
    "                5.618985e03,\n",
    "                8.549389e02,\n",
    "                4.947241e03,\n",
    "                -4.448886e03,\n",
    "                6.745437e03,\n",
    "                1.371551e03,\n",
    "                3.171216e01,\n",
    "                -1.749387e01,\n",
    "                2.293404e00,\n",
    "                8.043671e-02,\n",
    "                4.169263e03,\n",
    "            ],\n",
    "            [\n",
    "                -6.022355e03,\n",
    "                1.198888e04,\n",
    "                1.528325e04,\n",
    "                -6.647478e03,\n",
    "                5.334855e03,\n",
    "                -2.682003e03,\n",
    "                1.371551e03,\n",
    "                8.437011e03,\n",
    "                1.195731e04,\n",
    "                1.625114e00,\n",
    "                1.781580e01,\n",
    "                7.714996e-01,\n",
    "                -4.662336e03,\n",
    "            ],\n",
    "            [\n",
    "                -8.715623e03,\n",
    "                1.867886e04,\n",
    "                2.193285e04,\n",
    "                -1.064853e04,\n",
    "                6.653889e03,\n",
    "                -2.698321e03,\n",
    "                3.171217e01,\n",
    "                1.195731e04,\n",
    "                1.910547e04,\n",
    "                4.064438e00,\n",
    "                2.614574e01,\n",
    "                5.830841e-01,\n",
    "                -8.672464e03,\n",
    "            ],\n",
    "            [\n",
    "                4.149475e00,\n",
    "                5.044861e00,\n",
    "                -1.277600e01,\n",
    "                -4.171112e00,\n",
    "                -1.206927e01,\n",
    "                1.166878e01,\n",
    "                -1.749390e01,\n",
    "                1.624878e00,\n",
    "                4.064697e00,\n",
    "                -2.158142e03,\n",
    "                1.105316e02,\n",
    "                -2.832360e01,\n",
    "                -1.466002e01,\n",
    "            ],\n",
    "            [\n",
    "                -1.291957e01,\n",
    "                2.636751e01,\n",
    "                3.275133e01,\n",
    "                -1.501750e01,\n",
    "                1.123393e01,\n",
    "                -5.420914e00,\n",
    "                2.293438e00,\n",
    "                1.781590e01,\n",
    "                2.614552e01,\n",
    "                1.105317e02,\n",
    "                3.290158e03,\n",
    "                1.039862e02,\n",
    "                -1.082738e01,\n",
    "            ],\n",
    "            [\n",
    "                -1.636047e-01,\n",
    "                8.629456e-01,\n",
    "                6.414795e-01,\n",
    "                -1.887054e-01,\n",
    "                3.519135e-01,\n",
    "                -1.787491e-01,\n",
    "                8.040237e-02,\n",
    "                7.715759e-01,\n",
    "                5.830688e-01,\n",
    "                -2.832359e01,\n",
    "                1.039862e02,\n",
    "                1.726320e03,\n",
    "                -4.051666e-01,\n",
    "            ],\n",
    "            [\n",
    "                2.693130e03,\n",
    "                -8.679251e03,\n",
    "                -6.471688e03,\n",
    "                5.545634e03,\n",
    "                2.137472e02,\n",
    "                -1.729178e03,\n",
    "                4.169263e03,\n",
    "                -4.662337e03,\n",
    "                -8.672464e03,\n",
    "                -1.466016e01,\n",
    "                -1.082734e01,\n",
    "                -4.051819e-01,\n",
    "                7.339009e03,\n",
    "            ],\n",
    "        ],\n",
    "        dtype=np.float32,\n",
    "    ),\n",
    "    rel=1e-3,\n",
    ")"
   ]
  },
  {
   "cell_type": "code",
   "execution_count": null,
   "id": "2d72d541",
   "metadata": {
    "pycharm": {
     "name": "#%%\n"
    },
    "tags": [
     "remove_cell"
    ]
   },
   "outputs": [],
   "source": [
    "# TEST\n",
    "assert m._draws[0:2] == approx(\n",
    "    np.array(\n",
    "        [[0.328483, 0.256732, 0.388444], [0.170979, 0.871594, 0.298636]],\n",
    "        dtype=np.float32,\n",
    "    ),\n",
    "    rel=1e-5,\n",
    ")\n",
    "assert m._draws[-2:] == approx(\n",
    "    np.array(\n",
    "        [[0.300983, 0.328402, 0.055866], [0.363251, 0.119268, 0.45048]],\n",
    "        dtype=np.float32,\n",
    "    ),\n",
    "    rel=1e-5,\n",
    ")"
   ]
  },
  {
   "cell_type": "code",
   "execution_count": null,
   "id": "f38e10a3",
   "metadata": {
    "pycharm": {
     "name": "#%%\n"
    }
   },
   "outputs": [],
   "source": [
    "result = m.maximize_loglike(stderr=True)"
   ]
  },
  {
   "cell_type": "code",
   "execution_count": null,
   "id": "5ca9d43c",
   "metadata": {
    "pycharm": {
     "name": "#%%\n"
    }
   },
   "outputs": [],
   "source": [
    "m2 = m.copy()\n",
    "m2.pvals = \"init\"\n",
    "m2.common_draws = False"
   ]
  },
  {
   "cell_type": "code",
   "execution_count": null,
   "id": "429e6f00",
   "metadata": {
    "pycharm": {
     "name": "#%%\n"
    }
   },
   "outputs": [],
   "source": [
    "result2 = m2.maximize_loglike(stderr=True)"
   ]
  },
  {
   "cell_type": "code",
   "execution_count": null,
   "id": "a312bb3d",
   "metadata": {
    "pycharm": {
     "name": "#%%\n"
    },
    "tags": [
     "remove_cell"
    ]
   },
   "outputs": [],
   "source": [
    "# TEST\n",
    "# changing seeds\n",
    "m.seed = 45\n",
    "assert m.loglike() == approx(-2279.95263671875)\n",
    "m.seed = 46\n",
    "assert m.loglike() == approx(-2282.3642578125)"
   ]
  },
  {
   "cell_type": "code",
   "execution_count": null,
   "id": "2544dd5a",
   "metadata": {
    "pycharm": {
     "name": "#%%\n"
    }
   },
   "outputs": [],
   "source": [
    "m2.parameter_summary()"
   ]
  },
  {
   "cell_type": "code",
   "execution_count": null,
   "id": "cfa238ec",
   "metadata": {
    "pycharm": {
     "name": "#%%\n"
    }
   },
   "outputs": [],
   "source": [
    "from xlogit import MixedLogit\n",
    "\n",
    "df = d.to_dataframe().reset_index()\n",
    "varnames = [\n",
    "    \"price\",\n",
    "    \"time\",\n",
    "    \"conven\",\n",
    "    \"comfort\",\n",
    "    \"meals\",\n",
    "    \"petfr\",\n",
    "    \"emipp\",\n",
    "    \"nonsig1\",\n",
    "    \"nonsig2\",\n",
    "    \"nonsig3\",\n",
    "]\n",
    "X = df[varnames].values\n",
    "y = df[\"choice\"].values\n",
    "randvars = {\"meals\": \"n\", \"petfr\": \"n\", \"emipp\": \"n\"}\n",
    "alts = df[\"alt\"]\n",
    "ids = df[\"id\"]\n",
    "panels = None\n",
    "batch_size = 5000\n",
    "n_draws = 300"
   ]
  },
  {
   "cell_type": "code",
   "execution_count": null,
   "id": "fa967a5d",
   "metadata": {
    "pycharm": {
     "name": "#%%\n"
    }
   },
   "outputs": [],
   "source": [
    "np.random.seed(0)\n",
    "model = MixedLogit()\n",
    "model.fit(\n",
    "    X,\n",
    "    y,\n",
    "    varnames,\n",
    "    alts=alts,\n",
    "    ids=ids,\n",
    "    n_draws=n_draws,\n",
    "    panels=panels,\n",
    "    verbose=0,\n",
    "    randvars=randvars,\n",
    "    batch_size=batch_size,\n",
    ")"
   ]
  },
  {
   "cell_type": "code",
   "execution_count": null,
   "id": "cbe9c167",
   "metadata": {
    "pycharm": {
     "name": "#%%\n"
    }
   },
   "outputs": [],
   "source": [
    "model.summary()"
   ]
  }
 ],
 "metadata": {
  "kernelspec": {
   "display_name": "Python 3 (ipykernel)",
   "language": "python",
   "name": "python3"
  },
  "language_info": {
   "codemirror_mode": {
    "name": "ipython",
    "version": 3
   },
   "file_extension": ".py",
   "mimetype": "text/x-python",
   "name": "python",
   "nbconvert_exporter": "python",
   "pygments_lexer": "ipython3",
   "version": "3.10.6"
  },
  "toc": {
   "base_numbering": 1,
   "nav_menu": {},
   "number_sections": false,
   "sideBar": true,
   "skip_h1_title": false,
   "title_cell": "Table of Contents",
   "title_sidebar": "Contents",
   "toc_cell": false,
   "toc_position": {},
   "toc_section_display": true,
   "toc_window_display": false
  }
 },
 "nbformat": 4,
 "nbformat_minor": 5
}
