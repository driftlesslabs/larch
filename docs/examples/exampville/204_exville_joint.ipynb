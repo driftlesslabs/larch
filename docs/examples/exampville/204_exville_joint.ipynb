{
 "cells": [
  {
   "cell_type": "markdown",
   "metadata": {},
   "source": [
    "# 204: Exampville Joint Mode and Destination Choice\n",
    "\n",
    "Welcome to Exampville, the best simulated town in this here part of the internet!\n",
    "\n",
    "Exampville is a demonstration provided with Larch that walks through some of the \n",
    "data and tools that a transportation planner might use when building a travel model. "
   ]
  },
  {
   "cell_type": "code",
   "execution_count": null,
   "metadata": {
    "tags": [
     "remove_cell"
    ]
   },
   "outputs": [],
   "source": [
    "# TEST\n",
    "import larix as lx\n",
    "from pytest import approx"
   ]
  },
  {
   "cell_type": "code",
   "execution_count": null,
   "metadata": {},
   "outputs": [],
   "source": [
    "import numpy as np\n",
    "import pandas as pd\n",
    "import larix as lx\n",
    "from larix import P, X"
   ]
  },
  {
   "cell_type": "markdown",
   "metadata": {},
   "source": [
    "In this example notebook, we will walk through the estimation of a tour \n",
    "destination choice model.  First, let's load the data files from\n",
    "our example."
   ]
  },
  {
   "cell_type": "code",
   "execution_count": null,
   "metadata": {},
   "outputs": [],
   "source": [
    "hh, pp, tour, skims, emp = lx.example(200, ['hh', 'pp', 'tour', 'skims', 'emp'])"
   ]
  },
  {
   "cell_type": "code",
   "execution_count": null,
   "metadata": {},
   "outputs": [],
   "source": [
    "hh['INCOME_GRP'] = pd.qcut(hh.INCOME, 3)"
   ]
  },
  {
   "cell_type": "code",
   "execution_count": null,
   "metadata": {},
   "outputs": [],
   "source": [
    "od_skims = lx.Dataset.construct.from_omx(skims)"
   ]
  },
  {
   "cell_type": "code",
   "execution_count": null,
   "metadata": {},
   "outputs": [],
   "source": [
    "from addicty import Dict\n",
    "\n",
    "Mode = Dict(\n",
    "    DA = 1,\n",
    "    SR = 2,\n",
    "    Walk = 3,\n",
    "    Bike = 4,\n",
    "    Transit = 5,\n",
    ").freeze()"
   ]
  },
  {
   "cell_type": "code",
   "execution_count": null,
   "metadata": {},
   "outputs": [],
   "source": [
    "Dest = od_skims.dtaz.values"
   ]
  },
  {
   "cell_type": "code",
   "execution_count": null,
   "metadata": {},
   "outputs": [],
   "source": [
    "import itertools"
   ]
  },
  {
   "cell_type": "code",
   "execution_count": null,
   "metadata": {},
   "outputs": [],
   "source": [
    "Mode.to_dict()"
   ]
  },
  {
   "cell_type": "code",
   "execution_count": null,
   "metadata": {},
   "outputs": [],
   "source": [
    "altcodes = list(j*10 + i for j,i in itertools.product(Dest, Mode.values()))\n",
    "altnames = list(f\"{i}_{j:02d}\" for j,i in itertools.product(Dest, Mode.keys()))\n",
    "Alts = dict(zip(altnames, altcodes))"
   ]
  },
  {
   "cell_type": "code",
   "execution_count": null,
   "metadata": {},
   "outputs": [],
   "source": [
    "tour_dataset = lx.Dataset.construct.from_idco(tour.set_index('TOURID'), alts=Alts)"
   ]
  },
  {
   "cell_type": "code",
   "execution_count": null,
   "metadata": {},
   "outputs": [],
   "source": [
    "tour_dataset[\"CHOICE\"] = tour_dataset.TOURMODE + tour_dataset.DTAZ * 10"
   ]
  },
  {
   "cell_type": "code",
   "execution_count": null,
   "metadata": {},
   "outputs": [],
   "source": [
    "tour_dataset[\"AltTAZ\"] = tour_dataset['_altid_'] // 10\n",
    "tour_dataset[\"AltMODE\"] = tour_dataset['_altid_'] % 10"
   ]
  },
  {
   "cell_type": "code",
   "execution_count": null,
   "metadata": {},
   "outputs": [],
   "source": [
    "dt = lx.DataTree(\n",
    "    tour=tour_dataset,\n",
    "    hh=hh.set_index('HHID'),\n",
    "    person=pp.set_index('PERSONID'),\n",
    "    od=od_skims,\n",
    "    do=od_skims,\n",
    "    emp=emp,\n",
    "    relationships=(\n",
    "        \"tour.HHID @ hh.HHID\",\n",
    "        \"tour.PERSONID @ person.PERSONID\",\n",
    "        \"hh.HOMETAZ @ od.otaz\",\n",
    "        \"tour.AltTAZ @ od.dtaz\",\n",
    "        \"hh.HOMETAZ @ do.dtaz\",\n",
    "        \"tour.AltTAZ @ do.otaz\",\n",
    "        \"tour.AltTAZ @ emp.TAZ\",\n",
    "    ),\n",
    ")"
   ]
  },
  {
   "cell_type": "code",
   "execution_count": null,
   "metadata": {},
   "outputs": [],
   "source": [
    "availability_co_vars = {\n",
    "    Mode.DA: 'AGE >= 16',\n",
    "    Mode.SR: 1,\n",
    "    Mode.Walk: 'WALK_TIME < 60',\n",
    "    Mode.Bike: 'BIKE_TIME < 60',\n",
    "    Mode.Transit: 'TRANSIT_FARE>0',\n",
    "}"
   ]
  },
  {
   "cell_type": "code",
   "execution_count": null,
   "metadata": {},
   "outputs": [],
   "source": [
    "avail_ca_parts = \"+\".join(X(f\"(AltMODE=={i})*({a})\") for i,a in availability_co_vars.items())\n",
    "avail_ca_parts"
   ]
  },
  {
   "cell_type": "code",
   "execution_count": null,
   "metadata": {},
   "outputs": [],
   "source": [
    "dt_work = dt.query_cases(\"TOURPURP == 1\")"
   ]
  },
  {
   "cell_type": "markdown",
   "metadata": {},
   "source": [
    "## Preprocessing"
   ]
  },
  {
   "cell_type": "markdown",
   "metadata": {},
   "source": [
    "Then we bundle all our raw data into a `DataTree` structure, \n",
    "which is used to collect the right data for estimation.  The\n",
    "Larch DataTree is a slightly augmented version of the regular\n",
    "`sharrow.DataTree`."
   ]
  },
  {
   "cell_type": "markdown",
   "metadata": {},
   "source": [
    "## Model Definition\n",
    "\n",
    "Now we can define our choice model, using data from the tree as appropriate."
   ]
  },
  {
   "cell_type": "code",
   "execution_count": null,
   "metadata": {},
   "outputs": [],
   "source": [
    "m = lx.Model(datatree=dt_work)\n",
    "m.title = \"Exampville Work Tour Mode and Destination Choice v1\""
   ]
  },
  {
   "cell_type": "code",
   "execution_count": null,
   "metadata": {},
   "outputs": [],
   "source": [
    "for dest in Dest:\n",
    "    d = dest * 10\n",
    "    Car = m.graph.new_node(parameter='Mu:Car', children=[d+Mode.DA, d+Mode.SR], name='Car')\n",
    "    NonMotor = m.graph.new_node(parameter='Mu:NonMotor', children=[d+Mode.Walk, d+Mode.Bike], name='NonMotor')\n",
    "    Motor = m.graph.new_node(parameter='Mu:Motor', children=[Car, d+Mode.Transit], name='Motor')\n",
    "    DestNest = m.graph.new_node(parameter='Mu:Dest', children=[Motor, NonMotor], name='Destination')"
   ]
  },
  {
   "cell_type": "code",
   "execution_count": null,
   "metadata": {},
   "outputs": [],
   "source": [
    "m.availability_ca_var = avail_ca_parts"
   ]
  },
  {
   "cell_type": "code",
   "execution_count": null,
   "metadata": {},
   "outputs": [],
   "source": [
    "m.quantity_ca = (\n",
    "        + P.EmpRetail_HighInc * X('RETAIL_EMP * (INCOME>50000)')\n",
    "        + P.EmpNonRetail_HighInc * X('NONRETAIL_EMP') * X(\"INCOME>50000\")\n",
    "        + P.EmpRetail_LowInc * X('RETAIL_EMP') * X(\"INCOME<=50000\")\n",
    "        + P.EmpNonRetail_LowInc * X('NONRETAIL_EMP') * X(\"INCOME<=50000\")\n",
    ")\n",
    "\n",
    "m.quantity_scale = P.Theta\n"
   ]
  },
  {
   "cell_type": "code",
   "execution_count": null,
   "metadata": {},
   "outputs": [],
   "source": [
    "m.utility_ca = (\n",
    "    + P.distance * X.AUTO_DIST\n",
    "    + P.InVehTime * (\n",
    "        + X.AUTO_TIME * X(f\"AltMODE in ({Mode.DA}, {Mode.SR})\")\n",
    "        + X.TRANSIT_IVTT * X(f\"AltMODE == {Mode.Transit}\")\n",
    "    )\n",
    "    + P.OutVehTime * X.TRANSIT_OVTT * X(f\"AltMODE == {Mode.Transit}\")\n",
    "    + P.NonMotorTime * (\n",
    "        + X.WALK_TIME * X(f\"AltMODE == {Mode.Walk}\")\n",
    "        + X.BIKE_TIME * X(f\"AltMODE == {Mode.Bike}\")\n",
    "    )\n",
    "    + P.Cost * (\n",
    "        + X.AUTO_COST * X(f\"AltMODE == {Mode.DA}\")\n",
    "        + X(\"AUTO_COST * 0.5\") * X(f\"AltMODE == {Mode.SR}\")\n",
    "        + X.TRANSIT_FARE * X(f\"AltMODE == {Mode.Transit}\")\n",
    "    )\n",
    "    + P.ASC_SR * X(f\"AltMODE == {Mode.SR}\")\n",
    "    + P.ASC_Walk * X(f\"AltMODE == {Mode.Walk}\")\n",
    "    + P.ASC_Bike * X(f\"AltMODE == {Mode.Bike}\")\n",
    "    + P.ASC_Transit * X(f\"AltMODE == {Mode.Transit}\")\n",
    "    + P(\"LogIncome:SR\") * X(\"log(INCOME)\") * X(f\"AltMODE == {Mode.SR}\")\n",
    "    + P(\"LogIncome:Walk\") * X(\"log(INCOME)\") * X(f\"AltMODE == {Mode.Walk}\")\n",
    "    + P(\"LogIncome:Bike\") * X(\"log(INCOME)\") * X(f\"AltMODE == {Mode.Bike}\")\n",
    "    + P(\"LogIncome:Transit\") * X(\"log(INCOME)\") * X(f\"AltMODE == {Mode.Transit}\")\n",
    ")"
   ]
  },
  {
   "cell_type": "code",
   "execution_count": null,
   "metadata": {},
   "outputs": [],
   "source": [
    "m.choice_co_code = \"tour.CHOICE\""
   ]
  },
  {
   "cell_type": "code",
   "execution_count": null,
   "metadata": {},
   "outputs": [],
   "source": [
    "m.compute_engine = 'numba'"
   ]
  },
  {
   "cell_type": "code",
   "execution_count": null,
   "metadata": {},
   "outputs": [],
   "source": [
    "m.set_cap(25)"
   ]
  },
  {
   "cell_type": "code",
   "execution_count": null,
   "metadata": {},
   "outputs": [],
   "source": [
    "m.pf"
   ]
  },
  {
   "cell_type": "code",
   "execution_count": null,
   "metadata": {},
   "outputs": [],
   "source": [
    "m.plock(EmpRetail_HighInc=0, EmpRetail_LowInc=0)"
   ]
  },
  {
   "cell_type": "code",
   "execution_count": null,
   "metadata": {
    "tags": [
     "remove_cell"
    ]
   },
   "outputs": [],
   "source": [
    "# TEST\n",
    "x = {\n",
    "    'ASC_Bike': -0.5240493998048744,\n",
    "    'ASC_SR': 3.236290438517284,\n",
    "    'ASC_Transit': 8.778656078246991,\n",
    "    'ASC_Walk': 6.586505131588745,\n",
    "    'Cost': -0.3690205730692789,\n",
    "    'EmpNonRetail_HighInc': 1.3301012502070557,\n",
    "    'EmpNonRetail_LowInc': -0.9099962346214282,\n",
    "    'EmpRetail_HighInc': 0.0,\n",
    "    'EmpRetail_LowInc': 0.0,\n",
    "    'InVehTime': -0.12186665041621693,\n",
    "    'LogIncome:Bike': -0.15885556332102918,\n",
    "    'LogIncome:SR': -0.43651343262581205,\n",
    "    'LogIncome:Transit': -0.7055947243480206,\n",
    "    'LogIncome:Walk': -0.3625004764836594,\n",
    "    'Mu:Car': 0.5765014801086261,\n",
    "    'Mu:Dest': 0.8772447924568757,\n",
    "    'Mu:Motor': 0.8562164680908089,\n",
    "    'Mu:NonMotor': 0.8057181271317372,\n",
    "    'NonMotorTime': -0.2395700551175699,\n",
    "    'OutVehTime': -0.2807523025163492,\n",
    "    'Theta': 0.7468696025360714,\n",
    "    'distance': 0.006652335260990816,\n",
    "}\n",
    "assert m.loglike(x) == approx(-28646.661840926616)\n",
    "assert m.d_loglike(x) == approx(np.array([ \n",
    "    1.454517e-01,  4.549069e-01, -7.067049e-01,  1.339604e+00, -8.713451e-01,  6.543924e-01,  2.099017e-01,\n",
    "    0.000000e+00,  0.000000e+00,  1.075398e-01, -2.423103e-01,  1.206464e+01,  3.165643e-02,  1.356228e+00,\n",
    "    1.501221e+00, -2.958951e-01, -2.940929e-03, -3.309181e-02,  1.634716e+00,  4.964662e-03,  1.694484e-01,\n",
    "    3.421337e-01]))\n",
    "m.pvals = 'init'"
   ]
  },
  {
   "cell_type": "markdown",
   "metadata": {},
   "source": [
    "## Model Estimation"
   ]
  },
  {
   "cell_type": "code",
   "execution_count": null,
   "metadata": {},
   "outputs": [],
   "source": [
    "m.compute_engine = 'numba'"
   ]
  },
  {
   "cell_type": "code",
   "execution_count": null,
   "metadata": {},
   "outputs": [],
   "source": [
    "m.loglike(m.pvals)"
   ]
  },
  {
   "cell_type": "code",
   "execution_count": null,
   "metadata": {},
   "outputs": [],
   "source": [
    "m.pf"
   ]
  },
  {
   "cell_type": "code",
   "execution_count": null,
   "metadata": {},
   "outputs": [],
   "source": [
    "result = m.maximize_loglike(stderr=True, maxiter=500) "
   ]
  },
  {
   "cell_type": "code",
   "execution_count": null,
   "metadata": {},
   "outputs": [],
   "source": [
    "m.parameter_summary()"
   ]
  },
  {
   "cell_type": "code",
   "execution_count": null,
   "metadata": {},
   "outputs": [],
   "source": []
  },
  {
   "cell_type": "code",
   "execution_count": null,
   "metadata": {
    "tags": [
     "remove_cell"
    ]
   },
   "outputs": [],
   "source": [
    "# TEST\n",
    "assert result.loglike == approx(-28653.74150042629)\n",
    "assert m.loglike() == approx(-28653.74150042629)"
   ]
  },
  {
   "cell_type": "code",
   "execution_count": null,
   "metadata": {},
   "outputs": [],
   "source": []
  },
  {
   "cell_type": "markdown",
   "metadata": {},
   "source": [
    "## Math\n",
    "\n"
   ]
  },
  {
   "cell_type": "markdown",
   "metadata": {},
   "source": [
    "Utility of a given alternative\n",
    "\n",
    "$V_i = \\beta X_i + \\theta \\log (\\exp(\\gamma)Z_i) $"
   ]
  },
  {
   "cell_type": "markdown",
   "metadata": {},
   "source": [
    "Logsum of two alternatives, i and j, in a nest\n",
    "\n",
    "$ \\Gamma_n = \\mu \\log \\left( \n",
    "  \\exp \\left(\\frac{V_i}{\\mu}\\right) \n",
    "+ \\exp \\left(\\frac{V_j}{\\mu}\\right)\n",
    "\\right)$"
   ]
  },
  {
   "cell_type": "markdown",
   "metadata": {},
   "source": [
    "Logsum of two alternatives, i and j, in a nest with size Q\n",
    "\n",
    "$ \\Gamma_n = \\mu \\log \\left( \n",
    "  \\exp \\left(\\frac{V_i}{\\mu}\\right) \n",
    "+ \\exp \\left(\\frac{V_j}{\\mu}\\right)\n",
    "\\right) * Q$"
   ]
  },
  {
   "cell_type": "markdown",
   "metadata": {},
   "source": [
    "$ \\Gamma_n = \\mu \\log \\left( \n",
    "  \\exp \\left(\\frac{V_i + \\theta\\log(Q)}{\\mu}\\right) \n",
    "+ \\exp \\left(\\frac{V_j + \\theta\\log(Q)}{\\mu}\\right)\n",
    "\\right)$"
   ]
  },
  {
   "cell_type": "markdown",
   "metadata": {},
   "source": [
    "$ \\Gamma_n = \\mu \\log \\left( \n",
    "  \\exp \\left(\\frac{V_i}{\\mu} + \\frac{\\theta\\log(Q)}{\\mu}\\right) \n",
    "+ \\exp \\left(\\frac{V_j}{\\mu} + \\frac{\\theta\\log(Q)}{\\mu}\\right)\n",
    "\\right)$"
   ]
  },
  {
   "cell_type": "markdown",
   "metadata": {},
   "source": [
    "$ \\Gamma_n = \\mu \\log \\left( \n",
    "  \\exp \\left(\\frac{V_i}{\\mu}\\right) * \\exp\\left(\\frac{\\theta\\log(Q)}{\\mu}\\right) \n",
    "+ \\exp \\left(\\frac{V_j}{\\mu}\\right) * \\exp\\left(\\frac{\\theta\\log(Q)}{\\mu}\\right)\n",
    "\\right)$"
   ]
  },
  {
   "cell_type": "markdown",
   "metadata": {},
   "source": [
    "$ \\Gamma_n = \\mu \\log \\left( \n",
    "    \\left(\n",
    "      \\exp \\left(\\frac{V_i}{\\mu}\\right) \n",
    "    + \\exp \\left(\\frac{V_j}{\\mu}\\right) \n",
    "    \\right) * \\exp\\left(\\frac{\\theta\\log(Q)}{\\mu}\\right)\n",
    "\\right)$"
   ]
  },
  {
   "cell_type": "markdown",
   "metadata": {},
   "source": [
    "$ \\Gamma_n = \\mu \\log \\left( \n",
    "      \\exp \\left(\\frac{V_i}{\\mu}\\right) \n",
    "    + \\exp \\left(\\frac{V_j}{\\mu}\\right) \n",
    "\\right) + \\left(\n",
    "    \\left(\\theta\\log(Q)\\right)\n",
    "\\right)$"
   ]
  },
  {
   "cell_type": "code",
   "execution_count": null,
   "metadata": {},
   "outputs": [],
   "source": []
  },
  {
   "cell_type": "code",
   "execution_count": null,
   "metadata": {},
   "outputs": [],
   "source": []
  },
  {
   "cell_type": "code",
   "execution_count": null,
   "metadata": {},
   "outputs": [],
   "source": []
  },
  {
   "cell_type": "markdown",
   "metadata": {},
   "source": [
    "$ \\Gamma_n = \\mu \\log( \n",
    "+ \\exp (  (\\beta X_i + \\theta \\log (\\exp(\\gamma)Z_i))  / \\mu) \n",
    "+ \\exp (  (\\beta X_j + \\theta \\log (\\exp(\\gamma)Z_j))  / \\mu)  \n",
    ")$"
   ]
  },
  {
   "cell_type": "markdown",
   "metadata": {},
   "source": [
    "$ \\Gamma_n = \\mu \\log( \n",
    "+ \\exp (  (\\beta X_i / \\mu)) * \\exp((\\theta \\log (\\exp(\\gamma)Z_i) / \\mu)  ) \n",
    "+ \\exp (  (\\beta X_j / \\mu)) * \\exp((\\theta \\log (\\exp(\\gamma)Z_j) / \\mu)  )  \n",
    ")$"
   ]
  },
  {
   "cell_type": "markdown",
   "metadata": {},
   "source": [
    "$ \\Gamma_n = \\mu \\log( \n",
    "( \\exp (  \\frac{V_i}{\\mu})) \n",
    "+ \\exp (  \\frac{V_j}{\\mu}))) + ((\\theta \\log (Q) / \\mu)   \n",
    ")$"
   ]
  },
  {
   "cell_type": "code",
   "execution_count": null,
   "metadata": {},
   "outputs": [],
   "source": []
  }
 ],
 "metadata": {
  "kernelspec": {
   "display_name": "Python 3 (ipykernel)",
   "language": "python",
   "name": "python3"
  },
  "language_info": {
   "codemirror_mode": {
    "name": "ipython",
    "version": 3
   },
   "file_extension": ".py",
   "mimetype": "text/x-python",
   "name": "python",
   "nbconvert_exporter": "python",
   "pygments_lexer": "ipython3",
   "version": "3.9.10"
  },
  "toc": {
   "base_numbering": 1,
   "nav_menu": {},
   "number_sections": true,
   "sideBar": true,
   "skip_h1_title": false,
   "title_cell": "Table of Contents",
   "title_sidebar": "Contents",
   "toc_cell": false,
   "toc_position": {},
   "toc_section_display": true,
   "toc_window_display": false
  }
 },
 "nbformat": 4,
 "nbformat_minor": 4
}
