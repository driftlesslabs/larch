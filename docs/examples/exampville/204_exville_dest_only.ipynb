{
 "cells": [
  {
   "cell_type": "markdown",
   "metadata": {
    "pycharm": {
     "name": "#%% md\n"
    }
   },
   "source": [
    "# 204: Exampville Destination Choice without Logsums\n",
    "\n",
    "Welcome to Exampville, the best simulated town in this here part of the internet!\n",
    "\n",
    "Exampville is a demonstration provided with Larch that walks through some of the \n",
    "data and tools that a transportation planner might use when building a travel model. "
   ]
  },
  {
   "cell_type": "code",
   "execution_count": null,
   "metadata": {
    "pycharm": {
     "name": "#%%\n"
    },
    "tags": [
     "remove_cell"
    ]
   },
   "outputs": [],
   "source": [
    "# TEST\n",
    "import warnings\n",
    "\n",
    "from pytest import approx\n",
    "\n",
    "import larch as lx\n",
    "\n",
    "warnings.filterwarnings(action=\"ignore\", category=FutureWarning)"
   ]
  },
  {
   "cell_type": "code",
   "execution_count": null,
   "metadata": {
    "pycharm": {
     "name": "#%%\n"
    },
    "tags": []
   },
   "outputs": [],
   "source": [
    "import numpy as np\n",
    "import pandas as pd\n",
    "\n",
    "import larch as lx\n",
    "from larch import P, X"
   ]
  },
  {
   "cell_type": "markdown",
   "metadata": {
    "pycharm": {
     "name": "#%% md\n"
    }
   },
   "source": [
    "In this example notebook, we will walk through the estimation of a tour \n",
    "destination choice model, without using mode choice logsums.  First, let's load the data files from\n",
    "our example."
   ]
  },
  {
   "cell_type": "code",
   "execution_count": null,
   "metadata": {
    "pycharm": {
     "name": "#%%\n"
    },
    "tags": []
   },
   "outputs": [],
   "source": [
    "hh, pp, tour, skims, emp = lx.example(200, [\"hh\", \"pp\", \"tour\", \"skims\", \"emp\"])"
   ]
  },
  {
   "cell_type": "code",
   "execution_count": null,
   "metadata": {
    "pycharm": {
     "name": "#%%\n"
    },
    "tags": []
   },
   "outputs": [],
   "source": [
    "hh[\"INCOME_GRP\"] = pd.qcut(hh.INCOME, 3)"
   ]
  },
  {
   "cell_type": "markdown",
   "metadata": {
    "pycharm": {
     "name": "#%% md\n"
    }
   },
   "source": [
    "## Preprocessing"
   ]
  },
  {
   "cell_type": "markdown",
   "metadata": {
    "pycharm": {
     "name": "#%% md\n"
    }
   },
   "source": [
    "The alternatives in\n",
    "the destinations model are much more regular than in the mode choice \n",
    "model, as every observation will have a similar set of alternatives\n",
    "and the utility function for each of those alternatives will share a \n",
    "common functional form.  We'll leverage this by using `idca` format \n",
    "arrays in our DataTree to make data management simpler.  \n",
    "\n",
    "The base array we'll start with is the tours, and it only has one \n",
    "dimension (cases).  We'll specify the alternatives seperately as `alts`,\n",
    "and it will be a second dimension, which only has coordinates (alt id's)\n",
    "and no other data."
   ]
  },
  {
   "cell_type": "code",
   "execution_count": null,
   "metadata": {
    "pycharm": {
     "name": "#%%\n"
    },
    "tags": []
   },
   "outputs": [],
   "source": [
    "co = lx.Dataset.construct(\n",
    "    tour.set_index(\"TOURID\"),\n",
    "    caseid=\"TOURID\",\n",
    "    alts=skims.TAZ_ID,\n",
    ")\n",
    "co"
   ]
  },
  {
   "cell_type": "markdown",
   "metadata": {
    "pycharm": {
     "name": "#%% md\n"
    }
   },
   "source": [
    "For our destination choice model, we'll also want to use employment data.\n",
    "This data, as included in our example, has unique \n",
    "values only by alternative and not by caseid, so there are only\n",
    "40 unique rows.\n",
    "(This kind of structure is common for destination choice models.)"
   ]
  },
  {
   "cell_type": "code",
   "execution_count": null,
   "metadata": {
    "pycharm": {
     "name": "#%%\n"
    },
    "tags": []
   },
   "outputs": [],
   "source": [
    "emp.info()"
   ]
  },
  {
   "cell_type": "markdown",
   "metadata": {
    "pycharm": {
     "name": "#%% md\n"
    }
   },
   "source": [
    "Then we bundle all our raw data into a `DataTree` structure, \n",
    "which is used to collect the right data for estimation.  The\n",
    "Larch DataTree is a slightly augmented version of the regular\n",
    "`sharrow.DataTree`."
   ]
  },
  {
   "cell_type": "code",
   "execution_count": null,
   "metadata": {
    "pycharm": {
     "name": "#%%\n"
    },
    "tags": []
   },
   "outputs": [],
   "source": [
    "tree = lx.DataTree(\n",
    "    base=co,\n",
    "    hh=hh.set_index(\"HHID\"),\n",
    "    person=pp.set_index(\"PERSONID\"),\n",
    "    emp=emp,\n",
    "    skims=lx.Dataset.construct.from_omx(skims),\n",
    "    relationships=(\n",
    "        \"base.TAZ_ID @ emp.TAZ\",\n",
    "        \"base.HHID @ hh.HHID\",\n",
    "        \"base.PERSONID @ person.PERSONID\",\n",
    "        \"hh.HOMETAZ @ skims.otaz\",\n",
    "        \"base.TAZ_ID @ skims.dtaz\",\n",
    "    ),\n",
    ").digitize_relationships()"
   ]
  },
  {
   "cell_type": "markdown",
   "metadata": {
    "pycharm": {
     "name": "#%% md\n"
    }
   },
   "source": [
    "## Model Definition\n",
    "\n",
    "Now we can define our choice model, using data from the tree as appropriate."
   ]
  },
  {
   "cell_type": "code",
   "execution_count": null,
   "metadata": {
    "pycharm": {
     "name": "#%%\n"
    },
    "tags": []
   },
   "outputs": [],
   "source": [
    "m = lx.Model(datatree=tree)\n",
    "m.title = \"Exampville Tour Destination Choice v2\""
   ]
  },
  {
   "cell_type": "code",
   "execution_count": null,
   "metadata": {
    "pycharm": {
     "name": "#%%\n"
    },
    "tags": []
   },
   "outputs": [],
   "source": [
    "m.quantity_ca = (\n",
    "    +P.EmpRetail_HighInc * X(\"RETAIL_EMP * (INCOME>50000)\")\n",
    "    + P.EmpNonRetail_HighInc * X(\"NONRETAIL_EMP\") * X(\"INCOME>50000\")\n",
    "    + P.EmpRetail_LowInc * X(\"RETAIL_EMP\") * X(\"INCOME<=50000\")\n",
    "    + P.EmpNonRetail_LowInc * X(\"NONRETAIL_EMP\") * X(\"INCOME<=50000\")\n",
    ")\n",
    "\n",
    "m.quantity_scale = P.Theta"
   ]
  },
  {
   "cell_type": "code",
   "execution_count": null,
   "metadata": {
    "pycharm": {
     "name": "#%%\n"
    },
    "tags": []
   },
   "outputs": [],
   "source": [
    "m.utility_ca = +P.distance * X.AUTO_DIST"
   ]
  },
  {
   "cell_type": "code",
   "execution_count": null,
   "metadata": {
    "pycharm": {
     "name": "#%%\n"
    },
    "tags": []
   },
   "outputs": [],
   "source": [
    "m.choice_co_code = \"base.DTAZ\""
   ]
  },
  {
   "cell_type": "code",
   "execution_count": null,
   "metadata": {
    "pycharm": {
     "name": "#%%\n"
    },
    "tags": []
   },
   "outputs": [],
   "source": [
    "m.plock(EmpRetail_HighInc=0, EmpRetail_LowInc=0)"
   ]
  },
  {
   "cell_type": "code",
   "execution_count": null,
   "metadata": {
    "tags": []
   },
   "outputs": [],
   "source": [
    "# TEST\n",
    "assert m.availability_any"
   ]
  },
  {
   "cell_type": "code",
   "execution_count": null,
   "metadata": {
    "pycharm": {
     "name": "#%%\n"
    },
    "tags": []
   },
   "outputs": [],
   "source": [
    "mj = m.copy()"
   ]
  },
  {
   "cell_type": "markdown",
   "metadata": {
    "pycharm": {
     "name": "#%% md\n"
    }
   },
   "source": [
    "## Model Estimation"
   ]
  },
  {
   "cell_type": "code",
   "execution_count": null,
   "metadata": {
    "pycharm": {
     "name": "#%%\n"
    },
    "tags": []
   },
   "outputs": [],
   "source": [
    "m.compute_engine = \"numba\""
   ]
  },
  {
   "cell_type": "code",
   "execution_count": null,
   "metadata": {
    "pycharm": {
     "name": "#%%\n"
    },
    "tags": [
     "remove_cell"
    ]
   },
   "outputs": [],
   "source": [
    "# TEST\n",
    "assert m.loglike() == approx(-77777.17321427424)\n",
    "assert mj.loglike() == approx(-77777.17321427424)"
   ]
  },
  {
   "cell_type": "code",
   "execution_count": null,
   "metadata": {
    "pycharm": {
     "name": "#%%\n"
    },
    "tags": []
   },
   "outputs": [],
   "source": [
    "# TEST\n",
    "assert m.d_loglike() == approx([-223.95036, -682.1102, 0.0, 0.0, -7406.393, -34762.906])\n",
    "assert mj.d_loglike() == approx(\n",
    "    [-223.81805, -681.7803, 0.0, 0.0, -7406.3945, -34767.668], rel=1e-5\n",
    ")"
   ]
  },
  {
   "cell_type": "code",
   "execution_count": null,
   "metadata": {
    "pycharm": {
     "name": "#%%\n"
    },
    "tags": []
   },
   "outputs": [],
   "source": [
    "result = m.maximize_loglike(stderr=True)"
   ]
  },
  {
   "cell_type": "code",
   "execution_count": null,
   "metadata": {
    "pycharm": {
     "name": "#%%\n"
    },
    "tags": [
     "remove_cell"
    ]
   },
   "outputs": [],
   "source": [
    "# TEST\n",
    "assert result.loglike == approx(-70650.07578452416)\n",
    "assert result.success\n",
    "assert result.method == \"slsqp\"\n",
    "assert result.n_cases == 20739\n",
    "assert result.logloss == approx(3.4066288531040145)\n",
    "import pandas as pd\n",
    "\n",
    "pd.testing.assert_series_equal(\n",
    "    result.x.sort_index(),\n",
    "    pd.Series(\n",
    "        {\n",
    "            \"EmpNonRetail_HighInc\": 1.2453335020460703,\n",
    "            \"EmpNonRetail_LowInc\": -1.0893594261458912,\n",
    "            \"EmpRetail_HighInc\": 0.0,\n",
    "            \"EmpRetail_LowInc\": 0.0,\n",
    "            \"Theta\": 0.676440163641688,\n",
    "            \"distance\": -0.3347118435209836,\n",
    "        }\n",
    "    ).sort_index(),\n",
    "    rtol=1e-3,\n",
    ")\n",
    "assert m.pstderr == approx(\n",
    "    np.array([0.145749, 0.052355, 0.0, 0.0, 0.009012, 0.003812]),\n",
    "    rel=1e-3,\n",
    ")"
   ]
  },
  {
   "cell_type": "code",
   "execution_count": null,
   "metadata": {
    "pycharm": {
     "name": "#%%\n"
    },
    "tags": []
   },
   "outputs": [],
   "source": [
    "resultj = mj.maximize_loglike(stderr=True)"
   ]
  },
  {
   "cell_type": "code",
   "execution_count": null,
   "metadata": {},
   "outputs": [],
   "source": [
    "resultj"
   ]
  },
  {
   "cell_type": "code",
   "execution_count": null,
   "metadata": {
    "pycharm": {
     "name": "#%%\n"
    },
    "tags": [
     "remove_cell"
    ]
   },
   "outputs": [],
   "source": [
    "# TEST\n",
    "assert resultj.loglike == approx(-70650.07578452416)\n",
    "assert resultj.success\n",
    "assert resultj.n_cases == 20739\n",
    "assert resultj.logloss == approx(3.4066288531040145)\n",
    "import pandas as pd\n",
    "\n",
    "pd.testing.assert_series_equal(\n",
    "    pd.Series(resultj.x, index=mj.pnames).sort_index(),\n",
    "    pd.Series(\n",
    "        {\n",
    "            \"EmpNonRetail_HighInc\": 1.2453335020460703,\n",
    "            \"EmpNonRetail_LowInc\": -1.0893594261458912,\n",
    "            \"EmpRetail_HighInc\": 0.0,\n",
    "            \"EmpRetail_LowInc\": 0.0,\n",
    "            \"Theta\": 0.676440163641688,\n",
    "            \"distance\": -0.3347118435209836,\n",
    "        }\n",
    "    ).sort_index(),\n",
    "    rtol=1e-2,\n",
    ")\n",
    "assert resultj.stderr == approx(\n",
    "    np.array([0.14442, 0.052348, 0.0, 0.0, 0.009009, 0.003812], dtype=np.float32),\n",
    "    rel=1e-2,\n",
    ")"
   ]
  },
  {
   "cell_type": "code",
   "execution_count": null,
   "metadata": {},
   "outputs": [],
   "source": [
    "# TEST\n",
    "mj.bhhh() == approx(\n",
    "    np.asarray(\n",
    "        [\n",
    "            [\n",
    "                4.894633e01,\n",
    "                0.000000e00,\n",
    "                0.000000e00,\n",
    "                0.000000e00,\n",
    "                1.824293e02,\n",
    "                2.349278e02,\n",
    "            ],\n",
    "            [\n",
    "                0.000000e00,\n",
    "                3.654184e02,\n",
    "                0.000000e00,\n",
    "                0.000000e00,\n",
    "                -2.068872e02,\n",
    "                5.649638e02,\n",
    "            ],\n",
    "            [\n",
    "                0.000000e00,\n",
    "                0.000000e00,\n",
    "                0.000000e00,\n",
    "                0.000000e00,\n",
    "                0.000000e00,\n",
    "                0.000000e00,\n",
    "            ],\n",
    "            [\n",
    "                0.000000e00,\n",
    "                0.000000e00,\n",
    "                0.000000e00,\n",
    "                0.000000e00,\n",
    "                0.000000e00,\n",
    "                0.000000e00,\n",
    "            ],\n",
    "            [\n",
    "                1.824293e02,\n",
    "                -2.068872e02,\n",
    "                0.000000e00,\n",
    "                0.000000e00,\n",
    "                1.450995e04,\n",
    "                1.208727e04,\n",
    "            ],\n",
    "            [\n",
    "                2.349278e02,\n",
    "                5.649638e02,\n",
    "                0.000000e00,\n",
    "                0.000000e00,\n",
    "                1.208727e04,\n",
    "                8.600401e04,\n",
    "            ],\n",
    "        ]\n",
    "    )\n",
    ")"
   ]
  },
  {
   "cell_type": "code",
   "execution_count": null,
   "metadata": {},
   "outputs": [],
   "source": [
    "# TEST\n",
    "assert m.bhhh() == approx(\n",
    "    np.asarray(\n",
    "        [\n",
    "            [\n",
    "                4.842784e01,\n",
    "                0.000000e00,\n",
    "                0.000000e00,\n",
    "                0.000000e00,\n",
    "                1.817289e02,\n",
    "                2.330331e02,\n",
    "            ],\n",
    "            [\n",
    "                0.000000e00,\n",
    "                3.653474e02,\n",
    "                0.000000e00,\n",
    "                0.000000e00,\n",
    "                -2.060223e02,\n",
    "                5.647817e02,\n",
    "            ],\n",
    "            [\n",
    "                0.000000e00,\n",
    "                0.000000e00,\n",
    "                0.000000e00,\n",
    "                0.000000e00,\n",
    "                0.000000e00,\n",
    "                0.000000e00,\n",
    "            ],\n",
    "            [\n",
    "                0.000000e00,\n",
    "                0.000000e00,\n",
    "                0.000000e00,\n",
    "                0.000000e00,\n",
    "                0.000000e00,\n",
    "                0.000000e00,\n",
    "            ],\n",
    "            [\n",
    "                1.817289e02,\n",
    "                -2.060223e02,\n",
    "                0.000000e00,\n",
    "                0.000000e00,\n",
    "                1.451344e04,\n",
    "                1.209207e04,\n",
    "            ],\n",
    "            [\n",
    "                2.330331e02,\n",
    "                5.647817e02,\n",
    "                0.000000e00,\n",
    "                0.000000e00,\n",
    "                1.209207e04,\n",
    "                8.600466e04,\n",
    "            ],\n",
    "        ]\n",
    "    )\n",
    ")"
   ]
  },
  {
   "cell_type": "markdown",
   "metadata": {
    "pycharm": {
     "name": "#%% md\n"
    }
   },
   "source": [
    "## Model Visualization\n",
    "\n",
    "For destination choice and similar type models, it might be beneficial to\n",
    "review the observed and modeled choices, and the relative distribution of\n",
    "these choices across different factors.  For example, we would probably want\n",
    "to see the distribution of travel distance.  The `Model` object includes\n",
    "a built-in method to create this kind of visualization."
   ]
  },
  {
   "cell_type": "code",
   "execution_count": null,
   "metadata": {
    "pycharm": {
     "name": "#%%\n"
    },
    "tags": []
   },
   "outputs": [],
   "source": []
  },
  {
   "cell_type": "code",
   "execution_count": null,
   "metadata": {
    "pycharm": {
     "name": "#%%\n"
    },
    "tags": []
   },
   "outputs": [],
   "source": [
    "m.histogram_on_idca_variable(\"AUTO_DIST\")"
   ]
  },
  {
   "cell_type": "code",
   "execution_count": null,
   "metadata": {
    "pycharm": {
     "name": "#%%\n"
    },
    "tags": []
   },
   "outputs": [],
   "source": [
    "m.histogram_on_idca_variable(\"RETAIL_EMP\")"
   ]
  },
  {
   "cell_type": "markdown",
   "metadata": {
    "pycharm": {
     "name": "#%% md\n"
    }
   },
   "source": [
    "The `histogram_on_idca_variable` has a variety of options,\n",
    "for example to control the number and range of the histogram bins:"
   ]
  },
  {
   "cell_type": "code",
   "execution_count": null,
   "metadata": {
    "pycharm": {
     "name": "#%%\n"
    },
    "tags": []
   },
   "outputs": [],
   "source": [
    "m.histogram_on_idca_variable(\"AUTO_DIST\", bins=40, span=(0, 10))"
   ]
  },
  {
   "cell_type": "markdown",
   "metadata": {
    "pycharm": {
     "name": "#%% md\n"
    }
   },
   "source": [
    "Subsets of the observations can be pulled out, to observe the \n",
    "distribution conditional on other `idco` factors, like income."
   ]
  },
  {
   "cell_type": "code",
   "execution_count": null,
   "metadata": {
    "pycharm": {
     "name": "#%%\n"
    },
    "tags": []
   },
   "outputs": [],
   "source": [
    "m.histogram_on_idca_variable(\n",
    "    \"AUTO_DIST\",\n",
    "    x_label=\"Distance (miles)\",\n",
    "    bins=26,\n",
    "    span=(0, 13),\n",
    "    filter_co=\"INCOME<10000\",\n",
    ")"
   ]
  },
  {
   "cell_type": "code",
   "execution_count": null,
   "metadata": {},
   "outputs": [],
   "source": []
  },
  {
   "cell_type": "markdown",
   "metadata": {},
   "source": [
    "## Semi-Aggregate Data\n",
    "\n",
    "Some choice models are based on only a limited number of disaggregate data dimensions.\n",
    "The destination choice model shown above is an example of this, where the only explanatory\n",
    "data used is the home zone id (which determines the distances to all the various destination\n",
    "alternatives) and whether the household income is low or not.  Our original source data has\n",
    "more than 20,000 case observations, but there can only be up to 80 actual unique choice \n",
    "situations (40 zones, times 2 income categories).  Given this simple model, it can be\n",
    "much more efficient to aggregate the data along all the relevant dimensions."
   ]
  },
  {
   "cell_type": "code",
   "execution_count": null,
   "metadata": {
    "tags": []
   },
   "outputs": [],
   "source": [
    "tour_plus = tour.join(hh.set_index(\"HHID\")[[\"HOMETAZ\", \"INCOME\"]], on=\"HHID\")\n",
    "tour_plus[\"LOW_INCOME\"] = tour_plus.INCOME < 50_000\n",
    "tour_agg = (\n",
    "    tour_plus.groupby([\"HOMETAZ\", \"DTAZ\", \"LOW_INCOME\"])\n",
    "    .size()\n",
    "    .unstack(\"DTAZ\")\n",
    "    .fillna(0)\n",
    ")"
   ]
  },
  {
   "cell_type": "code",
   "execution_count": null,
   "metadata": {
    "tags": []
   },
   "outputs": [],
   "source": [
    "# j = tour_agg.reset_index(drop=True)\n",
    "# lx.DataArray(j.values, dims=(\"index\", \"DTAZ\"), coords={\"index\": j.index, \"DTAZ\": j.columns})"
   ]
  },
  {
   "cell_type": "code",
   "execution_count": null,
   "metadata": {
    "tags": []
   },
   "outputs": [],
   "source": [
    "agg_dataset = lx.Dataset.construct.from_idco(\n",
    "    tour_agg.index.to_frame().reset_index(drop=True)\n",
    ")\n",
    "j = tour_agg.reset_index(drop=True)\n",
    "agg_dataset = agg_dataset.assign(\n",
    "    destinations=lx.DataArray(\n",
    "        j.values,\n",
    "        dims=(\"index\", \"DTAZ\"),\n",
    "        coords={\"index\": j.index, \"DTAZ\": j.columns},\n",
    "    )\n",
    ")\n",
    "agg_dataset.dc.ALTID = \"DTAZ\"\n",
    "agg_dataset"
   ]
  },
  {
   "cell_type": "code",
   "execution_count": null,
   "metadata": {},
   "outputs": [],
   "source": [
    "agg_tree = lx.DataTree(\n",
    "    base=agg_dataset,\n",
    "    emp=emp,\n",
    "    skims=lx.Dataset.construct.from_omx(skims),\n",
    "    relationships=(\n",
    "        \"base.DTAZ @ emp.TAZ\",\n",
    "        \"base.HOMETAZ @ skims.otaz\",\n",
    "        \"base.DTAZ @ skims.dtaz\",\n",
    "    ),\n",
    ")"
   ]
  },
  {
   "cell_type": "code",
   "execution_count": null,
   "metadata": {
    "tags": []
   },
   "outputs": [],
   "source": [
    "mg = lx.Model(datatree=agg_tree, compute_engine=\"numba\")\n",
    "mg.title = \"Exampville Semi-Aggregate Destination Choice\""
   ]
  },
  {
   "cell_type": "code",
   "execution_count": null,
   "metadata": {
    "tags": []
   },
   "outputs": [],
   "source": [
    "mg.quantity_ca = (\n",
    "    +P.EmpRetail_HighInc * X(\"RETAIL_EMP * (1-LOW_INCOME)\")\n",
    "    + P.EmpNonRetail_HighInc * X(\"NONRETAIL_EMP\") * X(\"(1-LOW_INCOME)\")\n",
    "    + P.EmpRetail_LowInc * X(\"RETAIL_EMP\") * X(\"LOW_INCOME\")\n",
    "    + P.EmpNonRetail_LowInc * X(\"NONRETAIL_EMP\") * X(\"LOW_INCOME\")\n",
    ")\n",
    "\n",
    "mg.quantity_scale = P.Theta"
   ]
  },
  {
   "cell_type": "code",
   "execution_count": null,
   "metadata": {
    "tags": []
   },
   "outputs": [],
   "source": [
    "mg.utility_ca = +P.distance * X.AUTO_DIST"
   ]
  },
  {
   "cell_type": "code",
   "execution_count": null,
   "metadata": {
    "tags": []
   },
   "outputs": [],
   "source": [
    "mg.choice_ca_var = \"base.destinations\""
   ]
  },
  {
   "cell_type": "code",
   "execution_count": null,
   "metadata": {
    "tags": []
   },
   "outputs": [],
   "source": [
    "mg.plock(EmpRetail_HighInc=0, EmpRetail_LowInc=0)"
   ]
  },
  {
   "cell_type": "code",
   "execution_count": null,
   "metadata": {
    "tags": []
   },
   "outputs": [],
   "source": [
    "# TEST\n",
    "assert mg.loglike() == approx(-77777.17321427427)"
   ]
  },
  {
   "cell_type": "code",
   "execution_count": null,
   "metadata": {
    "tags": []
   },
   "outputs": [],
   "source": [
    "# TEST\n",
    "assert mg.d_loglike() == approx([-223.95016, -682.1102, 0, 0, -7406.389, -34762.91])"
   ]
  },
  {
   "cell_type": "code",
   "execution_count": null,
   "metadata": {
    "tags": []
   },
   "outputs": [],
   "source": [
    "result = mg.maximize_loglike(stderr=True)\n",
    "result"
   ]
  },
  {
   "cell_type": "code",
   "execution_count": null,
   "metadata": {
    "tags": []
   },
   "outputs": [],
   "source": [
    "# TEST\n",
    "assert result.loglike == approx(-70650.07578452416)\n",
    "assert result.success\n",
    "assert result.method == \"slsqp\"\n",
    "assert result.n_cases == 79\n",
    "assert result.logloss == approx(3.4066288531040145)\n",
    "import pandas as pd\n",
    "\n",
    "pd.testing.assert_series_equal(\n",
    "    result.x.sort_index(),\n",
    "    pd.Series(\n",
    "        {\n",
    "            \"EmpNonRetail_HighInc\": 1.2453335020460703,\n",
    "            \"EmpNonRetail_LowInc\": -1.0893594261458912,\n",
    "            \"EmpRetail_HighInc\": 0.0,\n",
    "            \"EmpRetail_LowInc\": 0.0,\n",
    "            \"Theta\": 0.676440163641688,\n",
    "            \"distance\": -0.3347118435209836,\n",
    "        }\n",
    "    ).sort_index(),\n",
    "    rtol=1e-3,\n",
    ")\n",
    "assert m.pstderr == approx(\n",
    "    np.array([0.145749, 0.052355, 0.0, 0.0, 0.009012, 0.003812]),\n",
    "    rel=1e-3,\n",
    ")"
   ]
  },
  {
   "cell_type": "code",
   "execution_count": null,
   "metadata": {
    "tags": []
   },
   "outputs": [],
   "source": [
    "# TEST\n",
    "assert mg.total_weight() == approx(20739.0)\n",
    "assert mg.n_cases == 79"
   ]
  },
  {
   "cell_type": "code",
   "execution_count": null,
   "metadata": {
    "tags": []
   },
   "outputs": [],
   "source": [
    "# TEST\n",
    "assert mg.bhhh() == approx(\n",
    "    np.asarray(\n",
    "        [\n",
    "            [\n",
    "                4.842784e01,\n",
    "                0.000000e00,\n",
    "                0.000000e00,\n",
    "                0.000000e00,\n",
    "                1.817289e02,\n",
    "                2.330331e02,\n",
    "            ],\n",
    "            [\n",
    "                0.000000e00,\n",
    "                3.653474e02,\n",
    "                0.000000e00,\n",
    "                0.000000e00,\n",
    "                -2.060223e02,\n",
    "                5.647817e02,\n",
    "            ],\n",
    "            [\n",
    "                0.000000e00,\n",
    "                0.000000e00,\n",
    "                0.000000e00,\n",
    "                0.000000e00,\n",
    "                0.000000e00,\n",
    "                0.000000e00,\n",
    "            ],\n",
    "            [\n",
    "                0.000000e00,\n",
    "                0.000000e00,\n",
    "                0.000000e00,\n",
    "                0.000000e00,\n",
    "                0.000000e00,\n",
    "                0.000000e00,\n",
    "            ],\n",
    "            [\n",
    "                1.817289e02,\n",
    "                -2.060223e02,\n",
    "                0.000000e00,\n",
    "                0.000000e00,\n",
    "                1.451344e04,\n",
    "                1.209207e04,\n",
    "            ],\n",
    "            [\n",
    "                2.330331e02,\n",
    "                5.647817e02,\n",
    "                0.000000e00,\n",
    "                0.000000e00,\n",
    "                1.209207e04,\n",
    "                8.600466e04,\n",
    "            ],\n",
    "        ]\n",
    "    )\n",
    ")"
   ]
  }
 ],
 "metadata": {
  "kernelspec": {
   "display_name": "Python 3 (ipykernel)",
   "language": "python",
   "name": "python3"
  },
  "language_info": {
   "codemirror_mode": {
    "name": "ipython",
    "version": 3
   },
   "file_extension": ".py",
   "mimetype": "text/x-python",
   "name": "python",
   "nbconvert_exporter": "python",
   "pygments_lexer": "ipython3",
   "version": "3.10.8"
  },
  "toc": {
   "base_numbering": 1,
   "nav_menu": {},
   "number_sections": true,
   "sideBar": true,
   "skip_h1_title": false,
   "title_cell": "Table of Contents",
   "title_sidebar": "Contents",
   "toc_cell": false,
   "toc_position": {},
   "toc_section_display": true,
   "toc_window_display": false
  }
 },
 "nbformat": 4,
 "nbformat_minor": 4
}
