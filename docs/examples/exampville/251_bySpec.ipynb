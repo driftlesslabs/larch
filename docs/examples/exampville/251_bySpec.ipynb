{
 "cells": [
  {
   "cell_type": "code",
   "execution_count": null,
   "id": "f0c8de1c",
   "metadata": {},
   "outputs": [],
   "source": [
    "import os\n",
    "import numpy as np\n",
    "import pandas as pd \n",
    "import larch as lx\n",
    "from larch import P, X\n",
    "from addicty import Dict\n"
   ]
  },
  {
   "cell_type": "code",
   "execution_count": null,
   "id": "1e4acde5",
   "metadata": {},
   "outputs": [],
   "source": [
    "spec_content = \"\"\"expression,DA,SR,Walk,Bike,Transit\n",
    "AUTO_TIME,InVehTime,InVehTime,,,\n",
    "AUTO_COST,Cost,,,,\n",
    "AUTO_COST*0.5,,Cost,,,\n",
    "1,,ASC_SR,ASC_Walk,ASC_Bike,ASC_Transit\n",
    "log(INCOME),,LogIncome_SR,LogIncome_Walk,LogIncome_Bike,LogIncome_Transit\n",
    "WALK_TIME,,,NonMotorTime,,\n",
    "BIKE_TIME,,,,NonMotorTime,\n",
    "TRANSIT_IVTT,,,,,InVehTime\n",
    "TRANSIT_OVTT,,,,,OutVehTime\n",
    "TRANSIT_FARE,,,,,Cost\n",
    "\"\"\"\n",
    "\n",
    "from io import StringIO\n",
    "\n",
    "spec = pd.read_csv(StringIO(spec_content)).set_index('expression')\n",
    "spec"
   ]
  },
  {
   "cell_type": "code",
   "execution_count": null,
   "id": "7f79c467",
   "metadata": {},
   "outputs": [],
   "source": [
    "hh, pp, tour, skims = lx.example(200, ['hh', 'pp', 'tour', 'skims'])\n",
    "\n",
    "\n",
    "Mode = Dict(\n",
    "    DA = 1,\n",
    "    SR = 2,\n",
    "    Walk = 3,\n",
    "    Bike = 4,\n",
    "    Transit = 5,\n",
    ").freeze()\n",
    "#tour_dataset = lx.Dataset.construct.from_idco(tour.set_index('TOURID'), alts=Mode)\n",
    "tour_dataset = tour.set_index('TOURID')\n",
    "od_skims = lx.Dataset.construct.from_omx(skims)\n",
    "dt = lx.DataTree(\n",
    "    tour=tour_dataset,\n",
    "    hh=hh.set_index('HHID'),\n",
    "    person=pp.set_index('PERSONID'),\n",
    "    od=od_skims,\n",
    "    do=od_skims,\n",
    "    relationships=(\n",
    "        \"tours.HHID @ hh.HHID\",\n",
    "        \"tours.PERSONID @ person.PERSONID\",\n",
    "        \"hh.HOMETAZ @ od.otaz\",\n",
    "        \"tours.DTAZ @ od.dtaz\",\n",
    "        \"hh.HOMETAZ @ do.dtaz\",\n",
    "        \"tours.DTAZ @ do.otaz\",\n",
    "    ),\n",
    "    root_node_name=\"tour\",\n",
    ")"
   ]
  },
  {
   "cell_type": "code",
   "execution_count": null,
   "id": "d4f8f309",
   "metadata": {},
   "outputs": [],
   "source": [
    "spec.columns"
   ]
  },
  {
   "cell_type": "code",
   "execution_count": null,
   "id": "f4ae5830",
   "metadata": {},
   "outputs": [],
   "source": [
    "dt.set_altnames(spec.columns)"
   ]
  },
  {
   "cell_type": "code",
   "execution_count": null,
   "id": "c45ffa87",
   "metadata": {},
   "outputs": [],
   "source": [
    "dt.alts_name_to_id()"
   ]
  },
  {
   "cell_type": "code",
   "execution_count": null,
   "id": "d45c2423",
   "metadata": {},
   "outputs": [],
   "source": [
    "import larch.model.from_spec\n",
    "import importlib\n",
    "importlib.reload(larix.model.from_spec)\n",
    "from larch.model.from_spec import from_spec"
   ]
  },
  {
   "cell_type": "code",
   "execution_count": null,
   "id": "ec7518b4",
   "metadata": {},
   "outputs": [],
   "source": [
    "m = from_spec(lx.Model, spec, dt)"
   ]
  },
  {
   "cell_type": "code",
   "execution_count": null,
   "id": "c37792b6",
   "metadata": {},
   "outputs": [],
   "source": [
    "m.data_as_loaded"
   ]
  },
  {
   "cell_type": "code",
   "execution_count": null,
   "id": "8925b677",
   "metadata": {},
   "outputs": [],
   "source": [
    "#m.should_preload_data(True)"
   ]
  },
  {
   "cell_type": "code",
   "execution_count": null,
   "id": "68f80e21",
   "metadata": {},
   "outputs": [],
   "source": [
    "m.unmangle()"
   ]
  },
  {
   "cell_type": "code",
   "execution_count": null,
   "id": "95d0c1f1",
   "metadata": {},
   "outputs": [],
   "source": [
    "flow = m.dataflows['co']"
   ]
  },
  {
   "cell_type": "code",
   "execution_count": null,
   "id": "50b28e01",
   "metadata": {},
   "outputs": [],
   "source": [
    "m.probability()"
   ]
  },
  {
   "cell_type": "code",
   "execution_count": null,
   "id": "5d8df5d9",
   "metadata": {},
   "outputs": [],
   "source": [
    "m.probability()"
   ]
  },
  {
   "cell_type": "code",
   "execution_count": null,
   "id": "1ea1f650",
   "metadata": {},
   "outputs": [],
   "source": [
    "m.datatree = dt"
   ]
  },
  {
   "cell_type": "code",
   "execution_count": null,
   "id": "f4e15d08",
   "metadata": {},
   "outputs": [],
   "source": [
    "m.should_preload_data(True)"
   ]
  },
  {
   "cell_type": "code",
   "execution_count": null,
   "id": "0ac524b6",
   "metadata": {},
   "outputs": [],
   "source": [
    "m.reflow_data_arrays()"
   ]
  },
  {
   "cell_type": "code",
   "execution_count": null,
   "id": "5691138a",
   "metadata": {},
   "outputs": [],
   "source": [
    "m.dataset"
   ]
  },
  {
   "cell_type": "code",
   "execution_count": null,
   "id": "d2ed68c7",
   "metadata": {},
   "outputs": [],
   "source": [
    "%load_ext pyinstrument"
   ]
  },
  {
   "cell_type": "code",
   "execution_count": null,
   "id": "decd4471",
   "metadata": {},
   "outputs": [],
   "source": [
    "%%pyinstrument\n",
    "losum = []\n",
    "i = 0\n",
    "while i < dt.n_cases:\n",
    "    m.datatree = dt.slice_cases(i, i+30)\n",
    "    losum.append(m.probability())\n",
    "    i += 30"
   ]
  },
  {
   "cell_type": "code",
   "execution_count": null,
   "id": "2fd847be",
   "metadata": {},
   "outputs": [],
   "source": [
    "m.datatree = dt\n",
    "m.probability()"
   ]
  },
  {
   "cell_type": "code",
   "execution_count": null,
   "id": "e728da83",
   "metadata": {},
   "outputs": [],
   "source": [
    "m.dataset"
   ]
  },
  {
   "cell_type": "code",
   "execution_count": null,
   "id": "110248dc",
   "metadata": {},
   "outputs": [],
   "source": [
    "losum = []\n",
    "i = 0\n",
    "while i < dt.n_cases:\n",
    "    m.datatree = dt.slice_cases(i, i+30)\n",
    "    losum.append(m.probability())\n",
    "    i += 30"
   ]
  },
  {
   "cell_type": "code",
   "execution_count": null,
   "id": "693b3407",
   "metadata": {},
   "outputs": [],
   "source": [
    "m"
   ]
  },
  {
   "cell_type": "code",
   "execution_count": null,
   "id": "1ddf1c02",
   "metadata": {},
   "outputs": [],
   "source": [
    "dt.n_cases"
   ]
  },
  {
   "cell_type": "code",
   "execution_count": null,
   "id": "00bacad8",
   "metadata": {},
   "outputs": [],
   "source": [
    "m.logsums()"
   ]
  },
  {
   "cell_type": "code",
   "execution_count": null,
   "id": "7e523ed6",
   "metadata": {},
   "outputs": [],
   "source": [
    "m.pvals = {'Cost': -0.1, 'InVehTime': -0.2, 'ASC_Bike': 2.0}"
   ]
  },
  {
   "cell_type": "code",
   "execution_count": null,
   "id": "ecb36f3d",
   "metadata": {},
   "outputs": [],
   "source": [
    "m.pf"
   ]
  },
  {
   "cell_type": "code",
   "execution_count": null,
   "id": "eb4f5128",
   "metadata": {},
   "outputs": [],
   "source": []
  }
 ],
 "metadata": {
  "kernelspec": {
   "display_name": "Python 3 (ipykernel)",
   "language": "python",
   "name": "python3"
  },
  "language_info": {
   "codemirror_mode": {
    "name": "ipython",
    "version": 3
   },
   "file_extension": ".py",
   "mimetype": "text/x-python",
   "name": "python",
   "nbconvert_exporter": "python",
   "pygments_lexer": "ipython3",
   "version": "3.10.6"
  },
  "toc": {
   "base_numbering": 1,
   "nav_menu": {},
   "number_sections": false,
   "sideBar": true,
   "skip_h1_title": false,
   "title_cell": "Table of Contents",
   "title_sidebar": "Contents",
   "toc_cell": false,
   "toc_position": {},
   "toc_section_display": true,
   "toc_window_display": false
  }
 },
 "nbformat": 4,
 "nbformat_minor": 5
}
