{
 "cells": [
  {
   "cell_type": "markdown",
   "metadata": {},
   "source": [
    "# Model Analysis\n",
    "\n",
    "Larch includes several tools to support analysis of estimated model results."
   ]
  },
  {
   "cell_type": "markdown",
   "metadata": {},
   "source": [
    "## Analyze Predictions\n",
    "\n",
    "Larch includes methods to analyze model predictions across various dimensions.  The `analyze_predictions_co`\n",
    "method can be used to examine how well the model predicts choices against any available (or computable)\n",
    "attibute of the chooser.  For example, consider the basic example model for MTC mode choice:"
   ]
  },
  {
   "cell_type": "code",
   "execution_count": null,
   "metadata": {},
   "outputs": [],
   "source": [
    "import larch as lx\n",
    "\n",
    "m = lx.example(1)\n",
    "m.estimate(quiet=True)\n",
    "m.parameter_summary()"
   ]
  },
  {
   "cell_type": "markdown",
   "metadata": {},
   "source": [
    "This model includes a utility function that incorporates alternative specific constants, level of\n",
    "service variables (time and cost), as well as alternative-specific parameters to account for income.\n",
    "\n",
    "We may be interested in knowing how well the model predicts choices across various age levels. To\n",
    "see this, we can pass the \"age\" variable to `analyze_predictions_co`:"
   ]
  },
  {
   "cell_type": "code",
   "execution_count": null,
   "metadata": {},
   "outputs": [],
   "source": [
    "m.analyze_predictions_co(\"age\")"
   ]
  },
  {
   "cell_type": "markdown",
   "metadata": {},
   "source": [
    "This gives us a table of mode choices, segregated into five age categories. These \n",
    "categories were selected by the `pandas.qcut` functions to roughly divide the\n",
    "sample of observations into quintiles.  We can see the mean and standard deviation\n",
    "of the model predictions for each mode choice in each age group, as well as\n",
    "the actual observed count of choices in each group.  The `signif` column gives\n",
    "the level of significance of the difference between the predicted totals and\n",
    "the observed totals.  A small number in this column indicates that, assuming \n",
    "the model is correct, is would be very unlikely to actually collect the observed\n",
    "data.  We can see the very small significance values in the lowest age group\n",
    "are bold and highlighted in red, as these very small numbers are suggesting there\n",
    "is a problem in our model.\n",
    "\n",
    "We can also generate a figure to present this same information in a more\n",
    "visual representation, using `analyze_predictions_co_figure`."
   ]
  },
  {
   "cell_type": "code",
   "execution_count": null,
   "metadata": {},
   "outputs": [],
   "source": [
    "m.analyze_predictions_co_figure(\"age\")"
   ]
  }
 ],
 "metadata": {
  "kernelspec": {
   "display_name": "ESTER",
   "language": "python",
   "name": "python3"
  },
  "language_info": {
   "codemirror_mode": {
    "name": "ipython",
    "version": 3
   },
   "file_extension": ".py",
   "mimetype": "text/x-python",
   "name": "python",
   "nbconvert_exporter": "python",
   "pygments_lexer": "ipython3",
   "version": "3.10.15"
  }
 },
 "nbformat": 4,
 "nbformat_minor": 2
}
