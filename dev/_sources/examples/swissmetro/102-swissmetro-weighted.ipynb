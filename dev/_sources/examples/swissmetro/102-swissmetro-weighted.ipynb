{
 "cells": [
  {
   "cell_type": "markdown",
   "id": "0",
   "metadata": {},
   "source": [
    "# 102: Swissmetro Weighted MNL Mode Choice"
   ]
  },
  {
   "cell_type": "code",
   "execution_count": null,
   "id": "1",
   "metadata": {
    "tags": [
     "remove-cell"
    ]
   },
   "outputs": [],
   "source": [
    "# TEST\n",
    "\n",
    "import numpy as np\n",
    "import pandas as pd\n",
    "\n",
    "import larch\n",
    "\n",
    "pd.set_option(\"display.max_columns\", 999)\n",
    "pd.set_option(\"expand_frame_repr\", False)\n",
    "pd.set_option(\"display.precision\", 3)\n",
    "np.set_printoptions(precision=12)\n",
    "larch._doctest_mode_ = True\n",
    "import larch as lx"
   ]
  },
  {
   "cell_type": "code",
   "execution_count": null,
   "id": "2",
   "metadata": {},
   "outputs": [],
   "source": [
    "import pandas as pd\n",
    "\n",
    "import larch as lx"
   ]
  },
  {
   "cell_type": "markdown",
   "id": "3",
   "metadata": {},
   "source": [
    "This example is a mode choice model built using the Swissmetro example dataset.\n",
    "First we create the Dataset and Model objects:"
   ]
  },
  {
   "cell_type": "code",
   "execution_count": null,
   "id": "4",
   "metadata": {},
   "outputs": [],
   "source": [
    "raw_data = pd.read_csv(lx.example_file(\"swissmetro.csv.gz\")).rename_axis(index=\"CASEID\")\n",
    "data = lx.Dataset.construct.from_idco(raw_data, alts={1: \"Train\", 2: \"SM\", 3: \"Car\"})\n",
    "data"
   ]
  },
  {
   "cell_type": "markdown",
   "id": "5",
   "metadata": {},
   "source": [
    "The swissmetro example models exclude some observations.  We can use the \n",
    "`Dataset.query_cases` method to identify the observations we would like to keep."
   ]
  },
  {
   "cell_type": "code",
   "execution_count": null,
   "id": "6",
   "metadata": {},
   "outputs": [],
   "source": [
    "m = lx.Model(data.dc.query_cases(\"PURPOSE in (1,3) and CHOICE != 0\"))"
   ]
  },
  {
   "cell_type": "markdown",
   "id": "7",
   "metadata": {},
   "source": [
    "We can attach a title to the model. The title does not affect the calculations\n",
    "as all; it is merely used in various output report styles."
   ]
  },
  {
   "cell_type": "code",
   "execution_count": null,
   "id": "8",
   "metadata": {},
   "outputs": [],
   "source": [
    "m.title = \"swissmetro example 02 (weighted logit)\""
   ]
  },
  {
   "cell_type": "markdown",
   "id": "9",
   "metadata": {},
   "source": [
    "We need to identify the availability and choice variables."
   ]
  },
  {
   "cell_type": "code",
   "execution_count": null,
   "id": "10",
   "metadata": {},
   "outputs": [],
   "source": [
    "m.availability_co_vars = {\n",
    "    1: \"TRAIN_AV * (SP!=0)\",\n",
    "    2: \"SM_AV\",\n",
    "    3: \"CAR_AV * (SP!=0)\",\n",
    "}\n",
    "m.choice_co_code = \"CHOICE\""
   ]
  },
  {
   "cell_type": "markdown",
   "id": "11",
   "metadata": {},
   "source": [
    "This model adds a weighting factor."
   ]
  },
  {
   "cell_type": "code",
   "execution_count": null,
   "id": "12",
   "metadata": {},
   "outputs": [],
   "source": [
    "m.weight_co_var = \"1.0*(GROUP==2)+1.2*(GROUP==3)\""
   ]
  },
  {
   "cell_type": "markdown",
   "id": "13",
   "metadata": {},
   "source": [
    "The swissmetro dataset, as with all Biogeme data, is only in `co` format."
   ]
  },
  {
   "cell_type": "code",
   "execution_count": null,
   "id": "14",
   "metadata": {},
   "outputs": [],
   "source": [
    "from larch import P, X\n",
    "\n",
    "m.utility_co[1] = P(\"ASC_TRAIN\")\n",
    "m.utility_co[2] = 0\n",
    "m.utility_co[3] = P(\"ASC_CAR\")\n",
    "m.utility_co[1] += X(\"TRAIN_TT\") * P(\"B_TIME\")\n",
    "m.utility_co[2] += X(\"SM_TT\") * P(\"B_TIME\")\n",
    "m.utility_co[3] += X(\"CAR_TT\") * P(\"B_TIME\")\n",
    "m.utility_co[1] += X(\"TRAIN_CO*(GA==0)\") * P(\"B_COST\")\n",
    "m.utility_co[2] += X(\"SM_CO*(GA==0)\") * P(\"B_COST\")\n",
    "m.utility_co[3] += X(\"CAR_CO\") * P(\"B_COST\")"
   ]
  },
  {
   "cell_type": "markdown",
   "id": "15",
   "metadata": {},
   "source": [
    "Larch will find all the parameters in the model, but we'd like to output them in\n",
    "a rational order.  We can use the ordering method to do this:"
   ]
  },
  {
   "cell_type": "code",
   "execution_count": null,
   "id": "16",
   "metadata": {},
   "outputs": [],
   "source": [
    "m.ordering = [\n",
    "    (\n",
    "        \"ASCs\",\n",
    "        \"ASC.*\",\n",
    "    ),\n",
    "    (\n",
    "        \"LOS\",\n",
    "        \"B_.*\",\n",
    "    ),\n",
    "]"
   ]
  },
  {
   "cell_type": "code",
   "execution_count": null,
   "id": "17",
   "metadata": {
    "tags": [
     "remove-cell"
    ]
   },
   "outputs": [],
   "source": [
    "# TEST\n",
    "from pytest import approx\n",
    "\n",
    "assert m.loglike() == approx(-7892.111473285806)"
   ]
  },
  {
   "cell_type": "markdown",
   "id": "18",
   "metadata": {},
   "source": [
    "We can estimate the models and check the results match up with those given by Biogeme:"
   ]
  },
  {
   "cell_type": "code",
   "execution_count": null,
   "id": "19",
   "metadata": {},
   "outputs": [],
   "source": [
    "m.set_cap(15)\n",
    "result = m.maximize_loglike(method=\"SLSQP\")\n",
    "result"
   ]
  },
  {
   "cell_type": "code",
   "execution_count": null,
   "id": "20",
   "metadata": {
    "tags": [
     "remove-cell"
    ]
   },
   "outputs": [],
   "source": [
    "# TEST\n",
    "from pytest import approx\n",
    "\n",
    "assert result.loglike == approx(-5931.557677709527)"
   ]
  },
  {
   "cell_type": "code",
   "execution_count": null,
   "id": "21",
   "metadata": {},
   "outputs": [],
   "source": [
    "m.calculate_parameter_covariance()\n",
    "m.parameter_summary()"
   ]
  },
  {
   "cell_type": "code",
   "execution_count": null,
   "id": "22",
   "metadata": {
    "tags": [
     "remove-cell"
    ]
   },
   "outputs": [],
   "source": [
    "# TEST\n",
    "assert m.pvals == approx(\n",
    "    [-0.114834339145, -0.756969214206, -0.011197899961, -0.013210667574], rel=1e-2\n",
    ")\n",
    "assert m.pstderr == approx(\n",
    "    [0.040689138346, 0.052839270341, 0.000490421261, 0.000536780123], rel=1e-2\n",
    ")\n",
    "assert m.parameter_summary().data[\"t Stat\"].values.astype(float) == approx(\n",
    "    [-2.82, -14.33, -22.83, -24.61], rel=1e-2\n",
    ")\n",
    "assert m.parameter_summary().data[\"Signif\"].values == approx(\n",
    "    [\"**\", \"***\", \"***\", \"***\"]\n",
    ")"
   ]
  },
  {
   "cell_type": "markdown",
   "id": "23",
   "metadata": {},
   "source": [
    "Looks good!"
   ]
  },
  {
   "cell_type": "code",
   "execution_count": null,
   "id": "24",
   "metadata": {
    "tags": [
     "remove-cell"
    ]
   },
   "outputs": [],
   "source": [
    "# TEST numba\n",
    "m.compute_engine = \"numba\"\n",
    "m.pvals = 0\n",
    "m.clear_cache()\n",
    "assert m.loglike() == approx(-7892.111473285806)\n",
    "result_n = m.maximize_loglike(method=\"SLSQP\", quiet=True)\n",
    "assert m.pvals == approx(\n",
    "    [-0.114834339145, -0.756969214206, -0.011197899961, -0.013210667574], rel=1e-2\n",
    ")\n",
    "assert m.pstderr == approx(\n",
    "    [0.040689138346, 0.052839270341, 0.000490421261, 0.000536780123], rel=1e-3\n",
    ")\n",
    "assert m.parameter_summary().data[\"t Stat\"].values.astype(float) == approx(\n",
    "    [-2.82, -14.33, -22.83, -24.61], rel=1e-2\n",
    ")\n",
    "assert m.parameter_summary().data[\"Signif\"].values == approx(\n",
    "    [\"**\", \"***\", \"***\", \"***\"]\n",
    ")"
   ]
  }
 ],
 "metadata": {
  "kernelspec": {
   "display_name": "Python 3 (ipykernel)",
   "language": "python",
   "name": "python3"
  },
  "language_info": {
   "codemirror_mode": {
    "name": "ipython",
    "version": 3
   },
   "file_extension": ".py",
   "mimetype": "text/x-python",
   "name": "python",
   "nbconvert_exporter": "python",
   "pygments_lexer": "ipython3",
   "version": "3.10.14"
  },
  "toc": {
   "base_numbering": 1,
   "nav_menu": {},
   "number_sections": false,
   "sideBar": true,
   "skip_h1_title": false,
   "title_cell": "Table of Contents",
   "title_sidebar": "Contents",
   "toc_cell": false,
   "toc_position": {},
   "toc_section_display": true,
   "toc_window_display": false
  }
 },
 "nbformat": 4,
 "nbformat_minor": 5
}
