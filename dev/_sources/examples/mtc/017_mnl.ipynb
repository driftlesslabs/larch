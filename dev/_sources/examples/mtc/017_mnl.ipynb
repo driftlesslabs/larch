{
 "cells": [
  {
   "cell_type": "markdown",
   "id": "0",
   "metadata": {},
   "source": [
    "# 17: MTC Expanded MNL Mode Choice"
   ]
  },
  {
   "cell_type": "code",
   "execution_count": null,
   "id": "1",
   "metadata": {
    "tags": [
     "remove-cell"
    ]
   },
   "outputs": [],
   "source": [
    "# TEST\n",
    "import pandas as pd\n",
    "\n",
    "import larch as lx\n",
    "\n",
    "pd.set_option(\"display.max_columns\", 999)\n",
    "pd.set_option(\"expand_frame_repr\", False)\n",
    "pd.set_option(\"display.precision\", 3)"
   ]
  },
  {
   "cell_type": "markdown",
   "id": "2",
   "metadata": {},
   "source": [
    "For this example, we're going to re-create model 17 from the\n",
    "[Self Instructing Manual](http://www.caee.utexas.edu/prof/Bhat/COURSES/LM_Draft_060131Final-060630.pdf). (pp. 128)"
   ]
  },
  {
   "cell_type": "code",
   "execution_count": null,
   "id": "3",
   "metadata": {},
   "outputs": [],
   "source": [
    "import larch as lx\n",
    "\n",
    "lx.__version__"
   ]
  },
  {
   "cell_type": "code",
   "execution_count": null,
   "id": "4",
   "metadata": {},
   "outputs": [],
   "source": [
    "d = lx.examples.MTC()\n",
    "m = lx.Model(d, compute_engine=\"numba\")"
   ]
  },
  {
   "cell_type": "markdown",
   "id": "5",
   "metadata": {},
   "source": [
    "We will use the usual choice and availability variables."
   ]
  },
  {
   "cell_type": "code",
   "execution_count": null,
   "id": "6",
   "metadata": {},
   "outputs": [],
   "source": [
    "m.availability_ca_var = \"avail\"\n",
    "m.choice_ca_var = \"chose\""
   ]
  },
  {
   "cell_type": "code",
   "execution_count": null,
   "id": "7",
   "metadata": {},
   "outputs": [],
   "source": [
    "from larch import P, X\n",
    "\n",
    "m.utility_ca = (\n",
    "    +X(\"totcost/hhinc\") * P(\"costbyincome\")\n",
    "    + X(\"tottime * (altid <= 4)\") * P(\"motorized_time\")\n",
    "    + X(\"tottime * (altid >= 5)\") * P(\"nonmotorized_time\")\n",
    "    + X(\"ovtt/dist * (altid <= 4)\") * P(\"motorized_ovtbydist\")\n",
    ")"
   ]
  },
  {
   "cell_type": "markdown",
   "id": "8",
   "metadata": {},
   "source": [
    "The \"totcost/hhinc\" data is computed once as a new variable when loading the model data.\n",
    "The same applies for tottime filtered by motorized modes (we harness the convenient fact\n",
    "that all the motorized modes have identifying numbers 4 or less), and \"ovtt/dist\"."
   ]
  },
  {
   "cell_type": "code",
   "execution_count": null,
   "id": "9",
   "metadata": {},
   "outputs": [],
   "source": [
    "for a in [4, 5, 6]:\n",
    "    m.utility_co[a] += X(\"hhinc\") * P(f\"hhinc#{a}\")"
   ]
  },
  {
   "cell_type": "markdown",
   "id": "10",
   "metadata": {},
   "source": [
    "Since the model we want to create groups together DA, SR2 and SR3+ jointly as\n",
    "reference alternatives with respect to income, we can simply omit all of these alternatives\n",
    "from the block that applies to **hhinc**.\n",
    "\n",
    "For vehicles per worker, the preferred model include a joint parameter on SR2 and SR3+,\n",
    "but not including DA and not fixed at zero.  Here we might use a shadow_parameter (also\n",
    "called an alias in some places), which allows\n",
    "us to specify one or more parameters that are simply a fixed proportion of another parameter.\n",
    "For example, we can say that vehbywrk_SR2 will be equal to vehbywrk_SR."
   ]
  },
  {
   "cell_type": "code",
   "execution_count": null,
   "id": "11",
   "metadata": {},
   "outputs": [],
   "source": [
    "for i in d[\"alt_names\"][1:3]:\n",
    "    name = str(i.values)\n",
    "    a = int(i.altid)\n",
    "    m.utility_co[a] += (\n",
    "        +X(\"vehbywrk\") * P(\"vehbywrk_SR\")\n",
    "        + X(\"wkccbd+wknccbd\") * P(\"wkcbd_\" + name)\n",
    "        + X(\"wkempden\") * P(\"wkempden_\" + name)\n",
    "        + P(\"ASC_\" + name)\n",
    "    )\n",
    "\n",
    "for i in d[\"alt_names\"][3:]:\n",
    "    name = str(i.values)\n",
    "    a = int(i.altid)\n",
    "    m.utility_co[a] += (\n",
    "        +X(\"vehbywrk\") * P(\"vehbywrk_\" + name)\n",
    "        + X(\"wkccbd+wknccbd\") * P(\"wkcbd_\" + name)\n",
    "        + X(\"wkempden\") * P(\"wkempden_\" + name)\n",
    "        + P(\"ASC_\" + name)\n",
    "    )"
   ]
  },
  {
   "cell_type": "markdown",
   "id": "12",
   "metadata": {},
   "source": [
    "We didn't explicitly define our parameters first, which is fine; Larch will\n",
    "find them in the utility functions (or elsewhere in more complex models).\n",
    "But they may be found in a weird order that is hard to read in reports.\n",
    "We can define an ordering scheme by assigning to the parameter_groups attribute,\n",
    "like this:"
   ]
  },
  {
   "cell_type": "code",
   "execution_count": null,
   "id": "13",
   "metadata": {},
   "outputs": [],
   "source": [
    "m.ordering = (\n",
    "    (\n",
    "        \"LOS\",\n",
    "        \".*cost.*\",\n",
    "        \".*time.*\",\n",
    "        \".*dist.*\",\n",
    "    ),\n",
    "    (\n",
    "        \"Zonal\",\n",
    "        \"wkcbd.*\",\n",
    "        \"wkempden.*\",\n",
    "    ),\n",
    "    (\n",
    "        \"Household\",\n",
    "        \"hhinc.*\",\n",
    "        \"vehbywrk.*\",\n",
    "    ),\n",
    "    (\n",
    "        \"ASCs\",\n",
    "        \"ASC.*\",\n",
    "    ),\n",
    ")\n",
    "m.set_cap(25)"
   ]
  },
  {
   "cell_type": "markdown",
   "id": "14",
   "metadata": {},
   "source": [
    "Each item in parameter_ordering is a tuple, with a label and one or more regular expressions,\n",
    "which will be compared against\n",
    "all the parameter names.  Any names that match will be pulled out and put into the\n",
    "reporting order sequentially.  Thus if a parameter name would match more than one\n",
    "regex, it will appear in the ordering only for the first match.\n",
    "\n",
    "\n",
    "Having created this model, we can then estimate it:"
   ]
  },
  {
   "cell_type": "code",
   "execution_count": null,
   "id": "15",
   "metadata": {},
   "outputs": [],
   "source": [
    "result = m.maximize_loglike(stderr=True, options={\"maxiter\": 1000, \"ftol\": 1e-10})"
   ]
  },
  {
   "cell_type": "markdown",
   "id": "16",
   "metadata": {},
   "source": [
    "*Note we have set the convergence tolerance to be excessively strict here to ensure\n",
    "that the optimization results remain steady across platforms with different default settings.*"
   ]
  },
  {
   "cell_type": "code",
   "execution_count": null,
   "id": "17",
   "metadata": {
    "tags": [
     "remove-cell"
    ]
   },
   "outputs": [],
   "source": [
    "# TEST\n",
    "r = result\n",
    "from pytest import approx\n",
    "\n",
    "assert r.loglike == approx(-3444.185105027836)\n",
    "assert r.n_cases == 5029\n",
    "assert \"success\" in r.message.lower()"
   ]
  },
  {
   "cell_type": "code",
   "execution_count": null,
   "id": "18",
   "metadata": {
    "tags": [
     "remove-cell"
    ]
   },
   "outputs": [],
   "source": [
    "# TEST\n",
    "revealed_x = dict(zip(m.pnames, r.x))\n",
    "expected_x = {\n",
    "    \"ASC_Bike\": -1.6262943624447215,\n",
    "    \"ASC_SR2\": -1.8079290469266305,\n",
    "    \"ASC_SR3+\": -3.4332103811742303,\n",
    "    \"ASC_Transit\": -0.6885545098242597,\n",
    "    \"ASC_Walk\": 0.0726870281895153,\n",
    "    \"costbyincome\": -0.05237387934320275,\n",
    "    \"hhinc#4\": -0.005305496592916417,\n",
    "    \"hhinc#5\": -0.008655283203651252,\n",
    "    \"hhinc#6\": -0.006001173483271529,\n",
    "    \"motorized_ovtbydist\": -0.13278580524985106,\n",
    "    \"motorized_time\": -0.02016680241721925,\n",
    "    \"nonmotorized_time\": -0.045501011178961354,\n",
    "    \"vehbywrk_Bike\": -0.7029295169096494,\n",
    "    \"vehbywrk_SR\": -0.3164671378998241,\n",
    "    \"vehbywrk_Transit\": -0.9453446457215215,\n",
    "    \"vehbywrk_Walk\": -0.7216758952894061,\n",
    "    \"wkcbd_Bike\": 0.49873916547630665,\n",
    "    \"wkcbd_SR2\": 0.2592843053485899,\n",
    "    \"wkcbd_SR3+\": 1.0671968496505624,\n",
    "    \"wkcbd_Transit\": 1.3098935436679964,\n",
    "    \"wkcbd_Walk\": 0.09596819068963038,\n",
    "    \"wkempden_Bike\": 0.0019099447823146232,\n",
    "    \"wkempden_SR2\": 0.0015784089844443042,\n",
    "    \"wkempden_SR3+\": 0.002259029274882882,\n",
    "    \"wkempden_Transit\": 0.0031323024172347728,\n",
    "    \"wkempden_Walk\": 0.002898970912944004,\n",
    "}\n",
    "for k in expected_x:\n",
    "    assert revealed_x[k] == approx(\n",
    "        expected_x[k], 2e-2\n",
    "    ), f\"{k}, {revealed_x[k]/expected_x[k]}\""
   ]
  },
  {
   "cell_type": "code",
   "execution_count": null,
   "id": "19",
   "metadata": {},
   "outputs": [],
   "source": [
    "m.parameter_summary()"
   ]
  }
 ],
 "metadata": {
  "kernelspec": {
   "display_name": "Python 3 (ipykernel)",
   "language": "python",
   "name": "python3"
  },
  "language_info": {
   "codemirror_mode": {
    "name": "ipython",
    "version": 3
   },
   "file_extension": ".py",
   "mimetype": "text/x-python",
   "name": "python",
   "nbconvert_exporter": "python",
   "pygments_lexer": "ipython3",
   "version": "3.10.14"
  },
  "toc": {
   "base_numbering": 1,
   "nav_menu": {},
   "number_sections": false,
   "sideBar": true,
   "skip_h1_title": false,
   "title_cell": "Table of Contents",
   "title_sidebar": "Contents",
   "toc_cell": false,
   "toc_position": {},
   "toc_section_display": true,
   "toc_window_display": false
  }
 },
 "nbformat": 4,
 "nbformat_minor": 5
}
