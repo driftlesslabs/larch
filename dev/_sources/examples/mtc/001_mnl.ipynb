{
 "cells": [
  {
   "cell_type": "markdown",
   "id": "0",
   "metadata": {
    "pycharm": {
     "name": "#%% md\n"
    }
   },
   "source": [
    "# 1: MTC MNL Mode Choice"
   ]
  },
  {
   "cell_type": "code",
   "execution_count": null,
   "id": "1",
   "metadata": {
    "pycharm": {
     "name": "#%%\n"
    },
    "tags": [
     "remove-output"
    ]
   },
   "outputs": [],
   "source": [
    "import pandas as pd\n",
    "\n",
    "import larch as lx"
   ]
  },
  {
   "cell_type": "code",
   "execution_count": null,
   "id": "2",
   "metadata": {
    "pycharm": {
     "name": "#%%\n"
    },
    "tags": [
     "remove-cell"
    ]
   },
   "outputs": [],
   "source": [
    "# TEST\n",
    "pd.set_option(\"display.max_columns\", 999)\n",
    "pd.set_option(\"expand_frame_repr\", False)\n",
    "pd.set_option(\"display.precision\", 3)\n",
    "from pytest import approx"
   ]
  },
  {
   "cell_type": "markdown",
   "id": "3",
   "metadata": {
    "pycharm": {
     "name": "#%% md\n"
    }
   },
   "source": [
    "This example is a mode choice model built using the MTC example dataset.\n",
    "First we create the Dataset and Model objects:"
   ]
  },
  {
   "cell_type": "code",
   "execution_count": null,
   "id": "4",
   "metadata": {
    "pycharm": {
     "name": "#%%\n"
    }
   },
   "outputs": [],
   "source": [
    "d = lx.examples.MTC(format=\"dataset\")\n",
    "d"
   ]
  },
  {
   "cell_type": "code",
   "execution_count": null,
   "id": "5",
   "metadata": {
    "pycharm": {
     "name": "#%%\n"
    }
   },
   "outputs": [],
   "source": [
    "m = lx.Model(d)"
   ]
  },
  {
   "cell_type": "code",
   "execution_count": null,
   "id": "6",
   "metadata": {
    "jupyter": {
     "outputs_hidden": false
    },
    "tags": [
     "remove-cell"
    ]
   },
   "outputs": [],
   "source": [
    "# TEST\n",
    "# for this demo, we'll use the JAX compute engine.\n",
    "# This is not the default if JAX is not installed, so we need to set it explicitly,\n",
    "# and we'll also test that it is set correctly, affirming JAX is installed.\n",
    "m.compute_engine = \"jax\"\n",
    "assert m.compute_engine == \"jax\""
   ]
  },
  {
   "cell_type": "markdown",
   "id": "7",
   "metadata": {
    "pycharm": {
     "name": "#%% md\n"
    }
   },
   "source": [
    "Then we can build up the utility function.  We'll use some :ref:`idco` data first, using\n",
    "the `Model.utility.co` attribute.  This attribute is a dict-like object, to which\n",
    "we can assign :class:`LinearFunction` objects for each alternative code."
   ]
  },
  {
   "cell_type": "code",
   "execution_count": null,
   "id": "8",
   "metadata": {
    "pycharm": {
     "name": "#%%\n"
    }
   },
   "outputs": [],
   "source": [
    "from larch import PX, P, X\n",
    "\n",
    "m.utility_co[2] = P(\"ASC_SR2\") + P(\"hhinc#2\") * X(\"hhinc\")\n",
    "m.utility_co[3] = P(\"ASC_SR3P\") + P(\"hhinc#3\") * X(\"hhinc\")\n",
    "m.utility_co[4] = P(\"ASC_TRAN\") + P(\"hhinc#4\") * X(\"hhinc\")\n",
    "m.utility_co[5] = P(\"ASC_BIKE\") + P(\"hhinc#5\") * X(\"hhinc\")\n",
    "m.utility_co[6] = P(\"ASC_WALK\") + P(\"hhinc#6\") * X(\"hhinc\")"
   ]
  },
  {
   "cell_type": "markdown",
   "id": "9",
   "metadata": {
    "pycharm": {
     "name": "#%% md\n"
    }
   },
   "source": [
    "Next we'll use some idca data, with the `utility_ca` attribute. This attribute\n",
    "is only a single :class:`LinearFunction` that is applied across all alternatives\n",
    "using :ref:`idca` data.  Because the data is structured to vary across alternatives,\n",
    "the parameters (and thus the structure of the :class:`LinearFunction`) does not need\n",
    "to vary across alternatives."
   ]
  },
  {
   "cell_type": "code",
   "execution_count": null,
   "id": "10",
   "metadata": {
    "pycharm": {
     "name": "#%%\n"
    }
   },
   "outputs": [],
   "source": [
    "m.utility_ca = PX(\"tottime\") + PX(\"totcost\")"
   ]
  },
  {
   "cell_type": "markdown",
   "id": "11",
   "metadata": {
    "pycharm": {
     "name": "#%% md\n"
    }
   },
   "source": [
    "Lastly, we need to identify :ref:`idca` data that gives the availability for each\n",
    "alternative, as well as the number of times each alternative is chosen. (In traditional\n",
    "discrete choice analysis, this is often 0 or 1, but it need not be binary, or even integral.)"
   ]
  },
  {
   "cell_type": "code",
   "execution_count": null,
   "id": "12",
   "metadata": {
    "pycharm": {
     "name": "#%%\n"
    }
   },
   "outputs": [],
   "source": [
    "m.availability_ca_var = \"avail\"\n",
    "m.choice_ca_var = \"chose\""
   ]
  },
  {
   "cell_type": "markdown",
   "id": "13",
   "metadata": {
    "pycharm": {
     "name": "#%% md\n"
    }
   },
   "source": [
    "And let's give our model a descriptive title."
   ]
  },
  {
   "cell_type": "code",
   "execution_count": null,
   "id": "14",
   "metadata": {
    "pycharm": {
     "name": "#%%\n"
    }
   },
   "outputs": [],
   "source": [
    "m.title = \"MTC Example 1 (Simple MNL)\""
   ]
  },
  {
   "cell_type": "markdown",
   "id": "15",
   "metadata": {
    "pycharm": {
     "name": "#%% md\n"
    }
   },
   "source": [
    "We can view a summary of the choices and alternative \n",
    "availabilities to make sure the model is set up \n",
    "correctly."
   ]
  },
  {
   "cell_type": "code",
   "execution_count": null,
   "id": "16",
   "metadata": {},
   "outputs": [],
   "source": [
    "m.choice_avail_summary()"
   ]
  },
  {
   "cell_type": "code",
   "execution_count": null,
   "id": "17",
   "metadata": {
    "tags": [
     "remove-cell"
    ]
   },
   "outputs": [],
   "source": [
    "# TEST\n",
    "buffer = (\n",
    "    b\"\\x80\\x05\\x95\\xba\\x05\\x00\\x00\\x00\\x00\\x00\\x00\\x8c\\x11pandas.core.frame\"\n",
    "    b\"\\x94\\x8c\\tDataFrame\\x94\\x93\\x94)\\x81\\x94}\\x94(\\x8c\\x04_mgr\\x94\\x8c\\x1e\"\n",
    "    b\"pandas.core.internals.managers\\x94\\x8c\\x0cBlockManager\\x94\\x93\\x94\\x8c\"\n",
    "    b\"\\x16pandas._libs.internals\\x94\\x8c\\x0f_unpickle_block\\x94\\x93\\x94\\x8c\"\n",
    "    b\"\\x15numpy.core.multiarray\\x94\\x8c\\x0c_reconstruct\\x94\\x93\\x94\\x8c\\x05\"\n",
    "    b\"numpy\\x94\\x8c\\x07ndarray\\x94\\x93\\x94K\\x00\\x85\\x94C\\x01b\\x94\\x87\\x94R\"\n",
    "    b\"\\x94(K\\x01K\\x01K\\x07\\x86\\x94h\\x0f\\x8c\\x05dtype\\x94\\x93\\x94\\x8c\\x02O8\"\n",
    "    b\"\\x94\\x89\\x88\\x87\\x94R\\x94(K\\x03\\x8c\\x01|\\x94NNNJ\\xff\\xff\\xff\\xffJ\\xff\"\n",
    "    b\"\\xff\\xff\\xffK?t\\x94b\\x89]\\x94(h\\x0c\\x8c\\x06scalar\\x94\\x93\\x94h\\x18\\x8c\"\n",
    "    b\"\\x02U2\\x94\\x89\\x88\\x87\\x94R\\x94(K\\x03\\x8c\\x01<\\x94NNNK\\x08K\\x04K\\x08t\"\n",
    "    b\"\\x94bC\\x08D\\x00\\x00\\x00A\\x00\\x00\\x00\\x94\\x86\\x94R\\x94h h\\x18\\x8c\\x02U3\"\n",
    "    b\"\\x94\\x89\\x88\\x87\\x94R\\x94(K\\x03h$NNNK\\x0cK\\x04K\\x08t\\x94bC\\x0cS\\x00\\x00\"\n",
    "    b\"\\x00R\\x00\\x00\\x002\\x00\\x00\\x00\\x94\\x86\\x94R\\x94h h\\x18\\x8c\\x02U4\\x94\"\n",
    "    b\"\\x89\\x88\\x87\\x94R\\x94(K\\x03h$NNNK\\x10K\\x04K\\x08t\\x94bC\\x10S\\x00\\x00\\x00R\"\n",
    "    b\"\\x00\\x00\\x003\\x00\\x00\\x00+\\x00\\x00\\x00\\x94\\x86\\x94R\\x94h h\\x18\\x8c\"\n",
    "    b\"\\x02U7\\x94\\x89\\x88\\x87\\x94R\\x94(K\\x03h$NNNK\\x1cK\\x04K\\x08t\\x94bC\\x1cT\"\n",
    "    b\"\\x00\\x00\\x00r\\x00\\x00\\x00a\\x00\\x00\\x00n\\x00\\x00\\x00s\\x00\\x00\\x00i\\x00\"\n",
    "    b\"\\x00\\x00t\\x00\\x00\\x00\\x94\\x86\\x94R\\x94h h\\x18\\x8c\\x02U4\\x94\\x89\\x88\\x87\"\n",
    "    b\"\\x94R\\x94(K\\x03h$NNNK\\x10K\\x04K\\x08t\\x94bC\\x10B\\x00\\x00\\x00i\\x00\\x00\"\n",
    "    b\"\\x00k\\x00\\x00\\x00e\\x00\\x00\\x00\\x94\\x86\\x94R\\x94h h\\x18\\x8c\\x02U4\\x94\"\n",
    "    b\"\\x89\\x88\\x87\\x94R\\x94(K\\x03h$NNNK\\x10K\\x04K\\x08t\\x94bC\\x10W\\x00\\x00\"\n",
    "    b\"\\x00a\\x00\\x00\\x00l\\x00\\x00\\x00k\\x00\\x00\\x00\\x94\\x86\\x94R\\x94\\x8c\\x00\"\n",
    "    b\"\\x94et\\x94b\\x8c\\x08builtins\\x94\\x8c\\x05slice\\x94\\x93\\x94K\\x00K\\x01K\\x01\"\n",
    "    b\"\\x87\\x94R\\x94K\\x02\\x87\\x94R\\x94h\\x0b\\x8c\\x12numpy.core.numeric\\x94\\x8c\"\n",
    "    b\"\\x0b_frombuffer\\x94\\x93\\x94(\\x968\\x00\\x00\\x00\\x00\\x00\\x00\\x005\\x0e\\x00\"\n",
    "    b\"\\x00\\x00\\x00\\x00\\x00\\x05\\x02\\x00\\x00\\x00\\x00\\x00\\x00\\xa1\\x00\\x00\\x00\"\n",
    "    b\"\\x00\\x00\\x00\\x00\\xf2\\x01\\x00\\x00\\x00\\x00\\x00\\x002\\x00\\x00\\x00\\x00\\x00\"\n",
    "    b\"\\x00\\x00\\xa6\\x00\\x00\\x00\\x00\\x00\\x00\\x00\\xa5\\x13\\x00\\x00\\x00\\x00\\x00\"\n",
    "    b\"\\x00\\x94h\\x18\\x8c\\x02i8\\x94\\x89\\x88\\x87\\x94R\\x94(K\\x03h$NNNJ\\xff\\xff\"\n",
    "    b\"\\xff\\xffJ\\xff\\xff\\xff\\xffK\\x00t\\x94bK\\x01K\\x07\\x86\\x94\\x8c\\x01C\\x94t\"\n",
    "    b\"\\x94R\\x94hPK\\x01K\\x02K\\x01\\x87\\x94R\\x94K\\x02\\x87\\x94R\\x94h\\x0b\\x8c\\x1a\"\n",
    "    b\"pandas.core.arrays.integer\\x94\\x8c\\x0cIntegerArray\\x94\\x93\\x94)\\x81\\x94}\"\n",
    "    b\"\\x94(\\x8c\\x05_data\\x94hW(\\x968\\x00\\x00\\x00\\x00\\x00\\x00\\x00\\x93\\x12\\x00\"\n",
    "    b\"\\x00\\x00\\x00\\x00\\x00\\xa5\\x13\\x00\\x00\\x00\\x00\\x00\\x00\\xa5\\x13\\x00\\x00\\x00\"\n",
    "    b\"\\x00\\x00\\x00\\xa3\\x0f\\x00\\x00\\x00\\x00\\x00\\x00\\xca\\x06\\x00\\x00\\x00\\x00\\x00\"\n",
    "    b\"\\x00\\xc7\\x05\\x00\\x00\\x00\\x00\\x00\\x00\\x01\\x00\\x00\\x00\\x00\\x00\\x00\\x00\\x94\"\n",
    "    b\"h[K\\x07\\x85\\x94h^t\\x94R\\x94\\x8c\\x05_mask\\x94hW(\\x96\\x07\\x00\\x00\\x00\\x00\"\n",
    "    b\"\\x00\\x00\\x00\\x00\\x00\\x00\\x00\\x00\\x00\\x01\\x94h\\x18\\x8c\\x02b1\\x94\\x89\\x88\"\n",
    "    b\"\\x87\\x94R\\x94(K\\x03h\\x1cNNNJ\\xff\\xff\\xff\\xffJ\\xff\\xff\\xff\\xffK\\x00t\\x94bK\"\n",
    "    b\"\\x07\\x85\\x94h^t\\x94R\\x94\\x8c\\x06_cache\\x94}\\x94\\x8c\\x05dtype\\x94he\\x8c\\n\"\n",
    "    b\"Int64Dtype\\x94\\x93\\x94)\\x81\\x94}\\x94hx}\\x94(\\x8c\\x0bnumpy_dtype\\x94h[\\x8c\"\n",
    "    b\"\\x04kind\\x94\\x8c\\x01i\\x94usbsubhPK\\x02K\\x03K\\x01\\x87\\x94R\\x94K\\x02\\x87\"\n",
    "    b\"\\x94R\\x94\\x87\\x94]\\x94(\\x8c\\x18pandas.core.indexes.base\\x94\\x8c\\n_new_Index\"\n",
    "    b\"\\x94\\x93\\x94h\\x89\\x8c\\x05Index\\x94\\x93\\x94}\\x94(\\x8c\\x04data\\x94h\\x0eh\"\n",
    "    b\"\\x11K\\x00\\x85\\x94h\\x13\\x87\\x94R\\x94(K\\x01K\\x03\\x85\\x94h\\x1b\\x89]\\x94(\\x8c\"\n",
    "    b\"\\x04name\\x94\\x8c\\x06chosen\\x94\\x8c\\tavailable\\x94et\\x94bh\\x95Nu\\x86\\x94R\"\n",
    "    b\"\\x94h\\x8bh\\x8d}\\x94(h\\x8fh\\x0eh\\x11K\\x00\\x85\\x94h\\x13\\x87\\x94R\\x94(K\\x01K\"\n",
    "    b\"\\x07\\x85\\x94h\\x1b\\x89]\\x94(K\\x01K\\x02K\\x03K\\x04K\\x05K\\x06\\x8c\\x1a< Total \"\n",
    "    b\"All Alternatives >\\x94et\\x94bh\\x95Nu\\x86\\x94R\\x94e\\x86\\x94R\\x94\\x8c\\x04_\"\n",
    "    b\"typ\\x94\\x8c\\tdataframe\\x94\\x8c\\t_metadata\\x94]\\x94\\x8c\\x05attrs\\x94}\\x94\"\n",
    "    b\"\\x8c\\x06_flags\\x94}\\x94\\x8c\\x17allows_duplicate_labels\\x94\\x88sub.\"\n",
    ")\n",
    "import io\n",
    "\n",
    "pd.testing.assert_frame_equal(\n",
    "    pd.read_pickle(io.BytesIO(buffer)),\n",
    "    m.choice_avail_summary(),\n",
    ")"
   ]
  },
  {
   "cell_type": "markdown",
   "id": "18",
   "metadata": {
    "pycharm": {
     "name": "#%% md\n"
    }
   },
   "source": [
    "We'll set a parameter cap (bound) at +/- 20, which helps improve the \n",
    "numerical stability of the optimization algorithm used in estimation."
   ]
  },
  {
   "cell_type": "code",
   "execution_count": null,
   "id": "19",
   "metadata": {
    "pycharm": {
     "name": "#%%\n"
    }
   },
   "outputs": [],
   "source": [
    "m.set_cap(20)"
   ]
  },
  {
   "cell_type": "markdown",
   "id": "20",
   "metadata": {
    "pycharm": {
     "name": "#%% md\n"
    }
   },
   "source": [
    "Having created this model, we can then estimate it:"
   ]
  },
  {
   "cell_type": "code",
   "execution_count": null,
   "id": "21",
   "metadata": {
    "pycharm": {
     "name": "#%%\n"
    },
    "tags": [
     "remove-cell"
    ]
   },
   "outputs": [],
   "source": [
    "# TEST\n",
    "assert dict(m.required_data()) == {\n",
    "    \"ca\": [\"totcost\", \"tottime\"],\n",
    "    \"co\": [\"hhinc\"],\n",
    "    \"choice_ca\": \"chose\",\n",
    "    \"avail_ca\": \"avail\",\n",
    "}\n",
    "assert m.loglike() == approx(-7309.600971749634)"
   ]
  },
  {
   "cell_type": "code",
   "execution_count": null,
   "id": "22",
   "metadata": {
    "pycharm": {
     "name": "#%%\n"
    },
    "tags": [
     "remove-cell"
    ]
   },
   "outputs": [],
   "source": [
    "# TEST\n",
    "assert m.compute_engine == \"jax\""
   ]
  },
  {
   "cell_type": "code",
   "execution_count": null,
   "id": "23",
   "metadata": {
    "pycharm": {
     "name": "#%%\n"
    }
   },
   "outputs": [],
   "source": [
    "result = m.maximize_loglike(stderr=True)"
   ]
  },
  {
   "cell_type": "code",
   "execution_count": null,
   "id": "24",
   "metadata": {
    "pycharm": {
     "name": "#%%\n"
    },
    "tags": [
     "remove-cell"
    ]
   },
   "outputs": [],
   "source": [
    "# TEST\n",
    "assert result.loglike == approx(-3626.18625551293)\n",
    "assert result.logloss == approx(0.7210551313408093)\n",
    "assert result.message == \"Optimization terminated successfully\"\n",
    "assert m.total_weight() == 5029.0"
   ]
  },
  {
   "cell_type": "code",
   "execution_count": null,
   "id": "25",
   "metadata": {
    "pycharm": {
     "name": "#%%\n"
    }
   },
   "outputs": [],
   "source": [
    "m.parameter_summary()"
   ]
  },
  {
   "cell_type": "markdown",
   "id": "26",
   "metadata": {
    "pycharm": {
     "name": "#%% md\n"
    }
   },
   "source": [
    "It is a little tough to read this report because the parameters show up \n",
    "in alphabetical order.\n",
    "We can use the reorder method to fix this and group them systematically:"
   ]
  },
  {
   "cell_type": "code",
   "execution_count": null,
   "id": "27",
   "metadata": {
    "pycharm": {
     "name": "#%%\n"
    }
   },
   "outputs": [],
   "source": [
    "m.ordering = (\n",
    "    (\n",
    "        \"LOS\",\n",
    "        \"totcost\",\n",
    "        \"tottime\",\n",
    "    ),\n",
    "    (\n",
    "        \"ASCs\",\n",
    "        \"ASC.*\",\n",
    "    ),\n",
    "    (\n",
    "        \"Income\",\n",
    "        \"hhinc.*\",\n",
    "    ),\n",
    ")"
   ]
  },
  {
   "cell_type": "code",
   "execution_count": null,
   "id": "28",
   "metadata": {
    "pycharm": {
     "name": "#%%\n"
    }
   },
   "outputs": [],
   "source": [
    "m.parameter_summary()"
   ]
  },
  {
   "cell_type": "code",
   "execution_count": null,
   "id": "29",
   "metadata": {},
   "outputs": [],
   "source": [
    "m.estimation_statistics()"
   ]
  },
  {
   "cell_type": "code",
   "execution_count": null,
   "id": "30",
   "metadata": {
    "tags": [
     "remove-cell"
    ]
   },
   "outputs": [],
   "source": [
    "# TEST\n",
    "es = m.estimation_statistics()\n",
    "assert es[0][1][0][1].text == \"5029\"\n",
    "assert \"|\".join(i.text for i in es[0][1][0]) == \"Number of Cases|5029\"\n",
    "assert (\n",
    "    \"|\".join(i.text for i in es[0][1][1])\n",
    "    == \"Log Likelihood at Convergence|-3626.19|-0.72\"\n",
    ")\n",
    "assert (\n",
    "    \"|\".join(i.text for i in es[0][1][2])\n",
    "    == \"Log Likelihood at Null Parameters|-7309.60|-1.45\"\n",
    ")\n",
    "assert (\n",
    "    \"|\".join(i.text for i in es[0][1][3]) == \"Rho Squared w.r.t. Null Parameters|0.504\"\n",
    ")"
   ]
  }
 ],
 "metadata": {
  "kernelspec": {
   "display_name": "Python 3 (ipykernel)",
   "language": "python",
   "name": "python3"
  },
  "language_info": {
   "codemirror_mode": {
    "name": "ipython",
    "version": 3
   },
   "file_extension": ".py",
   "mimetype": "text/x-python",
   "name": "python",
   "nbconvert_exporter": "python",
   "pygments_lexer": "ipython3",
   "version": "3.10.6"
  },
  "toc": {
   "base_numbering": 1,
   "nav_menu": {},
   "number_sections": false,
   "sideBar": true,
   "skip_h1_title": false,
   "title_cell": "Table of Contents",
   "title_sidebar": "Contents",
   "toc_cell": false,
   "toc_position": {},
   "toc_section_display": true,
   "toc_window_display": false
  }
 },
 "nbformat": 4,
 "nbformat_minor": 5
}
