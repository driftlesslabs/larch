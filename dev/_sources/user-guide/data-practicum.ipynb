{
 "cells": [
  {
   "cell_type": "markdown",
   "id": "0",
   "metadata": {},
   "source": [
    "# Data in Larch\n",
    "\n",
    "A `larch.Model` works with data in two stages: the `datatree` and the `dataset`.\n",
    "The higher level of data organization is the `datatree`. This represents the \n",
    "data in close to its \"raw\" form, as it is read in from the data file(s). This \n",
    "can be a simple table of data that is entirely in |idca| (tall) or |idco| (wide) \n",
    "format, or it can be a collection of related tables and datasets (e.g. households,\n",
    "persons, tours, trips, skims, etc.).  It is generally reasonable to assemble \n",
    "whatever data sources you have into a single `datatree` object, and then reference\n",
    "against this object when building a discrete choice `Model` with larch.\n",
    "\n",
    "The lower level of data organization is the `dataset`. This is a single \n",
    ":class:`xarray.Dataset` that is used in model estimation and application. The\n",
    "`dataset` is built from the `datatree` by selecting the data that is needed for\n",
    "a particular model, and then transforming it into the format that is required\n",
    "for the estimation or application of that model.  All of this is generally done\n",
    "automatically by larch, so most users will never need to see or interact with\n",
    "the `dataset` object directly.  Moreover, the `dataset` is generally not saved\n",
    "to disk, and will be recreated from the `datatree` whenever it is needed, or \n",
    "whenever the model structure is changed in any relevant way."
   ]
  },
  {
   "cell_type": "code",
   "execution_count": null,
   "id": "1",
   "metadata": {
    "tags": [
     "hide-cell",
     "remove-output",
     "remove-cell"
    ]
   },
   "outputs": [],
   "source": [
    "import larch as lx"
   ]
  },
  {
   "cell_type": "code",
   "execution_count": null,
   "id": "2",
   "metadata": {},
   "outputs": [],
   "source": [
    "import pandas as pd\n",
    "\n",
    "import larch as lx"
   ]
  },
  {
   "cell_type": "markdown",
   "id": "3",
   "metadata": {},
   "source": [
    "## Simple Datatrees\n",
    "\n",
    "The [`datatree`](larch.Model.datatree) at its simplest is initialized from \n",
    "as simple pandas DataFrame, which can be either [idca](idca) (tall) or \n",
    "[idco](idco) (wide) format.  A simple [`datatree`](larch.Model.datatree) like \n",
    "this can be created with the appropriate constructor.\n",
    "\n",
    "### Example [idco](idco) data\n",
    "\n",
    "Here is a simple example of [idco](idco) data, which is a table of data with one row\n",
    "per case, and one column per variable.  This data can easily be read from a CSV\n",
    "and expressed as a pandas DataFrame with a simple one-level index."
   ]
  },
  {
   "cell_type": "code",
   "execution_count": null,
   "id": "4",
   "metadata": {},
   "outputs": [],
   "source": [
    "data_co = pd.read_csv(\"example-data/tiny_idco.csv\", index_col=\"caseid\")\n",
    "data_co"
   ]
  },
  {
   "cell_type": "markdown",
   "id": "5",
   "metadata": {},
   "source": [
    "Converting this data to a Dataset that can be used as a [`datatree`](larch.Model.datatree) \n",
    "is as simple as calling the [`from_idco`](larch.Model.dc.from_idco) constructor on the DataFrame."
   ]
  },
  {
   "cell_type": "code",
   "execution_count": null,
   "id": "6",
   "metadata": {},
   "outputs": [],
   "source": [
    "tree_co = lx.Dataset.dc.from_idco(data_co)\n",
    "tree_co"
   ]
  },
  {
   "cell_type": "markdown",
   "id": "7",
   "metadata": {},
   "source": [
    "### Example [idca](idca) data\n",
    "\n",
    "Here is a simple example of [idca](idca) data, which is a table of data with one row\n",
    "per alternative, and one column per variable.  This data can easily be read from a CSV\n",
    "and expressed as a pandas DataFrame with a two-level MultiIndex, where the first level\n",
    "contains the case id and the second level contains the alternative id."
   ]
  },
  {
   "cell_type": "code",
   "execution_count": null,
   "id": "8",
   "metadata": {},
   "outputs": [],
   "source": [
    "data_ca = pd.read_csv(\"example-data/tiny_idca.csv\", index_col=[\"caseid\", \"altid\"])\n",
    "data_ca"
   ]
  },
  {
   "cell_type": "markdown",
   "id": "9",
   "metadata": {},
   "source": [
    "As long as the DataFrame has a MultiIndex with two levels as described, \n",
    "the [`from_idca`](larch.Model.dc.construct.from_idca) constructor can be used to convert it to a Dataset that \n",
    "can be used as a `datatree` for a :class:`larch.Model`."
   ]
  },
  {
   "cell_type": "code",
   "execution_count": null,
   "id": "10",
   "metadata": {},
   "outputs": [],
   "source": [
    "tree_ca = lx.Dataset.dc.from_idca(data_ca)\n",
    "tree_ca"
   ]
  },
  {
   "cell_type": "markdown",
   "id": "11",
   "metadata": {},
   "source": [
    "You may have noticed in the result shown above that the [`from_idca`](larch.Model.dc.from_idca) constructor\n",
    "does not simply transform the DataFrame into a Dataset.  In addition to the \n",
    "transformation, [`from_idca`](larch.Model.dc.from_idca) also analyzed the data and determined\n",
    "that the \"Income\" variable has no variation across alternatives, and so it was\n",
    "collapsed into a [idca](idca) variable."
   ]
  }
 ],
 "metadata": {
  "kernelspec": {
   "display_name": "Python 3",
   "language": "python",
   "name": "python3"
  },
  "language_info": {
   "codemirror_mode": {
    "name": "ipython",
    "version": 3
   },
   "file_extension": ".py",
   "mimetype": "text/x-python",
   "name": "python",
   "nbconvert_exporter": "python",
   "pygments_lexer": "ipython3",
   "version": "3.10.14"
  }
 },
 "nbformat": 4,
 "nbformat_minor": 5
}
