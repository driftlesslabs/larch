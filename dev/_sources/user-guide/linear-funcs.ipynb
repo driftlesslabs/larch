{
 "cells": [
  {
   "cell_type": "code",
   "execution_count": null,
   "id": "0",
   "metadata": {
    "tags": [
     "remove-cell"
    ]
   },
   "outputs": [],
   "source": [
    "import larch as lx\n",
    "\n",
    "lx.__version__"
   ]
  },
  {
   "cell_type": "markdown",
   "id": "1",
   "metadata": {
    "tags": []
   },
   "source": [
    "(linear-funcs)=\n",
    "# Linear Functions"
   ]
  },
  {
   "cell_type": "markdown",
   "id": "2",
   "metadata": {},
   "source": [
    "In many discrete choice models, the \n",
    "probability of selecting any particular alternative is represented as\n",
    "some function based on the utility of the various alternatives. \n",
    "\n",
    "In Larch, the utility is created based on one or more linear-in-parameters\n",
    "functions, which combine raw or pre-computed data values with \n",
    "named model parameters.  To facilitate writing these functions,\n",
    "Larch provides two special classes: parameter references (`P`) and\n",
    "data references (`X`)."
   ]
  },
  {
   "cell_type": "code",
   "execution_count": null,
   "id": "3",
   "metadata": {},
   "outputs": [],
   "source": [
    "from larch import P, X"
   ]
  },
  {
   "cell_type": "markdown",
   "id": "4",
   "metadata": {},
   "source": [
    "Parameter and data references can be defined using either a function-like notation,\n",
    "or a attribute-like notation."
   ]
  },
  {
   "cell_type": "code",
   "execution_count": null,
   "id": "5",
   "metadata": {},
   "outputs": [],
   "source": [
    "P(\"NamedParameter\")"
   ]
  },
  {
   "cell_type": "code",
   "execution_count": null,
   "id": "6",
   "metadata": {
    "tags": [
     "remove-cell"
    ]
   },
   "outputs": [],
   "source": [
    "# TEST\n",
    "named_param = P(\"NamedParameter\")\n",
    "assert isinstance(named_param, lx.model.linear.ParameterRef)\n",
    "assert named_param == \"NamedParameter\""
   ]
  },
  {
   "cell_type": "code",
   "execution_count": null,
   "id": "7",
   "metadata": {},
   "outputs": [],
   "source": [
    "X.NamedDataValue"
   ]
  },
  {
   "cell_type": "code",
   "execution_count": null,
   "id": "8",
   "metadata": {
    "tags": [
     "remove-cell"
    ]
   },
   "outputs": [],
   "source": [
    "# TEST\n",
    "named_data = X.NamedDataValue\n",
    "assert isinstance(named_data, lx.model.linear.DataRef)\n",
    "assert named_data == \"NamedDataValue\""
   ]
  },
  {
   "cell_type": "markdown",
   "id": "9",
   "metadata": {},
   "source": [
    "In either case, if the named value contains any spaces or non-alphanumeric characters,\n",
    "it must be given in function-like notation only, as Python will not accept\n",
    "those characters in the attribute-like form."
   ]
  },
  {
   "cell_type": "code",
   "execution_count": null,
   "id": "10",
   "metadata": {},
   "outputs": [],
   "source": [
    "P(\"Named Parameter\")"
   ]
  },
  {
   "cell_type": "code",
   "execution_count": null,
   "id": "11",
   "metadata": {
    "tags": [
     "remove-cell"
    ]
   },
   "outputs": [],
   "source": [
    "# TEST\n",
    "named_param = P(\"Named Parameter\")\n",
    "assert isinstance(named_param, lx.model.linear.ParameterRef)\n",
    "assert named_param == \"Named Parameter\""
   ]
  },
  {
   "cell_type": "markdown",
   "id": "12",
   "metadata": {},
   "source": [
    "Data references can name an exact data element that appears in the data used for \n",
    "model estimation or application, or can include simple transformations of that data, so long\n",
    "as these transformations can be done without regard to any estimated parameter.\n",
    "For example, we can use the log of income:"
   ]
  },
  {
   "cell_type": "code",
   "execution_count": null,
   "id": "13",
   "metadata": {},
   "outputs": [],
   "source": [
    "X(\"log(INCOME)\")"
   ]
  },
  {
   "cell_type": "markdown",
   "id": "14",
   "metadata": {},
   "source": [
    "To write a linear-in-parameters utility function, we simply multiply together\n",
    "a parameter reference and a data reference, and then optionally add that\n",
    "to one or more similar terms."
   ]
  },
  {
   "cell_type": "code",
   "execution_count": null,
   "id": "15",
   "metadata": {},
   "outputs": [],
   "source": [
    "P.InVehTime * X.AUTO_TIME + P.Cost * X.AUTO_COST"
   ]
  },
  {
   "cell_type": "markdown",
   "id": "16",
   "metadata": {},
   "source": [
    "It is permissible to omit the data reference on a term \n",
    "(in which case it is implicitly set to 1.0)."
   ]
  },
  {
   "cell_type": "code",
   "execution_count": null,
   "id": "17",
   "metadata": {},
   "outputs": [],
   "source": [
    "P.ASC + P.InVehTime * X.AUTO_TIME + P.Cost * X.AUTO_COST"
   ]
  },
  {
   "cell_type": "markdown",
   "id": "18",
   "metadata": {},
   "source": [
    "On the other hand, Larch does not currently permit you to omit the parameter \n",
    "reference from a term.  "
   ]
  },
  {
   "cell_type": "code",
   "execution_count": null,
   "id": "19",
   "metadata": {
    "tags": [
     "raises-exception"
    ]
   },
   "outputs": [],
   "source": [
    "P.InVehTime * X.AUTO_TIME + P.Cost * X.AUTO_COST + X.GEN_COST"
   ]
  },
  {
   "cell_type": "markdown",
   "id": "20",
   "metadata": {},
   "source": [
    "Although you cannot include a term with an implicit parameter set to 1,\n",
    "you can achieve the same model structure by including that parameter *explicitly*.\n",
    "Later in the model setup process you can explicitly lock any parameter to\n",
    "have a specific fixed value."
   ]
  },
  {
   "cell_type": "code",
   "execution_count": null,
   "id": "21",
   "metadata": {},
   "outputs": [],
   "source": [
    "P.InVehTime * X.AUTO_TIME + P.Cost * X.AUTO_COST + X.GEN_COST * P.One"
   ]
  },
  {
   "cell_type": "code",
   "execution_count": null,
   "id": "22",
   "metadata": {
    "tags": [
     "remove-cell"
    ]
   },
   "outputs": [],
   "source": [
    "# TEST\n",
    "f = P.InVehTime * X.AUTO_TIME + P.Cost * X.AUTO_COST + X.GEN_COST * P.One\n",
    "assert len(f) == 3"
   ]
  },
  {
   "cell_type": "markdown",
   "id": "23",
   "metadata": {},
   "source": [
    "In addition to writing out a linear function as a single command, you can also compose\n",
    "such functions over several Python commands, using both in-place and regular addition."
   ]
  },
  {
   "cell_type": "code",
   "execution_count": null,
   "id": "24",
   "metadata": {},
   "outputs": [],
   "source": [
    "f = P.ASC + P.InVehTime * X.AUTO_TIME\n",
    "f += P.Cost * X.AUTO_COST\n",
    "f"
   ]
  },
  {
   "cell_type": "code",
   "execution_count": null,
   "id": "25",
   "metadata": {},
   "outputs": [],
   "source": [
    "f + P.Cost * X.AUTO_TOLL"
   ]
  },
  {
   "cell_type": "markdown",
   "id": "26",
   "metadata": {},
   "source": [
    "Functional simplification is not automatic.  Thus, while you can subtract term from\n",
    "a linear function, it does not cancel out existing terms from the function."
   ]
  },
  {
   "cell_type": "code",
   "execution_count": null,
   "id": "27",
   "metadata": {},
   "outputs": [],
   "source": [
    "f = P.ASC + P.InVehTime * X.AUTO_TIME\n",
    "f - P.InVehTime * X.AUTO_TIME"
   ]
  },
  {
   "cell_type": "markdown",
   "id": "28",
   "metadata": {},
   "source": [
    "Instead, to actually remove terms from a linear function, use the `remove_param` or `remove_data` methods."
   ]
  },
  {
   "cell_type": "code",
   "execution_count": null,
   "id": "29",
   "metadata": {},
   "outputs": [],
   "source": [
    "f = P.ASC + P.InVehTime * X.AUTO_TIME + P.Cost * X.AUTO_TOLL\n",
    "f.remove_param(P.InVehTime)"
   ]
  },
  {
   "cell_type": "code",
   "execution_count": null,
   "id": "30",
   "metadata": {
    "tags": [
     "remove-cell"
    ]
   },
   "outputs": [],
   "source": [
    "# TEST\n",
    "assert len(f) == 2\n",
    "assert f[0].param == \"ASC\"\n",
    "assert f[1].param == \"Cost\""
   ]
  },
  {
   "cell_type": "code",
   "execution_count": null,
   "id": "31",
   "metadata": {},
   "outputs": [],
   "source": [
    "f = P.ASC + P.InVehTime * X.AUTO_TIME + P.Cost * X.AUTO_TOLL\n",
    "f.remove_data(\"AUTO_TOLL\")"
   ]
  },
  {
   "cell_type": "code",
   "execution_count": null,
   "id": "32",
   "metadata": {
    "tags": [
     "remove-cell"
    ]
   },
   "outputs": [],
   "source": [
    "# TEST\n",
    "assert len(f) == 2\n",
    "assert f[0].param == \"ASC\"\n",
    "assert f[1].param == \"InVehTime\""
   ]
  }
 ],
 "metadata": {
  "celltoolbar": "Tags",
  "kernelspec": {
   "display_name": "Python 3 (ipykernel)",
   "language": "python",
   "name": "python3"
  },
  "language_info": {
   "codemirror_mode": {
    "name": "ipython",
    "version": 3
   },
   "file_extension": ".py",
   "mimetype": "text/x-python",
   "name": "python",
   "nbconvert_exporter": "python",
   "pygments_lexer": "ipython3",
   "version": "3.10.6"
  },
  "toc": {
   "base_numbering": 1,
   "nav_menu": {},
   "number_sections": false,
   "sideBar": true,
   "skip_h1_title": false,
   "title_cell": "Table of Contents",
   "title_sidebar": "Contents",
   "toc_cell": false,
   "toc_position": {},
   "toc_section_display": true,
   "toc_window_display": false
  }
 },
 "nbformat": 4,
 "nbformat_minor": 5
}
