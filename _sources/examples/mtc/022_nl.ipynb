{
 "cells": [
  {
   "cell_type": "markdown",
   "id": "25dfc0ea",
   "metadata": {},
   "source": [
    "# 22: MTC Motorized and Non-Motorized Nested Mode Choice"
   ]
  },
  {
   "cell_type": "code",
   "execution_count": null,
   "id": "8447f6d1",
   "metadata": {
    "tags": [
     "remove_cell"
    ]
   },
   "outputs": [],
   "source": [
    "# TEST\n",
    "import numpy as np\n",
    "import pandas as pd\n",
    "\n",
    "import larch as lx\n",
    "\n",
    "pd.set_option(\"display.max_columns\", 999)\n",
    "pd.set_option(\"expand_frame_repr\", False)\n",
    "pd.set_option(\"display.precision\", 3)"
   ]
  },
  {
   "cell_type": "code",
   "execution_count": null,
   "id": "22c249f7",
   "metadata": {},
   "outputs": [],
   "source": [
    "import larch as lx\n",
    "\n",
    "lx.__version__"
   ]
  },
  {
   "cell_type": "code",
   "execution_count": null,
   "id": "ef24ae7c",
   "metadata": {},
   "outputs": [],
   "source": [
    "m = lx.example(17)\n",
    "m.compute_engine = \"numba\""
   ]
  },
  {
   "cell_type": "markdown",
   "id": "142cc945",
   "metadata": {},
   "source": [
    "For this example, we're going to re-create model 22 from the\n",
    "[Self Instructing Manual](http://www.caee.utexas.edu/prof/Bhat/COURSES/LM_Draft_060131Final-060630.pdf).\n",
    "(pp. 179)"
   ]
  },
  {
   "cell_type": "code",
   "execution_count": null,
   "id": "b98cfa74",
   "metadata": {},
   "outputs": [],
   "source": [
    "motorized = m.graph.new_node(\n",
    "    parameter=\"mu_motor\", children=[1, 2, 3, 4], name=\"Motorized\"\n",
    ")\n",
    "nonmotorized = m.graph.new_node(\n",
    "    parameter=\"mu_nonmotor\", children=[5, 6], name=\"Nonmotorized\"\n",
    ")"
   ]
  },
  {
   "cell_type": "code",
   "execution_count": null,
   "id": "d261bced",
   "metadata": {},
   "outputs": [],
   "source": [
    "m.ordering = (\n",
    "    (\n",
    "        \"CostbyInc\",\n",
    "        \"costbyincome\",\n",
    "    ),\n",
    "    (\n",
    "        \"TravelTime\",\n",
    "        \".*time.*\",\n",
    "        \".*dist.*\",\n",
    "    ),\n",
    "    (\n",
    "        \"Household\",\n",
    "        \"hhinc.*\",\n",
    "        \"vehbywrk.*\",\n",
    "    ),\n",
    "    (\n",
    "        \"Zonal\",\n",
    "        \"wkcbd.*\",\n",
    "        \"wkempden.*\",\n",
    "    ),\n",
    "    (\n",
    "        \"ASCs\",\n",
    "        \"ASC.*\",\n",
    "    ),\n",
    ")"
   ]
  },
  {
   "cell_type": "code",
   "execution_count": null,
   "id": "4707b416",
   "metadata": {},
   "outputs": [],
   "source": [
    "m.graph"
   ]
  },
  {
   "cell_type": "code",
   "execution_count": null,
   "id": "5ea6686e",
   "metadata": {},
   "outputs": [],
   "source": [
    "mj = m.copy()\n",
    "mj.compute_engine = \"jax\""
   ]
  },
  {
   "cell_type": "markdown",
   "id": "a12522eb",
   "metadata": {},
   "source": [
    "The numba and jax compute engines give us the same result, but they have\n",
    "different performance characteristics: \n",
    "\n",
    "**numba**\n",
    "- compile time is quite short and required only once per session,\n",
    "- run time is pretty good\n",
    "    \n",
    "**jax**\n",
    "- compile time is relatively long and required for every change in the model structure\n",
    "- run time is blazing fast\n",
    "\n",
    "For small models with relatively small data sets and simple structures,\n",
    "the numba engine will typically be preferred.  As data size or model complexity\n",
    "grows, the optimizations achievable in jax compilation become more valuable."
   ]
  },
  {
   "cell_type": "code",
   "execution_count": null,
   "id": "a6385cca",
   "metadata": {},
   "outputs": [],
   "source": [
    "result = m.maximize_loglike(method=\"bhhh\")"
   ]
  },
  {
   "cell_type": "code",
   "execution_count": null,
   "id": "86797532",
   "metadata": {
    "tags": [
     "remove_cell"
    ]
   },
   "outputs": [],
   "source": [
    "# TEST\n",
    "r = result\n",
    "from pytest import approx\n",
    "\n",
    "assert r.loglike == approx(-3441.6725273276093, rel=1e-4)\n",
    "assert dict(zip(m.pnames, r.x)) == approx(\n",
    "    {\n",
    "        \"ASC_Bike\": -1.2024073703132545,\n",
    "        \"ASC_SR2\": -1.3257247399188727,\n",
    "        \"ASC_SR3+\": -2.506936202874175,\n",
    "        \"ASC_Transit\": -0.4041442821263078,\n",
    "        \"ASC_Walk\": 0.3447191316975722,\n",
    "        \"costbyincome\": -0.03864412094110262,\n",
    "        \"hhinc#4\": -0.003929601755651791,\n",
    "        \"hhinc#5\": -0.010035112486480783,\n",
    "        \"hhinc#6\": -0.006205979434206748,\n",
    "        \"motorized_ovtbydist\": -0.11389194935358538,\n",
    "        \"motorized_time\": -0.014518697124195973,\n",
    "        \"mu_motor\": 0.7261696323637531,\n",
    "        \"mu_nonmotor\": 0.7690391629698575,\n",
    "        \"nonmotorized_time\": -0.046200685225646534,\n",
    "        \"vehbywrk_Bike\": -0.7347520730837045,\n",
    "        \"vehbywrk_SR\": -0.22598417504565899,\n",
    "        \"vehbywrk_Transit\": -0.7075038510739201,\n",
    "        \"vehbywrk_Walk\": -0.7641289876632265,\n",
    "        \"wkcbd_Bike\": 0.4077477599180845,\n",
    "        \"wkcbd_SR2\": 0.1930608067123969,\n",
    "        \"wkcbd_SR3+\": 0.7814124041724411,\n",
    "        \"wkcbd_Transit\": 0.9217986579385763,\n",
    "        \"wkcbd_Walk\": 0.11364443225208345,\n",
    "        \"wkempden_Bike\": 0.0016747777566393732,\n",
    "        \"wkempden_SR2\": 0.0011502120827767475,\n",
    "        \"wkempden_SR3+\": 0.0016390812178071399,\n",
    "        \"wkempden_Transit\": 0.0022379922179423173,\n",
    "        \"wkempden_Walk\": 0.0021706844461508662,\n",
    "    },\n",
    "    rel=1e-2,\n",
    ")"
   ]
  },
  {
   "cell_type": "code",
   "execution_count": null,
   "id": "78506ed5",
   "metadata": {},
   "outputs": [],
   "source": [
    "m.calculate_parameter_covariance()\n",
    "m.parameter_summary()"
   ]
  },
  {
   "cell_type": "code",
   "execution_count": null,
   "id": "f2000fd0",
   "metadata": {
    "tags": [
     "remove_cell"
    ]
   },
   "outputs": [],
   "source": [
    "# TEST\n",
    "expected_se = pd.Series(\n",
    "    {\n",
    "        \"ASC_Bike\": 0.416852464751687,\n",
    "        \"ASC_SR2\": 0.2545998857743335,\n",
    "        \"ASC_SR3+\": 0.4749098839206808,\n",
    "        \"ASC_Transit\": 0.2211891608590185,\n",
    "        \"ASC_Walk\": 0.35780565829941885,\n",
    "        \"costbyincome\": 0.010368875452431911,\n",
    "        \"hhinc#4\": 0.0016122509691149048,\n",
    "        \"hhinc#5\": 0.004650739659998643,\n",
    "        \"hhinc#6\": 0.00302148217700312,\n",
    "        \"motorized_ovtbydist\": 0.021102031065567364,\n",
    "        \"motorized_time\": 0.003865662496250571,\n",
    "        \"mu_motor\": 0.13491012665162105,\n",
    "        \"mu_nonmotor\": 0.1785021270767945,\n",
    "        \"nonmotorized_time\": 0.005396871957201883,\n",
    "        \"vehbywrk_Bike\": 0.22879172995664934,\n",
    "        \"vehbywrk_SR\": 0.06504869465180056,\n",
    "        \"vehbywrk_Transit\": 0.14983034511610385,\n",
    "        \"vehbywrk_Walk\": 0.1633867246456,\n",
    "        \"wkcbd_Bike\": 0.3276503369966752,\n",
    "        \"wkcbd_SR2\": 0.09619096122973834,\n",
    "        \"wkcbd_SR3+\": 0.19983327839835419,\n",
    "        \"wkcbd_Transit\": 0.2218432314826066,\n",
    "        \"wkcbd_Walk\": 0.23643542277462148,\n",
    "        \"wkempden_Bike\": 0.0010873335879477298,\n",
    "        \"wkempden_SR2\": 0.00035425322602890654,\n",
    "        \"wkempden_SR3+\": 0.0004487422174289541,\n",
    "        \"wkempden_Transit\": 0.0005072868584578029,\n",
    "        \"wkempden_Walk\": 0.0007623255600411431,\n",
    "    },\n",
    "    name=\"t_stat\",\n",
    ")\n",
    "pd.testing.assert_series_equal(\n",
    "    m.parameters.std_err.to_series(), expected_se, rtol=5.0e-2, check_names=False\n",
    ")"
   ]
  },
  {
   "cell_type": "code",
   "execution_count": null,
   "id": "5fe1fcd8",
   "metadata": {},
   "outputs": [],
   "source": [
    "resultj = mj.maximize_loglike(stderr=True)"
   ]
  },
  {
   "cell_type": "code",
   "execution_count": null,
   "id": "3bc50fe2",
   "metadata": {
    "tags": [
     "remove_cell"
    ]
   },
   "outputs": [],
   "source": [
    "# TEST\n",
    "r = resultj\n",
    "from pytest import approx\n",
    "\n",
    "assert r.loglike == approx(-3441.6725273276093)\n",
    "assert dict(zip(mj.pnames, r.x)) == approx(\n",
    "    {\n",
    "        \"ASC_Bike\": -1.2024073703132545,\n",
    "        \"ASC_SR2\": -1.3257247399188727,\n",
    "        \"ASC_SR3+\": -2.506936202874175,\n",
    "        \"ASC_Transit\": -0.4041442821263078,\n",
    "        \"ASC_Walk\": 0.3447191316975722,\n",
    "        \"costbyincome\": -0.03864412094110262,\n",
    "        \"hhinc#4\": -0.003929601755651791,\n",
    "        \"hhinc#5\": -0.010035112486480783,\n",
    "        \"hhinc#6\": -0.006205979434206748,\n",
    "        \"motorized_ovtbydist\": -0.11389194935358538,\n",
    "        \"motorized_time\": -0.014518697124195973,\n",
    "        \"mu_motor\": 0.7261696323637531,\n",
    "        \"mu_nonmotor\": 0.7690391629698575,\n",
    "        \"nonmotorized_time\": -0.046200685225646534,\n",
    "        \"vehbywrk_Bike\": -0.7347520730837045,\n",
    "        \"vehbywrk_SR\": -0.22598417504565899,\n",
    "        \"vehbywrk_Transit\": -0.7075038510739201,\n",
    "        \"vehbywrk_Walk\": -0.7641289876632265,\n",
    "        \"wkcbd_Bike\": 0.4077477599180845,\n",
    "        \"wkcbd_SR2\": 0.1930608067123969,\n",
    "        \"wkcbd_SR3+\": 0.7814124041724411,\n",
    "        \"wkcbd_Transit\": 0.9217986579385763,\n",
    "        \"wkcbd_Walk\": 0.11364443225208345,\n",
    "        \"wkempden_Bike\": 0.0016747777566393732,\n",
    "        \"wkempden_SR2\": 0.0011502120827767475,\n",
    "        \"wkempden_SR3+\": 0.0016390812178071399,\n",
    "        \"wkempden_Transit\": 0.0022379922179423173,\n",
    "        \"wkempden_Walk\": 0.0021706844461508662,\n",
    "    },\n",
    "    rel=1e-2,\n",
    ")\n",
    "assert mj.pstderr == approx(\n",
    "    np.array(\n",
    "        [\n",
    "            4.168558e-01,\n",
    "            2.545745e-01,\n",
    "            4.749014e-01,\n",
    "            2.212087e-01,\n",
    "            3.577894e-01,\n",
    "            1.036857e-02,\n",
    "            1.612386e-03,\n",
    "            4.650531e-03,\n",
    "            3.021172e-03,\n",
    "            2.110203e-02,\n",
    "            3.866330e-03,\n",
    "            1.349138e-01,\n",
    "            1.784958e-01,\n",
    "            5.396660e-03,\n",
    "            2.287765e-01,\n",
    "            6.506080e-02,\n",
    "            1.498349e-01,\n",
    "            1.633791e-01,\n",
    "            3.276509e-01,\n",
    "            9.619242e-02,\n",
    "            1.998420e-01,\n",
    "            2.218623e-01,\n",
    "            2.364309e-01,\n",
    "            1.087425e-03,\n",
    "            3.542897e-04,\n",
    "            4.488141e-04,\n",
    "            5.073145e-04,\n",
    "            7.623227e-04,\n",
    "        ],\n",
    "        dtype=np.float32,\n",
    "    ),\n",
    "    rel=1e-2,\n",
    ")"
   ]
  }
 ],
 "metadata": {
  "kernelspec": {
   "display_name": "Python 3 (ipykernel)",
   "language": "python",
   "name": "python3"
  },
  "language_info": {
   "codemirror_mode": {
    "name": "ipython",
    "version": 3
   },
   "file_extension": ".py",
   "mimetype": "text/x-python",
   "name": "python",
   "nbconvert_exporter": "python",
   "pygments_lexer": "ipython3",
   "version": "3.10.6"
  },
  "toc": {
   "base_numbering": 1,
   "nav_menu": {},
   "number_sections": false,
   "sideBar": true,
   "skip_h1_title": false,
   "title_cell": "Table of Contents",
   "title_sidebar": "Contents",
   "toc_cell": false,
   "toc_position": {},
   "toc_section_display": true,
   "toc_window_display": false
  }
 },
 "nbformat": 4,
 "nbformat_minor": 5
}
