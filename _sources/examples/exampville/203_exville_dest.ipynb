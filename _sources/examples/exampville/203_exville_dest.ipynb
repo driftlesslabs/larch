{
 "cells": [
  {
   "cell_type": "markdown",
   "metadata": {
    "pycharm": {
     "name": "#%% md\n"
    }
   },
   "source": [
    "# 203: Exampville Destination Choice\n",
    "\n",
    "Welcome to Exampville, the best simulated town in this here part of the internet!\n",
    "\n",
    "Exampville is a demonstration provided with Larch that walks through some of the \n",
    "data and tools that a transportation planner might use when building a travel model. "
   ]
  },
  {
   "cell_type": "code",
   "execution_count": null,
   "metadata": {
    "pycharm": {
     "name": "#%%\n"
    },
    "tags": [
     "remove_cell"
    ]
   },
   "outputs": [],
   "source": [
    "# TEST\n",
    "import warnings\n",
    "\n",
    "from pytest import approx\n",
    "\n",
    "import larch as lx\n",
    "\n",
    "warnings.filterwarnings(action=\"ignore\", category=FutureWarning)"
   ]
  },
  {
   "cell_type": "code",
   "execution_count": null,
   "metadata": {
    "pycharm": {
     "name": "#%%\n"
    }
   },
   "outputs": [],
   "source": [
    "import numpy as np\n",
    "import pandas as pd\n",
    "\n",
    "import larch as lx\n",
    "from larch import P, X"
   ]
  },
  {
   "cell_type": "markdown",
   "metadata": {
    "pycharm": {
     "name": "#%% md\n"
    }
   },
   "source": [
    "In this example notebook, we will walk through the estimation of a tour \n",
    "destination choice model.  First, let's load the data files from\n",
    "our example."
   ]
  },
  {
   "cell_type": "code",
   "execution_count": null,
   "metadata": {
    "pycharm": {
     "name": "#%%\n"
    }
   },
   "outputs": [],
   "source": [
    "hh, pp, tour, skims, emp = lx.example(200, [\"hh\", \"pp\", \"tour\", \"skims\", \"emp\"])"
   ]
  },
  {
   "cell_type": "code",
   "execution_count": null,
   "metadata": {
    "pycharm": {
     "name": "#%%\n"
    }
   },
   "outputs": [],
   "source": [
    "hh[\"INCOME_GRP\"] = pd.qcut(hh.INCOME, 3)"
   ]
  },
  {
   "cell_type": "markdown",
   "metadata": {
    "pycharm": {
     "name": "#%% md\n"
    }
   },
   "source": [
    "For this destination choice model, we'll want to use the mode choice\n",
    "logsums we calculated previously from the mode choice estimation,\n",
    "but we'll use these values as fixed input data instead of a modeled value.\n",
    "We can load these logsums from the file in which they were saved. \n",
    "For this example, we can indentify that file using the `larch.example` \n",
    "function, which will automatically rebuild the file if it doesn't exists.\n",
    "In typical applications, a user would generally just give the filename \n",
    "as a string and ensure manually that the file exists before loading it."
   ]
  },
  {
   "cell_type": "code",
   "execution_count": null,
   "metadata": {
    "pycharm": {
     "name": "#%%\n"
    }
   },
   "outputs": [],
   "source": [
    "logsums_file = lx.example(202, output_file=\"logsums.zarr\")\n",
    "logsums = lx.DataArray.from_zarr(\"logsums.zarr\")"
   ]
  },
  {
   "cell_type": "markdown",
   "metadata": {
    "pycharm": {
     "name": "#%% md\n"
    }
   },
   "source": [
    "## Preprocessing"
   ]
  },
  {
   "cell_type": "markdown",
   "metadata": {
    "pycharm": {
     "name": "#%% md\n"
    }
   },
   "source": [
    "The alternatives in\n",
    "the destinations model are much more regular than in the mode choice \n",
    "model, as every observation will have a similar set of alternatives\n",
    "and the utility function for each of those alternatives will share a \n",
    "common functional form.  We'll leverage this by using `idca` format \n",
    "arrays in our DataTree to make data management simpler.  \n",
    "\n",
    "The base array we'll start with will have two dimensions, cases and\n",
    "alternatives, anc be formed from the logsums we loaded above."
   ]
  },
  {
   "cell_type": "code",
   "execution_count": null,
   "metadata": {
    "pycharm": {
     "name": "#%%\n"
    }
   },
   "outputs": [],
   "source": [
    "ca = lx.Dataset.construct(\n",
    "    {\"logsum\": logsums},\n",
    "    caseid=\"TOURID\",\n",
    "    alts=skims.TAZ_ID,\n",
    ")\n",
    "ca"
   ]
  },
  {
   "cell_type": "markdown",
   "metadata": {
    "pycharm": {
     "name": "#%% md\n"
    }
   },
   "source": [
    "For our destination choice model, we'll also want to use employment data.\n",
    "This data, as included in our example, has unique \n",
    "values only by alternative and not by caseid, so there are only\n",
    "40 unique rows.\n",
    "(This kind of structure is common for destination choice models.)"
   ]
  },
  {
   "cell_type": "code",
   "execution_count": null,
   "metadata": {
    "pycharm": {
     "name": "#%%\n"
    }
   },
   "outputs": [],
   "source": [
    "emp.info()"
   ]
  },
  {
   "cell_type": "markdown",
   "metadata": {
    "pycharm": {
     "name": "#%% md\n"
    }
   },
   "source": [
    "Then we bundle all our raw data into a `DataTree` structure, \n",
    "which is used to collect the right data for estimation.  The\n",
    "Larch DataTree is a slightly augmented version of the regular\n",
    "`sharrow.DataTree`."
   ]
  },
  {
   "cell_type": "code",
   "execution_count": null,
   "metadata": {
    "pycharm": {
     "name": "#%%\n"
    }
   },
   "outputs": [],
   "source": [
    "tree = lx.DataTree(\n",
    "    base=ca,\n",
    "    tour=tour.rename_axis(index=\"TOUR_ID\"),\n",
    "    hh=hh.set_index(\"HHID\"),\n",
    "    person=pp.set_index(\"PERSONID\"),\n",
    "    emp=emp,\n",
    "    skims=lx.Dataset.construct.from_omx(skims),\n",
    "    relationships=(\n",
    "        \"base.TAZ_ID @ emp.TAZ\",\n",
    "        \"base.TOURID -> tour.TOUR_ID\",\n",
    "        \"tour.HHID @ hh.HHID\",\n",
    "        \"tour.PERSONID @ person.PERSONID\",\n",
    "        \"hh.HOMETAZ @ skims.otaz\",\n",
    "        \"base.TAZ_ID @ skims.dtaz\",\n",
    "    ),\n",
    ")"
   ]
  },
  {
   "cell_type": "markdown",
   "metadata": {
    "pycharm": {
     "name": "#%% md\n"
    }
   },
   "source": [
    "## Model Definition\n",
    "\n",
    "Now we can define our choice model, using data from the tree as appropriate."
   ]
  },
  {
   "cell_type": "code",
   "execution_count": null,
   "metadata": {
    "pycharm": {
     "name": "#%%\n"
    }
   },
   "outputs": [],
   "source": [
    "m = lx.Model(datatree=tree)\n",
    "m.title = \"Exampville Work Tour Destination Choice v1\""
   ]
  },
  {
   "cell_type": "code",
   "execution_count": null,
   "metadata": {
    "pycharm": {
     "name": "#%%\n"
    }
   },
   "outputs": [],
   "source": [
    "m.quantity_ca = (\n",
    "    +P.EmpRetail_HighInc * X(\"RETAIL_EMP * (INCOME>50000)\")\n",
    "    + P.EmpNonRetail_HighInc * X(\"NONRETAIL_EMP\") * X(\"INCOME>50000\")\n",
    "    + P.EmpRetail_LowInc * X(\"RETAIL_EMP\") * X(\"INCOME<=50000\")\n",
    "    + P.EmpNonRetail_LowInc * X(\"NONRETAIL_EMP\") * X(\"INCOME<=50000\")\n",
    ")\n",
    "\n",
    "m.quantity_scale = P.Theta"
   ]
  },
  {
   "cell_type": "code",
   "execution_count": null,
   "metadata": {
    "pycharm": {
     "name": "#%%\n"
    }
   },
   "outputs": [],
   "source": [
    "m.utility_ca = +P.logsum * X.logsum + P.distance * X.AUTO_DIST"
   ]
  },
  {
   "cell_type": "code",
   "execution_count": null,
   "metadata": {
    "pycharm": {
     "name": "#%%\n"
    }
   },
   "outputs": [],
   "source": [
    "m.choice_co_code = \"tour.DTAZ\""
   ]
  },
  {
   "cell_type": "code",
   "execution_count": null,
   "metadata": {
    "pycharm": {
     "name": "#%%\n"
    }
   },
   "outputs": [],
   "source": [
    "m.plock(EmpRetail_HighInc=0, EmpRetail_LowInc=0)"
   ]
  },
  {
   "cell_type": "code",
   "execution_count": null,
   "metadata": {
    "pycharm": {
     "name": "#%%\n"
    }
   },
   "outputs": [],
   "source": [
    "mj = m.copy()"
   ]
  },
  {
   "cell_type": "markdown",
   "metadata": {
    "pycharm": {
     "name": "#%% md\n"
    }
   },
   "source": [
    "## Model Estimation"
   ]
  },
  {
   "cell_type": "code",
   "execution_count": null,
   "metadata": {
    "pycharm": {
     "name": "#%%\n"
    }
   },
   "outputs": [],
   "source": [
    "m.compute_engine = \"numba\""
   ]
  },
  {
   "cell_type": "code",
   "execution_count": null,
   "metadata": {
    "pycharm": {
     "name": "#%%\n"
    }
   },
   "outputs": [],
   "source": [
    "m.loglike()"
   ]
  },
  {
   "cell_type": "code",
   "execution_count": null,
   "metadata": {
    "pycharm": {
     "name": "#%%\n"
    },
    "tags": [
     "remove_cell"
    ]
   },
   "outputs": [],
   "source": [
    "# TEST\n",
    "assert m.loglike() == approx(-28238.336880999712)\n",
    "assert mj.loglike() == approx(-28238.336880999712)"
   ]
  },
  {
   "cell_type": "code",
   "execution_count": null,
   "metadata": {
    "pycharm": {
     "name": "#%%\n"
    }
   },
   "outputs": [],
   "source": [
    "m.d_loglike()"
   ]
  },
  {
   "cell_type": "code",
   "execution_count": null,
   "metadata": {
    "pycharm": {
     "name": "#%%\n"
    }
   },
   "outputs": [],
   "source": [
    "mj.d_loglike()"
   ]
  },
  {
   "cell_type": "code",
   "execution_count": null,
   "metadata": {
    "pycharm": {
     "name": "#%%\n"
    }
   },
   "outputs": [],
   "source": [
    "result = m.maximize_loglike(stderr=True)"
   ]
  },
  {
   "cell_type": "code",
   "execution_count": null,
   "metadata": {
    "pycharm": {
     "name": "#%%\n"
    },
    "tags": [
     "remove_cell"
    ]
   },
   "outputs": [],
   "source": [
    "# TEST\n",
    "assert result.loglike == approx(-25157.72676137825)\n",
    "assert result.success\n",
    "assert result.method == \"slsqp\"\n",
    "assert result.n_cases == 7564\n",
    "# assert result.iteration_number == 12\n",
    "assert result.logloss == approx(3.325981856342973)\n",
    "import pandas as pd\n",
    "\n",
    "pd.testing.assert_series_equal(\n",
    "    result.x.sort_index(),\n",
    "    pd.Series(\n",
    "        {\n",
    "            \"EmpNonRetail_HighInc\": 1.366494780535922,\n",
    "            \"EmpNonRetail_LowInc\": -0.8786830269346876,\n",
    "            \"EmpRetail_HighInc\": 0.0,\n",
    "            \"EmpRetail_LowInc\": 0.0,\n",
    "            \"Theta\": 0.7489479210277367,\n",
    "            \"distance\": -0.041624297118688966,\n",
    "            \"logsum\": 1.021914910506737,\n",
    "        }\n",
    "    ).sort_index(),\n",
    "    rtol=1e-3,\n",
    ")\n",
    "assert m.pstderr == approx(\n",
    "    np.array([0.256844, 0.079214, 0.0, 0.0, 0.015231, 0.010723, 0.031744]),\n",
    "    rel=1e-3,\n",
    ")"
   ]
  },
  {
   "cell_type": "code",
   "execution_count": null,
   "metadata": {
    "pycharm": {
     "name": "#%%\n"
    }
   },
   "outputs": [],
   "source": [
    "resultj = mj.maximize_loglike(stderr=True)"
   ]
  },
  {
   "cell_type": "code",
   "execution_count": null,
   "metadata": {
    "pycharm": {
     "name": "#%%\n"
    },
    "tags": [
     "remove_cell"
    ]
   },
   "outputs": [],
   "source": [
    "# TEST\n",
    "assert resultj.loglike == approx(-25157.72676137825)\n",
    "assert resultj.success\n",
    "assert resultj.n_cases == 7564\n",
    "# assert result.iteration_number == 12\n",
    "assert resultj.logloss == approx(3.325981856342973)\n",
    "import pandas as pd\n",
    "\n",
    "pd.testing.assert_series_equal(\n",
    "    pd.Series(resultj.x, index=mj.pnames).sort_index(),\n",
    "    pd.Series(\n",
    "        {\n",
    "            \"EmpNonRetail_HighInc\": 1.3639677867685673,\n",
    "            \"EmpNonRetail_LowInc\": -0.8813930080108792,\n",
    "            \"EmpRetail_HighInc\": 0.0,\n",
    "            \"EmpRetail_LowInc\": 0.0,\n",
    "            \"Theta\": 0.7493698789904475,\n",
    "            \"distance\": -0.04182074282571401,\n",
    "            \"logsum\": 1.0208113241683572,\n",
    "        }\n",
    "    ).sort_index(),\n",
    "    rtol=3e-3,\n",
    ")\n",
    "assert resultj.stderr == approx(\n",
    "    np.array(\n",
    "        [0.25549, 0.079105, 0.0, -0.0, 0.015231, 0.010724, 0.031738], dtype=np.float32\n",
    "    ),\n",
    "    rel=1e-2,\n",
    ")"
   ]
  },
  {
   "cell_type": "markdown",
   "metadata": {
    "pycharm": {
     "name": "#%% md\n"
    }
   },
   "source": [
    "## Model Visualization\n",
    "\n",
    "For destination choice and similar type models, it might be beneficial to\n",
    "review the observed and modeled choices, and the relative distribution of\n",
    "these choices across different factors.  For example, we would probably want\n",
    "to see the distribution of travel distance.  The `Model` object includes\n",
    "a built-in method to create this kind of visualization."
   ]
  },
  {
   "cell_type": "code",
   "execution_count": null,
   "metadata": {
    "pycharm": {
     "name": "#%%\n"
    }
   },
   "outputs": [],
   "source": []
  },
  {
   "cell_type": "code",
   "execution_count": null,
   "metadata": {
    "pycharm": {
     "name": "#%%\n"
    }
   },
   "outputs": [],
   "source": [
    "m.histogram_on_idca_variable(\"AUTO_DIST\")"
   ]
  },
  {
   "cell_type": "code",
   "execution_count": null,
   "metadata": {
    "pycharm": {
     "name": "#%%\n"
    }
   },
   "outputs": [],
   "source": [
    "m.histogram_on_idca_variable(\"RETAIL_EMP\")"
   ]
  },
  {
   "cell_type": "markdown",
   "metadata": {
    "pycharm": {
     "name": "#%% md\n"
    }
   },
   "source": [
    "The `histogram_on_idca_variable` has a variety of options,\n",
    "for example to control the number and range of the histogram bins:"
   ]
  },
  {
   "cell_type": "code",
   "execution_count": null,
   "metadata": {
    "pycharm": {
     "name": "#%%\n"
    }
   },
   "outputs": [],
   "source": [
    "m.histogram_on_idca_variable(\"AUTO_DIST\", bins=40, span=(0, 10))"
   ]
  },
  {
   "cell_type": "markdown",
   "metadata": {
    "pycharm": {
     "name": "#%% md\n"
    }
   },
   "source": [
    "Subsets of the observations can be pulled out, to observe the \n",
    "distribution conditional on other `idco` factors, like income."
   ]
  },
  {
   "cell_type": "code",
   "execution_count": null,
   "metadata": {
    "pycharm": {
     "name": "#%%\n"
    }
   },
   "outputs": [],
   "source": [
    "m.histogram_on_idca_variable(\n",
    "    \"AUTO_DIST\",\n",
    "    x_label=\"Distance (miles)\",\n",
    "    bins=26,\n",
    "    span=(0, 13),\n",
    "    filter_co=\"INCOME<10000\",\n",
    ")"
   ]
  },
  {
   "cell_type": "markdown",
   "metadata": {
    "pycharm": {
     "name": "#%% md\n"
    }
   },
   "source": [
    "## Save and Report Model"
   ]
  },
  {
   "cell_type": "code",
   "execution_count": null,
   "metadata": {
    "pycharm": {
     "name": "#%%\n"
    }
   },
   "outputs": [],
   "source": [
    "report = lx.Reporter(title=m.title)"
   ]
  },
  {
   "cell_type": "code",
   "execution_count": null,
   "metadata": {
    "pycharm": {
     "name": "#%%\n"
    }
   },
   "outputs": [],
   "source": [
    "report << \"# Parameter Summary\" << m.parameter_summary()"
   ]
  },
  {
   "cell_type": "code",
   "execution_count": null,
   "metadata": {
    "pycharm": {
     "name": "#%%\n"
    },
    "tags": [
     "remove_cell"
    ]
   },
   "outputs": [],
   "source": [
    "# TEST\n",
    "assert (\n",
    "    m.parameter_summary().data.to_markdown()\n",
    "    == \"\"\"\n",
    "| Parameter            |   Value |   Std Err | t Stat   | Signif   |   Null Value | Constrained   |\n",
    "|:---------------------|--------:|----------:|:---------|:---------|-------------:|:--------------|\n",
    "| EmpNonRetail_HighInc |  1.37   |    0.257  | 5.32     | ***      |            0 |               |\n",
    "| EmpNonRetail_LowInc  | -0.879  |    0.0792 | -11.09   | ***      |            0 |               |\n",
    "| EmpRetail_HighInc    |  0      |    0      | NA       |          |            0 | fixed value   |\n",
    "| EmpRetail_LowInc     |  0      |    0      | NA       |          |            0 | fixed value   |\n",
    "| Theta                |  0.749  |    0.0152 | -16.48   | ***      |            1 |               |\n",
    "| distance             | -0.0416 |    0.0107 | -3.88    | ***      |            0 |               |\n",
    "| logsum               |  1.02   |    0.0317 | 32.19    | ***      |            0 |               |\n",
    "\"\"\"[1:-1]\n",
    ")"
   ]
  },
  {
   "cell_type": "code",
   "execution_count": null,
   "metadata": {},
   "outputs": [],
   "source": [
    "report << \"# Parameter Summary\" << m.parameter_summary()"
   ]
  },
  {
   "cell_type": "code",
   "execution_count": null,
   "metadata": {
    "pycharm": {
     "name": "#%%\n"
    },
    "tags": [
     "remove_cell"
    ]
   },
   "outputs": [],
   "source": [
    "# TEST\n",
    "assert (\n",
    "    m.parameter_summary().data.to_markdown()\n",
    "    == \"\"\"\n",
    "| Parameter            |   Value |   Std Err | t Stat   | Signif   |   Null Value | Constrained   |\n",
    "|:---------------------|--------:|----------:|:---------|:---------|-------------:|:--------------|\n",
    "| EmpNonRetail_HighInc |  1.37   |    0.257  | 5.32     | ***      |            0 |               |\n",
    "| EmpNonRetail_LowInc  | -0.879  |    0.0792 | -11.09   | ***      |            0 |               |\n",
    "| EmpRetail_HighInc    |  0      |    0      | NA       |          |            0 | fixed value   |\n",
    "| EmpRetail_LowInc     |  0      |    0      | NA       |          |            0 | fixed value   |\n",
    "| Theta                |  0.749  |    0.0152 | -16.48   | ***      |            1 |               |\n",
    "| distance             | -0.0416 |    0.0107 | -3.88    | ***      |            0 |               |\n",
    "| logsum               |  1.02   |    0.0317 | 32.19    | ***      |            0 |               |\n",
    "\"\"\"[1:-1]\n",
    ")"
   ]
  },
  {
   "cell_type": "code",
   "execution_count": null,
   "metadata": {
    "pycharm": {
     "name": "#%%\n"
    }
   },
   "outputs": [],
   "source": [
    "report << \"# Estimation Statistics\" << m.estimation_statistics()"
   ]
  },
  {
   "cell_type": "code",
   "execution_count": null,
   "metadata": {
    "pycharm": {
     "name": "#%%\n"
    }
   },
   "outputs": [],
   "source": [
    "report << \"# Utility Functions\" << m.utility_functions()"
   ]
  },
  {
   "cell_type": "markdown",
   "metadata": {
    "pycharm": {
     "name": "#%% md\n"
    }
   },
   "source": [
    "The figures shown above can also be inserted directly into reports."
   ]
  },
  {
   "cell_type": "code",
   "execution_count": null,
   "metadata": {
    "pycharm": {
     "name": "#%%\n"
    }
   },
   "outputs": [],
   "source": [
    "figure = m.histogram_on_idca_variable(\n",
    "    \"AUTO_DIST\",\n",
    "    bins=30,\n",
    "    span=(0, 15),\n",
    "    x_label=\"Distance (miles)\",\n",
    ")\n",
    "report << \"# Visualization\"\n",
    "report << figure"
   ]
  },
  {
   "cell_type": "code",
   "execution_count": null,
   "metadata": {
    "pycharm": {
     "name": "#%%\n"
    }
   },
   "outputs": [],
   "source": [
    "report.save(\n",
    "    \"exampville_dest_choice.html\",\n",
    "    overwrite=True,\n",
    "    metadata=m.dumps(),\n",
    ")"
   ]
  }
 ],
 "metadata": {
  "kernelspec": {
   "display_name": "Python 3 (ipykernel)",
   "language": "python",
   "name": "python3"
  },
  "language_info": {
   "codemirror_mode": {
    "name": "ipython",
    "version": 3
   },
   "file_extension": ".py",
   "mimetype": "text/x-python",
   "name": "python",
   "nbconvert_exporter": "python",
   "pygments_lexer": "ipython3",
   "version": "3.9.10"
  },
  "toc": {
   "base_numbering": 1,
   "nav_menu": {},
   "number_sections": true,
   "sideBar": true,
   "skip_h1_title": false,
   "title_cell": "Table of Contents",
   "title_sidebar": "Contents",
   "toc_cell": false,
   "toc_position": {},
   "toc_section_display": true,
   "toc_window_display": false
  }
 },
 "nbformat": 4,
 "nbformat_minor": 4
}
